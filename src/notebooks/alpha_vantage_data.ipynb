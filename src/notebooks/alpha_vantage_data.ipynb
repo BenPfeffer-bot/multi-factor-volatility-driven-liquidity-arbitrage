{
 "cells": [
  {
   "cell_type": "code",
   "execution_count": 1,
   "metadata": {},
   "outputs": [],
   "source": [
    "import requests\n",
    "import pandas as pd\n",
    "import numpy as np\n",
    "import matplotlib.pyplot as plt\n",
    "import seaborn as sns\n",
    "import yfinance as yf\n",
    "import datetime\n",
    "import os\n",
    "from dotenv import load_dotenv\n",
    "\n",
    "load_dotenv()\n",
    "\n",
    "ALPHA_VANTAGE_API_KEY = os.getenv(\"ALPHA_VANTAGE_API_KEY\")\n",
    "\n",
    "from src.config.paths import *\n",
    "from src.config.settings import *\n"
   ]
  },
  {
   "cell_type": "code",
   "execution_count": 2,
   "metadata": {},
   "outputs": [],
   "source": [
    "# Some notes:\n",
    "# We're missing too much datas for eurostoxx 50, so we will uses different stocks for now\n",
    "# Dow Jones Global Titans 50 Index\n",
    "\n",
    "# Ticker information for Dow Jones Global Titans 50 Index\n",
    "# Bloomberg Ticker: DJGT\n",
    "# Reuters: .DJGT\n",
    "# Price Return: DJGT\n",
    "# Total Return: DJGTG\n",
    "# Net Total Return: DJGTT\n",
    "\n",
    "DJ_TITANS_50_TICKER = [\n",
    "    # \"MMM\",  # 3M\n",
    "    \"ABBV\", # AbbVie\n",
    "    \"ALIZY\", # Allianz #doesnt work\n",
    "    \"GOOG\", # Alphabet\n",
    "    \"AMZN\", # Amazon\n",
    "    \"AMGN\", # Amgen\n",
    "    \"BUD\",  # Anheuser-Busch InBev\n",
    "    \"AAPL\", # Apple\n",
    "    \"BHP\",  # BHP\n",
    "    \"BA\",   # Boeing\n",
    "    \"BP\",   # BP\n",
    "    \"BTI\",  # British American Tobacco\n",
    "    \"CVX\",  # Chevron\n",
    "    \"CSCO\", # Cisco\n",
    "    \"C\",    # Citigroup\n",
    "    \"KO\",   # Coca-Cola\n",
    "    \"DD\",   # DuPont\n",
    "    \"XOM\",  # ExxonMobil\n",
    "    \"META\", # Meta\n",
    "    \"GE\",   # General Electric\n",
    "    \"GSK\",  # GlaxoSmithKline\n",
    "    \"HSBC\", # HSBC\n",
    "    \"INTC\", # Intel\n",
    "    \"IBM\",  # IBM\n",
    "    \"JNJ\",  # Johnson & Johnson\n",
    "    \"JPM\",  # JPMorgan Chase\n",
    "    \"MA\",   # Mastercard\n",
    "    \"MCD\",  # McDonald's\n",
    "    \"MRK\",  # Merck\n",
    "    \"MSFT\", # Microsoft\n",
    "    \"NSRGY\", # Nestlé  #doesnt work\n",
    "    \"NVS\",  # Novartis\n",
    "    \"NVDA\", # Nvidia\n",
    "    \"ORCL\", # Oracle\n",
    "    \"PEP\",  # PepsiCo\n",
    "    \"PFE\",  # Pfizer\n",
    "    \"PM\",   # Philip Morris\n",
    "    \"PG\",   # Procter & Gamble\n",
    "    \"RHHBY\", # Roche  #doesnt work\n",
    "    \"RY\",   # Royal Bank of Canada\n",
    "    \"SHEL\", # Shell\n",
    "    \"SSNLF\", # Samsung  #doesnt work\n",
    "    \"SNY\",  # Sanofi\n",
    "    \"SIEGY\", # Siemens  #doesnt work\n",
    "    \"TSM\",  # TSMC\n",
    "    \"TTE\",  # TotalEnergies\n",
    "    \"V\",    # Visa\n",
    "    \"TM\",   # Toyota\n",
    "    \"WMT\",  # Walmart\n",
    "    \"DIS\",   # Disney\n",
    "    \"DJGT\"  # DJ Global Titans 50 Index  #doesnt work\n",
    "]"
   ]
  },
  {
   "cell_type": "code",
   "execution_count": 24,
   "metadata": {},
   "outputs": [
    {
     "name": "stdout",
     "output_type": "stream",
     "text": [
      "2025-02-17 12:10:33,408 - __main__ - INFO - Starting data fetch for MMM with 1min interval\n"
     ]
    },
    {
     "name": "stderr",
     "output_type": "stream",
     "text": [
      "2025-02-17 12:10:33,408 - INFO - Starting data fetch for MMM with 1min interval\n"
     ]
    },
    {
     "name": "stdout",
     "output_type": "stream",
     "text": [
      "2025-02-17 12:10:33,410 - __main__ - INFO - Using 1min interval - fetching data month by month for past year\n"
     ]
    },
    {
     "name": "stderr",
     "output_type": "stream",
     "text": [
      "2025-02-17 12:10:33,410 - INFO - Using 1min interval - fetching data month by month for past year\n"
     ]
    },
    {
     "name": "stdout",
     "output_type": "stream",
     "text": [
      "2025-02-17 12:10:33,411 - __main__ - INFO - Will fetch data for months: ['2025-02', '2025-01', '2024-12', '2024-11', '2024-10', '2024-09', '2024-08', '2024-07', '2024-06', '2024-05', '2024-04', '2024-03']\n"
     ]
    },
    {
     "name": "stderr",
     "output_type": "stream",
     "text": [
      "2025-02-17 12:10:33,411 - INFO - Will fetch data for months: ['2025-02', '2025-01', '2024-12', '2024-11', '2024-10', '2024-09', '2024-08', '2024-07', '2024-06', '2024-05', '2024-04', '2024-03']\n"
     ]
    },
    {
     "name": "stdout",
     "output_type": "stream",
     "text": [
      "2025-02-17 12:10:33,411 - __main__ - INFO - Fetching data for MMM - 2025-02\n"
     ]
    },
    {
     "name": "stderr",
     "output_type": "stream",
     "text": [
      "2025-02-17 12:10:33,411 - INFO - Fetching data for MMM - 2025-02\n"
     ]
    },
    {
     "name": "stdout",
     "output_type": "stream",
     "text": [
      "2025-02-17 12:10:34,423 - __main__ - INFO - Retrieved 5153 data points for 2025-02\n"
     ]
    },
    {
     "name": "stderr",
     "output_type": "stream",
     "text": [
      "2025-02-17 12:10:34,423 - INFO - Retrieved 5153 data points for 2025-02\n"
     ]
    },
    {
     "name": "stdout",
     "output_type": "stream",
     "text": [
      "2025-02-17 12:10:34,424 - __main__ - INFO - Fetching data for MMM - 2025-01\n"
     ]
    },
    {
     "name": "stderr",
     "output_type": "stream",
     "text": [
      "2025-02-17 12:10:34,424 - INFO - Fetching data for MMM - 2025-01\n"
     ]
    },
    {
     "name": "stdout",
     "output_type": "stream",
     "text": [
      "2025-02-17 12:10:35,365 - __main__ - INFO - Retrieved 11144 data points for 2025-01\n"
     ]
    },
    {
     "name": "stderr",
     "output_type": "stream",
     "text": [
      "2025-02-17 12:10:35,365 - INFO - Retrieved 11144 data points for 2025-01\n"
     ]
    },
    {
     "name": "stdout",
     "output_type": "stream",
     "text": [
      "2025-02-17 12:10:35,366 - __main__ - INFO - Fetching data for MMM - 2024-12\n"
     ]
    },
    {
     "name": "stderr",
     "output_type": "stream",
     "text": [
      "2025-02-17 12:10:35,366 - INFO - Fetching data for MMM - 2024-12\n"
     ]
    },
    {
     "name": "stdout",
     "output_type": "stream",
     "text": [
      "2025-02-17 12:10:36,524 - __main__ - INFO - Retrieved 10322 data points for 2024-12\n"
     ]
    },
    {
     "name": "stderr",
     "output_type": "stream",
     "text": [
      "2025-02-17 12:10:36,524 - INFO - Retrieved 10322 data points for 2024-12\n"
     ]
    },
    {
     "name": "stdout",
     "output_type": "stream",
     "text": [
      "2025-02-17 12:10:36,525 - __main__ - INFO - Fetching data for MMM - 2024-11\n"
     ]
    },
    {
     "name": "stderr",
     "output_type": "stream",
     "text": [
      "2025-02-17 12:10:36,525 - INFO - Fetching data for MMM - 2024-11\n"
     ]
    },
    {
     "name": "stdout",
     "output_type": "stream",
     "text": [
      "2025-02-17 12:10:37,556 - __main__ - INFO - Retrieved 10409 data points for 2024-11\n"
     ]
    },
    {
     "name": "stderr",
     "output_type": "stream",
     "text": [
      "2025-02-17 12:10:37,556 - INFO - Retrieved 10409 data points for 2024-11\n"
     ]
    },
    {
     "name": "stdout",
     "output_type": "stream",
     "text": [
      "2025-02-17 12:10:37,557 - __main__ - INFO - Fetching data for MMM - 2024-10\n"
     ]
    },
    {
     "name": "stderr",
     "output_type": "stream",
     "text": [
      "2025-02-17 12:10:37,557 - INFO - Fetching data for MMM - 2024-10\n"
     ]
    },
    {
     "name": "stdout",
     "output_type": "stream",
     "text": [
      "2025-02-17 12:10:38,501 - __main__ - INFO - Retrieved 12155 data points for 2024-10\n"
     ]
    },
    {
     "name": "stderr",
     "output_type": "stream",
     "text": [
      "2025-02-17 12:10:38,501 - INFO - Retrieved 12155 data points for 2024-10\n"
     ]
    },
    {
     "name": "stdout",
     "output_type": "stream",
     "text": [
      "2025-02-17 12:10:38,501 - __main__ - INFO - Fetching data for MMM - 2024-09\n"
     ]
    },
    {
     "name": "stderr",
     "output_type": "stream",
     "text": [
      "2025-02-17 12:10:38,501 - INFO - Fetching data for MMM - 2024-09\n"
     ]
    },
    {
     "name": "stdout",
     "output_type": "stream",
     "text": [
      "2025-02-17 12:10:39,446 - __main__ - INFO - Retrieved 9473 data points for 2024-09\n"
     ]
    },
    {
     "name": "stderr",
     "output_type": "stream",
     "text": [
      "2025-02-17 12:10:39,446 - INFO - Retrieved 9473 data points for 2024-09\n"
     ]
    },
    {
     "name": "stdout",
     "output_type": "stream",
     "text": [
      "2025-02-17 12:10:39,447 - __main__ - INFO - Fetching data for MMM - 2024-08\n"
     ]
    },
    {
     "name": "stderr",
     "output_type": "stream",
     "text": [
      "2025-02-17 12:10:39,447 - INFO - Fetching data for MMM - 2024-08\n"
     ]
    },
    {
     "name": "stdout",
     "output_type": "stream",
     "text": [
      "2025-02-17 12:10:40,588 - __main__ - INFO - Retrieved 12083 data points for 2024-08\n"
     ]
    },
    {
     "name": "stderr",
     "output_type": "stream",
     "text": [
      "2025-02-17 12:10:40,588 - INFO - Retrieved 12083 data points for 2024-08\n"
     ]
    },
    {
     "name": "stdout",
     "output_type": "stream",
     "text": [
      "2025-02-17 12:10:40,589 - __main__ - INFO - Fetching data for MMM - 2024-07\n"
     ]
    },
    {
     "name": "stderr",
     "output_type": "stream",
     "text": [
      "2025-02-17 12:10:40,589 - INFO - Fetching data for MMM - 2024-07\n"
     ]
    },
    {
     "name": "stdout",
     "output_type": "stream",
     "text": [
      "2025-02-17 12:10:41,818 - __main__ - INFO - Retrieved 12214 data points for 2024-07\n"
     ]
    },
    {
     "name": "stderr",
     "output_type": "stream",
     "text": [
      "2025-02-17 12:10:41,818 - INFO - Retrieved 12214 data points for 2024-07\n"
     ]
    },
    {
     "name": "stdout",
     "output_type": "stream",
     "text": [
      "2025-02-17 12:10:41,819 - __main__ - INFO - Fetching data for MMM - 2024-06\n"
     ]
    },
    {
     "name": "stderr",
     "output_type": "stream",
     "text": [
      "2025-02-17 12:10:41,819 - INFO - Fetching data for MMM - 2024-06\n"
     ]
    },
    {
     "name": "stdout",
     "output_type": "stream",
     "text": [
      "2025-02-17 12:10:42,696 - __main__ - INFO - Retrieved 10197 data points for 2024-06\n"
     ]
    },
    {
     "name": "stderr",
     "output_type": "stream",
     "text": [
      "2025-02-17 12:10:42,696 - INFO - Retrieved 10197 data points for 2024-06\n"
     ]
    },
    {
     "name": "stdout",
     "output_type": "stream",
     "text": [
      "2025-02-17 12:10:42,696 - __main__ - INFO - Fetching data for MMM - 2024-05\n"
     ]
    },
    {
     "name": "stderr",
     "output_type": "stream",
     "text": [
      "2025-02-17 12:10:42,696 - INFO - Fetching data for MMM - 2024-05\n"
     ]
    },
    {
     "name": "stdout",
     "output_type": "stream",
     "text": [
      "2025-02-17 12:10:43,691 - __main__ - INFO - Retrieved 12860 data points for 2024-05\n"
     ]
    },
    {
     "name": "stderr",
     "output_type": "stream",
     "text": [
      "2025-02-17 12:10:43,691 - INFO - Retrieved 12860 data points for 2024-05\n"
     ]
    },
    {
     "name": "stdout",
     "output_type": "stream",
     "text": [
      "2025-02-17 12:10:43,692 - __main__ - INFO - Fetching data for MMM - 2024-04\n"
     ]
    },
    {
     "name": "stderr",
     "output_type": "stream",
     "text": [
      "2025-02-17 12:10:43,692 - INFO - Fetching data for MMM - 2024-04\n"
     ]
    },
    {
     "name": "stdout",
     "output_type": "stream",
     "text": [
      "2025-02-17 12:10:44,898 - __main__ - INFO - Retrieved 13048 data points for 2024-04\n"
     ]
    },
    {
     "name": "stderr",
     "output_type": "stream",
     "text": [
      "2025-02-17 12:10:44,898 - INFO - Retrieved 13048 data points for 2024-04\n"
     ]
    },
    {
     "name": "stdout",
     "output_type": "stream",
     "text": [
      "2025-02-17 12:10:44,898 - __main__ - INFO - Fetching data for MMM - 2024-03\n"
     ]
    },
    {
     "name": "stderr",
     "output_type": "stream",
     "text": [
      "2025-02-17 12:10:44,898 - INFO - Fetching data for MMM - 2024-03\n"
     ]
    },
    {
     "name": "stdout",
     "output_type": "stream",
     "text": [
      "2025-02-17 12:10:45,897 - __main__ - INFO - Retrieved 12748 data points for 2024-03\n"
     ]
    },
    {
     "name": "stderr",
     "output_type": "stream",
     "text": [
      "2025-02-17 12:10:45,897 - INFO - Retrieved 12748 data points for 2024-03\n"
     ]
    },
    {
     "name": "stdout",
     "output_type": "stream",
     "text": [
      "2025-02-17 12:10:45,898 - __main__ - INFO - Writing data to /Users/benpfeffer/Desktop/CODE/volatility-strategy/db/cache/market_data/MMM_1min.csv\n"
     ]
    },
    {
     "name": "stderr",
     "output_type": "stream",
     "text": [
      "2025-02-17 12:10:45,898 - INFO - Writing data to /Users/benpfeffer/Desktop/CODE/volatility-strategy/db/cache/market_data/MMM_1min.csv\n"
     ]
    },
    {
     "name": "stdout",
     "output_type": "stream",
     "text": [
      "2025-02-17 12:10:45,902 - __main__ - INFO - Data fetch completed successfully\n"
     ]
    },
    {
     "name": "stderr",
     "output_type": "stream",
     "text": [
      "2025-02-17 12:10:45,902 - INFO - Data fetch completed successfully\n"
     ]
    },
    {
     "name": "stdout",
     "output_type": "stream",
     "text": [
      "2025-02-17 12:10:45,904 - __main__ - INFO - Starting data fetch for ABBV with 1min interval\n"
     ]
    },
    {
     "name": "stderr",
     "output_type": "stream",
     "text": [
      "2025-02-17 12:10:45,904 - INFO - Starting data fetch for ABBV with 1min interval\n"
     ]
    },
    {
     "name": "stdout",
     "output_type": "stream",
     "text": [
      "2025-02-17 12:10:45,905 - __main__ - INFO - Using 1min interval - fetching data month by month for past year\n"
     ]
    },
    {
     "name": "stderr",
     "output_type": "stream",
     "text": [
      "2025-02-17 12:10:45,905 - INFO - Using 1min interval - fetching data month by month for past year\n"
     ]
    },
    {
     "name": "stdout",
     "output_type": "stream",
     "text": [
      "2025-02-17 12:10:45,906 - __main__ - INFO - Will fetch data for months: ['2025-02', '2025-01', '2024-12', '2024-11', '2024-10', '2024-09', '2024-08', '2024-07', '2024-06', '2024-05', '2024-04', '2024-03']\n"
     ]
    },
    {
     "name": "stderr",
     "output_type": "stream",
     "text": [
      "2025-02-17 12:10:45,906 - INFO - Will fetch data for months: ['2025-02', '2025-01', '2024-12', '2024-11', '2024-10', '2024-09', '2024-08', '2024-07', '2024-06', '2024-05', '2024-04', '2024-03']\n"
     ]
    },
    {
     "name": "stdout",
     "output_type": "stream",
     "text": [
      "2025-02-17 12:10:45,906 - __main__ - INFO - Fetching data for ABBV - 2025-02\n"
     ]
    },
    {
     "name": "stderr",
     "output_type": "stream",
     "text": [
      "2025-02-17 12:10:45,906 - INFO - Fetching data for ABBV - 2025-02\n"
     ]
    },
    {
     "name": "stdout",
     "output_type": "stream",
     "text": [
      "2025-02-17 12:10:46,809 - __main__ - INFO - Retrieved 5407 data points for 2025-02\n"
     ]
    },
    {
     "name": "stderr",
     "output_type": "stream",
     "text": [
      "2025-02-17 12:10:46,809 - INFO - Retrieved 5407 data points for 2025-02\n"
     ]
    },
    {
     "name": "stdout",
     "output_type": "stream",
     "text": [
      "2025-02-17 12:10:46,809 - __main__ - INFO - Fetching data for ABBV - 2025-01\n"
     ]
    },
    {
     "name": "stderr",
     "output_type": "stream",
     "text": [
      "2025-02-17 12:10:46,809 - INFO - Fetching data for ABBV - 2025-01\n"
     ]
    },
    {
     "name": "stdout",
     "output_type": "stream",
     "text": [
      "2025-02-17 12:10:47,848 - __main__ - INFO - Retrieved 11319 data points for 2025-01\n"
     ]
    },
    {
     "name": "stderr",
     "output_type": "stream",
     "text": [
      "2025-02-17 12:10:47,848 - INFO - Retrieved 11319 data points for 2025-01\n"
     ]
    },
    {
     "name": "stdout",
     "output_type": "stream",
     "text": [
      "2025-02-17 12:10:47,849 - __main__ - INFO - Fetching data for ABBV - 2024-12\n"
     ]
    },
    {
     "name": "stderr",
     "output_type": "stream",
     "text": [
      "2025-02-17 12:10:47,849 - INFO - Fetching data for ABBV - 2024-12\n"
     ]
    },
    {
     "name": "stdout",
     "output_type": "stream",
     "text": [
      "2025-02-17 12:10:48,923 - __main__ - INFO - Retrieved 11484 data points for 2024-12\n"
     ]
    },
    {
     "name": "stderr",
     "output_type": "stream",
     "text": [
      "2025-02-17 12:10:48,923 - INFO - Retrieved 11484 data points for 2024-12\n"
     ]
    },
    {
     "name": "stdout",
     "output_type": "stream",
     "text": [
      "2025-02-17 12:10:48,924 - __main__ - INFO - Fetching data for ABBV - 2024-11\n"
     ]
    },
    {
     "name": "stderr",
     "output_type": "stream",
     "text": [
      "2025-02-17 12:10:48,924 - INFO - Fetching data for ABBV - 2024-11\n"
     ]
    },
    {
     "name": "stdout",
     "output_type": "stream",
     "text": [
      "2025-02-17 12:10:50,195 - __main__ - INFO - Retrieved 12612 data points for 2024-11\n"
     ]
    },
    {
     "name": "stderr",
     "output_type": "stream",
     "text": [
      "2025-02-17 12:10:50,195 - INFO - Retrieved 12612 data points for 2024-11\n"
     ]
    },
    {
     "name": "stdout",
     "output_type": "stream",
     "text": [
      "2025-02-17 12:10:50,196 - __main__ - INFO - Fetching data for ABBV - 2024-10\n"
     ]
    },
    {
     "name": "stderr",
     "output_type": "stream",
     "text": [
      "2025-02-17 12:10:50,196 - INFO - Fetching data for ABBV - 2024-10\n"
     ]
    },
    {
     "name": "stdout",
     "output_type": "stream",
     "text": [
      "2025-02-17 12:10:51,387 - __main__ - INFO - Retrieved 11921 data points for 2024-10\n"
     ]
    },
    {
     "name": "stderr",
     "output_type": "stream",
     "text": [
      "2025-02-17 12:10:51,387 - INFO - Retrieved 11921 data points for 2024-10\n"
     ]
    },
    {
     "name": "stdout",
     "output_type": "stream",
     "text": [
      "2025-02-17 12:10:51,388 - __main__ - INFO - Fetching data for ABBV - 2024-09\n"
     ]
    },
    {
     "name": "stderr",
     "output_type": "stream",
     "text": [
      "2025-02-17 12:10:51,388 - INFO - Fetching data for ABBV - 2024-09\n"
     ]
    },
    {
     "name": "stdout",
     "output_type": "stream",
     "text": [
      "2025-02-17 12:10:52,545 - __main__ - INFO - Retrieved 10014 data points for 2024-09\n"
     ]
    },
    {
     "name": "stderr",
     "output_type": "stream",
     "text": [
      "2025-02-17 12:10:52,545 - INFO - Retrieved 10014 data points for 2024-09\n"
     ]
    },
    {
     "name": "stdout",
     "output_type": "stream",
     "text": [
      "2025-02-17 12:10:52,546 - __main__ - INFO - Fetching data for ABBV - 2024-08\n"
     ]
    },
    {
     "name": "stderr",
     "output_type": "stream",
     "text": [
      "2025-02-17 12:10:52,546 - INFO - Fetching data for ABBV - 2024-08\n"
     ]
    },
    {
     "name": "stdout",
     "output_type": "stream",
     "text": [
      "2025-02-17 12:10:54,869 - __main__ - INFO - Retrieved 11550 data points for 2024-08\n"
     ]
    },
    {
     "name": "stderr",
     "output_type": "stream",
     "text": [
      "2025-02-17 12:10:54,869 - INFO - Retrieved 11550 data points for 2024-08\n"
     ]
    },
    {
     "name": "stdout",
     "output_type": "stream",
     "text": [
      "2025-02-17 12:10:54,870 - __main__ - INFO - Fetching data for ABBV - 2024-07\n"
     ]
    },
    {
     "name": "stderr",
     "output_type": "stream",
     "text": [
      "2025-02-17 12:10:54,870 - INFO - Fetching data for ABBV - 2024-07\n"
     ]
    },
    {
     "name": "stdout",
     "output_type": "stream",
     "text": [
      "2025-02-17 12:10:57,109 - __main__ - INFO - Retrieved 11431 data points for 2024-07\n"
     ]
    },
    {
     "name": "stderr",
     "output_type": "stream",
     "text": [
      "2025-02-17 12:10:57,109 - INFO - Retrieved 11431 data points for 2024-07\n"
     ]
    },
    {
     "name": "stdout",
     "output_type": "stream",
     "text": [
      "2025-02-17 12:10:57,110 - __main__ - INFO - Fetching data for ABBV - 2024-06\n"
     ]
    },
    {
     "name": "stderr",
     "output_type": "stream",
     "text": [
      "2025-02-17 12:10:57,110 - INFO - Fetching data for ABBV - 2024-06\n"
     ]
    },
    {
     "name": "stdout",
     "output_type": "stream",
     "text": [
      "2025-02-17 12:10:59,360 - __main__ - INFO - Retrieved 9829 data points for 2024-06\n"
     ]
    },
    {
     "name": "stderr",
     "output_type": "stream",
     "text": [
      "2025-02-17 12:10:59,360 - INFO - Retrieved 9829 data points for 2024-06\n"
     ]
    },
    {
     "name": "stdout",
     "output_type": "stream",
     "text": [
      "2025-02-17 12:10:59,360 - __main__ - INFO - Fetching data for ABBV - 2024-05\n"
     ]
    },
    {
     "name": "stderr",
     "output_type": "stream",
     "text": [
      "2025-02-17 12:10:59,360 - INFO - Fetching data for ABBV - 2024-05\n"
     ]
    },
    {
     "name": "stdout",
     "output_type": "stream",
     "text": [
      "2025-02-17 12:11:00,504 - __main__ - INFO - Retrieved 11621 data points for 2024-05\n"
     ]
    },
    {
     "name": "stderr",
     "output_type": "stream",
     "text": [
      "2025-02-17 12:11:00,504 - INFO - Retrieved 11621 data points for 2024-05\n"
     ]
    },
    {
     "name": "stdout",
     "output_type": "stream",
     "text": [
      "2025-02-17 12:11:00,504 - __main__ - INFO - Fetching data for ABBV - 2024-04\n"
     ]
    },
    {
     "name": "stderr",
     "output_type": "stream",
     "text": [
      "2025-02-17 12:11:00,504 - INFO - Fetching data for ABBV - 2024-04\n"
     ]
    },
    {
     "name": "stdout",
     "output_type": "stream",
     "text": [
      "2025-02-17 12:11:04,689 - __main__ - INFO - Retrieved 11621 data points for 2024-04\n"
     ]
    },
    {
     "name": "stderr",
     "output_type": "stream",
     "text": [
      "2025-02-17 12:11:04,689 - INFO - Retrieved 11621 data points for 2024-04\n"
     ]
    },
    {
     "name": "stdout",
     "output_type": "stream",
     "text": [
      "2025-02-17 12:11:04,690 - __main__ - INFO - Fetching data for ABBV - 2024-03\n"
     ]
    },
    {
     "name": "stderr",
     "output_type": "stream",
     "text": [
      "2025-02-17 12:11:04,690 - INFO - Fetching data for ABBV - 2024-03\n"
     ]
    },
    {
     "name": "stdout",
     "output_type": "stream",
     "text": [
      "2025-02-17 12:11:06,755 - __main__ - INFO - Retrieved 9976 data points for 2024-03\n"
     ]
    },
    {
     "name": "stderr",
     "output_type": "stream",
     "text": [
      "2025-02-17 12:11:06,755 - INFO - Retrieved 9976 data points for 2024-03\n"
     ]
    },
    {
     "name": "stdout",
     "output_type": "stream",
     "text": [
      "2025-02-17 12:11:06,756 - __main__ - INFO - Writing data to /Users/benpfeffer/Desktop/CODE/volatility-strategy/db/cache/market_data/ABBV_1min.csv\n"
     ]
    },
    {
     "name": "stderr",
     "output_type": "stream",
     "text": [
      "2025-02-17 12:11:06,756 - INFO - Writing data to /Users/benpfeffer/Desktop/CODE/volatility-strategy/db/cache/market_data/ABBV_1min.csv\n"
     ]
    },
    {
     "name": "stdout",
     "output_type": "stream",
     "text": [
      "2025-02-17 12:11:06,761 - __main__ - INFO - Data fetch completed successfully\n"
     ]
    },
    {
     "name": "stderr",
     "output_type": "stream",
     "text": [
      "2025-02-17 12:11:06,761 - INFO - Data fetch completed successfully\n"
     ]
    },
    {
     "name": "stdout",
     "output_type": "stream",
     "text": [
      "2025-02-17 12:11:06,764 - __main__ - INFO - Starting data fetch for ALIZY with 1min interval\n"
     ]
    },
    {
     "name": "stderr",
     "output_type": "stream",
     "text": [
      "2025-02-17 12:11:06,764 - INFO - Starting data fetch for ALIZY with 1min interval\n"
     ]
    },
    {
     "name": "stdout",
     "output_type": "stream",
     "text": [
      "2025-02-17 12:11:06,764 - __main__ - INFO - Using 1min interval - fetching data month by month for past year\n"
     ]
    },
    {
     "name": "stderr",
     "output_type": "stream",
     "text": [
      "2025-02-17 12:11:06,764 - INFO - Using 1min interval - fetching data month by month for past year\n"
     ]
    },
    {
     "name": "stdout",
     "output_type": "stream",
     "text": [
      "2025-02-17 12:11:06,765 - __main__ - INFO - Will fetch data for months: ['2025-02', '2025-01', '2024-12', '2024-11', '2024-10', '2024-09', '2024-08', '2024-07', '2024-06', '2024-05', '2024-04', '2024-03']\n"
     ]
    },
    {
     "name": "stderr",
     "output_type": "stream",
     "text": [
      "2025-02-17 12:11:06,765 - INFO - Will fetch data for months: ['2025-02', '2025-01', '2024-12', '2024-11', '2024-10', '2024-09', '2024-08', '2024-07', '2024-06', '2024-05', '2024-04', '2024-03']\n"
     ]
    },
    {
     "name": "stdout",
     "output_type": "stream",
     "text": [
      "2025-02-17 12:11:06,766 - __main__ - INFO - Fetching data for ALIZY - 2025-02\n"
     ]
    },
    {
     "name": "stderr",
     "output_type": "stream",
     "text": [
      "2025-02-17 12:11:06,766 - INFO - Fetching data for ALIZY - 2025-02\n"
     ]
    },
    {
     "name": "stdout",
     "output_type": "stream",
     "text": [
      "2025-02-17 12:11:07,131 - __main__ - INFO - Retrieved 2 data points for 2025-02\n"
     ]
    },
    {
     "name": "stderr",
     "output_type": "stream",
     "text": [
      "2025-02-17 12:11:07,131 - INFO - Retrieved 2 data points for 2025-02\n"
     ]
    },
    {
     "name": "stdout",
     "output_type": "stream",
     "text": [
      "2025-02-17 12:11:07,132 - __main__ - INFO - Fetching data for ALIZY - 2025-01\n"
     ]
    },
    {
     "name": "stderr",
     "output_type": "stream",
     "text": [
      "2025-02-17 12:11:07,132 - INFO - Fetching data for ALIZY - 2025-01\n"
     ]
    },
    {
     "name": "stdout",
     "output_type": "stream",
     "text": [
      "2025-02-17 12:11:07,306 - __main__ - INFO - Retrieved 2 data points for 2025-01\n"
     ]
    },
    {
     "name": "stderr",
     "output_type": "stream",
     "text": [
      "2025-02-17 12:11:07,306 - INFO - Retrieved 2 data points for 2025-01\n"
     ]
    },
    {
     "name": "stdout",
     "output_type": "stream",
     "text": [
      "2025-02-17 12:11:07,307 - __main__ - INFO - Fetching data for ALIZY - 2024-12\n"
     ]
    },
    {
     "name": "stderr",
     "output_type": "stream",
     "text": [
      "2025-02-17 12:11:07,307 - INFO - Fetching data for ALIZY - 2024-12\n"
     ]
    },
    {
     "name": "stdout",
     "output_type": "stream",
     "text": [
      "2025-02-17 12:11:07,497 - __main__ - INFO - Retrieved 2 data points for 2024-12\n"
     ]
    },
    {
     "name": "stderr",
     "output_type": "stream",
     "text": [
      "2025-02-17 12:11:07,497 - INFO - Retrieved 2 data points for 2024-12\n"
     ]
    },
    {
     "name": "stdout",
     "output_type": "stream",
     "text": [
      "2025-02-17 12:11:07,498 - __main__ - INFO - Fetching data for ALIZY - 2024-11\n"
     ]
    },
    {
     "name": "stderr",
     "output_type": "stream",
     "text": [
      "2025-02-17 12:11:07,498 - INFO - Fetching data for ALIZY - 2024-11\n"
     ]
    },
    {
     "name": "stdout",
     "output_type": "stream",
     "text": [
      "2025-02-17 12:11:07,916 - __main__ - INFO - Retrieved 2 data points for 2024-11\n"
     ]
    },
    {
     "name": "stderr",
     "output_type": "stream",
     "text": [
      "2025-02-17 12:11:07,916 - INFO - Retrieved 2 data points for 2024-11\n"
     ]
    },
    {
     "name": "stdout",
     "output_type": "stream",
     "text": [
      "2025-02-17 12:11:07,917 - __main__ - INFO - Fetching data for ALIZY - 2024-10\n"
     ]
    },
    {
     "name": "stderr",
     "output_type": "stream",
     "text": [
      "2025-02-17 12:11:07,917 - INFO - Fetching data for ALIZY - 2024-10\n"
     ]
    },
    {
     "name": "stdout",
     "output_type": "stream",
     "text": [
      "2025-02-17 12:11:08,110 - __main__ - INFO - Retrieved 2 data points for 2024-10\n"
     ]
    },
    {
     "name": "stderr",
     "output_type": "stream",
     "text": [
      "2025-02-17 12:11:08,110 - INFO - Retrieved 2 data points for 2024-10\n"
     ]
    },
    {
     "name": "stdout",
     "output_type": "stream",
     "text": [
      "2025-02-17 12:11:08,111 - __main__ - INFO - Fetching data for ALIZY - 2024-09\n"
     ]
    },
    {
     "name": "stderr",
     "output_type": "stream",
     "text": [
      "2025-02-17 12:11:08,111 - INFO - Fetching data for ALIZY - 2024-09\n"
     ]
    },
    {
     "name": "stdout",
     "output_type": "stream",
     "text": [
      "2025-02-17 12:11:08,287 - __main__ - INFO - Retrieved 2 data points for 2024-09\n"
     ]
    },
    {
     "name": "stderr",
     "output_type": "stream",
     "text": [
      "2025-02-17 12:11:08,287 - INFO - Retrieved 2 data points for 2024-09\n"
     ]
    },
    {
     "name": "stdout",
     "output_type": "stream",
     "text": [
      "2025-02-17 12:11:08,288 - __main__ - INFO - Fetching data for ALIZY - 2024-08\n"
     ]
    },
    {
     "name": "stderr",
     "output_type": "stream",
     "text": [
      "2025-02-17 12:11:08,288 - INFO - Fetching data for ALIZY - 2024-08\n"
     ]
    },
    {
     "name": "stdout",
     "output_type": "stream",
     "text": [
      "2025-02-17 12:11:08,497 - __main__ - INFO - Retrieved 2 data points for 2024-08\n"
     ]
    },
    {
     "name": "stderr",
     "output_type": "stream",
     "text": [
      "2025-02-17 12:11:08,497 - INFO - Retrieved 2 data points for 2024-08\n"
     ]
    },
    {
     "name": "stdout",
     "output_type": "stream",
     "text": [
      "2025-02-17 12:11:08,498 - __main__ - INFO - Fetching data for ALIZY - 2024-07\n"
     ]
    },
    {
     "name": "stderr",
     "output_type": "stream",
     "text": [
      "2025-02-17 12:11:08,498 - INFO - Fetching data for ALIZY - 2024-07\n"
     ]
    },
    {
     "name": "stdout",
     "output_type": "stream",
     "text": [
      "2025-02-17 12:11:08,858 - __main__ - INFO - Retrieved 2 data points for 2024-07\n"
     ]
    },
    {
     "name": "stderr",
     "output_type": "stream",
     "text": [
      "2025-02-17 12:11:08,858 - INFO - Retrieved 2 data points for 2024-07\n"
     ]
    },
    {
     "name": "stdout",
     "output_type": "stream",
     "text": [
      "2025-02-17 12:11:08,859 - __main__ - INFO - Fetching data for ALIZY - 2024-06\n"
     ]
    },
    {
     "name": "stderr",
     "output_type": "stream",
     "text": [
      "2025-02-17 12:11:08,859 - INFO - Fetching data for ALIZY - 2024-06\n"
     ]
    },
    {
     "name": "stdout",
     "output_type": "stream",
     "text": [
      "2025-02-17 12:11:09,054 - __main__ - INFO - Retrieved 2 data points for 2024-06\n"
     ]
    },
    {
     "name": "stderr",
     "output_type": "stream",
     "text": [
      "2025-02-17 12:11:09,054 - INFO - Retrieved 2 data points for 2024-06\n"
     ]
    },
    {
     "name": "stdout",
     "output_type": "stream",
     "text": [
      "2025-02-17 12:11:09,055 - __main__ - INFO - Fetching data for ALIZY - 2024-05\n"
     ]
    },
    {
     "name": "stderr",
     "output_type": "stream",
     "text": [
      "2025-02-17 12:11:09,055 - INFO - Fetching data for ALIZY - 2024-05\n"
     ]
    },
    {
     "name": "stdout",
     "output_type": "stream",
     "text": [
      "2025-02-17 12:11:09,255 - __main__ - INFO - Retrieved 2 data points for 2024-05\n"
     ]
    },
    {
     "name": "stderr",
     "output_type": "stream",
     "text": [
      "2025-02-17 12:11:09,255 - INFO - Retrieved 2 data points for 2024-05\n"
     ]
    },
    {
     "name": "stdout",
     "output_type": "stream",
     "text": [
      "2025-02-17 12:11:09,256 - __main__ - INFO - Fetching data for ALIZY - 2024-04\n"
     ]
    },
    {
     "name": "stderr",
     "output_type": "stream",
     "text": [
      "2025-02-17 12:11:09,256 - INFO - Fetching data for ALIZY - 2024-04\n"
     ]
    },
    {
     "name": "stdout",
     "output_type": "stream",
     "text": [
      "2025-02-17 12:11:09,423 - __main__ - INFO - Retrieved 2 data points for 2024-04\n"
     ]
    },
    {
     "name": "stderr",
     "output_type": "stream",
     "text": [
      "2025-02-17 12:11:09,423 - INFO - Retrieved 2 data points for 2024-04\n"
     ]
    },
    {
     "name": "stdout",
     "output_type": "stream",
     "text": [
      "2025-02-17 12:11:09,423 - __main__ - INFO - Fetching data for ALIZY - 2024-03\n"
     ]
    },
    {
     "name": "stderr",
     "output_type": "stream",
     "text": [
      "2025-02-17 12:11:09,423 - INFO - Fetching data for ALIZY - 2024-03\n"
     ]
    },
    {
     "name": "stdout",
     "output_type": "stream",
     "text": [
      "2025-02-17 12:11:09,617 - __main__ - INFO - Retrieved 2 data points for 2024-03\n"
     ]
    },
    {
     "name": "stderr",
     "output_type": "stream",
     "text": [
      "2025-02-17 12:11:09,617 - INFO - Retrieved 2 data points for 2024-03\n"
     ]
    },
    {
     "name": "stdout",
     "output_type": "stream",
     "text": [
      "2025-02-17 12:11:09,617 - __main__ - INFO - Writing data to /Users/benpfeffer/Desktop/CODE/volatility-strategy/db/cache/market_data/ALIZY_1min.csv\n"
     ]
    },
    {
     "name": "stderr",
     "output_type": "stream",
     "text": [
      "2025-02-17 12:11:09,617 - INFO - Writing data to /Users/benpfeffer/Desktop/CODE/volatility-strategy/db/cache/market_data/ALIZY_1min.csv\n"
     ]
    },
    {
     "name": "stdout",
     "output_type": "stream",
     "text": [
      "2025-02-17 12:11:09,619 - __main__ - INFO - Data fetch completed successfully\n"
     ]
    },
    {
     "name": "stderr",
     "output_type": "stream",
     "text": [
      "2025-02-17 12:11:09,619 - INFO - Data fetch completed successfully\n"
     ]
    },
    {
     "name": "stdout",
     "output_type": "stream",
     "text": [
      "2025-02-17 12:11:09,619 - __main__ - INFO - Starting data fetch for GOOG with 1min interval\n"
     ]
    },
    {
     "name": "stderr",
     "output_type": "stream",
     "text": [
      "2025-02-17 12:11:09,619 - INFO - Starting data fetch for GOOG with 1min interval\n"
     ]
    },
    {
     "name": "stdout",
     "output_type": "stream",
     "text": [
      "2025-02-17 12:11:09,620 - __main__ - INFO - Using 1min interval - fetching data month by month for past year\n"
     ]
    },
    {
     "name": "stderr",
     "output_type": "stream",
     "text": [
      "2025-02-17 12:11:09,620 - INFO - Using 1min interval - fetching data month by month for past year\n"
     ]
    },
    {
     "name": "stdout",
     "output_type": "stream",
     "text": [
      "2025-02-17 12:11:09,621 - __main__ - INFO - Will fetch data for months: ['2025-02', '2025-01', '2024-12', '2024-11', '2024-10', '2024-09', '2024-08', '2024-07', '2024-06', '2024-05', '2024-04', '2024-03']\n"
     ]
    },
    {
     "name": "stderr",
     "output_type": "stream",
     "text": [
      "2025-02-17 12:11:09,621 - INFO - Will fetch data for months: ['2025-02', '2025-01', '2024-12', '2024-11', '2024-10', '2024-09', '2024-08', '2024-07', '2024-06', '2024-05', '2024-04', '2024-03']\n"
     ]
    },
    {
     "name": "stdout",
     "output_type": "stream",
     "text": [
      "2025-02-17 12:11:09,621 - __main__ - INFO - Fetching data for GOOG - 2025-02\n"
     ]
    },
    {
     "name": "stderr",
     "output_type": "stream",
     "text": [
      "2025-02-17 12:11:09,621 - INFO - Fetching data for GOOG - 2025-02\n"
     ]
    },
    {
     "name": "stdout",
     "output_type": "stream",
     "text": [
      "2025-02-17 12:11:10,915 - __main__ - INFO - Retrieved 9468 data points for 2025-02\n"
     ]
    },
    {
     "name": "stderr",
     "output_type": "stream",
     "text": [
      "2025-02-17 12:11:10,915 - INFO - Retrieved 9468 data points for 2025-02\n"
     ]
    },
    {
     "name": "stdout",
     "output_type": "stream",
     "text": [
      "2025-02-17 12:11:10,916 - __main__ - INFO - Fetching data for GOOG - 2025-01\n"
     ]
    },
    {
     "name": "stderr",
     "output_type": "stream",
     "text": [
      "2025-02-17 12:11:10,916 - INFO - Fetching data for GOOG - 2025-01\n"
     ]
    },
    {
     "name": "stdout",
     "output_type": "stream",
     "text": [
      "2025-02-17 12:11:12,141 - __main__ - INFO - Retrieved 18402 data points for 2025-01\n"
     ]
    },
    {
     "name": "stderr",
     "output_type": "stream",
     "text": [
      "2025-02-17 12:11:12,141 - INFO - Retrieved 18402 data points for 2025-01\n"
     ]
    },
    {
     "name": "stdout",
     "output_type": "stream",
     "text": [
      "2025-02-17 12:11:12,142 - __main__ - INFO - Fetching data for GOOG - 2024-12\n"
     ]
    },
    {
     "name": "stderr",
     "output_type": "stream",
     "text": [
      "2025-02-17 12:11:12,142 - INFO - Fetching data for GOOG - 2024-12\n"
     ]
    },
    {
     "name": "stdout",
     "output_type": "stream",
     "text": [
      "2025-02-17 12:11:13,493 - __main__ - INFO - Retrieved 19210 data points for 2024-12\n"
     ]
    },
    {
     "name": "stderr",
     "output_type": "stream",
     "text": [
      "2025-02-17 12:11:13,493 - INFO - Retrieved 19210 data points for 2024-12\n"
     ]
    },
    {
     "name": "stdout",
     "output_type": "stream",
     "text": [
      "2025-02-17 12:11:13,494 - __main__ - INFO - Fetching data for GOOG - 2024-11\n"
     ]
    },
    {
     "name": "stderr",
     "output_type": "stream",
     "text": [
      "2025-02-17 12:11:13,494 - INFO - Fetching data for GOOG - 2024-11\n"
     ]
    },
    {
     "name": "stdout",
     "output_type": "stream",
     "text": [
      "2025-02-17 12:11:17,088 - __main__ - INFO - Retrieved 18058 data points for 2024-11\n"
     ]
    },
    {
     "name": "stderr",
     "output_type": "stream",
     "text": [
      "2025-02-17 12:11:17,088 - INFO - Retrieved 18058 data points for 2024-11\n"
     ]
    },
    {
     "name": "stdout",
     "output_type": "stream",
     "text": [
      "2025-02-17 12:11:17,089 - __main__ - INFO - Fetching data for GOOG - 2024-10\n"
     ]
    },
    {
     "name": "stderr",
     "output_type": "stream",
     "text": [
      "2025-02-17 12:11:17,089 - INFO - Fetching data for GOOG - 2024-10\n"
     ]
    },
    {
     "name": "stdout",
     "output_type": "stream",
     "text": [
      "2025-02-17 12:11:20,572 - __main__ - INFO - Retrieved 20386 data points for 2024-10\n"
     ]
    },
    {
     "name": "stderr",
     "output_type": "stream",
     "text": [
      "2025-02-17 12:11:20,572 - INFO - Retrieved 20386 data points for 2024-10\n"
     ]
    },
    {
     "name": "stdout",
     "output_type": "stream",
     "text": [
      "2025-02-17 12:11:20,573 - __main__ - INFO - Fetching data for GOOG - 2024-09\n"
     ]
    },
    {
     "name": "stderr",
     "output_type": "stream",
     "text": [
      "2025-02-17 12:11:20,573 - INFO - Fetching data for GOOG - 2024-09\n"
     ]
    },
    {
     "name": "stdout",
     "output_type": "stream",
     "text": [
      "2025-02-17 12:11:23,631 - __main__ - INFO - Retrieved 17975 data points for 2024-09\n"
     ]
    },
    {
     "name": "stderr",
     "output_type": "stream",
     "text": [
      "2025-02-17 12:11:23,631 - INFO - Retrieved 17975 data points for 2024-09\n"
     ]
    },
    {
     "name": "stdout",
     "output_type": "stream",
     "text": [
      "2025-02-17 12:11:23,631 - __main__ - INFO - Fetching data for GOOG - 2024-08\n"
     ]
    },
    {
     "name": "stderr",
     "output_type": "stream",
     "text": [
      "2025-02-17 12:11:23,631 - INFO - Fetching data for GOOG - 2024-08\n"
     ]
    },
    {
     "name": "stdout",
     "output_type": "stream",
     "text": [
      "2025-02-17 12:11:27,111 - __main__ - INFO - Retrieved 19636 data points for 2024-08\n"
     ]
    },
    {
     "name": "stderr",
     "output_type": "stream",
     "text": [
      "2025-02-17 12:11:27,111 - INFO - Retrieved 19636 data points for 2024-08\n"
     ]
    },
    {
     "name": "stdout",
     "output_type": "stream",
     "text": [
      "2025-02-17 12:11:27,111 - __main__ - INFO - Fetching data for GOOG - 2024-07\n"
     ]
    },
    {
     "name": "stderr",
     "output_type": "stream",
     "text": [
      "2025-02-17 12:11:27,111 - INFO - Fetching data for GOOG - 2024-07\n"
     ]
    },
    {
     "name": "stdout",
     "output_type": "stream",
     "text": [
      "2025-02-17 12:11:30,554 - __main__ - INFO - Retrieved 19629 data points for 2024-07\n"
     ]
    },
    {
     "name": "stderr",
     "output_type": "stream",
     "text": [
      "2025-02-17 12:11:30,554 - INFO - Retrieved 19629 data points for 2024-07\n"
     ]
    },
    {
     "name": "stdout",
     "output_type": "stream",
     "text": [
      "2025-02-17 12:11:30,555 - __main__ - INFO - Fetching data for GOOG - 2024-06\n"
     ]
    },
    {
     "name": "stderr",
     "output_type": "stream",
     "text": [
      "2025-02-17 12:11:30,555 - INFO - Fetching data for GOOG - 2024-06\n"
     ]
    },
    {
     "name": "stdout",
     "output_type": "stream",
     "text": [
      "2025-02-17 12:11:33,547 - __main__ - INFO - Retrieved 16508 data points for 2024-06\n"
     ]
    },
    {
     "name": "stderr",
     "output_type": "stream",
     "text": [
      "2025-02-17 12:11:33,547 - INFO - Retrieved 16508 data points for 2024-06\n"
     ]
    },
    {
     "name": "stdout",
     "output_type": "stream",
     "text": [
      "2025-02-17 12:11:33,548 - __main__ - INFO - Fetching data for GOOG - 2024-05\n"
     ]
    },
    {
     "name": "stderr",
     "output_type": "stream",
     "text": [
      "2025-02-17 12:11:33,548 - INFO - Fetching data for GOOG - 2024-05\n"
     ]
    },
    {
     "name": "stdout",
     "output_type": "stream",
     "text": [
      "2025-02-17 12:11:34,689 - __main__ - INFO - Retrieved 19068 data points for 2024-05\n"
     ]
    },
    {
     "name": "stderr",
     "output_type": "stream",
     "text": [
      "2025-02-17 12:11:34,689 - INFO - Retrieved 19068 data points for 2024-05\n"
     ]
    },
    {
     "name": "stdout",
     "output_type": "stream",
     "text": [
      "2025-02-17 12:11:34,690 - __main__ - INFO - Fetching data for GOOG - 2024-04\n"
     ]
    },
    {
     "name": "stderr",
     "output_type": "stream",
     "text": [
      "2025-02-17 12:11:34,690 - INFO - Fetching data for GOOG - 2024-04\n"
     ]
    },
    {
     "name": "stdout",
     "output_type": "stream",
     "text": [
      "2025-02-17 12:11:38,610 - __main__ - INFO - Retrieved 19491 data points for 2024-04\n"
     ]
    },
    {
     "name": "stderr",
     "output_type": "stream",
     "text": [
      "2025-02-17 12:11:38,610 - INFO - Retrieved 19491 data points for 2024-04\n"
     ]
    },
    {
     "name": "stdout",
     "output_type": "stream",
     "text": [
      "2025-02-17 12:11:38,611 - __main__ - INFO - Fetching data for GOOG - 2024-03\n"
     ]
    },
    {
     "name": "stderr",
     "output_type": "stream",
     "text": [
      "2025-02-17 12:11:38,611 - INFO - Fetching data for GOOG - 2024-03\n"
     ]
    },
    {
     "name": "stdout",
     "output_type": "stream",
     "text": [
      "2025-02-17 12:11:41,703 - __main__ - INFO - Retrieved 18031 data points for 2024-03\n"
     ]
    },
    {
     "name": "stderr",
     "output_type": "stream",
     "text": [
      "2025-02-17 12:11:41,703 - INFO - Retrieved 18031 data points for 2024-03\n"
     ]
    },
    {
     "name": "stdout",
     "output_type": "stream",
     "text": [
      "2025-02-17 12:11:41,704 - __main__ - INFO - Writing data to /Users/benpfeffer/Desktop/CODE/volatility-strategy/db/cache/market_data/GOOG_1min.csv\n"
     ]
    },
    {
     "name": "stderr",
     "output_type": "stream",
     "text": [
      "2025-02-17 12:11:41,704 - INFO - Writing data to /Users/benpfeffer/Desktop/CODE/volatility-strategy/db/cache/market_data/GOOG_1min.csv\n"
     ]
    },
    {
     "name": "stdout",
     "output_type": "stream",
     "text": [
      "2025-02-17 12:11:41,709 - __main__ - INFO - Data fetch completed successfully\n"
     ]
    },
    {
     "name": "stderr",
     "output_type": "stream",
     "text": [
      "2025-02-17 12:11:41,709 - INFO - Data fetch completed successfully\n"
     ]
    },
    {
     "name": "stdout",
     "output_type": "stream",
     "text": [
      "2025-02-17 12:11:41,712 - __main__ - INFO - Starting data fetch for AMZN with 1min interval\n"
     ]
    },
    {
     "name": "stderr",
     "output_type": "stream",
     "text": [
      "2025-02-17 12:11:41,712 - INFO - Starting data fetch for AMZN with 1min interval\n"
     ]
    },
    {
     "name": "stdout",
     "output_type": "stream",
     "text": [
      "2025-02-17 12:11:41,713 - __main__ - INFO - Using 1min interval - fetching data month by month for past year\n"
     ]
    },
    {
     "name": "stderr",
     "output_type": "stream",
     "text": [
      "2025-02-17 12:11:41,713 - INFO - Using 1min interval - fetching data month by month for past year\n"
     ]
    },
    {
     "name": "stdout",
     "output_type": "stream",
     "text": [
      "2025-02-17 12:11:41,714 - __main__ - INFO - Will fetch data for months: ['2025-02', '2025-01', '2024-12', '2024-11', '2024-10', '2024-09', '2024-08', '2024-07', '2024-06', '2024-05', '2024-04', '2024-03']\n"
     ]
    },
    {
     "name": "stderr",
     "output_type": "stream",
     "text": [
      "2025-02-17 12:11:41,714 - INFO - Will fetch data for months: ['2025-02', '2025-01', '2024-12', '2024-11', '2024-10', '2024-09', '2024-08', '2024-07', '2024-06', '2024-05', '2024-04', '2024-03']\n"
     ]
    },
    {
     "name": "stdout",
     "output_type": "stream",
     "text": [
      "2025-02-17 12:11:41,714 - __main__ - INFO - Fetching data for AMZN - 2025-02\n"
     ]
    },
    {
     "name": "stderr",
     "output_type": "stream",
     "text": [
      "2025-02-17 12:11:41,714 - INFO - Fetching data for AMZN - 2025-02\n"
     ]
    },
    {
     "name": "stdout",
     "output_type": "stream",
     "text": [
      "2025-02-17 12:11:42,581 - __main__ - INFO - Retrieved 9587 data points for 2025-02\n"
     ]
    },
    {
     "name": "stderr",
     "output_type": "stream",
     "text": [
      "2025-02-17 12:11:42,581 - INFO - Retrieved 9587 data points for 2025-02\n"
     ]
    },
    {
     "name": "stdout",
     "output_type": "stream",
     "text": [
      "2025-02-17 12:11:42,581 - __main__ - INFO - Fetching data for AMZN - 2025-01\n"
     ]
    },
    {
     "name": "stderr",
     "output_type": "stream",
     "text": [
      "2025-02-17 12:11:42,581 - INFO - Fetching data for AMZN - 2025-01\n"
     ]
    },
    {
     "name": "stdout",
     "output_type": "stream",
     "text": [
      "2025-02-17 12:11:43,722 - __main__ - INFO - Retrieved 19060 data points for 2025-01\n"
     ]
    },
    {
     "name": "stderr",
     "output_type": "stream",
     "text": [
      "2025-02-17 12:11:43,722 - INFO - Retrieved 19060 data points for 2025-01\n"
     ]
    },
    {
     "name": "stdout",
     "output_type": "stream",
     "text": [
      "2025-02-17 12:11:43,723 - __main__ - INFO - Fetching data for AMZN - 2024-12\n"
     ]
    },
    {
     "name": "stderr",
     "output_type": "stream",
     "text": [
      "2025-02-17 12:11:43,723 - INFO - Fetching data for AMZN - 2024-12\n"
     ]
    },
    {
     "name": "stdout",
     "output_type": "stream",
     "text": [
      "2025-02-17 12:11:45,015 - __main__ - INFO - Retrieved 19870 data points for 2024-12\n"
     ]
    },
    {
     "name": "stderr",
     "output_type": "stream",
     "text": [
      "2025-02-17 12:11:45,015 - INFO - Retrieved 19870 data points for 2024-12\n"
     ]
    },
    {
     "name": "stdout",
     "output_type": "stream",
     "text": [
      "2025-02-17 12:11:45,016 - __main__ - INFO - Fetching data for AMZN - 2024-11\n"
     ]
    },
    {
     "name": "stderr",
     "output_type": "stream",
     "text": [
      "2025-02-17 12:11:45,016 - INFO - Fetching data for AMZN - 2024-11\n"
     ]
    },
    {
     "name": "stdout",
     "output_type": "stream",
     "text": [
      "2025-02-17 12:11:46,523 - __main__ - INFO - Retrieved 18928 data points for 2024-11\n"
     ]
    },
    {
     "name": "stderr",
     "output_type": "stream",
     "text": [
      "2025-02-17 12:11:46,523 - INFO - Retrieved 18928 data points for 2024-11\n"
     ]
    },
    {
     "name": "stdout",
     "output_type": "stream",
     "text": [
      "2025-02-17 12:11:46,524 - __main__ - INFO - Fetching data for AMZN - 2024-10\n"
     ]
    },
    {
     "name": "stderr",
     "output_type": "stream",
     "text": [
      "2025-02-17 12:11:46,524 - INFO - Fetching data for AMZN - 2024-10\n"
     ]
    },
    {
     "name": "stdout",
     "output_type": "stream",
     "text": [
      "2025-02-17 12:11:47,807 - __main__ - INFO - Retrieved 21619 data points for 2024-10\n"
     ]
    },
    {
     "name": "stderr",
     "output_type": "stream",
     "text": [
      "2025-02-17 12:11:47,807 - INFO - Retrieved 21619 data points for 2024-10\n"
     ]
    },
    {
     "name": "stdout",
     "output_type": "stream",
     "text": [
      "2025-02-17 12:11:47,808 - __main__ - INFO - Fetching data for AMZN - 2024-09\n"
     ]
    },
    {
     "name": "stderr",
     "output_type": "stream",
     "text": [
      "2025-02-17 12:11:47,808 - INFO - Fetching data for AMZN - 2024-09\n"
     ]
    },
    {
     "name": "stdout",
     "output_type": "stream",
     "text": [
      "2025-02-17 12:11:48,894 - __main__ - INFO - Retrieved 18760 data points for 2024-09\n"
     ]
    },
    {
     "name": "stderr",
     "output_type": "stream",
     "text": [
      "2025-02-17 12:11:48,894 - INFO - Retrieved 18760 data points for 2024-09\n"
     ]
    },
    {
     "name": "stdout",
     "output_type": "stream",
     "text": [
      "2025-02-17 12:11:48,895 - __main__ - INFO - Fetching data for AMZN - 2024-08\n"
     ]
    },
    {
     "name": "stderr",
     "output_type": "stream",
     "text": [
      "2025-02-17 12:11:48,895 - INFO - Fetching data for AMZN - 2024-08\n"
     ]
    },
    {
     "name": "stdout",
     "output_type": "stream",
     "text": [
      "2025-02-17 12:11:50,043 - __main__ - INFO - Retrieved 20875 data points for 2024-08\n"
     ]
    },
    {
     "name": "stderr",
     "output_type": "stream",
     "text": [
      "2025-02-17 12:11:50,043 - INFO - Retrieved 20875 data points for 2024-08\n"
     ]
    },
    {
     "name": "stdout",
     "output_type": "stream",
     "text": [
      "2025-02-17 12:11:50,044 - __main__ - INFO - Fetching data for AMZN - 2024-07\n"
     ]
    },
    {
     "name": "stderr",
     "output_type": "stream",
     "text": [
      "2025-02-17 12:11:50,044 - INFO - Fetching data for AMZN - 2024-07\n"
     ]
    },
    {
     "name": "stdout",
     "output_type": "stream",
     "text": [
      "2025-02-17 12:11:51,142 - __main__ - INFO - Retrieved 20749 data points for 2024-07\n"
     ]
    },
    {
     "name": "stderr",
     "output_type": "stream",
     "text": [
      "2025-02-17 12:11:51,142 - INFO - Retrieved 20749 data points for 2024-07\n"
     ]
    },
    {
     "name": "stdout",
     "output_type": "stream",
     "text": [
      "2025-02-17 12:11:51,143 - __main__ - INFO - Fetching data for AMZN - 2024-06\n"
     ]
    },
    {
     "name": "stderr",
     "output_type": "stream",
     "text": [
      "2025-02-17 12:11:51,143 - INFO - Fetching data for AMZN - 2024-06\n"
     ]
    },
    {
     "name": "stdout",
     "output_type": "stream",
     "text": [
      "2025-02-17 12:11:52,230 - __main__ - INFO - Retrieved 17918 data points for 2024-06\n"
     ]
    },
    {
     "name": "stderr",
     "output_type": "stream",
     "text": [
      "2025-02-17 12:11:52,230 - INFO - Retrieved 17918 data points for 2024-06\n"
     ]
    },
    {
     "name": "stdout",
     "output_type": "stream",
     "text": [
      "2025-02-17 12:11:52,231 - __main__ - INFO - Fetching data for AMZN - 2024-05\n"
     ]
    },
    {
     "name": "stderr",
     "output_type": "stream",
     "text": [
      "2025-02-17 12:11:52,231 - INFO - Fetching data for AMZN - 2024-05\n"
     ]
    },
    {
     "name": "stdout",
     "output_type": "stream",
     "text": [
      "2025-02-17 12:11:53,659 - __main__ - INFO - Retrieved 20550 data points for 2024-05\n"
     ]
    },
    {
     "name": "stderr",
     "output_type": "stream",
     "text": [
      "2025-02-17 12:11:53,659 - INFO - Retrieved 20550 data points for 2024-05\n"
     ]
    },
    {
     "name": "stdout",
     "output_type": "stream",
     "text": [
      "2025-02-17 12:11:53,660 - __main__ - INFO - Fetching data for AMZN - 2024-04\n"
     ]
    },
    {
     "name": "stderr",
     "output_type": "stream",
     "text": [
      "2025-02-17 12:11:53,660 - INFO - Fetching data for AMZN - 2024-04\n"
     ]
    },
    {
     "name": "stdout",
     "output_type": "stream",
     "text": [
      "2025-02-17 12:11:54,970 - __main__ - INFO - Retrieved 20730 data points for 2024-04\n"
     ]
    },
    {
     "name": "stderr",
     "output_type": "stream",
     "text": [
      "2025-02-17 12:11:54,970 - INFO - Retrieved 20730 data points for 2024-04\n"
     ]
    },
    {
     "name": "stdout",
     "output_type": "stream",
     "text": [
      "2025-02-17 12:11:54,971 - __main__ - INFO - Fetching data for AMZN - 2024-03\n"
     ]
    },
    {
     "name": "stderr",
     "output_type": "stream",
     "text": [
      "2025-02-17 12:11:54,971 - INFO - Fetching data for AMZN - 2024-03\n"
     ]
    },
    {
     "name": "stdout",
     "output_type": "stream",
     "text": [
      "2025-02-17 12:11:56,138 - __main__ - INFO - Retrieved 18725 data points for 2024-03\n"
     ]
    },
    {
     "name": "stderr",
     "output_type": "stream",
     "text": [
      "2025-02-17 12:11:56,138 - INFO - Retrieved 18725 data points for 2024-03\n"
     ]
    },
    {
     "name": "stdout",
     "output_type": "stream",
     "text": [
      "2025-02-17 12:11:56,138 - __main__ - INFO - Writing data to /Users/benpfeffer/Desktop/CODE/volatility-strategy/db/cache/market_data/AMZN_1min.csv\n"
     ]
    },
    {
     "name": "stderr",
     "output_type": "stream",
     "text": [
      "2025-02-17 12:11:56,138 - INFO - Writing data to /Users/benpfeffer/Desktop/CODE/volatility-strategy/db/cache/market_data/AMZN_1min.csv\n"
     ]
    },
    {
     "name": "stdout",
     "output_type": "stream",
     "text": [
      "2025-02-17 12:11:56,145 - __main__ - INFO - Data fetch completed successfully\n"
     ]
    },
    {
     "name": "stderr",
     "output_type": "stream",
     "text": [
      "2025-02-17 12:11:56,145 - INFO - Data fetch completed successfully\n"
     ]
    },
    {
     "name": "stdout",
     "output_type": "stream",
     "text": [
      "2025-02-17 12:11:56,147 - __main__ - INFO - Starting data fetch for AMGN with 1min interval\n"
     ]
    },
    {
     "name": "stderr",
     "output_type": "stream",
     "text": [
      "2025-02-17 12:11:56,147 - INFO - Starting data fetch for AMGN with 1min interval\n"
     ]
    },
    {
     "name": "stdout",
     "output_type": "stream",
     "text": [
      "2025-02-17 12:11:56,148 - __main__ - INFO - Using 1min interval - fetching data month by month for past year\n"
     ]
    },
    {
     "name": "stderr",
     "output_type": "stream",
     "text": [
      "2025-02-17 12:11:56,148 - INFO - Using 1min interval - fetching data month by month for past year\n"
     ]
    },
    {
     "name": "stdout",
     "output_type": "stream",
     "text": [
      "2025-02-17 12:11:56,149 - __main__ - INFO - Will fetch data for months: ['2025-02', '2025-01', '2024-12', '2024-11', '2024-10', '2024-09', '2024-08', '2024-07', '2024-06', '2024-05', '2024-04', '2024-03']\n"
     ]
    },
    {
     "name": "stderr",
     "output_type": "stream",
     "text": [
      "2025-02-17 12:11:56,149 - INFO - Will fetch data for months: ['2025-02', '2025-01', '2024-12', '2024-11', '2024-10', '2024-09', '2024-08', '2024-07', '2024-06', '2024-05', '2024-04', '2024-03']\n"
     ]
    },
    {
     "name": "stdout",
     "output_type": "stream",
     "text": [
      "2025-02-17 12:11:56,150 - __main__ - INFO - Fetching data for AMGN - 2025-02\n"
     ]
    },
    {
     "name": "stderr",
     "output_type": "stream",
     "text": [
      "2025-02-17 12:11:56,150 - INFO - Fetching data for AMGN - 2025-02\n"
     ]
    },
    {
     "name": "stdout",
     "output_type": "stream",
     "text": [
      "2025-02-17 12:11:56,815 - __main__ - INFO - Retrieved 5373 data points for 2025-02\n"
     ]
    },
    {
     "name": "stderr",
     "output_type": "stream",
     "text": [
      "2025-02-17 12:11:56,815 - INFO - Retrieved 5373 data points for 2025-02\n"
     ]
    },
    {
     "name": "stdout",
     "output_type": "stream",
     "text": [
      "2025-02-17 12:11:56,816 - __main__ - INFO - Fetching data for AMGN - 2025-01\n"
     ]
    },
    {
     "name": "stderr",
     "output_type": "stream",
     "text": [
      "2025-02-17 12:11:56,816 - INFO - Fetching data for AMGN - 2025-01\n"
     ]
    },
    {
     "name": "stdout",
     "output_type": "stream",
     "text": [
      "2025-02-17 12:11:57,687 - __main__ - INFO - Retrieved 10507 data points for 2025-01\n"
     ]
    },
    {
     "name": "stderr",
     "output_type": "stream",
     "text": [
      "2025-02-17 12:11:57,687 - INFO - Retrieved 10507 data points for 2025-01\n"
     ]
    },
    {
     "name": "stdout",
     "output_type": "stream",
     "text": [
      "2025-02-17 12:11:57,688 - __main__ - INFO - Fetching data for AMGN - 2024-12\n"
     ]
    },
    {
     "name": "stderr",
     "output_type": "stream",
     "text": [
      "2025-02-17 12:11:57,688 - INFO - Fetching data for AMGN - 2024-12\n"
     ]
    },
    {
     "name": "stdout",
     "output_type": "stream",
     "text": [
      "2025-02-17 12:11:59,964 - __main__ - INFO - Retrieved 11287 data points for 2024-12\n"
     ]
    },
    {
     "name": "stderr",
     "output_type": "stream",
     "text": [
      "2025-02-17 12:11:59,964 - INFO - Retrieved 11287 data points for 2024-12\n"
     ]
    },
    {
     "name": "stdout",
     "output_type": "stream",
     "text": [
      "2025-02-17 12:11:59,965 - __main__ - INFO - Fetching data for AMGN - 2024-11\n"
     ]
    },
    {
     "name": "stderr",
     "output_type": "stream",
     "text": [
      "2025-02-17 12:11:59,965 - INFO - Fetching data for AMGN - 2024-11\n"
     ]
    },
    {
     "name": "stdout",
     "output_type": "stream",
     "text": [
      "2025-02-17 12:12:02,831 - __main__ - INFO - Retrieved 11567 data points for 2024-11\n"
     ]
    },
    {
     "name": "stderr",
     "output_type": "stream",
     "text": [
      "2025-02-17 12:12:02,831 - INFO - Retrieved 11567 data points for 2024-11\n"
     ]
    },
    {
     "name": "stdout",
     "output_type": "stream",
     "text": [
      "2025-02-17 12:12:02,832 - __main__ - INFO - Fetching data for AMGN - 2024-10\n"
     ]
    },
    {
     "name": "stderr",
     "output_type": "stream",
     "text": [
      "2025-02-17 12:12:02,832 - INFO - Fetching data for AMGN - 2024-10\n"
     ]
    },
    {
     "name": "stdout",
     "output_type": "stream",
     "text": [
      "2025-02-17 12:12:05,422 - __main__ - INFO - Retrieved 11180 data points for 2024-10\n"
     ]
    },
    {
     "name": "stderr",
     "output_type": "stream",
     "text": [
      "2025-02-17 12:12:05,422 - INFO - Retrieved 11180 data points for 2024-10\n"
     ]
    },
    {
     "name": "stdout",
     "output_type": "stream",
     "text": [
      "2025-02-17 12:12:05,424 - __main__ - INFO - Fetching data for AMGN - 2024-09\n"
     ]
    },
    {
     "name": "stderr",
     "output_type": "stream",
     "text": [
      "2025-02-17 12:12:05,424 - INFO - Fetching data for AMGN - 2024-09\n"
     ]
    },
    {
     "name": "stdout",
     "output_type": "stream",
     "text": [
      "2025-02-17 12:12:07,807 - __main__ - INFO - Retrieved 10284 data points for 2024-09\n"
     ]
    },
    {
     "name": "stderr",
     "output_type": "stream",
     "text": [
      "2025-02-17 12:12:07,807 - INFO - Retrieved 10284 data points for 2024-09\n"
     ]
    },
    {
     "name": "stdout",
     "output_type": "stream",
     "text": [
      "2025-02-17 12:12:07,808 - __main__ - INFO - Fetching data for AMGN - 2024-08\n"
     ]
    },
    {
     "name": "stderr",
     "output_type": "stream",
     "text": [
      "2025-02-17 12:12:07,808 - INFO - Fetching data for AMGN - 2024-08\n"
     ]
    },
    {
     "name": "stdout",
     "output_type": "stream",
     "text": [
      "2025-02-17 12:12:10,146 - __main__ - INFO - Retrieved 10939 data points for 2024-08\n"
     ]
    },
    {
     "name": "stderr",
     "output_type": "stream",
     "text": [
      "2025-02-17 12:12:10,146 - INFO - Retrieved 10939 data points for 2024-08\n"
     ]
    },
    {
     "name": "stdout",
     "output_type": "stream",
     "text": [
      "2025-02-17 12:12:10,146 - __main__ - INFO - Fetching data for AMGN - 2024-07\n"
     ]
    },
    {
     "name": "stderr",
     "output_type": "stream",
     "text": [
      "2025-02-17 12:12:10,146 - INFO - Fetching data for AMGN - 2024-07\n"
     ]
    },
    {
     "name": "stdout",
     "output_type": "stream",
     "text": [
      "2025-02-17 12:12:12,475 - __main__ - INFO - Retrieved 10943 data points for 2024-07\n"
     ]
    },
    {
     "name": "stderr",
     "output_type": "stream",
     "text": [
      "2025-02-17 12:12:12,475 - INFO - Retrieved 10943 data points for 2024-07\n"
     ]
    },
    {
     "name": "stdout",
     "output_type": "stream",
     "text": [
      "2025-02-17 12:12:12,476 - __main__ - INFO - Fetching data for AMGN - 2024-06\n"
     ]
    },
    {
     "name": "stderr",
     "output_type": "stream",
     "text": [
      "2025-02-17 12:12:12,476 - INFO - Fetching data for AMGN - 2024-06\n"
     ]
    },
    {
     "name": "stdout",
     "output_type": "stream",
     "text": [
      "2025-02-17 12:12:14,657 - __main__ - INFO - Retrieved 9703 data points for 2024-06\n"
     ]
    },
    {
     "name": "stderr",
     "output_type": "stream",
     "text": [
      "2025-02-17 12:12:14,657 - INFO - Retrieved 9703 data points for 2024-06\n"
     ]
    },
    {
     "name": "stdout",
     "output_type": "stream",
     "text": [
      "2025-02-17 12:12:14,658 - __main__ - INFO - Fetching data for AMGN - 2024-05\n"
     ]
    },
    {
     "name": "stderr",
     "output_type": "stream",
     "text": [
      "2025-02-17 12:12:14,658 - INFO - Fetching data for AMGN - 2024-05\n"
     ]
    },
    {
     "name": "stdout",
     "output_type": "stream",
     "text": [
      "2025-02-17 12:12:16,830 - __main__ - INFO - Retrieved 11002 data points for 2024-05\n"
     ]
    },
    {
     "name": "stderr",
     "output_type": "stream",
     "text": [
      "2025-02-17 12:12:16,830 - INFO - Retrieved 11002 data points for 2024-05\n"
     ]
    },
    {
     "name": "stdout",
     "output_type": "stream",
     "text": [
      "2025-02-17 12:12:16,830 - __main__ - INFO - Fetching data for AMGN - 2024-04\n"
     ]
    },
    {
     "name": "stderr",
     "output_type": "stream",
     "text": [
      "2025-02-17 12:12:16,830 - INFO - Fetching data for AMGN - 2024-04\n"
     ]
    },
    {
     "name": "stdout",
     "output_type": "stream",
     "text": [
      "2025-02-17 12:12:19,010 - __main__ - INFO - Retrieved 10150 data points for 2024-04\n"
     ]
    },
    {
     "name": "stderr",
     "output_type": "stream",
     "text": [
      "2025-02-17 12:12:19,010 - INFO - Retrieved 10150 data points for 2024-04\n"
     ]
    },
    {
     "name": "stdout",
     "output_type": "stream",
     "text": [
      "2025-02-17 12:12:19,011 - __main__ - INFO - Fetching data for AMGN - 2024-03\n"
     ]
    },
    {
     "name": "stderr",
     "output_type": "stream",
     "text": [
      "2025-02-17 12:12:19,011 - INFO - Fetching data for AMGN - 2024-03\n"
     ]
    },
    {
     "name": "stdout",
     "output_type": "stream",
     "text": [
      "2025-02-17 12:12:21,227 - __main__ - INFO - Retrieved 9882 data points for 2024-03\n"
     ]
    },
    {
     "name": "stderr",
     "output_type": "stream",
     "text": [
      "2025-02-17 12:12:21,227 - INFO - Retrieved 9882 data points for 2024-03\n"
     ]
    },
    {
     "name": "stdout",
     "output_type": "stream",
     "text": [
      "2025-02-17 12:12:21,228 - __main__ - INFO - Writing data to /Users/benpfeffer/Desktop/CODE/volatility-strategy/db/cache/market_data/AMGN_1min.csv\n"
     ]
    },
    {
     "name": "stderr",
     "output_type": "stream",
     "text": [
      "2025-02-17 12:12:21,228 - INFO - Writing data to /Users/benpfeffer/Desktop/CODE/volatility-strategy/db/cache/market_data/AMGN_1min.csv\n"
     ]
    },
    {
     "name": "stdout",
     "output_type": "stream",
     "text": [
      "2025-02-17 12:12:21,232 - __main__ - INFO - Data fetch completed successfully\n"
     ]
    },
    {
     "name": "stderr",
     "output_type": "stream",
     "text": [
      "2025-02-17 12:12:21,232 - INFO - Data fetch completed successfully\n"
     ]
    },
    {
     "name": "stdout",
     "output_type": "stream",
     "text": [
      "2025-02-17 12:12:21,234 - __main__ - INFO - Starting data fetch for BUD with 1min interval\n"
     ]
    },
    {
     "name": "stderr",
     "output_type": "stream",
     "text": [
      "2025-02-17 12:12:21,234 - INFO - Starting data fetch for BUD with 1min interval\n"
     ]
    },
    {
     "name": "stdout",
     "output_type": "stream",
     "text": [
      "2025-02-17 12:12:21,235 - __main__ - INFO - Using 1min interval - fetching data month by month for past year\n"
     ]
    },
    {
     "name": "stderr",
     "output_type": "stream",
     "text": [
      "2025-02-17 12:12:21,235 - INFO - Using 1min interval - fetching data month by month for past year\n"
     ]
    },
    {
     "name": "stdout",
     "output_type": "stream",
     "text": [
      "2025-02-17 12:12:21,235 - __main__ - INFO - Will fetch data for months: ['2025-02', '2025-01', '2024-12', '2024-11', '2024-10', '2024-09', '2024-08', '2024-07', '2024-06', '2024-05', '2024-04', '2024-03']\n"
     ]
    },
    {
     "name": "stderr",
     "output_type": "stream",
     "text": [
      "2025-02-17 12:12:21,235 - INFO - Will fetch data for months: ['2025-02', '2025-01', '2024-12', '2024-11', '2024-10', '2024-09', '2024-08', '2024-07', '2024-06', '2024-05', '2024-04', '2024-03']\n"
     ]
    },
    {
     "name": "stdout",
     "output_type": "stream",
     "text": [
      "2025-02-17 12:12:21,236 - __main__ - INFO - Fetching data for BUD - 2025-02\n"
     ]
    },
    {
     "name": "stderr",
     "output_type": "stream",
     "text": [
      "2025-02-17 12:12:21,236 - INFO - Fetching data for BUD - 2025-02\n"
     ]
    },
    {
     "name": "stdout",
     "output_type": "stream",
     "text": [
      "2025-02-17 12:12:21,861 - __main__ - INFO - Retrieved 5100 data points for 2025-02\n"
     ]
    },
    {
     "name": "stderr",
     "output_type": "stream",
     "text": [
      "2025-02-17 12:12:21,861 - INFO - Retrieved 5100 data points for 2025-02\n"
     ]
    },
    {
     "name": "stdout",
     "output_type": "stream",
     "text": [
      "2025-02-17 12:12:21,862 - __main__ - INFO - Fetching data for BUD - 2025-01\n"
     ]
    },
    {
     "name": "stderr",
     "output_type": "stream",
     "text": [
      "2025-02-17 12:12:21,862 - INFO - Fetching data for BUD - 2025-01\n"
     ]
    },
    {
     "name": "stdout",
     "output_type": "stream",
     "text": [
      "2025-02-17 12:12:22,845 - __main__ - INFO - Retrieved 10316 data points for 2025-01\n"
     ]
    },
    {
     "name": "stderr",
     "output_type": "stream",
     "text": [
      "2025-02-17 12:12:22,845 - INFO - Retrieved 10316 data points for 2025-01\n"
     ]
    },
    {
     "name": "stdout",
     "output_type": "stream",
     "text": [
      "2025-02-17 12:12:22,846 - __main__ - INFO - Fetching data for BUD - 2024-12\n"
     ]
    },
    {
     "name": "stderr",
     "output_type": "stream",
     "text": [
      "2025-02-17 12:12:22,846 - INFO - Fetching data for BUD - 2024-12\n"
     ]
    },
    {
     "name": "stdout",
     "output_type": "stream",
     "text": [
      "2025-02-17 12:12:25,134 - __main__ - INFO - Retrieved 10434 data points for 2024-12\n"
     ]
    },
    {
     "name": "stderr",
     "output_type": "stream",
     "text": [
      "2025-02-17 12:12:25,134 - INFO - Retrieved 10434 data points for 2024-12\n"
     ]
    },
    {
     "name": "stdout",
     "output_type": "stream",
     "text": [
      "2025-02-17 12:12:25,135 - __main__ - INFO - Fetching data for BUD - 2024-11\n"
     ]
    },
    {
     "name": "stderr",
     "output_type": "stream",
     "text": [
      "2025-02-17 12:12:25,135 - INFO - Fetching data for BUD - 2024-11\n"
     ]
    },
    {
     "name": "stdout",
     "output_type": "stream",
     "text": [
      "2025-02-17 12:12:27,315 - __main__ - INFO - Retrieved 9973 data points for 2024-11\n"
     ]
    },
    {
     "name": "stderr",
     "output_type": "stream",
     "text": [
      "2025-02-17 12:12:27,315 - INFO - Retrieved 9973 data points for 2024-11\n"
     ]
    },
    {
     "name": "stdout",
     "output_type": "stream",
     "text": [
      "2025-02-17 12:12:27,316 - __main__ - INFO - Fetching data for BUD - 2024-10\n"
     ]
    },
    {
     "name": "stderr",
     "output_type": "stream",
     "text": [
      "2025-02-17 12:12:27,316 - INFO - Fetching data for BUD - 2024-10\n"
     ]
    },
    {
     "name": "stdout",
     "output_type": "stream",
     "text": [
      "2025-02-17 12:12:29,520 - __main__ - INFO - Retrieved 9820 data points for 2024-10\n"
     ]
    },
    {
     "name": "stderr",
     "output_type": "stream",
     "text": [
      "2025-02-17 12:12:29,520 - INFO - Retrieved 9820 data points for 2024-10\n"
     ]
    },
    {
     "name": "stdout",
     "output_type": "stream",
     "text": [
      "2025-02-17 12:12:29,521 - __main__ - INFO - Fetching data for BUD - 2024-09\n"
     ]
    },
    {
     "name": "stderr",
     "output_type": "stream",
     "text": [
      "2025-02-17 12:12:29,521 - INFO - Fetching data for BUD - 2024-09\n"
     ]
    },
    {
     "name": "stdout",
     "output_type": "stream",
     "text": [
      "2025-02-17 12:12:31,451 - __main__ - INFO - Retrieved 8545 data points for 2024-09\n"
     ]
    },
    {
     "name": "stderr",
     "output_type": "stream",
     "text": [
      "2025-02-17 12:12:31,451 - INFO - Retrieved 8545 data points for 2024-09\n"
     ]
    },
    {
     "name": "stdout",
     "output_type": "stream",
     "text": [
      "2025-02-17 12:12:31,452 - __main__ - INFO - Fetching data for BUD - 2024-08\n"
     ]
    },
    {
     "name": "stderr",
     "output_type": "stream",
     "text": [
      "2025-02-17 12:12:31,452 - INFO - Fetching data for BUD - 2024-08\n"
     ]
    },
    {
     "name": "stdout",
     "output_type": "stream",
     "text": [
      "2025-02-17 12:12:33,434 - __main__ - INFO - Retrieved 9665 data points for 2024-08\n"
     ]
    },
    {
     "name": "stderr",
     "output_type": "stream",
     "text": [
      "2025-02-17 12:12:33,434 - INFO - Retrieved 9665 data points for 2024-08\n"
     ]
    },
    {
     "name": "stdout",
     "output_type": "stream",
     "text": [
      "2025-02-17 12:12:33,435 - __main__ - INFO - Fetching data for BUD - 2024-07\n"
     ]
    },
    {
     "name": "stderr",
     "output_type": "stream",
     "text": [
      "2025-02-17 12:12:33,435 - INFO - Fetching data for BUD - 2024-07\n"
     ]
    },
    {
     "name": "stdout",
     "output_type": "stream",
     "text": [
      "2025-02-17 12:12:35,570 - __main__ - INFO - Retrieved 9852 data points for 2024-07\n"
     ]
    },
    {
     "name": "stderr",
     "output_type": "stream",
     "text": [
      "2025-02-17 12:12:35,570 - INFO - Retrieved 9852 data points for 2024-07\n"
     ]
    },
    {
     "name": "stdout",
     "output_type": "stream",
     "text": [
      "2025-02-17 12:12:35,571 - __main__ - INFO - Fetching data for BUD - 2024-06\n"
     ]
    },
    {
     "name": "stderr",
     "output_type": "stream",
     "text": [
      "2025-02-17 12:12:35,571 - INFO - Fetching data for BUD - 2024-06\n"
     ]
    },
    {
     "name": "stdout",
     "output_type": "stream",
     "text": [
      "2025-02-17 12:12:37,297 - __main__ - INFO - Retrieved 8470 data points for 2024-06\n"
     ]
    },
    {
     "name": "stderr",
     "output_type": "stream",
     "text": [
      "2025-02-17 12:12:37,297 - INFO - Retrieved 8470 data points for 2024-06\n"
     ]
    },
    {
     "name": "stdout",
     "output_type": "stream",
     "text": [
      "2025-02-17 12:12:37,299 - __main__ - INFO - Fetching data for BUD - 2024-05\n"
     ]
    },
    {
     "name": "stderr",
     "output_type": "stream",
     "text": [
      "2025-02-17 12:12:37,299 - INFO - Fetching data for BUD - 2024-05\n"
     ]
    },
    {
     "name": "stdout",
     "output_type": "stream",
     "text": [
      "2025-02-17 12:12:39,406 - __main__ - INFO - Retrieved 9955 data points for 2024-05\n"
     ]
    },
    {
     "name": "stderr",
     "output_type": "stream",
     "text": [
      "2025-02-17 12:12:39,406 - INFO - Retrieved 9955 data points for 2024-05\n"
     ]
    },
    {
     "name": "stdout",
     "output_type": "stream",
     "text": [
      "2025-02-17 12:12:39,407 - __main__ - INFO - Fetching data for BUD - 2024-04\n"
     ]
    },
    {
     "name": "stderr",
     "output_type": "stream",
     "text": [
      "2025-02-17 12:12:39,407 - INFO - Fetching data for BUD - 2024-04\n"
     ]
    },
    {
     "name": "stdout",
     "output_type": "stream",
     "text": [
      "2025-02-17 12:12:41,365 - __main__ - INFO - Retrieved 9909 data points for 2024-04\n"
     ]
    },
    {
     "name": "stderr",
     "output_type": "stream",
     "text": [
      "2025-02-17 12:12:41,365 - INFO - Retrieved 9909 data points for 2024-04\n"
     ]
    },
    {
     "name": "stdout",
     "output_type": "stream",
     "text": [
      "2025-02-17 12:12:41,366 - __main__ - INFO - Fetching data for BUD - 2024-03\n"
     ]
    },
    {
     "name": "stderr",
     "output_type": "stream",
     "text": [
      "2025-02-17 12:12:41,366 - INFO - Fetching data for BUD - 2024-03\n"
     ]
    },
    {
     "name": "stdout",
     "output_type": "stream",
     "text": [
      "2025-02-17 12:12:43,367 - __main__ - INFO - Retrieved 9266 data points for 2024-03\n"
     ]
    },
    {
     "name": "stderr",
     "output_type": "stream",
     "text": [
      "2025-02-17 12:12:43,367 - INFO - Retrieved 9266 data points for 2024-03\n"
     ]
    },
    {
     "name": "stdout",
     "output_type": "stream",
     "text": [
      "2025-02-17 12:12:43,368 - __main__ - INFO - Writing data to /Users/benpfeffer/Desktop/CODE/volatility-strategy/db/cache/market_data/BUD_1min.csv\n"
     ]
    },
    {
     "name": "stderr",
     "output_type": "stream",
     "text": [
      "2025-02-17 12:12:43,368 - INFO - Writing data to /Users/benpfeffer/Desktop/CODE/volatility-strategy/db/cache/market_data/BUD_1min.csv\n"
     ]
    },
    {
     "name": "stdout",
     "output_type": "stream",
     "text": [
      "2025-02-17 12:12:43,373 - __main__ - INFO - Data fetch completed successfully\n"
     ]
    },
    {
     "name": "stderr",
     "output_type": "stream",
     "text": [
      "2025-02-17 12:12:43,373 - INFO - Data fetch completed successfully\n"
     ]
    },
    {
     "name": "stdout",
     "output_type": "stream",
     "text": [
      "2025-02-17 12:12:43,375 - __main__ - INFO - Starting data fetch for AAPL with 1min interval\n"
     ]
    },
    {
     "name": "stderr",
     "output_type": "stream",
     "text": [
      "2025-02-17 12:12:43,375 - INFO - Starting data fetch for AAPL with 1min interval\n"
     ]
    },
    {
     "name": "stdout",
     "output_type": "stream",
     "text": [
      "2025-02-17 12:12:43,376 - __main__ - INFO - Using 1min interval - fetching data month by month for past year\n"
     ]
    },
    {
     "name": "stderr",
     "output_type": "stream",
     "text": [
      "2025-02-17 12:12:43,376 - INFO - Using 1min interval - fetching data month by month for past year\n"
     ]
    },
    {
     "name": "stdout",
     "output_type": "stream",
     "text": [
      "2025-02-17 12:12:43,376 - __main__ - INFO - Will fetch data for months: ['2025-02', '2025-01', '2024-12', '2024-11', '2024-10', '2024-09', '2024-08', '2024-07', '2024-06', '2024-05', '2024-04', '2024-03']\n"
     ]
    },
    {
     "name": "stderr",
     "output_type": "stream",
     "text": [
      "2025-02-17 12:12:43,376 - INFO - Will fetch data for months: ['2025-02', '2025-01', '2024-12', '2024-11', '2024-10', '2024-09', '2024-08', '2024-07', '2024-06', '2024-05', '2024-04', '2024-03']\n"
     ]
    },
    {
     "name": "stdout",
     "output_type": "stream",
     "text": [
      "2025-02-17 12:12:43,377 - __main__ - INFO - Fetching data for AAPL - 2025-02\n"
     ]
    },
    {
     "name": "stderr",
     "output_type": "stream",
     "text": [
      "2025-02-17 12:12:43,377 - INFO - Fetching data for AAPL - 2025-02\n"
     ]
    },
    {
     "name": "stdout",
     "output_type": "stream",
     "text": [
      "2025-02-17 12:12:44,328 - __main__ - INFO - Retrieved 9588 data points for 2025-02\n"
     ]
    },
    {
     "name": "stderr",
     "output_type": "stream",
     "text": [
      "2025-02-17 12:12:44,328 - INFO - Retrieved 9588 data points for 2025-02\n"
     ]
    },
    {
     "name": "stdout",
     "output_type": "stream",
     "text": [
      "2025-02-17 12:12:44,329 - __main__ - INFO - Fetching data for AAPL - 2025-01\n"
     ]
    },
    {
     "name": "stderr",
     "output_type": "stream",
     "text": [
      "2025-02-17 12:12:44,329 - INFO - Fetching data for AAPL - 2025-01\n"
     ]
    },
    {
     "name": "stdout",
     "output_type": "stream",
     "text": [
      "2025-02-17 12:12:45,660 - __main__ - INFO - Retrieved 19187 data points for 2025-01\n"
     ]
    },
    {
     "name": "stderr",
     "output_type": "stream",
     "text": [
      "2025-02-17 12:12:45,660 - INFO - Retrieved 19187 data points for 2025-01\n"
     ]
    },
    {
     "name": "stdout",
     "output_type": "stream",
     "text": [
      "2025-02-17 12:12:45,661 - __main__ - INFO - Fetching data for AAPL - 2024-12\n"
     ]
    },
    {
     "name": "stderr",
     "output_type": "stream",
     "text": [
      "2025-02-17 12:12:45,661 - INFO - Fetching data for AAPL - 2024-12\n"
     ]
    },
    {
     "name": "stdout",
     "output_type": "stream",
     "text": [
      "2025-02-17 12:12:46,982 - __main__ - INFO - Retrieved 19940 data points for 2024-12\n"
     ]
    },
    {
     "name": "stderr",
     "output_type": "stream",
     "text": [
      "2025-02-17 12:12:46,982 - INFO - Retrieved 19940 data points for 2024-12\n"
     ]
    },
    {
     "name": "stdout",
     "output_type": "stream",
     "text": [
      "2025-02-17 12:12:46,983 - __main__ - INFO - Fetching data for AAPL - 2024-11\n"
     ]
    },
    {
     "name": "stderr",
     "output_type": "stream",
     "text": [
      "2025-02-17 12:12:46,983 - INFO - Fetching data for AAPL - 2024-11\n"
     ]
    },
    {
     "name": "stdout",
     "output_type": "stream",
     "text": [
      "2025-02-17 12:12:48,033 - __main__ - INFO - Retrieved 18974 data points for 2024-11\n"
     ]
    },
    {
     "name": "stderr",
     "output_type": "stream",
     "text": [
      "2025-02-17 12:12:48,033 - INFO - Retrieved 18974 data points for 2024-11\n"
     ]
    },
    {
     "name": "stdout",
     "output_type": "stream",
     "text": [
      "2025-02-17 12:12:48,034 - __main__ - INFO - Fetching data for AAPL - 2024-10\n"
     ]
    },
    {
     "name": "stderr",
     "output_type": "stream",
     "text": [
      "2025-02-17 12:12:48,034 - INFO - Fetching data for AAPL - 2024-10\n"
     ]
    },
    {
     "name": "stdout",
     "output_type": "stream",
     "text": [
      "2025-02-17 12:12:49,348 - __main__ - INFO - Retrieved 21947 data points for 2024-10\n"
     ]
    },
    {
     "name": "stderr",
     "output_type": "stream",
     "text": [
      "2025-02-17 12:12:49,348 - INFO - Retrieved 21947 data points for 2024-10\n"
     ]
    },
    {
     "name": "stdout",
     "output_type": "stream",
     "text": [
      "2025-02-17 12:12:49,349 - __main__ - INFO - Fetching data for AAPL - 2024-09\n"
     ]
    },
    {
     "name": "stderr",
     "output_type": "stream",
     "text": [
      "2025-02-17 12:12:49,349 - INFO - Fetching data for AAPL - 2024-09\n"
     ]
    },
    {
     "name": "stdout",
     "output_type": "stream",
     "text": [
      "2025-02-17 12:12:50,611 - __main__ - INFO - Retrieved 19142 data points for 2024-09\n"
     ]
    },
    {
     "name": "stderr",
     "output_type": "stream",
     "text": [
      "2025-02-17 12:12:50,611 - INFO - Retrieved 19142 data points for 2024-09\n"
     ]
    },
    {
     "name": "stdout",
     "output_type": "stream",
     "text": [
      "2025-02-17 12:12:50,612 - __main__ - INFO - Fetching data for AAPL - 2024-08\n"
     ]
    },
    {
     "name": "stderr",
     "output_type": "stream",
     "text": [
      "2025-02-17 12:12:50,612 - INFO - Fetching data for AAPL - 2024-08\n"
     ]
    },
    {
     "name": "stdout",
     "output_type": "stream",
     "text": [
      "2025-02-17 12:12:51,746 - __main__ - INFO - Retrieved 21018 data points for 2024-08\n"
     ]
    },
    {
     "name": "stderr",
     "output_type": "stream",
     "text": [
      "2025-02-17 12:12:51,746 - INFO - Retrieved 21018 data points for 2024-08\n"
     ]
    },
    {
     "name": "stdout",
     "output_type": "stream",
     "text": [
      "2025-02-17 12:12:51,747 - __main__ - INFO - Fetching data for AAPL - 2024-07\n"
     ]
    },
    {
     "name": "stderr",
     "output_type": "stream",
     "text": [
      "2025-02-17 12:12:51,747 - INFO - Fetching data for AAPL - 2024-07\n"
     ]
    },
    {
     "name": "stdout",
     "output_type": "stream",
     "text": [
      "2025-02-17 12:12:53,078 - __main__ - INFO - Retrieved 20910 data points for 2024-07\n"
     ]
    },
    {
     "name": "stderr",
     "output_type": "stream",
     "text": [
      "2025-02-17 12:12:53,078 - INFO - Retrieved 20910 data points for 2024-07\n"
     ]
    },
    {
     "name": "stdout",
     "output_type": "stream",
     "text": [
      "2025-02-17 12:12:53,079 - __main__ - INFO - Fetching data for AAPL - 2024-06\n"
     ]
    },
    {
     "name": "stderr",
     "output_type": "stream",
     "text": [
      "2025-02-17 12:12:53,079 - INFO - Fetching data for AAPL - 2024-06\n"
     ]
    },
    {
     "name": "stdout",
     "output_type": "stream",
     "text": [
      "2025-02-17 12:12:54,261 - __main__ - INFO - Retrieved 18215 data points for 2024-06\n"
     ]
    },
    {
     "name": "stderr",
     "output_type": "stream",
     "text": [
      "2025-02-17 12:12:54,261 - INFO - Retrieved 18215 data points for 2024-06\n"
     ]
    },
    {
     "name": "stdout",
     "output_type": "stream",
     "text": [
      "2025-02-17 12:12:54,262 - __main__ - INFO - Fetching data for AAPL - 2024-05\n"
     ]
    },
    {
     "name": "stderr",
     "output_type": "stream",
     "text": [
      "2025-02-17 12:12:54,262 - INFO - Fetching data for AAPL - 2024-05\n"
     ]
    },
    {
     "name": "stdout",
     "output_type": "stream",
     "text": [
      "2025-02-17 12:12:55,502 - __main__ - INFO - Retrieved 21046 data points for 2024-05\n"
     ]
    },
    {
     "name": "stderr",
     "output_type": "stream",
     "text": [
      "2025-02-17 12:12:55,502 - INFO - Retrieved 21046 data points for 2024-05\n"
     ]
    },
    {
     "name": "stdout",
     "output_type": "stream",
     "text": [
      "2025-02-17 12:12:55,503 - __main__ - INFO - Fetching data for AAPL - 2024-04\n"
     ]
    },
    {
     "name": "stderr",
     "output_type": "stream",
     "text": [
      "2025-02-17 12:12:55,503 - INFO - Fetching data for AAPL - 2024-04\n"
     ]
    },
    {
     "name": "stdout",
     "output_type": "stream",
     "text": [
      "2025-02-17 12:12:56,833 - __main__ - INFO - Retrieved 21057 data points for 2024-04\n"
     ]
    },
    {
     "name": "stderr",
     "output_type": "stream",
     "text": [
      "2025-02-17 12:12:56,833 - INFO - Retrieved 21057 data points for 2024-04\n"
     ]
    },
    {
     "name": "stdout",
     "output_type": "stream",
     "text": [
      "2025-02-17 12:12:56,834 - __main__ - INFO - Fetching data for AAPL - 2024-03\n"
     ]
    },
    {
     "name": "stderr",
     "output_type": "stream",
     "text": [
      "2025-02-17 12:12:56,834 - INFO - Fetching data for AAPL - 2024-03\n"
     ]
    },
    {
     "name": "stdout",
     "output_type": "stream",
     "text": [
      "2025-02-17 12:12:58,070 - __main__ - INFO - Retrieved 19189 data points for 2024-03\n"
     ]
    },
    {
     "name": "stderr",
     "output_type": "stream",
     "text": [
      "2025-02-17 12:12:58,070 - INFO - Retrieved 19189 data points for 2024-03\n"
     ]
    },
    {
     "name": "stdout",
     "output_type": "stream",
     "text": [
      "2025-02-17 12:12:58,071 - __main__ - INFO - Writing data to /Users/benpfeffer/Desktop/CODE/volatility-strategy/db/cache/market_data/AAPL_1min.csv\n"
     ]
    },
    {
     "name": "stderr",
     "output_type": "stream",
     "text": [
      "2025-02-17 12:12:58,071 - INFO - Writing data to /Users/benpfeffer/Desktop/CODE/volatility-strategy/db/cache/market_data/AAPL_1min.csv\n"
     ]
    },
    {
     "name": "stdout",
     "output_type": "stream",
     "text": [
      "2025-02-17 12:12:58,077 - __main__ - INFO - Data fetch completed successfully\n"
     ]
    },
    {
     "name": "stderr",
     "output_type": "stream",
     "text": [
      "2025-02-17 12:12:58,077 - INFO - Data fetch completed successfully\n"
     ]
    },
    {
     "name": "stdout",
     "output_type": "stream",
     "text": [
      "2025-02-17 12:12:58,088 - __main__ - INFO - Starting data fetch for BHP with 1min interval\n"
     ]
    },
    {
     "name": "stderr",
     "output_type": "stream",
     "text": [
      "2025-02-17 12:12:58,088 - INFO - Starting data fetch for BHP with 1min interval\n"
     ]
    },
    {
     "name": "stdout",
     "output_type": "stream",
     "text": [
      "2025-02-17 12:12:58,090 - __main__ - INFO - Using 1min interval - fetching data month by month for past year\n"
     ]
    },
    {
     "name": "stderr",
     "output_type": "stream",
     "text": [
      "2025-02-17 12:12:58,090 - INFO - Using 1min interval - fetching data month by month for past year\n"
     ]
    },
    {
     "name": "stdout",
     "output_type": "stream",
     "text": [
      "2025-02-17 12:12:58,091 - __main__ - INFO - Will fetch data for months: ['2025-02', '2025-01', '2024-12', '2024-11', '2024-10', '2024-09', '2024-08', '2024-07', '2024-06', '2024-05', '2024-04', '2024-03']\n"
     ]
    },
    {
     "name": "stderr",
     "output_type": "stream",
     "text": [
      "2025-02-17 12:12:58,091 - INFO - Will fetch data for months: ['2025-02', '2025-01', '2024-12', '2024-11', '2024-10', '2024-09', '2024-08', '2024-07', '2024-06', '2024-05', '2024-04', '2024-03']\n"
     ]
    },
    {
     "name": "stdout",
     "output_type": "stream",
     "text": [
      "2025-02-17 12:12:58,092 - __main__ - INFO - Fetching data for BHP - 2025-02\n"
     ]
    },
    {
     "name": "stderr",
     "output_type": "stream",
     "text": [
      "2025-02-17 12:12:58,092 - INFO - Fetching data for BHP - 2025-02\n"
     ]
    },
    {
     "name": "stdout",
     "output_type": "stream",
     "text": [
      "2025-02-17 12:12:58,721 - __main__ - INFO - Retrieved 5069 data points for 2025-02\n"
     ]
    },
    {
     "name": "stderr",
     "output_type": "stream",
     "text": [
      "2025-02-17 12:12:58,721 - INFO - Retrieved 5069 data points for 2025-02\n"
     ]
    },
    {
     "name": "stdout",
     "output_type": "stream",
     "text": [
      "2025-02-17 12:12:58,722 - __main__ - INFO - Fetching data for BHP - 2025-01\n"
     ]
    },
    {
     "name": "stderr",
     "output_type": "stream",
     "text": [
      "2025-02-17 12:12:58,722 - INFO - Fetching data for BHP - 2025-01\n"
     ]
    },
    {
     "name": "stdout",
     "output_type": "stream",
     "text": [
      "2025-02-17 12:12:59,635 - __main__ - INFO - Retrieved 10369 data points for 2025-01\n"
     ]
    },
    {
     "name": "stderr",
     "output_type": "stream",
     "text": [
      "2025-02-17 12:12:59,635 - INFO - Retrieved 10369 data points for 2025-01\n"
     ]
    },
    {
     "name": "stdout",
     "output_type": "stream",
     "text": [
      "2025-02-17 12:12:59,636 - __main__ - INFO - Fetching data for BHP - 2024-12\n"
     ]
    },
    {
     "name": "stderr",
     "output_type": "stream",
     "text": [
      "2025-02-17 12:12:59,636 - INFO - Fetching data for BHP - 2024-12\n"
     ]
    },
    {
     "name": "stdout",
     "output_type": "stream",
     "text": [
      "2025-02-17 12:13:02,301 - __main__ - INFO - Retrieved 10174 data points for 2024-12\n"
     ]
    },
    {
     "name": "stderr",
     "output_type": "stream",
     "text": [
      "2025-02-17 12:13:02,301 - INFO - Retrieved 10174 data points for 2024-12\n"
     ]
    },
    {
     "name": "stdout",
     "output_type": "stream",
     "text": [
      "2025-02-17 12:13:02,302 - __main__ - INFO - Fetching data for BHP - 2024-11\n"
     ]
    },
    {
     "name": "stderr",
     "output_type": "stream",
     "text": [
      "2025-02-17 12:13:02,302 - INFO - Fetching data for BHP - 2024-11\n"
     ]
    },
    {
     "name": "stdout",
     "output_type": "stream",
     "text": [
      "2025-02-17 12:13:04,392 - __main__ - INFO - Retrieved 10207 data points for 2024-11\n"
     ]
    },
    {
     "name": "stderr",
     "output_type": "stream",
     "text": [
      "2025-02-17 12:13:04,392 - INFO - Retrieved 10207 data points for 2024-11\n"
     ]
    },
    {
     "name": "stdout",
     "output_type": "stream",
     "text": [
      "2025-02-17 12:13:04,393 - __main__ - INFO - Fetching data for BHP - 2024-10\n"
     ]
    },
    {
     "name": "stderr",
     "output_type": "stream",
     "text": [
      "2025-02-17 12:13:04,393 - INFO - Fetching data for BHP - 2024-10\n"
     ]
    },
    {
     "name": "stdout",
     "output_type": "stream",
     "text": [
      "2025-02-17 12:13:06,860 - __main__ - INFO - Retrieved 11256 data points for 2024-10\n"
     ]
    },
    {
     "name": "stderr",
     "output_type": "stream",
     "text": [
      "2025-02-17 12:13:06,860 - INFO - Retrieved 11256 data points for 2024-10\n"
     ]
    },
    {
     "name": "stdout",
     "output_type": "stream",
     "text": [
      "2025-02-17 12:13:06,861 - __main__ - INFO - Fetching data for BHP - 2024-09\n"
     ]
    },
    {
     "name": "stderr",
     "output_type": "stream",
     "text": [
      "2025-02-17 12:13:06,861 - INFO - Fetching data for BHP - 2024-09\n"
     ]
    },
    {
     "name": "stdout",
     "output_type": "stream",
     "text": [
      "2025-02-17 12:13:08,873 - __main__ - INFO - Retrieved 10743 data points for 2024-09\n"
     ]
    },
    {
     "name": "stderr",
     "output_type": "stream",
     "text": [
      "2025-02-17 12:13:08,873 - INFO - Retrieved 10743 data points for 2024-09\n"
     ]
    },
    {
     "name": "stdout",
     "output_type": "stream",
     "text": [
      "2025-02-17 12:13:08,874 - __main__ - INFO - Fetching data for BHP - 2024-08\n"
     ]
    },
    {
     "name": "stderr",
     "output_type": "stream",
     "text": [
      "2025-02-17 12:13:08,874 - INFO - Fetching data for BHP - 2024-08\n"
     ]
    },
    {
     "name": "stdout",
     "output_type": "stream",
     "text": [
      "2025-02-17 12:13:11,122 - __main__ - INFO - Retrieved 11221 data points for 2024-08\n"
     ]
    },
    {
     "name": "stderr",
     "output_type": "stream",
     "text": [
      "2025-02-17 12:13:11,122 - INFO - Retrieved 11221 data points for 2024-08\n"
     ]
    },
    {
     "name": "stdout",
     "output_type": "stream",
     "text": [
      "2025-02-17 12:13:11,123 - __main__ - INFO - Fetching data for BHP - 2024-07\n"
     ]
    },
    {
     "name": "stderr",
     "output_type": "stream",
     "text": [
      "2025-02-17 12:13:11,123 - INFO - Fetching data for BHP - 2024-07\n"
     ]
    },
    {
     "name": "stdout",
     "output_type": "stream",
     "text": [
      "2025-02-17 12:13:13,390 - __main__ - INFO - Retrieved 11129 data points for 2024-07\n"
     ]
    },
    {
     "name": "stderr",
     "output_type": "stream",
     "text": [
      "2025-02-17 12:13:13,390 - INFO - Retrieved 11129 data points for 2024-07\n"
     ]
    },
    {
     "name": "stdout",
     "output_type": "stream",
     "text": [
      "2025-02-17 12:13:13,391 - __main__ - INFO - Fetching data for BHP - 2024-06\n"
     ]
    },
    {
     "name": "stderr",
     "output_type": "stream",
     "text": [
      "2025-02-17 12:13:13,391 - INFO - Fetching data for BHP - 2024-06\n"
     ]
    },
    {
     "name": "stdout",
     "output_type": "stream",
     "text": [
      "2025-02-17 12:13:15,347 - __main__ - INFO - Retrieved 9636 data points for 2024-06\n"
     ]
    },
    {
     "name": "stderr",
     "output_type": "stream",
     "text": [
      "2025-02-17 12:13:15,347 - INFO - Retrieved 9636 data points for 2024-06\n"
     ]
    },
    {
     "name": "stdout",
     "output_type": "stream",
     "text": [
      "2025-02-17 12:13:15,348 - __main__ - INFO - Fetching data for BHP - 2024-05\n"
     ]
    },
    {
     "name": "stderr",
     "output_type": "stream",
     "text": [
      "2025-02-17 12:13:15,348 - INFO - Fetching data for BHP - 2024-05\n"
     ]
    },
    {
     "name": "stdout",
     "output_type": "stream",
     "text": [
      "2025-02-17 12:13:16,252 - __main__ - INFO - Retrieved 11299 data points for 2024-05\n"
     ]
    },
    {
     "name": "stderr",
     "output_type": "stream",
     "text": [
      "2025-02-17 12:13:16,252 - INFO - Retrieved 11299 data points for 2024-05\n"
     ]
    },
    {
     "name": "stdout",
     "output_type": "stream",
     "text": [
      "2025-02-17 12:13:16,253 - __main__ - INFO - Fetching data for BHP - 2024-04\n"
     ]
    },
    {
     "name": "stderr",
     "output_type": "stream",
     "text": [
      "2025-02-17 12:13:16,253 - INFO - Fetching data for BHP - 2024-04\n"
     ]
    },
    {
     "name": "stdout",
     "output_type": "stream",
     "text": [
      "2025-02-17 12:13:18,635 - __main__ - INFO - Retrieved 11611 data points for 2024-04\n"
     ]
    },
    {
     "name": "stderr",
     "output_type": "stream",
     "text": [
      "2025-02-17 12:13:18,635 - INFO - Retrieved 11611 data points for 2024-04\n"
     ]
    },
    {
     "name": "stdout",
     "output_type": "stream",
     "text": [
      "2025-02-17 12:13:18,636 - __main__ - INFO - Fetching data for BHP - 2024-03\n"
     ]
    },
    {
     "name": "stderr",
     "output_type": "stream",
     "text": [
      "2025-02-17 12:13:18,636 - INFO - Fetching data for BHP - 2024-03\n"
     ]
    },
    {
     "name": "stdout",
     "output_type": "stream",
     "text": [
      "2025-02-17 12:13:20,746 - __main__ - INFO - Retrieved 10107 data points for 2024-03\n"
     ]
    },
    {
     "name": "stderr",
     "output_type": "stream",
     "text": [
      "2025-02-17 12:13:20,746 - INFO - Retrieved 10107 data points for 2024-03\n"
     ]
    },
    {
     "name": "stdout",
     "output_type": "stream",
     "text": [
      "2025-02-17 12:13:20,747 - __main__ - INFO - Writing data to /Users/benpfeffer/Desktop/CODE/volatility-strategy/db/cache/market_data/BHP_1min.csv\n"
     ]
    },
    {
     "name": "stderr",
     "output_type": "stream",
     "text": [
      "2025-02-17 12:13:20,747 - INFO - Writing data to /Users/benpfeffer/Desktop/CODE/volatility-strategy/db/cache/market_data/BHP_1min.csv\n"
     ]
    },
    {
     "name": "stdout",
     "output_type": "stream",
     "text": [
      "2025-02-17 12:13:20,751 - __main__ - INFO - Data fetch completed successfully\n"
     ]
    },
    {
     "name": "stderr",
     "output_type": "stream",
     "text": [
      "2025-02-17 12:13:20,751 - INFO - Data fetch completed successfully\n"
     ]
    },
    {
     "name": "stdout",
     "output_type": "stream",
     "text": [
      "2025-02-17 12:13:20,752 - __main__ - INFO - Starting data fetch for BA with 1min interval\n"
     ]
    },
    {
     "name": "stderr",
     "output_type": "stream",
     "text": [
      "2025-02-17 12:13:20,752 - INFO - Starting data fetch for BA with 1min interval\n"
     ]
    },
    {
     "name": "stdout",
     "output_type": "stream",
     "text": [
      "2025-02-17 12:13:20,753 - __main__ - INFO - Using 1min interval - fetching data month by month for past year\n"
     ]
    },
    {
     "name": "stderr",
     "output_type": "stream",
     "text": [
      "2025-02-17 12:13:20,753 - INFO - Using 1min interval - fetching data month by month for past year\n"
     ]
    },
    {
     "name": "stdout",
     "output_type": "stream",
     "text": [
      "2025-02-17 12:13:20,754 - __main__ - INFO - Will fetch data for months: ['2025-02', '2025-01', '2024-12', '2024-11', '2024-10', '2024-09', '2024-08', '2024-07', '2024-06', '2024-05', '2024-04', '2024-03']\n"
     ]
    },
    {
     "name": "stderr",
     "output_type": "stream",
     "text": [
      "2025-02-17 12:13:20,754 - INFO - Will fetch data for months: ['2025-02', '2025-01', '2024-12', '2024-11', '2024-10', '2024-09', '2024-08', '2024-07', '2024-06', '2024-05', '2024-04', '2024-03']\n"
     ]
    },
    {
     "name": "stdout",
     "output_type": "stream",
     "text": [
      "2025-02-17 12:13:20,754 - __main__ - INFO - Fetching data for BA - 2025-02\n"
     ]
    },
    {
     "name": "stderr",
     "output_type": "stream",
     "text": [
      "2025-02-17 12:13:20,754 - INFO - Fetching data for BA - 2025-02\n"
     ]
    },
    {
     "name": "stdout",
     "output_type": "stream",
     "text": [
      "2025-02-17 12:13:21,568 - __main__ - INFO - Retrieved 7358 data points for 2025-02\n"
     ]
    },
    {
     "name": "stderr",
     "output_type": "stream",
     "text": [
      "2025-02-17 12:13:21,568 - INFO - Retrieved 7358 data points for 2025-02\n"
     ]
    },
    {
     "name": "stdout",
     "output_type": "stream",
     "text": [
      "2025-02-17 12:13:21,569 - __main__ - INFO - Fetching data for BA - 2025-01\n"
     ]
    },
    {
     "name": "stderr",
     "output_type": "stream",
     "text": [
      "2025-02-17 12:13:21,569 - INFO - Fetching data for BA - 2025-01\n"
     ]
    },
    {
     "name": "stdout",
     "output_type": "stream",
     "text": [
      "2025-02-17 12:13:22,621 - __main__ - INFO - Retrieved 15774 data points for 2025-01\n"
     ]
    },
    {
     "name": "stderr",
     "output_type": "stream",
     "text": [
      "2025-02-17 12:13:22,621 - INFO - Retrieved 15774 data points for 2025-01\n"
     ]
    },
    {
     "name": "stdout",
     "output_type": "stream",
     "text": [
      "2025-02-17 12:13:22,622 - __main__ - INFO - Fetching data for BA - 2024-12\n"
     ]
    },
    {
     "name": "stderr",
     "output_type": "stream",
     "text": [
      "2025-02-17 12:13:22,622 - INFO - Fetching data for BA - 2024-12\n"
     ]
    },
    {
     "name": "stdout",
     "output_type": "stream",
     "text": [
      "2025-02-17 12:13:25,572 - __main__ - INFO - Retrieved 17448 data points for 2024-12\n"
     ]
    },
    {
     "name": "stderr",
     "output_type": "stream",
     "text": [
      "2025-02-17 12:13:25,572 - INFO - Retrieved 17448 data points for 2024-12\n"
     ]
    },
    {
     "name": "stdout",
     "output_type": "stream",
     "text": [
      "2025-02-17 12:13:25,572 - __main__ - INFO - Fetching data for BA - 2024-11\n"
     ]
    },
    {
     "name": "stderr",
     "output_type": "stream",
     "text": [
      "2025-02-17 12:13:25,572 - INFO - Fetching data for BA - 2024-11\n"
     ]
    },
    {
     "name": "stdout",
     "output_type": "stream",
     "text": [
      "2025-02-17 12:13:28,325 - __main__ - INFO - Retrieved 17228 data points for 2024-11\n"
     ]
    },
    {
     "name": "stderr",
     "output_type": "stream",
     "text": [
      "2025-02-17 12:13:28,325 - INFO - Retrieved 17228 data points for 2024-11\n"
     ]
    },
    {
     "name": "stdout",
     "output_type": "stream",
     "text": [
      "2025-02-17 12:13:28,326 - __main__ - INFO - Fetching data for BA - 2024-10\n"
     ]
    },
    {
     "name": "stderr",
     "output_type": "stream",
     "text": [
      "2025-02-17 12:13:28,326 - INFO - Fetching data for BA - 2024-10\n"
     ]
    },
    {
     "name": "stdout",
     "output_type": "stream",
     "text": [
      "2025-02-17 12:13:31,581 - __main__ - INFO - Retrieved 19581 data points for 2024-10\n"
     ]
    },
    {
     "name": "stderr",
     "output_type": "stream",
     "text": [
      "2025-02-17 12:13:31,581 - INFO - Retrieved 19581 data points for 2024-10\n"
     ]
    },
    {
     "name": "stdout",
     "output_type": "stream",
     "text": [
      "2025-02-17 12:13:31,582 - __main__ - INFO - Fetching data for BA - 2024-09\n"
     ]
    },
    {
     "name": "stderr",
     "output_type": "stream",
     "text": [
      "2025-02-17 12:13:31,582 - INFO - Fetching data for BA - 2024-09\n"
     ]
    },
    {
     "name": "stdout",
     "output_type": "stream",
     "text": [
      "2025-02-17 12:13:34,619 - __main__ - INFO - Retrieved 16318 data points for 2024-09\n"
     ]
    },
    {
     "name": "stderr",
     "output_type": "stream",
     "text": [
      "2025-02-17 12:13:34,619 - INFO - Retrieved 16318 data points for 2024-09\n"
     ]
    },
    {
     "name": "stdout",
     "output_type": "stream",
     "text": [
      "2025-02-17 12:13:34,620 - __main__ - INFO - Fetching data for BA - 2024-08\n"
     ]
    },
    {
     "name": "stderr",
     "output_type": "stream",
     "text": [
      "2025-02-17 12:13:34,620 - INFO - Fetching data for BA - 2024-08\n"
     ]
    },
    {
     "name": "stdout",
     "output_type": "stream",
     "text": [
      "2025-02-17 12:13:37,732 - __main__ - INFO - Retrieved 16277 data points for 2024-08\n"
     ]
    },
    {
     "name": "stderr",
     "output_type": "stream",
     "text": [
      "2025-02-17 12:13:37,732 - INFO - Retrieved 16277 data points for 2024-08\n"
     ]
    },
    {
     "name": "stdout",
     "output_type": "stream",
     "text": [
      "2025-02-17 12:13:37,733 - __main__ - INFO - Fetching data for BA - 2024-07\n"
     ]
    },
    {
     "name": "stderr",
     "output_type": "stream",
     "text": [
      "2025-02-17 12:13:37,733 - INFO - Fetching data for BA - 2024-07\n"
     ]
    },
    {
     "name": "stdout",
     "output_type": "stream",
     "text": [
      "2025-02-17 12:13:40,603 - __main__ - INFO - Retrieved 15764 data points for 2024-07\n"
     ]
    },
    {
     "name": "stderr",
     "output_type": "stream",
     "text": [
      "2025-02-17 12:13:40,603 - INFO - Retrieved 15764 data points for 2024-07\n"
     ]
    },
    {
     "name": "stdout",
     "output_type": "stream",
     "text": [
      "2025-02-17 12:13:40,604 - __main__ - INFO - Fetching data for BA - 2024-06\n"
     ]
    },
    {
     "name": "stderr",
     "output_type": "stream",
     "text": [
      "2025-02-17 12:13:40,604 - INFO - Fetching data for BA - 2024-06\n"
     ]
    },
    {
     "name": "stdout",
     "output_type": "stream",
     "text": [
      "2025-02-17 12:13:43,141 - __main__ - INFO - Retrieved 13790 data points for 2024-06\n"
     ]
    },
    {
     "name": "stderr",
     "output_type": "stream",
     "text": [
      "2025-02-17 12:13:43,141 - INFO - Retrieved 13790 data points for 2024-06\n"
     ]
    },
    {
     "name": "stdout",
     "output_type": "stream",
     "text": [
      "2025-02-17 12:13:43,142 - __main__ - INFO - Fetching data for BA - 2024-05\n"
     ]
    },
    {
     "name": "stderr",
     "output_type": "stream",
     "text": [
      "2025-02-17 12:13:43,142 - INFO - Fetching data for BA - 2024-05\n"
     ]
    },
    {
     "name": "stdout",
     "output_type": "stream",
     "text": [
      "2025-02-17 12:13:44,199 - __main__ - INFO - Retrieved 16281 data points for 2024-05\n"
     ]
    },
    {
     "name": "stderr",
     "output_type": "stream",
     "text": [
      "2025-02-17 12:13:44,199 - INFO - Retrieved 16281 data points for 2024-05\n"
     ]
    },
    {
     "name": "stdout",
     "output_type": "stream",
     "text": [
      "2025-02-17 12:13:44,200 - __main__ - INFO - Fetching data for BA - 2024-04\n"
     ]
    },
    {
     "name": "stderr",
     "output_type": "stream",
     "text": [
      "2025-02-17 12:13:44,200 - INFO - Fetching data for BA - 2024-04\n"
     ]
    },
    {
     "name": "stdout",
     "output_type": "stream",
     "text": [
      "2025-02-17 12:13:47,125 - __main__ - INFO - Retrieved 17384 data points for 2024-04\n"
     ]
    },
    {
     "name": "stderr",
     "output_type": "stream",
     "text": [
      "2025-02-17 12:13:47,125 - INFO - Retrieved 17384 data points for 2024-04\n"
     ]
    },
    {
     "name": "stdout",
     "output_type": "stream",
     "text": [
      "2025-02-17 12:13:47,126 - __main__ - INFO - Fetching data for BA - 2024-03\n"
     ]
    },
    {
     "name": "stderr",
     "output_type": "stream",
     "text": [
      "2025-02-17 12:13:47,126 - INFO - Fetching data for BA - 2024-03\n"
     ]
    },
    {
     "name": "stdout",
     "output_type": "stream",
     "text": [
      "2025-02-17 12:13:50,069 - __main__ - INFO - Retrieved 16553 data points for 2024-03\n"
     ]
    },
    {
     "name": "stderr",
     "output_type": "stream",
     "text": [
      "2025-02-17 12:13:50,069 - INFO - Retrieved 16553 data points for 2024-03\n"
     ]
    },
    {
     "name": "stdout",
     "output_type": "stream",
     "text": [
      "2025-02-17 12:13:50,070 - __main__ - INFO - Writing data to /Users/benpfeffer/Desktop/CODE/volatility-strategy/db/cache/market_data/BA_1min.csv\n"
     ]
    },
    {
     "name": "stderr",
     "output_type": "stream",
     "text": [
      "2025-02-17 12:13:50,070 - INFO - Writing data to /Users/benpfeffer/Desktop/CODE/volatility-strategy/db/cache/market_data/BA_1min.csv\n"
     ]
    },
    {
     "name": "stdout",
     "output_type": "stream",
     "text": [
      "2025-02-17 12:13:50,075 - __main__ - INFO - Data fetch completed successfully\n"
     ]
    },
    {
     "name": "stderr",
     "output_type": "stream",
     "text": [
      "2025-02-17 12:13:50,075 - INFO - Data fetch completed successfully\n"
     ]
    },
    {
     "name": "stdout",
     "output_type": "stream",
     "text": [
      "2025-02-17 12:13:50,078 - __main__ - INFO - Starting data fetch for BP with 1min interval\n"
     ]
    },
    {
     "name": "stderr",
     "output_type": "stream",
     "text": [
      "2025-02-17 12:13:50,078 - INFO - Starting data fetch for BP with 1min interval\n"
     ]
    },
    {
     "name": "stdout",
     "output_type": "stream",
     "text": [
      "2025-02-17 12:13:50,078 - __main__ - INFO - Using 1min interval - fetching data month by month for past year\n"
     ]
    },
    {
     "name": "stderr",
     "output_type": "stream",
     "text": [
      "2025-02-17 12:13:50,078 - INFO - Using 1min interval - fetching data month by month for past year\n"
     ]
    },
    {
     "name": "stdout",
     "output_type": "stream",
     "text": [
      "2025-02-17 12:13:50,079 - __main__ - INFO - Will fetch data for months: ['2025-02', '2025-01', '2024-12', '2024-11', '2024-10', '2024-09', '2024-08', '2024-07', '2024-06', '2024-05', '2024-04', '2024-03']\n"
     ]
    },
    {
     "name": "stderr",
     "output_type": "stream",
     "text": [
      "2025-02-17 12:13:50,079 - INFO - Will fetch data for months: ['2025-02', '2025-01', '2024-12', '2024-11', '2024-10', '2024-09', '2024-08', '2024-07', '2024-06', '2024-05', '2024-04', '2024-03']\n"
     ]
    },
    {
     "name": "stdout",
     "output_type": "stream",
     "text": [
      "2025-02-17 12:13:50,079 - __main__ - INFO - Fetching data for BP - 2025-02\n"
     ]
    },
    {
     "name": "stderr",
     "output_type": "stream",
     "text": [
      "2025-02-17 12:13:50,079 - INFO - Fetching data for BP - 2025-02\n"
     ]
    },
    {
     "name": "stdout",
     "output_type": "stream",
     "text": [
      "2025-02-17 12:13:50,753 - __main__ - INFO - Retrieved 6142 data points for 2025-02\n"
     ]
    },
    {
     "name": "stderr",
     "output_type": "stream",
     "text": [
      "2025-02-17 12:13:50,753 - INFO - Retrieved 6142 data points for 2025-02\n"
     ]
    },
    {
     "name": "stdout",
     "output_type": "stream",
     "text": [
      "2025-02-17 12:13:50,754 - __main__ - INFO - Fetching data for BP - 2025-01\n"
     ]
    },
    {
     "name": "stderr",
     "output_type": "stream",
     "text": [
      "2025-02-17 12:13:50,754 - INFO - Fetching data for BP - 2025-01\n"
     ]
    },
    {
     "name": "stdout",
     "output_type": "stream",
     "text": [
      "2025-02-17 12:13:51,768 - __main__ - INFO - Retrieved 11943 data points for 2025-01\n"
     ]
    },
    {
     "name": "stderr",
     "output_type": "stream",
     "text": [
      "2025-02-17 12:13:51,768 - INFO - Retrieved 11943 data points for 2025-01\n"
     ]
    },
    {
     "name": "stdout",
     "output_type": "stream",
     "text": [
      "2025-02-17 12:13:51,768 - __main__ - INFO - Fetching data for BP - 2024-12\n"
     ]
    },
    {
     "name": "stderr",
     "output_type": "stream",
     "text": [
      "2025-02-17 12:13:51,768 - INFO - Fetching data for BP - 2024-12\n"
     ]
    },
    {
     "name": "stdout",
     "output_type": "stream",
     "text": [
      "2025-02-17 12:13:52,728 - __main__ - INFO - Retrieved 12096 data points for 2024-12\n"
     ]
    },
    {
     "name": "stderr",
     "output_type": "stream",
     "text": [
      "2025-02-17 12:13:52,728 - INFO - Retrieved 12096 data points for 2024-12\n"
     ]
    },
    {
     "name": "stdout",
     "output_type": "stream",
     "text": [
      "2025-02-17 12:13:52,729 - __main__ - INFO - Fetching data for BP - 2024-11\n"
     ]
    },
    {
     "name": "stderr",
     "output_type": "stream",
     "text": [
      "2025-02-17 12:13:52,729 - INFO - Fetching data for BP - 2024-11\n"
     ]
    },
    {
     "name": "stdout",
     "output_type": "stream",
     "text": [
      "2025-02-17 12:13:54,984 - __main__ - INFO - Retrieved 12399 data points for 2024-11\n"
     ]
    },
    {
     "name": "stderr",
     "output_type": "stream",
     "text": [
      "2025-02-17 12:13:54,984 - INFO - Retrieved 12399 data points for 2024-11\n"
     ]
    },
    {
     "name": "stdout",
     "output_type": "stream",
     "text": [
      "2025-02-17 12:13:54,985 - __main__ - INFO - Fetching data for BP - 2024-10\n"
     ]
    },
    {
     "name": "stderr",
     "output_type": "stream",
     "text": [
      "2025-02-17 12:13:54,985 - INFO - Fetching data for BP - 2024-10\n"
     ]
    },
    {
     "name": "stdout",
     "output_type": "stream",
     "text": [
      "2025-02-17 12:13:57,694 - __main__ - INFO - Retrieved 14742 data points for 2024-10\n"
     ]
    },
    {
     "name": "stderr",
     "output_type": "stream",
     "text": [
      "2025-02-17 12:13:57,694 - INFO - Retrieved 14742 data points for 2024-10\n"
     ]
    },
    {
     "name": "stdout",
     "output_type": "stream",
     "text": [
      "2025-02-17 12:13:57,695 - __main__ - INFO - Fetching data for BP - 2024-09\n"
     ]
    },
    {
     "name": "stderr",
     "output_type": "stream",
     "text": [
      "2025-02-17 12:13:57,695 - INFO - Fetching data for BP - 2024-09\n"
     ]
    },
    {
     "name": "stdout",
     "output_type": "stream",
     "text": [
      "2025-02-17 12:14:00,007 - __main__ - INFO - Retrieved 12304 data points for 2024-09\n"
     ]
    },
    {
     "name": "stderr",
     "output_type": "stream",
     "text": [
      "2025-02-17 12:14:00,007 - INFO - Retrieved 12304 data points for 2024-09\n"
     ]
    },
    {
     "name": "stdout",
     "output_type": "stream",
     "text": [
      "2025-02-17 12:14:00,008 - __main__ - INFO - Fetching data for BP - 2024-08\n"
     ]
    },
    {
     "name": "stderr",
     "output_type": "stream",
     "text": [
      "2025-02-17 12:14:00,008 - INFO - Fetching data for BP - 2024-08\n"
     ]
    },
    {
     "name": "stdout",
     "output_type": "stream",
     "text": [
      "2025-02-17 12:14:03,316 - __main__ - INFO - Retrieved 12682 data points for 2024-08\n"
     ]
    },
    {
     "name": "stderr",
     "output_type": "stream",
     "text": [
      "2025-02-17 12:14:03,316 - INFO - Retrieved 12682 data points for 2024-08\n"
     ]
    },
    {
     "name": "stdout",
     "output_type": "stream",
     "text": [
      "2025-02-17 12:14:03,317 - __main__ - INFO - Fetching data for BP - 2024-07\n"
     ]
    },
    {
     "name": "stderr",
     "output_type": "stream",
     "text": [
      "2025-02-17 12:14:03,317 - INFO - Fetching data for BP - 2024-07\n"
     ]
    },
    {
     "name": "stdout",
     "output_type": "stream",
     "text": [
      "2025-02-17 12:14:06,082 - __main__ - INFO - Retrieved 12614 data points for 2024-07\n"
     ]
    },
    {
     "name": "stderr",
     "output_type": "stream",
     "text": [
      "2025-02-17 12:14:06,082 - INFO - Retrieved 12614 data points for 2024-07\n"
     ]
    },
    {
     "name": "stdout",
     "output_type": "stream",
     "text": [
      "2025-02-17 12:14:06,083 - __main__ - INFO - Fetching data for BP - 2024-06\n"
     ]
    },
    {
     "name": "stderr",
     "output_type": "stream",
     "text": [
      "2025-02-17 12:14:06,083 - INFO - Fetching data for BP - 2024-06\n"
     ]
    },
    {
     "name": "stdout",
     "output_type": "stream",
     "text": [
      "2025-02-17 12:14:08,461 - __main__ - INFO - Retrieved 10316 data points for 2024-06\n"
     ]
    },
    {
     "name": "stderr",
     "output_type": "stream",
     "text": [
      "2025-02-17 12:14:08,461 - INFO - Retrieved 10316 data points for 2024-06\n"
     ]
    },
    {
     "name": "stdout",
     "output_type": "stream",
     "text": [
      "2025-02-17 12:14:08,462 - __main__ - INFO - Fetching data for BP - 2024-05\n"
     ]
    },
    {
     "name": "stderr",
     "output_type": "stream",
     "text": [
      "2025-02-17 12:14:08,462 - INFO - Fetching data for BP - 2024-05\n"
     ]
    },
    {
     "name": "stdout",
     "output_type": "stream",
     "text": [
      "2025-02-17 12:14:10,979 - __main__ - INFO - Retrieved 12407 data points for 2024-05\n"
     ]
    },
    {
     "name": "stderr",
     "output_type": "stream",
     "text": [
      "2025-02-17 12:14:10,979 - INFO - Retrieved 12407 data points for 2024-05\n"
     ]
    },
    {
     "name": "stdout",
     "output_type": "stream",
     "text": [
      "2025-02-17 12:14:10,980 - __main__ - INFO - Fetching data for BP - 2024-04\n"
     ]
    },
    {
     "name": "stderr",
     "output_type": "stream",
     "text": [
      "2025-02-17 12:14:10,980 - INFO - Fetching data for BP - 2024-04\n"
     ]
    },
    {
     "name": "stdout",
     "output_type": "stream",
     "text": [
      "2025-02-17 12:14:13,481 - __main__ - INFO - Retrieved 12287 data points for 2024-04\n"
     ]
    },
    {
     "name": "stderr",
     "output_type": "stream",
     "text": [
      "2025-02-17 12:14:13,481 - INFO - Retrieved 12287 data points for 2024-04\n"
     ]
    },
    {
     "name": "stdout",
     "output_type": "stream",
     "text": [
      "2025-02-17 12:14:13,482 - __main__ - INFO - Fetching data for BP - 2024-03\n"
     ]
    },
    {
     "name": "stderr",
     "output_type": "stream",
     "text": [
      "2025-02-17 12:14:13,482 - INFO - Fetching data for BP - 2024-03\n"
     ]
    },
    {
     "name": "stdout",
     "output_type": "stream",
     "text": [
      "2025-02-17 12:14:16,001 - __main__ - INFO - Retrieved 10951 data points for 2024-03\n"
     ]
    },
    {
     "name": "stderr",
     "output_type": "stream",
     "text": [
      "2025-02-17 12:14:16,001 - INFO - Retrieved 10951 data points for 2024-03\n"
     ]
    },
    {
     "name": "stdout",
     "output_type": "stream",
     "text": [
      "2025-02-17 12:14:16,002 - __main__ - INFO - Writing data to /Users/benpfeffer/Desktop/CODE/volatility-strategy/db/cache/market_data/BP_1min.csv\n"
     ]
    },
    {
     "name": "stderr",
     "output_type": "stream",
     "text": [
      "2025-02-17 12:14:16,002 - INFO - Writing data to /Users/benpfeffer/Desktop/CODE/volatility-strategy/db/cache/market_data/BP_1min.csv\n"
     ]
    },
    {
     "name": "stdout",
     "output_type": "stream",
     "text": [
      "2025-02-17 12:14:16,007 - __main__ - INFO - Data fetch completed successfully\n"
     ]
    },
    {
     "name": "stderr",
     "output_type": "stream",
     "text": [
      "2025-02-17 12:14:16,007 - INFO - Data fetch completed successfully\n"
     ]
    },
    {
     "name": "stdout",
     "output_type": "stream",
     "text": [
      "2025-02-17 12:14:16,009 - __main__ - INFO - Starting data fetch for BTI with 1min interval\n"
     ]
    },
    {
     "name": "stderr",
     "output_type": "stream",
     "text": [
      "2025-02-17 12:14:16,009 - INFO - Starting data fetch for BTI with 1min interval\n"
     ]
    },
    {
     "name": "stdout",
     "output_type": "stream",
     "text": [
      "2025-02-17 12:14:16,010 - __main__ - INFO - Using 1min interval - fetching data month by month for past year\n"
     ]
    },
    {
     "name": "stderr",
     "output_type": "stream",
     "text": [
      "2025-02-17 12:14:16,010 - INFO - Using 1min interval - fetching data month by month for past year\n"
     ]
    },
    {
     "name": "stdout",
     "output_type": "stream",
     "text": [
      "2025-02-17 12:14:16,011 - __main__ - INFO - Will fetch data for months: ['2025-02', '2025-01', '2024-12', '2024-11', '2024-10', '2024-09', '2024-08', '2024-07', '2024-06', '2024-05', '2024-04', '2024-03']\n"
     ]
    },
    {
     "name": "stderr",
     "output_type": "stream",
     "text": [
      "2025-02-17 12:14:16,011 - INFO - Will fetch data for months: ['2025-02', '2025-01', '2024-12', '2024-11', '2024-10', '2024-09', '2024-08', '2024-07', '2024-06', '2024-05', '2024-04', '2024-03']\n"
     ]
    },
    {
     "name": "stdout",
     "output_type": "stream",
     "text": [
      "2025-02-17 12:14:16,011 - __main__ - INFO - Fetching data for BTI - 2025-02\n"
     ]
    },
    {
     "name": "stderr",
     "output_type": "stream",
     "text": [
      "2025-02-17 12:14:16,011 - INFO - Fetching data for BTI - 2025-02\n"
     ]
    },
    {
     "name": "stdout",
     "output_type": "stream",
     "text": [
      "2025-02-17 12:14:16,692 - __main__ - INFO - Retrieved 5882 data points for 2025-02\n"
     ]
    },
    {
     "name": "stderr",
     "output_type": "stream",
     "text": [
      "2025-02-17 12:14:16,692 - INFO - Retrieved 5882 data points for 2025-02\n"
     ]
    },
    {
     "name": "stdout",
     "output_type": "stream",
     "text": [
      "2025-02-17 12:14:16,693 - __main__ - INFO - Fetching data for BTI - 2025-01\n"
     ]
    },
    {
     "name": "stderr",
     "output_type": "stream",
     "text": [
      "2025-02-17 12:14:16,693 - INFO - Fetching data for BTI - 2025-01\n"
     ]
    },
    {
     "name": "stdout",
     "output_type": "stream",
     "text": [
      "2025-02-17 12:14:17,607 - __main__ - INFO - Retrieved 10672 data points for 2025-01\n"
     ]
    },
    {
     "name": "stderr",
     "output_type": "stream",
     "text": [
      "2025-02-17 12:14:17,607 - INFO - Retrieved 10672 data points for 2025-01\n"
     ]
    },
    {
     "name": "stdout",
     "output_type": "stream",
     "text": [
      "2025-02-17 12:14:17,608 - __main__ - INFO - Fetching data for BTI - 2024-12\n"
     ]
    },
    {
     "name": "stderr",
     "output_type": "stream",
     "text": [
      "2025-02-17 12:14:17,608 - INFO - Fetching data for BTI - 2024-12\n"
     ]
    },
    {
     "name": "stdout",
     "output_type": "stream",
     "text": [
      "2025-02-17 12:14:18,612 - __main__ - INFO - Retrieved 10693 data points for 2024-12\n"
     ]
    },
    {
     "name": "stderr",
     "output_type": "stream",
     "text": [
      "2025-02-17 12:14:18,612 - INFO - Retrieved 10693 data points for 2024-12\n"
     ]
    },
    {
     "name": "stdout",
     "output_type": "stream",
     "text": [
      "2025-02-17 12:14:18,613 - __main__ - INFO - Fetching data for BTI - 2024-11\n"
     ]
    },
    {
     "name": "stderr",
     "output_type": "stream",
     "text": [
      "2025-02-17 12:14:18,613 - INFO - Fetching data for BTI - 2024-11\n"
     ]
    },
    {
     "name": "stdout",
     "output_type": "stream",
     "text": [
      "2025-02-17 12:14:20,794 - __main__ - INFO - Retrieved 10559 data points for 2024-11\n"
     ]
    },
    {
     "name": "stderr",
     "output_type": "stream",
     "text": [
      "2025-02-17 12:14:20,794 - INFO - Retrieved 10559 data points for 2024-11\n"
     ]
    },
    {
     "name": "stdout",
     "output_type": "stream",
     "text": [
      "2025-02-17 12:14:20,795 - __main__ - INFO - Fetching data for BTI - 2024-10\n"
     ]
    },
    {
     "name": "stderr",
     "output_type": "stream",
     "text": [
      "2025-02-17 12:14:20,795 - INFO - Fetching data for BTI - 2024-10\n"
     ]
    },
    {
     "name": "stdout",
     "output_type": "stream",
     "text": [
      "2025-02-17 12:14:21,876 - __main__ - INFO - Retrieved 12213 data points for 2024-10\n"
     ]
    },
    {
     "name": "stderr",
     "output_type": "stream",
     "text": [
      "2025-02-17 12:14:21,876 - INFO - Retrieved 12213 data points for 2024-10\n"
     ]
    },
    {
     "name": "stdout",
     "output_type": "stream",
     "text": [
      "2025-02-17 12:14:21,877 - __main__ - INFO - Fetching data for BTI - 2024-09\n"
     ]
    },
    {
     "name": "stderr",
     "output_type": "stream",
     "text": [
      "2025-02-17 12:14:21,877 - INFO - Fetching data for BTI - 2024-09\n"
     ]
    },
    {
     "name": "stdout",
     "output_type": "stream",
     "text": [
      "2025-02-17 12:14:24,249 - __main__ - INFO - Retrieved 11446 data points for 2024-09\n"
     ]
    },
    {
     "name": "stderr",
     "output_type": "stream",
     "text": [
      "2025-02-17 12:14:24,249 - INFO - Retrieved 11446 data points for 2024-09\n"
     ]
    },
    {
     "name": "stdout",
     "output_type": "stream",
     "text": [
      "2025-02-17 12:14:24,250 - __main__ - INFO - Fetching data for BTI - 2024-08\n"
     ]
    },
    {
     "name": "stderr",
     "output_type": "stream",
     "text": [
      "2025-02-17 12:14:24,250 - INFO - Fetching data for BTI - 2024-08\n"
     ]
    },
    {
     "name": "stdout",
     "output_type": "stream",
     "text": [
      "2025-02-17 12:14:26,688 - __main__ - INFO - Retrieved 11793 data points for 2024-08\n"
     ]
    },
    {
     "name": "stderr",
     "output_type": "stream",
     "text": [
      "2025-02-17 12:14:26,688 - INFO - Retrieved 11793 data points for 2024-08\n"
     ]
    },
    {
     "name": "stdout",
     "output_type": "stream",
     "text": [
      "2025-02-17 12:14:26,689 - __main__ - INFO - Fetching data for BTI - 2024-07\n"
     ]
    },
    {
     "name": "stderr",
     "output_type": "stream",
     "text": [
      "2025-02-17 12:14:26,689 - INFO - Fetching data for BTI - 2024-07\n"
     ]
    },
    {
     "name": "stdout",
     "output_type": "stream",
     "text": [
      "2025-02-17 12:14:27,566 - __main__ - INFO - Retrieved 11861 data points for 2024-07\n"
     ]
    },
    {
     "name": "stderr",
     "output_type": "stream",
     "text": [
      "2025-02-17 12:14:27,566 - INFO - Retrieved 11861 data points for 2024-07\n"
     ]
    },
    {
     "name": "stdout",
     "output_type": "stream",
     "text": [
      "2025-02-17 12:14:27,567 - __main__ - INFO - Fetching data for BTI - 2024-06\n"
     ]
    },
    {
     "name": "stderr",
     "output_type": "stream",
     "text": [
      "2025-02-17 12:14:27,567 - INFO - Fetching data for BTI - 2024-06\n"
     ]
    },
    {
     "name": "stdout",
     "output_type": "stream",
     "text": [
      "2025-02-17 12:14:29,596 - __main__ - INFO - Retrieved 10296 data points for 2024-06\n"
     ]
    },
    {
     "name": "stderr",
     "output_type": "stream",
     "text": [
      "2025-02-17 12:14:29,596 - INFO - Retrieved 10296 data points for 2024-06\n"
     ]
    },
    {
     "name": "stdout",
     "output_type": "stream",
     "text": [
      "2025-02-17 12:14:29,597 - __main__ - INFO - Fetching data for BTI - 2024-05\n"
     ]
    },
    {
     "name": "stderr",
     "output_type": "stream",
     "text": [
      "2025-02-17 12:14:29,597 - INFO - Fetching data for BTI - 2024-05\n"
     ]
    },
    {
     "name": "stdout",
     "output_type": "stream",
     "text": [
      "2025-02-17 12:14:30,609 - __main__ - INFO - Retrieved 11590 data points for 2024-05\n"
     ]
    },
    {
     "name": "stderr",
     "output_type": "stream",
     "text": [
      "2025-02-17 12:14:30,609 - INFO - Retrieved 11590 data points for 2024-05\n"
     ]
    },
    {
     "name": "stdout",
     "output_type": "stream",
     "text": [
      "2025-02-17 12:14:30,610 - __main__ - INFO - Fetching data for BTI - 2024-04\n"
     ]
    },
    {
     "name": "stderr",
     "output_type": "stream",
     "text": [
      "2025-02-17 12:14:30,610 - INFO - Fetching data for BTI - 2024-04\n"
     ]
    },
    {
     "name": "stdout",
     "output_type": "stream",
     "text": [
      "2025-02-17 12:14:31,609 - __main__ - INFO - Retrieved 12218 data points for 2024-04\n"
     ]
    },
    {
     "name": "stderr",
     "output_type": "stream",
     "text": [
      "2025-02-17 12:14:31,609 - INFO - Retrieved 12218 data points for 2024-04\n"
     ]
    },
    {
     "name": "stdout",
     "output_type": "stream",
     "text": [
      "2025-02-17 12:14:31,610 - __main__ - INFO - Fetching data for BTI - 2024-03\n"
     ]
    },
    {
     "name": "stderr",
     "output_type": "stream",
     "text": [
      "2025-02-17 12:14:31,610 - INFO - Fetching data for BTI - 2024-03\n"
     ]
    },
    {
     "name": "stdout",
     "output_type": "stream",
     "text": [
      "2025-02-17 12:14:33,938 - __main__ - INFO - Retrieved 11952 data points for 2024-03\n"
     ]
    },
    {
     "name": "stderr",
     "output_type": "stream",
     "text": [
      "2025-02-17 12:14:33,938 - INFO - Retrieved 11952 data points for 2024-03\n"
     ]
    },
    {
     "name": "stdout",
     "output_type": "stream",
     "text": [
      "2025-02-17 12:14:33,940 - __main__ - INFO - Writing data to /Users/benpfeffer/Desktop/CODE/volatility-strategy/db/cache/market_data/BTI_1min.csv\n"
     ]
    },
    {
     "name": "stderr",
     "output_type": "stream",
     "text": [
      "2025-02-17 12:14:33,940 - INFO - Writing data to /Users/benpfeffer/Desktop/CODE/volatility-strategy/db/cache/market_data/BTI_1min.csv\n"
     ]
    },
    {
     "name": "stdout",
     "output_type": "stream",
     "text": [
      "2025-02-17 12:14:33,951 - __main__ - INFO - Data fetch completed successfully\n"
     ]
    },
    {
     "name": "stderr",
     "output_type": "stream",
     "text": [
      "2025-02-17 12:14:33,951 - INFO - Data fetch completed successfully\n"
     ]
    },
    {
     "name": "stdout",
     "output_type": "stream",
     "text": [
      "2025-02-17 12:14:33,958 - __main__ - INFO - Starting data fetch for CVX with 1min interval\n"
     ]
    },
    {
     "name": "stderr",
     "output_type": "stream",
     "text": [
      "2025-02-17 12:14:33,958 - INFO - Starting data fetch for CVX with 1min interval\n"
     ]
    },
    {
     "name": "stdout",
     "output_type": "stream",
     "text": [
      "2025-02-17 12:14:33,960 - __main__ - INFO - Using 1min interval - fetching data month by month for past year\n"
     ]
    },
    {
     "name": "stderr",
     "output_type": "stream",
     "text": [
      "2025-02-17 12:14:33,960 - INFO - Using 1min interval - fetching data month by month for past year\n"
     ]
    },
    {
     "name": "stdout",
     "output_type": "stream",
     "text": [
      "2025-02-17 12:14:33,961 - __main__ - INFO - Will fetch data for months: ['2025-02', '2025-01', '2024-12', '2024-11', '2024-10', '2024-09', '2024-08', '2024-07', '2024-06', '2024-05', '2024-04', '2024-03']\n"
     ]
    },
    {
     "name": "stderr",
     "output_type": "stream",
     "text": [
      "2025-02-17 12:14:33,961 - INFO - Will fetch data for months: ['2025-02', '2025-01', '2024-12', '2024-11', '2024-10', '2024-09', '2024-08', '2024-07', '2024-06', '2024-05', '2024-04', '2024-03']\n"
     ]
    },
    {
     "name": "stdout",
     "output_type": "stream",
     "text": [
      "2025-02-17 12:14:33,962 - __main__ - INFO - Fetching data for CVX - 2025-02\n"
     ]
    },
    {
     "name": "stderr",
     "output_type": "stream",
     "text": [
      "2025-02-17 12:14:33,962 - INFO - Fetching data for CVX - 2025-02\n"
     ]
    },
    {
     "name": "stdout",
     "output_type": "stream",
     "text": [
      "2025-02-17 12:14:36,454 - __main__ - INFO - Retrieved 6669 data points for 2025-02\n"
     ]
    },
    {
     "name": "stderr",
     "output_type": "stream",
     "text": [
      "2025-02-17 12:14:36,454 - INFO - Retrieved 6669 data points for 2025-02\n"
     ]
    },
    {
     "name": "stdout",
     "output_type": "stream",
     "text": [
      "2025-02-17 12:14:36,455 - __main__ - INFO - Fetching data for CVX - 2025-01\n"
     ]
    },
    {
     "name": "stderr",
     "output_type": "stream",
     "text": [
      "2025-02-17 12:14:36,455 - INFO - Fetching data for CVX - 2025-01\n"
     ]
    },
    {
     "name": "stdout",
     "output_type": "stream",
     "text": [
      "2025-02-17 12:14:39,058 - __main__ - INFO - Retrieved 14036 data points for 2025-01\n"
     ]
    },
    {
     "name": "stderr",
     "output_type": "stream",
     "text": [
      "2025-02-17 12:14:39,058 - INFO - Retrieved 14036 data points for 2025-01\n"
     ]
    },
    {
     "name": "stdout",
     "output_type": "stream",
     "text": [
      "2025-02-17 12:14:39,059 - __main__ - INFO - Fetching data for CVX - 2024-12\n"
     ]
    },
    {
     "name": "stderr",
     "output_type": "stream",
     "text": [
      "2025-02-17 12:14:39,059 - INFO - Fetching data for CVX - 2024-12\n"
     ]
    },
    {
     "name": "stdout",
     "output_type": "stream",
     "text": [
      "2025-02-17 12:14:41,676 - __main__ - INFO - Retrieved 13848 data points for 2024-12\n"
     ]
    },
    {
     "name": "stderr",
     "output_type": "stream",
     "text": [
      "2025-02-17 12:14:41,676 - INFO - Retrieved 13848 data points for 2024-12\n"
     ]
    },
    {
     "name": "stdout",
     "output_type": "stream",
     "text": [
      "2025-02-17 12:14:41,677 - __main__ - INFO - Fetching data for CVX - 2024-11\n"
     ]
    },
    {
     "name": "stderr",
     "output_type": "stream",
     "text": [
      "2025-02-17 12:14:41,677 - INFO - Fetching data for CVX - 2024-11\n"
     ]
    },
    {
     "name": "stdout",
     "output_type": "stream",
     "text": [
      "2025-02-17 12:14:44,420 - __main__ - INFO - Retrieved 13629 data points for 2024-11\n"
     ]
    },
    {
     "name": "stderr",
     "output_type": "stream",
     "text": [
      "2025-02-17 12:14:44,420 - INFO - Retrieved 13629 data points for 2024-11\n"
     ]
    },
    {
     "name": "stdout",
     "output_type": "stream",
     "text": [
      "2025-02-17 12:14:44,421 - __main__ - INFO - Fetching data for CVX - 2024-10\n"
     ]
    },
    {
     "name": "stderr",
     "output_type": "stream",
     "text": [
      "2025-02-17 12:14:44,421 - INFO - Fetching data for CVX - 2024-10\n"
     ]
    },
    {
     "name": "stdout",
     "output_type": "stream",
     "text": [
      "2025-02-17 12:14:47,298 - __main__ - INFO - Retrieved 15527 data points for 2024-10\n"
     ]
    },
    {
     "name": "stderr",
     "output_type": "stream",
     "text": [
      "2025-02-17 12:14:47,298 - INFO - Retrieved 15527 data points for 2024-10\n"
     ]
    },
    {
     "name": "stdout",
     "output_type": "stream",
     "text": [
      "2025-02-17 12:14:47,299 - __main__ - INFO - Fetching data for CVX - 2024-09\n"
     ]
    },
    {
     "name": "stderr",
     "output_type": "stream",
     "text": [
      "2025-02-17 12:14:47,299 - INFO - Fetching data for CVX - 2024-09\n"
     ]
    },
    {
     "name": "stdout",
     "output_type": "stream",
     "text": [
      "2025-02-17 12:14:49,950 - __main__ - INFO - Retrieved 13895 data points for 2024-09\n"
     ]
    },
    {
     "name": "stderr",
     "output_type": "stream",
     "text": [
      "2025-02-17 12:14:49,950 - INFO - Retrieved 13895 data points for 2024-09\n"
     ]
    },
    {
     "name": "stdout",
     "output_type": "stream",
     "text": [
      "2025-02-17 12:14:49,950 - __main__ - INFO - Fetching data for CVX - 2024-08\n"
     ]
    },
    {
     "name": "stderr",
     "output_type": "stream",
     "text": [
      "2025-02-17 12:14:49,950 - INFO - Fetching data for CVX - 2024-08\n"
     ]
    },
    {
     "name": "stdout",
     "output_type": "stream",
     "text": [
      "2025-02-17 12:14:52,581 - __main__ - INFO - Retrieved 15331 data points for 2024-08\n"
     ]
    },
    {
     "name": "stderr",
     "output_type": "stream",
     "text": [
      "2025-02-17 12:14:52,581 - INFO - Retrieved 15331 data points for 2024-08\n"
     ]
    },
    {
     "name": "stdout",
     "output_type": "stream",
     "text": [
      "2025-02-17 12:14:52,582 - __main__ - INFO - Fetching data for CVX - 2024-07\n"
     ]
    },
    {
     "name": "stderr",
     "output_type": "stream",
     "text": [
      "2025-02-17 12:14:52,582 - INFO - Fetching data for CVX - 2024-07\n"
     ]
    },
    {
     "name": "stdout",
     "output_type": "stream",
     "text": [
      "2025-02-17 12:14:55,133 - __main__ - INFO - Retrieved 13351 data points for 2024-07\n"
     ]
    },
    {
     "name": "stderr",
     "output_type": "stream",
     "text": [
      "2025-02-17 12:14:55,133 - INFO - Retrieved 13351 data points for 2024-07\n"
     ]
    },
    {
     "name": "stdout",
     "output_type": "stream",
     "text": [
      "2025-02-17 12:14:55,134 - __main__ - INFO - Fetching data for CVX - 2024-06\n"
     ]
    },
    {
     "name": "stderr",
     "output_type": "stream",
     "text": [
      "2025-02-17 12:14:55,134 - INFO - Fetching data for CVX - 2024-06\n"
     ]
    },
    {
     "name": "stdout",
     "output_type": "stream",
     "text": [
      "2025-02-17 12:14:57,469 - __main__ - INFO - Retrieved 11572 data points for 2024-06\n"
     ]
    },
    {
     "name": "stderr",
     "output_type": "stream",
     "text": [
      "2025-02-17 12:14:57,469 - INFO - Retrieved 11572 data points for 2024-06\n"
     ]
    },
    {
     "name": "stdout",
     "output_type": "stream",
     "text": [
      "2025-02-17 12:14:57,470 - __main__ - INFO - Fetching data for CVX - 2024-05\n"
     ]
    },
    {
     "name": "stderr",
     "output_type": "stream",
     "text": [
      "2025-02-17 12:14:57,470 - INFO - Fetching data for CVX - 2024-05\n"
     ]
    },
    {
     "name": "stdout",
     "output_type": "stream",
     "text": [
      "2025-02-17 12:15:00,003 - __main__ - INFO - Retrieved 13321 data points for 2024-05\n"
     ]
    },
    {
     "name": "stderr",
     "output_type": "stream",
     "text": [
      "2025-02-17 12:15:00,003 - INFO - Retrieved 13321 data points for 2024-05\n"
     ]
    },
    {
     "name": "stdout",
     "output_type": "stream",
     "text": [
      "2025-02-17 12:15:00,004 - __main__ - INFO - Fetching data for CVX - 2024-04\n"
     ]
    },
    {
     "name": "stderr",
     "output_type": "stream",
     "text": [
      "2025-02-17 12:15:00,004 - INFO - Fetching data for CVX - 2024-04\n"
     ]
    },
    {
     "name": "stdout",
     "output_type": "stream",
     "text": [
      "2025-02-17 12:15:03,484 - __main__ - INFO - Retrieved 14687 data points for 2024-04\n"
     ]
    },
    {
     "name": "stderr",
     "output_type": "stream",
     "text": [
      "2025-02-17 12:15:03,484 - INFO - Retrieved 14687 data points for 2024-04\n"
     ]
    },
    {
     "name": "stdout",
     "output_type": "stream",
     "text": [
      "2025-02-17 12:15:03,485 - __main__ - INFO - Fetching data for CVX - 2024-03\n"
     ]
    },
    {
     "name": "stderr",
     "output_type": "stream",
     "text": [
      "2025-02-17 12:15:03,485 - INFO - Fetching data for CVX - 2024-03\n"
     ]
    },
    {
     "name": "stdout",
     "output_type": "stream",
     "text": [
      "2025-02-17 12:15:08,833 - __main__ - INFO - Retrieved 12751 data points for 2024-03\n"
     ]
    },
    {
     "name": "stderr",
     "output_type": "stream",
     "text": [
      "2025-02-17 12:15:08,833 - INFO - Retrieved 12751 data points for 2024-03\n"
     ]
    },
    {
     "name": "stdout",
     "output_type": "stream",
     "text": [
      "2025-02-17 12:15:08,834 - __main__ - INFO - Writing data to /Users/benpfeffer/Desktop/CODE/volatility-strategy/db/cache/market_data/CVX_1min.csv\n"
     ]
    },
    {
     "name": "stderr",
     "output_type": "stream",
     "text": [
      "2025-02-17 12:15:08,834 - INFO - Writing data to /Users/benpfeffer/Desktop/CODE/volatility-strategy/db/cache/market_data/CVX_1min.csv\n"
     ]
    },
    {
     "name": "stdout",
     "output_type": "stream",
     "text": [
      "2025-02-17 12:15:08,839 - __main__ - INFO - Data fetch completed successfully\n"
     ]
    },
    {
     "name": "stderr",
     "output_type": "stream",
     "text": [
      "2025-02-17 12:15:08,839 - INFO - Data fetch completed successfully\n"
     ]
    },
    {
     "name": "stdout",
     "output_type": "stream",
     "text": [
      "2025-02-17 12:15:08,841 - __main__ - INFO - Starting data fetch for CSCO with 1min interval\n"
     ]
    },
    {
     "name": "stderr",
     "output_type": "stream",
     "text": [
      "2025-02-17 12:15:08,841 - INFO - Starting data fetch for CSCO with 1min interval\n"
     ]
    },
    {
     "name": "stdout",
     "output_type": "stream",
     "text": [
      "2025-02-17 12:15:08,842 - __main__ - INFO - Using 1min interval - fetching data month by month for past year\n"
     ]
    },
    {
     "name": "stderr",
     "output_type": "stream",
     "text": [
      "2025-02-17 12:15:08,842 - INFO - Using 1min interval - fetching data month by month for past year\n"
     ]
    },
    {
     "name": "stdout",
     "output_type": "stream",
     "text": [
      "2025-02-17 12:15:08,843 - __main__ - INFO - Will fetch data for months: ['2025-02', '2025-01', '2024-12', '2024-11', '2024-10', '2024-09', '2024-08', '2024-07', '2024-06', '2024-05', '2024-04', '2024-03']\n"
     ]
    },
    {
     "name": "stderr",
     "output_type": "stream",
     "text": [
      "2025-02-17 12:15:08,843 - INFO - Will fetch data for months: ['2025-02', '2025-01', '2024-12', '2024-11', '2024-10', '2024-09', '2024-08', '2024-07', '2024-06', '2024-05', '2024-04', '2024-03']\n"
     ]
    },
    {
     "name": "stdout",
     "output_type": "stream",
     "text": [
      "2025-02-17 12:15:08,844 - __main__ - INFO - Fetching data for CSCO - 2025-02\n"
     ]
    },
    {
     "name": "stderr",
     "output_type": "stream",
     "text": [
      "2025-02-17 12:15:08,844 - INFO - Fetching data for CSCO - 2025-02\n"
     ]
    },
    {
     "name": "stdout",
     "output_type": "stream",
     "text": [
      "2025-02-17 12:15:09,582 - __main__ - INFO - Retrieved 6739 data points for 2025-02\n"
     ]
    },
    {
     "name": "stderr",
     "output_type": "stream",
     "text": [
      "2025-02-17 12:15:09,582 - INFO - Retrieved 6739 data points for 2025-02\n"
     ]
    },
    {
     "name": "stdout",
     "output_type": "stream",
     "text": [
      "2025-02-17 12:15:09,583 - __main__ - INFO - Fetching data for CSCO - 2025-01\n"
     ]
    },
    {
     "name": "stderr",
     "output_type": "stream",
     "text": [
      "2025-02-17 12:15:09,583 - INFO - Fetching data for CSCO - 2025-01\n"
     ]
    },
    {
     "name": "stdout",
     "output_type": "stream",
     "text": [
      "2025-02-17 12:15:11,828 - __main__ - INFO - Retrieved 12412 data points for 2025-01\n"
     ]
    },
    {
     "name": "stderr",
     "output_type": "stream",
     "text": [
      "2025-02-17 12:15:11,828 - INFO - Retrieved 12412 data points for 2025-01\n"
     ]
    },
    {
     "name": "stdout",
     "output_type": "stream",
     "text": [
      "2025-02-17 12:15:11,829 - __main__ - INFO - Fetching data for CSCO - 2024-12\n"
     ]
    },
    {
     "name": "stderr",
     "output_type": "stream",
     "text": [
      "2025-02-17 12:15:11,829 - INFO - Fetching data for CSCO - 2024-12\n"
     ]
    },
    {
     "name": "stdout",
     "output_type": "stream",
     "text": [
      "2025-02-17 12:15:14,266 - __main__ - INFO - Retrieved 12065 data points for 2024-12\n"
     ]
    },
    {
     "name": "stderr",
     "output_type": "stream",
     "text": [
      "2025-02-17 12:15:14,266 - INFO - Retrieved 12065 data points for 2024-12\n"
     ]
    },
    {
     "name": "stdout",
     "output_type": "stream",
     "text": [
      "2025-02-17 12:15:14,267 - __main__ - INFO - Fetching data for CSCO - 2024-11\n"
     ]
    },
    {
     "name": "stderr",
     "output_type": "stream",
     "text": [
      "2025-02-17 12:15:14,267 - INFO - Fetching data for CSCO - 2024-11\n"
     ]
    },
    {
     "name": "stdout",
     "output_type": "stream",
     "text": [
      "2025-02-17 12:15:17,084 - __main__ - INFO - Retrieved 12525 data points for 2024-11\n"
     ]
    },
    {
     "name": "stderr",
     "output_type": "stream",
     "text": [
      "2025-02-17 12:15:17,084 - INFO - Retrieved 12525 data points for 2024-11\n"
     ]
    },
    {
     "name": "stdout",
     "output_type": "stream",
     "text": [
      "2025-02-17 12:15:17,085 - __main__ - INFO - Fetching data for CSCO - 2024-10\n"
     ]
    },
    {
     "name": "stderr",
     "output_type": "stream",
     "text": [
      "2025-02-17 12:15:17,085 - INFO - Fetching data for CSCO - 2024-10\n"
     ]
    },
    {
     "name": "stdout",
     "output_type": "stream",
     "text": [
      "2025-02-17 12:15:19,433 - __main__ - INFO - Retrieved 12987 data points for 2024-10\n"
     ]
    },
    {
     "name": "stderr",
     "output_type": "stream",
     "text": [
      "2025-02-17 12:15:19,433 - INFO - Retrieved 12987 data points for 2024-10\n"
     ]
    },
    {
     "name": "stdout",
     "output_type": "stream",
     "text": [
      "2025-02-17 12:15:19,434 - __main__ - INFO - Fetching data for CSCO - 2024-09\n"
     ]
    },
    {
     "name": "stderr",
     "output_type": "stream",
     "text": [
      "2025-02-17 12:15:19,434 - INFO - Fetching data for CSCO - 2024-09\n"
     ]
    },
    {
     "name": "stdout",
     "output_type": "stream",
     "text": [
      "2025-02-17 12:15:21,889 - __main__ - INFO - Retrieved 11193 data points for 2024-09\n"
     ]
    },
    {
     "name": "stderr",
     "output_type": "stream",
     "text": [
      "2025-02-17 12:15:21,889 - INFO - Retrieved 11193 data points for 2024-09\n"
     ]
    },
    {
     "name": "stdout",
     "output_type": "stream",
     "text": [
      "2025-02-17 12:15:21,890 - __main__ - INFO - Fetching data for CSCO - 2024-08\n"
     ]
    },
    {
     "name": "stderr",
     "output_type": "stream",
     "text": [
      "2025-02-17 12:15:21,890 - INFO - Fetching data for CSCO - 2024-08\n"
     ]
    },
    {
     "name": "stdout",
     "output_type": "stream",
     "text": [
      "2025-02-17 12:15:24,347 - __main__ - INFO - Retrieved 13679 data points for 2024-08\n"
     ]
    },
    {
     "name": "stderr",
     "output_type": "stream",
     "text": [
      "2025-02-17 12:15:24,347 - INFO - Retrieved 13679 data points for 2024-08\n"
     ]
    },
    {
     "name": "stdout",
     "output_type": "stream",
     "text": [
      "2025-02-17 12:15:24,348 - __main__ - INFO - Fetching data for CSCO - 2024-07\n"
     ]
    },
    {
     "name": "stderr",
     "output_type": "stream",
     "text": [
      "2025-02-17 12:15:24,348 - INFO - Fetching data for CSCO - 2024-07\n"
     ]
    },
    {
     "name": "stdout",
     "output_type": "stream",
     "text": [
      "2025-02-17 12:15:26,751 - __main__ - INFO - Retrieved 12964 data points for 2024-07\n"
     ]
    },
    {
     "name": "stderr",
     "output_type": "stream",
     "text": [
      "2025-02-17 12:15:26,751 - INFO - Retrieved 12964 data points for 2024-07\n"
     ]
    },
    {
     "name": "stdout",
     "output_type": "stream",
     "text": [
      "2025-02-17 12:15:26,752 - __main__ - INFO - Fetching data for CSCO - 2024-06\n"
     ]
    },
    {
     "name": "stderr",
     "output_type": "stream",
     "text": [
      "2025-02-17 12:15:26,752 - INFO - Fetching data for CSCO - 2024-06\n"
     ]
    },
    {
     "name": "stdout",
     "output_type": "stream",
     "text": [
      "2025-02-17 12:15:28,998 - __main__ - INFO - Retrieved 11858 data points for 2024-06\n"
     ]
    },
    {
     "name": "stderr",
     "output_type": "stream",
     "text": [
      "2025-02-17 12:15:28,998 - INFO - Retrieved 11858 data points for 2024-06\n"
     ]
    },
    {
     "name": "stdout",
     "output_type": "stream",
     "text": [
      "2025-02-17 12:15:28,999 - __main__ - INFO - Fetching data for CSCO - 2024-05\n"
     ]
    },
    {
     "name": "stderr",
     "output_type": "stream",
     "text": [
      "2025-02-17 12:15:28,999 - INFO - Fetching data for CSCO - 2024-05\n"
     ]
    },
    {
     "name": "stdout",
     "output_type": "stream",
     "text": [
      "2025-02-17 12:15:31,507 - __main__ - INFO - Retrieved 13673 data points for 2024-05\n"
     ]
    },
    {
     "name": "stderr",
     "output_type": "stream",
     "text": [
      "2025-02-17 12:15:31,507 - INFO - Retrieved 13673 data points for 2024-05\n"
     ]
    },
    {
     "name": "stdout",
     "output_type": "stream",
     "text": [
      "2025-02-17 12:15:31,508 - __main__ - INFO - Fetching data for CSCO - 2024-04\n"
     ]
    },
    {
     "name": "stderr",
     "output_type": "stream",
     "text": [
      "2025-02-17 12:15:31,508 - INFO - Fetching data for CSCO - 2024-04\n"
     ]
    },
    {
     "name": "stdout",
     "output_type": "stream",
     "text": [
      "2025-02-17 12:15:34,985 - __main__ - INFO - Retrieved 12844 data points for 2024-04\n"
     ]
    },
    {
     "name": "stderr",
     "output_type": "stream",
     "text": [
      "2025-02-17 12:15:34,985 - INFO - Retrieved 12844 data points for 2024-04\n"
     ]
    },
    {
     "name": "stdout",
     "output_type": "stream",
     "text": [
      "2025-02-17 12:15:34,986 - __main__ - INFO - Fetching data for CSCO - 2024-03\n"
     ]
    },
    {
     "name": "stderr",
     "output_type": "stream",
     "text": [
      "2025-02-17 12:15:34,986 - INFO - Fetching data for CSCO - 2024-03\n"
     ]
    },
    {
     "name": "stdout",
     "output_type": "stream",
     "text": [
      "2025-02-17 12:15:37,262 - __main__ - INFO - Retrieved 11307 data points for 2024-03\n"
     ]
    },
    {
     "name": "stderr",
     "output_type": "stream",
     "text": [
      "2025-02-17 12:15:37,262 - INFO - Retrieved 11307 data points for 2024-03\n"
     ]
    },
    {
     "name": "stdout",
     "output_type": "stream",
     "text": [
      "2025-02-17 12:15:37,262 - __main__ - INFO - Writing data to /Users/benpfeffer/Desktop/CODE/volatility-strategy/db/cache/market_data/CSCO_1min.csv\n"
     ]
    },
    {
     "name": "stderr",
     "output_type": "stream",
     "text": [
      "2025-02-17 12:15:37,262 - INFO - Writing data to /Users/benpfeffer/Desktop/CODE/volatility-strategy/db/cache/market_data/CSCO_1min.csv\n"
     ]
    },
    {
     "name": "stdout",
     "output_type": "stream",
     "text": [
      "2025-02-17 12:15:37,267 - __main__ - INFO - Data fetch completed successfully\n"
     ]
    },
    {
     "name": "stderr",
     "output_type": "stream",
     "text": [
      "2025-02-17 12:15:37,267 - INFO - Data fetch completed successfully\n"
     ]
    },
    {
     "name": "stdout",
     "output_type": "stream",
     "text": [
      "2025-02-17 12:15:37,269 - __main__ - INFO - Starting data fetch for C with 1min interval\n"
     ]
    },
    {
     "name": "stderr",
     "output_type": "stream",
     "text": [
      "2025-02-17 12:15:37,269 - INFO - Starting data fetch for C with 1min interval\n"
     ]
    },
    {
     "name": "stdout",
     "output_type": "stream",
     "text": [
      "2025-02-17 12:15:37,270 - __main__ - INFO - Using 1min interval - fetching data month by month for past year\n"
     ]
    },
    {
     "name": "stderr",
     "output_type": "stream",
     "text": [
      "2025-02-17 12:15:37,270 - INFO - Using 1min interval - fetching data month by month for past year\n"
     ]
    },
    {
     "name": "stdout",
     "output_type": "stream",
     "text": [
      "2025-02-17 12:15:37,270 - __main__ - INFO - Will fetch data for months: ['2025-02', '2025-01', '2024-12', '2024-11', '2024-10', '2024-09', '2024-08', '2024-07', '2024-06', '2024-05', '2024-04', '2024-03']\n"
     ]
    },
    {
     "name": "stderr",
     "output_type": "stream",
     "text": [
      "2025-02-17 12:15:37,270 - INFO - Will fetch data for months: ['2025-02', '2025-01', '2024-12', '2024-11', '2024-10', '2024-09', '2024-08', '2024-07', '2024-06', '2024-05', '2024-04', '2024-03']\n"
     ]
    },
    {
     "name": "stdout",
     "output_type": "stream",
     "text": [
      "2025-02-17 12:15:37,271 - __main__ - INFO - Fetching data for C - 2025-02\n"
     ]
    },
    {
     "name": "stderr",
     "output_type": "stream",
     "text": [
      "2025-02-17 12:15:37,271 - INFO - Fetching data for C - 2025-02\n"
     ]
    },
    {
     "name": "stdout",
     "output_type": "stream",
     "text": [
      "2025-02-17 12:15:38,099 - __main__ - INFO - Retrieved 5966 data points for 2025-02\n"
     ]
    },
    {
     "name": "stderr",
     "output_type": "stream",
     "text": [
      "2025-02-17 12:15:38,099 - INFO - Retrieved 5966 data points for 2025-02\n"
     ]
    },
    {
     "name": "stdout",
     "output_type": "stream",
     "text": [
      "2025-02-17 12:15:38,100 - __main__ - INFO - Fetching data for C - 2025-01\n"
     ]
    },
    {
     "name": "stderr",
     "output_type": "stream",
     "text": [
      "2025-02-17 12:15:38,100 - INFO - Fetching data for C - 2025-01\n"
     ]
    },
    {
     "name": "stdout",
     "output_type": "stream",
     "text": [
      "2025-02-17 12:15:39,059 - __main__ - INFO - Retrieved 12661 data points for 2025-01\n"
     ]
    },
    {
     "name": "stderr",
     "output_type": "stream",
     "text": [
      "2025-02-17 12:15:39,059 - INFO - Retrieved 12661 data points for 2025-01\n"
     ]
    },
    {
     "name": "stdout",
     "output_type": "stream",
     "text": [
      "2025-02-17 12:15:39,060 - __main__ - INFO - Fetching data for C - 2024-12\n"
     ]
    },
    {
     "name": "stderr",
     "output_type": "stream",
     "text": [
      "2025-02-17 12:15:39,060 - INFO - Fetching data for C - 2024-12\n"
     ]
    },
    {
     "name": "stdout",
     "output_type": "stream",
     "text": [
      "2025-02-17 12:15:41,214 - __main__ - INFO - Retrieved 11213 data points for 2024-12\n"
     ]
    },
    {
     "name": "stderr",
     "output_type": "stream",
     "text": [
      "2025-02-17 12:15:41,214 - INFO - Retrieved 11213 data points for 2024-12\n"
     ]
    },
    {
     "name": "stdout",
     "output_type": "stream",
     "text": [
      "2025-02-17 12:15:41,215 - __main__ - INFO - Fetching data for C - 2024-11\n"
     ]
    },
    {
     "name": "stderr",
     "output_type": "stream",
     "text": [
      "2025-02-17 12:15:41,215 - INFO - Fetching data for C - 2024-11\n"
     ]
    },
    {
     "name": "stdout",
     "output_type": "stream",
     "text": [
      "2025-02-17 12:15:43,600 - __main__ - INFO - Retrieved 11253 data points for 2024-11\n"
     ]
    },
    {
     "name": "stderr",
     "output_type": "stream",
     "text": [
      "2025-02-17 12:15:43,600 - INFO - Retrieved 11253 data points for 2024-11\n"
     ]
    },
    {
     "name": "stdout",
     "output_type": "stream",
     "text": [
      "2025-02-17 12:15:43,600 - __main__ - INFO - Fetching data for C - 2024-10\n"
     ]
    },
    {
     "name": "stderr",
     "output_type": "stream",
     "text": [
      "2025-02-17 12:15:43,600 - INFO - Fetching data for C - 2024-10\n"
     ]
    },
    {
     "name": "stdout",
     "output_type": "stream",
     "text": [
      "2025-02-17 12:15:45,967 - __main__ - INFO - Retrieved 12886 data points for 2024-10\n"
     ]
    },
    {
     "name": "stderr",
     "output_type": "stream",
     "text": [
      "2025-02-17 12:15:45,967 - INFO - Retrieved 12886 data points for 2024-10\n"
     ]
    },
    {
     "name": "stdout",
     "output_type": "stream",
     "text": [
      "2025-02-17 12:15:45,968 - __main__ - INFO - Fetching data for C - 2024-09\n"
     ]
    },
    {
     "name": "stderr",
     "output_type": "stream",
     "text": [
      "2025-02-17 12:15:45,968 - INFO - Fetching data for C - 2024-09\n"
     ]
    },
    {
     "name": "stdout",
     "output_type": "stream",
     "text": [
      "2025-02-17 12:15:48,137 - __main__ - INFO - Retrieved 10826 data points for 2024-09\n"
     ]
    },
    {
     "name": "stderr",
     "output_type": "stream",
     "text": [
      "2025-02-17 12:15:48,137 - INFO - Retrieved 10826 data points for 2024-09\n"
     ]
    },
    {
     "name": "stdout",
     "output_type": "stream",
     "text": [
      "2025-02-17 12:15:48,137 - __main__ - INFO - Fetching data for C - 2024-08\n"
     ]
    },
    {
     "name": "stderr",
     "output_type": "stream",
     "text": [
      "2025-02-17 12:15:48,137 - INFO - Fetching data for C - 2024-08\n"
     ]
    },
    {
     "name": "stdout",
     "output_type": "stream",
     "text": [
      "2025-02-17 12:15:50,572 - __main__ - INFO - Retrieved 12075 data points for 2024-08\n"
     ]
    },
    {
     "name": "stderr",
     "output_type": "stream",
     "text": [
      "2025-02-17 12:15:50,572 - INFO - Retrieved 12075 data points for 2024-08\n"
     ]
    },
    {
     "name": "stdout",
     "output_type": "stream",
     "text": [
      "2025-02-17 12:15:50,572 - __main__ - INFO - Fetching data for C - 2024-07\n"
     ]
    },
    {
     "name": "stderr",
     "output_type": "stream",
     "text": [
      "2025-02-17 12:15:50,572 - INFO - Fetching data for C - 2024-07\n"
     ]
    },
    {
     "name": "stdout",
     "output_type": "stream",
     "text": [
      "2025-02-17 12:15:53,118 - __main__ - INFO - Retrieved 12583 data points for 2024-07\n"
     ]
    },
    {
     "name": "stderr",
     "output_type": "stream",
     "text": [
      "2025-02-17 12:15:53,118 - INFO - Retrieved 12583 data points for 2024-07\n"
     ]
    },
    {
     "name": "stdout",
     "output_type": "stream",
     "text": [
      "2025-02-17 12:15:53,119 - __main__ - INFO - Fetching data for C - 2024-06\n"
     ]
    },
    {
     "name": "stderr",
     "output_type": "stream",
     "text": [
      "2025-02-17 12:15:53,119 - INFO - Fetching data for C - 2024-06\n"
     ]
    },
    {
     "name": "stdout",
     "output_type": "stream",
     "text": [
      "2025-02-17 12:15:55,174 - __main__ - INFO - Retrieved 10602 data points for 2024-06\n"
     ]
    },
    {
     "name": "stderr",
     "output_type": "stream",
     "text": [
      "2025-02-17 12:15:55,174 - INFO - Retrieved 10602 data points for 2024-06\n"
     ]
    },
    {
     "name": "stdout",
     "output_type": "stream",
     "text": [
      "2025-02-17 12:15:55,175 - __main__ - INFO - Fetching data for C - 2024-05\n"
     ]
    },
    {
     "name": "stderr",
     "output_type": "stream",
     "text": [
      "2025-02-17 12:15:55,175 - INFO - Fetching data for C - 2024-05\n"
     ]
    },
    {
     "name": "stdout",
     "output_type": "stream",
     "text": [
      "2025-02-17 12:15:56,197 - __main__ - INFO - Retrieved 11924 data points for 2024-05\n"
     ]
    },
    {
     "name": "stderr",
     "output_type": "stream",
     "text": [
      "2025-02-17 12:15:56,197 - INFO - Retrieved 11924 data points for 2024-05\n"
     ]
    },
    {
     "name": "stdout",
     "output_type": "stream",
     "text": [
      "2025-02-17 12:15:56,198 - __main__ - INFO - Fetching data for C - 2024-04\n"
     ]
    },
    {
     "name": "stderr",
     "output_type": "stream",
     "text": [
      "2025-02-17 12:15:56,198 - INFO - Fetching data for C - 2024-04\n"
     ]
    },
    {
     "name": "stdout",
     "output_type": "stream",
     "text": [
      "2025-02-17 12:15:58,501 - __main__ - INFO - Retrieved 12745 data points for 2024-04\n"
     ]
    },
    {
     "name": "stderr",
     "output_type": "stream",
     "text": [
      "2025-02-17 12:15:58,501 - INFO - Retrieved 12745 data points for 2024-04\n"
     ]
    },
    {
     "name": "stdout",
     "output_type": "stream",
     "text": [
      "2025-02-17 12:15:58,502 - __main__ - INFO - Fetching data for C - 2024-03\n"
     ]
    },
    {
     "name": "stderr",
     "output_type": "stream",
     "text": [
      "2025-02-17 12:15:58,502 - INFO - Fetching data for C - 2024-03\n"
     ]
    },
    {
     "name": "stdout",
     "output_type": "stream",
     "text": [
      "2025-02-17 12:16:00,696 - __main__ - INFO - Retrieved 11169 data points for 2024-03\n"
     ]
    },
    {
     "name": "stderr",
     "output_type": "stream",
     "text": [
      "2025-02-17 12:16:00,696 - INFO - Retrieved 11169 data points for 2024-03\n"
     ]
    },
    {
     "name": "stdout",
     "output_type": "stream",
     "text": [
      "2025-02-17 12:16:00,697 - __main__ - INFO - Writing data to /Users/benpfeffer/Desktop/CODE/volatility-strategy/db/cache/market_data/C_1min.csv\n"
     ]
    },
    {
     "name": "stderr",
     "output_type": "stream",
     "text": [
      "2025-02-17 12:16:00,697 - INFO - Writing data to /Users/benpfeffer/Desktop/CODE/volatility-strategy/db/cache/market_data/C_1min.csv\n"
     ]
    },
    {
     "name": "stdout",
     "output_type": "stream",
     "text": [
      "2025-02-17 12:16:00,702 - __main__ - INFO - Data fetch completed successfully\n"
     ]
    },
    {
     "name": "stderr",
     "output_type": "stream",
     "text": [
      "2025-02-17 12:16:00,702 - INFO - Data fetch completed successfully\n"
     ]
    },
    {
     "name": "stdout",
     "output_type": "stream",
     "text": [
      "2025-02-17 12:16:00,704 - __main__ - INFO - Starting data fetch for KO with 1min interval\n"
     ]
    },
    {
     "name": "stderr",
     "output_type": "stream",
     "text": [
      "2025-02-17 12:16:00,704 - INFO - Starting data fetch for KO with 1min interval\n"
     ]
    },
    {
     "name": "stdout",
     "output_type": "stream",
     "text": [
      "2025-02-17 12:16:00,704 - __main__ - INFO - Using 1min interval - fetching data month by month for past year\n"
     ]
    },
    {
     "name": "stderr",
     "output_type": "stream",
     "text": [
      "2025-02-17 12:16:00,704 - INFO - Using 1min interval - fetching data month by month for past year\n"
     ]
    },
    {
     "name": "stdout",
     "output_type": "stream",
     "text": [
      "2025-02-17 12:16:00,705 - __main__ - INFO - Will fetch data for months: ['2025-02', '2025-01', '2024-12', '2024-11', '2024-10', '2024-09', '2024-08', '2024-07', '2024-06', '2024-05', '2024-04', '2024-03']\n"
     ]
    },
    {
     "name": "stderr",
     "output_type": "stream",
     "text": [
      "2025-02-17 12:16:00,705 - INFO - Will fetch data for months: ['2025-02', '2025-01', '2024-12', '2024-11', '2024-10', '2024-09', '2024-08', '2024-07', '2024-06', '2024-05', '2024-04', '2024-03']\n"
     ]
    },
    {
     "name": "stdout",
     "output_type": "stream",
     "text": [
      "2025-02-17 12:16:00,706 - __main__ - INFO - Fetching data for KO - 2025-02\n"
     ]
    },
    {
     "name": "stderr",
     "output_type": "stream",
     "text": [
      "2025-02-17 12:16:00,706 - INFO - Fetching data for KO - 2025-02\n"
     ]
    },
    {
     "name": "stdout",
     "output_type": "stream",
     "text": [
      "2025-02-17 12:16:04,982 - __main__ - INFO - Retrieved 9137 data points for 2025-02\n"
     ]
    },
    {
     "name": "stderr",
     "output_type": "stream",
     "text": [
      "2025-02-17 12:16:04,982 - INFO - Retrieved 9137 data points for 2025-02\n"
     ]
    },
    {
     "name": "stdout",
     "output_type": "stream",
     "text": [
      "2025-02-17 12:16:04,983 - __main__ - INFO - Fetching data for KO - 2025-01\n"
     ]
    },
    {
     "name": "stderr",
     "output_type": "stream",
     "text": [
      "2025-02-17 12:16:04,983 - INFO - Fetching data for KO - 2025-01\n"
     ]
    },
    {
     "name": "stdout",
     "output_type": "stream",
     "text": [
      "2025-02-17 12:16:08,374 - __main__ - INFO - Retrieved 18126 data points for 2025-01\n"
     ]
    },
    {
     "name": "stderr",
     "output_type": "stream",
     "text": [
      "2025-02-17 12:16:08,374 - INFO - Retrieved 18126 data points for 2025-01\n"
     ]
    },
    {
     "name": "stdout",
     "output_type": "stream",
     "text": [
      "2025-02-17 12:16:08,375 - __main__ - INFO - Fetching data for KO - 2024-12\n"
     ]
    },
    {
     "name": "stderr",
     "output_type": "stream",
     "text": [
      "2025-02-17 12:16:08,375 - INFO - Fetching data for KO - 2024-12\n"
     ]
    },
    {
     "name": "stdout",
     "output_type": "stream",
     "text": [
      "2025-02-17 12:16:11,543 - __main__ - INFO - Retrieved 19095 data points for 2024-12\n"
     ]
    },
    {
     "name": "stderr",
     "output_type": "stream",
     "text": [
      "2025-02-17 12:16:11,543 - INFO - Retrieved 19095 data points for 2024-12\n"
     ]
    },
    {
     "name": "stdout",
     "output_type": "stream",
     "text": [
      "2025-02-17 12:16:11,544 - __main__ - INFO - Fetching data for KO - 2024-11\n"
     ]
    },
    {
     "name": "stderr",
     "output_type": "stream",
     "text": [
      "2025-02-17 12:16:11,544 - INFO - Fetching data for KO - 2024-11\n"
     ]
    },
    {
     "name": "stdout",
     "output_type": "stream",
     "text": [
      "2025-02-17 12:16:14,799 - __main__ - INFO - Retrieved 18518 data points for 2024-11\n"
     ]
    },
    {
     "name": "stderr",
     "output_type": "stream",
     "text": [
      "2025-02-17 12:16:14,799 - INFO - Retrieved 18518 data points for 2024-11\n"
     ]
    },
    {
     "name": "stdout",
     "output_type": "stream",
     "text": [
      "2025-02-17 12:16:14,800 - __main__ - INFO - Fetching data for KO - 2024-10\n"
     ]
    },
    {
     "name": "stderr",
     "output_type": "stream",
     "text": [
      "2025-02-17 12:16:14,800 - INFO - Fetching data for KO - 2024-10\n"
     ]
    },
    {
     "name": "stdout",
     "output_type": "stream",
     "text": [
      "2025-02-17 12:16:18,428 - __main__ - INFO - Retrieved 20222 data points for 2024-10\n"
     ]
    },
    {
     "name": "stderr",
     "output_type": "stream",
     "text": [
      "2025-02-17 12:16:18,428 - INFO - Retrieved 20222 data points for 2024-10\n"
     ]
    },
    {
     "name": "stdout",
     "output_type": "stream",
     "text": [
      "2025-02-17 12:16:18,429 - __main__ - INFO - Fetching data for KO - 2024-09\n"
     ]
    },
    {
     "name": "stderr",
     "output_type": "stream",
     "text": [
      "2025-02-17 12:16:18,429 - INFO - Fetching data for KO - 2024-09\n"
     ]
    },
    {
     "name": "stdout",
     "output_type": "stream",
     "text": [
      "2025-02-17 12:16:21,519 - __main__ - INFO - Retrieved 16913 data points for 2024-09\n"
     ]
    },
    {
     "name": "stderr",
     "output_type": "stream",
     "text": [
      "2025-02-17 12:16:21,519 - INFO - Retrieved 16913 data points for 2024-09\n"
     ]
    },
    {
     "name": "stdout",
     "output_type": "stream",
     "text": [
      "2025-02-17 12:16:21,520 - __main__ - INFO - Fetching data for KO - 2024-08\n"
     ]
    },
    {
     "name": "stderr",
     "output_type": "stream",
     "text": [
      "2025-02-17 12:16:21,520 - INFO - Fetching data for KO - 2024-08\n"
     ]
    },
    {
     "name": "stdout",
     "output_type": "stream",
     "text": [
      "2025-02-17 12:16:24,755 - __main__ - INFO - Retrieved 18473 data points for 2024-08\n"
     ]
    },
    {
     "name": "stderr",
     "output_type": "stream",
     "text": [
      "2025-02-17 12:16:24,755 - INFO - Retrieved 18473 data points for 2024-08\n"
     ]
    },
    {
     "name": "stdout",
     "output_type": "stream",
     "text": [
      "2025-02-17 12:16:24,756 - __main__ - INFO - Fetching data for KO - 2024-07\n"
     ]
    },
    {
     "name": "stderr",
     "output_type": "stream",
     "text": [
      "2025-02-17 12:16:24,756 - INFO - Fetching data for KO - 2024-07\n"
     ]
    },
    {
     "name": "stdout",
     "output_type": "stream",
     "text": [
      "2025-02-17 12:16:27,938 - __main__ - INFO - Retrieved 18380 data points for 2024-07\n"
     ]
    },
    {
     "name": "stderr",
     "output_type": "stream",
     "text": [
      "2025-02-17 12:16:27,938 - INFO - Retrieved 18380 data points for 2024-07\n"
     ]
    },
    {
     "name": "stdout",
     "output_type": "stream",
     "text": [
      "2025-02-17 12:16:27,939 - __main__ - INFO - Fetching data for KO - 2024-06\n"
     ]
    },
    {
     "name": "stderr",
     "output_type": "stream",
     "text": [
      "2025-02-17 12:16:27,939 - INFO - Fetching data for KO - 2024-06\n"
     ]
    },
    {
     "name": "stdout",
     "output_type": "stream",
     "text": [
      "2025-02-17 12:16:30,882 - __main__ - INFO - Retrieved 15450 data points for 2024-06\n"
     ]
    },
    {
     "name": "stderr",
     "output_type": "stream",
     "text": [
      "2025-02-17 12:16:30,882 - INFO - Retrieved 15450 data points for 2024-06\n"
     ]
    },
    {
     "name": "stdout",
     "output_type": "stream",
     "text": [
      "2025-02-17 12:16:30,883 - __main__ - INFO - Fetching data for KO - 2024-05\n"
     ]
    },
    {
     "name": "stderr",
     "output_type": "stream",
     "text": [
      "2025-02-17 12:16:30,883 - INFO - Fetching data for KO - 2024-05\n"
     ]
    },
    {
     "name": "stdout",
     "output_type": "stream",
     "text": [
      "2025-02-17 12:16:33,748 - __main__ - INFO - Retrieved 17589 data points for 2024-05\n"
     ]
    },
    {
     "name": "stderr",
     "output_type": "stream",
     "text": [
      "2025-02-17 12:16:33,748 - INFO - Retrieved 17589 data points for 2024-05\n"
     ]
    },
    {
     "name": "stdout",
     "output_type": "stream",
     "text": [
      "2025-02-17 12:16:33,749 - __main__ - INFO - Fetching data for KO - 2024-04\n"
     ]
    },
    {
     "name": "stderr",
     "output_type": "stream",
     "text": [
      "2025-02-17 12:16:33,749 - INFO - Fetching data for KO - 2024-04\n"
     ]
    },
    {
     "name": "stdout",
     "output_type": "stream",
     "text": [
      "2025-02-17 12:16:36,719 - __main__ - INFO - Retrieved 17909 data points for 2024-04\n"
     ]
    },
    {
     "name": "stderr",
     "output_type": "stream",
     "text": [
      "2025-02-17 12:16:36,719 - INFO - Retrieved 17909 data points for 2024-04\n"
     ]
    },
    {
     "name": "stdout",
     "output_type": "stream",
     "text": [
      "2025-02-17 12:16:36,720 - __main__ - INFO - Fetching data for KO - 2024-03\n"
     ]
    },
    {
     "name": "stderr",
     "output_type": "stream",
     "text": [
      "2025-02-17 12:16:36,720 - INFO - Fetching data for KO - 2024-03\n"
     ]
    },
    {
     "name": "stdout",
     "output_type": "stream",
     "text": [
      "2025-02-17 12:16:39,866 - __main__ - INFO - Retrieved 16426 data points for 2024-03\n"
     ]
    },
    {
     "name": "stderr",
     "output_type": "stream",
     "text": [
      "2025-02-17 12:16:39,866 - INFO - Retrieved 16426 data points for 2024-03\n"
     ]
    },
    {
     "name": "stdout",
     "output_type": "stream",
     "text": [
      "2025-02-17 12:16:39,867 - __main__ - INFO - Writing data to /Users/benpfeffer/Desktop/CODE/volatility-strategy/db/cache/market_data/KO_1min.csv\n"
     ]
    },
    {
     "name": "stderr",
     "output_type": "stream",
     "text": [
      "2025-02-17 12:16:39,867 - INFO - Writing data to /Users/benpfeffer/Desktop/CODE/volatility-strategy/db/cache/market_data/KO_1min.csv\n"
     ]
    },
    {
     "name": "stdout",
     "output_type": "stream",
     "text": [
      "2025-02-17 12:16:39,872 - __main__ - INFO - Data fetch completed successfully\n"
     ]
    },
    {
     "name": "stderr",
     "output_type": "stream",
     "text": [
      "2025-02-17 12:16:39,872 - INFO - Data fetch completed successfully\n"
     ]
    },
    {
     "name": "stdout",
     "output_type": "stream",
     "text": [
      "2025-02-17 12:16:39,875 - __main__ - INFO - Starting data fetch for DD with 1min interval\n"
     ]
    },
    {
     "name": "stderr",
     "output_type": "stream",
     "text": [
      "2025-02-17 12:16:39,875 - INFO - Starting data fetch for DD with 1min interval\n"
     ]
    },
    {
     "name": "stdout",
     "output_type": "stream",
     "text": [
      "2025-02-17 12:16:39,876 - __main__ - INFO - Using 1min interval - fetching data month by month for past year\n"
     ]
    },
    {
     "name": "stderr",
     "output_type": "stream",
     "text": [
      "2025-02-17 12:16:39,876 - INFO - Using 1min interval - fetching data month by month for past year\n"
     ]
    },
    {
     "name": "stdout",
     "output_type": "stream",
     "text": [
      "2025-02-17 12:16:39,877 - __main__ - INFO - Will fetch data for months: ['2025-02', '2025-01', '2024-12', '2024-11', '2024-10', '2024-09', '2024-08', '2024-07', '2024-06', '2024-05', '2024-04', '2024-03']\n"
     ]
    },
    {
     "name": "stderr",
     "output_type": "stream",
     "text": [
      "2025-02-17 12:16:39,877 - INFO - Will fetch data for months: ['2025-02', '2025-01', '2024-12', '2024-11', '2024-10', '2024-09', '2024-08', '2024-07', '2024-06', '2024-05', '2024-04', '2024-03']\n"
     ]
    },
    {
     "name": "stdout",
     "output_type": "stream",
     "text": [
      "2025-02-17 12:16:39,877 - __main__ - INFO - Fetching data for DD - 2025-02\n"
     ]
    },
    {
     "name": "stderr",
     "output_type": "stream",
     "text": [
      "2025-02-17 12:16:39,877 - INFO - Fetching data for DD - 2025-02\n"
     ]
    },
    {
     "name": "stdout",
     "output_type": "stream",
     "text": [
      "2025-02-17 12:16:41,694 - __main__ - INFO - Retrieved 4529 data points for 2025-02\n"
     ]
    },
    {
     "name": "stderr",
     "output_type": "stream",
     "text": [
      "2025-02-17 12:16:41,694 - INFO - Retrieved 4529 data points for 2025-02\n"
     ]
    },
    {
     "name": "stdout",
     "output_type": "stream",
     "text": [
      "2025-02-17 12:16:41,695 - __main__ - INFO - Fetching data for DD - 2025-01\n"
     ]
    },
    {
     "name": "stderr",
     "output_type": "stream",
     "text": [
      "2025-02-17 12:16:41,695 - INFO - Fetching data for DD - 2025-01\n"
     ]
    },
    {
     "name": "stdout",
     "output_type": "stream",
     "text": [
      "2025-02-17 12:16:43,775 - __main__ - INFO - Retrieved 8768 data points for 2025-01\n"
     ]
    },
    {
     "name": "stderr",
     "output_type": "stream",
     "text": [
      "2025-02-17 12:16:43,775 - INFO - Retrieved 8768 data points for 2025-01\n"
     ]
    },
    {
     "name": "stdout",
     "output_type": "stream",
     "text": [
      "2025-02-17 12:16:43,777 - __main__ - INFO - Fetching data for DD - 2024-12\n"
     ]
    },
    {
     "name": "stderr",
     "output_type": "stream",
     "text": [
      "2025-02-17 12:16:43,777 - INFO - Fetching data for DD - 2024-12\n"
     ]
    },
    {
     "name": "stdout",
     "output_type": "stream",
     "text": [
      "2025-02-17 12:16:46,076 - __main__ - INFO - Retrieved 8656 data points for 2024-12\n"
     ]
    },
    {
     "name": "stderr",
     "output_type": "stream",
     "text": [
      "2025-02-17 12:16:46,076 - INFO - Retrieved 8656 data points for 2024-12\n"
     ]
    },
    {
     "name": "stdout",
     "output_type": "stream",
     "text": [
      "2025-02-17 12:16:46,077 - __main__ - INFO - Fetching data for DD - 2024-11\n"
     ]
    },
    {
     "name": "stderr",
     "output_type": "stream",
     "text": [
      "2025-02-17 12:16:46,077 - INFO - Fetching data for DD - 2024-11\n"
     ]
    },
    {
     "name": "stdout",
     "output_type": "stream",
     "text": [
      "2025-02-17 12:16:48,016 - __main__ - INFO - Retrieved 8478 data points for 2024-11\n"
     ]
    },
    {
     "name": "stderr",
     "output_type": "stream",
     "text": [
      "2025-02-17 12:16:48,016 - INFO - Retrieved 8478 data points for 2024-11\n"
     ]
    },
    {
     "name": "stdout",
     "output_type": "stream",
     "text": [
      "2025-02-17 12:16:48,017 - __main__ - INFO - Fetching data for DD - 2024-10\n"
     ]
    },
    {
     "name": "stderr",
     "output_type": "stream",
     "text": [
      "2025-02-17 12:16:48,017 - INFO - Fetching data for DD - 2024-10\n"
     ]
    },
    {
     "name": "stdout",
     "output_type": "stream",
     "text": [
      "2025-02-17 12:16:50,067 - __main__ - INFO - Retrieved 9355 data points for 2024-10\n"
     ]
    },
    {
     "name": "stderr",
     "output_type": "stream",
     "text": [
      "2025-02-17 12:16:50,067 - INFO - Retrieved 9355 data points for 2024-10\n"
     ]
    },
    {
     "name": "stdout",
     "output_type": "stream",
     "text": [
      "2025-02-17 12:16:50,068 - __main__ - INFO - Fetching data for DD - 2024-09\n"
     ]
    },
    {
     "name": "stderr",
     "output_type": "stream",
     "text": [
      "2025-02-17 12:16:50,068 - INFO - Fetching data for DD - 2024-09\n"
     ]
    },
    {
     "name": "stdout",
     "output_type": "stream",
     "text": [
      "2025-02-17 12:16:51,906 - __main__ - INFO - Retrieved 8402 data points for 2024-09\n"
     ]
    },
    {
     "name": "stderr",
     "output_type": "stream",
     "text": [
      "2025-02-17 12:16:51,906 - INFO - Retrieved 8402 data points for 2024-09\n"
     ]
    },
    {
     "name": "stdout",
     "output_type": "stream",
     "text": [
      "2025-02-17 12:16:51,907 - __main__ - INFO - Fetching data for DD - 2024-08\n"
     ]
    },
    {
     "name": "stderr",
     "output_type": "stream",
     "text": [
      "2025-02-17 12:16:51,907 - INFO - Fetching data for DD - 2024-08\n"
     ]
    },
    {
     "name": "stdout",
     "output_type": "stream",
     "text": [
      "2025-02-17 12:16:53,983 - __main__ - INFO - Retrieved 9687 data points for 2024-08\n"
     ]
    },
    {
     "name": "stderr",
     "output_type": "stream",
     "text": [
      "2025-02-17 12:16:53,983 - INFO - Retrieved 9687 data points for 2024-08\n"
     ]
    },
    {
     "name": "stdout",
     "output_type": "stream",
     "text": [
      "2025-02-17 12:16:53,984 - __main__ - INFO - Fetching data for DD - 2024-07\n"
     ]
    },
    {
     "name": "stderr",
     "output_type": "stream",
     "text": [
      "2025-02-17 12:16:53,984 - INFO - Fetching data for DD - 2024-07\n"
     ]
    },
    {
     "name": "stdout",
     "output_type": "stream",
     "text": [
      "2025-02-17 12:16:55,825 - __main__ - INFO - Retrieved 9204 data points for 2024-07\n"
     ]
    },
    {
     "name": "stderr",
     "output_type": "stream",
     "text": [
      "2025-02-17 12:16:55,825 - INFO - Retrieved 9204 data points for 2024-07\n"
     ]
    },
    {
     "name": "stdout",
     "output_type": "stream",
     "text": [
      "2025-02-17 12:16:55,826 - __main__ - INFO - Fetching data for DD - 2024-06\n"
     ]
    },
    {
     "name": "stderr",
     "output_type": "stream",
     "text": [
      "2025-02-17 12:16:55,826 - INFO - Fetching data for DD - 2024-06\n"
     ]
    },
    {
     "name": "stdout",
     "output_type": "stream",
     "text": [
      "2025-02-17 12:16:57,617 - __main__ - INFO - Retrieved 8363 data points for 2024-06\n"
     ]
    },
    {
     "name": "stderr",
     "output_type": "stream",
     "text": [
      "2025-02-17 12:16:57,617 - INFO - Retrieved 8363 data points for 2024-06\n"
     ]
    },
    {
     "name": "stdout",
     "output_type": "stream",
     "text": [
      "2025-02-17 12:16:57,617 - __main__ - INFO - Fetching data for DD - 2024-05\n"
     ]
    },
    {
     "name": "stderr",
     "output_type": "stream",
     "text": [
      "2025-02-17 12:16:57,617 - INFO - Fetching data for DD - 2024-05\n"
     ]
    },
    {
     "name": "stdout",
     "output_type": "stream",
     "text": [
      "2025-02-17 12:16:58,481 - __main__ - INFO - Retrieved 9965 data points for 2024-05\n"
     ]
    },
    {
     "name": "stderr",
     "output_type": "stream",
     "text": [
      "2025-02-17 12:16:58,481 - INFO - Retrieved 9965 data points for 2024-05\n"
     ]
    },
    {
     "name": "stdout",
     "output_type": "stream",
     "text": [
      "2025-02-17 12:16:58,482 - __main__ - INFO - Fetching data for DD - 2024-04\n"
     ]
    },
    {
     "name": "stderr",
     "output_type": "stream",
     "text": [
      "2025-02-17 12:16:58,482 - INFO - Fetching data for DD - 2024-04\n"
     ]
    },
    {
     "name": "stdout",
     "output_type": "stream",
     "text": [
      "2025-02-17 12:17:00,413 - __main__ - INFO - Retrieved 9040 data points for 2024-04\n"
     ]
    },
    {
     "name": "stderr",
     "output_type": "stream",
     "text": [
      "2025-02-17 12:17:00,413 - INFO - Retrieved 9040 data points for 2024-04\n"
     ]
    },
    {
     "name": "stdout",
     "output_type": "stream",
     "text": [
      "2025-02-17 12:17:00,413 - __main__ - INFO - Fetching data for DD - 2024-03\n"
     ]
    },
    {
     "name": "stderr",
     "output_type": "stream",
     "text": [
      "2025-02-17 12:17:00,413 - INFO - Fetching data for DD - 2024-03\n"
     ]
    },
    {
     "name": "stdout",
     "output_type": "stream",
     "text": [
      "2025-02-17 12:17:02,582 - __main__ - INFO - Retrieved 8283 data points for 2024-03\n"
     ]
    },
    {
     "name": "stderr",
     "output_type": "stream",
     "text": [
      "2025-02-17 12:17:02,582 - INFO - Retrieved 8283 data points for 2024-03\n"
     ]
    },
    {
     "name": "stdout",
     "output_type": "stream",
     "text": [
      "2025-02-17 12:17:02,583 - __main__ - INFO - Writing data to /Users/benpfeffer/Desktop/CODE/volatility-strategy/db/cache/market_data/DD_1min.csv\n"
     ]
    },
    {
     "name": "stderr",
     "output_type": "stream",
     "text": [
      "2025-02-17 12:17:02,583 - INFO - Writing data to /Users/benpfeffer/Desktop/CODE/volatility-strategy/db/cache/market_data/DD_1min.csv\n"
     ]
    },
    {
     "name": "stdout",
     "output_type": "stream",
     "text": [
      "2025-02-17 12:17:02,587 - __main__ - INFO - Data fetch completed successfully\n"
     ]
    },
    {
     "name": "stderr",
     "output_type": "stream",
     "text": [
      "2025-02-17 12:17:02,587 - INFO - Data fetch completed successfully\n"
     ]
    },
    {
     "name": "stdout",
     "output_type": "stream",
     "text": [
      "2025-02-17 12:17:02,589 - __main__ - INFO - Starting data fetch for XOM with 1min interval\n"
     ]
    },
    {
     "name": "stderr",
     "output_type": "stream",
     "text": [
      "2025-02-17 12:17:02,589 - INFO - Starting data fetch for XOM with 1min interval\n"
     ]
    },
    {
     "name": "stdout",
     "output_type": "stream",
     "text": [
      "2025-02-17 12:17:02,590 - __main__ - INFO - Using 1min interval - fetching data month by month for past year\n"
     ]
    },
    {
     "name": "stderr",
     "output_type": "stream",
     "text": [
      "2025-02-17 12:17:02,590 - INFO - Using 1min interval - fetching data month by month for past year\n"
     ]
    },
    {
     "name": "stdout",
     "output_type": "stream",
     "text": [
      "2025-02-17 12:17:02,591 - __main__ - INFO - Will fetch data for months: ['2025-02', '2025-01', '2024-12', '2024-11', '2024-10', '2024-09', '2024-08', '2024-07', '2024-06', '2024-05', '2024-04', '2024-03']\n"
     ]
    },
    {
     "name": "stderr",
     "output_type": "stream",
     "text": [
      "2025-02-17 12:17:02,591 - INFO - Will fetch data for months: ['2025-02', '2025-01', '2024-12', '2024-11', '2024-10', '2024-09', '2024-08', '2024-07', '2024-06', '2024-05', '2024-04', '2024-03']\n"
     ]
    },
    {
     "name": "stdout",
     "output_type": "stream",
     "text": [
      "2025-02-17 12:17:02,592 - __main__ - INFO - Fetching data for XOM - 2025-02\n"
     ]
    },
    {
     "name": "stderr",
     "output_type": "stream",
     "text": [
      "2025-02-17 12:17:02,592 - INFO - Fetching data for XOM - 2025-02\n"
     ]
    },
    {
     "name": "stdout",
     "output_type": "stream",
     "text": [
      "2025-02-17 12:17:05,359 - __main__ - INFO - Retrieved 7361 data points for 2025-02\n"
     ]
    },
    {
     "name": "stderr",
     "output_type": "stream",
     "text": [
      "2025-02-17 12:17:05,359 - INFO - Retrieved 7361 data points for 2025-02\n"
     ]
    },
    {
     "name": "stdout",
     "output_type": "stream",
     "text": [
      "2025-02-17 12:17:05,360 - __main__ - INFO - Fetching data for XOM - 2025-01\n"
     ]
    },
    {
     "name": "stderr",
     "output_type": "stream",
     "text": [
      "2025-02-17 12:17:05,360 - INFO - Fetching data for XOM - 2025-01\n"
     ]
    },
    {
     "name": "stdout",
     "output_type": "stream",
     "text": [
      "2025-02-17 12:17:08,462 - __main__ - INFO - Retrieved 15608 data points for 2025-01\n"
     ]
    },
    {
     "name": "stderr",
     "output_type": "stream",
     "text": [
      "2025-02-17 12:17:08,462 - INFO - Retrieved 15608 data points for 2025-01\n"
     ]
    },
    {
     "name": "stdout",
     "output_type": "stream",
     "text": [
      "2025-02-17 12:17:08,463 - __main__ - INFO - Fetching data for XOM - 2024-12\n"
     ]
    },
    {
     "name": "stderr",
     "output_type": "stream",
     "text": [
      "2025-02-17 12:17:08,463 - INFO - Fetching data for XOM - 2024-12\n"
     ]
    },
    {
     "name": "stdout",
     "output_type": "stream",
     "text": [
      "2025-02-17 12:17:11,252 - __main__ - INFO - Retrieved 15747 data points for 2024-12\n"
     ]
    },
    {
     "name": "stderr",
     "output_type": "stream",
     "text": [
      "2025-02-17 12:17:11,252 - INFO - Retrieved 15747 data points for 2024-12\n"
     ]
    },
    {
     "name": "stdout",
     "output_type": "stream",
     "text": [
      "2025-02-17 12:17:11,253 - __main__ - INFO - Fetching data for XOM - 2024-11\n"
     ]
    },
    {
     "name": "stderr",
     "output_type": "stream",
     "text": [
      "2025-02-17 12:17:11,253 - INFO - Fetching data for XOM - 2024-11\n"
     ]
    },
    {
     "name": "stdout",
     "output_type": "stream",
     "text": [
      "2025-02-17 12:17:13,970 - __main__ - INFO - Retrieved 14840 data points for 2024-11\n"
     ]
    },
    {
     "name": "stderr",
     "output_type": "stream",
     "text": [
      "2025-02-17 12:17:13,970 - INFO - Retrieved 14840 data points for 2024-11\n"
     ]
    },
    {
     "name": "stdout",
     "output_type": "stream",
     "text": [
      "2025-02-17 12:17:13,971 - __main__ - INFO - Fetching data for XOM - 2024-10\n"
     ]
    },
    {
     "name": "stderr",
     "output_type": "stream",
     "text": [
      "2025-02-17 12:17:13,971 - INFO - Fetching data for XOM - 2024-10\n"
     ]
    },
    {
     "name": "stdout",
     "output_type": "stream",
     "text": [
      "2025-02-17 12:17:16,878 - __main__ - INFO - Retrieved 16645 data points for 2024-10\n"
     ]
    },
    {
     "name": "stderr",
     "output_type": "stream",
     "text": [
      "2025-02-17 12:17:16,878 - INFO - Retrieved 16645 data points for 2024-10\n"
     ]
    },
    {
     "name": "stdout",
     "output_type": "stream",
     "text": [
      "2025-02-17 12:17:16,879 - __main__ - INFO - Fetching data for XOM - 2024-09\n"
     ]
    },
    {
     "name": "stderr",
     "output_type": "stream",
     "text": [
      "2025-02-17 12:17:16,879 - INFO - Fetching data for XOM - 2024-09\n"
     ]
    },
    {
     "name": "stdout",
     "output_type": "stream",
     "text": [
      "2025-02-17 12:17:19,484 - __main__ - INFO - Retrieved 13814 data points for 2024-09\n"
     ]
    },
    {
     "name": "stderr",
     "output_type": "stream",
     "text": [
      "2025-02-17 12:17:19,484 - INFO - Retrieved 13814 data points for 2024-09\n"
     ]
    },
    {
     "name": "stdout",
     "output_type": "stream",
     "text": [
      "2025-02-17 12:17:19,485 - __main__ - INFO - Fetching data for XOM - 2024-08\n"
     ]
    },
    {
     "name": "stderr",
     "output_type": "stream",
     "text": [
      "2025-02-17 12:17:19,485 - INFO - Fetching data for XOM - 2024-08\n"
     ]
    },
    {
     "name": "stdout",
     "output_type": "stream",
     "text": [
      "2025-02-17 12:17:22,288 - __main__ - INFO - Retrieved 15311 data points for 2024-08\n"
     ]
    },
    {
     "name": "stderr",
     "output_type": "stream",
     "text": [
      "2025-02-17 12:17:22,288 - INFO - Retrieved 15311 data points for 2024-08\n"
     ]
    },
    {
     "name": "stdout",
     "output_type": "stream",
     "text": [
      "2025-02-17 12:17:22,289 - __main__ - INFO - Fetching data for XOM - 2024-07\n"
     ]
    },
    {
     "name": "stderr",
     "output_type": "stream",
     "text": [
      "2025-02-17 12:17:22,289 - INFO - Fetching data for XOM - 2024-07\n"
     ]
    },
    {
     "name": "stdout",
     "output_type": "stream",
     "text": [
      "2025-02-17 12:17:25,387 - __main__ - INFO - Retrieved 16461 data points for 2024-07\n"
     ]
    },
    {
     "name": "stderr",
     "output_type": "stream",
     "text": [
      "2025-02-17 12:17:25,387 - INFO - Retrieved 16461 data points for 2024-07\n"
     ]
    },
    {
     "name": "stdout",
     "output_type": "stream",
     "text": [
      "2025-02-17 12:17:25,388 - __main__ - INFO - Fetching data for XOM - 2024-06\n"
     ]
    },
    {
     "name": "stderr",
     "output_type": "stream",
     "text": [
      "2025-02-17 12:17:25,388 - INFO - Fetching data for XOM - 2024-06\n"
     ]
    },
    {
     "name": "stdout",
     "output_type": "stream",
     "text": [
      "2025-02-17 12:17:27,941 - __main__ - INFO - Retrieved 12942 data points for 2024-06\n"
     ]
    },
    {
     "name": "stderr",
     "output_type": "stream",
     "text": [
      "2025-02-17 12:17:27,941 - INFO - Retrieved 12942 data points for 2024-06\n"
     ]
    },
    {
     "name": "stdout",
     "output_type": "stream",
     "text": [
      "2025-02-17 12:17:27,942 - __main__ - INFO - Fetching data for XOM - 2024-05\n"
     ]
    },
    {
     "name": "stderr",
     "output_type": "stream",
     "text": [
      "2025-02-17 12:17:27,942 - INFO - Fetching data for XOM - 2024-05\n"
     ]
    },
    {
     "name": "stdout",
     "output_type": "stream",
     "text": [
      "2025-02-17 12:17:29,001 - __main__ - INFO - Retrieved 14563 data points for 2024-05\n"
     ]
    },
    {
     "name": "stderr",
     "output_type": "stream",
     "text": [
      "2025-02-17 12:17:29,001 - INFO - Retrieved 14563 data points for 2024-05\n"
     ]
    },
    {
     "name": "stdout",
     "output_type": "stream",
     "text": [
      "2025-02-17 12:17:29,002 - __main__ - INFO - Fetching data for XOM - 2024-04\n"
     ]
    },
    {
     "name": "stderr",
     "output_type": "stream",
     "text": [
      "2025-02-17 12:17:29,002 - INFO - Fetching data for XOM - 2024-04\n"
     ]
    },
    {
     "name": "stdout",
     "output_type": "stream",
     "text": [
      "2025-02-17 12:17:31,889 - __main__ - INFO - Retrieved 16035 data points for 2024-04\n"
     ]
    },
    {
     "name": "stderr",
     "output_type": "stream",
     "text": [
      "2025-02-17 12:17:31,889 - INFO - Retrieved 16035 data points for 2024-04\n"
     ]
    },
    {
     "name": "stdout",
     "output_type": "stream",
     "text": [
      "2025-02-17 12:17:31,890 - __main__ - INFO - Fetching data for XOM - 2024-03\n"
     ]
    },
    {
     "name": "stderr",
     "output_type": "stream",
     "text": [
      "2025-02-17 12:17:31,890 - INFO - Fetching data for XOM - 2024-03\n"
     ]
    },
    {
     "name": "stdout",
     "output_type": "stream",
     "text": [
      "2025-02-17 12:17:34,436 - __main__ - INFO - Retrieved 13423 data points for 2024-03\n"
     ]
    },
    {
     "name": "stderr",
     "output_type": "stream",
     "text": [
      "2025-02-17 12:17:34,436 - INFO - Retrieved 13423 data points for 2024-03\n"
     ]
    },
    {
     "name": "stdout",
     "output_type": "stream",
     "text": [
      "2025-02-17 12:17:34,437 - __main__ - INFO - Writing data to /Users/benpfeffer/Desktop/CODE/volatility-strategy/db/cache/market_data/XOM_1min.csv\n"
     ]
    },
    {
     "name": "stderr",
     "output_type": "stream",
     "text": [
      "2025-02-17 12:17:34,437 - INFO - Writing data to /Users/benpfeffer/Desktop/CODE/volatility-strategy/db/cache/market_data/XOM_1min.csv\n"
     ]
    },
    {
     "name": "stdout",
     "output_type": "stream",
     "text": [
      "2025-02-17 12:17:34,442 - __main__ - INFO - Data fetch completed successfully\n"
     ]
    },
    {
     "name": "stderr",
     "output_type": "stream",
     "text": [
      "2025-02-17 12:17:34,442 - INFO - Data fetch completed successfully\n"
     ]
    },
    {
     "name": "stdout",
     "output_type": "stream",
     "text": [
      "2025-02-17 12:17:34,443 - __main__ - INFO - Starting data fetch for META with 1min interval\n"
     ]
    },
    {
     "name": "stderr",
     "output_type": "stream",
     "text": [
      "2025-02-17 12:17:34,443 - INFO - Starting data fetch for META with 1min interval\n"
     ]
    },
    {
     "name": "stdout",
     "output_type": "stream",
     "text": [
      "2025-02-17 12:17:34,444 - __main__ - INFO - Using 1min interval - fetching data month by month for past year\n"
     ]
    },
    {
     "name": "stderr",
     "output_type": "stream",
     "text": [
      "2025-02-17 12:17:34,444 - INFO - Using 1min interval - fetching data month by month for past year\n"
     ]
    },
    {
     "name": "stdout",
     "output_type": "stream",
     "text": [
      "2025-02-17 12:17:34,445 - __main__ - INFO - Will fetch data for months: ['2025-02', '2025-01', '2024-12', '2024-11', '2024-10', '2024-09', '2024-08', '2024-07', '2024-06', '2024-05', '2024-04', '2024-03']\n"
     ]
    },
    {
     "name": "stderr",
     "output_type": "stream",
     "text": [
      "2025-02-17 12:17:34,445 - INFO - Will fetch data for months: ['2025-02', '2025-01', '2024-12', '2024-11', '2024-10', '2024-09', '2024-08', '2024-07', '2024-06', '2024-05', '2024-04', '2024-03']\n"
     ]
    },
    {
     "name": "stdout",
     "output_type": "stream",
     "text": [
      "2025-02-17 12:17:34,446 - __main__ - INFO - Fetching data for META - 2025-02\n"
     ]
    },
    {
     "name": "stderr",
     "output_type": "stream",
     "text": [
      "2025-02-17 12:17:34,446 - INFO - Fetching data for META - 2025-02\n"
     ]
    },
    {
     "name": "stdout",
     "output_type": "stream",
     "text": [
      "2025-02-17 12:17:35,154 - __main__ - INFO - Retrieved 9492 data points for 2025-02\n"
     ]
    },
    {
     "name": "stderr",
     "output_type": "stream",
     "text": [
      "2025-02-17 12:17:35,154 - INFO - Retrieved 9492 data points for 2025-02\n"
     ]
    },
    {
     "name": "stdout",
     "output_type": "stream",
     "text": [
      "2025-02-17 12:17:35,155 - __main__ - INFO - Fetching data for META - 2025-01\n"
     ]
    },
    {
     "name": "stderr",
     "output_type": "stream",
     "text": [
      "2025-02-17 12:17:35,155 - INFO - Fetching data for META - 2025-01\n"
     ]
    },
    {
     "name": "stdout",
     "output_type": "stream",
     "text": [
      "2025-02-17 12:17:36,168 - __main__ - INFO - Retrieved 18985 data points for 2025-01\n"
     ]
    },
    {
     "name": "stderr",
     "output_type": "stream",
     "text": [
      "2025-02-17 12:17:36,168 - INFO - Retrieved 18985 data points for 2025-01\n"
     ]
    },
    {
     "name": "stdout",
     "output_type": "stream",
     "text": [
      "2025-02-17 12:17:36,169 - __main__ - INFO - Fetching data for META - 2024-12\n"
     ]
    },
    {
     "name": "stderr",
     "output_type": "stream",
     "text": [
      "2025-02-17 12:17:36,169 - INFO - Fetching data for META - 2024-12\n"
     ]
    },
    {
     "name": "stdout",
     "output_type": "stream",
     "text": [
      "2025-02-17 12:17:39,468 - __main__ - INFO - Retrieved 19568 data points for 2024-12\n"
     ]
    },
    {
     "name": "stderr",
     "output_type": "stream",
     "text": [
      "2025-02-17 12:17:39,468 - INFO - Retrieved 19568 data points for 2024-12\n"
     ]
    },
    {
     "name": "stdout",
     "output_type": "stream",
     "text": [
      "2025-02-17 12:17:39,469 - __main__ - INFO - Fetching data for META - 2024-11\n"
     ]
    },
    {
     "name": "stderr",
     "output_type": "stream",
     "text": [
      "2025-02-17 12:17:39,469 - INFO - Fetching data for META - 2024-11\n"
     ]
    },
    {
     "name": "stdout",
     "output_type": "stream",
     "text": [
      "2025-02-17 12:17:42,841 - __main__ - INFO - Retrieved 18627 data points for 2024-11\n"
     ]
    },
    {
     "name": "stderr",
     "output_type": "stream",
     "text": [
      "2025-02-17 12:17:42,841 - INFO - Retrieved 18627 data points for 2024-11\n"
     ]
    },
    {
     "name": "stdout",
     "output_type": "stream",
     "text": [
      "2025-02-17 12:17:42,842 - __main__ - INFO - Fetching data for META - 2024-10\n"
     ]
    },
    {
     "name": "stderr",
     "output_type": "stream",
     "text": [
      "2025-02-17 12:17:42,842 - INFO - Fetching data for META - 2024-10\n"
     ]
    },
    {
     "name": "stdout",
     "output_type": "stream",
     "text": [
      "2025-02-17 12:17:46,452 - __main__ - INFO - Retrieved 21510 data points for 2024-10\n"
     ]
    },
    {
     "name": "stderr",
     "output_type": "stream",
     "text": [
      "2025-02-17 12:17:46,452 - INFO - Retrieved 21510 data points for 2024-10\n"
     ]
    },
    {
     "name": "stdout",
     "output_type": "stream",
     "text": [
      "2025-02-17 12:17:46,453 - __main__ - INFO - Fetching data for META - 2024-09\n"
     ]
    },
    {
     "name": "stderr",
     "output_type": "stream",
     "text": [
      "2025-02-17 12:17:46,453 - INFO - Fetching data for META - 2024-09\n"
     ]
    },
    {
     "name": "stdout",
     "output_type": "stream",
     "text": [
      "2025-02-17 12:17:49,579 - __main__ - INFO - Retrieved 18309 data points for 2024-09\n"
     ]
    },
    {
     "name": "stderr",
     "output_type": "stream",
     "text": [
      "2025-02-17 12:17:49,579 - INFO - Retrieved 18309 data points for 2024-09\n"
     ]
    },
    {
     "name": "stdout",
     "output_type": "stream",
     "text": [
      "2025-02-17 12:17:49,580 - __main__ - INFO - Fetching data for META - 2024-08\n"
     ]
    },
    {
     "name": "stderr",
     "output_type": "stream",
     "text": [
      "2025-02-17 12:17:49,580 - INFO - Fetching data for META - 2024-08\n"
     ]
    },
    {
     "name": "stdout",
     "output_type": "stream",
     "text": [
      "2025-02-17 12:17:52,825 - __main__ - INFO - Retrieved 20312 data points for 2024-08\n"
     ]
    },
    {
     "name": "stderr",
     "output_type": "stream",
     "text": [
      "2025-02-17 12:17:52,825 - INFO - Retrieved 20312 data points for 2024-08\n"
     ]
    },
    {
     "name": "stdout",
     "output_type": "stream",
     "text": [
      "2025-02-17 12:17:52,826 - __main__ - INFO - Fetching data for META - 2024-07\n"
     ]
    },
    {
     "name": "stderr",
     "output_type": "stream",
     "text": [
      "2025-02-17 12:17:52,826 - INFO - Fetching data for META - 2024-07\n"
     ]
    },
    {
     "name": "stdout",
     "output_type": "stream",
     "text": [
      "2025-02-17 12:17:56,217 - __main__ - INFO - Retrieved 20479 data points for 2024-07\n"
     ]
    },
    {
     "name": "stderr",
     "output_type": "stream",
     "text": [
      "2025-02-17 12:17:56,217 - INFO - Retrieved 20479 data points for 2024-07\n"
     ]
    },
    {
     "name": "stdout",
     "output_type": "stream",
     "text": [
      "2025-02-17 12:17:56,218 - __main__ - INFO - Fetching data for META - 2024-06\n"
     ]
    },
    {
     "name": "stderr",
     "output_type": "stream",
     "text": [
      "2025-02-17 12:17:56,218 - INFO - Fetching data for META - 2024-06\n"
     ]
    },
    {
     "name": "stdout",
     "output_type": "stream",
     "text": [
      "2025-02-17 12:17:59,388 - __main__ - INFO - Retrieved 17575 data points for 2024-06\n"
     ]
    },
    {
     "name": "stderr",
     "output_type": "stream",
     "text": [
      "2025-02-17 12:17:59,388 - INFO - Retrieved 17575 data points for 2024-06\n"
     ]
    },
    {
     "name": "stdout",
     "output_type": "stream",
     "text": [
      "2025-02-17 12:17:59,389 - __main__ - INFO - Fetching data for META - 2024-05\n"
     ]
    },
    {
     "name": "stderr",
     "output_type": "stream",
     "text": [
      "2025-02-17 12:17:59,389 - INFO - Fetching data for META - 2024-05\n"
     ]
    },
    {
     "name": "stdout",
     "output_type": "stream",
     "text": [
      "2025-02-17 12:18:03,666 - __main__ - INFO - Retrieved 20361 data points for 2024-05\n"
     ]
    },
    {
     "name": "stderr",
     "output_type": "stream",
     "text": [
      "2025-02-17 12:18:03,666 - INFO - Retrieved 20361 data points for 2024-05\n"
     ]
    },
    {
     "name": "stdout",
     "output_type": "stream",
     "text": [
      "2025-02-17 12:18:03,667 - __main__ - INFO - Fetching data for META - 2024-04\n"
     ]
    },
    {
     "name": "stderr",
     "output_type": "stream",
     "text": [
      "2025-02-17 12:18:03,667 - INFO - Fetching data for META - 2024-04\n"
     ]
    },
    {
     "name": "stdout",
     "output_type": "stream",
     "text": [
      "2025-02-17 12:18:06,994 - __main__ - INFO - Retrieved 20518 data points for 2024-04\n"
     ]
    },
    {
     "name": "stderr",
     "output_type": "stream",
     "text": [
      "2025-02-17 12:18:06,994 - INFO - Retrieved 20518 data points for 2024-04\n"
     ]
    },
    {
     "name": "stdout",
     "output_type": "stream",
     "text": [
      "2025-02-17 12:18:06,995 - __main__ - INFO - Fetching data for META - 2024-03\n"
     ]
    },
    {
     "name": "stderr",
     "output_type": "stream",
     "text": [
      "2025-02-17 12:18:06,995 - INFO - Fetching data for META - 2024-03\n"
     ]
    },
    {
     "name": "stdout",
     "output_type": "stream",
     "text": [
      "2025-02-17 12:18:10,364 - __main__ - INFO - Retrieved 18474 data points for 2024-03\n"
     ]
    },
    {
     "name": "stderr",
     "output_type": "stream",
     "text": [
      "2025-02-17 12:18:10,364 - INFO - Retrieved 18474 data points for 2024-03\n"
     ]
    },
    {
     "name": "stdout",
     "output_type": "stream",
     "text": [
      "2025-02-17 12:18:10,365 - __main__ - INFO - Writing data to /Users/benpfeffer/Desktop/CODE/volatility-strategy/db/cache/market_data/META_1min.csv\n"
     ]
    },
    {
     "name": "stderr",
     "output_type": "stream",
     "text": [
      "2025-02-17 12:18:10,365 - INFO - Writing data to /Users/benpfeffer/Desktop/CODE/volatility-strategy/db/cache/market_data/META_1min.csv\n"
     ]
    },
    {
     "name": "stdout",
     "output_type": "stream",
     "text": [
      "2025-02-17 12:18:10,370 - __main__ - INFO - Data fetch completed successfully\n"
     ]
    },
    {
     "name": "stderr",
     "output_type": "stream",
     "text": [
      "2025-02-17 12:18:10,370 - INFO - Data fetch completed successfully\n"
     ]
    },
    {
     "name": "stdout",
     "output_type": "stream",
     "text": [
      "2025-02-17 12:18:10,373 - __main__ - INFO - Starting data fetch for GE with 1min interval\n"
     ]
    },
    {
     "name": "stderr",
     "output_type": "stream",
     "text": [
      "2025-02-17 12:18:10,373 - INFO - Starting data fetch for GE with 1min interval\n"
     ]
    },
    {
     "name": "stdout",
     "output_type": "stream",
     "text": [
      "2025-02-17 12:18:10,373 - __main__ - INFO - Using 1min interval - fetching data month by month for past year\n"
     ]
    },
    {
     "name": "stderr",
     "output_type": "stream",
     "text": [
      "2025-02-17 12:18:10,373 - INFO - Using 1min interval - fetching data month by month for past year\n"
     ]
    },
    {
     "name": "stdout",
     "output_type": "stream",
     "text": [
      "2025-02-17 12:18:10,374 - __main__ - INFO - Will fetch data for months: ['2025-02', '2025-01', '2024-12', '2024-11', '2024-10', '2024-09', '2024-08', '2024-07', '2024-06', '2024-05', '2024-04', '2024-03']\n"
     ]
    },
    {
     "name": "stderr",
     "output_type": "stream",
     "text": [
      "2025-02-17 12:18:10,374 - INFO - Will fetch data for months: ['2025-02', '2025-01', '2024-12', '2024-11', '2024-10', '2024-09', '2024-08', '2024-07', '2024-06', '2024-05', '2024-04', '2024-03']\n"
     ]
    },
    {
     "name": "stdout",
     "output_type": "stream",
     "text": [
      "2025-02-17 12:18:10,375 - __main__ - INFO - Fetching data for GE - 2025-02\n"
     ]
    },
    {
     "name": "stderr",
     "output_type": "stream",
     "text": [
      "2025-02-17 12:18:10,375 - INFO - Fetching data for GE - 2025-02\n"
     ]
    },
    {
     "name": "stdout",
     "output_type": "stream",
     "text": [
      "2025-02-17 12:18:12,698 - __main__ - INFO - Retrieved 5769 data points for 2025-02\n"
     ]
    },
    {
     "name": "stderr",
     "output_type": "stream",
     "text": [
      "2025-02-17 12:18:12,698 - INFO - Retrieved 5769 data points for 2025-02\n"
     ]
    },
    {
     "name": "stdout",
     "output_type": "stream",
     "text": [
      "2025-02-17 12:18:12,699 - __main__ - INFO - Fetching data for GE - 2025-01\n"
     ]
    },
    {
     "name": "stderr",
     "output_type": "stream",
     "text": [
      "2025-02-17 12:18:12,699 - INFO - Fetching data for GE - 2025-01\n"
     ]
    },
    {
     "name": "stdout",
     "output_type": "stream",
     "text": [
      "2025-02-17 12:18:14,884 - __main__ - INFO - Retrieved 12232 data points for 2025-01\n"
     ]
    },
    {
     "name": "stderr",
     "output_type": "stream",
     "text": [
      "2025-02-17 12:18:14,884 - INFO - Retrieved 12232 data points for 2025-01\n"
     ]
    },
    {
     "name": "stdout",
     "output_type": "stream",
     "text": [
      "2025-02-17 12:18:14,886 - __main__ - INFO - Fetching data for GE - 2024-12\n"
     ]
    },
    {
     "name": "stderr",
     "output_type": "stream",
     "text": [
      "2025-02-17 12:18:14,886 - INFO - Fetching data for GE - 2024-12\n"
     ]
    },
    {
     "name": "stdout",
     "output_type": "stream",
     "text": [
      "2025-02-17 12:18:17,290 - __main__ - INFO - Retrieved 12356 data points for 2024-12\n"
     ]
    },
    {
     "name": "stderr",
     "output_type": "stream",
     "text": [
      "2025-02-17 12:18:17,290 - INFO - Retrieved 12356 data points for 2024-12\n"
     ]
    },
    {
     "name": "stdout",
     "output_type": "stream",
     "text": [
      "2025-02-17 12:18:17,291 - __main__ - INFO - Fetching data for GE - 2024-11\n"
     ]
    },
    {
     "name": "stderr",
     "output_type": "stream",
     "text": [
      "2025-02-17 12:18:17,291 - INFO - Fetching data for GE - 2024-11\n"
     ]
    },
    {
     "name": "stdout",
     "output_type": "stream",
     "text": [
      "2025-02-17 12:18:19,743 - __main__ - INFO - Retrieved 11857 data points for 2024-11\n"
     ]
    },
    {
     "name": "stderr",
     "output_type": "stream",
     "text": [
      "2025-02-17 12:18:19,743 - INFO - Retrieved 11857 data points for 2024-11\n"
     ]
    },
    {
     "name": "stdout",
     "output_type": "stream",
     "text": [
      "2025-02-17 12:18:19,744 - __main__ - INFO - Fetching data for GE - 2024-10\n"
     ]
    },
    {
     "name": "stderr",
     "output_type": "stream",
     "text": [
      "2025-02-17 12:18:19,744 - INFO - Fetching data for GE - 2024-10\n"
     ]
    },
    {
     "name": "stdout",
     "output_type": "stream",
     "text": [
      "2025-02-17 12:18:22,390 - __main__ - INFO - Retrieved 14042 data points for 2024-10\n"
     ]
    },
    {
     "name": "stderr",
     "output_type": "stream",
     "text": [
      "2025-02-17 12:18:22,390 - INFO - Retrieved 14042 data points for 2024-10\n"
     ]
    },
    {
     "name": "stdout",
     "output_type": "stream",
     "text": [
      "2025-02-17 12:18:22,391 - __main__ - INFO - Fetching data for GE - 2024-09\n"
     ]
    },
    {
     "name": "stderr",
     "output_type": "stream",
     "text": [
      "2025-02-17 12:18:22,391 - INFO - Fetching data for GE - 2024-09\n"
     ]
    },
    {
     "name": "stdout",
     "output_type": "stream",
     "text": [
      "2025-02-17 12:18:24,751 - __main__ - INFO - Retrieved 11608 data points for 2024-09\n"
     ]
    },
    {
     "name": "stderr",
     "output_type": "stream",
     "text": [
      "2025-02-17 12:18:24,751 - INFO - Retrieved 11608 data points for 2024-09\n"
     ]
    },
    {
     "name": "stdout",
     "output_type": "stream",
     "text": [
      "2025-02-17 12:18:24,752 - __main__ - INFO - Fetching data for GE - 2024-08\n"
     ]
    },
    {
     "name": "stderr",
     "output_type": "stream",
     "text": [
      "2025-02-17 12:18:24,752 - INFO - Fetching data for GE - 2024-08\n"
     ]
    },
    {
     "name": "stdout",
     "output_type": "stream",
     "text": [
      "2025-02-17 12:18:27,179 - __main__ - INFO - Retrieved 12257 data points for 2024-08\n"
     ]
    },
    {
     "name": "stderr",
     "output_type": "stream",
     "text": [
      "2025-02-17 12:18:27,179 - INFO - Retrieved 12257 data points for 2024-08\n"
     ]
    },
    {
     "name": "stdout",
     "output_type": "stream",
     "text": [
      "2025-02-17 12:18:27,180 - __main__ - INFO - Fetching data for GE - 2024-07\n"
     ]
    },
    {
     "name": "stderr",
     "output_type": "stream",
     "text": [
      "2025-02-17 12:18:27,180 - INFO - Fetching data for GE - 2024-07\n"
     ]
    },
    {
     "name": "stdout",
     "output_type": "stream",
     "text": [
      "2025-02-17 12:18:29,696 - __main__ - INFO - Retrieved 13000 data points for 2024-07\n"
     ]
    },
    {
     "name": "stderr",
     "output_type": "stream",
     "text": [
      "2025-02-17 12:18:29,696 - INFO - Retrieved 13000 data points for 2024-07\n"
     ]
    },
    {
     "name": "stdout",
     "output_type": "stream",
     "text": [
      "2025-02-17 12:18:29,697 - __main__ - INFO - Fetching data for GE - 2024-06\n"
     ]
    },
    {
     "name": "stderr",
     "output_type": "stream",
     "text": [
      "2025-02-17 12:18:29,697 - INFO - Fetching data for GE - 2024-06\n"
     ]
    },
    {
     "name": "stdout",
     "output_type": "stream",
     "text": [
      "2025-02-17 12:18:31,954 - __main__ - INFO - Retrieved 10994 data points for 2024-06\n"
     ]
    },
    {
     "name": "stderr",
     "output_type": "stream",
     "text": [
      "2025-02-17 12:18:31,954 - INFO - Retrieved 10994 data points for 2024-06\n"
     ]
    },
    {
     "name": "stdout",
     "output_type": "stream",
     "text": [
      "2025-02-17 12:18:31,955 - __main__ - INFO - Fetching data for GE - 2024-05\n"
     ]
    },
    {
     "name": "stderr",
     "output_type": "stream",
     "text": [
      "2025-02-17 12:18:31,955 - INFO - Fetching data for GE - 2024-05\n"
     ]
    },
    {
     "name": "stdout",
     "output_type": "stream",
     "text": [
      "2025-02-17 12:18:33,148 - __main__ - INFO - Retrieved 13511 data points for 2024-05\n"
     ]
    },
    {
     "name": "stderr",
     "output_type": "stream",
     "text": [
      "2025-02-17 12:18:33,148 - INFO - Retrieved 13511 data points for 2024-05\n"
     ]
    },
    {
     "name": "stdout",
     "output_type": "stream",
     "text": [
      "2025-02-17 12:18:33,149 - __main__ - INFO - Fetching data for GE - 2024-04\n"
     ]
    },
    {
     "name": "stderr",
     "output_type": "stream",
     "text": [
      "2025-02-17 12:18:33,149 - INFO - Fetching data for GE - 2024-04\n"
     ]
    },
    {
     "name": "stdout",
     "output_type": "stream",
     "text": [
      "2025-02-17 12:18:35,872 - __main__ - INFO - Retrieved 15307 data points for 2024-04\n"
     ]
    },
    {
     "name": "stderr",
     "output_type": "stream",
     "text": [
      "2025-02-17 12:18:35,872 - INFO - Retrieved 15307 data points for 2024-04\n"
     ]
    },
    {
     "name": "stdout",
     "output_type": "stream",
     "text": [
      "2025-02-17 12:18:35,873 - __main__ - INFO - Fetching data for GE - 2024-03\n"
     ]
    },
    {
     "name": "stderr",
     "output_type": "stream",
     "text": [
      "2025-02-17 12:18:35,873 - INFO - Fetching data for GE - 2024-03\n"
     ]
    },
    {
     "name": "stdout",
     "output_type": "stream",
     "text": [
      "2025-02-17 12:18:38,502 - __main__ - INFO - Retrieved 13324 data points for 2024-03\n"
     ]
    },
    {
     "name": "stderr",
     "output_type": "stream",
     "text": [
      "2025-02-17 12:18:38,502 - INFO - Retrieved 13324 data points for 2024-03\n"
     ]
    },
    {
     "name": "stdout",
     "output_type": "stream",
     "text": [
      "2025-02-17 12:18:38,505 - __main__ - INFO - Writing data to /Users/benpfeffer/Desktop/CODE/volatility-strategy/db/cache/market_data/GE_1min.csv\n"
     ]
    },
    {
     "name": "stderr",
     "output_type": "stream",
     "text": [
      "2025-02-17 12:18:38,505 - INFO - Writing data to /Users/benpfeffer/Desktop/CODE/volatility-strategy/db/cache/market_data/GE_1min.csv\n"
     ]
    },
    {
     "name": "stdout",
     "output_type": "stream",
     "text": [
      "2025-02-17 12:18:38,512 - __main__ - INFO - Data fetch completed successfully\n"
     ]
    },
    {
     "name": "stderr",
     "output_type": "stream",
     "text": [
      "2025-02-17 12:18:38,512 - INFO - Data fetch completed successfully\n"
     ]
    },
    {
     "name": "stdout",
     "output_type": "stream",
     "text": [
      "2025-02-17 12:18:38,515 - __main__ - INFO - Starting data fetch for GSK with 1min interval\n"
     ]
    },
    {
     "name": "stderr",
     "output_type": "stream",
     "text": [
      "2025-02-17 12:18:38,515 - INFO - Starting data fetch for GSK with 1min interval\n"
     ]
    },
    {
     "name": "stdout",
     "output_type": "stream",
     "text": [
      "2025-02-17 12:18:38,517 - __main__ - INFO - Using 1min interval - fetching data month by month for past year\n"
     ]
    },
    {
     "name": "stderr",
     "output_type": "stream",
     "text": [
      "2025-02-17 12:18:38,517 - INFO - Using 1min interval - fetching data month by month for past year\n"
     ]
    },
    {
     "name": "stdout",
     "output_type": "stream",
     "text": [
      "2025-02-17 12:18:38,519 - __main__ - INFO - Will fetch data for months: ['2025-02', '2025-01', '2024-12', '2024-11', '2024-10', '2024-09', '2024-08', '2024-07', '2024-06', '2024-05', '2024-04', '2024-03']\n"
     ]
    },
    {
     "name": "stderr",
     "output_type": "stream",
     "text": [
      "2025-02-17 12:18:38,519 - INFO - Will fetch data for months: ['2025-02', '2025-01', '2024-12', '2024-11', '2024-10', '2024-09', '2024-08', '2024-07', '2024-06', '2024-05', '2024-04', '2024-03']\n"
     ]
    },
    {
     "name": "stdout",
     "output_type": "stream",
     "text": [
      "2025-02-17 12:18:38,520 - __main__ - INFO - Fetching data for GSK - 2025-02\n"
     ]
    },
    {
     "name": "stderr",
     "output_type": "stream",
     "text": [
      "2025-02-17 12:18:38,520 - INFO - Fetching data for GSK - 2025-02\n"
     ]
    },
    {
     "name": "stdout",
     "output_type": "stream",
     "text": [
      "2025-02-17 12:18:39,297 - __main__ - INFO - Retrieved 5056 data points for 2025-02\n"
     ]
    },
    {
     "name": "stderr",
     "output_type": "stream",
     "text": [
      "2025-02-17 12:18:39,297 - INFO - Retrieved 5056 data points for 2025-02\n"
     ]
    },
    {
     "name": "stdout",
     "output_type": "stream",
     "text": [
      "2025-02-17 12:18:39,298 - __main__ - INFO - Fetching data for GSK - 2025-01\n"
     ]
    },
    {
     "name": "stderr",
     "output_type": "stream",
     "text": [
      "2025-02-17 12:18:39,298 - INFO - Fetching data for GSK - 2025-01\n"
     ]
    },
    {
     "name": "stdout",
     "output_type": "stream",
     "text": [
      "2025-02-17 12:18:40,220 - __main__ - INFO - Retrieved 9906 data points for 2025-01\n"
     ]
    },
    {
     "name": "stderr",
     "output_type": "stream",
     "text": [
      "2025-02-17 12:18:40,220 - INFO - Retrieved 9906 data points for 2025-01\n"
     ]
    },
    {
     "name": "stdout",
     "output_type": "stream",
     "text": [
      "2025-02-17 12:18:40,221 - __main__ - INFO - Fetching data for GSK - 2024-12\n"
     ]
    },
    {
     "name": "stderr",
     "output_type": "stream",
     "text": [
      "2025-02-17 12:18:40,221 - INFO - Fetching data for GSK - 2024-12\n"
     ]
    },
    {
     "name": "stdout",
     "output_type": "stream",
     "text": [
      "2025-02-17 12:18:41,243 - __main__ - INFO - Retrieved 10058 data points for 2024-12\n"
     ]
    },
    {
     "name": "stderr",
     "output_type": "stream",
     "text": [
      "2025-02-17 12:18:41,243 - INFO - Retrieved 10058 data points for 2024-12\n"
     ]
    },
    {
     "name": "stdout",
     "output_type": "stream",
     "text": [
      "2025-02-17 12:18:41,244 - __main__ - INFO - Fetching data for GSK - 2024-11\n"
     ]
    },
    {
     "name": "stderr",
     "output_type": "stream",
     "text": [
      "2025-02-17 12:18:41,244 - INFO - Fetching data for GSK - 2024-11\n"
     ]
    },
    {
     "name": "stdout",
     "output_type": "stream",
     "text": [
      "2025-02-17 12:18:43,442 - __main__ - INFO - Retrieved 10485 data points for 2024-11\n"
     ]
    },
    {
     "name": "stderr",
     "output_type": "stream",
     "text": [
      "2025-02-17 12:18:43,442 - INFO - Retrieved 10485 data points for 2024-11\n"
     ]
    },
    {
     "name": "stdout",
     "output_type": "stream",
     "text": [
      "2025-02-17 12:18:43,444 - __main__ - INFO - Fetching data for GSK - 2024-10\n"
     ]
    },
    {
     "name": "stderr",
     "output_type": "stream",
     "text": [
      "2025-02-17 12:18:43,444 - INFO - Fetching data for GSK - 2024-10\n"
     ]
    },
    {
     "name": "stdout",
     "output_type": "stream",
     "text": [
      "2025-02-17 12:18:45,798 - __main__ - INFO - Retrieved 11763 data points for 2024-10\n"
     ]
    },
    {
     "name": "stderr",
     "output_type": "stream",
     "text": [
      "2025-02-17 12:18:45,798 - INFO - Retrieved 11763 data points for 2024-10\n"
     ]
    },
    {
     "name": "stdout",
     "output_type": "stream",
     "text": [
      "2025-02-17 12:18:45,801 - __main__ - INFO - Fetching data for GSK - 2024-09\n"
     ]
    },
    {
     "name": "stderr",
     "output_type": "stream",
     "text": [
      "2025-02-17 12:18:45,801 - INFO - Fetching data for GSK - 2024-09\n"
     ]
    },
    {
     "name": "stdout",
     "output_type": "stream",
     "text": [
      "2025-02-17 12:18:47,702 - __main__ - INFO - Retrieved 9275 data points for 2024-09\n"
     ]
    },
    {
     "name": "stderr",
     "output_type": "stream",
     "text": [
      "2025-02-17 12:18:47,702 - INFO - Retrieved 9275 data points for 2024-09\n"
     ]
    },
    {
     "name": "stdout",
     "output_type": "stream",
     "text": [
      "2025-02-17 12:18:47,703 - __main__ - INFO - Fetching data for GSK - 2024-08\n"
     ]
    },
    {
     "name": "stderr",
     "output_type": "stream",
     "text": [
      "2025-02-17 12:18:47,703 - INFO - Fetching data for GSK - 2024-08\n"
     ]
    },
    {
     "name": "stdout",
     "output_type": "stream",
     "text": [
      "2025-02-17 12:18:49,941 - __main__ - INFO - Retrieved 10134 data points for 2024-08\n"
     ]
    },
    {
     "name": "stderr",
     "output_type": "stream",
     "text": [
      "2025-02-17 12:18:49,941 - INFO - Retrieved 10134 data points for 2024-08\n"
     ]
    },
    {
     "name": "stdout",
     "output_type": "stream",
     "text": [
      "2025-02-17 12:18:49,942 - __main__ - INFO - Fetching data for GSK - 2024-07\n"
     ]
    },
    {
     "name": "stderr",
     "output_type": "stream",
     "text": [
      "2025-02-17 12:18:49,942 - INFO - Fetching data for GSK - 2024-07\n"
     ]
    },
    {
     "name": "stdout",
     "output_type": "stream",
     "text": [
      "2025-02-17 12:18:52,044 - __main__ - INFO - Retrieved 9864 data points for 2024-07\n"
     ]
    },
    {
     "name": "stderr",
     "output_type": "stream",
     "text": [
      "2025-02-17 12:18:52,044 - INFO - Retrieved 9864 data points for 2024-07\n"
     ]
    },
    {
     "name": "stdout",
     "output_type": "stream",
     "text": [
      "2025-02-17 12:18:52,045 - __main__ - INFO - Fetching data for GSK - 2024-06\n"
     ]
    },
    {
     "name": "stderr",
     "output_type": "stream",
     "text": [
      "2025-02-17 12:18:52,045 - INFO - Fetching data for GSK - 2024-06\n"
     ]
    },
    {
     "name": "stdout",
     "output_type": "stream",
     "text": [
      "2025-02-17 12:18:54,151 - __main__ - INFO - Retrieved 9198 data points for 2024-06\n"
     ]
    },
    {
     "name": "stderr",
     "output_type": "stream",
     "text": [
      "2025-02-17 12:18:54,151 - INFO - Retrieved 9198 data points for 2024-06\n"
     ]
    },
    {
     "name": "stdout",
     "output_type": "stream",
     "text": [
      "2025-02-17 12:18:54,152 - __main__ - INFO - Fetching data for GSK - 2024-05\n"
     ]
    },
    {
     "name": "stderr",
     "output_type": "stream",
     "text": [
      "2025-02-17 12:18:54,152 - INFO - Fetching data for GSK - 2024-05\n"
     ]
    },
    {
     "name": "stdout",
     "output_type": "stream",
     "text": [
      "2025-02-17 12:18:55,632 - __main__ - INFO - Retrieved 10181 data points for 2024-05\n"
     ]
    },
    {
     "name": "stderr",
     "output_type": "stream",
     "text": [
      "2025-02-17 12:18:55,632 - INFO - Retrieved 10181 data points for 2024-05\n"
     ]
    },
    {
     "name": "stdout",
     "output_type": "stream",
     "text": [
      "2025-02-17 12:18:55,633 - __main__ - INFO - Fetching data for GSK - 2024-04\n"
     ]
    },
    {
     "name": "stderr",
     "output_type": "stream",
     "text": [
      "2025-02-17 12:18:55,633 - INFO - Fetching data for GSK - 2024-04\n"
     ]
    },
    {
     "name": "stdout",
     "output_type": "stream",
     "text": [
      "2025-02-17 12:18:57,604 - __main__ - INFO - Retrieved 9710 data points for 2024-04\n"
     ]
    },
    {
     "name": "stderr",
     "output_type": "stream",
     "text": [
      "2025-02-17 12:18:57,604 - INFO - Retrieved 9710 data points for 2024-04\n"
     ]
    },
    {
     "name": "stdout",
     "output_type": "stream",
     "text": [
      "2025-02-17 12:18:57,605 - __main__ - INFO - Fetching data for GSK - 2024-03\n"
     ]
    },
    {
     "name": "stderr",
     "output_type": "stream",
     "text": [
      "2025-02-17 12:18:57,605 - INFO - Fetching data for GSK - 2024-03\n"
     ]
    },
    {
     "name": "stdout",
     "output_type": "stream",
     "text": [
      "2025-02-17 12:18:59,547 - __main__ - INFO - Retrieved 8844 data points for 2024-03\n"
     ]
    },
    {
     "name": "stderr",
     "output_type": "stream",
     "text": [
      "2025-02-17 12:18:59,547 - INFO - Retrieved 8844 data points for 2024-03\n"
     ]
    },
    {
     "name": "stdout",
     "output_type": "stream",
     "text": [
      "2025-02-17 12:18:59,548 - __main__ - INFO - Writing data to /Users/benpfeffer/Desktop/CODE/volatility-strategy/db/cache/market_data/GSK_1min.csv\n"
     ]
    },
    {
     "name": "stderr",
     "output_type": "stream",
     "text": [
      "2025-02-17 12:18:59,548 - INFO - Writing data to /Users/benpfeffer/Desktop/CODE/volatility-strategy/db/cache/market_data/GSK_1min.csv\n"
     ]
    },
    {
     "name": "stdout",
     "output_type": "stream",
     "text": [
      "2025-02-17 12:18:59,553 - __main__ - INFO - Data fetch completed successfully\n"
     ]
    },
    {
     "name": "stderr",
     "output_type": "stream",
     "text": [
      "2025-02-17 12:18:59,553 - INFO - Data fetch completed successfully\n"
     ]
    },
    {
     "name": "stdout",
     "output_type": "stream",
     "text": [
      "2025-02-17 12:18:59,554 - __main__ - INFO - Starting data fetch for HSBC with 1min interval\n"
     ]
    },
    {
     "name": "stderr",
     "output_type": "stream",
     "text": [
      "2025-02-17 12:18:59,554 - INFO - Starting data fetch for HSBC with 1min interval\n"
     ]
    },
    {
     "name": "stdout",
     "output_type": "stream",
     "text": [
      "2025-02-17 12:18:59,555 - __main__ - INFO - Using 1min interval - fetching data month by month for past year\n"
     ]
    },
    {
     "name": "stderr",
     "output_type": "stream",
     "text": [
      "2025-02-17 12:18:59,555 - INFO - Using 1min interval - fetching data month by month for past year\n"
     ]
    },
    {
     "name": "stdout",
     "output_type": "stream",
     "text": [
      "2025-02-17 12:18:59,556 - __main__ - INFO - Will fetch data for months: ['2025-02', '2025-01', '2024-12', '2024-11', '2024-10', '2024-09', '2024-08', '2024-07', '2024-06', '2024-05', '2024-04', '2024-03']\n"
     ]
    },
    {
     "name": "stderr",
     "output_type": "stream",
     "text": [
      "2025-02-17 12:18:59,556 - INFO - Will fetch data for months: ['2025-02', '2025-01', '2024-12', '2024-11', '2024-10', '2024-09', '2024-08', '2024-07', '2024-06', '2024-05', '2024-04', '2024-03']\n"
     ]
    },
    {
     "name": "stdout",
     "output_type": "stream",
     "text": [
      "2025-02-17 12:18:59,556 - __main__ - INFO - Fetching data for HSBC - 2025-02\n"
     ]
    },
    {
     "name": "stderr",
     "output_type": "stream",
     "text": [
      "2025-02-17 12:18:59,556 - INFO - Fetching data for HSBC - 2025-02\n"
     ]
    },
    {
     "name": "stdout",
     "output_type": "stream",
     "text": [
      "2025-02-17 12:19:00,322 - __main__ - INFO - Retrieved 4791 data points for 2025-02\n"
     ]
    },
    {
     "name": "stderr",
     "output_type": "stream",
     "text": [
      "2025-02-17 12:19:00,322 - INFO - Retrieved 4791 data points for 2025-02\n"
     ]
    },
    {
     "name": "stdout",
     "output_type": "stream",
     "text": [
      "2025-02-17 12:19:00,323 - __main__ - INFO - Fetching data for HSBC - 2025-01\n"
     ]
    },
    {
     "name": "stderr",
     "output_type": "stream",
     "text": [
      "2025-02-17 12:19:00,323 - INFO - Fetching data for HSBC - 2025-01\n"
     ]
    },
    {
     "name": "stdout",
     "output_type": "stream",
     "text": [
      "2025-02-17 12:19:01,571 - __main__ - INFO - Retrieved 9587 data points for 2025-01\n"
     ]
    },
    {
     "name": "stderr",
     "output_type": "stream",
     "text": [
      "2025-02-17 12:19:01,571 - INFO - Retrieved 9587 data points for 2025-01\n"
     ]
    },
    {
     "name": "stdout",
     "output_type": "stream",
     "text": [
      "2025-02-17 12:19:01,572 - __main__ - INFO - Fetching data for HSBC - 2024-12\n"
     ]
    },
    {
     "name": "stderr",
     "output_type": "stream",
     "text": [
      "2025-02-17 12:19:01,572 - INFO - Fetching data for HSBC - 2024-12\n"
     ]
    },
    {
     "name": "stdout",
     "output_type": "stream",
     "text": [
      "2025-02-17 12:19:02,978 - __main__ - INFO - Retrieved 8614 data points for 2024-12\n"
     ]
    },
    {
     "name": "stderr",
     "output_type": "stream",
     "text": [
      "2025-02-17 12:19:02,978 - INFO - Retrieved 8614 data points for 2024-12\n"
     ]
    },
    {
     "name": "stdout",
     "output_type": "stream",
     "text": [
      "2025-02-17 12:19:02,979 - __main__ - INFO - Fetching data for HSBC - 2024-11\n"
     ]
    },
    {
     "name": "stderr",
     "output_type": "stream",
     "text": [
      "2025-02-17 12:19:02,979 - INFO - Fetching data for HSBC - 2024-11\n"
     ]
    },
    {
     "name": "stdout",
     "output_type": "stream",
     "text": [
      "2025-02-17 12:19:05,846 - __main__ - INFO - Retrieved 8522 data points for 2024-11\n"
     ]
    },
    {
     "name": "stderr",
     "output_type": "stream",
     "text": [
      "2025-02-17 12:19:05,846 - INFO - Retrieved 8522 data points for 2024-11\n"
     ]
    },
    {
     "name": "stdout",
     "output_type": "stream",
     "text": [
      "2025-02-17 12:19:05,847 - __main__ - INFO - Fetching data for HSBC - 2024-10\n"
     ]
    },
    {
     "name": "stderr",
     "output_type": "stream",
     "text": [
      "2025-02-17 12:19:05,847 - INFO - Fetching data for HSBC - 2024-10\n"
     ]
    },
    {
     "name": "stdout",
     "output_type": "stream",
     "text": [
      "2025-02-17 12:19:08,174 - __main__ - INFO - Retrieved 9824 data points for 2024-10\n"
     ]
    },
    {
     "name": "stderr",
     "output_type": "stream",
     "text": [
      "2025-02-17 12:19:08,174 - INFO - Retrieved 9824 data points for 2024-10\n"
     ]
    },
    {
     "name": "stdout",
     "output_type": "stream",
     "text": [
      "2025-02-17 12:19:08,175 - __main__ - INFO - Fetching data for HSBC - 2024-09\n"
     ]
    },
    {
     "name": "stderr",
     "output_type": "stream",
     "text": [
      "2025-02-17 12:19:08,175 - INFO - Fetching data for HSBC - 2024-09\n"
     ]
    },
    {
     "name": "stdout",
     "output_type": "stream",
     "text": [
      "2025-02-17 12:19:10,272 - __main__ - INFO - Retrieved 8937 data points for 2024-09\n"
     ]
    },
    {
     "name": "stderr",
     "output_type": "stream",
     "text": [
      "2025-02-17 12:19:10,272 - INFO - Retrieved 8937 data points for 2024-09\n"
     ]
    },
    {
     "name": "stdout",
     "output_type": "stream",
     "text": [
      "2025-02-17 12:19:10,273 - __main__ - INFO - Fetching data for HSBC - 2024-08\n"
     ]
    },
    {
     "name": "stderr",
     "output_type": "stream",
     "text": [
      "2025-02-17 12:19:10,273 - INFO - Fetching data for HSBC - 2024-08\n"
     ]
    },
    {
     "name": "stdout",
     "output_type": "stream",
     "text": [
      "2025-02-17 12:19:12,422 - __main__ - INFO - Retrieved 10100 data points for 2024-08\n"
     ]
    },
    {
     "name": "stderr",
     "output_type": "stream",
     "text": [
      "2025-02-17 12:19:12,422 - INFO - Retrieved 10100 data points for 2024-08\n"
     ]
    },
    {
     "name": "stdout",
     "output_type": "stream",
     "text": [
      "2025-02-17 12:19:12,423 - __main__ - INFO - Fetching data for HSBC - 2024-07\n"
     ]
    },
    {
     "name": "stderr",
     "output_type": "stream",
     "text": [
      "2025-02-17 12:19:12,423 - INFO - Fetching data for HSBC - 2024-07\n"
     ]
    },
    {
     "name": "stdout",
     "output_type": "stream",
     "text": [
      "2025-02-17 12:19:14,540 - __main__ - INFO - Retrieved 9668 data points for 2024-07\n"
     ]
    },
    {
     "name": "stderr",
     "output_type": "stream",
     "text": [
      "2025-02-17 12:19:14,540 - INFO - Retrieved 9668 data points for 2024-07\n"
     ]
    },
    {
     "name": "stdout",
     "output_type": "stream",
     "text": [
      "2025-02-17 12:19:14,541 - __main__ - INFO - Fetching data for HSBC - 2024-06\n"
     ]
    },
    {
     "name": "stderr",
     "output_type": "stream",
     "text": [
      "2025-02-17 12:19:14,541 - INFO - Fetching data for HSBC - 2024-06\n"
     ]
    },
    {
     "name": "stdout",
     "output_type": "stream",
     "text": [
      "2025-02-17 12:19:16,375 - __main__ - INFO - Retrieved 8170 data points for 2024-06\n"
     ]
    },
    {
     "name": "stderr",
     "output_type": "stream",
     "text": [
      "2025-02-17 12:19:16,375 - INFO - Retrieved 8170 data points for 2024-06\n"
     ]
    },
    {
     "name": "stdout",
     "output_type": "stream",
     "text": [
      "2025-02-17 12:19:16,376 - __main__ - INFO - Fetching data for HSBC - 2024-05\n"
     ]
    },
    {
     "name": "stderr",
     "output_type": "stream",
     "text": [
      "2025-02-17 12:19:16,376 - INFO - Fetching data for HSBC - 2024-05\n"
     ]
    },
    {
     "name": "stdout",
     "output_type": "stream",
     "text": [
      "2025-02-17 12:19:17,235 - __main__ - INFO - Retrieved 9670 data points for 2024-05\n"
     ]
    },
    {
     "name": "stderr",
     "output_type": "stream",
     "text": [
      "2025-02-17 12:19:17,235 - INFO - Retrieved 9670 data points for 2024-05\n"
     ]
    },
    {
     "name": "stdout",
     "output_type": "stream",
     "text": [
      "2025-02-17 12:19:17,236 - __main__ - INFO - Fetching data for HSBC - 2024-04\n"
     ]
    },
    {
     "name": "stderr",
     "output_type": "stream",
     "text": [
      "2025-02-17 12:19:17,236 - INFO - Fetching data for HSBC - 2024-04\n"
     ]
    },
    {
     "name": "stdout",
     "output_type": "stream",
     "text": [
      "2025-02-17 12:19:19,193 - __main__ - INFO - Retrieved 9884 data points for 2024-04\n"
     ]
    },
    {
     "name": "stderr",
     "output_type": "stream",
     "text": [
      "2025-02-17 12:19:19,193 - INFO - Retrieved 9884 data points for 2024-04\n"
     ]
    },
    {
     "name": "stdout",
     "output_type": "stream",
     "text": [
      "2025-02-17 12:19:19,194 - __main__ - INFO - Fetching data for HSBC - 2024-03\n"
     ]
    },
    {
     "name": "stderr",
     "output_type": "stream",
     "text": [
      "2025-02-17 12:19:19,194 - INFO - Fetching data for HSBC - 2024-03\n"
     ]
    },
    {
     "name": "stdout",
     "output_type": "stream",
     "text": [
      "2025-02-17 12:19:21,180 - __main__ - INFO - Retrieved 9191 data points for 2024-03\n"
     ]
    },
    {
     "name": "stderr",
     "output_type": "stream",
     "text": [
      "2025-02-17 12:19:21,180 - INFO - Retrieved 9191 data points for 2024-03\n"
     ]
    },
    {
     "name": "stdout",
     "output_type": "stream",
     "text": [
      "2025-02-17 12:19:21,181 - __main__ - INFO - Writing data to /Users/benpfeffer/Desktop/CODE/volatility-strategy/db/cache/market_data/HSBC_1min.csv\n"
     ]
    },
    {
     "name": "stderr",
     "output_type": "stream",
     "text": [
      "2025-02-17 12:19:21,181 - INFO - Writing data to /Users/benpfeffer/Desktop/CODE/volatility-strategy/db/cache/market_data/HSBC_1min.csv\n"
     ]
    },
    {
     "name": "stdout",
     "output_type": "stream",
     "text": [
      "2025-02-17 12:19:21,185 - __main__ - INFO - Data fetch completed successfully\n"
     ]
    },
    {
     "name": "stderr",
     "output_type": "stream",
     "text": [
      "2025-02-17 12:19:21,185 - INFO - Data fetch completed successfully\n"
     ]
    },
    {
     "name": "stdout",
     "output_type": "stream",
     "text": [
      "2025-02-17 12:19:21,186 - __main__ - INFO - Starting data fetch for INTC with 1min interval\n"
     ]
    },
    {
     "name": "stderr",
     "output_type": "stream",
     "text": [
      "2025-02-17 12:19:21,186 - INFO - Starting data fetch for INTC with 1min interval\n"
     ]
    },
    {
     "name": "stdout",
     "output_type": "stream",
     "text": [
      "2025-02-17 12:19:21,187 - __main__ - INFO - Using 1min interval - fetching data month by month for past year\n"
     ]
    },
    {
     "name": "stderr",
     "output_type": "stream",
     "text": [
      "2025-02-17 12:19:21,187 - INFO - Using 1min interval - fetching data month by month for past year\n"
     ]
    },
    {
     "name": "stdout",
     "output_type": "stream",
     "text": [
      "2025-02-17 12:19:21,188 - __main__ - INFO - Will fetch data for months: ['2025-02', '2025-01', '2024-12', '2024-11', '2024-10', '2024-09', '2024-08', '2024-07', '2024-06', '2024-05', '2024-04', '2024-03']\n"
     ]
    },
    {
     "name": "stderr",
     "output_type": "stream",
     "text": [
      "2025-02-17 12:19:21,188 - INFO - Will fetch data for months: ['2025-02', '2025-01', '2024-12', '2024-11', '2024-10', '2024-09', '2024-08', '2024-07', '2024-06', '2024-05', '2024-04', '2024-03']\n"
     ]
    },
    {
     "name": "stdout",
     "output_type": "stream",
     "text": [
      "2025-02-17 12:19:21,188 - __main__ - INFO - Fetching data for INTC - 2025-02\n"
     ]
    },
    {
     "name": "stderr",
     "output_type": "stream",
     "text": [
      "2025-02-17 12:19:21,188 - INFO - Fetching data for INTC - 2025-02\n"
     ]
    },
    {
     "name": "stdout",
     "output_type": "stream",
     "text": [
      "2025-02-17 12:19:22,072 - __main__ - INFO - Retrieved 9570 data points for 2025-02\n"
     ]
    },
    {
     "name": "stderr",
     "output_type": "stream",
     "text": [
      "2025-02-17 12:19:22,072 - INFO - Retrieved 9570 data points for 2025-02\n"
     ]
    },
    {
     "name": "stdout",
     "output_type": "stream",
     "text": [
      "2025-02-17 12:19:22,073 - __main__ - INFO - Fetching data for INTC - 2025-01\n"
     ]
    },
    {
     "name": "stderr",
     "output_type": "stream",
     "text": [
      "2025-02-17 12:19:22,073 - INFO - Fetching data for INTC - 2025-01\n"
     ]
    },
    {
     "name": "stdout",
     "output_type": "stream",
     "text": [
      "2025-02-17 12:19:25,447 - __main__ - INFO - Retrieved 19063 data points for 2025-01\n"
     ]
    },
    {
     "name": "stderr",
     "output_type": "stream",
     "text": [
      "2025-02-17 12:19:25,447 - INFO - Retrieved 19063 data points for 2025-01\n"
     ]
    },
    {
     "name": "stdout",
     "output_type": "stream",
     "text": [
      "2025-02-17 12:19:25,448 - __main__ - INFO - Fetching data for INTC - 2024-12\n"
     ]
    },
    {
     "name": "stderr",
     "output_type": "stream",
     "text": [
      "2025-02-17 12:19:25,448 - INFO - Fetching data for INTC - 2024-12\n"
     ]
    },
    {
     "name": "stdout",
     "output_type": "stream",
     "text": [
      "2025-02-17 12:19:28,493 - __main__ - INFO - Retrieved 19881 data points for 2024-12\n"
     ]
    },
    {
     "name": "stderr",
     "output_type": "stream",
     "text": [
      "2025-02-17 12:19:28,493 - INFO - Retrieved 19881 data points for 2024-12\n"
     ]
    },
    {
     "name": "stdout",
     "output_type": "stream",
     "text": [
      "2025-02-17 12:19:28,494 - __main__ - INFO - Fetching data for INTC - 2024-11\n"
     ]
    },
    {
     "name": "stderr",
     "output_type": "stream",
     "text": [
      "2025-02-17 12:19:28,494 - INFO - Fetching data for INTC - 2024-11\n"
     ]
    },
    {
     "name": "stdout",
     "output_type": "stream",
     "text": [
      "2025-02-17 12:19:31,776 - __main__ - INFO - Retrieved 18865 data points for 2024-11\n"
     ]
    },
    {
     "name": "stderr",
     "output_type": "stream",
     "text": [
      "2025-02-17 12:19:31,776 - INFO - Retrieved 18865 data points for 2024-11\n"
     ]
    },
    {
     "name": "stdout",
     "output_type": "stream",
     "text": [
      "2025-02-17 12:19:31,777 - __main__ - INFO - Fetching data for INTC - 2024-10\n"
     ]
    },
    {
     "name": "stderr",
     "output_type": "stream",
     "text": [
      "2025-02-17 12:19:31,777 - INFO - Fetching data for INTC - 2024-10\n"
     ]
    },
    {
     "name": "stdout",
     "output_type": "stream",
     "text": [
      "2025-02-17 12:19:35,257 - __main__ - INFO - Retrieved 21847 data points for 2024-10\n"
     ]
    },
    {
     "name": "stderr",
     "output_type": "stream",
     "text": [
      "2025-02-17 12:19:35,257 - INFO - Retrieved 21847 data points for 2024-10\n"
     ]
    },
    {
     "name": "stdout",
     "output_type": "stream",
     "text": [
      "2025-02-17 12:19:35,258 - __main__ - INFO - Fetching data for INTC - 2024-09\n"
     ]
    },
    {
     "name": "stderr",
     "output_type": "stream",
     "text": [
      "2025-02-17 12:19:35,258 - INFO - Fetching data for INTC - 2024-09\n"
     ]
    },
    {
     "name": "stdout",
     "output_type": "stream",
     "text": [
      "2025-02-17 12:19:38,322 - __main__ - INFO - Retrieved 19129 data points for 2024-09\n"
     ]
    },
    {
     "name": "stderr",
     "output_type": "stream",
     "text": [
      "2025-02-17 12:19:38,322 - INFO - Retrieved 19129 data points for 2024-09\n"
     ]
    },
    {
     "name": "stdout",
     "output_type": "stream",
     "text": [
      "2025-02-17 12:19:38,323 - __main__ - INFO - Fetching data for INTC - 2024-08\n"
     ]
    },
    {
     "name": "stderr",
     "output_type": "stream",
     "text": [
      "2025-02-17 12:19:38,323 - INFO - Fetching data for INTC - 2024-08\n"
     ]
    },
    {
     "name": "stdout",
     "output_type": "stream",
     "text": [
      "2025-02-17 12:19:41,827 - __main__ - INFO - Retrieved 21042 data points for 2024-08\n"
     ]
    },
    {
     "name": "stderr",
     "output_type": "stream",
     "text": [
      "2025-02-17 12:19:41,827 - INFO - Retrieved 21042 data points for 2024-08\n"
     ]
    },
    {
     "name": "stdout",
     "output_type": "stream",
     "text": [
      "2025-02-17 12:19:41,828 - __main__ - INFO - Fetching data for INTC - 2024-07\n"
     ]
    },
    {
     "name": "stderr",
     "output_type": "stream",
     "text": [
      "2025-02-17 12:19:41,828 - INFO - Fetching data for INTC - 2024-07\n"
     ]
    },
    {
     "name": "stdout",
     "output_type": "stream",
     "text": [
      "2025-02-17 12:19:45,142 - __main__ - INFO - Retrieved 20664 data points for 2024-07\n"
     ]
    },
    {
     "name": "stderr",
     "output_type": "stream",
     "text": [
      "2025-02-17 12:19:45,142 - INFO - Retrieved 20664 data points for 2024-07\n"
     ]
    },
    {
     "name": "stdout",
     "output_type": "stream",
     "text": [
      "2025-02-17 12:19:45,143 - __main__ - INFO - Fetching data for INTC - 2024-06\n"
     ]
    },
    {
     "name": "stderr",
     "output_type": "stream",
     "text": [
      "2025-02-17 12:19:45,143 - INFO - Fetching data for INTC - 2024-06\n"
     ]
    },
    {
     "name": "stdout",
     "output_type": "stream",
     "text": [
      "2025-02-17 12:19:48,164 - __main__ - INFO - Retrieved 17855 data points for 2024-06\n"
     ]
    },
    {
     "name": "stderr",
     "output_type": "stream",
     "text": [
      "2025-02-17 12:19:48,164 - INFO - Retrieved 17855 data points for 2024-06\n"
     ]
    },
    {
     "name": "stdout",
     "output_type": "stream",
     "text": [
      "2025-02-17 12:19:48,165 - __main__ - INFO - Fetching data for INTC - 2024-05\n"
     ]
    },
    {
     "name": "stderr",
     "output_type": "stream",
     "text": [
      "2025-02-17 12:19:48,165 - INFO - Fetching data for INTC - 2024-05\n"
     ]
    },
    {
     "name": "stdout",
     "output_type": "stream",
     "text": [
      "2025-02-17 12:19:51,485 - __main__ - INFO - Retrieved 20804 data points for 2024-05\n"
     ]
    },
    {
     "name": "stderr",
     "output_type": "stream",
     "text": [
      "2025-02-17 12:19:51,485 - INFO - Retrieved 20804 data points for 2024-05\n"
     ]
    },
    {
     "name": "stdout",
     "output_type": "stream",
     "text": [
      "2025-02-17 12:19:51,486 - __main__ - INFO - Fetching data for INTC - 2024-04\n"
     ]
    },
    {
     "name": "stderr",
     "output_type": "stream",
     "text": [
      "2025-02-17 12:19:51,486 - INFO - Fetching data for INTC - 2024-04\n"
     ]
    },
    {
     "name": "stdout",
     "output_type": "stream",
     "text": [
      "2025-02-17 12:19:54,940 - __main__ - INFO - Retrieved 20788 data points for 2024-04\n"
     ]
    },
    {
     "name": "stderr",
     "output_type": "stream",
     "text": [
      "2025-02-17 12:19:54,940 - INFO - Retrieved 20788 data points for 2024-04\n"
     ]
    },
    {
     "name": "stdout",
     "output_type": "stream",
     "text": [
      "2025-02-17 12:19:54,941 - __main__ - INFO - Fetching data for INTC - 2024-03\n"
     ]
    },
    {
     "name": "stderr",
     "output_type": "stream",
     "text": [
      "2025-02-17 12:19:54,941 - INFO - Fetching data for INTC - 2024-03\n"
     ]
    },
    {
     "name": "stdout",
     "output_type": "stream",
     "text": [
      "2025-02-17 12:19:58,242 - __main__ - INFO - Retrieved 18914 data points for 2024-03\n"
     ]
    },
    {
     "name": "stderr",
     "output_type": "stream",
     "text": [
      "2025-02-17 12:19:58,242 - INFO - Retrieved 18914 data points for 2024-03\n"
     ]
    },
    {
     "name": "stdout",
     "output_type": "stream",
     "text": [
      "2025-02-17 12:19:58,243 - __main__ - INFO - Writing data to /Users/benpfeffer/Desktop/CODE/volatility-strategy/db/cache/market_data/INTC_1min.csv\n"
     ]
    },
    {
     "name": "stderr",
     "output_type": "stream",
     "text": [
      "2025-02-17 12:19:58,243 - INFO - Writing data to /Users/benpfeffer/Desktop/CODE/volatility-strategy/db/cache/market_data/INTC_1min.csv\n"
     ]
    },
    {
     "name": "stdout",
     "output_type": "stream",
     "text": [
      "2025-02-17 12:19:58,250 - __main__ - INFO - Data fetch completed successfully\n"
     ]
    },
    {
     "name": "stderr",
     "output_type": "stream",
     "text": [
      "2025-02-17 12:19:58,250 - INFO - Data fetch completed successfully\n"
     ]
    },
    {
     "name": "stdout",
     "output_type": "stream",
     "text": [
      "2025-02-17 12:19:58,253 - __main__ - INFO - Starting data fetch for IBM with 1min interval\n"
     ]
    },
    {
     "name": "stderr",
     "output_type": "stream",
     "text": [
      "2025-02-17 12:19:58,253 - INFO - Starting data fetch for IBM with 1min interval\n"
     ]
    },
    {
     "name": "stdout",
     "output_type": "stream",
     "text": [
      "2025-02-17 12:19:58,254 - __main__ - INFO - Using 1min interval - fetching data month by month for past year\n"
     ]
    },
    {
     "name": "stderr",
     "output_type": "stream",
     "text": [
      "2025-02-17 12:19:58,254 - INFO - Using 1min interval - fetching data month by month for past year\n"
     ]
    },
    {
     "name": "stdout",
     "output_type": "stream",
     "text": [
      "2025-02-17 12:19:58,255 - __main__ - INFO - Will fetch data for months: ['2025-02', '2025-01', '2024-12', '2024-11', '2024-10', '2024-09', '2024-08', '2024-07', '2024-06', '2024-05', '2024-04', '2024-03']\n"
     ]
    },
    {
     "name": "stderr",
     "output_type": "stream",
     "text": [
      "2025-02-17 12:19:58,255 - INFO - Will fetch data for months: ['2025-02', '2025-01', '2024-12', '2024-11', '2024-10', '2024-09', '2024-08', '2024-07', '2024-06', '2024-05', '2024-04', '2024-03']\n"
     ]
    },
    {
     "name": "stdout",
     "output_type": "stream",
     "text": [
      "2025-02-17 12:19:58,255 - __main__ - INFO - Fetching data for IBM - 2025-02\n"
     ]
    },
    {
     "name": "stderr",
     "output_type": "stream",
     "text": [
      "2025-02-17 12:19:58,255 - INFO - Fetching data for IBM - 2025-02\n"
     ]
    },
    {
     "name": "stdout",
     "output_type": "stream",
     "text": [
      "2025-02-17 12:19:59,041 - __main__ - INFO - Retrieved 6694 data points for 2025-02\n"
     ]
    },
    {
     "name": "stderr",
     "output_type": "stream",
     "text": [
      "2025-02-17 12:19:59,041 - INFO - Retrieved 6694 data points for 2025-02\n"
     ]
    },
    {
     "name": "stdout",
     "output_type": "stream",
     "text": [
      "2025-02-17 12:19:59,042 - __main__ - INFO - Fetching data for IBM - 2025-01\n"
     ]
    },
    {
     "name": "stderr",
     "output_type": "stream",
     "text": [
      "2025-02-17 12:19:59,042 - INFO - Fetching data for IBM - 2025-01\n"
     ]
    },
    {
     "name": "stdout",
     "output_type": "stream",
     "text": [
      "2025-02-17 12:20:02,257 - __main__ - INFO - Retrieved 13208 data points for 2025-01\n"
     ]
    },
    {
     "name": "stderr",
     "output_type": "stream",
     "text": [
      "2025-02-17 12:20:02,257 - INFO - Retrieved 13208 data points for 2025-01\n"
     ]
    },
    {
     "name": "stdout",
     "output_type": "stream",
     "text": [
      "2025-02-17 12:20:02,258 - __main__ - INFO - Fetching data for IBM - 2024-12\n"
     ]
    },
    {
     "name": "stderr",
     "output_type": "stream",
     "text": [
      "2025-02-17 12:20:02,258 - INFO - Fetching data for IBM - 2024-12\n"
     ]
    },
    {
     "name": "stdout",
     "output_type": "stream",
     "text": [
      "2025-02-17 12:20:06,808 - __main__ - INFO - Retrieved 13071 data points for 2024-12\n"
     ]
    },
    {
     "name": "stderr",
     "output_type": "stream",
     "text": [
      "2025-02-17 12:20:06,808 - INFO - Retrieved 13071 data points for 2024-12\n"
     ]
    },
    {
     "name": "stdout",
     "output_type": "stream",
     "text": [
      "2025-02-17 12:20:06,809 - __main__ - INFO - Fetching data for IBM - 2024-11\n"
     ]
    },
    {
     "name": "stderr",
     "output_type": "stream",
     "text": [
      "2025-02-17 12:20:06,809 - INFO - Fetching data for IBM - 2024-11\n"
     ]
    },
    {
     "name": "stdout",
     "output_type": "stream",
     "text": [
      "2025-02-17 12:20:09,180 - __main__ - INFO - Retrieved 12513 data points for 2024-11\n"
     ]
    },
    {
     "name": "stderr",
     "output_type": "stream",
     "text": [
      "2025-02-17 12:20:09,180 - INFO - Retrieved 12513 data points for 2024-11\n"
     ]
    },
    {
     "name": "stdout",
     "output_type": "stream",
     "text": [
      "2025-02-17 12:20:09,181 - __main__ - INFO - Fetching data for IBM - 2024-10\n"
     ]
    },
    {
     "name": "stderr",
     "output_type": "stream",
     "text": [
      "2025-02-17 12:20:09,181 - INFO - Fetching data for IBM - 2024-10\n"
     ]
    },
    {
     "name": "stdout",
     "output_type": "stream",
     "text": [
      "2025-02-17 12:20:12,019 - __main__ - INFO - Retrieved 14391 data points for 2024-10\n"
     ]
    },
    {
     "name": "stderr",
     "output_type": "stream",
     "text": [
      "2025-02-17 12:20:12,019 - INFO - Retrieved 14391 data points for 2024-10\n"
     ]
    },
    {
     "name": "stdout",
     "output_type": "stream",
     "text": [
      "2025-02-17 12:20:12,020 - __main__ - INFO - Fetching data for IBM - 2024-09\n"
     ]
    },
    {
     "name": "stderr",
     "output_type": "stream",
     "text": [
      "2025-02-17 12:20:12,020 - INFO - Fetching data for IBM - 2024-09\n"
     ]
    },
    {
     "name": "stdout",
     "output_type": "stream",
     "text": [
      "2025-02-17 12:20:14,359 - __main__ - INFO - Retrieved 11420 data points for 2024-09\n"
     ]
    },
    {
     "name": "stderr",
     "output_type": "stream",
     "text": [
      "2025-02-17 12:20:14,359 - INFO - Retrieved 11420 data points for 2024-09\n"
     ]
    },
    {
     "name": "stdout",
     "output_type": "stream",
     "text": [
      "2025-02-17 12:20:14,360 - __main__ - INFO - Fetching data for IBM - 2024-08\n"
     ]
    },
    {
     "name": "stderr",
     "output_type": "stream",
     "text": [
      "2025-02-17 12:20:14,360 - INFO - Fetching data for IBM - 2024-08\n"
     ]
    },
    {
     "name": "stdout",
     "output_type": "stream",
     "text": [
      "2025-02-17 12:20:16,983 - __main__ - INFO - Retrieved 12003 data points for 2024-08\n"
     ]
    },
    {
     "name": "stderr",
     "output_type": "stream",
     "text": [
      "2025-02-17 12:20:16,983 - INFO - Retrieved 12003 data points for 2024-08\n"
     ]
    },
    {
     "name": "stdout",
     "output_type": "stream",
     "text": [
      "2025-02-17 12:20:16,984 - __main__ - INFO - Fetching data for IBM - 2024-07\n"
     ]
    },
    {
     "name": "stderr",
     "output_type": "stream",
     "text": [
      "2025-02-17 12:20:16,984 - INFO - Fetching data for IBM - 2024-07\n"
     ]
    },
    {
     "name": "stdout",
     "output_type": "stream",
     "text": [
      "2025-02-17 12:20:19,265 - __main__ - INFO - Retrieved 12356 data points for 2024-07\n"
     ]
    },
    {
     "name": "stderr",
     "output_type": "stream",
     "text": [
      "2025-02-17 12:20:19,265 - INFO - Retrieved 12356 data points for 2024-07\n"
     ]
    },
    {
     "name": "stdout",
     "output_type": "stream",
     "text": [
      "2025-02-17 12:20:19,266 - __main__ - INFO - Fetching data for IBM - 2024-06\n"
     ]
    },
    {
     "name": "stderr",
     "output_type": "stream",
     "text": [
      "2025-02-17 12:20:19,266 - INFO - Fetching data for IBM - 2024-06\n"
     ]
    },
    {
     "name": "stdout",
     "output_type": "stream",
     "text": [
      "2025-02-17 12:20:21,364 - __main__ - INFO - Retrieved 10571 data points for 2024-06\n"
     ]
    },
    {
     "name": "stderr",
     "output_type": "stream",
     "text": [
      "2025-02-17 12:20:21,364 - INFO - Retrieved 10571 data points for 2024-06\n"
     ]
    },
    {
     "name": "stdout",
     "output_type": "stream",
     "text": [
      "2025-02-17 12:20:21,365 - __main__ - INFO - Fetching data for IBM - 2024-05\n"
     ]
    },
    {
     "name": "stderr",
     "output_type": "stream",
     "text": [
      "2025-02-17 12:20:21,365 - INFO - Fetching data for IBM - 2024-05\n"
     ]
    },
    {
     "name": "stdout",
     "output_type": "stream",
     "text": [
      "2025-02-17 12:20:22,332 - __main__ - INFO - Retrieved 12770 data points for 2024-05\n"
     ]
    },
    {
     "name": "stderr",
     "output_type": "stream",
     "text": [
      "2025-02-17 12:20:22,332 - INFO - Retrieved 12770 data points for 2024-05\n"
     ]
    },
    {
     "name": "stdout",
     "output_type": "stream",
     "text": [
      "2025-02-17 12:20:22,333 - __main__ - INFO - Fetching data for IBM - 2024-04\n"
     ]
    },
    {
     "name": "stderr",
     "output_type": "stream",
     "text": [
      "2025-02-17 12:20:22,333 - INFO - Fetching data for IBM - 2024-04\n"
     ]
    },
    {
     "name": "stdout",
     "output_type": "stream",
     "text": [
      "2025-02-17 12:20:24,621 - __main__ - INFO - Retrieved 12729 data points for 2024-04\n"
     ]
    },
    {
     "name": "stderr",
     "output_type": "stream",
     "text": [
      "2025-02-17 12:20:24,621 - INFO - Retrieved 12729 data points for 2024-04\n"
     ]
    },
    {
     "name": "stdout",
     "output_type": "stream",
     "text": [
      "2025-02-17 12:20:24,622 - __main__ - INFO - Fetching data for IBM - 2024-03\n"
     ]
    },
    {
     "name": "stderr",
     "output_type": "stream",
     "text": [
      "2025-02-17 12:20:24,622 - INFO - Fetching data for IBM - 2024-03\n"
     ]
    },
    {
     "name": "stdout",
     "output_type": "stream",
     "text": [
      "2025-02-17 12:20:27,039 - __main__ - INFO - Retrieved 11818 data points for 2024-03\n"
     ]
    },
    {
     "name": "stderr",
     "output_type": "stream",
     "text": [
      "2025-02-17 12:20:27,039 - INFO - Retrieved 11818 data points for 2024-03\n"
     ]
    },
    {
     "name": "stdout",
     "output_type": "stream",
     "text": [
      "2025-02-17 12:20:27,040 - __main__ - INFO - Writing data to /Users/benpfeffer/Desktop/CODE/volatility-strategy/db/cache/market_data/IBM_1min.csv\n"
     ]
    },
    {
     "name": "stderr",
     "output_type": "stream",
     "text": [
      "2025-02-17 12:20:27,040 - INFO - Writing data to /Users/benpfeffer/Desktop/CODE/volatility-strategy/db/cache/market_data/IBM_1min.csv\n"
     ]
    },
    {
     "name": "stdout",
     "output_type": "stream",
     "text": [
      "2025-02-17 12:20:27,044 - __main__ - INFO - Data fetch completed successfully\n"
     ]
    },
    {
     "name": "stderr",
     "output_type": "stream",
     "text": [
      "2025-02-17 12:20:27,044 - INFO - Data fetch completed successfully\n"
     ]
    },
    {
     "name": "stdout",
     "output_type": "stream",
     "text": [
      "2025-02-17 12:20:27,046 - __main__ - INFO - Starting data fetch for JNJ with 1min interval\n"
     ]
    },
    {
     "name": "stderr",
     "output_type": "stream",
     "text": [
      "2025-02-17 12:20:27,046 - INFO - Starting data fetch for JNJ with 1min interval\n"
     ]
    },
    {
     "name": "stdout",
     "output_type": "stream",
     "text": [
      "2025-02-17 12:20:27,047 - __main__ - INFO - Using 1min interval - fetching data month by month for past year\n"
     ]
    },
    {
     "name": "stderr",
     "output_type": "stream",
     "text": [
      "2025-02-17 12:20:27,047 - INFO - Using 1min interval - fetching data month by month for past year\n"
     ]
    },
    {
     "name": "stdout",
     "output_type": "stream",
     "text": [
      "2025-02-17 12:20:27,047 - __main__ - INFO - Will fetch data for months: ['2025-02', '2025-01', '2024-12', '2024-11', '2024-10', '2024-09', '2024-08', '2024-07', '2024-06', '2024-05', '2024-04', '2024-03']\n"
     ]
    },
    {
     "name": "stderr",
     "output_type": "stream",
     "text": [
      "2025-02-17 12:20:27,047 - INFO - Will fetch data for months: ['2025-02', '2025-01', '2024-12', '2024-11', '2024-10', '2024-09', '2024-08', '2024-07', '2024-06', '2024-05', '2024-04', '2024-03']\n"
     ]
    },
    {
     "name": "stdout",
     "output_type": "stream",
     "text": [
      "2025-02-17 12:20:27,048 - __main__ - INFO - Fetching data for JNJ - 2025-02\n"
     ]
    },
    {
     "name": "stderr",
     "output_type": "stream",
     "text": [
      "2025-02-17 12:20:27,048 - INFO - Fetching data for JNJ - 2025-02\n"
     ]
    },
    {
     "name": "stdout",
     "output_type": "stream",
     "text": [
      "2025-02-17 12:20:29,322 - __main__ - INFO - Retrieved 6426 data points for 2025-02\n"
     ]
    },
    {
     "name": "stderr",
     "output_type": "stream",
     "text": [
      "2025-02-17 12:20:29,322 - INFO - Retrieved 6426 data points for 2025-02\n"
     ]
    },
    {
     "name": "stdout",
     "output_type": "stream",
     "text": [
      "2025-02-17 12:20:29,323 - __main__ - INFO - Fetching data for JNJ - 2025-01\n"
     ]
    },
    {
     "name": "stderr",
     "output_type": "stream",
     "text": [
      "2025-02-17 12:20:29,323 - INFO - Fetching data for JNJ - 2025-01\n"
     ]
    },
    {
     "name": "stdout",
     "output_type": "stream",
     "text": [
      "2025-02-17 12:20:31,947 - __main__ - INFO - Retrieved 14488 data points for 2025-01\n"
     ]
    },
    {
     "name": "stderr",
     "output_type": "stream",
     "text": [
      "2025-02-17 12:20:31,947 - INFO - Retrieved 14488 data points for 2025-01\n"
     ]
    },
    {
     "name": "stdout",
     "output_type": "stream",
     "text": [
      "2025-02-17 12:20:31,948 - __main__ - INFO - Fetching data for JNJ - 2024-12\n"
     ]
    },
    {
     "name": "stderr",
     "output_type": "stream",
     "text": [
      "2025-02-17 12:20:31,948 - INFO - Fetching data for JNJ - 2024-12\n"
     ]
    },
    {
     "name": "stdout",
     "output_type": "stream",
     "text": [
      "2025-02-17 12:20:34,504 - __main__ - INFO - Retrieved 15115 data points for 2024-12\n"
     ]
    },
    {
     "name": "stderr",
     "output_type": "stream",
     "text": [
      "2025-02-17 12:20:34,504 - INFO - Retrieved 15115 data points for 2024-12\n"
     ]
    },
    {
     "name": "stdout",
     "output_type": "stream",
     "text": [
      "2025-02-17 12:20:34,505 - __main__ - INFO - Fetching data for JNJ - 2024-11\n"
     ]
    },
    {
     "name": "stderr",
     "output_type": "stream",
     "text": [
      "2025-02-17 12:20:34,505 - INFO - Fetching data for JNJ - 2024-11\n"
     ]
    },
    {
     "name": "stdout",
     "output_type": "stream",
     "text": [
      "2025-02-17 12:20:36,957 - __main__ - INFO - Retrieved 13075 data points for 2024-11\n"
     ]
    },
    {
     "name": "stderr",
     "output_type": "stream",
     "text": [
      "2025-02-17 12:20:36,957 - INFO - Retrieved 13075 data points for 2024-11\n"
     ]
    },
    {
     "name": "stdout",
     "output_type": "stream",
     "text": [
      "2025-02-17 12:20:36,958 - __main__ - INFO - Fetching data for JNJ - 2024-10\n"
     ]
    },
    {
     "name": "stderr",
     "output_type": "stream",
     "text": [
      "2025-02-17 12:20:36,958 - INFO - Fetching data for JNJ - 2024-10\n"
     ]
    },
    {
     "name": "stdout",
     "output_type": "stream",
     "text": [
      "2025-02-17 12:20:39,431 - __main__ - INFO - Retrieved 13743 data points for 2024-10\n"
     ]
    },
    {
     "name": "stderr",
     "output_type": "stream",
     "text": [
      "2025-02-17 12:20:39,431 - INFO - Retrieved 13743 data points for 2024-10\n"
     ]
    },
    {
     "name": "stdout",
     "output_type": "stream",
     "text": [
      "2025-02-17 12:20:39,432 - __main__ - INFO - Fetching data for JNJ - 2024-09\n"
     ]
    },
    {
     "name": "stderr",
     "output_type": "stream",
     "text": [
      "2025-02-17 12:20:39,432 - INFO - Fetching data for JNJ - 2024-09\n"
     ]
    },
    {
     "name": "stdout",
     "output_type": "stream",
     "text": [
      "2025-02-17 12:20:41,862 - __main__ - INFO - Retrieved 11662 data points for 2024-09\n"
     ]
    },
    {
     "name": "stderr",
     "output_type": "stream",
     "text": [
      "2025-02-17 12:20:41,862 - INFO - Retrieved 11662 data points for 2024-09\n"
     ]
    },
    {
     "name": "stdout",
     "output_type": "stream",
     "text": [
      "2025-02-17 12:20:41,863 - __main__ - INFO - Fetching data for JNJ - 2024-08\n"
     ]
    },
    {
     "name": "stderr",
     "output_type": "stream",
     "text": [
      "2025-02-17 12:20:41,863 - INFO - Fetching data for JNJ - 2024-08\n"
     ]
    },
    {
     "name": "stdout",
     "output_type": "stream",
     "text": [
      "2025-02-17 12:20:44,465 - __main__ - INFO - Retrieved 13519 data points for 2024-08\n"
     ]
    },
    {
     "name": "stderr",
     "output_type": "stream",
     "text": [
      "2025-02-17 12:20:44,465 - INFO - Retrieved 13519 data points for 2024-08\n"
     ]
    },
    {
     "name": "stdout",
     "output_type": "stream",
     "text": [
      "2025-02-17 12:20:44,466 - __main__ - INFO - Fetching data for JNJ - 2024-07\n"
     ]
    },
    {
     "name": "stderr",
     "output_type": "stream",
     "text": [
      "2025-02-17 12:20:44,466 - INFO - Fetching data for JNJ - 2024-07\n"
     ]
    },
    {
     "name": "stdout",
     "output_type": "stream",
     "text": [
      "2025-02-17 12:20:47,168 - __main__ - INFO - Retrieved 15850 data points for 2024-07\n"
     ]
    },
    {
     "name": "stderr",
     "output_type": "stream",
     "text": [
      "2025-02-17 12:20:47,168 - INFO - Retrieved 15850 data points for 2024-07\n"
     ]
    },
    {
     "name": "stdout",
     "output_type": "stream",
     "text": [
      "2025-02-17 12:20:47,169 - __main__ - INFO - Fetching data for JNJ - 2024-06\n"
     ]
    },
    {
     "name": "stderr",
     "output_type": "stream",
     "text": [
      "2025-02-17 12:20:47,169 - INFO - Fetching data for JNJ - 2024-06\n"
     ]
    },
    {
     "name": "stdout",
     "output_type": "stream",
     "text": [
      "2025-02-17 12:20:49,585 - __main__ - INFO - Retrieved 12023 data points for 2024-06\n"
     ]
    },
    {
     "name": "stderr",
     "output_type": "stream",
     "text": [
      "2025-02-17 12:20:49,585 - INFO - Retrieved 12023 data points for 2024-06\n"
     ]
    },
    {
     "name": "stdout",
     "output_type": "stream",
     "text": [
      "2025-02-17 12:20:49,585 - __main__ - INFO - Fetching data for JNJ - 2024-05\n"
     ]
    },
    {
     "name": "stderr",
     "output_type": "stream",
     "text": [
      "2025-02-17 12:20:49,585 - INFO - Fetching data for JNJ - 2024-05\n"
     ]
    },
    {
     "name": "stdout",
     "output_type": "stream",
     "text": [
      "2025-02-17 12:20:50,497 - __main__ - INFO - Retrieved 14149 data points for 2024-05\n"
     ]
    },
    {
     "name": "stderr",
     "output_type": "stream",
     "text": [
      "2025-02-17 12:20:50,497 - INFO - Retrieved 14149 data points for 2024-05\n"
     ]
    },
    {
     "name": "stdout",
     "output_type": "stream",
     "text": [
      "2025-02-17 12:20:50,498 - __main__ - INFO - Fetching data for JNJ - 2024-04\n"
     ]
    },
    {
     "name": "stderr",
     "output_type": "stream",
     "text": [
      "2025-02-17 12:20:50,498 - INFO - Fetching data for JNJ - 2024-04\n"
     ]
    },
    {
     "name": "stdout",
     "output_type": "stream",
     "text": [
      "2025-02-17 12:20:53,005 - __main__ - INFO - Retrieved 14299 data points for 2024-04\n"
     ]
    },
    {
     "name": "stderr",
     "output_type": "stream",
     "text": [
      "2025-02-17 12:20:53,005 - INFO - Retrieved 14299 data points for 2024-04\n"
     ]
    },
    {
     "name": "stdout",
     "output_type": "stream",
     "text": [
      "2025-02-17 12:20:53,006 - __main__ - INFO - Fetching data for JNJ - 2024-03\n"
     ]
    },
    {
     "name": "stderr",
     "output_type": "stream",
     "text": [
      "2025-02-17 12:20:53,006 - INFO - Fetching data for JNJ - 2024-03\n"
     ]
    },
    {
     "name": "stdout",
     "output_type": "stream",
     "text": [
      "2025-02-17 12:20:55,262 - __main__ - INFO - Retrieved 11761 data points for 2024-03\n"
     ]
    },
    {
     "name": "stderr",
     "output_type": "stream",
     "text": [
      "2025-02-17 12:20:55,262 - INFO - Retrieved 11761 data points for 2024-03\n"
     ]
    },
    {
     "name": "stdout",
     "output_type": "stream",
     "text": [
      "2025-02-17 12:20:55,263 - __main__ - INFO - Writing data to /Users/benpfeffer/Desktop/CODE/volatility-strategy/db/cache/market_data/JNJ_1min.csv\n"
     ]
    },
    {
     "name": "stderr",
     "output_type": "stream",
     "text": [
      "2025-02-17 12:20:55,263 - INFO - Writing data to /Users/benpfeffer/Desktop/CODE/volatility-strategy/db/cache/market_data/JNJ_1min.csv\n"
     ]
    },
    {
     "name": "stdout",
     "output_type": "stream",
     "text": [
      "2025-02-17 12:20:55,267 - __main__ - INFO - Data fetch completed successfully\n"
     ]
    },
    {
     "name": "stderr",
     "output_type": "stream",
     "text": [
      "2025-02-17 12:20:55,267 - INFO - Data fetch completed successfully\n"
     ]
    },
    {
     "name": "stdout",
     "output_type": "stream",
     "text": [
      "2025-02-17 12:20:55,268 - __main__ - INFO - Starting data fetch for JPM with 1min interval\n"
     ]
    },
    {
     "name": "stderr",
     "output_type": "stream",
     "text": [
      "2025-02-17 12:20:55,268 - INFO - Starting data fetch for JPM with 1min interval\n"
     ]
    },
    {
     "name": "stdout",
     "output_type": "stream",
     "text": [
      "2025-02-17 12:20:55,269 - __main__ - INFO - Using 1min interval - fetching data month by month for past year\n"
     ]
    },
    {
     "name": "stderr",
     "output_type": "stream",
     "text": [
      "2025-02-17 12:20:55,269 - INFO - Using 1min interval - fetching data month by month for past year\n"
     ]
    },
    {
     "name": "stdout",
     "output_type": "stream",
     "text": [
      "2025-02-17 12:20:55,270 - __main__ - INFO - Will fetch data for months: ['2025-02', '2025-01', '2024-12', '2024-11', '2024-10', '2024-09', '2024-08', '2024-07', '2024-06', '2024-05', '2024-04', '2024-03']\n"
     ]
    },
    {
     "name": "stderr",
     "output_type": "stream",
     "text": [
      "2025-02-17 12:20:55,270 - INFO - Will fetch data for months: ['2025-02', '2025-01', '2024-12', '2024-11', '2024-10', '2024-09', '2024-08', '2024-07', '2024-06', '2024-05', '2024-04', '2024-03']\n"
     ]
    },
    {
     "name": "stdout",
     "output_type": "stream",
     "text": [
      "2025-02-17 12:20:55,271 - __main__ - INFO - Fetching data for JPM - 2025-02\n"
     ]
    },
    {
     "name": "stderr",
     "output_type": "stream",
     "text": [
      "2025-02-17 12:20:55,271 - INFO - Fetching data for JPM - 2025-02\n"
     ]
    },
    {
     "name": "stdout",
     "output_type": "stream",
     "text": [
      "2025-02-17 12:20:55,916 - __main__ - INFO - Retrieved 7083 data points for 2025-02\n"
     ]
    },
    {
     "name": "stderr",
     "output_type": "stream",
     "text": [
      "2025-02-17 12:20:55,916 - INFO - Retrieved 7083 data points for 2025-02\n"
     ]
    },
    {
     "name": "stdout",
     "output_type": "stream",
     "text": [
      "2025-02-17 12:20:55,917 - __main__ - INFO - Fetching data for JPM - 2025-01\n"
     ]
    },
    {
     "name": "stderr",
     "output_type": "stream",
     "text": [
      "2025-02-17 12:20:55,917 - INFO - Fetching data for JPM - 2025-01\n"
     ]
    },
    {
     "name": "stdout",
     "output_type": "stream",
     "text": [
      "2025-02-17 12:20:56,785 - __main__ - INFO - Retrieved 14416 data points for 2025-01\n"
     ]
    },
    {
     "name": "stderr",
     "output_type": "stream",
     "text": [
      "2025-02-17 12:20:56,785 - INFO - Retrieved 14416 data points for 2025-01\n"
     ]
    },
    {
     "name": "stdout",
     "output_type": "stream",
     "text": [
      "2025-02-17 12:20:56,786 - __main__ - INFO - Fetching data for JPM - 2024-12\n"
     ]
    },
    {
     "name": "stderr",
     "output_type": "stream",
     "text": [
      "2025-02-17 12:20:56,786 - INFO - Fetching data for JPM - 2024-12\n"
     ]
    },
    {
     "name": "stdout",
     "output_type": "stream",
     "text": [
      "2025-02-17 12:20:59,135 - __main__ - INFO - Retrieved 13503 data points for 2024-12\n"
     ]
    },
    {
     "name": "stderr",
     "output_type": "stream",
     "text": [
      "2025-02-17 12:20:59,135 - INFO - Retrieved 13503 data points for 2024-12\n"
     ]
    },
    {
     "name": "stdout",
     "output_type": "stream",
     "text": [
      "2025-02-17 12:20:59,136 - __main__ - INFO - Fetching data for JPM - 2024-11\n"
     ]
    },
    {
     "name": "stderr",
     "output_type": "stream",
     "text": [
      "2025-02-17 12:20:59,136 - INFO - Fetching data for JPM - 2024-11\n"
     ]
    },
    {
     "name": "stdout",
     "output_type": "stream",
     "text": [
      "2025-02-17 12:21:02,338 - __main__ - INFO - Retrieved 13753 data points for 2024-11\n"
     ]
    },
    {
     "name": "stderr",
     "output_type": "stream",
     "text": [
      "2025-02-17 12:21:02,338 - INFO - Retrieved 13753 data points for 2024-11\n"
     ]
    },
    {
     "name": "stdout",
     "output_type": "stream",
     "text": [
      "2025-02-17 12:21:02,339 - __main__ - INFO - Fetching data for JPM - 2024-10\n"
     ]
    },
    {
     "name": "stderr",
     "output_type": "stream",
     "text": [
      "2025-02-17 12:21:02,339 - INFO - Fetching data for JPM - 2024-10\n"
     ]
    },
    {
     "name": "stdout",
     "output_type": "stream",
     "text": [
      "2025-02-17 12:21:05,800 - __main__ - INFO - Retrieved 14693 data points for 2024-10\n"
     ]
    },
    {
     "name": "stderr",
     "output_type": "stream",
     "text": [
      "2025-02-17 12:21:05,800 - INFO - Retrieved 14693 data points for 2024-10\n"
     ]
    },
    {
     "name": "stdout",
     "output_type": "stream",
     "text": [
      "2025-02-17 12:21:05,801 - __main__ - INFO - Fetching data for JPM - 2024-09\n"
     ]
    },
    {
     "name": "stderr",
     "output_type": "stream",
     "text": [
      "2025-02-17 12:21:05,801 - INFO - Fetching data for JPM - 2024-09\n"
     ]
    },
    {
     "name": "stdout",
     "output_type": "stream",
     "text": [
      "2025-02-17 12:21:09,027 - __main__ - INFO - Retrieved 13356 data points for 2024-09\n"
     ]
    },
    {
     "name": "stderr",
     "output_type": "stream",
     "text": [
      "2025-02-17 12:21:09,027 - INFO - Retrieved 13356 data points for 2024-09\n"
     ]
    },
    {
     "name": "stdout",
     "output_type": "stream",
     "text": [
      "2025-02-17 12:21:09,028 - __main__ - INFO - Fetching data for JPM - 2024-08\n"
     ]
    },
    {
     "name": "stderr",
     "output_type": "stream",
     "text": [
      "2025-02-17 12:21:09,028 - INFO - Fetching data for JPM - 2024-08\n"
     ]
    },
    {
     "name": "stdout",
     "output_type": "stream",
     "text": [
      "2025-02-17 12:21:11,741 - __main__ - INFO - Retrieved 13811 data points for 2024-08\n"
     ]
    },
    {
     "name": "stderr",
     "output_type": "stream",
     "text": [
      "2025-02-17 12:21:11,741 - INFO - Retrieved 13811 data points for 2024-08\n"
     ]
    },
    {
     "name": "stdout",
     "output_type": "stream",
     "text": [
      "2025-02-17 12:21:11,742 - __main__ - INFO - Fetching data for JPM - 2024-07\n"
     ]
    },
    {
     "name": "stderr",
     "output_type": "stream",
     "text": [
      "2025-02-17 12:21:11,742 - INFO - Fetching data for JPM - 2024-07\n"
     ]
    },
    {
     "name": "stdout",
     "output_type": "stream",
     "text": [
      "2025-02-17 12:21:14,699 - __main__ - INFO - Retrieved 14627 data points for 2024-07\n"
     ]
    },
    {
     "name": "stderr",
     "output_type": "stream",
     "text": [
      "2025-02-17 12:21:14,699 - INFO - Retrieved 14627 data points for 2024-07\n"
     ]
    },
    {
     "name": "stdout",
     "output_type": "stream",
     "text": [
      "2025-02-17 12:21:14,700 - __main__ - INFO - Fetching data for JPM - 2024-06\n"
     ]
    },
    {
     "name": "stderr",
     "output_type": "stream",
     "text": [
      "2025-02-17 12:21:14,700 - INFO - Fetching data for JPM - 2024-06\n"
     ]
    },
    {
     "name": "stdout",
     "output_type": "stream",
     "text": [
      "2025-02-17 12:21:16,982 - __main__ - INFO - Retrieved 11821 data points for 2024-06\n"
     ]
    },
    {
     "name": "stderr",
     "output_type": "stream",
     "text": [
      "2025-02-17 12:21:16,982 - INFO - Retrieved 11821 data points for 2024-06\n"
     ]
    },
    {
     "name": "stdout",
     "output_type": "stream",
     "text": [
      "2025-02-17 12:21:16,983 - __main__ - INFO - Fetching data for JPM - 2024-05\n"
     ]
    },
    {
     "name": "stderr",
     "output_type": "stream",
     "text": [
      "2025-02-17 12:21:16,983 - INFO - Fetching data for JPM - 2024-05\n"
     ]
    },
    {
     "name": "stdout",
     "output_type": "stream",
     "text": [
      "2025-02-17 12:21:18,044 - __main__ - INFO - Retrieved 13672 data points for 2024-05\n"
     ]
    },
    {
     "name": "stderr",
     "output_type": "stream",
     "text": [
      "2025-02-17 12:21:18,044 - INFO - Retrieved 13672 data points for 2024-05\n"
     ]
    },
    {
     "name": "stdout",
     "output_type": "stream",
     "text": [
      "2025-02-17 12:21:18,045 - __main__ - INFO - Fetching data for JPM - 2024-04\n"
     ]
    },
    {
     "name": "stderr",
     "output_type": "stream",
     "text": [
      "2025-02-17 12:21:18,045 - INFO - Fetching data for JPM - 2024-04\n"
     ]
    },
    {
     "name": "stdout",
     "output_type": "stream",
     "text": [
      "2025-02-17 12:21:20,676 - __main__ - INFO - Retrieved 14747 data points for 2024-04\n"
     ]
    },
    {
     "name": "stderr",
     "output_type": "stream",
     "text": [
      "2025-02-17 12:21:20,676 - INFO - Retrieved 14747 data points for 2024-04\n"
     ]
    },
    {
     "name": "stdout",
     "output_type": "stream",
     "text": [
      "2025-02-17 12:21:20,677 - __main__ - INFO - Fetching data for JPM - 2024-03\n"
     ]
    },
    {
     "name": "stderr",
     "output_type": "stream",
     "text": [
      "2025-02-17 12:21:20,677 - INFO - Fetching data for JPM - 2024-03\n"
     ]
    },
    {
     "name": "stdout",
     "output_type": "stream",
     "text": [
      "2025-02-17 12:21:23,195 - __main__ - INFO - Retrieved 12516 data points for 2024-03\n"
     ]
    },
    {
     "name": "stderr",
     "output_type": "stream",
     "text": [
      "2025-02-17 12:21:23,195 - INFO - Retrieved 12516 data points for 2024-03\n"
     ]
    },
    {
     "name": "stdout",
     "output_type": "stream",
     "text": [
      "2025-02-17 12:21:23,196 - __main__ - INFO - Writing data to /Users/benpfeffer/Desktop/CODE/volatility-strategy/db/cache/market_data/JPM_1min.csv\n"
     ]
    },
    {
     "name": "stderr",
     "output_type": "stream",
     "text": [
      "2025-02-17 12:21:23,196 - INFO - Writing data to /Users/benpfeffer/Desktop/CODE/volatility-strategy/db/cache/market_data/JPM_1min.csv\n"
     ]
    },
    {
     "name": "stdout",
     "output_type": "stream",
     "text": [
      "2025-02-17 12:21:23,201 - __main__ - INFO - Data fetch completed successfully\n"
     ]
    },
    {
     "name": "stderr",
     "output_type": "stream",
     "text": [
      "2025-02-17 12:21:23,201 - INFO - Data fetch completed successfully\n"
     ]
    },
    {
     "name": "stdout",
     "output_type": "stream",
     "text": [
      "2025-02-17 12:21:23,203 - __main__ - INFO - Starting data fetch for MA with 1min interval\n"
     ]
    },
    {
     "name": "stderr",
     "output_type": "stream",
     "text": [
      "2025-02-17 12:21:23,203 - INFO - Starting data fetch for MA with 1min interval\n"
     ]
    },
    {
     "name": "stdout",
     "output_type": "stream",
     "text": [
      "2025-02-17 12:21:23,204 - __main__ - INFO - Using 1min interval - fetching data month by month for past year\n"
     ]
    },
    {
     "name": "stderr",
     "output_type": "stream",
     "text": [
      "2025-02-17 12:21:23,204 - INFO - Using 1min interval - fetching data month by month for past year\n"
     ]
    },
    {
     "name": "stdout",
     "output_type": "stream",
     "text": [
      "2025-02-17 12:21:23,204 - __main__ - INFO - Will fetch data for months: ['2025-02', '2025-01', '2024-12', '2024-11', '2024-10', '2024-09', '2024-08', '2024-07', '2024-06', '2024-05', '2024-04', '2024-03']\n"
     ]
    },
    {
     "name": "stderr",
     "output_type": "stream",
     "text": [
      "2025-02-17 12:21:23,204 - INFO - Will fetch data for months: ['2025-02', '2025-01', '2024-12', '2024-11', '2024-10', '2024-09', '2024-08', '2024-07', '2024-06', '2024-05', '2024-04', '2024-03']\n"
     ]
    },
    {
     "name": "stdout",
     "output_type": "stream",
     "text": [
      "2025-02-17 12:21:23,205 - __main__ - INFO - Fetching data for MA - 2025-02\n"
     ]
    },
    {
     "name": "stderr",
     "output_type": "stream",
     "text": [
      "2025-02-17 12:21:23,205 - INFO - Fetching data for MA - 2025-02\n"
     ]
    },
    {
     "name": "stdout",
     "output_type": "stream",
     "text": [
      "2025-02-17 12:21:25,273 - __main__ - INFO - Retrieved 5127 data points for 2025-02\n"
     ]
    },
    {
     "name": "stderr",
     "output_type": "stream",
     "text": [
      "2025-02-17 12:21:25,273 - INFO - Retrieved 5127 data points for 2025-02\n"
     ]
    },
    {
     "name": "stdout",
     "output_type": "stream",
     "text": [
      "2025-02-17 12:21:25,274 - __main__ - INFO - Fetching data for MA - 2025-01\n"
     ]
    },
    {
     "name": "stderr",
     "output_type": "stream",
     "text": [
      "2025-02-17 12:21:25,274 - INFO - Fetching data for MA - 2025-01\n"
     ]
    },
    {
     "name": "stdout",
     "output_type": "stream",
     "text": [
      "2025-02-17 12:21:27,335 - __main__ - INFO - Retrieved 10842 data points for 2025-01\n"
     ]
    },
    {
     "name": "stderr",
     "output_type": "stream",
     "text": [
      "2025-02-17 12:21:27,335 - INFO - Retrieved 10842 data points for 2025-01\n"
     ]
    },
    {
     "name": "stdout",
     "output_type": "stream",
     "text": [
      "2025-02-17 12:21:27,336 - __main__ - INFO - Fetching data for MA - 2024-12\n"
     ]
    },
    {
     "name": "stderr",
     "output_type": "stream",
     "text": [
      "2025-02-17 12:21:27,336 - INFO - Fetching data for MA - 2024-12\n"
     ]
    },
    {
     "name": "stdout",
     "output_type": "stream",
     "text": [
      "2025-02-17 12:21:29,376 - __main__ - INFO - Retrieved 10214 data points for 2024-12\n"
     ]
    },
    {
     "name": "stderr",
     "output_type": "stream",
     "text": [
      "2025-02-17 12:21:29,376 - INFO - Retrieved 10214 data points for 2024-12\n"
     ]
    },
    {
     "name": "stdout",
     "output_type": "stream",
     "text": [
      "2025-02-17 12:21:29,377 - __main__ - INFO - Fetching data for MA - 2024-11\n"
     ]
    },
    {
     "name": "stderr",
     "output_type": "stream",
     "text": [
      "2025-02-17 12:21:29,377 - INFO - Fetching data for MA - 2024-11\n"
     ]
    },
    {
     "name": "stdout",
     "output_type": "stream",
     "text": [
      "2025-02-17 12:21:31,269 - __main__ - INFO - Retrieved 9846 data points for 2024-11\n"
     ]
    },
    {
     "name": "stderr",
     "output_type": "stream",
     "text": [
      "2025-02-17 12:21:31,269 - INFO - Retrieved 9846 data points for 2024-11\n"
     ]
    },
    {
     "name": "stdout",
     "output_type": "stream",
     "text": [
      "2025-02-17 12:21:31,270 - __main__ - INFO - Fetching data for MA - 2024-10\n"
     ]
    },
    {
     "name": "stderr",
     "output_type": "stream",
     "text": [
      "2025-02-17 12:21:31,270 - INFO - Fetching data for MA - 2024-10\n"
     ]
    },
    {
     "name": "stdout",
     "output_type": "stream",
     "text": [
      "2025-02-17 12:21:33,496 - __main__ - INFO - Retrieved 11236 data points for 2024-10\n"
     ]
    },
    {
     "name": "stderr",
     "output_type": "stream",
     "text": [
      "2025-02-17 12:21:33,496 - INFO - Retrieved 11236 data points for 2024-10\n"
     ]
    },
    {
     "name": "stdout",
     "output_type": "stream",
     "text": [
      "2025-02-17 12:21:33,497 - __main__ - INFO - Fetching data for MA - 2024-09\n"
     ]
    },
    {
     "name": "stderr",
     "output_type": "stream",
     "text": [
      "2025-02-17 12:21:33,497 - INFO - Fetching data for MA - 2024-09\n"
     ]
    },
    {
     "name": "stdout",
     "output_type": "stream",
     "text": [
      "2025-02-17 12:21:35,739 - __main__ - INFO - Retrieved 10412 data points for 2024-09\n"
     ]
    },
    {
     "name": "stderr",
     "output_type": "stream",
     "text": [
      "2025-02-17 12:21:35,739 - INFO - Retrieved 10412 data points for 2024-09\n"
     ]
    },
    {
     "name": "stdout",
     "output_type": "stream",
     "text": [
      "2025-02-17 12:21:35,740 - __main__ - INFO - Fetching data for MA - 2024-08\n"
     ]
    },
    {
     "name": "stderr",
     "output_type": "stream",
     "text": [
      "2025-02-17 12:21:35,740 - INFO - Fetching data for MA - 2024-08\n"
     ]
    },
    {
     "name": "stdout",
     "output_type": "stream",
     "text": [
      "2025-02-17 12:21:38,138 - __main__ - INFO - Retrieved 10785 data points for 2024-08\n"
     ]
    },
    {
     "name": "stderr",
     "output_type": "stream",
     "text": [
      "2025-02-17 12:21:38,138 - INFO - Retrieved 10785 data points for 2024-08\n"
     ]
    },
    {
     "name": "stdout",
     "output_type": "stream",
     "text": [
      "2025-02-17 12:21:38,139 - __main__ - INFO - Fetching data for MA - 2024-07\n"
     ]
    },
    {
     "name": "stderr",
     "output_type": "stream",
     "text": [
      "2025-02-17 12:21:38,139 - INFO - Fetching data for MA - 2024-07\n"
     ]
    },
    {
     "name": "stdout",
     "output_type": "stream",
     "text": [
      "2025-02-17 12:21:40,475 - __main__ - INFO - Retrieved 11341 data points for 2024-07\n"
     ]
    },
    {
     "name": "stderr",
     "output_type": "stream",
     "text": [
      "2025-02-17 12:21:40,475 - INFO - Retrieved 11341 data points for 2024-07\n"
     ]
    },
    {
     "name": "stdout",
     "output_type": "stream",
     "text": [
      "2025-02-17 12:21:40,476 - __main__ - INFO - Fetching data for MA - 2024-06\n"
     ]
    },
    {
     "name": "stderr",
     "output_type": "stream",
     "text": [
      "2025-02-17 12:21:40,476 - INFO - Fetching data for MA - 2024-06\n"
     ]
    },
    {
     "name": "stdout",
     "output_type": "stream",
     "text": [
      "2025-02-17 12:21:42,670 - __main__ - INFO - Retrieved 9681 data points for 2024-06\n"
     ]
    },
    {
     "name": "stderr",
     "output_type": "stream",
     "text": [
      "2025-02-17 12:21:42,670 - INFO - Retrieved 9681 data points for 2024-06\n"
     ]
    },
    {
     "name": "stdout",
     "output_type": "stream",
     "text": [
      "2025-02-17 12:21:42,671 - __main__ - INFO - Fetching data for MA - 2024-05\n"
     ]
    },
    {
     "name": "stderr",
     "output_type": "stream",
     "text": [
      "2025-02-17 12:21:42,671 - INFO - Fetching data for MA - 2024-05\n"
     ]
    },
    {
     "name": "stdout",
     "output_type": "stream",
     "text": [
      "2025-02-17 12:21:45,049 - __main__ - INFO - Retrieved 11075 data points for 2024-05\n"
     ]
    },
    {
     "name": "stderr",
     "output_type": "stream",
     "text": [
      "2025-02-17 12:21:45,049 - INFO - Retrieved 11075 data points for 2024-05\n"
     ]
    },
    {
     "name": "stdout",
     "output_type": "stream",
     "text": [
      "2025-02-17 12:21:45,050 - __main__ - INFO - Fetching data for MA - 2024-04\n"
     ]
    },
    {
     "name": "stderr",
     "output_type": "stream",
     "text": [
      "2025-02-17 12:21:45,050 - INFO - Fetching data for MA - 2024-04\n"
     ]
    },
    {
     "name": "stdout",
     "output_type": "stream",
     "text": [
      "2025-02-17 12:21:47,223 - __main__ - INFO - Retrieved 11087 data points for 2024-04\n"
     ]
    },
    {
     "name": "stderr",
     "output_type": "stream",
     "text": [
      "2025-02-17 12:21:47,223 - INFO - Retrieved 11087 data points for 2024-04\n"
     ]
    },
    {
     "name": "stdout",
     "output_type": "stream",
     "text": [
      "2025-02-17 12:21:47,223 - __main__ - INFO - Fetching data for MA - 2024-03\n"
     ]
    },
    {
     "name": "stderr",
     "output_type": "stream",
     "text": [
      "2025-02-17 12:21:47,223 - INFO - Fetching data for MA - 2024-03\n"
     ]
    },
    {
     "name": "stdout",
     "output_type": "stream",
     "text": [
      "2025-02-17 12:21:49,384 - __main__ - INFO - Retrieved 9792 data points for 2024-03\n"
     ]
    },
    {
     "name": "stderr",
     "output_type": "stream",
     "text": [
      "2025-02-17 12:21:49,384 - INFO - Retrieved 9792 data points for 2024-03\n"
     ]
    },
    {
     "name": "stdout",
     "output_type": "stream",
     "text": [
      "2025-02-17 12:21:49,385 - __main__ - INFO - Writing data to /Users/benpfeffer/Desktop/CODE/volatility-strategy/db/cache/market_data/MA_1min.csv\n"
     ]
    },
    {
     "name": "stderr",
     "output_type": "stream",
     "text": [
      "2025-02-17 12:21:49,385 - INFO - Writing data to /Users/benpfeffer/Desktop/CODE/volatility-strategy/db/cache/market_data/MA_1min.csv\n"
     ]
    },
    {
     "name": "stdout",
     "output_type": "stream",
     "text": [
      "2025-02-17 12:21:49,389 - __main__ - INFO - Data fetch completed successfully\n"
     ]
    },
    {
     "name": "stderr",
     "output_type": "stream",
     "text": [
      "2025-02-17 12:21:49,389 - INFO - Data fetch completed successfully\n"
     ]
    },
    {
     "name": "stdout",
     "output_type": "stream",
     "text": [
      "2025-02-17 12:21:49,391 - __main__ - INFO - Starting data fetch for MCD with 1min interval\n"
     ]
    },
    {
     "name": "stderr",
     "output_type": "stream",
     "text": [
      "2025-02-17 12:21:49,391 - INFO - Starting data fetch for MCD with 1min interval\n"
     ]
    },
    {
     "name": "stdout",
     "output_type": "stream",
     "text": [
      "2025-02-17 12:21:49,391 - __main__ - INFO - Using 1min interval - fetching data month by month for past year\n"
     ]
    },
    {
     "name": "stderr",
     "output_type": "stream",
     "text": [
      "2025-02-17 12:21:49,391 - INFO - Using 1min interval - fetching data month by month for past year\n"
     ]
    },
    {
     "name": "stdout",
     "output_type": "stream",
     "text": [
      "2025-02-17 12:21:49,392 - __main__ - INFO - Will fetch data for months: ['2025-02', '2025-01', '2024-12', '2024-11', '2024-10', '2024-09', '2024-08', '2024-07', '2024-06', '2024-05', '2024-04', '2024-03']\n"
     ]
    },
    {
     "name": "stderr",
     "output_type": "stream",
     "text": [
      "2025-02-17 12:21:49,392 - INFO - Will fetch data for months: ['2025-02', '2025-01', '2024-12', '2024-11', '2024-10', '2024-09', '2024-08', '2024-07', '2024-06', '2024-05', '2024-04', '2024-03']\n"
     ]
    },
    {
     "name": "stdout",
     "output_type": "stream",
     "text": [
      "2025-02-17 12:21:49,392 - __main__ - INFO - Fetching data for MCD - 2025-02\n"
     ]
    },
    {
     "name": "stderr",
     "output_type": "stream",
     "text": [
      "2025-02-17 12:21:49,392 - INFO - Fetching data for MCD - 2025-02\n"
     ]
    },
    {
     "name": "stdout",
     "output_type": "stream",
     "text": [
      "2025-02-17 12:21:51,600 - __main__ - INFO - Retrieved 5920 data points for 2025-02\n"
     ]
    },
    {
     "name": "stderr",
     "output_type": "stream",
     "text": [
      "2025-02-17 12:21:51,600 - INFO - Retrieved 5920 data points for 2025-02\n"
     ]
    },
    {
     "name": "stdout",
     "output_type": "stream",
     "text": [
      "2025-02-17 12:21:51,601 - __main__ - INFO - Fetching data for MCD - 2025-01\n"
     ]
    },
    {
     "name": "stderr",
     "output_type": "stream",
     "text": [
      "2025-02-17 12:21:51,601 - INFO - Fetching data for MCD - 2025-01\n"
     ]
    },
    {
     "name": "stdout",
     "output_type": "stream",
     "text": [
      "2025-02-17 12:21:53,921 - __main__ - INFO - Retrieved 11751 data points for 2025-01\n"
     ]
    },
    {
     "name": "stderr",
     "output_type": "stream",
     "text": [
      "2025-02-17 12:21:53,921 - INFO - Retrieved 11751 data points for 2025-01\n"
     ]
    },
    {
     "name": "stdout",
     "output_type": "stream",
     "text": [
      "2025-02-17 12:21:53,922 - __main__ - INFO - Fetching data for MCD - 2024-12\n"
     ]
    },
    {
     "name": "stderr",
     "output_type": "stream",
     "text": [
      "2025-02-17 12:21:53,922 - INFO - Fetching data for MCD - 2024-12\n"
     ]
    },
    {
     "name": "stdout",
     "output_type": "stream",
     "text": [
      "2025-02-17 12:21:56,250 - __main__ - INFO - Retrieved 11993 data points for 2024-12\n"
     ]
    },
    {
     "name": "stderr",
     "output_type": "stream",
     "text": [
      "2025-02-17 12:21:56,250 - INFO - Retrieved 11993 data points for 2024-12\n"
     ]
    },
    {
     "name": "stdout",
     "output_type": "stream",
     "text": [
      "2025-02-17 12:21:56,251 - __main__ - INFO - Fetching data for MCD - 2024-11\n"
     ]
    },
    {
     "name": "stderr",
     "output_type": "stream",
     "text": [
      "2025-02-17 12:21:56,251 - INFO - Fetching data for MCD - 2024-11\n"
     ]
    },
    {
     "name": "stdout",
     "output_type": "stream",
     "text": [
      "2025-02-17 12:21:58,776 - __main__ - INFO - Retrieved 12563 data points for 2024-11\n"
     ]
    },
    {
     "name": "stderr",
     "output_type": "stream",
     "text": [
      "2025-02-17 12:21:58,776 - INFO - Retrieved 12563 data points for 2024-11\n"
     ]
    },
    {
     "name": "stdout",
     "output_type": "stream",
     "text": [
      "2025-02-17 12:21:58,777 - __main__ - INFO - Fetching data for MCD - 2024-10\n"
     ]
    },
    {
     "name": "stderr",
     "output_type": "stream",
     "text": [
      "2025-02-17 12:21:58,777 - INFO - Fetching data for MCD - 2024-10\n"
     ]
    },
    {
     "name": "stdout",
     "output_type": "stream",
     "text": [
      "2025-02-17 12:22:01,638 - __main__ - INFO - Retrieved 14514 data points for 2024-10\n"
     ]
    },
    {
     "name": "stderr",
     "output_type": "stream",
     "text": [
      "2025-02-17 12:22:01,638 - INFO - Retrieved 14514 data points for 2024-10\n"
     ]
    },
    {
     "name": "stdout",
     "output_type": "stream",
     "text": [
      "2025-02-17 12:22:01,638 - __main__ - INFO - Fetching data for MCD - 2024-09\n"
     ]
    },
    {
     "name": "stderr",
     "output_type": "stream",
     "text": [
      "2025-02-17 12:22:01,638 - INFO - Fetching data for MCD - 2024-09\n"
     ]
    },
    {
     "name": "stdout",
     "output_type": "stream",
     "text": [
      "2025-02-17 12:22:04,844 - __main__ - INFO - Retrieved 10782 data points for 2024-09\n"
     ]
    },
    {
     "name": "stderr",
     "output_type": "stream",
     "text": [
      "2025-02-17 12:22:04,844 - INFO - Retrieved 10782 data points for 2024-09\n"
     ]
    },
    {
     "name": "stdout",
     "output_type": "stream",
     "text": [
      "2025-02-17 12:22:04,845 - __main__ - INFO - Fetching data for MCD - 2024-08\n"
     ]
    },
    {
     "name": "stderr",
     "output_type": "stream",
     "text": [
      "2025-02-17 12:22:04,845 - INFO - Fetching data for MCD - 2024-08\n"
     ]
    },
    {
     "name": "stdout",
     "output_type": "stream",
     "text": [
      "2025-02-17 12:22:07,362 - __main__ - INFO - Retrieved 12884 data points for 2024-08\n"
     ]
    },
    {
     "name": "stderr",
     "output_type": "stream",
     "text": [
      "2025-02-17 12:22:07,362 - INFO - Retrieved 12884 data points for 2024-08\n"
     ]
    },
    {
     "name": "stdout",
     "output_type": "stream",
     "text": [
      "2025-02-17 12:22:07,363 - __main__ - INFO - Fetching data for MCD - 2024-07\n"
     ]
    },
    {
     "name": "stderr",
     "output_type": "stream",
     "text": [
      "2025-02-17 12:22:07,363 - INFO - Fetching data for MCD - 2024-07\n"
     ]
    },
    {
     "name": "stdout",
     "output_type": "stream",
     "text": [
      "2025-02-17 12:22:10,189 - __main__ - INFO - Retrieved 15289 data points for 2024-07\n"
     ]
    },
    {
     "name": "stderr",
     "output_type": "stream",
     "text": [
      "2025-02-17 12:22:10,189 - INFO - Retrieved 15289 data points for 2024-07\n"
     ]
    },
    {
     "name": "stdout",
     "output_type": "stream",
     "text": [
      "2025-02-17 12:22:10,190 - __main__ - INFO - Fetching data for MCD - 2024-06\n"
     ]
    },
    {
     "name": "stderr",
     "output_type": "stream",
     "text": [
      "2025-02-17 12:22:10,190 - INFO - Fetching data for MCD - 2024-06\n"
     ]
    },
    {
     "name": "stdout",
     "output_type": "stream",
     "text": [
      "2025-02-17 12:22:12,759 - __main__ - INFO - Retrieved 12450 data points for 2024-06\n"
     ]
    },
    {
     "name": "stderr",
     "output_type": "stream",
     "text": [
      "2025-02-17 12:22:12,759 - INFO - Retrieved 12450 data points for 2024-06\n"
     ]
    },
    {
     "name": "stdout",
     "output_type": "stream",
     "text": [
      "2025-02-17 12:22:12,760 - __main__ - INFO - Fetching data for MCD - 2024-05\n"
     ]
    },
    {
     "name": "stderr",
     "output_type": "stream",
     "text": [
      "2025-02-17 12:22:12,760 - INFO - Fetching data for MCD - 2024-05\n"
     ]
    },
    {
     "name": "stdout",
     "output_type": "stream",
     "text": [
      "2025-02-17 12:22:13,857 - __main__ - INFO - Retrieved 13725 data points for 2024-05\n"
     ]
    },
    {
     "name": "stderr",
     "output_type": "stream",
     "text": [
      "2025-02-17 12:22:13,857 - INFO - Retrieved 13725 data points for 2024-05\n"
     ]
    },
    {
     "name": "stdout",
     "output_type": "stream",
     "text": [
      "2025-02-17 12:22:13,857 - __main__ - INFO - Fetching data for MCD - 2024-04\n"
     ]
    },
    {
     "name": "stderr",
     "output_type": "stream",
     "text": [
      "2025-02-17 12:22:13,857 - INFO - Fetching data for MCD - 2024-04\n"
     ]
    },
    {
     "name": "stdout",
     "output_type": "stream",
     "text": [
      "2025-02-17 12:22:16,710 - __main__ - INFO - Retrieved 12919 data points for 2024-04\n"
     ]
    },
    {
     "name": "stderr",
     "output_type": "stream",
     "text": [
      "2025-02-17 12:22:16,710 - INFO - Retrieved 12919 data points for 2024-04\n"
     ]
    },
    {
     "name": "stdout",
     "output_type": "stream",
     "text": [
      "2025-02-17 12:22:16,711 - __main__ - INFO - Fetching data for MCD - 2024-03\n"
     ]
    },
    {
     "name": "stderr",
     "output_type": "stream",
     "text": [
      "2025-02-17 12:22:16,711 - INFO - Fetching data for MCD - 2024-03\n"
     ]
    },
    {
     "name": "stdout",
     "output_type": "stream",
     "text": [
      "2025-02-17 12:22:19,036 - __main__ - INFO - Retrieved 11045 data points for 2024-03\n"
     ]
    },
    {
     "name": "stderr",
     "output_type": "stream",
     "text": [
      "2025-02-17 12:22:19,036 - INFO - Retrieved 11045 data points for 2024-03\n"
     ]
    },
    {
     "name": "stdout",
     "output_type": "stream",
     "text": [
      "2025-02-17 12:22:19,037 - __main__ - INFO - Writing data to /Users/benpfeffer/Desktop/CODE/volatility-strategy/db/cache/market_data/MCD_1min.csv\n"
     ]
    },
    {
     "name": "stderr",
     "output_type": "stream",
     "text": [
      "2025-02-17 12:22:19,037 - INFO - Writing data to /Users/benpfeffer/Desktop/CODE/volatility-strategy/db/cache/market_data/MCD_1min.csv\n"
     ]
    },
    {
     "name": "stdout",
     "output_type": "stream",
     "text": [
      "2025-02-17 12:22:19,041 - __main__ - INFO - Data fetch completed successfully\n"
     ]
    },
    {
     "name": "stderr",
     "output_type": "stream",
     "text": [
      "2025-02-17 12:22:19,041 - INFO - Data fetch completed successfully\n"
     ]
    },
    {
     "name": "stdout",
     "output_type": "stream",
     "text": [
      "2025-02-17 12:22:19,043 - __main__ - INFO - Starting data fetch for MRK with 1min interval\n"
     ]
    },
    {
     "name": "stderr",
     "output_type": "stream",
     "text": [
      "2025-02-17 12:22:19,043 - INFO - Starting data fetch for MRK with 1min interval\n"
     ]
    },
    {
     "name": "stdout",
     "output_type": "stream",
     "text": [
      "2025-02-17 12:22:19,044 - __main__ - INFO - Using 1min interval - fetching data month by month for past year\n"
     ]
    },
    {
     "name": "stderr",
     "output_type": "stream",
     "text": [
      "2025-02-17 12:22:19,044 - INFO - Using 1min interval - fetching data month by month for past year\n"
     ]
    },
    {
     "name": "stdout",
     "output_type": "stream",
     "text": [
      "2025-02-17 12:22:19,044 - __main__ - INFO - Will fetch data for months: ['2025-02', '2025-01', '2024-12', '2024-11', '2024-10', '2024-09', '2024-08', '2024-07', '2024-06', '2024-05', '2024-04', '2024-03']\n"
     ]
    },
    {
     "name": "stderr",
     "output_type": "stream",
     "text": [
      "2025-02-17 12:22:19,044 - INFO - Will fetch data for months: ['2025-02', '2025-01', '2024-12', '2024-11', '2024-10', '2024-09', '2024-08', '2024-07', '2024-06', '2024-05', '2024-04', '2024-03']\n"
     ]
    },
    {
     "name": "stdout",
     "output_type": "stream",
     "text": [
      "2025-02-17 12:22:19,045 - __main__ - INFO - Fetching data for MRK - 2025-02\n"
     ]
    },
    {
     "name": "stderr",
     "output_type": "stream",
     "text": [
      "2025-02-17 12:22:19,045 - INFO - Fetching data for MRK - 2025-02\n"
     ]
    },
    {
     "name": "stdout",
     "output_type": "stream",
     "text": [
      "2025-02-17 12:22:21,492 - __main__ - INFO - Retrieved 7942 data points for 2025-02\n"
     ]
    },
    {
     "name": "stderr",
     "output_type": "stream",
     "text": [
      "2025-02-17 12:22:21,492 - INFO - Retrieved 7942 data points for 2025-02\n"
     ]
    },
    {
     "name": "stdout",
     "output_type": "stream",
     "text": [
      "2025-02-17 12:22:21,493 - __main__ - INFO - Fetching data for MRK - 2025-01\n"
     ]
    },
    {
     "name": "stderr",
     "output_type": "stream",
     "text": [
      "2025-02-17 12:22:21,493 - INFO - Fetching data for MRK - 2025-01\n"
     ]
    },
    {
     "name": "stdout",
     "output_type": "stream",
     "text": [
      "2025-02-17 12:22:23,832 - __main__ - INFO - Retrieved 12416 data points for 2025-01\n"
     ]
    },
    {
     "name": "stderr",
     "output_type": "stream",
     "text": [
      "2025-02-17 12:22:23,832 - INFO - Retrieved 12416 data points for 2025-01\n"
     ]
    },
    {
     "name": "stdout",
     "output_type": "stream",
     "text": [
      "2025-02-17 12:22:23,833 - __main__ - INFO - Fetching data for MRK - 2024-12\n"
     ]
    },
    {
     "name": "stderr",
     "output_type": "stream",
     "text": [
      "2025-02-17 12:22:23,833 - INFO - Fetching data for MRK - 2024-12\n"
     ]
    },
    {
     "name": "stdout",
     "output_type": "stream",
     "text": [
      "2025-02-17 12:22:26,209 - __main__ - INFO - Retrieved 12792 data points for 2024-12\n"
     ]
    },
    {
     "name": "stderr",
     "output_type": "stream",
     "text": [
      "2025-02-17 12:22:26,209 - INFO - Retrieved 12792 data points for 2024-12\n"
     ]
    },
    {
     "name": "stdout",
     "output_type": "stream",
     "text": [
      "2025-02-17 12:22:26,210 - __main__ - INFO - Fetching data for MRK - 2024-11\n"
     ]
    },
    {
     "name": "stderr",
     "output_type": "stream",
     "text": [
      "2025-02-17 12:22:26,210 - INFO - Fetching data for MRK - 2024-11\n"
     ]
    },
    {
     "name": "stdout",
     "output_type": "stream",
     "text": [
      "2025-02-17 12:22:28,705 - __main__ - INFO - Retrieved 13050 data points for 2024-11\n"
     ]
    },
    {
     "name": "stderr",
     "output_type": "stream",
     "text": [
      "2025-02-17 12:22:28,705 - INFO - Retrieved 13050 data points for 2024-11\n"
     ]
    },
    {
     "name": "stdout",
     "output_type": "stream",
     "text": [
      "2025-02-17 12:22:28,706 - __main__ - INFO - Fetching data for MRK - 2024-10\n"
     ]
    },
    {
     "name": "stderr",
     "output_type": "stream",
     "text": [
      "2025-02-17 12:22:28,706 - INFO - Fetching data for MRK - 2024-10\n"
     ]
    },
    {
     "name": "stdout",
     "output_type": "stream",
     "text": [
      "2025-02-17 12:22:31,496 - __main__ - INFO - Retrieved 14511 data points for 2024-10\n"
     ]
    },
    {
     "name": "stderr",
     "output_type": "stream",
     "text": [
      "2025-02-17 12:22:31,496 - INFO - Retrieved 14511 data points for 2024-10\n"
     ]
    },
    {
     "name": "stdout",
     "output_type": "stream",
     "text": [
      "2025-02-17 12:22:31,497 - __main__ - INFO - Fetching data for MRK - 2024-09\n"
     ]
    },
    {
     "name": "stderr",
     "output_type": "stream",
     "text": [
      "2025-02-17 12:22:31,497 - INFO - Fetching data for MRK - 2024-09\n"
     ]
    },
    {
     "name": "stdout",
     "output_type": "stream",
     "text": [
      "2025-02-17 12:22:33,910 - __main__ - INFO - Retrieved 11287 data points for 2024-09\n"
     ]
    },
    {
     "name": "stderr",
     "output_type": "stream",
     "text": [
      "2025-02-17 12:22:33,910 - INFO - Retrieved 11287 data points for 2024-09\n"
     ]
    },
    {
     "name": "stdout",
     "output_type": "stream",
     "text": [
      "2025-02-17 12:22:33,911 - __main__ - INFO - Fetching data for MRK - 2024-08\n"
     ]
    },
    {
     "name": "stderr",
     "output_type": "stream",
     "text": [
      "2025-02-17 12:22:33,911 - INFO - Fetching data for MRK - 2024-08\n"
     ]
    },
    {
     "name": "stdout",
     "output_type": "stream",
     "text": [
      "2025-02-17 12:22:36,413 - __main__ - INFO - Retrieved 12919 data points for 2024-08\n"
     ]
    },
    {
     "name": "stderr",
     "output_type": "stream",
     "text": [
      "2025-02-17 12:22:36,413 - INFO - Retrieved 12919 data points for 2024-08\n"
     ]
    },
    {
     "name": "stdout",
     "output_type": "stream",
     "text": [
      "2025-02-17 12:22:36,414 - __main__ - INFO - Fetching data for MRK - 2024-07\n"
     ]
    },
    {
     "name": "stderr",
     "output_type": "stream",
     "text": [
      "2025-02-17 12:22:36,414 - INFO - Fetching data for MRK - 2024-07\n"
     ]
    },
    {
     "name": "stdout",
     "output_type": "stream",
     "text": [
      "2025-02-17 12:22:38,883 - __main__ - INFO - Retrieved 11975 data points for 2024-07\n"
     ]
    },
    {
     "name": "stderr",
     "output_type": "stream",
     "text": [
      "2025-02-17 12:22:38,883 - INFO - Retrieved 11975 data points for 2024-07\n"
     ]
    },
    {
     "name": "stdout",
     "output_type": "stream",
     "text": [
      "2025-02-17 12:22:38,884 - __main__ - INFO - Fetching data for MRK - 2024-06\n"
     ]
    },
    {
     "name": "stderr",
     "output_type": "stream",
     "text": [
      "2025-02-17 12:22:38,884 - INFO - Fetching data for MRK - 2024-06\n"
     ]
    },
    {
     "name": "stdout",
     "output_type": "stream",
     "text": [
      "2025-02-17 12:22:41,041 - __main__ - INFO - Retrieved 10103 data points for 2024-06\n"
     ]
    },
    {
     "name": "stderr",
     "output_type": "stream",
     "text": [
      "2025-02-17 12:22:41,041 - INFO - Retrieved 10103 data points for 2024-06\n"
     ]
    },
    {
     "name": "stdout",
     "output_type": "stream",
     "text": [
      "2025-02-17 12:22:41,042 - __main__ - INFO - Fetching data for MRK - 2024-05\n"
     ]
    },
    {
     "name": "stderr",
     "output_type": "stream",
     "text": [
      "2025-02-17 12:22:41,042 - INFO - Fetching data for MRK - 2024-05\n"
     ]
    },
    {
     "name": "stdout",
     "output_type": "stream",
     "text": [
      "2025-02-17 12:22:43,132 - __main__ - INFO - Retrieved 11030 data points for 2024-05\n"
     ]
    },
    {
     "name": "stderr",
     "output_type": "stream",
     "text": [
      "2025-02-17 12:22:43,132 - INFO - Retrieved 11030 data points for 2024-05\n"
     ]
    },
    {
     "name": "stdout",
     "output_type": "stream",
     "text": [
      "2025-02-17 12:22:43,132 - __main__ - INFO - Fetching data for MRK - 2024-04\n"
     ]
    },
    {
     "name": "stderr",
     "output_type": "stream",
     "text": [
      "2025-02-17 12:22:43,132 - INFO - Fetching data for MRK - 2024-04\n"
     ]
    },
    {
     "name": "stdout",
     "output_type": "stream",
     "text": [
      "2025-02-17 12:22:45,330 - __main__ - INFO - Retrieved 11211 data points for 2024-04\n"
     ]
    },
    {
     "name": "stderr",
     "output_type": "stream",
     "text": [
      "2025-02-17 12:22:45,330 - INFO - Retrieved 11211 data points for 2024-04\n"
     ]
    },
    {
     "name": "stdout",
     "output_type": "stream",
     "text": [
      "2025-02-17 12:22:45,331 - __main__ - INFO - Fetching data for MRK - 2024-03\n"
     ]
    },
    {
     "name": "stderr",
     "output_type": "stream",
     "text": [
      "2025-02-17 12:22:45,331 - INFO - Fetching data for MRK - 2024-03\n"
     ]
    },
    {
     "name": "stdout",
     "output_type": "stream",
     "text": [
      "2025-02-17 12:22:47,497 - __main__ - INFO - Retrieved 10825 data points for 2024-03\n"
     ]
    },
    {
     "name": "stderr",
     "output_type": "stream",
     "text": [
      "2025-02-17 12:22:47,497 - INFO - Retrieved 10825 data points for 2024-03\n"
     ]
    },
    {
     "name": "stdout",
     "output_type": "stream",
     "text": [
      "2025-02-17 12:22:47,498 - __main__ - INFO - Writing data to /Users/benpfeffer/Desktop/CODE/volatility-strategy/db/cache/market_data/MRK_1min.csv\n"
     ]
    },
    {
     "name": "stderr",
     "output_type": "stream",
     "text": [
      "2025-02-17 12:22:47,498 - INFO - Writing data to /Users/benpfeffer/Desktop/CODE/volatility-strategy/db/cache/market_data/MRK_1min.csv\n"
     ]
    },
    {
     "name": "stdout",
     "output_type": "stream",
     "text": [
      "2025-02-17 12:22:47,502 - __main__ - INFO - Data fetch completed successfully\n"
     ]
    },
    {
     "name": "stderr",
     "output_type": "stream",
     "text": [
      "2025-02-17 12:22:47,502 - INFO - Data fetch completed successfully\n"
     ]
    },
    {
     "name": "stdout",
     "output_type": "stream",
     "text": [
      "2025-02-17 12:22:47,504 - __main__ - INFO - Starting data fetch for MSFT with 1min interval\n"
     ]
    },
    {
     "name": "stderr",
     "output_type": "stream",
     "text": [
      "2025-02-17 12:22:47,504 - INFO - Starting data fetch for MSFT with 1min interval\n"
     ]
    },
    {
     "name": "stdout",
     "output_type": "stream",
     "text": [
      "2025-02-17 12:22:47,504 - __main__ - INFO - Using 1min interval - fetching data month by month for past year\n"
     ]
    },
    {
     "name": "stderr",
     "output_type": "stream",
     "text": [
      "2025-02-17 12:22:47,504 - INFO - Using 1min interval - fetching data month by month for past year\n"
     ]
    },
    {
     "name": "stdout",
     "output_type": "stream",
     "text": [
      "2025-02-17 12:22:47,505 - __main__ - INFO - Will fetch data for months: ['2025-02', '2025-01', '2024-12', '2024-11', '2024-10', '2024-09', '2024-08', '2024-07', '2024-06', '2024-05', '2024-04', '2024-03']\n"
     ]
    },
    {
     "name": "stderr",
     "output_type": "stream",
     "text": [
      "2025-02-17 12:22:47,505 - INFO - Will fetch data for months: ['2025-02', '2025-01', '2024-12', '2024-11', '2024-10', '2024-09', '2024-08', '2024-07', '2024-06', '2024-05', '2024-04', '2024-03']\n"
     ]
    },
    {
     "name": "stdout",
     "output_type": "stream",
     "text": [
      "2025-02-17 12:22:47,505 - __main__ - INFO - Fetching data for MSFT - 2025-02\n"
     ]
    },
    {
     "name": "stderr",
     "output_type": "stream",
     "text": [
      "2025-02-17 12:22:47,505 - INFO - Fetching data for MSFT - 2025-02\n"
     ]
    },
    {
     "name": "stdout",
     "output_type": "stream",
     "text": [
      "2025-02-17 12:22:48,462 - __main__ - INFO - Retrieved 9577 data points for 2025-02\n"
     ]
    },
    {
     "name": "stderr",
     "output_type": "stream",
     "text": [
      "2025-02-17 12:22:48,462 - INFO - Retrieved 9577 data points for 2025-02\n"
     ]
    },
    {
     "name": "stdout",
     "output_type": "stream",
     "text": [
      "2025-02-17 12:22:48,463 - __main__ - INFO - Fetching data for MSFT - 2025-01\n"
     ]
    },
    {
     "name": "stderr",
     "output_type": "stream",
     "text": [
      "2025-02-17 12:22:48,463 - INFO - Fetching data for MSFT - 2025-01\n"
     ]
    },
    {
     "name": "stdout",
     "output_type": "stream",
     "text": [
      "2025-02-17 12:22:51,661 - __main__ - INFO - Retrieved 19100 data points for 2025-01\n"
     ]
    },
    {
     "name": "stderr",
     "output_type": "stream",
     "text": [
      "2025-02-17 12:22:51,661 - INFO - Retrieved 19100 data points for 2025-01\n"
     ]
    },
    {
     "name": "stdout",
     "output_type": "stream",
     "text": [
      "2025-02-17 12:22:51,662 - __main__ - INFO - Fetching data for MSFT - 2024-12\n"
     ]
    },
    {
     "name": "stderr",
     "output_type": "stream",
     "text": [
      "2025-02-17 12:22:51,662 - INFO - Fetching data for MSFT - 2024-12\n"
     ]
    },
    {
     "name": "stdout",
     "output_type": "stream",
     "text": [
      "2025-02-17 12:22:54,735 - __main__ - INFO - Retrieved 19866 data points for 2024-12\n"
     ]
    },
    {
     "name": "stderr",
     "output_type": "stream",
     "text": [
      "2025-02-17 12:22:54,735 - INFO - Retrieved 19866 data points for 2024-12\n"
     ]
    },
    {
     "name": "stdout",
     "output_type": "stream",
     "text": [
      "2025-02-17 12:22:54,736 - __main__ - INFO - Fetching data for MSFT - 2024-11\n"
     ]
    },
    {
     "name": "stderr",
     "output_type": "stream",
     "text": [
      "2025-02-17 12:22:54,736 - INFO - Fetching data for MSFT - 2024-11\n"
     ]
    },
    {
     "name": "stdout",
     "output_type": "stream",
     "text": [
      "2025-02-17 12:22:57,876 - __main__ - INFO - Retrieved 18946 data points for 2024-11\n"
     ]
    },
    {
     "name": "stderr",
     "output_type": "stream",
     "text": [
      "2025-02-17 12:22:57,876 - INFO - Retrieved 18946 data points for 2024-11\n"
     ]
    },
    {
     "name": "stdout",
     "output_type": "stream",
     "text": [
      "2025-02-17 12:22:57,877 - __main__ - INFO - Fetching data for MSFT - 2024-10\n"
     ]
    },
    {
     "name": "stderr",
     "output_type": "stream",
     "text": [
      "2025-02-17 12:22:57,877 - INFO - Fetching data for MSFT - 2024-10\n"
     ]
    },
    {
     "name": "stdout",
     "output_type": "stream",
     "text": [
      "2025-02-17 12:23:02,419 - __main__ - INFO - Retrieved 21864 data points for 2024-10\n"
     ]
    },
    {
     "name": "stderr",
     "output_type": "stream",
     "text": [
      "2025-02-17 12:23:02,419 - INFO - Retrieved 21864 data points for 2024-10\n"
     ]
    },
    {
     "name": "stdout",
     "output_type": "stream",
     "text": [
      "2025-02-17 12:23:02,420 - __main__ - INFO - Fetching data for MSFT - 2024-09\n"
     ]
    },
    {
     "name": "stderr",
     "output_type": "stream",
     "text": [
      "2025-02-17 12:23:02,420 - INFO - Fetching data for MSFT - 2024-09\n"
     ]
    },
    {
     "name": "stdout",
     "output_type": "stream",
     "text": [
      "2025-02-17 12:23:05,898 - __main__ - INFO - Retrieved 18918 data points for 2024-09\n"
     ]
    },
    {
     "name": "stderr",
     "output_type": "stream",
     "text": [
      "2025-02-17 12:23:05,898 - INFO - Retrieved 18918 data points for 2024-09\n"
     ]
    },
    {
     "name": "stdout",
     "output_type": "stream",
     "text": [
      "2025-02-17 12:23:05,900 - __main__ - INFO - Fetching data for MSFT - 2024-08\n"
     ]
    },
    {
     "name": "stderr",
     "output_type": "stream",
     "text": [
      "2025-02-17 12:23:05,900 - INFO - Fetching data for MSFT - 2024-08\n"
     ]
    },
    {
     "name": "stdout",
     "output_type": "stream",
     "text": [
      "2025-02-17 12:23:09,589 - __main__ - INFO - Retrieved 20941 data points for 2024-08\n"
     ]
    },
    {
     "name": "stderr",
     "output_type": "stream",
     "text": [
      "2025-02-17 12:23:09,589 - INFO - Retrieved 20941 data points for 2024-08\n"
     ]
    },
    {
     "name": "stdout",
     "output_type": "stream",
     "text": [
      "2025-02-17 12:23:09,590 - __main__ - INFO - Fetching data for MSFT - 2024-07\n"
     ]
    },
    {
     "name": "stderr",
     "output_type": "stream",
     "text": [
      "2025-02-17 12:23:09,590 - INFO - Fetching data for MSFT - 2024-07\n"
     ]
    },
    {
     "name": "stdout",
     "output_type": "stream",
     "text": [
      "2025-02-17 12:23:12,987 - __main__ - INFO - Retrieved 20811 data points for 2024-07\n"
     ]
    },
    {
     "name": "stderr",
     "output_type": "stream",
     "text": [
      "2025-02-17 12:23:12,987 - INFO - Retrieved 20811 data points for 2024-07\n"
     ]
    },
    {
     "name": "stdout",
     "output_type": "stream",
     "text": [
      "2025-02-17 12:23:12,988 - __main__ - INFO - Fetching data for MSFT - 2024-06\n"
     ]
    },
    {
     "name": "stderr",
     "output_type": "stream",
     "text": [
      "2025-02-17 12:23:12,988 - INFO - Fetching data for MSFT - 2024-06\n"
     ]
    },
    {
     "name": "stdout",
     "output_type": "stream",
     "text": [
      "2025-02-17 12:23:15,933 - __main__ - INFO - Retrieved 18031 data points for 2024-06\n"
     ]
    },
    {
     "name": "stderr",
     "output_type": "stream",
     "text": [
      "2025-02-17 12:23:15,933 - INFO - Retrieved 18031 data points for 2024-06\n"
     ]
    },
    {
     "name": "stdout",
     "output_type": "stream",
     "text": [
      "2025-02-17 12:23:15,933 - __main__ - INFO - Fetching data for MSFT - 2024-05\n"
     ]
    },
    {
     "name": "stderr",
     "output_type": "stream",
     "text": [
      "2025-02-17 12:23:15,933 - INFO - Fetching data for MSFT - 2024-05\n"
     ]
    },
    {
     "name": "stdout",
     "output_type": "stream",
     "text": [
      "2025-02-17 12:23:19,605 - __main__ - INFO - Retrieved 20795 data points for 2024-05\n"
     ]
    },
    {
     "name": "stderr",
     "output_type": "stream",
     "text": [
      "2025-02-17 12:23:19,605 - INFO - Retrieved 20795 data points for 2024-05\n"
     ]
    },
    {
     "name": "stdout",
     "output_type": "stream",
     "text": [
      "2025-02-17 12:23:19,606 - __main__ - INFO - Fetching data for MSFT - 2024-04\n"
     ]
    },
    {
     "name": "stderr",
     "output_type": "stream",
     "text": [
      "2025-02-17 12:23:19,606 - INFO - Fetching data for MSFT - 2024-04\n"
     ]
    },
    {
     "name": "stdout",
     "output_type": "stream",
     "text": [
      "2025-02-17 12:23:22,947 - __main__ - INFO - Retrieved 20829 data points for 2024-04\n"
     ]
    },
    {
     "name": "stderr",
     "output_type": "stream",
     "text": [
      "2025-02-17 12:23:22,947 - INFO - Retrieved 20829 data points for 2024-04\n"
     ]
    },
    {
     "name": "stdout",
     "output_type": "stream",
     "text": [
      "2025-02-17 12:23:22,948 - __main__ - INFO - Fetching data for MSFT - 2024-03\n"
     ]
    },
    {
     "name": "stderr",
     "output_type": "stream",
     "text": [
      "2025-02-17 12:23:22,948 - INFO - Fetching data for MSFT - 2024-03\n"
     ]
    },
    {
     "name": "stdout",
     "output_type": "stream",
     "text": [
      "2025-02-17 12:23:26,243 - __main__ - INFO - Retrieved 19027 data points for 2024-03\n"
     ]
    },
    {
     "name": "stderr",
     "output_type": "stream",
     "text": [
      "2025-02-17 12:23:26,243 - INFO - Retrieved 19027 data points for 2024-03\n"
     ]
    },
    {
     "name": "stdout",
     "output_type": "stream",
     "text": [
      "2025-02-17 12:23:26,244 - __main__ - INFO - Writing data to /Users/benpfeffer/Desktop/CODE/volatility-strategy/db/cache/market_data/MSFT_1min.csv\n"
     ]
    },
    {
     "name": "stderr",
     "output_type": "stream",
     "text": [
      "2025-02-17 12:23:26,244 - INFO - Writing data to /Users/benpfeffer/Desktop/CODE/volatility-strategy/db/cache/market_data/MSFT_1min.csv\n"
     ]
    },
    {
     "name": "stdout",
     "output_type": "stream",
     "text": [
      "2025-02-17 12:23:26,249 - __main__ - INFO - Data fetch completed successfully\n"
     ]
    },
    {
     "name": "stderr",
     "output_type": "stream",
     "text": [
      "2025-02-17 12:23:26,249 - INFO - Data fetch completed successfully\n"
     ]
    },
    {
     "name": "stdout",
     "output_type": "stream",
     "text": [
      "2025-02-17 12:23:26,252 - __main__ - INFO - Starting data fetch for NSRGY with 1min interval\n"
     ]
    },
    {
     "name": "stderr",
     "output_type": "stream",
     "text": [
      "2025-02-17 12:23:26,252 - INFO - Starting data fetch for NSRGY with 1min interval\n"
     ]
    },
    {
     "name": "stdout",
     "output_type": "stream",
     "text": [
      "2025-02-17 12:23:26,253 - __main__ - INFO - Using 1min interval - fetching data month by month for past year\n"
     ]
    },
    {
     "name": "stderr",
     "output_type": "stream",
     "text": [
      "2025-02-17 12:23:26,253 - INFO - Using 1min interval - fetching data month by month for past year\n"
     ]
    },
    {
     "name": "stdout",
     "output_type": "stream",
     "text": [
      "2025-02-17 12:23:26,253 - __main__ - INFO - Will fetch data for months: ['2025-02', '2025-01', '2024-12', '2024-11', '2024-10', '2024-09', '2024-08', '2024-07', '2024-06', '2024-05', '2024-04', '2024-03']\n"
     ]
    },
    {
     "name": "stderr",
     "output_type": "stream",
     "text": [
      "2025-02-17 12:23:26,253 - INFO - Will fetch data for months: ['2025-02', '2025-01', '2024-12', '2024-11', '2024-10', '2024-09', '2024-08', '2024-07', '2024-06', '2024-05', '2024-04', '2024-03']\n"
     ]
    },
    {
     "name": "stdout",
     "output_type": "stream",
     "text": [
      "2025-02-17 12:23:26,254 - __main__ - INFO - Fetching data for NSRGY - 2025-02\n"
     ]
    },
    {
     "name": "stderr",
     "output_type": "stream",
     "text": [
      "2025-02-17 12:23:26,254 - INFO - Fetching data for NSRGY - 2025-02\n"
     ]
    },
    {
     "name": "stdout",
     "output_type": "stream",
     "text": [
      "2025-02-17 12:23:26,421 - __main__ - INFO - Retrieved 2 data points for 2025-02\n"
     ]
    },
    {
     "name": "stderr",
     "output_type": "stream",
     "text": [
      "2025-02-17 12:23:26,421 - INFO - Retrieved 2 data points for 2025-02\n"
     ]
    },
    {
     "name": "stdout",
     "output_type": "stream",
     "text": [
      "2025-02-17 12:23:26,422 - __main__ - INFO - Fetching data for NSRGY - 2025-01\n"
     ]
    },
    {
     "name": "stderr",
     "output_type": "stream",
     "text": [
      "2025-02-17 12:23:26,422 - INFO - Fetching data for NSRGY - 2025-01\n"
     ]
    },
    {
     "name": "stdout",
     "output_type": "stream",
     "text": [
      "2025-02-17 12:23:26,576 - __main__ - INFO - Retrieved 2 data points for 2025-01\n"
     ]
    },
    {
     "name": "stderr",
     "output_type": "stream",
     "text": [
      "2025-02-17 12:23:26,576 - INFO - Retrieved 2 data points for 2025-01\n"
     ]
    },
    {
     "name": "stdout",
     "output_type": "stream",
     "text": [
      "2025-02-17 12:23:26,577 - __main__ - INFO - Fetching data for NSRGY - 2024-12\n"
     ]
    },
    {
     "name": "stderr",
     "output_type": "stream",
     "text": [
      "2025-02-17 12:23:26,577 - INFO - Fetching data for NSRGY - 2024-12\n"
     ]
    },
    {
     "name": "stdout",
     "output_type": "stream",
     "text": [
      "2025-02-17 12:23:26,755 - __main__ - INFO - Retrieved 2 data points for 2024-12\n"
     ]
    },
    {
     "name": "stderr",
     "output_type": "stream",
     "text": [
      "2025-02-17 12:23:26,755 - INFO - Retrieved 2 data points for 2024-12\n"
     ]
    },
    {
     "name": "stdout",
     "output_type": "stream",
     "text": [
      "2025-02-17 12:23:26,756 - __main__ - INFO - Fetching data for NSRGY - 2024-11\n"
     ]
    },
    {
     "name": "stderr",
     "output_type": "stream",
     "text": [
      "2025-02-17 12:23:26,756 - INFO - Fetching data for NSRGY - 2024-11\n"
     ]
    },
    {
     "name": "stdout",
     "output_type": "stream",
     "text": [
      "2025-02-17 12:23:26,928 - __main__ - INFO - Retrieved 2 data points for 2024-11\n"
     ]
    },
    {
     "name": "stderr",
     "output_type": "stream",
     "text": [
      "2025-02-17 12:23:26,928 - INFO - Retrieved 2 data points for 2024-11\n"
     ]
    },
    {
     "name": "stdout",
     "output_type": "stream",
     "text": [
      "2025-02-17 12:23:26,929 - __main__ - INFO - Fetching data for NSRGY - 2024-10\n"
     ]
    },
    {
     "name": "stderr",
     "output_type": "stream",
     "text": [
      "2025-02-17 12:23:26,929 - INFO - Fetching data for NSRGY - 2024-10\n"
     ]
    },
    {
     "name": "stdout",
     "output_type": "stream",
     "text": [
      "2025-02-17 12:23:27,094 - __main__ - INFO - Retrieved 2 data points for 2024-10\n"
     ]
    },
    {
     "name": "stderr",
     "output_type": "stream",
     "text": [
      "2025-02-17 12:23:27,094 - INFO - Retrieved 2 data points for 2024-10\n"
     ]
    },
    {
     "name": "stdout",
     "output_type": "stream",
     "text": [
      "2025-02-17 12:23:27,094 - __main__ - INFO - Fetching data for NSRGY - 2024-09\n"
     ]
    },
    {
     "name": "stderr",
     "output_type": "stream",
     "text": [
      "2025-02-17 12:23:27,094 - INFO - Fetching data for NSRGY - 2024-09\n"
     ]
    },
    {
     "name": "stdout",
     "output_type": "stream",
     "text": [
      "2025-02-17 12:23:27,233 - __main__ - INFO - Retrieved 2 data points for 2024-09\n"
     ]
    },
    {
     "name": "stderr",
     "output_type": "stream",
     "text": [
      "2025-02-17 12:23:27,233 - INFO - Retrieved 2 data points for 2024-09\n"
     ]
    },
    {
     "name": "stdout",
     "output_type": "stream",
     "text": [
      "2025-02-17 12:23:27,234 - __main__ - INFO - Fetching data for NSRGY - 2024-08\n"
     ]
    },
    {
     "name": "stderr",
     "output_type": "stream",
     "text": [
      "2025-02-17 12:23:27,234 - INFO - Fetching data for NSRGY - 2024-08\n"
     ]
    },
    {
     "name": "stdout",
     "output_type": "stream",
     "text": [
      "2025-02-17 12:23:27,376 - __main__ - INFO - Retrieved 2 data points for 2024-08\n"
     ]
    },
    {
     "name": "stderr",
     "output_type": "stream",
     "text": [
      "2025-02-17 12:23:27,376 - INFO - Retrieved 2 data points for 2024-08\n"
     ]
    },
    {
     "name": "stdout",
     "output_type": "stream",
     "text": [
      "2025-02-17 12:23:27,377 - __main__ - INFO - Fetching data for NSRGY - 2024-07\n"
     ]
    },
    {
     "name": "stderr",
     "output_type": "stream",
     "text": [
      "2025-02-17 12:23:27,377 - INFO - Fetching data for NSRGY - 2024-07\n"
     ]
    },
    {
     "name": "stdout",
     "output_type": "stream",
     "text": [
      "2025-02-17 12:23:27,533 - __main__ - INFO - Retrieved 2 data points for 2024-07\n"
     ]
    },
    {
     "name": "stderr",
     "output_type": "stream",
     "text": [
      "2025-02-17 12:23:27,533 - INFO - Retrieved 2 data points for 2024-07\n"
     ]
    },
    {
     "name": "stdout",
     "output_type": "stream",
     "text": [
      "2025-02-17 12:23:27,534 - __main__ - INFO - Fetching data for NSRGY - 2024-06\n"
     ]
    },
    {
     "name": "stderr",
     "output_type": "stream",
     "text": [
      "2025-02-17 12:23:27,534 - INFO - Fetching data for NSRGY - 2024-06\n"
     ]
    },
    {
     "name": "stdout",
     "output_type": "stream",
     "text": [
      "2025-02-17 12:23:27,848 - __main__ - INFO - Retrieved 2 data points for 2024-06\n"
     ]
    },
    {
     "name": "stderr",
     "output_type": "stream",
     "text": [
      "2025-02-17 12:23:27,848 - INFO - Retrieved 2 data points for 2024-06\n"
     ]
    },
    {
     "name": "stdout",
     "output_type": "stream",
     "text": [
      "2025-02-17 12:23:27,849 - __main__ - INFO - Fetching data for NSRGY - 2024-05\n"
     ]
    },
    {
     "name": "stderr",
     "output_type": "stream",
     "text": [
      "2025-02-17 12:23:27,849 - INFO - Fetching data for NSRGY - 2024-05\n"
     ]
    },
    {
     "name": "stdout",
     "output_type": "stream",
     "text": [
      "2025-02-17 12:23:28,156 - __main__ - INFO - Retrieved 2 data points for 2024-05\n"
     ]
    },
    {
     "name": "stderr",
     "output_type": "stream",
     "text": [
      "2025-02-17 12:23:28,156 - INFO - Retrieved 2 data points for 2024-05\n"
     ]
    },
    {
     "name": "stdout",
     "output_type": "stream",
     "text": [
      "2025-02-17 12:23:28,156 - __main__ - INFO - Fetching data for NSRGY - 2024-04\n"
     ]
    },
    {
     "name": "stderr",
     "output_type": "stream",
     "text": [
      "2025-02-17 12:23:28,156 - INFO - Fetching data for NSRGY - 2024-04\n"
     ]
    },
    {
     "name": "stdout",
     "output_type": "stream",
     "text": [
      "2025-02-17 12:23:28,286 - __main__ - INFO - Retrieved 2 data points for 2024-04\n"
     ]
    },
    {
     "name": "stderr",
     "output_type": "stream",
     "text": [
      "2025-02-17 12:23:28,286 - INFO - Retrieved 2 data points for 2024-04\n"
     ]
    },
    {
     "name": "stdout",
     "output_type": "stream",
     "text": [
      "2025-02-17 12:23:28,287 - __main__ - INFO - Fetching data for NSRGY - 2024-03\n"
     ]
    },
    {
     "name": "stderr",
     "output_type": "stream",
     "text": [
      "2025-02-17 12:23:28,287 - INFO - Fetching data for NSRGY - 2024-03\n"
     ]
    },
    {
     "name": "stdout",
     "output_type": "stream",
     "text": [
      "2025-02-17 12:23:28,450 - __main__ - INFO - Retrieved 2 data points for 2024-03\n"
     ]
    },
    {
     "name": "stderr",
     "output_type": "stream",
     "text": [
      "2025-02-17 12:23:28,450 - INFO - Retrieved 2 data points for 2024-03\n"
     ]
    },
    {
     "name": "stdout",
     "output_type": "stream",
     "text": [
      "2025-02-17 12:23:28,450 - __main__ - INFO - Writing data to /Users/benpfeffer/Desktop/CODE/volatility-strategy/db/cache/market_data/NSRGY_1min.csv\n"
     ]
    },
    {
     "name": "stderr",
     "output_type": "stream",
     "text": [
      "2025-02-17 12:23:28,450 - INFO - Writing data to /Users/benpfeffer/Desktop/CODE/volatility-strategy/db/cache/market_data/NSRGY_1min.csv\n"
     ]
    },
    {
     "name": "stdout",
     "output_type": "stream",
     "text": [
      "2025-02-17 12:23:28,451 - __main__ - INFO - Data fetch completed successfully\n"
     ]
    },
    {
     "name": "stderr",
     "output_type": "stream",
     "text": [
      "2025-02-17 12:23:28,451 - INFO - Data fetch completed successfully\n"
     ]
    },
    {
     "name": "stdout",
     "output_type": "stream",
     "text": [
      "2025-02-17 12:23:28,452 - __main__ - INFO - Starting data fetch for NVS with 1min interval\n"
     ]
    },
    {
     "name": "stderr",
     "output_type": "stream",
     "text": [
      "2025-02-17 12:23:28,452 - INFO - Starting data fetch for NVS with 1min interval\n"
     ]
    },
    {
     "name": "stdout",
     "output_type": "stream",
     "text": [
      "2025-02-17 12:23:28,452 - __main__ - INFO - Using 1min interval - fetching data month by month for past year\n"
     ]
    },
    {
     "name": "stderr",
     "output_type": "stream",
     "text": [
      "2025-02-17 12:23:28,452 - INFO - Using 1min interval - fetching data month by month for past year\n"
     ]
    },
    {
     "name": "stdout",
     "output_type": "stream",
     "text": [
      "2025-02-17 12:23:28,453 - __main__ - INFO - Will fetch data for months: ['2025-02', '2025-01', '2024-12', '2024-11', '2024-10', '2024-09', '2024-08', '2024-07', '2024-06', '2024-05', '2024-04', '2024-03']\n"
     ]
    },
    {
     "name": "stderr",
     "output_type": "stream",
     "text": [
      "2025-02-17 12:23:28,453 - INFO - Will fetch data for months: ['2025-02', '2025-01', '2024-12', '2024-11', '2024-10', '2024-09', '2024-08', '2024-07', '2024-06', '2024-05', '2024-04', '2024-03']\n"
     ]
    },
    {
     "name": "stdout",
     "output_type": "stream",
     "text": [
      "2025-02-17 12:23:28,453 - __main__ - INFO - Fetching data for NVS - 2025-02\n"
     ]
    },
    {
     "name": "stderr",
     "output_type": "stream",
     "text": [
      "2025-02-17 12:23:28,453 - INFO - Fetching data for NVS - 2025-02\n"
     ]
    },
    {
     "name": "stdout",
     "output_type": "stream",
     "text": [
      "2025-02-17 12:23:29,117 - __main__ - INFO - Retrieved 4573 data points for 2025-02\n"
     ]
    },
    {
     "name": "stderr",
     "output_type": "stream",
     "text": [
      "2025-02-17 12:23:29,117 - INFO - Retrieved 4573 data points for 2025-02\n"
     ]
    },
    {
     "name": "stdout",
     "output_type": "stream",
     "text": [
      "2025-02-17 12:23:29,117 - __main__ - INFO - Fetching data for NVS - 2025-01\n"
     ]
    },
    {
     "name": "stderr",
     "output_type": "stream",
     "text": [
      "2025-02-17 12:23:29,117 - INFO - Fetching data for NVS - 2025-01\n"
     ]
    },
    {
     "name": "stdout",
     "output_type": "stream",
     "text": [
      "2025-02-17 12:23:30,063 - __main__ - INFO - Retrieved 9143 data points for 2025-01\n"
     ]
    },
    {
     "name": "stderr",
     "output_type": "stream",
     "text": [
      "2025-02-17 12:23:30,063 - INFO - Retrieved 9143 data points for 2025-01\n"
     ]
    },
    {
     "name": "stdout",
     "output_type": "stream",
     "text": [
      "2025-02-17 12:23:30,064 - __main__ - INFO - Fetching data for NVS - 2024-12\n"
     ]
    },
    {
     "name": "stderr",
     "output_type": "stream",
     "text": [
      "2025-02-17 12:23:30,064 - INFO - Fetching data for NVS - 2024-12\n"
     ]
    },
    {
     "name": "stdout",
     "output_type": "stream",
     "text": [
      "2025-02-17 12:23:30,985 - __main__ - INFO - Retrieved 8950 data points for 2024-12\n"
     ]
    },
    {
     "name": "stderr",
     "output_type": "stream",
     "text": [
      "2025-02-17 12:23:30,985 - INFO - Retrieved 8950 data points for 2024-12\n"
     ]
    },
    {
     "name": "stdout",
     "output_type": "stream",
     "text": [
      "2025-02-17 12:23:30,986 - __main__ - INFO - Fetching data for NVS - 2024-11\n"
     ]
    },
    {
     "name": "stderr",
     "output_type": "stream",
     "text": [
      "2025-02-17 12:23:30,986 - INFO - Fetching data for NVS - 2024-11\n"
     ]
    },
    {
     "name": "stdout",
     "output_type": "stream",
     "text": [
      "2025-02-17 12:23:33,007 - __main__ - INFO - Retrieved 8980 data points for 2024-11\n"
     ]
    },
    {
     "name": "stderr",
     "output_type": "stream",
     "text": [
      "2025-02-17 12:23:33,007 - INFO - Retrieved 8980 data points for 2024-11\n"
     ]
    },
    {
     "name": "stdout",
     "output_type": "stream",
     "text": [
      "2025-02-17 12:23:33,008 - __main__ - INFO - Fetching data for NVS - 2024-10\n"
     ]
    },
    {
     "name": "stderr",
     "output_type": "stream",
     "text": [
      "2025-02-17 12:23:33,008 - INFO - Fetching data for NVS - 2024-10\n"
     ]
    },
    {
     "name": "stdout",
     "output_type": "stream",
     "text": [
      "2025-02-17 12:23:34,976 - __main__ - INFO - Retrieved 10206 data points for 2024-10\n"
     ]
    },
    {
     "name": "stderr",
     "output_type": "stream",
     "text": [
      "2025-02-17 12:23:34,976 - INFO - Retrieved 10206 data points for 2024-10\n"
     ]
    },
    {
     "name": "stdout",
     "output_type": "stream",
     "text": [
      "2025-02-17 12:23:34,977 - __main__ - INFO - Fetching data for NVS - 2024-09\n"
     ]
    },
    {
     "name": "stderr",
     "output_type": "stream",
     "text": [
      "2025-02-17 12:23:34,977 - INFO - Fetching data for NVS - 2024-09\n"
     ]
    },
    {
     "name": "stdout",
     "output_type": "stream",
     "text": [
      "2025-02-17 12:23:35,962 - __main__ - INFO - Retrieved 8747 data points for 2024-09\n"
     ]
    },
    {
     "name": "stderr",
     "output_type": "stream",
     "text": [
      "2025-02-17 12:23:35,962 - INFO - Retrieved 8747 data points for 2024-09\n"
     ]
    },
    {
     "name": "stdout",
     "output_type": "stream",
     "text": [
      "2025-02-17 12:23:35,962 - __main__ - INFO - Fetching data for NVS - 2024-08\n"
     ]
    },
    {
     "name": "stderr",
     "output_type": "stream",
     "text": [
      "2025-02-17 12:23:35,962 - INFO - Fetching data for NVS - 2024-08\n"
     ]
    },
    {
     "name": "stdout",
     "output_type": "stream",
     "text": [
      "2025-02-17 12:23:38,090 - __main__ - INFO - Retrieved 9509 data points for 2024-08\n"
     ]
    },
    {
     "name": "stderr",
     "output_type": "stream",
     "text": [
      "2025-02-17 12:23:38,090 - INFO - Retrieved 9509 data points for 2024-08\n"
     ]
    },
    {
     "name": "stdout",
     "output_type": "stream",
     "text": [
      "2025-02-17 12:23:38,090 - __main__ - INFO - Fetching data for NVS - 2024-07\n"
     ]
    },
    {
     "name": "stderr",
     "output_type": "stream",
     "text": [
      "2025-02-17 12:23:38,090 - INFO - Fetching data for NVS - 2024-07\n"
     ]
    },
    {
     "name": "stdout",
     "output_type": "stream",
     "text": [
      "2025-02-17 12:23:40,109 - __main__ - INFO - Retrieved 9727 data points for 2024-07\n"
     ]
    },
    {
     "name": "stderr",
     "output_type": "stream",
     "text": [
      "2025-02-17 12:23:40,109 - INFO - Retrieved 9727 data points for 2024-07\n"
     ]
    },
    {
     "name": "stdout",
     "output_type": "stream",
     "text": [
      "2025-02-17 12:23:40,110 - __main__ - INFO - Fetching data for NVS - 2024-06\n"
     ]
    },
    {
     "name": "stderr",
     "output_type": "stream",
     "text": [
      "2025-02-17 12:23:40,110 - INFO - Fetching data for NVS - 2024-06\n"
     ]
    },
    {
     "name": "stdout",
     "output_type": "stream",
     "text": [
      "2025-02-17 12:23:41,945 - __main__ - INFO - Retrieved 8164 data points for 2024-06\n"
     ]
    },
    {
     "name": "stderr",
     "output_type": "stream",
     "text": [
      "2025-02-17 12:23:41,945 - INFO - Retrieved 8164 data points for 2024-06\n"
     ]
    },
    {
     "name": "stdout",
     "output_type": "stream",
     "text": [
      "2025-02-17 12:23:41,946 - __main__ - INFO - Fetching data for NVS - 2024-05\n"
     ]
    },
    {
     "name": "stderr",
     "output_type": "stream",
     "text": [
      "2025-02-17 12:23:41,946 - INFO - Fetching data for NVS - 2024-05\n"
     ]
    },
    {
     "name": "stdout",
     "output_type": "stream",
     "text": [
      "2025-02-17 12:23:42,867 - __main__ - INFO - Retrieved 9211 data points for 2024-05\n"
     ]
    },
    {
     "name": "stderr",
     "output_type": "stream",
     "text": [
      "2025-02-17 12:23:42,867 - INFO - Retrieved 9211 data points for 2024-05\n"
     ]
    },
    {
     "name": "stdout",
     "output_type": "stream",
     "text": [
      "2025-02-17 12:23:42,867 - __main__ - INFO - Fetching data for NVS - 2024-04\n"
     ]
    },
    {
     "name": "stderr",
     "output_type": "stream",
     "text": [
      "2025-02-17 12:23:42,867 - INFO - Fetching data for NVS - 2024-04\n"
     ]
    },
    {
     "name": "stdout",
     "output_type": "stream",
     "text": [
      "2025-02-17 12:23:44,818 - __main__ - INFO - Retrieved 9847 data points for 2024-04\n"
     ]
    },
    {
     "name": "stderr",
     "output_type": "stream",
     "text": [
      "2025-02-17 12:23:44,818 - INFO - Retrieved 9847 data points for 2024-04\n"
     ]
    },
    {
     "name": "stdout",
     "output_type": "stream",
     "text": [
      "2025-02-17 12:23:44,819 - __main__ - INFO - Fetching data for NVS - 2024-03\n"
     ]
    },
    {
     "name": "stderr",
     "output_type": "stream",
     "text": [
      "2025-02-17 12:23:44,819 - INFO - Fetching data for NVS - 2024-03\n"
     ]
    },
    {
     "name": "stdout",
     "output_type": "stream",
     "text": [
      "2025-02-17 12:23:46,681 - __main__ - INFO - Retrieved 8733 data points for 2024-03\n"
     ]
    },
    {
     "name": "stderr",
     "output_type": "stream",
     "text": [
      "2025-02-17 12:23:46,681 - INFO - Retrieved 8733 data points for 2024-03\n"
     ]
    },
    {
     "name": "stdout",
     "output_type": "stream",
     "text": [
      "2025-02-17 12:23:46,682 - __main__ - INFO - Writing data to /Users/benpfeffer/Desktop/CODE/volatility-strategy/db/cache/market_data/NVS_1min.csv\n"
     ]
    },
    {
     "name": "stderr",
     "output_type": "stream",
     "text": [
      "2025-02-17 12:23:46,682 - INFO - Writing data to /Users/benpfeffer/Desktop/CODE/volatility-strategy/db/cache/market_data/NVS_1min.csv\n"
     ]
    },
    {
     "name": "stdout",
     "output_type": "stream",
     "text": [
      "2025-02-17 12:23:46,686 - __main__ - INFO - Data fetch completed successfully\n"
     ]
    },
    {
     "name": "stderr",
     "output_type": "stream",
     "text": [
      "2025-02-17 12:23:46,686 - INFO - Data fetch completed successfully\n"
     ]
    },
    {
     "name": "stdout",
     "output_type": "stream",
     "text": [
      "2025-02-17 12:23:46,687 - __main__ - INFO - Starting data fetch for NVDA with 1min interval\n"
     ]
    },
    {
     "name": "stderr",
     "output_type": "stream",
     "text": [
      "2025-02-17 12:23:46,687 - INFO - Starting data fetch for NVDA with 1min interval\n"
     ]
    },
    {
     "name": "stdout",
     "output_type": "stream",
     "text": [
      "2025-02-17 12:23:46,688 - __main__ - INFO - Using 1min interval - fetching data month by month for past year\n"
     ]
    },
    {
     "name": "stderr",
     "output_type": "stream",
     "text": [
      "2025-02-17 12:23:46,688 - INFO - Using 1min interval - fetching data month by month for past year\n"
     ]
    },
    {
     "name": "stdout",
     "output_type": "stream",
     "text": [
      "2025-02-17 12:23:46,689 - __main__ - INFO - Will fetch data for months: ['2025-02', '2025-01', '2024-12', '2024-11', '2024-10', '2024-09', '2024-08', '2024-07', '2024-06', '2024-05', '2024-04', '2024-03']\n"
     ]
    },
    {
     "name": "stderr",
     "output_type": "stream",
     "text": [
      "2025-02-17 12:23:46,689 - INFO - Will fetch data for months: ['2025-02', '2025-01', '2024-12', '2024-11', '2024-10', '2024-09', '2024-08', '2024-07', '2024-06', '2024-05', '2024-04', '2024-03']\n"
     ]
    },
    {
     "name": "stdout",
     "output_type": "stream",
     "text": [
      "2025-02-17 12:23:46,689 - __main__ - INFO - Fetching data for NVDA - 2025-02\n"
     ]
    },
    {
     "name": "stderr",
     "output_type": "stream",
     "text": [
      "2025-02-17 12:23:46,689 - INFO - Fetching data for NVDA - 2025-02\n"
     ]
    },
    {
     "name": "stdout",
     "output_type": "stream",
     "text": [
      "2025-02-17 12:23:47,433 - __main__ - INFO - Retrieved 9601 data points for 2025-02\n"
     ]
    },
    {
     "name": "stderr",
     "output_type": "stream",
     "text": [
      "2025-02-17 12:23:47,433 - INFO - Retrieved 9601 data points for 2025-02\n"
     ]
    },
    {
     "name": "stdout",
     "output_type": "stream",
     "text": [
      "2025-02-17 12:23:47,434 - __main__ - INFO - Fetching data for NVDA - 2025-01\n"
     ]
    },
    {
     "name": "stderr",
     "output_type": "stream",
     "text": [
      "2025-02-17 12:23:47,434 - INFO - Fetching data for NVDA - 2025-01\n"
     ]
    },
    {
     "name": "stdout",
     "output_type": "stream",
     "text": [
      "2025-02-17 12:23:48,467 - __main__ - INFO - Retrieved 19201 data points for 2025-01\n"
     ]
    },
    {
     "name": "stderr",
     "output_type": "stream",
     "text": [
      "2025-02-17 12:23:48,467 - INFO - Retrieved 19201 data points for 2025-01\n"
     ]
    },
    {
     "name": "stdout",
     "output_type": "stream",
     "text": [
      "2025-02-17 12:23:48,468 - __main__ - INFO - Fetching data for NVDA - 2024-12\n"
     ]
    },
    {
     "name": "stderr",
     "output_type": "stream",
     "text": [
      "2025-02-17 12:23:48,468 - INFO - Fetching data for NVDA - 2024-12\n"
     ]
    },
    {
     "name": "stdout",
     "output_type": "stream",
     "text": [
      "2025-02-17 12:23:51,641 - __main__ - INFO - Retrieved 19981 data points for 2024-12\n"
     ]
    },
    {
     "name": "stderr",
     "output_type": "stream",
     "text": [
      "2025-02-17 12:23:51,641 - INFO - Retrieved 19981 data points for 2024-12\n"
     ]
    },
    {
     "name": "stdout",
     "output_type": "stream",
     "text": [
      "2025-02-17 12:23:51,642 - __main__ - INFO - Fetching data for NVDA - 2024-11\n"
     ]
    },
    {
     "name": "stderr",
     "output_type": "stream",
     "text": [
      "2025-02-17 12:23:51,642 - INFO - Fetching data for NVDA - 2024-11\n"
     ]
    },
    {
     "name": "stdout",
     "output_type": "stream",
     "text": [
      "2025-02-17 12:23:54,843 - __main__ - INFO - Retrieved 19021 data points for 2024-11\n"
     ]
    },
    {
     "name": "stderr",
     "output_type": "stream",
     "text": [
      "2025-02-17 12:23:54,843 - INFO - Retrieved 19021 data points for 2024-11\n"
     ]
    },
    {
     "name": "stdout",
     "output_type": "stream",
     "text": [
      "2025-02-17 12:23:54,844 - __main__ - INFO - Fetching data for NVDA - 2024-10\n"
     ]
    },
    {
     "name": "stderr",
     "output_type": "stream",
     "text": [
      "2025-02-17 12:23:54,844 - INFO - Fetching data for NVDA - 2024-10\n"
     ]
    },
    {
     "name": "stdout",
     "output_type": "stream",
     "text": [
      "2025-02-17 12:23:58,539 - __main__ - INFO - Retrieved 22081 data points for 2024-10\n"
     ]
    },
    {
     "name": "stderr",
     "output_type": "stream",
     "text": [
      "2025-02-17 12:23:58,539 - INFO - Retrieved 22081 data points for 2024-10\n"
     ]
    },
    {
     "name": "stdout",
     "output_type": "stream",
     "text": [
      "2025-02-17 12:23:58,540 - __main__ - INFO - Fetching data for NVDA - 2024-09\n"
     ]
    },
    {
     "name": "stderr",
     "output_type": "stream",
     "text": [
      "2025-02-17 12:23:58,540 - INFO - Fetching data for NVDA - 2024-09\n"
     ]
    },
    {
     "name": "stdout",
     "output_type": "stream",
     "text": [
      "2025-02-17 12:24:02,770 - __main__ - INFO - Retrieved 19201 data points for 2024-09\n"
     ]
    },
    {
     "name": "stderr",
     "output_type": "stream",
     "text": [
      "2025-02-17 12:24:02,770 - INFO - Retrieved 19201 data points for 2024-09\n"
     ]
    },
    {
     "name": "stdout",
     "output_type": "stream",
     "text": [
      "2025-02-17 12:24:02,771 - __main__ - INFO - Fetching data for NVDA - 2024-08\n"
     ]
    },
    {
     "name": "stderr",
     "output_type": "stream",
     "text": [
      "2025-02-17 12:24:02,771 - INFO - Fetching data for NVDA - 2024-08\n"
     ]
    },
    {
     "name": "stdout",
     "output_type": "stream",
     "text": [
      "2025-02-17 12:24:06,765 - __main__ - INFO - Retrieved 21121 data points for 2024-08\n"
     ]
    },
    {
     "name": "stderr",
     "output_type": "stream",
     "text": [
      "2025-02-17 12:24:06,765 - INFO - Retrieved 21121 data points for 2024-08\n"
     ]
    },
    {
     "name": "stdout",
     "output_type": "stream",
     "text": [
      "2025-02-17 12:24:06,766 - __main__ - INFO - Fetching data for NVDA - 2024-07\n"
     ]
    },
    {
     "name": "stderr",
     "output_type": "stream",
     "text": [
      "2025-02-17 12:24:06,766 - INFO - Fetching data for NVDA - 2024-07\n"
     ]
    },
    {
     "name": "stdout",
     "output_type": "stream",
     "text": [
      "2025-02-17 12:24:10,153 - __main__ - INFO - Retrieved 20941 data points for 2024-07\n"
     ]
    },
    {
     "name": "stderr",
     "output_type": "stream",
     "text": [
      "2025-02-17 12:24:10,153 - INFO - Retrieved 20941 data points for 2024-07\n"
     ]
    },
    {
     "name": "stdout",
     "output_type": "stream",
     "text": [
      "2025-02-17 12:24:10,154 - __main__ - INFO - Fetching data for NVDA - 2024-06\n"
     ]
    },
    {
     "name": "stderr",
     "output_type": "stream",
     "text": [
      "2025-02-17 12:24:10,154 - INFO - Fetching data for NVDA - 2024-06\n"
     ]
    },
    {
     "name": "stdout",
     "output_type": "stream",
     "text": [
      "2025-02-17 12:24:13,521 - __main__ - INFO - Retrieved 18241 data points for 2024-06\n"
     ]
    },
    {
     "name": "stderr",
     "output_type": "stream",
     "text": [
      "2025-02-17 12:24:13,521 - INFO - Retrieved 18241 data points for 2024-06\n"
     ]
    },
    {
     "name": "stdout",
     "output_type": "stream",
     "text": [
      "2025-02-17 12:24:13,521 - __main__ - INFO - Fetching data for NVDA - 2024-05\n"
     ]
    },
    {
     "name": "stderr",
     "output_type": "stream",
     "text": [
      "2025-02-17 12:24:13,521 - INFO - Fetching data for NVDA - 2024-05\n"
     ]
    },
    {
     "name": "stdout",
     "output_type": "stream",
     "text": [
      "2025-02-17 12:24:14,878 - __main__ - INFO - Retrieved 21112 data points for 2024-05\n"
     ]
    },
    {
     "name": "stderr",
     "output_type": "stream",
     "text": [
      "2025-02-17 12:24:14,878 - INFO - Retrieved 21112 data points for 2024-05\n"
     ]
    },
    {
     "name": "stdout",
     "output_type": "stream",
     "text": [
      "2025-02-17 12:24:14,879 - __main__ - INFO - Fetching data for NVDA - 2024-04\n"
     ]
    },
    {
     "name": "stderr",
     "output_type": "stream",
     "text": [
      "2025-02-17 12:24:14,879 - INFO - Fetching data for NVDA - 2024-04\n"
     ]
    },
    {
     "name": "stdout",
     "output_type": "stream",
     "text": [
      "2025-02-17 12:24:18,450 - __main__ - INFO - Retrieved 21116 data points for 2024-04\n"
     ]
    },
    {
     "name": "stderr",
     "output_type": "stream",
     "text": [
      "2025-02-17 12:24:18,450 - INFO - Retrieved 21116 data points for 2024-04\n"
     ]
    },
    {
     "name": "stdout",
     "output_type": "stream",
     "text": [
      "2025-02-17 12:24:18,451 - __main__ - INFO - Fetching data for NVDA - 2024-03\n"
     ]
    },
    {
     "name": "stderr",
     "output_type": "stream",
     "text": [
      "2025-02-17 12:24:18,451 - INFO - Fetching data for NVDA - 2024-03\n"
     ]
    },
    {
     "name": "stdout",
     "output_type": "stream",
     "text": [
      "2025-02-17 12:24:21,907 - __main__ - INFO - Retrieved 19201 data points for 2024-03\n"
     ]
    },
    {
     "name": "stderr",
     "output_type": "stream",
     "text": [
      "2025-02-17 12:24:21,907 - INFO - Retrieved 19201 data points for 2024-03\n"
     ]
    },
    {
     "name": "stdout",
     "output_type": "stream",
     "text": [
      "2025-02-17 12:24:21,908 - __main__ - INFO - Writing data to /Users/benpfeffer/Desktop/CODE/volatility-strategy/db/cache/market_data/NVDA_1min.csv\n"
     ]
    },
    {
     "name": "stderr",
     "output_type": "stream",
     "text": [
      "2025-02-17 12:24:21,908 - INFO - Writing data to /Users/benpfeffer/Desktop/CODE/volatility-strategy/db/cache/market_data/NVDA_1min.csv\n"
     ]
    },
    {
     "name": "stdout",
     "output_type": "stream",
     "text": [
      "2025-02-17 12:24:21,915 - __main__ - INFO - Data fetch completed successfully\n"
     ]
    },
    {
     "name": "stderr",
     "output_type": "stream",
     "text": [
      "2025-02-17 12:24:21,915 - INFO - Data fetch completed successfully\n"
     ]
    },
    {
     "name": "stdout",
     "output_type": "stream",
     "text": [
      "2025-02-17 12:24:21,918 - __main__ - INFO - Starting data fetch for ORCL with 1min interval\n"
     ]
    },
    {
     "name": "stderr",
     "output_type": "stream",
     "text": [
      "2025-02-17 12:24:21,918 - INFO - Starting data fetch for ORCL with 1min interval\n"
     ]
    },
    {
     "name": "stdout",
     "output_type": "stream",
     "text": [
      "2025-02-17 12:24:21,918 - __main__ - INFO - Using 1min interval - fetching data month by month for past year\n"
     ]
    },
    {
     "name": "stderr",
     "output_type": "stream",
     "text": [
      "2025-02-17 12:24:21,918 - INFO - Using 1min interval - fetching data month by month for past year\n"
     ]
    },
    {
     "name": "stdout",
     "output_type": "stream",
     "text": [
      "2025-02-17 12:24:21,919 - __main__ - INFO - Will fetch data for months: ['2025-02', '2025-01', '2024-12', '2024-11', '2024-10', '2024-09', '2024-08', '2024-07', '2024-06', '2024-05', '2024-04', '2024-03']\n"
     ]
    },
    {
     "name": "stderr",
     "output_type": "stream",
     "text": [
      "2025-02-17 12:24:21,919 - INFO - Will fetch data for months: ['2025-02', '2025-01', '2024-12', '2024-11', '2024-10', '2024-09', '2024-08', '2024-07', '2024-06', '2024-05', '2024-04', '2024-03']\n"
     ]
    },
    {
     "name": "stdout",
     "output_type": "stream",
     "text": [
      "2025-02-17 12:24:21,920 - __main__ - INFO - Fetching data for ORCL - 2025-02\n"
     ]
    },
    {
     "name": "stderr",
     "output_type": "stream",
     "text": [
      "2025-02-17 12:24:21,920 - INFO - Fetching data for ORCL - 2025-02\n"
     ]
    },
    {
     "name": "stdout",
     "output_type": "stream",
     "text": [
      "2025-02-17 12:24:22,814 - __main__ - INFO - Retrieved 8665 data points for 2025-02\n"
     ]
    },
    {
     "name": "stderr",
     "output_type": "stream",
     "text": [
      "2025-02-17 12:24:22,814 - INFO - Retrieved 8665 data points for 2025-02\n"
     ]
    },
    {
     "name": "stdout",
     "output_type": "stream",
     "text": [
      "2025-02-17 12:24:22,814 - __main__ - INFO - Fetching data for ORCL - 2025-01\n"
     ]
    },
    {
     "name": "stderr",
     "output_type": "stream",
     "text": [
      "2025-02-17 12:24:22,814 - INFO - Fetching data for ORCL - 2025-01\n"
     ]
    },
    {
     "name": "stdout",
     "output_type": "stream",
     "text": [
      "2025-02-17 12:24:25,577 - __main__ - INFO - Retrieved 16644 data points for 2025-01\n"
     ]
    },
    {
     "name": "stderr",
     "output_type": "stream",
     "text": [
      "2025-02-17 12:24:25,577 - INFO - Retrieved 16644 data points for 2025-01\n"
     ]
    },
    {
     "name": "stdout",
     "output_type": "stream",
     "text": [
      "2025-02-17 12:24:25,578 - __main__ - INFO - Fetching data for ORCL - 2024-12\n"
     ]
    },
    {
     "name": "stderr",
     "output_type": "stream",
     "text": [
      "2025-02-17 12:24:25,578 - INFO - Fetching data for ORCL - 2024-12\n"
     ]
    },
    {
     "name": "stdout",
     "output_type": "stream",
     "text": [
      "2025-02-17 12:24:28,294 - __main__ - INFO - Retrieved 16777 data points for 2024-12\n"
     ]
    },
    {
     "name": "stderr",
     "output_type": "stream",
     "text": [
      "2025-02-17 12:24:28,294 - INFO - Retrieved 16777 data points for 2024-12\n"
     ]
    },
    {
     "name": "stdout",
     "output_type": "stream",
     "text": [
      "2025-02-17 12:24:28,294 - __main__ - INFO - Fetching data for ORCL - 2024-11\n"
     ]
    },
    {
     "name": "stderr",
     "output_type": "stream",
     "text": [
      "2025-02-17 12:24:28,294 - INFO - Fetching data for ORCL - 2024-11\n"
     ]
    },
    {
     "name": "stdout",
     "output_type": "stream",
     "text": [
      "2025-02-17 12:24:30,967 - __main__ - INFO - Retrieved 13871 data points for 2024-11\n"
     ]
    },
    {
     "name": "stderr",
     "output_type": "stream",
     "text": [
      "2025-02-17 12:24:30,967 - INFO - Retrieved 13871 data points for 2024-11\n"
     ]
    },
    {
     "name": "stdout",
     "output_type": "stream",
     "text": [
      "2025-02-17 12:24:30,968 - __main__ - INFO - Fetching data for ORCL - 2024-10\n"
     ]
    },
    {
     "name": "stderr",
     "output_type": "stream",
     "text": [
      "2025-02-17 12:24:30,968 - INFO - Fetching data for ORCL - 2024-10\n"
     ]
    },
    {
     "name": "stdout",
     "output_type": "stream",
     "text": [
      "2025-02-17 12:24:33,760 - __main__ - INFO - Retrieved 14956 data points for 2024-10\n"
     ]
    },
    {
     "name": "stderr",
     "output_type": "stream",
     "text": [
      "2025-02-17 12:24:33,760 - INFO - Retrieved 14956 data points for 2024-10\n"
     ]
    },
    {
     "name": "stdout",
     "output_type": "stream",
     "text": [
      "2025-02-17 12:24:33,760 - __main__ - INFO - Fetching data for ORCL - 2024-09\n"
     ]
    },
    {
     "name": "stderr",
     "output_type": "stream",
     "text": [
      "2025-02-17 12:24:33,760 - INFO - Fetching data for ORCL - 2024-09\n"
     ]
    },
    {
     "name": "stdout",
     "output_type": "stream",
     "text": [
      "2025-02-17 12:24:36,385 - __main__ - INFO - Retrieved 14827 data points for 2024-09\n"
     ]
    },
    {
     "name": "stderr",
     "output_type": "stream",
     "text": [
      "2025-02-17 12:24:36,385 - INFO - Retrieved 14827 data points for 2024-09\n"
     ]
    },
    {
     "name": "stdout",
     "output_type": "stream",
     "text": [
      "2025-02-17 12:24:36,386 - __main__ - INFO - Fetching data for ORCL - 2024-08\n"
     ]
    },
    {
     "name": "stderr",
     "output_type": "stream",
     "text": [
      "2025-02-17 12:24:36,386 - INFO - Fetching data for ORCL - 2024-08\n"
     ]
    },
    {
     "name": "stdout",
     "output_type": "stream",
     "text": [
      "2025-02-17 12:24:38,951 - __main__ - INFO - Retrieved 12514 data points for 2024-08\n"
     ]
    },
    {
     "name": "stderr",
     "output_type": "stream",
     "text": [
      "2025-02-17 12:24:38,951 - INFO - Retrieved 12514 data points for 2024-08\n"
     ]
    },
    {
     "name": "stdout",
     "output_type": "stream",
     "text": [
      "2025-02-17 12:24:38,952 - __main__ - INFO - Fetching data for ORCL - 2024-07\n"
     ]
    },
    {
     "name": "stderr",
     "output_type": "stream",
     "text": [
      "2025-02-17 12:24:38,952 - INFO - Fetching data for ORCL - 2024-07\n"
     ]
    },
    {
     "name": "stdout",
     "output_type": "stream",
     "text": [
      "2025-02-17 12:24:41,669 - __main__ - INFO - Retrieved 12871 data points for 2024-07\n"
     ]
    },
    {
     "name": "stderr",
     "output_type": "stream",
     "text": [
      "2025-02-17 12:24:41,669 - INFO - Retrieved 12871 data points for 2024-07\n"
     ]
    },
    {
     "name": "stdout",
     "output_type": "stream",
     "text": [
      "2025-02-17 12:24:41,670 - __main__ - INFO - Fetching data for ORCL - 2024-06\n"
     ]
    },
    {
     "name": "stderr",
     "output_type": "stream",
     "text": [
      "2025-02-17 12:24:41,670 - INFO - Fetching data for ORCL - 2024-06\n"
     ]
    },
    {
     "name": "stdout",
     "output_type": "stream",
     "text": [
      "2025-02-17 12:24:43,999 - __main__ - INFO - Retrieved 12960 data points for 2024-06\n"
     ]
    },
    {
     "name": "stderr",
     "output_type": "stream",
     "text": [
      "2025-02-17 12:24:43,999 - INFO - Retrieved 12960 data points for 2024-06\n"
     ]
    },
    {
     "name": "stdout",
     "output_type": "stream",
     "text": [
      "2025-02-17 12:24:44,000 - __main__ - INFO - Fetching data for ORCL - 2024-05\n"
     ]
    },
    {
     "name": "stderr",
     "output_type": "stream",
     "text": [
      "2025-02-17 12:24:44,000 - INFO - Fetching data for ORCL - 2024-05\n"
     ]
    },
    {
     "name": "stdout",
     "output_type": "stream",
     "text": [
      "2025-02-17 12:24:46,507 - __main__ - INFO - Retrieved 13137 data points for 2024-05\n"
     ]
    },
    {
     "name": "stderr",
     "output_type": "stream",
     "text": [
      "2025-02-17 12:24:46,507 - INFO - Retrieved 13137 data points for 2024-05\n"
     ]
    },
    {
     "name": "stdout",
     "output_type": "stream",
     "text": [
      "2025-02-17 12:24:46,508 - __main__ - INFO - Fetching data for ORCL - 2024-04\n"
     ]
    },
    {
     "name": "stderr",
     "output_type": "stream",
     "text": [
      "2025-02-17 12:24:46,508 - INFO - Fetching data for ORCL - 2024-04\n"
     ]
    },
    {
     "name": "stdout",
     "output_type": "stream",
     "text": [
      "2025-02-17 12:24:48,990 - __main__ - INFO - Retrieved 12946 data points for 2024-04\n"
     ]
    },
    {
     "name": "stderr",
     "output_type": "stream",
     "text": [
      "2025-02-17 12:24:48,990 - INFO - Retrieved 12946 data points for 2024-04\n"
     ]
    },
    {
     "name": "stdout",
     "output_type": "stream",
     "text": [
      "2025-02-17 12:24:48,991 - __main__ - INFO - Fetching data for ORCL - 2024-03\n"
     ]
    },
    {
     "name": "stderr",
     "output_type": "stream",
     "text": [
      "2025-02-17 12:24:48,991 - INFO - Fetching data for ORCL - 2024-03\n"
     ]
    },
    {
     "name": "stdout",
     "output_type": "stream",
     "text": [
      "2025-02-17 12:24:51,579 - __main__ - INFO - Retrieved 13775 data points for 2024-03\n"
     ]
    },
    {
     "name": "stderr",
     "output_type": "stream",
     "text": [
      "2025-02-17 12:24:51,579 - INFO - Retrieved 13775 data points for 2024-03\n"
     ]
    },
    {
     "name": "stdout",
     "output_type": "stream",
     "text": [
      "2025-02-17 12:24:51,580 - __main__ - INFO - Writing data to /Users/benpfeffer/Desktop/CODE/volatility-strategy/db/cache/market_data/ORCL_1min.csv\n"
     ]
    },
    {
     "name": "stderr",
     "output_type": "stream",
     "text": [
      "2025-02-17 12:24:51,580 - INFO - Writing data to /Users/benpfeffer/Desktop/CODE/volatility-strategy/db/cache/market_data/ORCL_1min.csv\n"
     ]
    },
    {
     "name": "stdout",
     "output_type": "stream",
     "text": [
      "2025-02-17 12:24:51,585 - __main__ - INFO - Data fetch completed successfully\n"
     ]
    },
    {
     "name": "stderr",
     "output_type": "stream",
     "text": [
      "2025-02-17 12:24:51,585 - INFO - Data fetch completed successfully\n"
     ]
    },
    {
     "name": "stdout",
     "output_type": "stream",
     "text": [
      "2025-02-17 12:24:51,587 - __main__ - INFO - Starting data fetch for PEP with 1min interval\n"
     ]
    },
    {
     "name": "stderr",
     "output_type": "stream",
     "text": [
      "2025-02-17 12:24:51,587 - INFO - Starting data fetch for PEP with 1min interval\n"
     ]
    },
    {
     "name": "stdout",
     "output_type": "stream",
     "text": [
      "2025-02-17 12:24:51,587 - __main__ - INFO - Using 1min interval - fetching data month by month for past year\n"
     ]
    },
    {
     "name": "stderr",
     "output_type": "stream",
     "text": [
      "2025-02-17 12:24:51,587 - INFO - Using 1min interval - fetching data month by month for past year\n"
     ]
    },
    {
     "name": "stdout",
     "output_type": "stream",
     "text": [
      "2025-02-17 12:24:51,588 - __main__ - INFO - Will fetch data for months: ['2025-02', '2025-01', '2024-12', '2024-11', '2024-10', '2024-09', '2024-08', '2024-07', '2024-06', '2024-05', '2024-04', '2024-03']\n"
     ]
    },
    {
     "name": "stderr",
     "output_type": "stream",
     "text": [
      "2025-02-17 12:24:51,588 - INFO - Will fetch data for months: ['2025-02', '2025-01', '2024-12', '2024-11', '2024-10', '2024-09', '2024-08', '2024-07', '2024-06', '2024-05', '2024-04', '2024-03']\n"
     ]
    },
    {
     "name": "stdout",
     "output_type": "stream",
     "text": [
      "2025-02-17 12:24:51,589 - __main__ - INFO - Fetching data for PEP - 2025-02\n"
     ]
    },
    {
     "name": "stderr",
     "output_type": "stream",
     "text": [
      "2025-02-17 12:24:51,589 - INFO - Fetching data for PEP - 2025-02\n"
     ]
    },
    {
     "name": "stdout",
     "output_type": "stream",
     "text": [
      "2025-02-17 12:24:53,868 - __main__ - INFO - Retrieved 7412 data points for 2025-02\n"
     ]
    },
    {
     "name": "stderr",
     "output_type": "stream",
     "text": [
      "2025-02-17 12:24:53,868 - INFO - Retrieved 7412 data points for 2025-02\n"
     ]
    },
    {
     "name": "stdout",
     "output_type": "stream",
     "text": [
      "2025-02-17 12:24:53,869 - __main__ - INFO - Fetching data for PEP - 2025-01\n"
     ]
    },
    {
     "name": "stderr",
     "output_type": "stream",
     "text": [
      "2025-02-17 12:24:53,869 - INFO - Fetching data for PEP - 2025-01\n"
     ]
    },
    {
     "name": "stdout",
     "output_type": "stream",
     "text": [
      "2025-02-17 12:24:56,529 - __main__ - INFO - Retrieved 14381 data points for 2025-01\n"
     ]
    },
    {
     "name": "stderr",
     "output_type": "stream",
     "text": [
      "2025-02-17 12:24:56,529 - INFO - Retrieved 14381 data points for 2025-01\n"
     ]
    },
    {
     "name": "stdout",
     "output_type": "stream",
     "text": [
      "2025-02-17 12:24:56,530 - __main__ - INFO - Fetching data for PEP - 2024-12\n"
     ]
    },
    {
     "name": "stderr",
     "output_type": "stream",
     "text": [
      "2025-02-17 12:24:56,530 - INFO - Fetching data for PEP - 2024-12\n"
     ]
    },
    {
     "name": "stdout",
     "output_type": "stream",
     "text": [
      "2025-02-17 12:24:58,957 - __main__ - INFO - Retrieved 14069 data points for 2024-12\n"
     ]
    },
    {
     "name": "stderr",
     "output_type": "stream",
     "text": [
      "2025-02-17 12:24:58,957 - INFO - Retrieved 14069 data points for 2024-12\n"
     ]
    },
    {
     "name": "stdout",
     "output_type": "stream",
     "text": [
      "2025-02-17 12:24:58,958 - __main__ - INFO - Fetching data for PEP - 2024-11\n"
     ]
    },
    {
     "name": "stderr",
     "output_type": "stream",
     "text": [
      "2025-02-17 12:24:58,958 - INFO - Fetching data for PEP - 2024-11\n"
     ]
    },
    {
     "name": "stdout",
     "output_type": "stream",
     "text": [
      "2025-02-17 12:25:02,020 - __main__ - INFO - Retrieved 12889 data points for 2024-11\n"
     ]
    },
    {
     "name": "stderr",
     "output_type": "stream",
     "text": [
      "2025-02-17 12:25:02,020 - INFO - Retrieved 12889 data points for 2024-11\n"
     ]
    },
    {
     "name": "stdout",
     "output_type": "stream",
     "text": [
      "2025-02-17 12:25:02,021 - __main__ - INFO - Fetching data for PEP - 2024-10\n"
     ]
    },
    {
     "name": "stderr",
     "output_type": "stream",
     "text": [
      "2025-02-17 12:25:02,021 - INFO - Fetching data for PEP - 2024-10\n"
     ]
    },
    {
     "name": "stdout",
     "output_type": "stream",
     "text": [
      "2025-02-17 12:25:04,953 - __main__ - INFO - Retrieved 13286 data points for 2024-10\n"
     ]
    },
    {
     "name": "stderr",
     "output_type": "stream",
     "text": [
      "2025-02-17 12:25:04,953 - INFO - Retrieved 13286 data points for 2024-10\n"
     ]
    },
    {
     "name": "stdout",
     "output_type": "stream",
     "text": [
      "2025-02-17 12:25:04,954 - __main__ - INFO - Fetching data for PEP - 2024-09\n"
     ]
    },
    {
     "name": "stderr",
     "output_type": "stream",
     "text": [
      "2025-02-17 12:25:04,954 - INFO - Fetching data for PEP - 2024-09\n"
     ]
    },
    {
     "name": "stdout",
     "output_type": "stream",
     "text": [
      "2025-02-17 12:25:08,638 - __main__ - INFO - Retrieved 11185 data points for 2024-09\n"
     ]
    },
    {
     "name": "stderr",
     "output_type": "stream",
     "text": [
      "2025-02-17 12:25:08,638 - INFO - Retrieved 11185 data points for 2024-09\n"
     ]
    },
    {
     "name": "stdout",
     "output_type": "stream",
     "text": [
      "2025-02-17 12:25:08,639 - __main__ - INFO - Fetching data for PEP - 2024-08\n"
     ]
    },
    {
     "name": "stderr",
     "output_type": "stream",
     "text": [
      "2025-02-17 12:25:08,639 - INFO - Fetching data for PEP - 2024-08\n"
     ]
    },
    {
     "name": "stdout",
     "output_type": "stream",
     "text": [
      "2025-02-17 12:25:10,864 - __main__ - INFO - Retrieved 12062 data points for 2024-08\n"
     ]
    },
    {
     "name": "stderr",
     "output_type": "stream",
     "text": [
      "2025-02-17 12:25:10,864 - INFO - Retrieved 12062 data points for 2024-08\n"
     ]
    },
    {
     "name": "stdout",
     "output_type": "stream",
     "text": [
      "2025-02-17 12:25:10,864 - __main__ - INFO - Fetching data for PEP - 2024-07\n"
     ]
    },
    {
     "name": "stderr",
     "output_type": "stream",
     "text": [
      "2025-02-17 12:25:10,864 - INFO - Fetching data for PEP - 2024-07\n"
     ]
    },
    {
     "name": "stdout",
     "output_type": "stream",
     "text": [
      "2025-02-17 12:25:13,631 - __main__ - INFO - Retrieved 13444 data points for 2024-07\n"
     ]
    },
    {
     "name": "stderr",
     "output_type": "stream",
     "text": [
      "2025-02-17 12:25:13,631 - INFO - Retrieved 13444 data points for 2024-07\n"
     ]
    },
    {
     "name": "stdout",
     "output_type": "stream",
     "text": [
      "2025-02-17 12:25:13,632 - __main__ - INFO - Fetching data for PEP - 2024-06\n"
     ]
    },
    {
     "name": "stderr",
     "output_type": "stream",
     "text": [
      "2025-02-17 12:25:13,632 - INFO - Fetching data for PEP - 2024-06\n"
     ]
    },
    {
     "name": "stdout",
     "output_type": "stream",
     "text": [
      "2025-02-17 12:25:16,159 - __main__ - INFO - Retrieved 11440 data points for 2024-06\n"
     ]
    },
    {
     "name": "stderr",
     "output_type": "stream",
     "text": [
      "2025-02-17 12:25:16,159 - INFO - Retrieved 11440 data points for 2024-06\n"
     ]
    },
    {
     "name": "stdout",
     "output_type": "stream",
     "text": [
      "2025-02-17 12:25:16,159 - __main__ - INFO - Fetching data for PEP - 2024-05\n"
     ]
    },
    {
     "name": "stderr",
     "output_type": "stream",
     "text": [
      "2025-02-17 12:25:16,159 - INFO - Fetching data for PEP - 2024-05\n"
     ]
    },
    {
     "name": "stdout",
     "output_type": "stream",
     "text": [
      "2025-02-17 12:25:17,051 - __main__ - INFO - Retrieved 11463 data points for 2024-05\n"
     ]
    },
    {
     "name": "stderr",
     "output_type": "stream",
     "text": [
      "2025-02-17 12:25:17,051 - INFO - Retrieved 11463 data points for 2024-05\n"
     ]
    },
    {
     "name": "stdout",
     "output_type": "stream",
     "text": [
      "2025-02-17 12:25:17,052 - __main__ - INFO - Fetching data for PEP - 2024-04\n"
     ]
    },
    {
     "name": "stderr",
     "output_type": "stream",
     "text": [
      "2025-02-17 12:25:17,052 - INFO - Fetching data for PEP - 2024-04\n"
     ]
    },
    {
     "name": "stdout",
     "output_type": "stream",
     "text": [
      "2025-02-17 12:25:19,465 - __main__ - INFO - Retrieved 12249 data points for 2024-04\n"
     ]
    },
    {
     "name": "stderr",
     "output_type": "stream",
     "text": [
      "2025-02-17 12:25:19,465 - INFO - Retrieved 12249 data points for 2024-04\n"
     ]
    },
    {
     "name": "stdout",
     "output_type": "stream",
     "text": [
      "2025-02-17 12:25:19,466 - __main__ - INFO - Fetching data for PEP - 2024-03\n"
     ]
    },
    {
     "name": "stderr",
     "output_type": "stream",
     "text": [
      "2025-02-17 12:25:19,466 - INFO - Fetching data for PEP - 2024-03\n"
     ]
    },
    {
     "name": "stdout",
     "output_type": "stream",
     "text": [
      "2025-02-17 12:25:21,800 - __main__ - INFO - Retrieved 11566 data points for 2024-03\n"
     ]
    },
    {
     "name": "stderr",
     "output_type": "stream",
     "text": [
      "2025-02-17 12:25:21,800 - INFO - Retrieved 11566 data points for 2024-03\n"
     ]
    },
    {
     "name": "stdout",
     "output_type": "stream",
     "text": [
      "2025-02-17 12:25:21,801 - __main__ - INFO - Writing data to /Users/benpfeffer/Desktop/CODE/volatility-strategy/db/cache/market_data/PEP_1min.csv\n"
     ]
    },
    {
     "name": "stderr",
     "output_type": "stream",
     "text": [
      "2025-02-17 12:25:21,801 - INFO - Writing data to /Users/benpfeffer/Desktop/CODE/volatility-strategy/db/cache/market_data/PEP_1min.csv\n"
     ]
    },
    {
     "name": "stdout",
     "output_type": "stream",
     "text": [
      "2025-02-17 12:25:21,804 - __main__ - INFO - Data fetch completed successfully\n"
     ]
    },
    {
     "name": "stderr",
     "output_type": "stream",
     "text": [
      "2025-02-17 12:25:21,804 - INFO - Data fetch completed successfully\n"
     ]
    },
    {
     "name": "stdout",
     "output_type": "stream",
     "text": [
      "2025-02-17 12:25:21,806 - __main__ - INFO - Starting data fetch for PFE with 1min interval\n"
     ]
    },
    {
     "name": "stderr",
     "output_type": "stream",
     "text": [
      "2025-02-17 12:25:21,806 - INFO - Starting data fetch for PFE with 1min interval\n"
     ]
    },
    {
     "name": "stdout",
     "output_type": "stream",
     "text": [
      "2025-02-17 12:25:21,806 - __main__ - INFO - Using 1min interval - fetching data month by month for past year\n"
     ]
    },
    {
     "name": "stderr",
     "output_type": "stream",
     "text": [
      "2025-02-17 12:25:21,806 - INFO - Using 1min interval - fetching data month by month for past year\n"
     ]
    },
    {
     "name": "stdout",
     "output_type": "stream",
     "text": [
      "2025-02-17 12:25:21,807 - __main__ - INFO - Will fetch data for months: ['2025-02', '2025-01', '2024-12', '2024-11', '2024-10', '2024-09', '2024-08', '2024-07', '2024-06', '2024-05', '2024-04', '2024-03']\n"
     ]
    },
    {
     "name": "stderr",
     "output_type": "stream",
     "text": [
      "2025-02-17 12:25:21,807 - INFO - Will fetch data for months: ['2025-02', '2025-01', '2024-12', '2024-11', '2024-10', '2024-09', '2024-08', '2024-07', '2024-06', '2024-05', '2024-04', '2024-03']\n"
     ]
    },
    {
     "name": "stdout",
     "output_type": "stream",
     "text": [
      "2025-02-17 12:25:21,807 - __main__ - INFO - Fetching data for PFE - 2025-02\n"
     ]
    },
    {
     "name": "stderr",
     "output_type": "stream",
     "text": [
      "2025-02-17 12:25:21,807 - INFO - Fetching data for PFE - 2025-02\n"
     ]
    },
    {
     "name": "stdout",
     "output_type": "stream",
     "text": [
      "2025-02-17 12:25:24,602 - __main__ - INFO - Retrieved 9051 data points for 2025-02\n"
     ]
    },
    {
     "name": "stderr",
     "output_type": "stream",
     "text": [
      "2025-02-17 12:25:24,602 - INFO - Retrieved 9051 data points for 2025-02\n"
     ]
    },
    {
     "name": "stdout",
     "output_type": "stream",
     "text": [
      "2025-02-17 12:25:24,602 - __main__ - INFO - Fetching data for PFE - 2025-01\n"
     ]
    },
    {
     "name": "stderr",
     "output_type": "stream",
     "text": [
      "2025-02-17 12:25:24,602 - INFO - Fetching data for PFE - 2025-01\n"
     ]
    },
    {
     "name": "stdout",
     "output_type": "stream",
     "text": [
      "2025-02-17 12:25:27,722 - __main__ - INFO - Retrieved 17723 data points for 2025-01\n"
     ]
    },
    {
     "name": "stderr",
     "output_type": "stream",
     "text": [
      "2025-02-17 12:25:27,722 - INFO - Retrieved 17723 data points for 2025-01\n"
     ]
    },
    {
     "name": "stdout",
     "output_type": "stream",
     "text": [
      "2025-02-17 12:25:27,722 - __main__ - INFO - Fetching data for PFE - 2024-12\n"
     ]
    },
    {
     "name": "stderr",
     "output_type": "stream",
     "text": [
      "2025-02-17 12:25:27,722 - INFO - Fetching data for PFE - 2024-12\n"
     ]
    },
    {
     "name": "stdout",
     "output_type": "stream",
     "text": [
      "2025-02-17 12:25:30,934 - __main__ - INFO - Retrieved 18720 data points for 2024-12\n"
     ]
    },
    {
     "name": "stderr",
     "output_type": "stream",
     "text": [
      "2025-02-17 12:25:30,934 - INFO - Retrieved 18720 data points for 2024-12\n"
     ]
    },
    {
     "name": "stdout",
     "output_type": "stream",
     "text": [
      "2025-02-17 12:25:30,935 - __main__ - INFO - Fetching data for PFE - 2024-11\n"
     ]
    },
    {
     "name": "stderr",
     "output_type": "stream",
     "text": [
      "2025-02-17 12:25:30,935 - INFO - Fetching data for PFE - 2024-11\n"
     ]
    },
    {
     "name": "stdout",
     "output_type": "stream",
     "text": [
      "2025-02-17 12:25:34,121 - __main__ - INFO - Retrieved 18333 data points for 2024-11\n"
     ]
    },
    {
     "name": "stderr",
     "output_type": "stream",
     "text": [
      "2025-02-17 12:25:34,121 - INFO - Retrieved 18333 data points for 2024-11\n"
     ]
    },
    {
     "name": "stdout",
     "output_type": "stream",
     "text": [
      "2025-02-17 12:25:34,122 - __main__ - INFO - Fetching data for PFE - 2024-10\n"
     ]
    },
    {
     "name": "stderr",
     "output_type": "stream",
     "text": [
      "2025-02-17 12:25:34,122 - INFO - Fetching data for PFE - 2024-10\n"
     ]
    },
    {
     "name": "stdout",
     "output_type": "stream",
     "text": [
      "2025-02-17 12:25:35,280 - __main__ - INFO - Retrieved 19771 data points for 2024-10\n"
     ]
    },
    {
     "name": "stderr",
     "output_type": "stream",
     "text": [
      "2025-02-17 12:25:35,280 - INFO - Retrieved 19771 data points for 2024-10\n"
     ]
    },
    {
     "name": "stdout",
     "output_type": "stream",
     "text": [
      "2025-02-17 12:25:35,281 - __main__ - INFO - Fetching data for PFE - 2024-09\n"
     ]
    },
    {
     "name": "stderr",
     "output_type": "stream",
     "text": [
      "2025-02-17 12:25:35,281 - INFO - Fetching data for PFE - 2024-09\n"
     ]
    },
    {
     "name": "stdout",
     "output_type": "stream",
     "text": [
      "2025-02-17 12:25:36,430 - __main__ - INFO - Retrieved 16912 data points for 2024-09\n"
     ]
    },
    {
     "name": "stderr",
     "output_type": "stream",
     "text": [
      "2025-02-17 12:25:36,430 - INFO - Retrieved 16912 data points for 2024-09\n"
     ]
    },
    {
     "name": "stdout",
     "output_type": "stream",
     "text": [
      "2025-02-17 12:25:36,430 - __main__ - INFO - Fetching data for PFE - 2024-08\n"
     ]
    },
    {
     "name": "stderr",
     "output_type": "stream",
     "text": [
      "2025-02-17 12:25:36,430 - INFO - Fetching data for PFE - 2024-08\n"
     ]
    },
    {
     "name": "stdout",
     "output_type": "stream",
     "text": [
      "2025-02-17 12:25:37,458 - __main__ - INFO - Retrieved 19008 data points for 2024-08\n"
     ]
    },
    {
     "name": "stderr",
     "output_type": "stream",
     "text": [
      "2025-02-17 12:25:37,458 - INFO - Retrieved 19008 data points for 2024-08\n"
     ]
    },
    {
     "name": "stdout",
     "output_type": "stream",
     "text": [
      "2025-02-17 12:25:37,459 - __main__ - INFO - Fetching data for PFE - 2024-07\n"
     ]
    },
    {
     "name": "stderr",
     "output_type": "stream",
     "text": [
      "2025-02-17 12:25:37,459 - INFO - Fetching data for PFE - 2024-07\n"
     ]
    },
    {
     "name": "stdout",
     "output_type": "stream",
     "text": [
      "2025-02-17 12:25:40,489 - __main__ - INFO - Retrieved 18686 data points for 2024-07\n"
     ]
    },
    {
     "name": "stderr",
     "output_type": "stream",
     "text": [
      "2025-02-17 12:25:40,489 - INFO - Retrieved 18686 data points for 2024-07\n"
     ]
    },
    {
     "name": "stdout",
     "output_type": "stream",
     "text": [
      "2025-02-17 12:25:40,490 - __main__ - INFO - Fetching data for PFE - 2024-06\n"
     ]
    },
    {
     "name": "stderr",
     "output_type": "stream",
     "text": [
      "2025-02-17 12:25:40,490 - INFO - Fetching data for PFE - 2024-06\n"
     ]
    },
    {
     "name": "stdout",
     "output_type": "stream",
     "text": [
      "2025-02-17 12:25:43,305 - __main__ - INFO - Retrieved 15884 data points for 2024-06\n"
     ]
    },
    {
     "name": "stderr",
     "output_type": "stream",
     "text": [
      "2025-02-17 12:25:43,305 - INFO - Retrieved 15884 data points for 2024-06\n"
     ]
    },
    {
     "name": "stdout",
     "output_type": "stream",
     "text": [
      "2025-02-17 12:25:43,306 - __main__ - INFO - Fetching data for PFE - 2024-05\n"
     ]
    },
    {
     "name": "stderr",
     "output_type": "stream",
     "text": [
      "2025-02-17 12:25:43,306 - INFO - Fetching data for PFE - 2024-05\n"
     ]
    },
    {
     "name": "stdout",
     "output_type": "stream",
     "text": [
      "2025-02-17 12:25:44,380 - __main__ - INFO - Retrieved 18789 data points for 2024-05\n"
     ]
    },
    {
     "name": "stderr",
     "output_type": "stream",
     "text": [
      "2025-02-17 12:25:44,380 - INFO - Retrieved 18789 data points for 2024-05\n"
     ]
    },
    {
     "name": "stdout",
     "output_type": "stream",
     "text": [
      "2025-02-17 12:25:44,381 - __main__ - INFO - Fetching data for PFE - 2024-04\n"
     ]
    },
    {
     "name": "stderr",
     "output_type": "stream",
     "text": [
      "2025-02-17 12:25:44,381 - INFO - Fetching data for PFE - 2024-04\n"
     ]
    },
    {
     "name": "stdout",
     "output_type": "stream",
     "text": [
      "2025-02-17 12:25:47,424 - __main__ - INFO - Retrieved 18557 data points for 2024-04\n"
     ]
    },
    {
     "name": "stderr",
     "output_type": "stream",
     "text": [
      "2025-02-17 12:25:47,424 - INFO - Retrieved 18557 data points for 2024-04\n"
     ]
    },
    {
     "name": "stdout",
     "output_type": "stream",
     "text": [
      "2025-02-17 12:25:47,425 - __main__ - INFO - Fetching data for PFE - 2024-03\n"
     ]
    },
    {
     "name": "stderr",
     "output_type": "stream",
     "text": [
      "2025-02-17 12:25:47,425 - INFO - Fetching data for PFE - 2024-03\n"
     ]
    },
    {
     "name": "stdout",
     "output_type": "stream",
     "text": [
      "2025-02-17 12:25:50,171 - __main__ - INFO - Retrieved 17335 data points for 2024-03\n"
     ]
    },
    {
     "name": "stderr",
     "output_type": "stream",
     "text": [
      "2025-02-17 12:25:50,171 - INFO - Retrieved 17335 data points for 2024-03\n"
     ]
    },
    {
     "name": "stdout",
     "output_type": "stream",
     "text": [
      "2025-02-17 12:25:50,172 - __main__ - INFO - Writing data to /Users/benpfeffer/Desktop/CODE/volatility-strategy/db/cache/market_data/PFE_1min.csv\n"
     ]
    },
    {
     "name": "stderr",
     "output_type": "stream",
     "text": [
      "2025-02-17 12:25:50,172 - INFO - Writing data to /Users/benpfeffer/Desktop/CODE/volatility-strategy/db/cache/market_data/PFE_1min.csv\n"
     ]
    },
    {
     "name": "stdout",
     "output_type": "stream",
     "text": [
      "2025-02-17 12:25:50,177 - __main__ - INFO - Data fetch completed successfully\n"
     ]
    },
    {
     "name": "stderr",
     "output_type": "stream",
     "text": [
      "2025-02-17 12:25:50,177 - INFO - Data fetch completed successfully\n"
     ]
    },
    {
     "name": "stdout",
     "output_type": "stream",
     "text": [
      "2025-02-17 12:25:50,179 - __main__ - INFO - Starting data fetch for PM with 1min interval\n"
     ]
    },
    {
     "name": "stderr",
     "output_type": "stream",
     "text": [
      "2025-02-17 12:25:50,179 - INFO - Starting data fetch for PM with 1min interval\n"
     ]
    },
    {
     "name": "stdout",
     "output_type": "stream",
     "text": [
      "2025-02-17 12:25:50,180 - __main__ - INFO - Using 1min interval - fetching data month by month for past year\n"
     ]
    },
    {
     "name": "stderr",
     "output_type": "stream",
     "text": [
      "2025-02-17 12:25:50,180 - INFO - Using 1min interval - fetching data month by month for past year\n"
     ]
    },
    {
     "name": "stdout",
     "output_type": "stream",
     "text": [
      "2025-02-17 12:25:50,180 - __main__ - INFO - Will fetch data for months: ['2025-02', '2025-01', '2024-12', '2024-11', '2024-10', '2024-09', '2024-08', '2024-07', '2024-06', '2024-05', '2024-04', '2024-03']\n"
     ]
    },
    {
     "name": "stderr",
     "output_type": "stream",
     "text": [
      "2025-02-17 12:25:50,180 - INFO - Will fetch data for months: ['2025-02', '2025-01', '2024-12', '2024-11', '2024-10', '2024-09', '2024-08', '2024-07', '2024-06', '2024-05', '2024-04', '2024-03']\n"
     ]
    },
    {
     "name": "stdout",
     "output_type": "stream",
     "text": [
      "2025-02-17 12:25:50,181 - __main__ - INFO - Fetching data for PM - 2025-02\n"
     ]
    },
    {
     "name": "stderr",
     "output_type": "stream",
     "text": [
      "2025-02-17 12:25:50,181 - INFO - Fetching data for PM - 2025-02\n"
     ]
    },
    {
     "name": "stdout",
     "output_type": "stream",
     "text": [
      "2025-02-17 12:25:52,046 - __main__ - INFO - Retrieved 5401 data points for 2025-02\n"
     ]
    },
    {
     "name": "stderr",
     "output_type": "stream",
     "text": [
      "2025-02-17 12:25:52,046 - INFO - Retrieved 5401 data points for 2025-02\n"
     ]
    },
    {
     "name": "stdout",
     "output_type": "stream",
     "text": [
      "2025-02-17 12:25:52,047 - __main__ - INFO - Fetching data for PM - 2025-01\n"
     ]
    },
    {
     "name": "stderr",
     "output_type": "stream",
     "text": [
      "2025-02-17 12:25:52,047 - INFO - Fetching data for PM - 2025-01\n"
     ]
    },
    {
     "name": "stdout",
     "output_type": "stream",
     "text": [
      "2025-02-17 12:25:52,976 - __main__ - INFO - Retrieved 9932 data points for 2025-01\n"
     ]
    },
    {
     "name": "stderr",
     "output_type": "stream",
     "text": [
      "2025-02-17 12:25:52,976 - INFO - Retrieved 9932 data points for 2025-01\n"
     ]
    },
    {
     "name": "stdout",
     "output_type": "stream",
     "text": [
      "2025-02-17 12:25:52,977 - __main__ - INFO - Fetching data for PM - 2024-12\n"
     ]
    },
    {
     "name": "stderr",
     "output_type": "stream",
     "text": [
      "2025-02-17 12:25:52,977 - INFO - Fetching data for PM - 2024-12\n"
     ]
    },
    {
     "name": "stdout",
     "output_type": "stream",
     "text": [
      "2025-02-17 12:25:55,174 - __main__ - INFO - Retrieved 9988 data points for 2024-12\n"
     ]
    },
    {
     "name": "stderr",
     "output_type": "stream",
     "text": [
      "2025-02-17 12:25:55,174 - INFO - Retrieved 9988 data points for 2024-12\n"
     ]
    },
    {
     "name": "stdout",
     "output_type": "stream",
     "text": [
      "2025-02-17 12:25:55,175 - __main__ - INFO - Fetching data for PM - 2024-11\n"
     ]
    },
    {
     "name": "stderr",
     "output_type": "stream",
     "text": [
      "2025-02-17 12:25:55,175 - INFO - Fetching data for PM - 2024-11\n"
     ]
    },
    {
     "name": "stdout",
     "output_type": "stream",
     "text": [
      "2025-02-17 12:25:57,170 - __main__ - INFO - Retrieved 9763 data points for 2024-11\n"
     ]
    },
    {
     "name": "stderr",
     "output_type": "stream",
     "text": [
      "2025-02-17 12:25:57,170 - INFO - Retrieved 9763 data points for 2024-11\n"
     ]
    },
    {
     "name": "stdout",
     "output_type": "stream",
     "text": [
      "2025-02-17 12:25:57,171 - __main__ - INFO - Fetching data for PM - 2024-10\n"
     ]
    },
    {
     "name": "stderr",
     "output_type": "stream",
     "text": [
      "2025-02-17 12:25:57,171 - INFO - Fetching data for PM - 2024-10\n"
     ]
    },
    {
     "name": "stdout",
     "output_type": "stream",
     "text": [
      "2025-02-17 12:25:59,314 - __main__ - INFO - Retrieved 11229 data points for 2024-10\n"
     ]
    },
    {
     "name": "stderr",
     "output_type": "stream",
     "text": [
      "2025-02-17 12:25:59,314 - INFO - Retrieved 11229 data points for 2024-10\n"
     ]
    },
    {
     "name": "stdout",
     "output_type": "stream",
     "text": [
      "2025-02-17 12:25:59,315 - __main__ - INFO - Fetching data for PM - 2024-09\n"
     ]
    },
    {
     "name": "stderr",
     "output_type": "stream",
     "text": [
      "2025-02-17 12:25:59,315 - INFO - Fetching data for PM - 2024-09\n"
     ]
    },
    {
     "name": "stdout",
     "output_type": "stream",
     "text": [
      "2025-02-17 12:26:01,637 - __main__ - INFO - Retrieved 9759 data points for 2024-09\n"
     ]
    },
    {
     "name": "stderr",
     "output_type": "stream",
     "text": [
      "2025-02-17 12:26:01,637 - INFO - Retrieved 9759 data points for 2024-09\n"
     ]
    },
    {
     "name": "stdout",
     "output_type": "stream",
     "text": [
      "2025-02-17 12:26:01,638 - __main__ - INFO - Fetching data for PM - 2024-08\n"
     ]
    },
    {
     "name": "stderr",
     "output_type": "stream",
     "text": [
      "2025-02-17 12:26:01,638 - INFO - Fetching data for PM - 2024-08\n"
     ]
    },
    {
     "name": "stdout",
     "output_type": "stream",
     "text": [
      "2025-02-17 12:26:04,843 - __main__ - INFO - Retrieved 10710 data points for 2024-08\n"
     ]
    },
    {
     "name": "stderr",
     "output_type": "stream",
     "text": [
      "2025-02-17 12:26:04,843 - INFO - Retrieved 10710 data points for 2024-08\n"
     ]
    },
    {
     "name": "stdout",
     "output_type": "stream",
     "text": [
      "2025-02-17 12:26:04,844 - __main__ - INFO - Fetching data for PM - 2024-07\n"
     ]
    },
    {
     "name": "stderr",
     "output_type": "stream",
     "text": [
      "2025-02-17 12:26:04,844 - INFO - Fetching data for PM - 2024-07\n"
     ]
    },
    {
     "name": "stdout",
     "output_type": "stream",
     "text": [
      "2025-02-17 12:26:06,890 - __main__ - INFO - Retrieved 10348 data points for 2024-07\n"
     ]
    },
    {
     "name": "stderr",
     "output_type": "stream",
     "text": [
      "2025-02-17 12:26:06,890 - INFO - Retrieved 10348 data points for 2024-07\n"
     ]
    },
    {
     "name": "stdout",
     "output_type": "stream",
     "text": [
      "2025-02-17 12:26:06,891 - __main__ - INFO - Fetching data for PM - 2024-06\n"
     ]
    },
    {
     "name": "stderr",
     "output_type": "stream",
     "text": [
      "2025-02-17 12:26:06,891 - INFO - Fetching data for PM - 2024-06\n"
     ]
    },
    {
     "name": "stdout",
     "output_type": "stream",
     "text": [
      "2025-02-17 12:26:08,751 - __main__ - INFO - Retrieved 8954 data points for 2024-06\n"
     ]
    },
    {
     "name": "stderr",
     "output_type": "stream",
     "text": [
      "2025-02-17 12:26:08,751 - INFO - Retrieved 8954 data points for 2024-06\n"
     ]
    },
    {
     "name": "stdout",
     "output_type": "stream",
     "text": [
      "2025-02-17 12:26:08,752 - __main__ - INFO - Fetching data for PM - 2024-05\n"
     ]
    },
    {
     "name": "stderr",
     "output_type": "stream",
     "text": [
      "2025-02-17 12:26:08,752 - INFO - Fetching data for PM - 2024-05\n"
     ]
    },
    {
     "name": "stdout",
     "output_type": "stream",
     "text": [
      "2025-02-17 12:26:09,684 - __main__ - INFO - Retrieved 10010 data points for 2024-05\n"
     ]
    },
    {
     "name": "stderr",
     "output_type": "stream",
     "text": [
      "2025-02-17 12:26:09,684 - INFO - Retrieved 10010 data points for 2024-05\n"
     ]
    },
    {
     "name": "stdout",
     "output_type": "stream",
     "text": [
      "2025-02-17 12:26:09,685 - __main__ - INFO - Fetching data for PM - 2024-04\n"
     ]
    },
    {
     "name": "stderr",
     "output_type": "stream",
     "text": [
      "2025-02-17 12:26:09,685 - INFO - Fetching data for PM - 2024-04\n"
     ]
    },
    {
     "name": "stdout",
     "output_type": "stream",
     "text": [
      "2025-02-17 12:26:11,625 - __main__ - INFO - Retrieved 10268 data points for 2024-04\n"
     ]
    },
    {
     "name": "stderr",
     "output_type": "stream",
     "text": [
      "2025-02-17 12:26:11,625 - INFO - Retrieved 10268 data points for 2024-04\n"
     ]
    },
    {
     "name": "stdout",
     "output_type": "stream",
     "text": [
      "2025-02-17 12:26:11,625 - __main__ - INFO - Fetching data for PM - 2024-03\n"
     ]
    },
    {
     "name": "stderr",
     "output_type": "stream",
     "text": [
      "2025-02-17 12:26:11,625 - INFO - Fetching data for PM - 2024-03\n"
     ]
    },
    {
     "name": "stdout",
     "output_type": "stream",
     "text": [
      "2025-02-17 12:26:13,458 - __main__ - INFO - Retrieved 9215 data points for 2024-03\n"
     ]
    },
    {
     "name": "stderr",
     "output_type": "stream",
     "text": [
      "2025-02-17 12:26:13,458 - INFO - Retrieved 9215 data points for 2024-03\n"
     ]
    },
    {
     "name": "stdout",
     "output_type": "stream",
     "text": [
      "2025-02-17 12:26:13,459 - __main__ - INFO - Writing data to /Users/benpfeffer/Desktop/CODE/volatility-strategy/db/cache/market_data/PM_1min.csv\n"
     ]
    },
    {
     "name": "stderr",
     "output_type": "stream",
     "text": [
      "2025-02-17 12:26:13,459 - INFO - Writing data to /Users/benpfeffer/Desktop/CODE/volatility-strategy/db/cache/market_data/PM_1min.csv\n"
     ]
    },
    {
     "name": "stdout",
     "output_type": "stream",
     "text": [
      "2025-02-17 12:26:13,463 - __main__ - INFO - Data fetch completed successfully\n"
     ]
    },
    {
     "name": "stderr",
     "output_type": "stream",
     "text": [
      "2025-02-17 12:26:13,463 - INFO - Data fetch completed successfully\n"
     ]
    },
    {
     "name": "stdout",
     "output_type": "stream",
     "text": [
      "2025-02-17 12:26:13,464 - __main__ - INFO - Starting data fetch for PG with 1min interval\n"
     ]
    },
    {
     "name": "stderr",
     "output_type": "stream",
     "text": [
      "2025-02-17 12:26:13,464 - INFO - Starting data fetch for PG with 1min interval\n"
     ]
    },
    {
     "name": "stdout",
     "output_type": "stream",
     "text": [
      "2025-02-17 12:26:13,465 - __main__ - INFO - Using 1min interval - fetching data month by month for past year\n"
     ]
    },
    {
     "name": "stderr",
     "output_type": "stream",
     "text": [
      "2025-02-17 12:26:13,465 - INFO - Using 1min interval - fetching data month by month for past year\n"
     ]
    },
    {
     "name": "stdout",
     "output_type": "stream",
     "text": [
      "2025-02-17 12:26:13,465 - __main__ - INFO - Will fetch data for months: ['2025-02', '2025-01', '2024-12', '2024-11', '2024-10', '2024-09', '2024-08', '2024-07', '2024-06', '2024-05', '2024-04', '2024-03']\n"
     ]
    },
    {
     "name": "stderr",
     "output_type": "stream",
     "text": [
      "2025-02-17 12:26:13,465 - INFO - Will fetch data for months: ['2025-02', '2025-01', '2024-12', '2024-11', '2024-10', '2024-09', '2024-08', '2024-07', '2024-06', '2024-05', '2024-04', '2024-03']\n"
     ]
    },
    {
     "name": "stdout",
     "output_type": "stream",
     "text": [
      "2025-02-17 12:26:13,466 - __main__ - INFO - Fetching data for PG - 2025-02\n"
     ]
    },
    {
     "name": "stderr",
     "output_type": "stream",
     "text": [
      "2025-02-17 12:26:13,466 - INFO - Fetching data for PG - 2025-02\n"
     ]
    },
    {
     "name": "stdout",
     "output_type": "stream",
     "text": [
      "2025-02-17 12:26:15,755 - __main__ - INFO - Retrieved 5629 data points for 2025-02\n"
     ]
    },
    {
     "name": "stderr",
     "output_type": "stream",
     "text": [
      "2025-02-17 12:26:15,755 - INFO - Retrieved 5629 data points for 2025-02\n"
     ]
    },
    {
     "name": "stdout",
     "output_type": "stream",
     "text": [
      "2025-02-17 12:26:15,756 - __main__ - INFO - Fetching data for PG - 2025-01\n"
     ]
    },
    {
     "name": "stderr",
     "output_type": "stream",
     "text": [
      "2025-02-17 12:26:15,756 - INFO - Fetching data for PG - 2025-01\n"
     ]
    },
    {
     "name": "stdout",
     "output_type": "stream",
     "text": [
      "2025-02-17 12:26:18,190 - __main__ - INFO - Retrieved 12267 data points for 2025-01\n"
     ]
    },
    {
     "name": "stderr",
     "output_type": "stream",
     "text": [
      "2025-02-17 12:26:18,190 - INFO - Retrieved 12267 data points for 2025-01\n"
     ]
    },
    {
     "name": "stdout",
     "output_type": "stream",
     "text": [
      "2025-02-17 12:26:18,190 - __main__ - INFO - Fetching data for PG - 2024-12\n"
     ]
    },
    {
     "name": "stderr",
     "output_type": "stream",
     "text": [
      "2025-02-17 12:26:18,190 - INFO - Fetching data for PG - 2024-12\n"
     ]
    },
    {
     "name": "stdout",
     "output_type": "stream",
     "text": [
      "2025-02-17 12:26:20,326 - __main__ - INFO - Retrieved 11398 data points for 2024-12\n"
     ]
    },
    {
     "name": "stderr",
     "output_type": "stream",
     "text": [
      "2025-02-17 12:26:20,326 - INFO - Retrieved 11398 data points for 2024-12\n"
     ]
    },
    {
     "name": "stdout",
     "output_type": "stream",
     "text": [
      "2025-02-17 12:26:20,327 - __main__ - INFO - Fetching data for PG - 2024-11\n"
     ]
    },
    {
     "name": "stderr",
     "output_type": "stream",
     "text": [
      "2025-02-17 12:26:20,327 - INFO - Fetching data for PG - 2024-11\n"
     ]
    },
    {
     "name": "stdout",
     "output_type": "stream",
     "text": [
      "2025-02-17 12:26:22,725 - __main__ - INFO - Retrieved 11383 data points for 2024-11\n"
     ]
    },
    {
     "name": "stderr",
     "output_type": "stream",
     "text": [
      "2025-02-17 12:26:22,725 - INFO - Retrieved 11383 data points for 2024-11\n"
     ]
    },
    {
     "name": "stdout",
     "output_type": "stream",
     "text": [
      "2025-02-17 12:26:22,726 - __main__ - INFO - Fetching data for PG - 2024-10\n"
     ]
    },
    {
     "name": "stderr",
     "output_type": "stream",
     "text": [
      "2025-02-17 12:26:22,726 - INFO - Fetching data for PG - 2024-10\n"
     ]
    },
    {
     "name": "stdout",
     "output_type": "stream",
     "text": [
      "2025-02-17 12:26:25,180 - __main__ - INFO - Retrieved 12608 data points for 2024-10\n"
     ]
    },
    {
     "name": "stderr",
     "output_type": "stream",
     "text": [
      "2025-02-17 12:26:25,180 - INFO - Retrieved 12608 data points for 2024-10\n"
     ]
    },
    {
     "name": "stdout",
     "output_type": "stream",
     "text": [
      "2025-02-17 12:26:25,181 - __main__ - INFO - Fetching data for PG - 2024-09\n"
     ]
    },
    {
     "name": "stderr",
     "output_type": "stream",
     "text": [
      "2025-02-17 12:26:25,181 - INFO - Fetching data for PG - 2024-09\n"
     ]
    },
    {
     "name": "stdout",
     "output_type": "stream",
     "text": [
      "2025-02-17 12:26:27,449 - __main__ - INFO - Retrieved 10705 data points for 2024-09\n"
     ]
    },
    {
     "name": "stderr",
     "output_type": "stream",
     "text": [
      "2025-02-17 12:26:27,449 - INFO - Retrieved 10705 data points for 2024-09\n"
     ]
    },
    {
     "name": "stdout",
     "output_type": "stream",
     "text": [
      "2025-02-17 12:26:27,449 - __main__ - INFO - Fetching data for PG - 2024-08\n"
     ]
    },
    {
     "name": "stderr",
     "output_type": "stream",
     "text": [
      "2025-02-17 12:26:27,449 - INFO - Fetching data for PG - 2024-08\n"
     ]
    },
    {
     "name": "stdout",
     "output_type": "stream",
     "text": [
      "2025-02-17 12:26:29,645 - __main__ - INFO - Retrieved 11796 data points for 2024-08\n"
     ]
    },
    {
     "name": "stderr",
     "output_type": "stream",
     "text": [
      "2025-02-17 12:26:29,645 - INFO - Retrieved 11796 data points for 2024-08\n"
     ]
    },
    {
     "name": "stdout",
     "output_type": "stream",
     "text": [
      "2025-02-17 12:26:29,645 - __main__ - INFO - Fetching data for PG - 2024-07\n"
     ]
    },
    {
     "name": "stderr",
     "output_type": "stream",
     "text": [
      "2025-02-17 12:26:29,645 - INFO - Fetching data for PG - 2024-07\n"
     ]
    },
    {
     "name": "stdout",
     "output_type": "stream",
     "text": [
      "2025-02-17 12:26:31,878 - __main__ - INFO - Retrieved 11814 data points for 2024-07\n"
     ]
    },
    {
     "name": "stderr",
     "output_type": "stream",
     "text": [
      "2025-02-17 12:26:31,878 - INFO - Retrieved 11814 data points for 2024-07\n"
     ]
    },
    {
     "name": "stdout",
     "output_type": "stream",
     "text": [
      "2025-02-17 12:26:31,878 - __main__ - INFO - Fetching data for PG - 2024-06\n"
     ]
    },
    {
     "name": "stderr",
     "output_type": "stream",
     "text": [
      "2025-02-17 12:26:31,878 - INFO - Fetching data for PG - 2024-06\n"
     ]
    },
    {
     "name": "stdout",
     "output_type": "stream",
     "text": [
      "2025-02-17 12:26:33,986 - __main__ - INFO - Retrieved 9614 data points for 2024-06\n"
     ]
    },
    {
     "name": "stderr",
     "output_type": "stream",
     "text": [
      "2025-02-17 12:26:33,986 - INFO - Retrieved 9614 data points for 2024-06\n"
     ]
    },
    {
     "name": "stdout",
     "output_type": "stream",
     "text": [
      "2025-02-17 12:26:33,988 - __main__ - INFO - Fetching data for PG - 2024-05\n"
     ]
    },
    {
     "name": "stderr",
     "output_type": "stream",
     "text": [
      "2025-02-17 12:26:33,988 - INFO - Fetching data for PG - 2024-05\n"
     ]
    },
    {
     "name": "stdout",
     "output_type": "stream",
     "text": [
      "2025-02-17 12:26:35,012 - __main__ - INFO - Retrieved 11101 data points for 2024-05\n"
     ]
    },
    {
     "name": "stderr",
     "output_type": "stream",
     "text": [
      "2025-02-17 12:26:35,012 - INFO - Retrieved 11101 data points for 2024-05\n"
     ]
    },
    {
     "name": "stdout",
     "output_type": "stream",
     "text": [
      "2025-02-17 12:26:35,013 - __main__ - INFO - Fetching data for PG - 2024-04\n"
     ]
    },
    {
     "name": "stderr",
     "output_type": "stream",
     "text": [
      "2025-02-17 12:26:35,013 - INFO - Fetching data for PG - 2024-04\n"
     ]
    },
    {
     "name": "stdout",
     "output_type": "stream",
     "text": [
      "2025-02-17 12:26:37,320 - __main__ - INFO - Retrieved 11706 data points for 2024-04\n"
     ]
    },
    {
     "name": "stderr",
     "output_type": "stream",
     "text": [
      "2025-02-17 12:26:37,320 - INFO - Retrieved 11706 data points for 2024-04\n"
     ]
    },
    {
     "name": "stdout",
     "output_type": "stream",
     "text": [
      "2025-02-17 12:26:37,321 - __main__ - INFO - Fetching data for PG - 2024-03\n"
     ]
    },
    {
     "name": "stderr",
     "output_type": "stream",
     "text": [
      "2025-02-17 12:26:37,321 - INFO - Fetching data for PG - 2024-03\n"
     ]
    },
    {
     "name": "stdout",
     "output_type": "stream",
     "text": [
      "2025-02-17 12:26:39,485 - __main__ - INFO - Retrieved 9937 data points for 2024-03\n"
     ]
    },
    {
     "name": "stderr",
     "output_type": "stream",
     "text": [
      "2025-02-17 12:26:39,485 - INFO - Retrieved 9937 data points for 2024-03\n"
     ]
    },
    {
     "name": "stdout",
     "output_type": "stream",
     "text": [
      "2025-02-17 12:26:39,486 - __main__ - INFO - Writing data to /Users/benpfeffer/Desktop/CODE/volatility-strategy/db/cache/market_data/PG_1min.csv\n"
     ]
    },
    {
     "name": "stderr",
     "output_type": "stream",
     "text": [
      "2025-02-17 12:26:39,486 - INFO - Writing data to /Users/benpfeffer/Desktop/CODE/volatility-strategy/db/cache/market_data/PG_1min.csv\n"
     ]
    },
    {
     "name": "stdout",
     "output_type": "stream",
     "text": [
      "2025-02-17 12:26:39,490 - __main__ - INFO - Data fetch completed successfully\n"
     ]
    },
    {
     "name": "stderr",
     "output_type": "stream",
     "text": [
      "2025-02-17 12:26:39,490 - INFO - Data fetch completed successfully\n"
     ]
    },
    {
     "name": "stdout",
     "output_type": "stream",
     "text": [
      "2025-02-17 12:26:39,491 - __main__ - INFO - Starting data fetch for RHHBY with 1min interval\n"
     ]
    },
    {
     "name": "stderr",
     "output_type": "stream",
     "text": [
      "2025-02-17 12:26:39,491 - INFO - Starting data fetch for RHHBY with 1min interval\n"
     ]
    },
    {
     "name": "stdout",
     "output_type": "stream",
     "text": [
      "2025-02-17 12:26:39,492 - __main__ - INFO - Using 1min interval - fetching data month by month for past year\n"
     ]
    },
    {
     "name": "stderr",
     "output_type": "stream",
     "text": [
      "2025-02-17 12:26:39,492 - INFO - Using 1min interval - fetching data month by month for past year\n"
     ]
    },
    {
     "name": "stdout",
     "output_type": "stream",
     "text": [
      "2025-02-17 12:26:39,492 - __main__ - INFO - Will fetch data for months: ['2025-02', '2025-01', '2024-12', '2024-11', '2024-10', '2024-09', '2024-08', '2024-07', '2024-06', '2024-05', '2024-04', '2024-03']\n"
     ]
    },
    {
     "name": "stderr",
     "output_type": "stream",
     "text": [
      "2025-02-17 12:26:39,492 - INFO - Will fetch data for months: ['2025-02', '2025-01', '2024-12', '2024-11', '2024-10', '2024-09', '2024-08', '2024-07', '2024-06', '2024-05', '2024-04', '2024-03']\n"
     ]
    },
    {
     "name": "stdout",
     "output_type": "stream",
     "text": [
      "2025-02-17 12:26:39,493 - __main__ - INFO - Fetching data for RHHBY - 2025-02\n"
     ]
    },
    {
     "name": "stderr",
     "output_type": "stream",
     "text": [
      "2025-02-17 12:26:39,493 - INFO - Fetching data for RHHBY - 2025-02\n"
     ]
    },
    {
     "name": "stdout",
     "output_type": "stream",
     "text": [
      "2025-02-17 12:26:39,815 - __main__ - INFO - Retrieved 2 data points for 2025-02\n"
     ]
    },
    {
     "name": "stderr",
     "output_type": "stream",
     "text": [
      "2025-02-17 12:26:39,815 - INFO - Retrieved 2 data points for 2025-02\n"
     ]
    },
    {
     "name": "stdout",
     "output_type": "stream",
     "text": [
      "2025-02-17 12:26:39,816 - __main__ - INFO - Fetching data for RHHBY - 2025-01\n"
     ]
    },
    {
     "name": "stderr",
     "output_type": "stream",
     "text": [
      "2025-02-17 12:26:39,816 - INFO - Fetching data for RHHBY - 2025-01\n"
     ]
    },
    {
     "name": "stdout",
     "output_type": "stream",
     "text": [
      "2025-02-17 12:26:40,114 - __main__ - INFO - Retrieved 2 data points for 2025-01\n"
     ]
    },
    {
     "name": "stderr",
     "output_type": "stream",
     "text": [
      "2025-02-17 12:26:40,114 - INFO - Retrieved 2 data points for 2025-01\n"
     ]
    },
    {
     "name": "stdout",
     "output_type": "stream",
     "text": [
      "2025-02-17 12:26:40,115 - __main__ - INFO - Fetching data for RHHBY - 2024-12\n"
     ]
    },
    {
     "name": "stderr",
     "output_type": "stream",
     "text": [
      "2025-02-17 12:26:40,115 - INFO - Fetching data for RHHBY - 2024-12\n"
     ]
    },
    {
     "name": "stdout",
     "output_type": "stream",
     "text": [
      "2025-02-17 12:26:40,247 - __main__ - INFO - Retrieved 2 data points for 2024-12\n"
     ]
    },
    {
     "name": "stderr",
     "output_type": "stream",
     "text": [
      "2025-02-17 12:26:40,247 - INFO - Retrieved 2 data points for 2024-12\n"
     ]
    },
    {
     "name": "stdout",
     "output_type": "stream",
     "text": [
      "2025-02-17 12:26:40,247 - __main__ - INFO - Fetching data for RHHBY - 2024-11\n"
     ]
    },
    {
     "name": "stderr",
     "output_type": "stream",
     "text": [
      "2025-02-17 12:26:40,247 - INFO - Fetching data for RHHBY - 2024-11\n"
     ]
    },
    {
     "name": "stdout",
     "output_type": "stream",
     "text": [
      "2025-02-17 12:26:40,399 - __main__ - INFO - Retrieved 2 data points for 2024-11\n"
     ]
    },
    {
     "name": "stderr",
     "output_type": "stream",
     "text": [
      "2025-02-17 12:26:40,399 - INFO - Retrieved 2 data points for 2024-11\n"
     ]
    },
    {
     "name": "stdout",
     "output_type": "stream",
     "text": [
      "2025-02-17 12:26:40,400 - __main__ - INFO - Fetching data for RHHBY - 2024-10\n"
     ]
    },
    {
     "name": "stderr",
     "output_type": "stream",
     "text": [
      "2025-02-17 12:26:40,400 - INFO - Fetching data for RHHBY - 2024-10\n"
     ]
    },
    {
     "name": "stdout",
     "output_type": "stream",
     "text": [
      "2025-02-17 12:26:40,702 - __main__ - INFO - Retrieved 2 data points for 2024-10\n"
     ]
    },
    {
     "name": "stderr",
     "output_type": "stream",
     "text": [
      "2025-02-17 12:26:40,702 - INFO - Retrieved 2 data points for 2024-10\n"
     ]
    },
    {
     "name": "stdout",
     "output_type": "stream",
     "text": [
      "2025-02-17 12:26:40,703 - __main__ - INFO - Fetching data for RHHBY - 2024-09\n"
     ]
    },
    {
     "name": "stderr",
     "output_type": "stream",
     "text": [
      "2025-02-17 12:26:40,703 - INFO - Fetching data for RHHBY - 2024-09\n"
     ]
    },
    {
     "name": "stdout",
     "output_type": "stream",
     "text": [
      "2025-02-17 12:26:40,836 - __main__ - INFO - Retrieved 2 data points for 2024-09\n"
     ]
    },
    {
     "name": "stderr",
     "output_type": "stream",
     "text": [
      "2025-02-17 12:26:40,836 - INFO - Retrieved 2 data points for 2024-09\n"
     ]
    },
    {
     "name": "stdout",
     "output_type": "stream",
     "text": [
      "2025-02-17 12:26:40,837 - __main__ - INFO - Fetching data for RHHBY - 2024-08\n"
     ]
    },
    {
     "name": "stderr",
     "output_type": "stream",
     "text": [
      "2025-02-17 12:26:40,837 - INFO - Fetching data for RHHBY - 2024-08\n"
     ]
    },
    {
     "name": "stdout",
     "output_type": "stream",
     "text": [
      "2025-02-17 12:26:41,200 - __main__ - INFO - Retrieved 2 data points for 2024-08\n"
     ]
    },
    {
     "name": "stderr",
     "output_type": "stream",
     "text": [
      "2025-02-17 12:26:41,200 - INFO - Retrieved 2 data points for 2024-08\n"
     ]
    },
    {
     "name": "stdout",
     "output_type": "stream",
     "text": [
      "2025-02-17 12:26:41,201 - __main__ - INFO - Fetching data for RHHBY - 2024-07\n"
     ]
    },
    {
     "name": "stderr",
     "output_type": "stream",
     "text": [
      "2025-02-17 12:26:41,201 - INFO - Fetching data for RHHBY - 2024-07\n"
     ]
    },
    {
     "name": "stdout",
     "output_type": "stream",
     "text": [
      "2025-02-17 12:26:41,352 - __main__ - INFO - Retrieved 2 data points for 2024-07\n"
     ]
    },
    {
     "name": "stderr",
     "output_type": "stream",
     "text": [
      "2025-02-17 12:26:41,352 - INFO - Retrieved 2 data points for 2024-07\n"
     ]
    },
    {
     "name": "stdout",
     "output_type": "stream",
     "text": [
      "2025-02-17 12:26:41,352 - __main__ - INFO - Fetching data for RHHBY - 2024-06\n"
     ]
    },
    {
     "name": "stderr",
     "output_type": "stream",
     "text": [
      "2025-02-17 12:26:41,352 - INFO - Fetching data for RHHBY - 2024-06\n"
     ]
    },
    {
     "name": "stdout",
     "output_type": "stream",
     "text": [
      "2025-02-17 12:26:41,647 - __main__ - INFO - Retrieved 2 data points for 2024-06\n"
     ]
    },
    {
     "name": "stderr",
     "output_type": "stream",
     "text": [
      "2025-02-17 12:26:41,647 - INFO - Retrieved 2 data points for 2024-06\n"
     ]
    },
    {
     "name": "stdout",
     "output_type": "stream",
     "text": [
      "2025-02-17 12:26:41,648 - __main__ - INFO - Fetching data for RHHBY - 2024-05\n"
     ]
    },
    {
     "name": "stderr",
     "output_type": "stream",
     "text": [
      "2025-02-17 12:26:41,648 - INFO - Fetching data for RHHBY - 2024-05\n"
     ]
    },
    {
     "name": "stdout",
     "output_type": "stream",
     "text": [
      "2025-02-17 12:26:41,805 - __main__ - INFO - Retrieved 2 data points for 2024-05\n"
     ]
    },
    {
     "name": "stderr",
     "output_type": "stream",
     "text": [
      "2025-02-17 12:26:41,805 - INFO - Retrieved 2 data points for 2024-05\n"
     ]
    },
    {
     "name": "stdout",
     "output_type": "stream",
     "text": [
      "2025-02-17 12:26:41,805 - __main__ - INFO - Fetching data for RHHBY - 2024-04\n"
     ]
    },
    {
     "name": "stderr",
     "output_type": "stream",
     "text": [
      "2025-02-17 12:26:41,805 - INFO - Fetching data for RHHBY - 2024-04\n"
     ]
    },
    {
     "name": "stdout",
     "output_type": "stream",
     "text": [
      "2025-02-17 12:26:41,956 - __main__ - INFO - Retrieved 2 data points for 2024-04\n"
     ]
    },
    {
     "name": "stderr",
     "output_type": "stream",
     "text": [
      "2025-02-17 12:26:41,956 - INFO - Retrieved 2 data points for 2024-04\n"
     ]
    },
    {
     "name": "stdout",
     "output_type": "stream",
     "text": [
      "2025-02-17 12:26:41,957 - __main__ - INFO - Fetching data for RHHBY - 2024-03\n"
     ]
    },
    {
     "name": "stderr",
     "output_type": "stream",
     "text": [
      "2025-02-17 12:26:41,957 - INFO - Fetching data for RHHBY - 2024-03\n"
     ]
    },
    {
     "name": "stdout",
     "output_type": "stream",
     "text": [
      "2025-02-17 12:26:42,271 - __main__ - INFO - Retrieved 2 data points for 2024-03\n"
     ]
    },
    {
     "name": "stderr",
     "output_type": "stream",
     "text": [
      "2025-02-17 12:26:42,271 - INFO - Retrieved 2 data points for 2024-03\n"
     ]
    },
    {
     "name": "stdout",
     "output_type": "stream",
     "text": [
      "2025-02-17 12:26:42,272 - __main__ - INFO - Writing data to /Users/benpfeffer/Desktop/CODE/volatility-strategy/db/cache/market_data/RHHBY_1min.csv\n"
     ]
    },
    {
     "name": "stderr",
     "output_type": "stream",
     "text": [
      "2025-02-17 12:26:42,272 - INFO - Writing data to /Users/benpfeffer/Desktop/CODE/volatility-strategy/db/cache/market_data/RHHBY_1min.csv\n"
     ]
    },
    {
     "name": "stdout",
     "output_type": "stream",
     "text": [
      "2025-02-17 12:26:42,273 - __main__ - INFO - Data fetch completed successfully\n"
     ]
    },
    {
     "name": "stderr",
     "output_type": "stream",
     "text": [
      "2025-02-17 12:26:42,273 - INFO - Data fetch completed successfully\n"
     ]
    },
    {
     "name": "stdout",
     "output_type": "stream",
     "text": [
      "2025-02-17 12:26:42,273 - __main__ - INFO - Starting data fetch for RY with 1min interval\n"
     ]
    },
    {
     "name": "stderr",
     "output_type": "stream",
     "text": [
      "2025-02-17 12:26:42,273 - INFO - Starting data fetch for RY with 1min interval\n"
     ]
    },
    {
     "name": "stdout",
     "output_type": "stream",
     "text": [
      "2025-02-17 12:26:42,274 - __main__ - INFO - Using 1min interval - fetching data month by month for past year\n"
     ]
    },
    {
     "name": "stderr",
     "output_type": "stream",
     "text": [
      "2025-02-17 12:26:42,274 - INFO - Using 1min interval - fetching data month by month for past year\n"
     ]
    },
    {
     "name": "stdout",
     "output_type": "stream",
     "text": [
      "2025-02-17 12:26:42,275 - __main__ - INFO - Will fetch data for months: ['2025-02', '2025-01', '2024-12', '2024-11', '2024-10', '2024-09', '2024-08', '2024-07', '2024-06', '2024-05', '2024-04', '2024-03']\n"
     ]
    },
    {
     "name": "stderr",
     "output_type": "stream",
     "text": [
      "2025-02-17 12:26:42,275 - INFO - Will fetch data for months: ['2025-02', '2025-01', '2024-12', '2024-11', '2024-10', '2024-09', '2024-08', '2024-07', '2024-06', '2024-05', '2024-04', '2024-03']\n"
     ]
    },
    {
     "name": "stdout",
     "output_type": "stream",
     "text": [
      "2025-02-17 12:26:42,275 - __main__ - INFO - Fetching data for RY - 2025-02\n"
     ]
    },
    {
     "name": "stderr",
     "output_type": "stream",
     "text": [
      "2025-02-17 12:26:42,275 - INFO - Fetching data for RY - 2025-02\n"
     ]
    },
    {
     "name": "stdout",
     "output_type": "stream",
     "text": [
      "2025-02-17 12:26:42,884 - __main__ - INFO - Retrieved 3522 data points for 2025-02\n"
     ]
    },
    {
     "name": "stderr",
     "output_type": "stream",
     "text": [
      "2025-02-17 12:26:42,884 - INFO - Retrieved 3522 data points for 2025-02\n"
     ]
    },
    {
     "name": "stdout",
     "output_type": "stream",
     "text": [
      "2025-02-17 12:26:42,885 - __main__ - INFO - Fetching data for RY - 2025-01\n"
     ]
    },
    {
     "name": "stderr",
     "output_type": "stream",
     "text": [
      "2025-02-17 12:26:42,885 - INFO - Fetching data for RY - 2025-01\n"
     ]
    },
    {
     "name": "stdout",
     "output_type": "stream",
     "text": [
      "2025-02-17 12:26:43,846 - __main__ - INFO - Retrieved 7264 data points for 2025-01\n"
     ]
    },
    {
     "name": "stderr",
     "output_type": "stream",
     "text": [
      "2025-02-17 12:26:43,846 - INFO - Retrieved 7264 data points for 2025-01\n"
     ]
    },
    {
     "name": "stdout",
     "output_type": "stream",
     "text": [
      "2025-02-17 12:26:43,847 - __main__ - INFO - Fetching data for RY - 2024-12\n"
     ]
    },
    {
     "name": "stderr",
     "output_type": "stream",
     "text": [
      "2025-02-17 12:26:43,847 - INFO - Fetching data for RY - 2024-12\n"
     ]
    },
    {
     "name": "stdout",
     "output_type": "stream",
     "text": [
      "2025-02-17 12:26:44,812 - __main__ - INFO - Retrieved 6945 data points for 2024-12\n"
     ]
    },
    {
     "name": "stderr",
     "output_type": "stream",
     "text": [
      "2025-02-17 12:26:44,812 - INFO - Retrieved 6945 data points for 2024-12\n"
     ]
    },
    {
     "name": "stdout",
     "output_type": "stream",
     "text": [
      "2025-02-17 12:26:44,813 - __main__ - INFO - Fetching data for RY - 2024-11\n"
     ]
    },
    {
     "name": "stderr",
     "output_type": "stream",
     "text": [
      "2025-02-17 12:26:44,813 - INFO - Fetching data for RY - 2024-11\n"
     ]
    },
    {
     "name": "stdout",
     "output_type": "stream",
     "text": [
      "2025-02-17 12:26:46,552 - __main__ - INFO - Retrieved 6782 data points for 2024-11\n"
     ]
    },
    {
     "name": "stderr",
     "output_type": "stream",
     "text": [
      "2025-02-17 12:26:46,552 - INFO - Retrieved 6782 data points for 2024-11\n"
     ]
    },
    {
     "name": "stdout",
     "output_type": "stream",
     "text": [
      "2025-02-17 12:26:46,552 - __main__ - INFO - Fetching data for RY - 2024-10\n"
     ]
    },
    {
     "name": "stderr",
     "output_type": "stream",
     "text": [
      "2025-02-17 12:26:46,552 - INFO - Fetching data for RY - 2024-10\n"
     ]
    },
    {
     "name": "stdout",
     "output_type": "stream",
     "text": [
      "2025-02-17 12:26:48,294 - __main__ - INFO - Retrieved 7532 data points for 2024-10\n"
     ]
    },
    {
     "name": "stderr",
     "output_type": "stream",
     "text": [
      "2025-02-17 12:26:48,294 - INFO - Retrieved 7532 data points for 2024-10\n"
     ]
    },
    {
     "name": "stdout",
     "output_type": "stream",
     "text": [
      "2025-02-17 12:26:48,295 - __main__ - INFO - Fetching data for RY - 2024-09\n"
     ]
    },
    {
     "name": "stderr",
     "output_type": "stream",
     "text": [
      "2025-02-17 12:26:48,295 - INFO - Fetching data for RY - 2024-09\n"
     ]
    },
    {
     "name": "stdout",
     "output_type": "stream",
     "text": [
      "2025-02-17 12:26:49,913 - __main__ - INFO - Retrieved 6960 data points for 2024-09\n"
     ]
    },
    {
     "name": "stderr",
     "output_type": "stream",
     "text": [
      "2025-02-17 12:26:49,913 - INFO - Retrieved 6960 data points for 2024-09\n"
     ]
    },
    {
     "name": "stdout",
     "output_type": "stream",
     "text": [
      "2025-02-17 12:26:49,914 - __main__ - INFO - Fetching data for RY - 2024-08\n"
     ]
    },
    {
     "name": "stderr",
     "output_type": "stream",
     "text": [
      "2025-02-17 12:26:49,914 - INFO - Fetching data for RY - 2024-08\n"
     ]
    },
    {
     "name": "stdout",
     "output_type": "stream",
     "text": [
      "2025-02-17 12:26:51,695 - __main__ - INFO - Retrieved 7752 data points for 2024-08\n"
     ]
    },
    {
     "name": "stderr",
     "output_type": "stream",
     "text": [
      "2025-02-17 12:26:51,695 - INFO - Retrieved 7752 data points for 2024-08\n"
     ]
    },
    {
     "name": "stdout",
     "output_type": "stream",
     "text": [
      "2025-02-17 12:26:51,696 - __main__ - INFO - Fetching data for RY - 2024-07\n"
     ]
    },
    {
     "name": "stderr",
     "output_type": "stream",
     "text": [
      "2025-02-17 12:26:51,696 - INFO - Fetching data for RY - 2024-07\n"
     ]
    },
    {
     "name": "stdout",
     "output_type": "stream",
     "text": [
      "2025-02-17 12:26:53,538 - __main__ - INFO - Retrieved 7693 data points for 2024-07\n"
     ]
    },
    {
     "name": "stderr",
     "output_type": "stream",
     "text": [
      "2025-02-17 12:26:53,538 - INFO - Retrieved 7693 data points for 2024-07\n"
     ]
    },
    {
     "name": "stdout",
     "output_type": "stream",
     "text": [
      "2025-02-17 12:26:53,539 - __main__ - INFO - Fetching data for RY - 2024-06\n"
     ]
    },
    {
     "name": "stderr",
     "output_type": "stream",
     "text": [
      "2025-02-17 12:26:53,539 - INFO - Fetching data for RY - 2024-06\n"
     ]
    },
    {
     "name": "stdout",
     "output_type": "stream",
     "text": [
      "2025-02-17 12:26:55,148 - __main__ - INFO - Retrieved 6733 data points for 2024-06\n"
     ]
    },
    {
     "name": "stderr",
     "output_type": "stream",
     "text": [
      "2025-02-17 12:26:55,148 - INFO - Retrieved 6733 data points for 2024-06\n"
     ]
    },
    {
     "name": "stdout",
     "output_type": "stream",
     "text": [
      "2025-02-17 12:26:55,149 - __main__ - INFO - Fetching data for RY - 2024-05\n"
     ]
    },
    {
     "name": "stderr",
     "output_type": "stream",
     "text": [
      "2025-02-17 12:26:55,149 - INFO - Fetching data for RY - 2024-05\n"
     ]
    },
    {
     "name": "stdout",
     "output_type": "stream",
     "text": [
      "2025-02-17 12:26:55,911 - __main__ - INFO - Retrieved 7943 data points for 2024-05\n"
     ]
    },
    {
     "name": "stderr",
     "output_type": "stream",
     "text": [
      "2025-02-17 12:26:55,911 - INFO - Retrieved 7943 data points for 2024-05\n"
     ]
    },
    {
     "name": "stdout",
     "output_type": "stream",
     "text": [
      "2025-02-17 12:26:55,912 - __main__ - INFO - Fetching data for RY - 2024-04\n"
     ]
    },
    {
     "name": "stderr",
     "output_type": "stream",
     "text": [
      "2025-02-17 12:26:55,912 - INFO - Fetching data for RY - 2024-04\n"
     ]
    },
    {
     "name": "stdout",
     "output_type": "stream",
     "text": [
      "2025-02-17 12:26:57,667 - __main__ - INFO - Retrieved 8432 data points for 2024-04\n"
     ]
    },
    {
     "name": "stderr",
     "output_type": "stream",
     "text": [
      "2025-02-17 12:26:57,667 - INFO - Retrieved 8432 data points for 2024-04\n"
     ]
    },
    {
     "name": "stdout",
     "output_type": "stream",
     "text": [
      "2025-02-17 12:26:57,668 - __main__ - INFO - Fetching data for RY - 2024-03\n"
     ]
    },
    {
     "name": "stderr",
     "output_type": "stream",
     "text": [
      "2025-02-17 12:26:57,668 - INFO - Fetching data for RY - 2024-03\n"
     ]
    },
    {
     "name": "stdout",
     "output_type": "stream",
     "text": [
      "2025-02-17 12:26:59,342 - __main__ - INFO - Retrieved 6821 data points for 2024-03\n"
     ]
    },
    {
     "name": "stderr",
     "output_type": "stream",
     "text": [
      "2025-02-17 12:26:59,342 - INFO - Retrieved 6821 data points for 2024-03\n"
     ]
    },
    {
     "name": "stdout",
     "output_type": "stream",
     "text": [
      "2025-02-17 12:26:59,343 - __main__ - INFO - Writing data to /Users/benpfeffer/Desktop/CODE/volatility-strategy/db/cache/market_data/RY_1min.csv\n"
     ]
    },
    {
     "name": "stderr",
     "output_type": "stream",
     "text": [
      "2025-02-17 12:26:59,343 - INFO - Writing data to /Users/benpfeffer/Desktop/CODE/volatility-strategy/db/cache/market_data/RY_1min.csv\n"
     ]
    },
    {
     "name": "stdout",
     "output_type": "stream",
     "text": [
      "2025-02-17 12:26:59,346 - __main__ - INFO - Data fetch completed successfully\n"
     ]
    },
    {
     "name": "stderr",
     "output_type": "stream",
     "text": [
      "2025-02-17 12:26:59,346 - INFO - Data fetch completed successfully\n"
     ]
    },
    {
     "name": "stdout",
     "output_type": "stream",
     "text": [
      "2025-02-17 12:26:59,348 - __main__ - INFO - Starting data fetch for SHEL with 1min interval\n"
     ]
    },
    {
     "name": "stderr",
     "output_type": "stream",
     "text": [
      "2025-02-17 12:26:59,348 - INFO - Starting data fetch for SHEL with 1min interval\n"
     ]
    },
    {
     "name": "stdout",
     "output_type": "stream",
     "text": [
      "2025-02-17 12:26:59,348 - __main__ - INFO - Using 1min interval - fetching data month by month for past year\n"
     ]
    },
    {
     "name": "stderr",
     "output_type": "stream",
     "text": [
      "2025-02-17 12:26:59,348 - INFO - Using 1min interval - fetching data month by month for past year\n"
     ]
    },
    {
     "name": "stdout",
     "output_type": "stream",
     "text": [
      "2025-02-17 12:26:59,349 - __main__ - INFO - Will fetch data for months: ['2025-02', '2025-01', '2024-12', '2024-11', '2024-10', '2024-09', '2024-08', '2024-07', '2024-06', '2024-05', '2024-04', '2024-03']\n"
     ]
    },
    {
     "name": "stderr",
     "output_type": "stream",
     "text": [
      "2025-02-17 12:26:59,349 - INFO - Will fetch data for months: ['2025-02', '2025-01', '2024-12', '2024-11', '2024-10', '2024-09', '2024-08', '2024-07', '2024-06', '2024-05', '2024-04', '2024-03']\n"
     ]
    },
    {
     "name": "stdout",
     "output_type": "stream",
     "text": [
      "2025-02-17 12:26:59,349 - __main__ - INFO - Fetching data for SHEL - 2025-02\n"
     ]
    },
    {
     "name": "stderr",
     "output_type": "stream",
     "text": [
      "2025-02-17 12:26:59,349 - INFO - Fetching data for SHEL - 2025-02\n"
     ]
    },
    {
     "name": "stdout",
     "output_type": "stream",
     "text": [
      "2025-02-17 12:27:00,122 - __main__ - INFO - Retrieved 5697 data points for 2025-02\n"
     ]
    },
    {
     "name": "stderr",
     "output_type": "stream",
     "text": [
      "2025-02-17 12:27:00,122 - INFO - Retrieved 5697 data points for 2025-02\n"
     ]
    },
    {
     "name": "stdout",
     "output_type": "stream",
     "text": [
      "2025-02-17 12:27:00,123 - __main__ - INFO - Fetching data for SHEL - 2025-01\n"
     ]
    },
    {
     "name": "stderr",
     "output_type": "stream",
     "text": [
      "2025-02-17 12:27:00,123 - INFO - Fetching data for SHEL - 2025-01\n"
     ]
    },
    {
     "name": "stdout",
     "output_type": "stream",
     "text": [
      "2025-02-17 12:27:01,005 - __main__ - INFO - Retrieved 12269 data points for 2025-01\n"
     ]
    },
    {
     "name": "stderr",
     "output_type": "stream",
     "text": [
      "2025-02-17 12:27:01,005 - INFO - Retrieved 12269 data points for 2025-01\n"
     ]
    },
    {
     "name": "stdout",
     "output_type": "stream",
     "text": [
      "2025-02-17 12:27:01,006 - __main__ - INFO - Fetching data for SHEL - 2024-12\n"
     ]
    },
    {
     "name": "stderr",
     "output_type": "stream",
     "text": [
      "2025-02-17 12:27:01,006 - INFO - Fetching data for SHEL - 2024-12\n"
     ]
    },
    {
     "name": "stdout",
     "output_type": "stream",
     "text": [
      "2025-02-17 12:27:03,086 - __main__ - INFO - Retrieved 11878 data points for 2024-12\n"
     ]
    },
    {
     "name": "stderr",
     "output_type": "stream",
     "text": [
      "2025-02-17 12:27:03,086 - INFO - Retrieved 11878 data points for 2024-12\n"
     ]
    },
    {
     "name": "stdout",
     "output_type": "stream",
     "text": [
      "2025-02-17 12:27:03,087 - __main__ - INFO - Fetching data for SHEL - 2024-11\n"
     ]
    },
    {
     "name": "stderr",
     "output_type": "stream",
     "text": [
      "2025-02-17 12:27:03,087 - INFO - Fetching data for SHEL - 2024-11\n"
     ]
    },
    {
     "name": "stdout",
     "output_type": "stream",
     "text": [
      "2025-02-17 12:27:05,467 - __main__ - INFO - Retrieved 11959 data points for 2024-11\n"
     ]
    },
    {
     "name": "stderr",
     "output_type": "stream",
     "text": [
      "2025-02-17 12:27:05,467 - INFO - Retrieved 11959 data points for 2024-11\n"
     ]
    },
    {
     "name": "stdout",
     "output_type": "stream",
     "text": [
      "2025-02-17 12:27:05,468 - __main__ - INFO - Fetching data for SHEL - 2024-10\n"
     ]
    },
    {
     "name": "stderr",
     "output_type": "stream",
     "text": [
      "2025-02-17 12:27:05,468 - INFO - Fetching data for SHEL - 2024-10\n"
     ]
    },
    {
     "name": "stdout",
     "output_type": "stream",
     "text": [
      "2025-02-17 12:27:07,943 - __main__ - INFO - Retrieved 13538 data points for 2024-10\n"
     ]
    },
    {
     "name": "stderr",
     "output_type": "stream",
     "text": [
      "2025-02-17 12:27:07,943 - INFO - Retrieved 13538 data points for 2024-10\n"
     ]
    },
    {
     "name": "stdout",
     "output_type": "stream",
     "text": [
      "2025-02-17 12:27:07,944 - __main__ - INFO - Fetching data for SHEL - 2024-09\n"
     ]
    },
    {
     "name": "stderr",
     "output_type": "stream",
     "text": [
      "2025-02-17 12:27:07,944 - INFO - Fetching data for SHEL - 2024-09\n"
     ]
    },
    {
     "name": "stdout",
     "output_type": "stream",
     "text": [
      "2025-02-17 12:27:10,248 - __main__ - INFO - Retrieved 11557 data points for 2024-09\n"
     ]
    },
    {
     "name": "stderr",
     "output_type": "stream",
     "text": [
      "2025-02-17 12:27:10,248 - INFO - Retrieved 11557 data points for 2024-09\n"
     ]
    },
    {
     "name": "stdout",
     "output_type": "stream",
     "text": [
      "2025-02-17 12:27:10,249 - __main__ - INFO - Fetching data for SHEL - 2024-08\n"
     ]
    },
    {
     "name": "stderr",
     "output_type": "stream",
     "text": [
      "2025-02-17 12:27:10,249 - INFO - Fetching data for SHEL - 2024-08\n"
     ]
    },
    {
     "name": "stdout",
     "output_type": "stream",
     "text": [
      "2025-02-17 12:27:12,799 - __main__ - INFO - Retrieved 12549 data points for 2024-08\n"
     ]
    },
    {
     "name": "stderr",
     "output_type": "stream",
     "text": [
      "2025-02-17 12:27:12,799 - INFO - Retrieved 12549 data points for 2024-08\n"
     ]
    },
    {
     "name": "stdout",
     "output_type": "stream",
     "text": [
      "2025-02-17 12:27:12,800 - __main__ - INFO - Fetching data for SHEL - 2024-07\n"
     ]
    },
    {
     "name": "stderr",
     "output_type": "stream",
     "text": [
      "2025-02-17 12:27:12,800 - INFO - Fetching data for SHEL - 2024-07\n"
     ]
    },
    {
     "name": "stdout",
     "output_type": "stream",
     "text": [
      "2025-02-17 12:27:15,208 - __main__ - INFO - Retrieved 12179 data points for 2024-07\n"
     ]
    },
    {
     "name": "stderr",
     "output_type": "stream",
     "text": [
      "2025-02-17 12:27:15,208 - INFO - Retrieved 12179 data points for 2024-07\n"
     ]
    },
    {
     "name": "stdout",
     "output_type": "stream",
     "text": [
      "2025-02-17 12:27:15,209 - __main__ - INFO - Fetching data for SHEL - 2024-06\n"
     ]
    },
    {
     "name": "stderr",
     "output_type": "stream",
     "text": [
      "2025-02-17 12:27:15,209 - INFO - Fetching data for SHEL - 2024-06\n"
     ]
    },
    {
     "name": "stdout",
     "output_type": "stream",
     "text": [
      "2025-02-17 12:27:17,286 - __main__ - INFO - Retrieved 10714 data points for 2024-06\n"
     ]
    },
    {
     "name": "stderr",
     "output_type": "stream",
     "text": [
      "2025-02-17 12:27:17,286 - INFO - Retrieved 10714 data points for 2024-06\n"
     ]
    },
    {
     "name": "stdout",
     "output_type": "stream",
     "text": [
      "2025-02-17 12:27:17,287 - __main__ - INFO - Fetching data for SHEL - 2024-05\n"
     ]
    },
    {
     "name": "stderr",
     "output_type": "stream",
     "text": [
      "2025-02-17 12:27:17,287 - INFO - Fetching data for SHEL - 2024-05\n"
     ]
    },
    {
     "name": "stdout",
     "output_type": "stream",
     "text": [
      "2025-02-17 12:27:19,768 - __main__ - INFO - Retrieved 12182 data points for 2024-05\n"
     ]
    },
    {
     "name": "stderr",
     "output_type": "stream",
     "text": [
      "2025-02-17 12:27:19,768 - INFO - Retrieved 12182 data points for 2024-05\n"
     ]
    },
    {
     "name": "stdout",
     "output_type": "stream",
     "text": [
      "2025-02-17 12:27:19,769 - __main__ - INFO - Fetching data for SHEL - 2024-04\n"
     ]
    },
    {
     "name": "stderr",
     "output_type": "stream",
     "text": [
      "2025-02-17 12:27:19,769 - INFO - Fetching data for SHEL - 2024-04\n"
     ]
    },
    {
     "name": "stdout",
     "output_type": "stream",
     "text": [
      "2025-02-17 12:27:22,411 - __main__ - INFO - Retrieved 12944 data points for 2024-04\n"
     ]
    },
    {
     "name": "stderr",
     "output_type": "stream",
     "text": [
      "2025-02-17 12:27:22,411 - INFO - Retrieved 12944 data points for 2024-04\n"
     ]
    },
    {
     "name": "stdout",
     "output_type": "stream",
     "text": [
      "2025-02-17 12:27:22,412 - __main__ - INFO - Fetching data for SHEL - 2024-03\n"
     ]
    },
    {
     "name": "stderr",
     "output_type": "stream",
     "text": [
      "2025-02-17 12:27:22,412 - INFO - Fetching data for SHEL - 2024-03\n"
     ]
    },
    {
     "name": "stdout",
     "output_type": "stream",
     "text": [
      "2025-02-17 12:27:24,759 - __main__ - INFO - Retrieved 10928 data points for 2024-03\n"
     ]
    },
    {
     "name": "stderr",
     "output_type": "stream",
     "text": [
      "2025-02-17 12:27:24,759 - INFO - Retrieved 10928 data points for 2024-03\n"
     ]
    },
    {
     "name": "stdout",
     "output_type": "stream",
     "text": [
      "2025-02-17 12:27:24,759 - __main__ - INFO - Writing data to /Users/benpfeffer/Desktop/CODE/volatility-strategy/db/cache/market_data/SHEL_1min.csv\n"
     ]
    },
    {
     "name": "stderr",
     "output_type": "stream",
     "text": [
      "2025-02-17 12:27:24,759 - INFO - Writing data to /Users/benpfeffer/Desktop/CODE/volatility-strategy/db/cache/market_data/SHEL_1min.csv\n"
     ]
    },
    {
     "name": "stdout",
     "output_type": "stream",
     "text": [
      "2025-02-17 12:27:24,766 - __main__ - INFO - Data fetch completed successfully\n"
     ]
    },
    {
     "name": "stderr",
     "output_type": "stream",
     "text": [
      "2025-02-17 12:27:24,766 - INFO - Data fetch completed successfully\n"
     ]
    },
    {
     "name": "stdout",
     "output_type": "stream",
     "text": [
      "2025-02-17 12:27:24,767 - __main__ - INFO - Starting data fetch for SSNLF with 1min interval\n"
     ]
    },
    {
     "name": "stderr",
     "output_type": "stream",
     "text": [
      "2025-02-17 12:27:24,767 - INFO - Starting data fetch for SSNLF with 1min interval\n"
     ]
    },
    {
     "name": "stdout",
     "output_type": "stream",
     "text": [
      "2025-02-17 12:27:24,768 - __main__ - INFO - Using 1min interval - fetching data month by month for past year\n"
     ]
    },
    {
     "name": "stderr",
     "output_type": "stream",
     "text": [
      "2025-02-17 12:27:24,768 - INFO - Using 1min interval - fetching data month by month for past year\n"
     ]
    },
    {
     "name": "stdout",
     "output_type": "stream",
     "text": [
      "2025-02-17 12:27:24,769 - __main__ - INFO - Will fetch data for months: ['2025-02', '2025-01', '2024-12', '2024-11', '2024-10', '2024-09', '2024-08', '2024-07', '2024-06', '2024-05', '2024-04', '2024-03']\n"
     ]
    },
    {
     "name": "stderr",
     "output_type": "stream",
     "text": [
      "2025-02-17 12:27:24,769 - INFO - Will fetch data for months: ['2025-02', '2025-01', '2024-12', '2024-11', '2024-10', '2024-09', '2024-08', '2024-07', '2024-06', '2024-05', '2024-04', '2024-03']\n"
     ]
    },
    {
     "name": "stdout",
     "output_type": "stream",
     "text": [
      "2025-02-17 12:27:24,769 - __main__ - INFO - Fetching data for SSNLF - 2025-02\n"
     ]
    },
    {
     "name": "stderr",
     "output_type": "stream",
     "text": [
      "2025-02-17 12:27:24,769 - INFO - Fetching data for SSNLF - 2025-02\n"
     ]
    },
    {
     "name": "stdout",
     "output_type": "stream",
     "text": [
      "2025-02-17 12:27:24,920 - __main__ - INFO - Retrieved 2 data points for 2025-02\n"
     ]
    },
    {
     "name": "stderr",
     "output_type": "stream",
     "text": [
      "2025-02-17 12:27:24,920 - INFO - Retrieved 2 data points for 2025-02\n"
     ]
    },
    {
     "name": "stdout",
     "output_type": "stream",
     "text": [
      "2025-02-17 12:27:24,921 - __main__ - INFO - Fetching data for SSNLF - 2025-01\n"
     ]
    },
    {
     "name": "stderr",
     "output_type": "stream",
     "text": [
      "2025-02-17 12:27:24,921 - INFO - Fetching data for SSNLF - 2025-01\n"
     ]
    },
    {
     "name": "stdout",
     "output_type": "stream",
     "text": [
      "2025-02-17 12:27:25,263 - __main__ - INFO - Retrieved 2 data points for 2025-01\n"
     ]
    },
    {
     "name": "stderr",
     "output_type": "stream",
     "text": [
      "2025-02-17 12:27:25,263 - INFO - Retrieved 2 data points for 2025-01\n"
     ]
    },
    {
     "name": "stdout",
     "output_type": "stream",
     "text": [
      "2025-02-17 12:27:25,264 - __main__ - INFO - Fetching data for SSNLF - 2024-12\n"
     ]
    },
    {
     "name": "stderr",
     "output_type": "stream",
     "text": [
      "2025-02-17 12:27:25,264 - INFO - Fetching data for SSNLF - 2024-12\n"
     ]
    },
    {
     "name": "stdout",
     "output_type": "stream",
     "text": [
      "2025-02-17 12:27:25,580 - __main__ - INFO - Retrieved 2 data points for 2024-12\n"
     ]
    },
    {
     "name": "stderr",
     "output_type": "stream",
     "text": [
      "2025-02-17 12:27:25,580 - INFO - Retrieved 2 data points for 2024-12\n"
     ]
    },
    {
     "name": "stdout",
     "output_type": "stream",
     "text": [
      "2025-02-17 12:27:25,581 - __main__ - INFO - Fetching data for SSNLF - 2024-11\n"
     ]
    },
    {
     "name": "stderr",
     "output_type": "stream",
     "text": [
      "2025-02-17 12:27:25,581 - INFO - Fetching data for SSNLF - 2024-11\n"
     ]
    },
    {
     "name": "stdout",
     "output_type": "stream",
     "text": [
      "2025-02-17 12:27:25,754 - __main__ - INFO - Retrieved 2 data points for 2024-11\n"
     ]
    },
    {
     "name": "stderr",
     "output_type": "stream",
     "text": [
      "2025-02-17 12:27:25,754 - INFO - Retrieved 2 data points for 2024-11\n"
     ]
    },
    {
     "name": "stdout",
     "output_type": "stream",
     "text": [
      "2025-02-17 12:27:25,755 - __main__ - INFO - Fetching data for SSNLF - 2024-10\n"
     ]
    },
    {
     "name": "stderr",
     "output_type": "stream",
     "text": [
      "2025-02-17 12:27:25,755 - INFO - Fetching data for SSNLF - 2024-10\n"
     ]
    },
    {
     "name": "stdout",
     "output_type": "stream",
     "text": [
      "2025-02-17 12:27:25,893 - __main__ - INFO - Retrieved 2 data points for 2024-10\n"
     ]
    },
    {
     "name": "stderr",
     "output_type": "stream",
     "text": [
      "2025-02-17 12:27:25,893 - INFO - Retrieved 2 data points for 2024-10\n"
     ]
    },
    {
     "name": "stdout",
     "output_type": "stream",
     "text": [
      "2025-02-17 12:27:25,894 - __main__ - INFO - Fetching data for SSNLF - 2024-09\n"
     ]
    },
    {
     "name": "stderr",
     "output_type": "stream",
     "text": [
      "2025-02-17 12:27:25,894 - INFO - Fetching data for SSNLF - 2024-09\n"
     ]
    },
    {
     "name": "stdout",
     "output_type": "stream",
     "text": [
      "2025-02-17 12:27:26,208 - __main__ - INFO - Retrieved 2 data points for 2024-09\n"
     ]
    },
    {
     "name": "stderr",
     "output_type": "stream",
     "text": [
      "2025-02-17 12:27:26,208 - INFO - Retrieved 2 data points for 2024-09\n"
     ]
    },
    {
     "name": "stdout",
     "output_type": "stream",
     "text": [
      "2025-02-17 12:27:26,209 - __main__ - INFO - Fetching data for SSNLF - 2024-08\n"
     ]
    },
    {
     "name": "stderr",
     "output_type": "stream",
     "text": [
      "2025-02-17 12:27:26,209 - INFO - Fetching data for SSNLF - 2024-08\n"
     ]
    },
    {
     "name": "stdout",
     "output_type": "stream",
     "text": [
      "2025-02-17 12:27:26,376 - __main__ - INFO - Retrieved 2 data points for 2024-08\n"
     ]
    },
    {
     "name": "stderr",
     "output_type": "stream",
     "text": [
      "2025-02-17 12:27:26,376 - INFO - Retrieved 2 data points for 2024-08\n"
     ]
    },
    {
     "name": "stdout",
     "output_type": "stream",
     "text": [
      "2025-02-17 12:27:26,377 - __main__ - INFO - Fetching data for SSNLF - 2024-07\n"
     ]
    },
    {
     "name": "stderr",
     "output_type": "stream",
     "text": [
      "2025-02-17 12:27:26,377 - INFO - Fetching data for SSNLF - 2024-07\n"
     ]
    },
    {
     "name": "stdout",
     "output_type": "stream",
     "text": [
      "2025-02-17 12:27:26,534 - __main__ - INFO - Retrieved 2 data points for 2024-07\n"
     ]
    },
    {
     "name": "stderr",
     "output_type": "stream",
     "text": [
      "2025-02-17 12:27:26,534 - INFO - Retrieved 2 data points for 2024-07\n"
     ]
    },
    {
     "name": "stdout",
     "output_type": "stream",
     "text": [
      "2025-02-17 12:27:26,534 - __main__ - INFO - Fetching data for SSNLF - 2024-06\n"
     ]
    },
    {
     "name": "stderr",
     "output_type": "stream",
     "text": [
      "2025-02-17 12:27:26,534 - INFO - Fetching data for SSNLF - 2024-06\n"
     ]
    },
    {
     "name": "stdout",
     "output_type": "stream",
     "text": [
      "2025-02-17 12:27:26,847 - __main__ - INFO - Retrieved 2 data points for 2024-06\n"
     ]
    },
    {
     "name": "stderr",
     "output_type": "stream",
     "text": [
      "2025-02-17 12:27:26,847 - INFO - Retrieved 2 data points for 2024-06\n"
     ]
    },
    {
     "name": "stdout",
     "output_type": "stream",
     "text": [
      "2025-02-17 12:27:26,848 - __main__ - INFO - Fetching data for SSNLF - 2024-05\n"
     ]
    },
    {
     "name": "stderr",
     "output_type": "stream",
     "text": [
      "2025-02-17 12:27:26,848 - INFO - Fetching data for SSNLF - 2024-05\n"
     ]
    },
    {
     "name": "stdout",
     "output_type": "stream",
     "text": [
      "2025-02-17 12:27:27,001 - __main__ - INFO - Retrieved 2 data points for 2024-05\n"
     ]
    },
    {
     "name": "stderr",
     "output_type": "stream",
     "text": [
      "2025-02-17 12:27:27,001 - INFO - Retrieved 2 data points for 2024-05\n"
     ]
    },
    {
     "name": "stdout",
     "output_type": "stream",
     "text": [
      "2025-02-17 12:27:27,001 - __main__ - INFO - Fetching data for SSNLF - 2024-04\n"
     ]
    },
    {
     "name": "stderr",
     "output_type": "stream",
     "text": [
      "2025-02-17 12:27:27,001 - INFO - Fetching data for SSNLF - 2024-04\n"
     ]
    },
    {
     "name": "stdout",
     "output_type": "stream",
     "text": [
      "2025-02-17 12:27:27,177 - __main__ - INFO - Retrieved 2 data points for 2024-04\n"
     ]
    },
    {
     "name": "stderr",
     "output_type": "stream",
     "text": [
      "2025-02-17 12:27:27,177 - INFO - Retrieved 2 data points for 2024-04\n"
     ]
    },
    {
     "name": "stdout",
     "output_type": "stream",
     "text": [
      "2025-02-17 12:27:27,178 - __main__ - INFO - Fetching data for SSNLF - 2024-03\n"
     ]
    },
    {
     "name": "stderr",
     "output_type": "stream",
     "text": [
      "2025-02-17 12:27:27,178 - INFO - Fetching data for SSNLF - 2024-03\n"
     ]
    },
    {
     "name": "stdout",
     "output_type": "stream",
     "text": [
      "2025-02-17 12:27:27,463 - __main__ - INFO - Retrieved 2 data points for 2024-03\n"
     ]
    },
    {
     "name": "stderr",
     "output_type": "stream",
     "text": [
      "2025-02-17 12:27:27,463 - INFO - Retrieved 2 data points for 2024-03\n"
     ]
    },
    {
     "name": "stdout",
     "output_type": "stream",
     "text": [
      "2025-02-17 12:27:27,464 - __main__ - INFO - Writing data to /Users/benpfeffer/Desktop/CODE/volatility-strategy/db/cache/market_data/SSNLF_1min.csv\n"
     ]
    },
    {
     "name": "stderr",
     "output_type": "stream",
     "text": [
      "2025-02-17 12:27:27,464 - INFO - Writing data to /Users/benpfeffer/Desktop/CODE/volatility-strategy/db/cache/market_data/SSNLF_1min.csv\n"
     ]
    },
    {
     "name": "stdout",
     "output_type": "stream",
     "text": [
      "2025-02-17 12:27:27,465 - __main__ - INFO - Data fetch completed successfully\n"
     ]
    },
    {
     "name": "stderr",
     "output_type": "stream",
     "text": [
      "2025-02-17 12:27:27,465 - INFO - Data fetch completed successfully\n"
     ]
    },
    {
     "name": "stdout",
     "output_type": "stream",
     "text": [
      "2025-02-17 12:27:27,466 - __main__ - INFO - Starting data fetch for SNY with 1min interval\n"
     ]
    },
    {
     "name": "stderr",
     "output_type": "stream",
     "text": [
      "2025-02-17 12:27:27,466 - INFO - Starting data fetch for SNY with 1min interval\n"
     ]
    },
    {
     "name": "stdout",
     "output_type": "stream",
     "text": [
      "2025-02-17 12:27:27,466 - __main__ - INFO - Using 1min interval - fetching data month by month for past year\n"
     ]
    },
    {
     "name": "stderr",
     "output_type": "stream",
     "text": [
      "2025-02-17 12:27:27,466 - INFO - Using 1min interval - fetching data month by month for past year\n"
     ]
    },
    {
     "name": "stdout",
     "output_type": "stream",
     "text": [
      "2025-02-17 12:27:27,467 - __main__ - INFO - Will fetch data for months: ['2025-02', '2025-01', '2024-12', '2024-11', '2024-10', '2024-09', '2024-08', '2024-07', '2024-06', '2024-05', '2024-04', '2024-03']\n"
     ]
    },
    {
     "name": "stderr",
     "output_type": "stream",
     "text": [
      "2025-02-17 12:27:27,467 - INFO - Will fetch data for months: ['2025-02', '2025-01', '2024-12', '2024-11', '2024-10', '2024-09', '2024-08', '2024-07', '2024-06', '2024-05', '2024-04', '2024-03']\n"
     ]
    },
    {
     "name": "stdout",
     "output_type": "stream",
     "text": [
      "2025-02-17 12:27:27,467 - __main__ - INFO - Fetching data for SNY - 2025-02\n"
     ]
    },
    {
     "name": "stderr",
     "output_type": "stream",
     "text": [
      "2025-02-17 12:27:27,467 - INFO - Fetching data for SNY - 2025-02\n"
     ]
    },
    {
     "name": "stdout",
     "output_type": "stream",
     "text": [
      "2025-02-17 12:27:29,301 - __main__ - INFO - Retrieved 4165 data points for 2025-02\n"
     ]
    },
    {
     "name": "stderr",
     "output_type": "stream",
     "text": [
      "2025-02-17 12:27:29,301 - INFO - Retrieved 4165 data points for 2025-02\n"
     ]
    },
    {
     "name": "stdout",
     "output_type": "stream",
     "text": [
      "2025-02-17 12:27:29,302 - __main__ - INFO - Fetching data for SNY - 2025-01\n"
     ]
    },
    {
     "name": "stderr",
     "output_type": "stream",
     "text": [
      "2025-02-17 12:27:29,302 - INFO - Fetching data for SNY - 2025-01\n"
     ]
    },
    {
     "name": "stdout",
     "output_type": "stream",
     "text": [
      "2025-02-17 12:27:31,091 - __main__ - INFO - Retrieved 8699 data points for 2025-01\n"
     ]
    },
    {
     "name": "stderr",
     "output_type": "stream",
     "text": [
      "2025-02-17 12:27:31,091 - INFO - Retrieved 8699 data points for 2025-01\n"
     ]
    },
    {
     "name": "stdout",
     "output_type": "stream",
     "text": [
      "2025-02-17 12:27:31,091 - __main__ - INFO - Fetching data for SNY - 2024-12\n"
     ]
    },
    {
     "name": "stderr",
     "output_type": "stream",
     "text": [
      "2025-02-17 12:27:31,091 - INFO - Fetching data for SNY - 2024-12\n"
     ]
    },
    {
     "name": "stdout",
     "output_type": "stream",
     "text": [
      "2025-02-17 12:27:33,162 - __main__ - INFO - Retrieved 8806 data points for 2024-12\n"
     ]
    },
    {
     "name": "stderr",
     "output_type": "stream",
     "text": [
      "2025-02-17 12:27:33,162 - INFO - Retrieved 8806 data points for 2024-12\n"
     ]
    },
    {
     "name": "stdout",
     "output_type": "stream",
     "text": [
      "2025-02-17 12:27:33,163 - __main__ - INFO - Fetching data for SNY - 2024-11\n"
     ]
    },
    {
     "name": "stderr",
     "output_type": "stream",
     "text": [
      "2025-02-17 12:27:33,163 - INFO - Fetching data for SNY - 2024-11\n"
     ]
    },
    {
     "name": "stdout",
     "output_type": "stream",
     "text": [
      "2025-02-17 12:27:35,082 - __main__ - INFO - Retrieved 8291 data points for 2024-11\n"
     ]
    },
    {
     "name": "stderr",
     "output_type": "stream",
     "text": [
      "2025-02-17 12:27:35,082 - INFO - Retrieved 8291 data points for 2024-11\n"
     ]
    },
    {
     "name": "stdout",
     "output_type": "stream",
     "text": [
      "2025-02-17 12:27:35,083 - __main__ - INFO - Fetching data for SNY - 2024-10\n"
     ]
    },
    {
     "name": "stderr",
     "output_type": "stream",
     "text": [
      "2025-02-17 12:27:35,083 - INFO - Fetching data for SNY - 2024-10\n"
     ]
    },
    {
     "name": "stdout",
     "output_type": "stream",
     "text": [
      "2025-02-17 12:27:37,215 - __main__ - INFO - Retrieved 9624 data points for 2024-10\n"
     ]
    },
    {
     "name": "stderr",
     "output_type": "stream",
     "text": [
      "2025-02-17 12:27:37,215 - INFO - Retrieved 9624 data points for 2024-10\n"
     ]
    },
    {
     "name": "stdout",
     "output_type": "stream",
     "text": [
      "2025-02-17 12:27:37,216 - __main__ - INFO - Fetching data for SNY - 2024-09\n"
     ]
    },
    {
     "name": "stderr",
     "output_type": "stream",
     "text": [
      "2025-02-17 12:27:37,216 - INFO - Fetching data for SNY - 2024-09\n"
     ]
    },
    {
     "name": "stdout",
     "output_type": "stream",
     "text": [
      "2025-02-17 12:27:39,060 - __main__ - INFO - Retrieved 8144 data points for 2024-09\n"
     ]
    },
    {
     "name": "stderr",
     "output_type": "stream",
     "text": [
      "2025-02-17 12:27:39,060 - INFO - Retrieved 8144 data points for 2024-09\n"
     ]
    },
    {
     "name": "stdout",
     "output_type": "stream",
     "text": [
      "2025-02-17 12:27:39,061 - __main__ - INFO - Fetching data for SNY - 2024-08\n"
     ]
    },
    {
     "name": "stderr",
     "output_type": "stream",
     "text": [
      "2025-02-17 12:27:39,061 - INFO - Fetching data for SNY - 2024-08\n"
     ]
    },
    {
     "name": "stdout",
     "output_type": "stream",
     "text": [
      "2025-02-17 12:27:40,809 - __main__ - INFO - Retrieved 8934 data points for 2024-08\n"
     ]
    },
    {
     "name": "stderr",
     "output_type": "stream",
     "text": [
      "2025-02-17 12:27:40,809 - INFO - Retrieved 8934 data points for 2024-08\n"
     ]
    },
    {
     "name": "stdout",
     "output_type": "stream",
     "text": [
      "2025-02-17 12:27:40,810 - __main__ - INFO - Fetching data for SNY - 2024-07\n"
     ]
    },
    {
     "name": "stderr",
     "output_type": "stream",
     "text": [
      "2025-02-17 12:27:40,810 - INFO - Fetching data for SNY - 2024-07\n"
     ]
    },
    {
     "name": "stdout",
     "output_type": "stream",
     "text": [
      "2025-02-17 12:27:42,602 - __main__ - INFO - Retrieved 9262 data points for 2024-07\n"
     ]
    },
    {
     "name": "stderr",
     "output_type": "stream",
     "text": [
      "2025-02-17 12:27:42,602 - INFO - Retrieved 9262 data points for 2024-07\n"
     ]
    },
    {
     "name": "stdout",
     "output_type": "stream",
     "text": [
      "2025-02-17 12:27:42,603 - __main__ - INFO - Fetching data for SNY - 2024-06\n"
     ]
    },
    {
     "name": "stderr",
     "output_type": "stream",
     "text": [
      "2025-02-17 12:27:42,603 - INFO - Fetching data for SNY - 2024-06\n"
     ]
    },
    {
     "name": "stdout",
     "output_type": "stream",
     "text": [
      "2025-02-17 12:27:44,501 - __main__ - INFO - Retrieved 8070 data points for 2024-06\n"
     ]
    },
    {
     "name": "stderr",
     "output_type": "stream",
     "text": [
      "2025-02-17 12:27:44,501 - INFO - Retrieved 8070 data points for 2024-06\n"
     ]
    },
    {
     "name": "stdout",
     "output_type": "stream",
     "text": [
      "2025-02-17 12:27:44,502 - __main__ - INFO - Fetching data for SNY - 2024-05\n"
     ]
    },
    {
     "name": "stderr",
     "output_type": "stream",
     "text": [
      "2025-02-17 12:27:44,502 - INFO - Fetching data for SNY - 2024-05\n"
     ]
    },
    {
     "name": "stdout",
     "output_type": "stream",
     "text": [
      "2025-02-17 12:27:45,412 - __main__ - INFO - Retrieved 8926 data points for 2024-05\n"
     ]
    },
    {
     "name": "stderr",
     "output_type": "stream",
     "text": [
      "2025-02-17 12:27:45,412 - INFO - Retrieved 8926 data points for 2024-05\n"
     ]
    },
    {
     "name": "stdout",
     "output_type": "stream",
     "text": [
      "2025-02-17 12:27:45,413 - __main__ - INFO - Fetching data for SNY - 2024-04\n"
     ]
    },
    {
     "name": "stderr",
     "output_type": "stream",
     "text": [
      "2025-02-17 12:27:45,413 - INFO - Fetching data for SNY - 2024-04\n"
     ]
    },
    {
     "name": "stdout",
     "output_type": "stream",
     "text": [
      "2025-02-17 12:27:47,247 - __main__ - INFO - Retrieved 9088 data points for 2024-04\n"
     ]
    },
    {
     "name": "stderr",
     "output_type": "stream",
     "text": [
      "2025-02-17 12:27:47,247 - INFO - Retrieved 9088 data points for 2024-04\n"
     ]
    },
    {
     "name": "stdout",
     "output_type": "stream",
     "text": [
      "2025-02-17 12:27:47,248 - __main__ - INFO - Fetching data for SNY - 2024-03\n"
     ]
    },
    {
     "name": "stderr",
     "output_type": "stream",
     "text": [
      "2025-02-17 12:27:47,248 - INFO - Fetching data for SNY - 2024-03\n"
     ]
    },
    {
     "name": "stdout",
     "output_type": "stream",
     "text": [
      "2025-02-17 12:27:49,112 - __main__ - INFO - Retrieved 8070 data points for 2024-03\n"
     ]
    },
    {
     "name": "stderr",
     "output_type": "stream",
     "text": [
      "2025-02-17 12:27:49,112 - INFO - Retrieved 8070 data points for 2024-03\n"
     ]
    },
    {
     "name": "stdout",
     "output_type": "stream",
     "text": [
      "2025-02-17 12:27:49,113 - __main__ - INFO - Writing data to /Users/benpfeffer/Desktop/CODE/volatility-strategy/db/cache/market_data/SNY_1min.csv\n"
     ]
    },
    {
     "name": "stderr",
     "output_type": "stream",
     "text": [
      "2025-02-17 12:27:49,113 - INFO - Writing data to /Users/benpfeffer/Desktop/CODE/volatility-strategy/db/cache/market_data/SNY_1min.csv\n"
     ]
    },
    {
     "name": "stdout",
     "output_type": "stream",
     "text": [
      "2025-02-17 12:27:49,117 - __main__ - INFO - Data fetch completed successfully\n"
     ]
    },
    {
     "name": "stderr",
     "output_type": "stream",
     "text": [
      "2025-02-17 12:27:49,117 - INFO - Data fetch completed successfully\n"
     ]
    },
    {
     "name": "stdout",
     "output_type": "stream",
     "text": [
      "2025-02-17 12:27:49,118 - __main__ - INFO - Starting data fetch for SIEGY with 1min interval\n"
     ]
    },
    {
     "name": "stderr",
     "output_type": "stream",
     "text": [
      "2025-02-17 12:27:49,118 - INFO - Starting data fetch for SIEGY with 1min interval\n"
     ]
    },
    {
     "name": "stdout",
     "output_type": "stream",
     "text": [
      "2025-02-17 12:27:49,119 - __main__ - INFO - Using 1min interval - fetching data month by month for past year\n"
     ]
    },
    {
     "name": "stderr",
     "output_type": "stream",
     "text": [
      "2025-02-17 12:27:49,119 - INFO - Using 1min interval - fetching data month by month for past year\n"
     ]
    },
    {
     "name": "stdout",
     "output_type": "stream",
     "text": [
      "2025-02-17 12:27:49,120 - __main__ - INFO - Will fetch data for months: ['2025-02', '2025-01', '2024-12', '2024-11', '2024-10', '2024-09', '2024-08', '2024-07', '2024-06', '2024-05', '2024-04', '2024-03']\n"
     ]
    },
    {
     "name": "stderr",
     "output_type": "stream",
     "text": [
      "2025-02-17 12:27:49,120 - INFO - Will fetch data for months: ['2025-02', '2025-01', '2024-12', '2024-11', '2024-10', '2024-09', '2024-08', '2024-07', '2024-06', '2024-05', '2024-04', '2024-03']\n"
     ]
    },
    {
     "name": "stdout",
     "output_type": "stream",
     "text": [
      "2025-02-17 12:27:49,120 - __main__ - INFO - Fetching data for SIEGY - 2025-02\n"
     ]
    },
    {
     "name": "stderr",
     "output_type": "stream",
     "text": [
      "2025-02-17 12:27:49,120 - INFO - Fetching data for SIEGY - 2025-02\n"
     ]
    },
    {
     "name": "stdout",
     "output_type": "stream",
     "text": [
      "2025-02-17 12:27:49,416 - __main__ - INFO - Retrieved 2 data points for 2025-02\n"
     ]
    },
    {
     "name": "stderr",
     "output_type": "stream",
     "text": [
      "2025-02-17 12:27:49,416 - INFO - Retrieved 2 data points for 2025-02\n"
     ]
    },
    {
     "name": "stdout",
     "output_type": "stream",
     "text": [
      "2025-02-17 12:27:49,417 - __main__ - INFO - Fetching data for SIEGY - 2025-01\n"
     ]
    },
    {
     "name": "stderr",
     "output_type": "stream",
     "text": [
      "2025-02-17 12:27:49,417 - INFO - Fetching data for SIEGY - 2025-01\n"
     ]
    },
    {
     "name": "stdout",
     "output_type": "stream",
     "text": [
      "2025-02-17 12:27:49,730 - __main__ - INFO - Retrieved 2 data points for 2025-01\n"
     ]
    },
    {
     "name": "stderr",
     "output_type": "stream",
     "text": [
      "2025-02-17 12:27:49,730 - INFO - Retrieved 2 data points for 2025-01\n"
     ]
    },
    {
     "name": "stdout",
     "output_type": "stream",
     "text": [
      "2025-02-17 12:27:49,731 - __main__ - INFO - Fetching data for SIEGY - 2024-12\n"
     ]
    },
    {
     "name": "stderr",
     "output_type": "stream",
     "text": [
      "2025-02-17 12:27:49,731 - INFO - Fetching data for SIEGY - 2024-12\n"
     ]
    },
    {
     "name": "stdout",
     "output_type": "stream",
     "text": [
      "2025-02-17 12:27:50,033 - __main__ - INFO - Retrieved 2 data points for 2024-12\n"
     ]
    },
    {
     "name": "stderr",
     "output_type": "stream",
     "text": [
      "2025-02-17 12:27:50,033 - INFO - Retrieved 2 data points for 2024-12\n"
     ]
    },
    {
     "name": "stdout",
     "output_type": "stream",
     "text": [
      "2025-02-17 12:27:50,034 - __main__ - INFO - Fetching data for SIEGY - 2024-11\n"
     ]
    },
    {
     "name": "stderr",
     "output_type": "stream",
     "text": [
      "2025-02-17 12:27:50,034 - INFO - Fetching data for SIEGY - 2024-11\n"
     ]
    },
    {
     "name": "stdout",
     "output_type": "stream",
     "text": [
      "2025-02-17 12:27:50,338 - __main__ - INFO - Retrieved 2 data points for 2024-11\n"
     ]
    },
    {
     "name": "stderr",
     "output_type": "stream",
     "text": [
      "2025-02-17 12:27:50,338 - INFO - Retrieved 2 data points for 2024-11\n"
     ]
    },
    {
     "name": "stdout",
     "output_type": "stream",
     "text": [
      "2025-02-17 12:27:50,339 - __main__ - INFO - Fetching data for SIEGY - 2024-10\n"
     ]
    },
    {
     "name": "stderr",
     "output_type": "stream",
     "text": [
      "2025-02-17 12:27:50,339 - INFO - Fetching data for SIEGY - 2024-10\n"
     ]
    },
    {
     "name": "stdout",
     "output_type": "stream",
     "text": [
      "2025-02-17 12:27:50,636 - __main__ - INFO - Retrieved 2 data points for 2024-10\n"
     ]
    },
    {
     "name": "stderr",
     "output_type": "stream",
     "text": [
      "2025-02-17 12:27:50,636 - INFO - Retrieved 2 data points for 2024-10\n"
     ]
    },
    {
     "name": "stdout",
     "output_type": "stream",
     "text": [
      "2025-02-17 12:27:50,637 - __main__ - INFO - Fetching data for SIEGY - 2024-09\n"
     ]
    },
    {
     "name": "stderr",
     "output_type": "stream",
     "text": [
      "2025-02-17 12:27:50,637 - INFO - Fetching data for SIEGY - 2024-09\n"
     ]
    },
    {
     "name": "stdout",
     "output_type": "stream",
     "text": [
      "2025-02-17 12:27:50,993 - __main__ - INFO - Retrieved 2 data points for 2024-09\n"
     ]
    },
    {
     "name": "stderr",
     "output_type": "stream",
     "text": [
      "2025-02-17 12:27:50,993 - INFO - Retrieved 2 data points for 2024-09\n"
     ]
    },
    {
     "name": "stdout",
     "output_type": "stream",
     "text": [
      "2025-02-17 12:27:50,994 - __main__ - INFO - Fetching data for SIEGY - 2024-08\n"
     ]
    },
    {
     "name": "stderr",
     "output_type": "stream",
     "text": [
      "2025-02-17 12:27:50,994 - INFO - Fetching data for SIEGY - 2024-08\n"
     ]
    },
    {
     "name": "stdout",
     "output_type": "stream",
     "text": [
      "2025-02-17 12:27:51,300 - __main__ - INFO - Retrieved 2 data points for 2024-08\n"
     ]
    },
    {
     "name": "stderr",
     "output_type": "stream",
     "text": [
      "2025-02-17 12:27:51,300 - INFO - Retrieved 2 data points for 2024-08\n"
     ]
    },
    {
     "name": "stdout",
     "output_type": "stream",
     "text": [
      "2025-02-17 12:27:51,300 - __main__ - INFO - Fetching data for SIEGY - 2024-07\n"
     ]
    },
    {
     "name": "stderr",
     "output_type": "stream",
     "text": [
      "2025-02-17 12:27:51,300 - INFO - Fetching data for SIEGY - 2024-07\n"
     ]
    },
    {
     "name": "stdout",
     "output_type": "stream",
     "text": [
      "2025-02-17 12:27:51,608 - __main__ - INFO - Retrieved 2 data points for 2024-07\n"
     ]
    },
    {
     "name": "stderr",
     "output_type": "stream",
     "text": [
      "2025-02-17 12:27:51,608 - INFO - Retrieved 2 data points for 2024-07\n"
     ]
    },
    {
     "name": "stdout",
     "output_type": "stream",
     "text": [
      "2025-02-17 12:27:51,608 - __main__ - INFO - Fetching data for SIEGY - 2024-06\n"
     ]
    },
    {
     "name": "stderr",
     "output_type": "stream",
     "text": [
      "2025-02-17 12:27:51,608 - INFO - Fetching data for SIEGY - 2024-06\n"
     ]
    },
    {
     "name": "stdout",
     "output_type": "stream",
     "text": [
      "2025-02-17 12:27:51,918 - __main__ - INFO - Retrieved 2 data points for 2024-06\n"
     ]
    },
    {
     "name": "stderr",
     "output_type": "stream",
     "text": [
      "2025-02-17 12:27:51,918 - INFO - Retrieved 2 data points for 2024-06\n"
     ]
    },
    {
     "name": "stdout",
     "output_type": "stream",
     "text": [
      "2025-02-17 12:27:51,919 - __main__ - INFO - Fetching data for SIEGY - 2024-05\n"
     ]
    },
    {
     "name": "stderr",
     "output_type": "stream",
     "text": [
      "2025-02-17 12:27:51,919 - INFO - Fetching data for SIEGY - 2024-05\n"
     ]
    },
    {
     "name": "stdout",
     "output_type": "stream",
     "text": [
      "2025-02-17 12:27:52,367 - __main__ - INFO - Retrieved 2 data points for 2024-05\n"
     ]
    },
    {
     "name": "stderr",
     "output_type": "stream",
     "text": [
      "2025-02-17 12:27:52,367 - INFO - Retrieved 2 data points for 2024-05\n"
     ]
    },
    {
     "name": "stdout",
     "output_type": "stream",
     "text": [
      "2025-02-17 12:27:52,368 - __main__ - INFO - Fetching data for SIEGY - 2024-04\n"
     ]
    },
    {
     "name": "stderr",
     "output_type": "stream",
     "text": [
      "2025-02-17 12:27:52,368 - INFO - Fetching data for SIEGY - 2024-04\n"
     ]
    },
    {
     "name": "stdout",
     "output_type": "stream",
     "text": [
      "2025-02-17 12:27:52,672 - __main__ - INFO - Retrieved 2 data points for 2024-04\n"
     ]
    },
    {
     "name": "stderr",
     "output_type": "stream",
     "text": [
      "2025-02-17 12:27:52,672 - INFO - Retrieved 2 data points for 2024-04\n"
     ]
    },
    {
     "name": "stdout",
     "output_type": "stream",
     "text": [
      "2025-02-17 12:27:52,672 - __main__ - INFO - Fetching data for SIEGY - 2024-03\n"
     ]
    },
    {
     "name": "stderr",
     "output_type": "stream",
     "text": [
      "2025-02-17 12:27:52,672 - INFO - Fetching data for SIEGY - 2024-03\n"
     ]
    },
    {
     "name": "stdout",
     "output_type": "stream",
     "text": [
      "2025-02-17 12:27:52,979 - __main__ - INFO - Retrieved 2 data points for 2024-03\n"
     ]
    },
    {
     "name": "stderr",
     "output_type": "stream",
     "text": [
      "2025-02-17 12:27:52,979 - INFO - Retrieved 2 data points for 2024-03\n"
     ]
    },
    {
     "name": "stdout",
     "output_type": "stream",
     "text": [
      "2025-02-17 12:27:52,980 - __main__ - INFO - Writing data to /Users/benpfeffer/Desktop/CODE/volatility-strategy/db/cache/market_data/SIEGY_1min.csv\n"
     ]
    },
    {
     "name": "stderr",
     "output_type": "stream",
     "text": [
      "2025-02-17 12:27:52,980 - INFO - Writing data to /Users/benpfeffer/Desktop/CODE/volatility-strategy/db/cache/market_data/SIEGY_1min.csv\n"
     ]
    },
    {
     "name": "stdout",
     "output_type": "stream",
     "text": [
      "2025-02-17 12:27:52,981 - __main__ - INFO - Data fetch completed successfully\n"
     ]
    },
    {
     "name": "stderr",
     "output_type": "stream",
     "text": [
      "2025-02-17 12:27:52,981 - INFO - Data fetch completed successfully\n"
     ]
    },
    {
     "name": "stdout",
     "output_type": "stream",
     "text": [
      "2025-02-17 12:27:52,981 - __main__ - INFO - Starting data fetch for TSM with 1min interval\n"
     ]
    },
    {
     "name": "stderr",
     "output_type": "stream",
     "text": [
      "2025-02-17 12:27:52,981 - INFO - Starting data fetch for TSM with 1min interval\n"
     ]
    },
    {
     "name": "stdout",
     "output_type": "stream",
     "text": [
      "2025-02-17 12:27:52,982 - __main__ - INFO - Using 1min interval - fetching data month by month for past year\n"
     ]
    },
    {
     "name": "stderr",
     "output_type": "stream",
     "text": [
      "2025-02-17 12:27:52,982 - INFO - Using 1min interval - fetching data month by month for past year\n"
     ]
    },
    {
     "name": "stdout",
     "output_type": "stream",
     "text": [
      "2025-02-17 12:27:52,982 - __main__ - INFO - Will fetch data for months: ['2025-02', '2025-01', '2024-12', '2024-11', '2024-10', '2024-09', '2024-08', '2024-07', '2024-06', '2024-05', '2024-04', '2024-03']\n"
     ]
    },
    {
     "name": "stderr",
     "output_type": "stream",
     "text": [
      "2025-02-17 12:27:52,982 - INFO - Will fetch data for months: ['2025-02', '2025-01', '2024-12', '2024-11', '2024-10', '2024-09', '2024-08', '2024-07', '2024-06', '2024-05', '2024-04', '2024-03']\n"
     ]
    },
    {
     "name": "stdout",
     "output_type": "stream",
     "text": [
      "2025-02-17 12:27:52,983 - __main__ - INFO - Fetching data for TSM - 2025-02\n"
     ]
    },
    {
     "name": "stderr",
     "output_type": "stream",
     "text": [
      "2025-02-17 12:27:52,983 - INFO - Fetching data for TSM - 2025-02\n"
     ]
    },
    {
     "name": "stdout",
     "output_type": "stream",
     "text": [
      "2025-02-17 12:27:53,700 - __main__ - INFO - Retrieved 9442 data points for 2025-02\n"
     ]
    },
    {
     "name": "stderr",
     "output_type": "stream",
     "text": [
      "2025-02-17 12:27:53,700 - INFO - Retrieved 9442 data points for 2025-02\n"
     ]
    },
    {
     "name": "stdout",
     "output_type": "stream",
     "text": [
      "2025-02-17 12:27:53,701 - __main__ - INFO - Fetching data for TSM - 2025-01\n"
     ]
    },
    {
     "name": "stderr",
     "output_type": "stream",
     "text": [
      "2025-02-17 12:27:53,701 - INFO - Fetching data for TSM - 2025-01\n"
     ]
    },
    {
     "name": "stdout",
     "output_type": "stream",
     "text": [
      "2025-02-17 12:27:54,830 - __main__ - INFO - Retrieved 18978 data points for 2025-01\n"
     ]
    },
    {
     "name": "stderr",
     "output_type": "stream",
     "text": [
      "2025-02-17 12:27:54,830 - INFO - Retrieved 18978 data points for 2025-01\n"
     ]
    },
    {
     "name": "stdout",
     "output_type": "stream",
     "text": [
      "2025-02-17 12:27:54,831 - __main__ - INFO - Fetching data for TSM - 2024-12\n"
     ]
    },
    {
     "name": "stderr",
     "output_type": "stream",
     "text": [
      "2025-02-17 12:27:54,831 - INFO - Fetching data for TSM - 2024-12\n"
     ]
    },
    {
     "name": "stdout",
     "output_type": "stream",
     "text": [
      "2025-02-17 12:27:56,068 - __main__ - INFO - Retrieved 19394 data points for 2024-12\n"
     ]
    },
    {
     "name": "stderr",
     "output_type": "stream",
     "text": [
      "2025-02-17 12:27:56,068 - INFO - Retrieved 19394 data points for 2024-12\n"
     ]
    },
    {
     "name": "stdout",
     "output_type": "stream",
     "text": [
      "2025-02-17 12:27:56,068 - __main__ - INFO - Fetching data for TSM - 2024-11\n"
     ]
    },
    {
     "name": "stderr",
     "output_type": "stream",
     "text": [
      "2025-02-17 12:27:56,068 - INFO - Fetching data for TSM - 2024-11\n"
     ]
    },
    {
     "name": "stdout",
     "output_type": "stream",
     "text": [
      "2025-02-17 12:27:59,130 - __main__ - INFO - Retrieved 18652 data points for 2024-11\n"
     ]
    },
    {
     "name": "stderr",
     "output_type": "stream",
     "text": [
      "2025-02-17 12:27:59,130 - INFO - Retrieved 18652 data points for 2024-11\n"
     ]
    },
    {
     "name": "stdout",
     "output_type": "stream",
     "text": [
      "2025-02-17 12:27:59,130 - __main__ - INFO - Fetching data for TSM - 2024-10\n"
     ]
    },
    {
     "name": "stderr",
     "output_type": "stream",
     "text": [
      "2025-02-17 12:27:59,130 - INFO - Fetching data for TSM - 2024-10\n"
     ]
    },
    {
     "name": "stdout",
     "output_type": "stream",
     "text": [
      "2025-02-17 12:28:03,308 - __main__ - INFO - Retrieved 21581 data points for 2024-10\n"
     ]
    },
    {
     "name": "stderr",
     "output_type": "stream",
     "text": [
      "2025-02-17 12:28:03,308 - INFO - Retrieved 21581 data points for 2024-10\n"
     ]
    },
    {
     "name": "stdout",
     "output_type": "stream",
     "text": [
      "2025-02-17 12:28:03,308 - __main__ - INFO - Fetching data for TSM - 2024-09\n"
     ]
    },
    {
     "name": "stderr",
     "output_type": "stream",
     "text": [
      "2025-02-17 12:28:03,308 - INFO - Fetching data for TSM - 2024-09\n"
     ]
    },
    {
     "name": "stdout",
     "output_type": "stream",
     "text": [
      "2025-02-17 12:28:06,459 - __main__ - INFO - Retrieved 18204 data points for 2024-09\n"
     ]
    },
    {
     "name": "stderr",
     "output_type": "stream",
     "text": [
      "2025-02-17 12:28:06,459 - INFO - Retrieved 18204 data points for 2024-09\n"
     ]
    },
    {
     "name": "stdout",
     "output_type": "stream",
     "text": [
      "2025-02-17 12:28:06,459 - __main__ - INFO - Fetching data for TSM - 2024-08\n"
     ]
    },
    {
     "name": "stderr",
     "output_type": "stream",
     "text": [
      "2025-02-17 12:28:06,459 - INFO - Fetching data for TSM - 2024-08\n"
     ]
    },
    {
     "name": "stdout",
     "output_type": "stream",
     "text": [
      "2025-02-17 12:28:09,765 - __main__ - INFO - Retrieved 20434 data points for 2024-08\n"
     ]
    },
    {
     "name": "stderr",
     "output_type": "stream",
     "text": [
      "2025-02-17 12:28:09,765 - INFO - Retrieved 20434 data points for 2024-08\n"
     ]
    },
    {
     "name": "stdout",
     "output_type": "stream",
     "text": [
      "2025-02-17 12:28:09,765 - __main__ - INFO - Fetching data for TSM - 2024-07\n"
     ]
    },
    {
     "name": "stderr",
     "output_type": "stream",
     "text": [
      "2025-02-17 12:28:09,765 - INFO - Fetching data for TSM - 2024-07\n"
     ]
    },
    {
     "name": "stdout",
     "output_type": "stream",
     "text": [
      "2025-02-17 12:28:13,245 - __main__ - INFO - Retrieved 20666 data points for 2024-07\n"
     ]
    },
    {
     "name": "stderr",
     "output_type": "stream",
     "text": [
      "2025-02-17 12:28:13,245 - INFO - Retrieved 20666 data points for 2024-07\n"
     ]
    },
    {
     "name": "stdout",
     "output_type": "stream",
     "text": [
      "2025-02-17 12:28:13,246 - __main__ - INFO - Fetching data for TSM - 2024-06\n"
     ]
    },
    {
     "name": "stderr",
     "output_type": "stream",
     "text": [
      "2025-02-17 12:28:13,246 - INFO - Fetching data for TSM - 2024-06\n"
     ]
    },
    {
     "name": "stdout",
     "output_type": "stream",
     "text": [
      "2025-02-17 12:28:16,472 - __main__ - INFO - Retrieved 17905 data points for 2024-06\n"
     ]
    },
    {
     "name": "stderr",
     "output_type": "stream",
     "text": [
      "2025-02-17 12:28:16,472 - INFO - Retrieved 17905 data points for 2024-06\n"
     ]
    },
    {
     "name": "stdout",
     "output_type": "stream",
     "text": [
      "2025-02-17 12:28:16,473 - __main__ - INFO - Fetching data for TSM - 2024-05\n"
     ]
    },
    {
     "name": "stderr",
     "output_type": "stream",
     "text": [
      "2025-02-17 12:28:16,473 - INFO - Fetching data for TSM - 2024-05\n"
     ]
    },
    {
     "name": "stdout",
     "output_type": "stream",
     "text": [
      "2025-02-17 12:28:20,011 - __main__ - INFO - Retrieved 19639 data points for 2024-05\n"
     ]
    },
    {
     "name": "stderr",
     "output_type": "stream",
     "text": [
      "2025-02-17 12:28:20,011 - INFO - Retrieved 19639 data points for 2024-05\n"
     ]
    },
    {
     "name": "stdout",
     "output_type": "stream",
     "text": [
      "2025-02-17 12:28:20,012 - __main__ - INFO - Fetching data for TSM - 2024-04\n"
     ]
    },
    {
     "name": "stderr",
     "output_type": "stream",
     "text": [
      "2025-02-17 12:28:20,012 - INFO - Fetching data for TSM - 2024-04\n"
     ]
    },
    {
     "name": "stdout",
     "output_type": "stream",
     "text": [
      "2025-02-17 12:28:23,444 - __main__ - INFO - Retrieved 20351 data points for 2024-04\n"
     ]
    },
    {
     "name": "stderr",
     "output_type": "stream",
     "text": [
      "2025-02-17 12:28:23,444 - INFO - Retrieved 20351 data points for 2024-04\n"
     ]
    },
    {
     "name": "stdout",
     "output_type": "stream",
     "text": [
      "2025-02-17 12:28:23,445 - __main__ - INFO - Fetching data for TSM - 2024-03\n"
     ]
    },
    {
     "name": "stderr",
     "output_type": "stream",
     "text": [
      "2025-02-17 12:28:23,445 - INFO - Fetching data for TSM - 2024-03\n"
     ]
    },
    {
     "name": "stdout",
     "output_type": "stream",
     "text": [
      "2025-02-17 12:28:26,655 - __main__ - INFO - Retrieved 18788 data points for 2024-03\n"
     ]
    },
    {
     "name": "stderr",
     "output_type": "stream",
     "text": [
      "2025-02-17 12:28:26,655 - INFO - Retrieved 18788 data points for 2024-03\n"
     ]
    },
    {
     "name": "stdout",
     "output_type": "stream",
     "text": [
      "2025-02-17 12:28:26,656 - __main__ - INFO - Writing data to /Users/benpfeffer/Desktop/CODE/volatility-strategy/db/cache/market_data/TSM_1min.csv\n"
     ]
    },
    {
     "name": "stderr",
     "output_type": "stream",
     "text": [
      "2025-02-17 12:28:26,656 - INFO - Writing data to /Users/benpfeffer/Desktop/CODE/volatility-strategy/db/cache/market_data/TSM_1min.csv\n"
     ]
    },
    {
     "name": "stdout",
     "output_type": "stream",
     "text": [
      "2025-02-17 12:28:26,661 - __main__ - INFO - Data fetch completed successfully\n"
     ]
    },
    {
     "name": "stderr",
     "output_type": "stream",
     "text": [
      "2025-02-17 12:28:26,661 - INFO - Data fetch completed successfully\n"
     ]
    },
    {
     "name": "stdout",
     "output_type": "stream",
     "text": [
      "2025-02-17 12:28:26,664 - __main__ - INFO - Starting data fetch for TTE with 1min interval\n"
     ]
    },
    {
     "name": "stderr",
     "output_type": "stream",
     "text": [
      "2025-02-17 12:28:26,664 - INFO - Starting data fetch for TTE with 1min interval\n"
     ]
    },
    {
     "name": "stdout",
     "output_type": "stream",
     "text": [
      "2025-02-17 12:28:26,664 - __main__ - INFO - Using 1min interval - fetching data month by month for past year\n"
     ]
    },
    {
     "name": "stderr",
     "output_type": "stream",
     "text": [
      "2025-02-17 12:28:26,664 - INFO - Using 1min interval - fetching data month by month for past year\n"
     ]
    },
    {
     "name": "stdout",
     "output_type": "stream",
     "text": [
      "2025-02-17 12:28:26,665 - __main__ - INFO - Will fetch data for months: ['2025-02', '2025-01', '2024-12', '2024-11', '2024-10', '2024-09', '2024-08', '2024-07', '2024-06', '2024-05', '2024-04', '2024-03']\n"
     ]
    },
    {
     "name": "stderr",
     "output_type": "stream",
     "text": [
      "2025-02-17 12:28:26,665 - INFO - Will fetch data for months: ['2025-02', '2025-01', '2024-12', '2024-11', '2024-10', '2024-09', '2024-08', '2024-07', '2024-06', '2024-05', '2024-04', '2024-03']\n"
     ]
    },
    {
     "name": "stdout",
     "output_type": "stream",
     "text": [
      "2025-02-17 12:28:26,665 - __main__ - INFO - Fetching data for TTE - 2025-02\n"
     ]
    },
    {
     "name": "stderr",
     "output_type": "stream",
     "text": [
      "2025-02-17 12:28:26,665 - INFO - Fetching data for TTE - 2025-02\n"
     ]
    },
    {
     "name": "stdout",
     "output_type": "stream",
     "text": [
      "2025-02-17 12:28:27,254 - __main__ - INFO - Retrieved 4369 data points for 2025-02\n"
     ]
    },
    {
     "name": "stderr",
     "output_type": "stream",
     "text": [
      "2025-02-17 12:28:27,254 - INFO - Retrieved 4369 data points for 2025-02\n"
     ]
    },
    {
     "name": "stdout",
     "output_type": "stream",
     "text": [
      "2025-02-17 12:28:27,255 - __main__ - INFO - Fetching data for TTE - 2025-01\n"
     ]
    },
    {
     "name": "stderr",
     "output_type": "stream",
     "text": [
      "2025-02-17 12:28:27,255 - INFO - Fetching data for TTE - 2025-01\n"
     ]
    },
    {
     "name": "stdout",
     "output_type": "stream",
     "text": [
      "2025-02-17 12:28:28,037 - __main__ - INFO - Retrieved 8920 data points for 2025-01\n"
     ]
    },
    {
     "name": "stderr",
     "output_type": "stream",
     "text": [
      "2025-02-17 12:28:28,037 - INFO - Retrieved 8920 data points for 2025-01\n"
     ]
    },
    {
     "name": "stdout",
     "output_type": "stream",
     "text": [
      "2025-02-17 12:28:28,037 - __main__ - INFO - Fetching data for TTE - 2024-12\n"
     ]
    },
    {
     "name": "stderr",
     "output_type": "stream",
     "text": [
      "2025-02-17 12:28:28,037 - INFO - Fetching data for TTE - 2024-12\n"
     ]
    },
    {
     "name": "stdout",
     "output_type": "stream",
     "text": [
      "2025-02-17 12:28:29,037 - __main__ - INFO - Retrieved 9524 data points for 2024-12\n"
     ]
    },
    {
     "name": "stderr",
     "output_type": "stream",
     "text": [
      "2025-02-17 12:28:29,037 - INFO - Retrieved 9524 data points for 2024-12\n"
     ]
    },
    {
     "name": "stdout",
     "output_type": "stream",
     "text": [
      "2025-02-17 12:28:29,038 - __main__ - INFO - Fetching data for TTE - 2024-11\n"
     ]
    },
    {
     "name": "stderr",
     "output_type": "stream",
     "text": [
      "2025-02-17 12:28:29,038 - INFO - Fetching data for TTE - 2024-11\n"
     ]
    },
    {
     "name": "stdout",
     "output_type": "stream",
     "text": [
      "2025-02-17 12:28:31,060 - __main__ - INFO - Retrieved 9068 data points for 2024-11\n"
     ]
    },
    {
     "name": "stderr",
     "output_type": "stream",
     "text": [
      "2025-02-17 12:28:31,060 - INFO - Retrieved 9068 data points for 2024-11\n"
     ]
    },
    {
     "name": "stdout",
     "output_type": "stream",
     "text": [
      "2025-02-17 12:28:31,060 - __main__ - INFO - Fetching data for TTE - 2024-10\n"
     ]
    },
    {
     "name": "stderr",
     "output_type": "stream",
     "text": [
      "2025-02-17 12:28:31,060 - INFO - Fetching data for TTE - 2024-10\n"
     ]
    },
    {
     "name": "stdout",
     "output_type": "stream",
     "text": [
      "2025-02-17 12:28:33,107 - __main__ - INFO - Retrieved 10179 data points for 2024-10\n"
     ]
    },
    {
     "name": "stderr",
     "output_type": "stream",
     "text": [
      "2025-02-17 12:28:33,107 - INFO - Retrieved 10179 data points for 2024-10\n"
     ]
    },
    {
     "name": "stdout",
     "output_type": "stream",
     "text": [
      "2025-02-17 12:28:33,107 - __main__ - INFO - Fetching data for TTE - 2024-09\n"
     ]
    },
    {
     "name": "stderr",
     "output_type": "stream",
     "text": [
      "2025-02-17 12:28:33,107 - INFO - Fetching data for TTE - 2024-09\n"
     ]
    },
    {
     "name": "stdout",
     "output_type": "stream",
     "text": [
      "2025-02-17 12:28:35,192 - __main__ - INFO - Retrieved 8675 data points for 2024-09\n"
     ]
    },
    {
     "name": "stderr",
     "output_type": "stream",
     "text": [
      "2025-02-17 12:28:35,192 - INFO - Retrieved 8675 data points for 2024-09\n"
     ]
    },
    {
     "name": "stdout",
     "output_type": "stream",
     "text": [
      "2025-02-17 12:28:35,193 - __main__ - INFO - Fetching data for TTE - 2024-08\n"
     ]
    },
    {
     "name": "stderr",
     "output_type": "stream",
     "text": [
      "2025-02-17 12:28:35,193 - INFO - Fetching data for TTE - 2024-08\n"
     ]
    },
    {
     "name": "stdout",
     "output_type": "stream",
     "text": [
      "2025-02-17 12:28:36,914 - __main__ - INFO - Retrieved 8902 data points for 2024-08\n"
     ]
    },
    {
     "name": "stderr",
     "output_type": "stream",
     "text": [
      "2025-02-17 12:28:36,914 - INFO - Retrieved 8902 data points for 2024-08\n"
     ]
    },
    {
     "name": "stdout",
     "output_type": "stream",
     "text": [
      "2025-02-17 12:28:36,915 - __main__ - INFO - Fetching data for TTE - 2024-07\n"
     ]
    },
    {
     "name": "stderr",
     "output_type": "stream",
     "text": [
      "2025-02-17 12:28:36,915 - INFO - Fetching data for TTE - 2024-07\n"
     ]
    },
    {
     "name": "stdout",
     "output_type": "stream",
     "text": [
      "2025-02-17 12:28:38,764 - __main__ - INFO - Retrieved 9307 data points for 2024-07\n"
     ]
    },
    {
     "name": "stderr",
     "output_type": "stream",
     "text": [
      "2025-02-17 12:28:38,764 - INFO - Retrieved 9307 data points for 2024-07\n"
     ]
    },
    {
     "name": "stdout",
     "output_type": "stream",
     "text": [
      "2025-02-17 12:28:38,765 - __main__ - INFO - Fetching data for TTE - 2024-06\n"
     ]
    },
    {
     "name": "stderr",
     "output_type": "stream",
     "text": [
      "2025-02-17 12:28:38,765 - INFO - Fetching data for TTE - 2024-06\n"
     ]
    },
    {
     "name": "stdout",
     "output_type": "stream",
     "text": [
      "2025-02-17 12:28:40,589 - __main__ - INFO - Retrieved 8325 data points for 2024-06\n"
     ]
    },
    {
     "name": "stderr",
     "output_type": "stream",
     "text": [
      "2025-02-17 12:28:40,589 - INFO - Retrieved 8325 data points for 2024-06\n"
     ]
    },
    {
     "name": "stdout",
     "output_type": "stream",
     "text": [
      "2025-02-17 12:28:40,590 - __main__ - INFO - Fetching data for TTE - 2024-05\n"
     ]
    },
    {
     "name": "stderr",
     "output_type": "stream",
     "text": [
      "2025-02-17 12:28:40,590 - INFO - Fetching data for TTE - 2024-05\n"
     ]
    },
    {
     "name": "stdout",
     "output_type": "stream",
     "text": [
      "2025-02-17 12:28:42,529 - __main__ - INFO - Retrieved 8807 data points for 2024-05\n"
     ]
    },
    {
     "name": "stderr",
     "output_type": "stream",
     "text": [
      "2025-02-17 12:28:42,529 - INFO - Retrieved 8807 data points for 2024-05\n"
     ]
    },
    {
     "name": "stdout",
     "output_type": "stream",
     "text": [
      "2025-02-17 12:28:42,530 - __main__ - INFO - Fetching data for TTE - 2024-04\n"
     ]
    },
    {
     "name": "stderr",
     "output_type": "stream",
     "text": [
      "2025-02-17 12:28:42,530 - INFO - Fetching data for TTE - 2024-04\n"
     ]
    },
    {
     "name": "stdout",
     "output_type": "stream",
     "text": [
      "2025-02-17 12:28:44,571 - __main__ - INFO - Retrieved 9272 data points for 2024-04\n"
     ]
    },
    {
     "name": "stderr",
     "output_type": "stream",
     "text": [
      "2025-02-17 12:28:44,571 - INFO - Retrieved 9272 data points for 2024-04\n"
     ]
    },
    {
     "name": "stdout",
     "output_type": "stream",
     "text": [
      "2025-02-17 12:28:44,572 - __main__ - INFO - Fetching data for TTE - 2024-03\n"
     ]
    },
    {
     "name": "stderr",
     "output_type": "stream",
     "text": [
      "2025-02-17 12:28:44,572 - INFO - Fetching data for TTE - 2024-03\n"
     ]
    },
    {
     "name": "stdout",
     "output_type": "stream",
     "text": [
      "2025-02-17 12:28:45,459 - __main__ - INFO - Retrieved 8294 data points for 2024-03\n"
     ]
    },
    {
     "name": "stderr",
     "output_type": "stream",
     "text": [
      "2025-02-17 12:28:45,459 - INFO - Retrieved 8294 data points for 2024-03\n"
     ]
    },
    {
     "name": "stdout",
     "output_type": "stream",
     "text": [
      "2025-02-17 12:28:45,460 - __main__ - INFO - Writing data to /Users/benpfeffer/Desktop/CODE/volatility-strategy/db/cache/market_data/TTE_1min.csv\n"
     ]
    },
    {
     "name": "stderr",
     "output_type": "stream",
     "text": [
      "2025-02-17 12:28:45,460 - INFO - Writing data to /Users/benpfeffer/Desktop/CODE/volatility-strategy/db/cache/market_data/TTE_1min.csv\n"
     ]
    },
    {
     "name": "stdout",
     "output_type": "stream",
     "text": [
      "2025-02-17 12:28:45,463 - __main__ - INFO - Data fetch completed successfully\n"
     ]
    },
    {
     "name": "stderr",
     "output_type": "stream",
     "text": [
      "2025-02-17 12:28:45,463 - INFO - Data fetch completed successfully\n"
     ]
    },
    {
     "name": "stdout",
     "output_type": "stream",
     "text": [
      "2025-02-17 12:28:45,465 - __main__ - INFO - Starting data fetch for V with 1min interval\n"
     ]
    },
    {
     "name": "stderr",
     "output_type": "stream",
     "text": [
      "2025-02-17 12:28:45,465 - INFO - Starting data fetch for V with 1min interval\n"
     ]
    },
    {
     "name": "stdout",
     "output_type": "stream",
     "text": [
      "2025-02-17 12:28:45,465 - __main__ - INFO - Using 1min interval - fetching data month by month for past year\n"
     ]
    },
    {
     "name": "stderr",
     "output_type": "stream",
     "text": [
      "2025-02-17 12:28:45,465 - INFO - Using 1min interval - fetching data month by month for past year\n"
     ]
    },
    {
     "name": "stdout",
     "output_type": "stream",
     "text": [
      "2025-02-17 12:28:45,466 - __main__ - INFO - Will fetch data for months: ['2025-02', '2025-01', '2024-12', '2024-11', '2024-10', '2024-09', '2024-08', '2024-07', '2024-06', '2024-05', '2024-04', '2024-03']\n"
     ]
    },
    {
     "name": "stderr",
     "output_type": "stream",
     "text": [
      "2025-02-17 12:28:45,466 - INFO - Will fetch data for months: ['2025-02', '2025-01', '2024-12', '2024-11', '2024-10', '2024-09', '2024-08', '2024-07', '2024-06', '2024-05', '2024-04', '2024-03']\n"
     ]
    },
    {
     "name": "stdout",
     "output_type": "stream",
     "text": [
      "2025-02-17 12:28:45,466 - __main__ - INFO - Fetching data for V - 2025-02\n"
     ]
    },
    {
     "name": "stderr",
     "output_type": "stream",
     "text": [
      "2025-02-17 12:28:45,466 - INFO - Fetching data for V - 2025-02\n"
     ]
    },
    {
     "name": "stdout",
     "output_type": "stream",
     "text": [
      "2025-02-17 12:28:47,593 - __main__ - INFO - Retrieved 6432 data points for 2025-02\n"
     ]
    },
    {
     "name": "stderr",
     "output_type": "stream",
     "text": [
      "2025-02-17 12:28:47,593 - INFO - Retrieved 6432 data points for 2025-02\n"
     ]
    },
    {
     "name": "stdout",
     "output_type": "stream",
     "text": [
      "2025-02-17 12:28:47,594 - __main__ - INFO - Fetching data for V - 2025-01\n"
     ]
    },
    {
     "name": "stderr",
     "output_type": "stream",
     "text": [
      "2025-02-17 12:28:47,594 - INFO - Fetching data for V - 2025-01\n"
     ]
    },
    {
     "name": "stdout",
     "output_type": "stream",
     "text": [
      "2025-02-17 12:28:49,938 - __main__ - INFO - Retrieved 12808 data points for 2025-01\n"
     ]
    },
    {
     "name": "stderr",
     "output_type": "stream",
     "text": [
      "2025-02-17 12:28:49,938 - INFO - Retrieved 12808 data points for 2025-01\n"
     ]
    },
    {
     "name": "stdout",
     "output_type": "stream",
     "text": [
      "2025-02-17 12:28:49,939 - __main__ - INFO - Fetching data for V - 2024-12\n"
     ]
    },
    {
     "name": "stderr",
     "output_type": "stream",
     "text": [
      "2025-02-17 12:28:49,939 - INFO - Fetching data for V - 2024-12\n"
     ]
    },
    {
     "name": "stdout",
     "output_type": "stream",
     "text": [
      "2025-02-17 12:28:52,251 - __main__ - INFO - Retrieved 12473 data points for 2024-12\n"
     ]
    },
    {
     "name": "stderr",
     "output_type": "stream",
     "text": [
      "2025-02-17 12:28:52,251 - INFO - Retrieved 12473 data points for 2024-12\n"
     ]
    },
    {
     "name": "stdout",
     "output_type": "stream",
     "text": [
      "2025-02-17 12:28:52,252 - __main__ - INFO - Fetching data for V - 2024-11\n"
     ]
    },
    {
     "name": "stderr",
     "output_type": "stream",
     "text": [
      "2025-02-17 12:28:52,252 - INFO - Fetching data for V - 2024-11\n"
     ]
    },
    {
     "name": "stdout",
     "output_type": "stream",
     "text": [
      "2025-02-17 12:28:54,491 - __main__ - INFO - Retrieved 11818 data points for 2024-11\n"
     ]
    },
    {
     "name": "stderr",
     "output_type": "stream",
     "text": [
      "2025-02-17 12:28:54,491 - INFO - Retrieved 11818 data points for 2024-11\n"
     ]
    },
    {
     "name": "stdout",
     "output_type": "stream",
     "text": [
      "2025-02-17 12:28:54,492 - __main__ - INFO - Fetching data for V - 2024-10\n"
     ]
    },
    {
     "name": "stderr",
     "output_type": "stream",
     "text": [
      "2025-02-17 12:28:54,492 - INFO - Fetching data for V - 2024-10\n"
     ]
    },
    {
     "name": "stdout",
     "output_type": "stream",
     "text": [
      "2025-02-17 12:28:57,166 - __main__ - INFO - Retrieved 14027 data points for 2024-10\n"
     ]
    },
    {
     "name": "stderr",
     "output_type": "stream",
     "text": [
      "2025-02-17 12:28:57,166 - INFO - Retrieved 14027 data points for 2024-10\n"
     ]
    },
    {
     "name": "stdout",
     "output_type": "stream",
     "text": [
      "2025-02-17 12:28:57,167 - __main__ - INFO - Fetching data for V - 2024-09\n"
     ]
    },
    {
     "name": "stderr",
     "output_type": "stream",
     "text": [
      "2025-02-17 12:28:57,167 - INFO - Fetching data for V - 2024-09\n"
     ]
    },
    {
     "name": "stdout",
     "output_type": "stream",
     "text": [
      "2025-02-17 12:28:59,592 - __main__ - INFO - Retrieved 12643 data points for 2024-09\n"
     ]
    },
    {
     "name": "stderr",
     "output_type": "stream",
     "text": [
      "2025-02-17 12:28:59,592 - INFO - Retrieved 12643 data points for 2024-09\n"
     ]
    },
    {
     "name": "stdout",
     "output_type": "stream",
     "text": [
      "2025-02-17 12:28:59,593 - __main__ - INFO - Fetching data for V - 2024-08\n"
     ]
    },
    {
     "name": "stderr",
     "output_type": "stream",
     "text": [
      "2025-02-17 12:28:59,593 - INFO - Fetching data for V - 2024-08\n"
     ]
    },
    {
     "name": "stdout",
     "output_type": "stream",
     "text": [
      "2025-02-17 12:29:02,623 - __main__ - INFO - Retrieved 13181 data points for 2024-08\n"
     ]
    },
    {
     "name": "stderr",
     "output_type": "stream",
     "text": [
      "2025-02-17 12:29:02,623 - INFO - Retrieved 13181 data points for 2024-08\n"
     ]
    },
    {
     "name": "stdout",
     "output_type": "stream",
     "text": [
      "2025-02-17 12:29:02,624 - __main__ - INFO - Fetching data for V - 2024-07\n"
     ]
    },
    {
     "name": "stderr",
     "output_type": "stream",
     "text": [
      "2025-02-17 12:29:02,624 - INFO - Fetching data for V - 2024-07\n"
     ]
    },
    {
     "name": "stdout",
     "output_type": "stream",
     "text": [
      "2025-02-17 12:29:06,101 - __main__ - INFO - Retrieved 15947 data points for 2024-07\n"
     ]
    },
    {
     "name": "stderr",
     "output_type": "stream",
     "text": [
      "2025-02-17 12:29:06,101 - INFO - Retrieved 15947 data points for 2024-07\n"
     ]
    },
    {
     "name": "stdout",
     "output_type": "stream",
     "text": [
      "2025-02-17 12:29:06,102 - __main__ - INFO - Fetching data for V - 2024-06\n"
     ]
    },
    {
     "name": "stderr",
     "output_type": "stream",
     "text": [
      "2025-02-17 12:29:06,102 - INFO - Fetching data for V - 2024-06\n"
     ]
    },
    {
     "name": "stdout",
     "output_type": "stream",
     "text": [
      "2025-02-17 12:29:08,598 - __main__ - INFO - Retrieved 11718 data points for 2024-06\n"
     ]
    },
    {
     "name": "stderr",
     "output_type": "stream",
     "text": [
      "2025-02-17 12:29:08,598 - INFO - Retrieved 11718 data points for 2024-06\n"
     ]
    },
    {
     "name": "stdout",
     "output_type": "stream",
     "text": [
      "2025-02-17 12:29:08,599 - __main__ - INFO - Fetching data for V - 2024-05\n"
     ]
    },
    {
     "name": "stderr",
     "output_type": "stream",
     "text": [
      "2025-02-17 12:29:08,599 - INFO - Fetching data for V - 2024-05\n"
     ]
    },
    {
     "name": "stdout",
     "output_type": "stream",
     "text": [
      "2025-02-17 12:29:11,254 - __main__ - INFO - Retrieved 12841 data points for 2024-05\n"
     ]
    },
    {
     "name": "stderr",
     "output_type": "stream",
     "text": [
      "2025-02-17 12:29:11,254 - INFO - Retrieved 12841 data points for 2024-05\n"
     ]
    },
    {
     "name": "stdout",
     "output_type": "stream",
     "text": [
      "2025-02-17 12:29:11,255 - __main__ - INFO - Fetching data for V - 2024-04\n"
     ]
    },
    {
     "name": "stderr",
     "output_type": "stream",
     "text": [
      "2025-02-17 12:29:11,255 - INFO - Fetching data for V - 2024-04\n"
     ]
    },
    {
     "name": "stdout",
     "output_type": "stream",
     "text": [
      "2025-02-17 12:29:13,943 - __main__ - INFO - Retrieved 13421 data points for 2024-04\n"
     ]
    },
    {
     "name": "stderr",
     "output_type": "stream",
     "text": [
      "2025-02-17 12:29:13,943 - INFO - Retrieved 13421 data points for 2024-04\n"
     ]
    },
    {
     "name": "stdout",
     "output_type": "stream",
     "text": [
      "2025-02-17 12:29:13,944 - __main__ - INFO - Fetching data for V - 2024-03\n"
     ]
    },
    {
     "name": "stderr",
     "output_type": "stream",
     "text": [
      "2025-02-17 12:29:13,944 - INFO - Fetching data for V - 2024-03\n"
     ]
    },
    {
     "name": "stdout",
     "output_type": "stream",
     "text": [
      "2025-02-17 12:29:16,606 - __main__ - INFO - Retrieved 11917 data points for 2024-03\n"
     ]
    },
    {
     "name": "stderr",
     "output_type": "stream",
     "text": [
      "2025-02-17 12:29:16,606 - INFO - Retrieved 11917 data points for 2024-03\n"
     ]
    },
    {
     "name": "stdout",
     "output_type": "stream",
     "text": [
      "2025-02-17 12:29:16,607 - __main__ - INFO - Writing data to /Users/benpfeffer/Desktop/CODE/volatility-strategy/db/cache/market_data/V_1min.csv\n"
     ]
    },
    {
     "name": "stderr",
     "output_type": "stream",
     "text": [
      "2025-02-17 12:29:16,607 - INFO - Writing data to /Users/benpfeffer/Desktop/CODE/volatility-strategy/db/cache/market_data/V_1min.csv\n"
     ]
    },
    {
     "name": "stdout",
     "output_type": "stream",
     "text": [
      "2025-02-17 12:29:16,610 - __main__ - INFO - Data fetch completed successfully\n"
     ]
    },
    {
     "name": "stderr",
     "output_type": "stream",
     "text": [
      "2025-02-17 12:29:16,610 - INFO - Data fetch completed successfully\n"
     ]
    },
    {
     "name": "stdout",
     "output_type": "stream",
     "text": [
      "2025-02-17 12:29:16,612 - __main__ - INFO - Starting data fetch for TM with 1min interval\n"
     ]
    },
    {
     "name": "stderr",
     "output_type": "stream",
     "text": [
      "2025-02-17 12:29:16,612 - INFO - Starting data fetch for TM with 1min interval\n"
     ]
    },
    {
     "name": "stdout",
     "output_type": "stream",
     "text": [
      "2025-02-17 12:29:16,612 - __main__ - INFO - Using 1min interval - fetching data month by month for past year\n"
     ]
    },
    {
     "name": "stderr",
     "output_type": "stream",
     "text": [
      "2025-02-17 12:29:16,612 - INFO - Using 1min interval - fetching data month by month for past year\n"
     ]
    },
    {
     "name": "stdout",
     "output_type": "stream",
     "text": [
      "2025-02-17 12:29:16,613 - __main__ - INFO - Will fetch data for months: ['2025-02', '2025-01', '2024-12', '2024-11', '2024-10', '2024-09', '2024-08', '2024-07', '2024-06', '2024-05', '2024-04', '2024-03']\n"
     ]
    },
    {
     "name": "stderr",
     "output_type": "stream",
     "text": [
      "2025-02-17 12:29:16,613 - INFO - Will fetch data for months: ['2025-02', '2025-01', '2024-12', '2024-11', '2024-10', '2024-09', '2024-08', '2024-07', '2024-06', '2024-05', '2024-04', '2024-03']\n"
     ]
    },
    {
     "name": "stdout",
     "output_type": "stream",
     "text": [
      "2025-02-17 12:29:16,614 - __main__ - INFO - Fetching data for TM - 2025-02\n"
     ]
    },
    {
     "name": "stderr",
     "output_type": "stream",
     "text": [
      "2025-02-17 12:29:16,614 - INFO - Fetching data for TM - 2025-02\n"
     ]
    },
    {
     "name": "stdout",
     "output_type": "stream",
     "text": [
      "2025-02-17 12:29:17,219 - __main__ - INFO - Retrieved 3733 data points for 2025-02\n"
     ]
    },
    {
     "name": "stderr",
     "output_type": "stream",
     "text": [
      "2025-02-17 12:29:17,219 - INFO - Retrieved 3733 data points for 2025-02\n"
     ]
    },
    {
     "name": "stdout",
     "output_type": "stream",
     "text": [
      "2025-02-17 12:29:17,220 - __main__ - INFO - Fetching data for TM - 2025-01\n"
     ]
    },
    {
     "name": "stderr",
     "output_type": "stream",
     "text": [
      "2025-02-17 12:29:17,220 - INFO - Fetching data for TM - 2025-01\n"
     ]
    },
    {
     "name": "stdout",
     "output_type": "stream",
     "text": [
      "2025-02-17 12:29:18,120 - __main__ - INFO - Retrieved 7748 data points for 2025-01\n"
     ]
    },
    {
     "name": "stderr",
     "output_type": "stream",
     "text": [
      "2025-02-17 12:29:18,120 - INFO - Retrieved 7748 data points for 2025-01\n"
     ]
    },
    {
     "name": "stdout",
     "output_type": "stream",
     "text": [
      "2025-02-17 12:29:18,121 - __main__ - INFO - Fetching data for TM - 2024-12\n"
     ]
    },
    {
     "name": "stderr",
     "output_type": "stream",
     "text": [
      "2025-02-17 12:29:18,121 - INFO - Fetching data for TM - 2024-12\n"
     ]
    },
    {
     "name": "stdout",
     "output_type": "stream",
     "text": [
      "2025-02-17 12:29:19,021 - __main__ - INFO - Retrieved 8236 data points for 2024-12\n"
     ]
    },
    {
     "name": "stderr",
     "output_type": "stream",
     "text": [
      "2025-02-17 12:29:19,021 - INFO - Retrieved 8236 data points for 2024-12\n"
     ]
    },
    {
     "name": "stdout",
     "output_type": "stream",
     "text": [
      "2025-02-17 12:29:19,022 - __main__ - INFO - Fetching data for TM - 2024-11\n"
     ]
    },
    {
     "name": "stderr",
     "output_type": "stream",
     "text": [
      "2025-02-17 12:29:19,022 - INFO - Fetching data for TM - 2024-11\n"
     ]
    },
    {
     "name": "stdout",
     "output_type": "stream",
     "text": [
      "2025-02-17 12:29:20,659 - __main__ - INFO - Retrieved 8123 data points for 2024-11\n"
     ]
    },
    {
     "name": "stderr",
     "output_type": "stream",
     "text": [
      "2025-02-17 12:29:20,659 - INFO - Retrieved 8123 data points for 2024-11\n"
     ]
    },
    {
     "name": "stdout",
     "output_type": "stream",
     "text": [
      "2025-02-17 12:29:20,659 - __main__ - INFO - Fetching data for TM - 2024-10\n"
     ]
    },
    {
     "name": "stderr",
     "output_type": "stream",
     "text": [
      "2025-02-17 12:29:20,659 - INFO - Fetching data for TM - 2024-10\n"
     ]
    },
    {
     "name": "stdout",
     "output_type": "stream",
     "text": [
      "2025-02-17 12:29:22,634 - __main__ - INFO - Retrieved 9382 data points for 2024-10\n"
     ]
    },
    {
     "name": "stderr",
     "output_type": "stream",
     "text": [
      "2025-02-17 12:29:22,634 - INFO - Retrieved 9382 data points for 2024-10\n"
     ]
    },
    {
     "name": "stdout",
     "output_type": "stream",
     "text": [
      "2025-02-17 12:29:22,635 - __main__ - INFO - Fetching data for TM - 2024-09\n"
     ]
    },
    {
     "name": "stderr",
     "output_type": "stream",
     "text": [
      "2025-02-17 12:29:22,635 - INFO - Fetching data for TM - 2024-09\n"
     ]
    },
    {
     "name": "stdout",
     "output_type": "stream",
     "text": [
      "2025-02-17 12:29:24,630 - __main__ - INFO - Retrieved 7556 data points for 2024-09\n"
     ]
    },
    {
     "name": "stderr",
     "output_type": "stream",
     "text": [
      "2025-02-17 12:29:24,630 - INFO - Retrieved 7556 data points for 2024-09\n"
     ]
    },
    {
     "name": "stdout",
     "output_type": "stream",
     "text": [
      "2025-02-17 12:29:24,631 - __main__ - INFO - Fetching data for TM - 2024-08\n"
     ]
    },
    {
     "name": "stderr",
     "output_type": "stream",
     "text": [
      "2025-02-17 12:29:24,631 - INFO - Fetching data for TM - 2024-08\n"
     ]
    },
    {
     "name": "stdout",
     "output_type": "stream",
     "text": [
      "2025-02-17 12:29:25,397 - __main__ - INFO - Retrieved 9327 data points for 2024-08\n"
     ]
    },
    {
     "name": "stderr",
     "output_type": "stream",
     "text": [
      "2025-02-17 12:29:25,397 - INFO - Retrieved 9327 data points for 2024-08\n"
     ]
    },
    {
     "name": "stdout",
     "output_type": "stream",
     "text": [
      "2025-02-17 12:29:25,397 - __main__ - INFO - Fetching data for TM - 2024-07\n"
     ]
    },
    {
     "name": "stderr",
     "output_type": "stream",
     "text": [
      "2025-02-17 12:29:25,397 - INFO - Fetching data for TM - 2024-07\n"
     ]
    },
    {
     "name": "stdout",
     "output_type": "stream",
     "text": [
      "2025-02-17 12:29:26,902 - __main__ - INFO - Retrieved 6732 data points for 2024-07\n"
     ]
    },
    {
     "name": "stderr",
     "output_type": "stream",
     "text": [
      "2025-02-17 12:29:26,902 - INFO - Retrieved 6732 data points for 2024-07\n"
     ]
    },
    {
     "name": "stdout",
     "output_type": "stream",
     "text": [
      "2025-02-17 12:29:26,903 - __main__ - INFO - Fetching data for TM - 2024-06\n"
     ]
    },
    {
     "name": "stderr",
     "output_type": "stream",
     "text": [
      "2025-02-17 12:29:26,903 - INFO - Fetching data for TM - 2024-06\n"
     ]
    },
    {
     "name": "stdout",
     "output_type": "stream",
     "text": [
      "2025-02-17 12:29:28,839 - __main__ - INFO - Retrieved 7173 data points for 2024-06\n"
     ]
    },
    {
     "name": "stderr",
     "output_type": "stream",
     "text": [
      "2025-02-17 12:29:28,839 - INFO - Retrieved 7173 data points for 2024-06\n"
     ]
    },
    {
     "name": "stdout",
     "output_type": "stream",
     "text": [
      "2025-02-17 12:29:28,840 - __main__ - INFO - Fetching data for TM - 2024-05\n"
     ]
    },
    {
     "name": "stderr",
     "output_type": "stream",
     "text": [
      "2025-02-17 12:29:28,840 - INFO - Fetching data for TM - 2024-05\n"
     ]
    },
    {
     "name": "stdout",
     "output_type": "stream",
     "text": [
      "2025-02-17 12:29:30,463 - __main__ - INFO - Retrieved 7172 data points for 2024-05\n"
     ]
    },
    {
     "name": "stderr",
     "output_type": "stream",
     "text": [
      "2025-02-17 12:29:30,463 - INFO - Retrieved 7172 data points for 2024-05\n"
     ]
    },
    {
     "name": "stdout",
     "output_type": "stream",
     "text": [
      "2025-02-17 12:29:30,464 - __main__ - INFO - Fetching data for TM - 2024-04\n"
     ]
    },
    {
     "name": "stderr",
     "output_type": "stream",
     "text": [
      "2025-02-17 12:29:30,464 - INFO - Fetching data for TM - 2024-04\n"
     ]
    },
    {
     "name": "stdout",
     "output_type": "stream",
     "text": [
      "2025-02-17 12:29:32,072 - __main__ - INFO - Retrieved 7030 data points for 2024-04\n"
     ]
    },
    {
     "name": "stderr",
     "output_type": "stream",
     "text": [
      "2025-02-17 12:29:32,072 - INFO - Retrieved 7030 data points for 2024-04\n"
     ]
    },
    {
     "name": "stdout",
     "output_type": "stream",
     "text": [
      "2025-02-17 12:29:32,072 - __main__ - INFO - Fetching data for TM - 2024-03\n"
     ]
    },
    {
     "name": "stderr",
     "output_type": "stream",
     "text": [
      "2025-02-17 12:29:32,072 - INFO - Fetching data for TM - 2024-03\n"
     ]
    },
    {
     "name": "stdout",
     "output_type": "stream",
     "text": [
      "2025-02-17 12:29:33,647 - __main__ - INFO - Retrieved 7124 data points for 2024-03\n"
     ]
    },
    {
     "name": "stderr",
     "output_type": "stream",
     "text": [
      "2025-02-17 12:29:33,647 - INFO - Retrieved 7124 data points for 2024-03\n"
     ]
    },
    {
     "name": "stdout",
     "output_type": "stream",
     "text": [
      "2025-02-17 12:29:33,648 - __main__ - INFO - Writing data to /Users/benpfeffer/Desktop/CODE/volatility-strategy/db/cache/market_data/TM_1min.csv\n"
     ]
    },
    {
     "name": "stderr",
     "output_type": "stream",
     "text": [
      "2025-02-17 12:29:33,648 - INFO - Writing data to /Users/benpfeffer/Desktop/CODE/volatility-strategy/db/cache/market_data/TM_1min.csv\n"
     ]
    },
    {
     "name": "stdout",
     "output_type": "stream",
     "text": [
      "2025-02-17 12:29:33,651 - __main__ - INFO - Data fetch completed successfully\n"
     ]
    },
    {
     "name": "stderr",
     "output_type": "stream",
     "text": [
      "2025-02-17 12:29:33,651 - INFO - Data fetch completed successfully\n"
     ]
    },
    {
     "name": "stdout",
     "output_type": "stream",
     "text": [
      "2025-02-17 12:29:33,652 - __main__ - INFO - Starting data fetch for WMT with 1min interval\n"
     ]
    },
    {
     "name": "stderr",
     "output_type": "stream",
     "text": [
      "2025-02-17 12:29:33,652 - INFO - Starting data fetch for WMT with 1min interval\n"
     ]
    },
    {
     "name": "stdout",
     "output_type": "stream",
     "text": [
      "2025-02-17 12:29:33,653 - __main__ - INFO - Using 1min interval - fetching data month by month for past year\n"
     ]
    },
    {
     "name": "stderr",
     "output_type": "stream",
     "text": [
      "2025-02-17 12:29:33,653 - INFO - Using 1min interval - fetching data month by month for past year\n"
     ]
    },
    {
     "name": "stdout",
     "output_type": "stream",
     "text": [
      "2025-02-17 12:29:33,653 - __main__ - INFO - Will fetch data for months: ['2025-02', '2025-01', '2024-12', '2024-11', '2024-10', '2024-09', '2024-08', '2024-07', '2024-06', '2024-05', '2024-04', '2024-03']\n"
     ]
    },
    {
     "name": "stderr",
     "output_type": "stream",
     "text": [
      "2025-02-17 12:29:33,653 - INFO - Will fetch data for months: ['2025-02', '2025-01', '2024-12', '2024-11', '2024-10', '2024-09', '2024-08', '2024-07', '2024-06', '2024-05', '2024-04', '2024-03']\n"
     ]
    },
    {
     "name": "stdout",
     "output_type": "stream",
     "text": [
      "2025-02-17 12:29:33,654 - __main__ - INFO - Fetching data for WMT - 2025-02\n"
     ]
    },
    {
     "name": "stderr",
     "output_type": "stream",
     "text": [
      "2025-02-17 12:29:33,654 - INFO - Fetching data for WMT - 2025-02\n"
     ]
    },
    {
     "name": "stdout",
     "output_type": "stream",
     "text": [
      "2025-02-17 12:29:34,349 - __main__ - INFO - Retrieved 8755 data points for 2025-02\n"
     ]
    },
    {
     "name": "stderr",
     "output_type": "stream",
     "text": [
      "2025-02-17 12:29:34,349 - INFO - Retrieved 8755 data points for 2025-02\n"
     ]
    },
    {
     "name": "stdout",
     "output_type": "stream",
     "text": [
      "2025-02-17 12:29:34,350 - __main__ - INFO - Fetching data for WMT - 2025-01\n"
     ]
    },
    {
     "name": "stderr",
     "output_type": "stream",
     "text": [
      "2025-02-17 12:29:34,350 - INFO - Fetching data for WMT - 2025-01\n"
     ]
    },
    {
     "name": "stdout",
     "output_type": "stream",
     "text": [
      "2025-02-17 12:29:37,060 - __main__ - INFO - Retrieved 16369 data points for 2025-01\n"
     ]
    },
    {
     "name": "stderr",
     "output_type": "stream",
     "text": [
      "2025-02-17 12:29:37,060 - INFO - Retrieved 16369 data points for 2025-01\n"
     ]
    },
    {
     "name": "stdout",
     "output_type": "stream",
     "text": [
      "2025-02-17 12:29:37,060 - __main__ - INFO - Fetching data for WMT - 2024-12\n"
     ]
    },
    {
     "name": "stderr",
     "output_type": "stream",
     "text": [
      "2025-02-17 12:29:37,060 - INFO - Fetching data for WMT - 2024-12\n"
     ]
    },
    {
     "name": "stdout",
     "output_type": "stream",
     "text": [
      "2025-02-17 12:29:40,225 - __main__ - INFO - Retrieved 17866 data points for 2024-12\n"
     ]
    },
    {
     "name": "stderr",
     "output_type": "stream",
     "text": [
      "2025-02-17 12:29:40,225 - INFO - Retrieved 17866 data points for 2024-12\n"
     ]
    },
    {
     "name": "stdout",
     "output_type": "stream",
     "text": [
      "2025-02-17 12:29:40,226 - __main__ - INFO - Fetching data for WMT - 2024-11\n"
     ]
    },
    {
     "name": "stderr",
     "output_type": "stream",
     "text": [
      "2025-02-17 12:29:40,226 - INFO - Fetching data for WMT - 2024-11\n"
     ]
    },
    {
     "name": "stdout",
     "output_type": "stream",
     "text": [
      "2025-02-17 12:29:43,187 - __main__ - INFO - Retrieved 16597 data points for 2024-11\n"
     ]
    },
    {
     "name": "stderr",
     "output_type": "stream",
     "text": [
      "2025-02-17 12:29:43,187 - INFO - Retrieved 16597 data points for 2024-11\n"
     ]
    },
    {
     "name": "stdout",
     "output_type": "stream",
     "text": [
      "2025-02-17 12:29:43,188 - __main__ - INFO - Fetching data for WMT - 2024-10\n"
     ]
    },
    {
     "name": "stderr",
     "output_type": "stream",
     "text": [
      "2025-02-17 12:29:43,188 - INFO - Fetching data for WMT - 2024-10\n"
     ]
    },
    {
     "name": "stdout",
     "output_type": "stream",
     "text": [
      "2025-02-17 12:29:46,210 - __main__ - INFO - Retrieved 16832 data points for 2024-10\n"
     ]
    },
    {
     "name": "stderr",
     "output_type": "stream",
     "text": [
      "2025-02-17 12:29:46,210 - INFO - Retrieved 16832 data points for 2024-10\n"
     ]
    },
    {
     "name": "stdout",
     "output_type": "stream",
     "text": [
      "2025-02-17 12:29:46,211 - __main__ - INFO - Fetching data for WMT - 2024-09\n"
     ]
    },
    {
     "name": "stderr",
     "output_type": "stream",
     "text": [
      "2025-02-17 12:29:46,211 - INFO - Fetching data for WMT - 2024-09\n"
     ]
    },
    {
     "name": "stdout",
     "output_type": "stream",
     "text": [
      "2025-02-17 12:29:49,925 - __main__ - INFO - Retrieved 15217 data points for 2024-09\n"
     ]
    },
    {
     "name": "stderr",
     "output_type": "stream",
     "text": [
      "2025-02-17 12:29:49,925 - INFO - Retrieved 15217 data points for 2024-09\n"
     ]
    },
    {
     "name": "stdout",
     "output_type": "stream",
     "text": [
      "2025-02-17 12:29:49,925 - __main__ - INFO - Fetching data for WMT - 2024-08\n"
     ]
    },
    {
     "name": "stderr",
     "output_type": "stream",
     "text": [
      "2025-02-17 12:29:49,925 - INFO - Fetching data for WMT - 2024-08\n"
     ]
    },
    {
     "name": "stdout",
     "output_type": "stream",
     "text": [
      "2025-02-17 12:29:52,588 - __main__ - INFO - Retrieved 16760 data points for 2024-08\n"
     ]
    },
    {
     "name": "stderr",
     "output_type": "stream",
     "text": [
      "2025-02-17 12:29:52,588 - INFO - Retrieved 16760 data points for 2024-08\n"
     ]
    },
    {
     "name": "stdout",
     "output_type": "stream",
     "text": [
      "2025-02-17 12:29:52,589 - __main__ - INFO - Fetching data for WMT - 2024-07\n"
     ]
    },
    {
     "name": "stderr",
     "output_type": "stream",
     "text": [
      "2025-02-17 12:29:52,589 - INFO - Fetching data for WMT - 2024-07\n"
     ]
    },
    {
     "name": "stdout",
     "output_type": "stream",
     "text": [
      "2025-02-17 12:29:55,462 - __main__ - INFO - Retrieved 16192 data points for 2024-07\n"
     ]
    },
    {
     "name": "stderr",
     "output_type": "stream",
     "text": [
      "2025-02-17 12:29:55,462 - INFO - Retrieved 16192 data points for 2024-07\n"
     ]
    },
    {
     "name": "stdout",
     "output_type": "stream",
     "text": [
      "2025-02-17 12:29:55,463 - __main__ - INFO - Fetching data for WMT - 2024-06\n"
     ]
    },
    {
     "name": "stderr",
     "output_type": "stream",
     "text": [
      "2025-02-17 12:29:55,463 - INFO - Fetching data for WMT - 2024-06\n"
     ]
    },
    {
     "name": "stdout",
     "output_type": "stream",
     "text": [
      "2025-02-17 12:29:58,316 - __main__ - INFO - Retrieved 13700 data points for 2024-06\n"
     ]
    },
    {
     "name": "stderr",
     "output_type": "stream",
     "text": [
      "2025-02-17 12:29:58,316 - INFO - Retrieved 13700 data points for 2024-06\n"
     ]
    },
    {
     "name": "stdout",
     "output_type": "stream",
     "text": [
      "2025-02-17 12:29:58,317 - __main__ - INFO - Fetching data for WMT - 2024-05\n"
     ]
    },
    {
     "name": "stderr",
     "output_type": "stream",
     "text": [
      "2025-02-17 12:29:58,317 - INFO - Fetching data for WMT - 2024-05\n"
     ]
    },
    {
     "name": "stdout",
     "output_type": "stream",
     "text": [
      "2025-02-17 12:29:59,556 - __main__ - INFO - Retrieved 15447 data points for 2024-05\n"
     ]
    },
    {
     "name": "stderr",
     "output_type": "stream",
     "text": [
      "2025-02-17 12:29:59,556 - INFO - Retrieved 15447 data points for 2024-05\n"
     ]
    },
    {
     "name": "stdout",
     "output_type": "stream",
     "text": [
      "2025-02-17 12:29:59,556 - __main__ - INFO - Fetching data for WMT - 2024-04\n"
     ]
    },
    {
     "name": "stderr",
     "output_type": "stream",
     "text": [
      "2025-02-17 12:29:59,556 - INFO - Fetching data for WMT - 2024-04\n"
     ]
    },
    {
     "name": "stdout",
     "output_type": "stream",
     "text": [
      "2025-02-17 12:30:03,204 - __main__ - INFO - Retrieved 14553 data points for 2024-04\n"
     ]
    },
    {
     "name": "stderr",
     "output_type": "stream",
     "text": [
      "2025-02-17 12:30:03,204 - INFO - Retrieved 14553 data points for 2024-04\n"
     ]
    },
    {
     "name": "stdout",
     "output_type": "stream",
     "text": [
      "2025-02-17 12:30:03,204 - __main__ - INFO - Fetching data for WMT - 2024-03\n"
     ]
    },
    {
     "name": "stderr",
     "output_type": "stream",
     "text": [
      "2025-02-17 12:30:03,204 - INFO - Fetching data for WMT - 2024-03\n"
     ]
    },
    {
     "name": "stdout",
     "output_type": "stream",
     "text": [
      "2025-02-17 12:30:07,378 - __main__ - INFO - Retrieved 14720 data points for 2024-03\n"
     ]
    },
    {
     "name": "stderr",
     "output_type": "stream",
     "text": [
      "2025-02-17 12:30:07,378 - INFO - Retrieved 14720 data points for 2024-03\n"
     ]
    },
    {
     "name": "stdout",
     "output_type": "stream",
     "text": [
      "2025-02-17 12:30:07,379 - __main__ - INFO - Writing data to /Users/benpfeffer/Desktop/CODE/volatility-strategy/db/cache/market_data/WMT_1min.csv\n"
     ]
    },
    {
     "name": "stderr",
     "output_type": "stream",
     "text": [
      "2025-02-17 12:30:07,379 - INFO - Writing data to /Users/benpfeffer/Desktop/CODE/volatility-strategy/db/cache/market_data/WMT_1min.csv\n"
     ]
    },
    {
     "name": "stdout",
     "output_type": "stream",
     "text": [
      "2025-02-17 12:30:07,384 - __main__ - INFO - Data fetch completed successfully\n"
     ]
    },
    {
     "name": "stderr",
     "output_type": "stream",
     "text": [
      "2025-02-17 12:30:07,384 - INFO - Data fetch completed successfully\n"
     ]
    },
    {
     "name": "stdout",
     "output_type": "stream",
     "text": [
      "2025-02-17 12:30:07,385 - __main__ - INFO - Starting data fetch for DIS with 1min interval\n"
     ]
    },
    {
     "name": "stderr",
     "output_type": "stream",
     "text": [
      "2025-02-17 12:30:07,385 - INFO - Starting data fetch for DIS with 1min interval\n"
     ]
    },
    {
     "name": "stdout",
     "output_type": "stream",
     "text": [
      "2025-02-17 12:30:07,386 - __main__ - INFO - Using 1min interval - fetching data month by month for past year\n"
     ]
    },
    {
     "name": "stderr",
     "output_type": "stream",
     "text": [
      "2025-02-17 12:30:07,386 - INFO - Using 1min interval - fetching data month by month for past year\n"
     ]
    },
    {
     "name": "stdout",
     "output_type": "stream",
     "text": [
      "2025-02-17 12:30:07,387 - __main__ - INFO - Will fetch data for months: ['2025-02', '2025-01', '2024-12', '2024-11', '2024-10', '2024-09', '2024-08', '2024-07', '2024-06', '2024-05', '2024-04', '2024-03']\n"
     ]
    },
    {
     "name": "stderr",
     "output_type": "stream",
     "text": [
      "2025-02-17 12:30:07,387 - INFO - Will fetch data for months: ['2025-02', '2025-01', '2024-12', '2024-11', '2024-10', '2024-09', '2024-08', '2024-07', '2024-06', '2024-05', '2024-04', '2024-03']\n"
     ]
    },
    {
     "name": "stdout",
     "output_type": "stream",
     "text": [
      "2025-02-17 12:30:07,387 - __main__ - INFO - Fetching data for DIS - 2025-02\n"
     ]
    },
    {
     "name": "stderr",
     "output_type": "stream",
     "text": [
      "2025-02-17 12:30:07,387 - INFO - Fetching data for DIS - 2025-02\n"
     ]
    },
    {
     "name": "stdout",
     "output_type": "stream",
     "text": [
      "2025-02-17 12:30:09,022 - __main__ - INFO - Retrieved 7975 data points for 2025-02\n"
     ]
    },
    {
     "name": "stderr",
     "output_type": "stream",
     "text": [
      "2025-02-17 12:30:09,022 - INFO - Retrieved 7975 data points for 2025-02\n"
     ]
    },
    {
     "name": "stdout",
     "output_type": "stream",
     "text": [
      "2025-02-17 12:30:09,023 - __main__ - INFO - Fetching data for DIS - 2025-01\n"
     ]
    },
    {
     "name": "stderr",
     "output_type": "stream",
     "text": [
      "2025-02-17 12:30:09,023 - INFO - Fetching data for DIS - 2025-01\n"
     ]
    },
    {
     "name": "stdout",
     "output_type": "stream",
     "text": [
      "2025-02-17 12:30:11,945 - __main__ - INFO - Retrieved 16073 data points for 2025-01\n"
     ]
    },
    {
     "name": "stderr",
     "output_type": "stream",
     "text": [
      "2025-02-17 12:30:11,945 - INFO - Retrieved 16073 data points for 2025-01\n"
     ]
    },
    {
     "name": "stdout",
     "output_type": "stream",
     "text": [
      "2025-02-17 12:30:11,946 - __main__ - INFO - Fetching data for DIS - 2024-12\n"
     ]
    },
    {
     "name": "stderr",
     "output_type": "stream",
     "text": [
      "2025-02-17 12:30:11,946 - INFO - Fetching data for DIS - 2024-12\n"
     ]
    },
    {
     "name": "stdout",
     "output_type": "stream",
     "text": [
      "2025-02-17 12:30:15,013 - __main__ - INFO - Retrieved 16839 data points for 2024-12\n"
     ]
    },
    {
     "name": "stderr",
     "output_type": "stream",
     "text": [
      "2025-02-17 12:30:15,013 - INFO - Retrieved 16839 data points for 2024-12\n"
     ]
    },
    {
     "name": "stdout",
     "output_type": "stream",
     "text": [
      "2025-02-17 12:30:15,013 - __main__ - INFO - Fetching data for DIS - 2024-11\n"
     ]
    },
    {
     "name": "stderr",
     "output_type": "stream",
     "text": [
      "2025-02-17 12:30:15,013 - INFO - Fetching data for DIS - 2024-11\n"
     ]
    },
    {
     "name": "stdout",
     "output_type": "stream",
     "text": [
      "2025-02-17 12:30:18,128 - __main__ - INFO - Retrieved 16999 data points for 2024-11\n"
     ]
    },
    {
     "name": "stderr",
     "output_type": "stream",
     "text": [
      "2025-02-17 12:30:18,128 - INFO - Retrieved 16999 data points for 2024-11\n"
     ]
    },
    {
     "name": "stdout",
     "output_type": "stream",
     "text": [
      "2025-02-17 12:30:18,129 - __main__ - INFO - Fetching data for DIS - 2024-10\n"
     ]
    },
    {
     "name": "stderr",
     "output_type": "stream",
     "text": [
      "2025-02-17 12:30:18,129 - INFO - Fetching data for DIS - 2024-10\n"
     ]
    },
    {
     "name": "stdout",
     "output_type": "stream",
     "text": [
      "2025-02-17 12:30:21,222 - __main__ - INFO - Retrieved 18095 data points for 2024-10\n"
     ]
    },
    {
     "name": "stderr",
     "output_type": "stream",
     "text": [
      "2025-02-17 12:30:21,222 - INFO - Retrieved 18095 data points for 2024-10\n"
     ]
    },
    {
     "name": "stdout",
     "output_type": "stream",
     "text": [
      "2025-02-17 12:30:21,223 - __main__ - INFO - Fetching data for DIS - 2024-09\n"
     ]
    },
    {
     "name": "stderr",
     "output_type": "stream",
     "text": [
      "2025-02-17 12:30:21,223 - INFO - Fetching data for DIS - 2024-09\n"
     ]
    },
    {
     "name": "stdout",
     "output_type": "stream",
     "text": [
      "2025-02-17 12:30:23,995 - __main__ - INFO - Retrieved 15931 data points for 2024-09\n"
     ]
    },
    {
     "name": "stderr",
     "output_type": "stream",
     "text": [
      "2025-02-17 12:30:23,995 - INFO - Retrieved 15931 data points for 2024-09\n"
     ]
    },
    {
     "name": "stdout",
     "output_type": "stream",
     "text": [
      "2025-02-17 12:30:23,996 - __main__ - INFO - Fetching data for DIS - 2024-08\n"
     ]
    },
    {
     "name": "stderr",
     "output_type": "stream",
     "text": [
      "2025-02-17 12:30:23,996 - INFO - Fetching data for DIS - 2024-08\n"
     ]
    },
    {
     "name": "stdout",
     "output_type": "stream",
     "text": [
      "2025-02-17 12:30:27,259 - __main__ - INFO - Retrieved 18598 data points for 2024-08\n"
     ]
    },
    {
     "name": "stderr",
     "output_type": "stream",
     "text": [
      "2025-02-17 12:30:27,259 - INFO - Retrieved 18598 data points for 2024-08\n"
     ]
    },
    {
     "name": "stdout",
     "output_type": "stream",
     "text": [
      "2025-02-17 12:30:27,260 - __main__ - INFO - Fetching data for DIS - 2024-07\n"
     ]
    },
    {
     "name": "stderr",
     "output_type": "stream",
     "text": [
      "2025-02-17 12:30:27,260 - INFO - Fetching data for DIS - 2024-07\n"
     ]
    },
    {
     "name": "stdout",
     "output_type": "stream",
     "text": [
      "2025-02-17 12:30:30,378 - __main__ - INFO - Retrieved 18365 data points for 2024-07\n"
     ]
    },
    {
     "name": "stderr",
     "output_type": "stream",
     "text": [
      "2025-02-17 12:30:30,378 - INFO - Retrieved 18365 data points for 2024-07\n"
     ]
    },
    {
     "name": "stdout",
     "output_type": "stream",
     "text": [
      "2025-02-17 12:30:30,379 - __main__ - INFO - Fetching data for DIS - 2024-06\n"
     ]
    },
    {
     "name": "stderr",
     "output_type": "stream",
     "text": [
      "2025-02-17 12:30:30,379 - INFO - Fetching data for DIS - 2024-06\n"
     ]
    },
    {
     "name": "stdout",
     "output_type": "stream",
     "text": [
      "2025-02-17 12:30:33,108 - __main__ - INFO - Retrieved 15465 data points for 2024-06\n"
     ]
    },
    {
     "name": "stderr",
     "output_type": "stream",
     "text": [
      "2025-02-17 12:30:33,108 - INFO - Retrieved 15465 data points for 2024-06\n"
     ]
    },
    {
     "name": "stdout",
     "output_type": "stream",
     "text": [
      "2025-02-17 12:30:33,109 - __main__ - INFO - Fetching data for DIS - 2024-05\n"
     ]
    },
    {
     "name": "stderr",
     "output_type": "stream",
     "text": [
      "2025-02-17 12:30:33,109 - INFO - Fetching data for DIS - 2024-05\n"
     ]
    },
    {
     "name": "stdout",
     "output_type": "stream",
     "text": [
      "2025-02-17 12:30:36,191 - __main__ - INFO - Retrieved 18191 data points for 2024-05\n"
     ]
    },
    {
     "name": "stderr",
     "output_type": "stream",
     "text": [
      "2025-02-17 12:30:36,191 - INFO - Retrieved 18191 data points for 2024-05\n"
     ]
    },
    {
     "name": "stdout",
     "output_type": "stream",
     "text": [
      "2025-02-17 12:30:36,192 - __main__ - INFO - Fetching data for DIS - 2024-04\n"
     ]
    },
    {
     "name": "stderr",
     "output_type": "stream",
     "text": [
      "2025-02-17 12:30:36,192 - INFO - Fetching data for DIS - 2024-04\n"
     ]
    },
    {
     "name": "stdout",
     "output_type": "stream",
     "text": [
      "2025-02-17 12:30:39,201 - __main__ - INFO - Retrieved 17388 data points for 2024-04\n"
     ]
    },
    {
     "name": "stderr",
     "output_type": "stream",
     "text": [
      "2025-02-17 12:30:39,201 - INFO - Retrieved 17388 data points for 2024-04\n"
     ]
    },
    {
     "name": "stdout",
     "output_type": "stream",
     "text": [
      "2025-02-17 12:30:39,202 - __main__ - INFO - Fetching data for DIS - 2024-03\n"
     ]
    },
    {
     "name": "stderr",
     "output_type": "stream",
     "text": [
      "2025-02-17 12:30:39,202 - INFO - Fetching data for DIS - 2024-03\n"
     ]
    },
    {
     "name": "stdout",
     "output_type": "stream",
     "text": [
      "2025-02-17 12:30:41,979 - __main__ - INFO - Retrieved 16382 data points for 2024-03\n"
     ]
    },
    {
     "name": "stderr",
     "output_type": "stream",
     "text": [
      "2025-02-17 12:30:41,979 - INFO - Retrieved 16382 data points for 2024-03\n"
     ]
    },
    {
     "name": "stdout",
     "output_type": "stream",
     "text": [
      "2025-02-17 12:30:41,980 - __main__ - INFO - Writing data to /Users/benpfeffer/Desktop/CODE/volatility-strategy/db/cache/market_data/DIS_1min.csv\n"
     ]
    },
    {
     "name": "stderr",
     "output_type": "stream",
     "text": [
      "2025-02-17 12:30:41,980 - INFO - Writing data to /Users/benpfeffer/Desktop/CODE/volatility-strategy/db/cache/market_data/DIS_1min.csv\n"
     ]
    },
    {
     "name": "stdout",
     "output_type": "stream",
     "text": [
      "2025-02-17 12:30:41,984 - __main__ - INFO - Data fetch completed successfully\n"
     ]
    },
    {
     "name": "stderr",
     "output_type": "stream",
     "text": [
      "2025-02-17 12:30:41,984 - INFO - Data fetch completed successfully\n"
     ]
    },
    {
     "name": "stdout",
     "output_type": "stream",
     "text": [
      "2025-02-17 12:30:41,986 - __main__ - INFO - Starting data fetch for DJGT with 1min interval\n"
     ]
    },
    {
     "name": "stderr",
     "output_type": "stream",
     "text": [
      "2025-02-17 12:30:41,986 - INFO - Starting data fetch for DJGT with 1min interval\n"
     ]
    },
    {
     "name": "stdout",
     "output_type": "stream",
     "text": [
      "2025-02-17 12:30:41,987 - __main__ - INFO - Using 1min interval - fetching data month by month for past year\n"
     ]
    },
    {
     "name": "stderr",
     "output_type": "stream",
     "text": [
      "2025-02-17 12:30:41,987 - INFO - Using 1min interval - fetching data month by month for past year\n"
     ]
    },
    {
     "name": "stdout",
     "output_type": "stream",
     "text": [
      "2025-02-17 12:30:41,988 - __main__ - INFO - Will fetch data for months: ['2025-02', '2025-01', '2024-12', '2024-11', '2024-10', '2024-09', '2024-08', '2024-07', '2024-06', '2024-05', '2024-04', '2024-03']\n"
     ]
    },
    {
     "name": "stderr",
     "output_type": "stream",
     "text": [
      "2025-02-17 12:30:41,988 - INFO - Will fetch data for months: ['2025-02', '2025-01', '2024-12', '2024-11', '2024-10', '2024-09', '2024-08', '2024-07', '2024-06', '2024-05', '2024-04', '2024-03']\n"
     ]
    },
    {
     "name": "stdout",
     "output_type": "stream",
     "text": [
      "2025-02-17 12:30:41,988 - __main__ - INFO - Fetching data for DJGT - 2025-02\n"
     ]
    },
    {
     "name": "stderr",
     "output_type": "stream",
     "text": [
      "2025-02-17 12:30:41,988 - INFO - Fetching data for DJGT - 2025-02\n"
     ]
    },
    {
     "name": "stdout",
     "output_type": "stream",
     "text": [
      "2025-02-17 12:30:42,295 - __main__ - INFO - Retrieved 2 data points for 2025-02\n"
     ]
    },
    {
     "name": "stderr",
     "output_type": "stream",
     "text": [
      "2025-02-17 12:30:42,295 - INFO - Retrieved 2 data points for 2025-02\n"
     ]
    },
    {
     "name": "stdout",
     "output_type": "stream",
     "text": [
      "2025-02-17 12:30:42,296 - __main__ - INFO - Fetching data for DJGT - 2025-01\n"
     ]
    },
    {
     "name": "stderr",
     "output_type": "stream",
     "text": [
      "2025-02-17 12:30:42,296 - INFO - Fetching data for DJGT - 2025-01\n"
     ]
    },
    {
     "name": "stdout",
     "output_type": "stream",
     "text": [
      "2025-02-17 12:30:42,566 - __main__ - INFO - Retrieved 2 data points for 2025-01\n"
     ]
    },
    {
     "name": "stderr",
     "output_type": "stream",
     "text": [
      "2025-02-17 12:30:42,566 - INFO - Retrieved 2 data points for 2025-01\n"
     ]
    },
    {
     "name": "stdout",
     "output_type": "stream",
     "text": [
      "2025-02-17 12:30:42,567 - __main__ - INFO - Fetching data for DJGT - 2024-12\n"
     ]
    },
    {
     "name": "stderr",
     "output_type": "stream",
     "text": [
      "2025-02-17 12:30:42,567 - INFO - Fetching data for DJGT - 2024-12\n"
     ]
    },
    {
     "name": "stdout",
     "output_type": "stream",
     "text": [
      "2025-02-17 12:30:42,835 - __main__ - INFO - Retrieved 2 data points for 2024-12\n"
     ]
    },
    {
     "name": "stderr",
     "output_type": "stream",
     "text": [
      "2025-02-17 12:30:42,835 - INFO - Retrieved 2 data points for 2024-12\n"
     ]
    },
    {
     "name": "stdout",
     "output_type": "stream",
     "text": [
      "2025-02-17 12:30:42,836 - __main__ - INFO - Fetching data for DJGT - 2024-11\n"
     ]
    },
    {
     "name": "stderr",
     "output_type": "stream",
     "text": [
      "2025-02-17 12:30:42,836 - INFO - Fetching data for DJGT - 2024-11\n"
     ]
    },
    {
     "name": "stdout",
     "output_type": "stream",
     "text": [
      "2025-02-17 12:30:43,115 - __main__ - INFO - Retrieved 2 data points for 2024-11\n"
     ]
    },
    {
     "name": "stderr",
     "output_type": "stream",
     "text": [
      "2025-02-17 12:30:43,115 - INFO - Retrieved 2 data points for 2024-11\n"
     ]
    },
    {
     "name": "stdout",
     "output_type": "stream",
     "text": [
      "2025-02-17 12:30:43,116 - __main__ - INFO - Fetching data for DJGT - 2024-10\n"
     ]
    },
    {
     "name": "stderr",
     "output_type": "stream",
     "text": [
      "2025-02-17 12:30:43,116 - INFO - Fetching data for DJGT - 2024-10\n"
     ]
    },
    {
     "name": "stdout",
     "output_type": "stream",
     "text": [
      "2025-02-17 12:30:43,407 - __main__ - INFO - Retrieved 2 data points for 2024-10\n"
     ]
    },
    {
     "name": "stderr",
     "output_type": "stream",
     "text": [
      "2025-02-17 12:30:43,407 - INFO - Retrieved 2 data points for 2024-10\n"
     ]
    },
    {
     "name": "stdout",
     "output_type": "stream",
     "text": [
      "2025-02-17 12:30:43,407 - __main__ - INFO - Fetching data for DJGT - 2024-09\n"
     ]
    },
    {
     "name": "stderr",
     "output_type": "stream",
     "text": [
      "2025-02-17 12:30:43,407 - INFO - Fetching data for DJGT - 2024-09\n"
     ]
    },
    {
     "name": "stdout",
     "output_type": "stream",
     "text": [
      "2025-02-17 12:30:43,703 - __main__ - INFO - Retrieved 2 data points for 2024-09\n"
     ]
    },
    {
     "name": "stderr",
     "output_type": "stream",
     "text": [
      "2025-02-17 12:30:43,703 - INFO - Retrieved 2 data points for 2024-09\n"
     ]
    },
    {
     "name": "stdout",
     "output_type": "stream",
     "text": [
      "2025-02-17 12:30:43,704 - __main__ - INFO - Fetching data for DJGT - 2024-08\n"
     ]
    },
    {
     "name": "stderr",
     "output_type": "stream",
     "text": [
      "2025-02-17 12:30:43,704 - INFO - Fetching data for DJGT - 2024-08\n"
     ]
    },
    {
     "name": "stdout",
     "output_type": "stream",
     "text": [
      "2025-02-17 12:30:44,140 - __main__ - INFO - Retrieved 2 data points for 2024-08\n"
     ]
    },
    {
     "name": "stderr",
     "output_type": "stream",
     "text": [
      "2025-02-17 12:30:44,140 - INFO - Retrieved 2 data points for 2024-08\n"
     ]
    },
    {
     "name": "stdout",
     "output_type": "stream",
     "text": [
      "2025-02-17 12:30:44,141 - __main__ - INFO - Fetching data for DJGT - 2024-07\n"
     ]
    },
    {
     "name": "stderr",
     "output_type": "stream",
     "text": [
      "2025-02-17 12:30:44,141 - INFO - Fetching data for DJGT - 2024-07\n"
     ]
    },
    {
     "name": "stdout",
     "output_type": "stream",
     "text": [
      "2025-02-17 12:30:44,573 - __main__ - INFO - Retrieved 2 data points for 2024-07\n"
     ]
    },
    {
     "name": "stderr",
     "output_type": "stream",
     "text": [
      "2025-02-17 12:30:44,573 - INFO - Retrieved 2 data points for 2024-07\n"
     ]
    },
    {
     "name": "stdout",
     "output_type": "stream",
     "text": [
      "2025-02-17 12:30:44,574 - __main__ - INFO - Fetching data for DJGT - 2024-06\n"
     ]
    },
    {
     "name": "stderr",
     "output_type": "stream",
     "text": [
      "2025-02-17 12:30:44,574 - INFO - Fetching data for DJGT - 2024-06\n"
     ]
    },
    {
     "name": "stdout",
     "output_type": "stream",
     "text": [
      "2025-02-17 12:30:45,044 - __main__ - INFO - Retrieved 2 data points for 2024-06\n"
     ]
    },
    {
     "name": "stderr",
     "output_type": "stream",
     "text": [
      "2025-02-17 12:30:45,044 - INFO - Retrieved 2 data points for 2024-06\n"
     ]
    },
    {
     "name": "stdout",
     "output_type": "stream",
     "text": [
      "2025-02-17 12:30:45,044 - __main__ - INFO - Fetching data for DJGT - 2024-05\n"
     ]
    },
    {
     "name": "stderr",
     "output_type": "stream",
     "text": [
      "2025-02-17 12:30:45,044 - INFO - Fetching data for DJGT - 2024-05\n"
     ]
    },
    {
     "name": "stdout",
     "output_type": "stream",
     "text": [
      "2025-02-17 12:30:45,355 - __main__ - INFO - Retrieved 2 data points for 2024-05\n"
     ]
    },
    {
     "name": "stderr",
     "output_type": "stream",
     "text": [
      "2025-02-17 12:30:45,355 - INFO - Retrieved 2 data points for 2024-05\n"
     ]
    },
    {
     "name": "stdout",
     "output_type": "stream",
     "text": [
      "2025-02-17 12:30:45,356 - __main__ - INFO - Fetching data for DJGT - 2024-04\n"
     ]
    },
    {
     "name": "stderr",
     "output_type": "stream",
     "text": [
      "2025-02-17 12:30:45,356 - INFO - Fetching data for DJGT - 2024-04\n"
     ]
    },
    {
     "name": "stdout",
     "output_type": "stream",
     "text": [
      "2025-02-17 12:30:45,799 - __main__ - INFO - Retrieved 2 data points for 2024-04\n"
     ]
    },
    {
     "name": "stderr",
     "output_type": "stream",
     "text": [
      "2025-02-17 12:30:45,799 - INFO - Retrieved 2 data points for 2024-04\n"
     ]
    },
    {
     "name": "stdout",
     "output_type": "stream",
     "text": [
      "2025-02-17 12:30:45,799 - __main__ - INFO - Fetching data for DJGT - 2024-03\n"
     ]
    },
    {
     "name": "stderr",
     "output_type": "stream",
     "text": [
      "2025-02-17 12:30:45,799 - INFO - Fetching data for DJGT - 2024-03\n"
     ]
    },
    {
     "name": "stdout",
     "output_type": "stream",
     "text": [
      "2025-02-17 12:30:46,072 - __main__ - INFO - Retrieved 2 data points for 2024-03\n"
     ]
    },
    {
     "name": "stderr",
     "output_type": "stream",
     "text": [
      "2025-02-17 12:30:46,072 - INFO - Retrieved 2 data points for 2024-03\n"
     ]
    },
    {
     "name": "stdout",
     "output_type": "stream",
     "text": [
      "2025-02-17 12:30:46,073 - __main__ - INFO - Writing data to /Users/benpfeffer/Desktop/CODE/volatility-strategy/db/cache/market_data/DJGT_1min.csv\n"
     ]
    },
    {
     "name": "stderr",
     "output_type": "stream",
     "text": [
      "2025-02-17 12:30:46,073 - INFO - Writing data to /Users/benpfeffer/Desktop/CODE/volatility-strategy/db/cache/market_data/DJGT_1min.csv\n"
     ]
    },
    {
     "name": "stdout",
     "output_type": "stream",
     "text": [
      "2025-02-17 12:30:46,074 - __main__ - INFO - Data fetch completed successfully\n"
     ]
    },
    {
     "name": "stderr",
     "output_type": "stream",
     "text": [
      "2025-02-17 12:30:46,074 - INFO - Data fetch completed successfully\n"
     ]
    }
   ],
   "source": [
    "import time\n",
    "import logging\n",
    "from datetime import datetime, timedelta\n",
    "from src.utils.log_utils import setup_logging\n",
    "logging.basicConfig(level=logging.INFO, format='%(asctime)s - %(levelname)s - %(message)s')\n",
    "logger = setup_logging(__name__)\n",
    "\n",
    "def fetch_market_intraday(ticker: str, interval: str = \"1min\", output_dir: Path = MARKET_DATA_CACHE, api_key: str = ALPHA_VANTAGE_API_KEY, datatype: str = \"csv\", adjusted: bool = True, extended_hours: bool = True, outputsize: str = \"full\"):\n",
    "    \"\"\"\n",
    "    Fetch intraday market data for a given ticker from Alpha Vantage.\n",
    "    For 1min interval, fetches data month by month for the past year.\n",
    "    For other intervals, fetches the most recent 30 days of data.\n",
    "\n",
    "    Args:\n",
    "        ticker (str): The ticker symbol of the stock to fetch data for.\n",
    "        interval (str): Time interval between data points. One of: 1min, 5min, 15min, 30min, 60min\n",
    "        output_dir (Path): The directory to save the fetched data.\n",
    "        api_key (str): Alpha Vantage API key\n",
    "        datatype (str): Return data format - 'json' or 'csv'\n",
    "        adjusted (bool): Whether to adjust for splits/dividends. Default True\n",
    "        extended_hours (bool): Whether to include extended trading hours. Default True\n",
    "        outputsize (str): Amount of data to return - 'compact' or 'full'. Default 'full'\n",
    "\n",
    "    Returns:\n",
    "        Path: Path to the saved data file\n",
    "    \"\"\"\n",
    "    logger.info(f\"Starting data fetch for {ticker} with {interval} interval\")\n",
    "    data_file = output_dir / f\"{ticker}_{interval}.{datatype}\"\n",
    "    \n",
    "    # For 1min interval, fetch month by month for past year\n",
    "    if interval == \"1min\":\n",
    "        logger.info(\"Using 1min interval - fetching data month by month for past year\")\n",
    "        # Get list of months to fetch (past 12 months)\n",
    "        months = []\n",
    "        current_date = datetime.now()\n",
    "        for i in range(12):\n",
    "            first_of_month = current_date.replace(day=1)\n",
    "            months.append(first_of_month.strftime(\"%Y-%m\"))\n",
    "            current_date = first_of_month - timedelta(days=1)\n",
    "        \n",
    "        logger.info(f\"Will fetch data for months: {months}\")\n",
    "        \n",
    "        # Fetch data for each month\n",
    "        all_data = []\n",
    "        header = None\n",
    "        for month in months:\n",
    "            logger.info(f\"Fetching data for {ticker} - {month}\")\n",
    "            params = {\n",
    "                'function': 'TIME_SERIES_INTRADAY',\n",
    "                'symbol': ticker,\n",
    "                'interval': interval,\n",
    "                'apikey': api_key,\n",
    "                'datatype': datatype,\n",
    "                'adjusted': str(adjusted).lower(),\n",
    "                'extended_hours': str(extended_hours).lower(),\n",
    "                'outputsize': outputsize,\n",
    "                'month': month\n",
    "            }\n",
    "            \n",
    "            url = 'https://www.alphavantage.co/query'\n",
    "            r = requests.get(url, params=params)\n",
    "            \n",
    "            # Parse CSV data\n",
    "            lines = r.text.split('\\n')\n",
    "            if not header:\n",
    "                header = lines[0]\n",
    "                all_data.append(header)\n",
    "            data_lines = lines[1:]\n",
    "            all_data.extend(data_lines)\n",
    "            \n",
    "            logger.info(f\"Retrieved {len(data_lines)} data points for {month}\")\n",
    "            \n",
    "            # Alpha Vantage has rate limits, so wait between requests\n",
    "            # logger.info(\"Waiting 12 seconds before next request due to rate limits...\")\n",
    "            # time.sleep(12)  # Wait 12 seconds between requests\n",
    "            \n",
    "    else:\n",
    "        logger.info(f\"Using {interval} interval - fetching most recent data\")\n",
    "        # For other intervals, just fetch most recent data\n",
    "        params = {\n",
    "            'function': 'TIME_SERIES_INTRADAY',\n",
    "            'symbol': ticker,\n",
    "            'interval': interval,\n",
    "            'apikey': api_key,\n",
    "            'datatype': datatype,\n",
    "            'adjusted': str(adjusted).lower(),\n",
    "            'extended_hours': str(extended_hours).lower(),\n",
    "            'outputsize': outputsize\n",
    "        }\n",
    "        \n",
    "        url = 'https://www.alphavantage.co/query'\n",
    "        r = requests.get(url, params=params)\n",
    "        all_data = r.text.split('\\n')\n",
    "        logger.info(f\"Retrieved {len(all_data)-1} data points\")\n",
    "\n",
    "    # Write combined data to file\n",
    "    logger.info(f\"Writing data to {data_file}\")\n",
    "    with open(data_file, \"w\") as f:\n",
    "        f.write('\\n'.join(all_data))\n",
    "\n",
    "    logger.info(\"Data fetch completed successfully\")\n",
    "    return data_file\n",
    "\n",
    "# # Example usage\n",
    "for ticker in DJ_TITANS_50_TICKER:\n",
    "    fetch_market_intraday(ticker, interval=\"1min\", outputsize=\"full\")\n",
    "# fetch_market_intraday(\"AAPL\", interval=\"1min\", outputsize=\"full\")\n"
   ]
  },
  {
   "cell_type": "code",
   "execution_count": 13,
   "metadata": {},
   "outputs": [
    {
     "name": "stdout",
     "output_type": "stream",
     "text": [
      "['symbol,name,type,region,marketOpen,marketClose,timezone,currency,matchScore', 'LVMHF,Lvmh Moet Hennessy Vuitton SE,Equity,United States,09:30,16:00,UTC-04,USD,0.8889', 'LVMHX,LORD ABBETT CALIBRATED MID CAP VALUE FUND CLASS R6,Mutual Fund,United States,09:30,16:00,UTC-04,USD,0.8889', 'LVMUY,Lvmh Moet Hennessy Vuitton SE,Equity,United States,09:30,16:00,UTC-04,USD,0.6667', 'MOH.FRK,LVMH Moët Hennessy - Louis Vuitton Société Européenne,Equity,Frankfurt,08:00,20:00,UTC+02,EUR,0.4444', 'MOH.DEX,LVMH Moët Hennessy - Louis Vuitton Société Européenne,Equity,XETRA,08:00,20:00,UTC+02,EUR,0.4000', 'MOHF.FRK,LVMH Moët Hennessy - Louis Vuitton Société Européenne,Equity,Frankfurt,08:00,20:00,UTC+02,EUR,0.4000', 'MC.PAR,LVMH Moët Hennessy - Louis Vuitton Société Européenne,Equity,Paris,09:00,17:30,UTC+02,EUR,0.2222', '0HAU.LON,LVMH Moet Hennessy Louis Vuitton SE,Equity,United Kingdom,08:00,16:30,UTC+01,EUR,0.2051', '']\n"
     ]
    }
   ],
   "source": [
    "def search_symbol(keywords: str, api_key: str = ALPHA_VANTAGE_API_KEY, datatype: str = \"csv\") -> dict:\n",
    "    \"\"\"\n",
    "    Search for stock symbols and company information using Alpha Vantage's search endpoint.\n",
    "    \n",
    "    Args:\n",
    "        keywords (str): Search keywords/terms\n",
    "        api_key (str): Alpha Vantage API key\n",
    "        datatype (str): Return data format - 'json' or 'csv'\n",
    "    \n",
    "    Returns:\n",
    "        dict: Search results containing matching symbols and company information\n",
    "    \"\"\"\n",
    "    base_url = \"https://www.alphavantage.co/query\"\n",
    "    \n",
    "    params = {\n",
    "        \"function\": \"SYMBOL_SEARCH\",\n",
    "        \"keywords\": keywords,\n",
    "        \"apikey\": api_key,\n",
    "        \"datatype\": datatype\n",
    "    }\n",
    "    \n",
    "    try:\n",
    "        response = requests.get(base_url, params=params)\n",
    "        response.raise_for_status()\n",
    "        \n",
    "        if datatype == \"csv\":\n",
    "            return response.text.split(\"\\r\\n\")\n",
    "        else:\n",
    "            return response.text\n",
    "            \n",
    "    except requests.exceptions.RequestException as e:\n",
    "        print(f\"Error fetching data: {e}\")\n",
    "        return None\n",
    "\n",
    "# Example usage\n",
    "search_results = search_symbol(\"lvmh\")\n",
    "print(search_results)\n"
   ]
  },
  {
   "cell_type": "code",
   "execution_count": 4,
   "metadata": {},
   "outputs": [
    {
     "name": "stdout",
     "output_type": "stream",
     "text": [
      "{'items': '0', 'sentiment_score_definition': 'x <= -0.35: Bearish; -0.35 < x <= -0.15: Somewhat-Bearish; -0.15 < x < 0.15: Neutral; 0.15 <= x < 0.35: Somewhat_Bullish; x >= 0.35: Bullish', 'relevance_score_definition': '0 < x <= 1, with a higher score indicating higher relevance.', 'feed': []}\n",
      "{'items': '0', 'sentiment_score_definition': 'x <= -0.35: Bearish; -0.35 < x <= -0.15: Somewhat-Bearish; -0.15 < x < 0.15: Neutral; 0.15 <= x < 0.35: Somewhat_Bullish; x >= 0.35: Bullish', 'relevance_score_definition': '0 < x <= 1, with a higher score indicating higher relevance.', 'feed': []}\n",
      "{'items': '0', 'sentiment_score_definition': 'x <= -0.35: Bearish; -0.35 < x <= -0.15: Somewhat-Bearish; -0.15 < x < 0.15: Neutral; 0.15 <= x < 0.35: Somewhat_Bullish; x >= 0.35: Bullish', 'relevance_score_definition': '0 < x <= 1, with a higher score indicating higher relevance.', 'feed': []}\n",
      "{'items': '0', 'sentiment_score_definition': 'x <= -0.35: Bearish; -0.35 < x <= -0.15: Somewhat-Bearish; -0.15 < x < 0.15: Neutral; 0.15 <= x < 0.35: Somewhat_Bullish; x >= 0.35: Bullish', 'relevance_score_definition': '0 < x <= 1, with a higher score indicating higher relevance.', 'feed': []}\n",
      "{'items': '0', 'sentiment_score_definition': 'x <= -0.35: Bearish; -0.35 < x <= -0.15: Somewhat-Bearish; -0.15 < x < 0.15: Neutral; 0.15 <= x < 0.35: Somewhat_Bullish; x >= 0.35: Bullish', 'relevance_score_definition': '0 < x <= 1, with a higher score indicating higher relevance.', 'feed': []}\n",
      "{'items': '0', 'sentiment_score_definition': 'x <= -0.35: Bearish; -0.35 < x <= -0.15: Somewhat-Bearish; -0.15 < x < 0.15: Neutral; 0.15 <= x < 0.35: Somewhat_Bullish; x >= 0.35: Bullish', 'relevance_score_definition': '0 < x <= 1, with a higher score indicating higher relevance.', 'feed': []}\n",
      "{'items': '0', 'sentiment_score_definition': 'x <= -0.35: Bearish; -0.35 < x <= -0.15: Somewhat-Bearish; -0.15 < x < 0.15: Neutral; 0.15 <= x < 0.35: Somewhat_Bullish; x >= 0.35: Bullish', 'relevance_score_definition': '0 < x <= 1, with a higher score indicating higher relevance.', 'feed': []}\n",
      "{'items': '0', 'sentiment_score_definition': 'x <= -0.35: Bearish; -0.35 < x <= -0.15: Somewhat-Bearish; -0.15 < x < 0.15: Neutral; 0.15 <= x < 0.35: Somewhat_Bullish; x >= 0.35: Bullish', 'relevance_score_definition': '0 < x <= 1, with a higher score indicating higher relevance.', 'feed': []}\n",
      "{'items': '0', 'sentiment_score_definition': 'x <= -0.35: Bearish; -0.35 < x <= -0.15: Somewhat-Bearish; -0.15 < x < 0.15: Neutral; 0.15 <= x < 0.35: Somewhat_Bullish; x >= 0.35: Bullish', 'relevance_score_definition': '0 < x <= 1, with a higher score indicating higher relevance.', 'feed': []}\n",
      "{'items': '0', 'sentiment_score_definition': 'x <= -0.35: Bearish; -0.35 < x <= -0.15: Somewhat-Bearish; -0.15 < x < 0.15: Neutral; 0.15 <= x < 0.35: Somewhat_Bullish; x >= 0.35: Bullish', 'relevance_score_definition': '0 < x <= 1, with a higher score indicating higher relevance.', 'feed': []}\n",
      "{'items': '0', 'sentiment_score_definition': 'x <= -0.35: Bearish; -0.35 < x <= -0.15: Somewhat-Bearish; -0.15 < x < 0.15: Neutral; 0.15 <= x < 0.35: Somewhat_Bullish; x >= 0.35: Bullish', 'relevance_score_definition': '0 < x <= 1, with a higher score indicating higher relevance.', 'feed': []}\n",
      "{'items': '0', 'sentiment_score_definition': 'x <= -0.35: Bearish; -0.35 < x <= -0.15: Somewhat-Bearish; -0.15 < x < 0.15: Neutral; 0.15 <= x < 0.35: Somewhat_Bullish; x >= 0.35: Bullish', 'relevance_score_definition': '0 < x <= 1, with a higher score indicating higher relevance.', 'feed': []}\n",
      "{'items': '0', 'sentiment_score_definition': 'x <= -0.35: Bearish; -0.35 < x <= -0.15: Somewhat-Bearish; -0.15 < x < 0.15: Neutral; 0.15 <= x < 0.35: Somewhat_Bullish; x >= 0.35: Bullish', 'relevance_score_definition': '0 < x <= 1, with a higher score indicating higher relevance.', 'feed': []}\n",
      "{'items': '0', 'sentiment_score_definition': 'x <= -0.35: Bearish; -0.35 < x <= -0.15: Somewhat-Bearish; -0.15 < x < 0.15: Neutral; 0.15 <= x < 0.35: Somewhat_Bullish; x >= 0.35: Bullish', 'relevance_score_definition': '0 < x <= 1, with a higher score indicating higher relevance.', 'feed': []}\n",
      "{'items': '0', 'sentiment_score_definition': 'x <= -0.35: Bearish; -0.35 < x <= -0.15: Somewhat-Bearish; -0.15 < x < 0.15: Neutral; 0.15 <= x < 0.35: Somewhat_Bullish; x >= 0.35: Bullish', 'relevance_score_definition': '0 < x <= 1, with a higher score indicating higher relevance.', 'feed': []}\n",
      "{'items': '0', 'sentiment_score_definition': 'x <= -0.35: Bearish; -0.35 < x <= -0.15: Somewhat-Bearish; -0.15 < x < 0.15: Neutral; 0.15 <= x < 0.35: Somewhat_Bullish; x >= 0.35: Bullish', 'relevance_score_definition': '0 < x <= 1, with a higher score indicating higher relevance.', 'feed': []}\n",
      "{'items': '0', 'sentiment_score_definition': 'x <= -0.35: Bearish; -0.35 < x <= -0.15: Somewhat-Bearish; -0.15 < x < 0.15: Neutral; 0.15 <= x < 0.35: Somewhat_Bullish; x >= 0.35: Bullish', 'relevance_score_definition': '0 < x <= 1, with a higher score indicating higher relevance.', 'feed': []}\n",
      "{'items': '0', 'sentiment_score_definition': 'x <= -0.35: Bearish; -0.35 < x <= -0.15: Somewhat-Bearish; -0.15 < x < 0.15: Neutral; 0.15 <= x < 0.35: Somewhat_Bullish; x >= 0.35: Bullish', 'relevance_score_definition': '0 < x <= 1, with a higher score indicating higher relevance.', 'feed': []}\n",
      "{'items': '0', 'sentiment_score_definition': 'x <= -0.35: Bearish; -0.35 < x <= -0.15: Somewhat-Bearish; -0.15 < x < 0.15: Neutral; 0.15 <= x < 0.35: Somewhat_Bullish; x >= 0.35: Bullish', 'relevance_score_definition': '0 < x <= 1, with a higher score indicating higher relevance.', 'feed': []}\n",
      "{'items': '0', 'sentiment_score_definition': 'x <= -0.35: Bearish; -0.35 < x <= -0.15: Somewhat-Bearish; -0.15 < x < 0.15: Neutral; 0.15 <= x < 0.35: Somewhat_Bullish; x >= 0.35: Bullish', 'relevance_score_definition': '0 < x <= 1, with a higher score indicating higher relevance.', 'feed': []}\n",
      "{'items': '0', 'sentiment_score_definition': 'x <= -0.35: Bearish; -0.35 < x <= -0.15: Somewhat-Bearish; -0.15 < x < 0.15: Neutral; 0.15 <= x < 0.35: Somewhat_Bullish; x >= 0.35: Bullish', 'relevance_score_definition': '0 < x <= 1, with a higher score indicating higher relevance.', 'feed': []}\n",
      "{'items': '0', 'sentiment_score_definition': 'x <= -0.35: Bearish; -0.35 < x <= -0.15: Somewhat-Bearish; -0.15 < x < 0.15: Neutral; 0.15 <= x < 0.35: Somewhat_Bullish; x >= 0.35: Bullish', 'relevance_score_definition': '0 < x <= 1, with a higher score indicating higher relevance.', 'feed': []}\n",
      "{'items': '0', 'sentiment_score_definition': 'x <= -0.35: Bearish; -0.35 < x <= -0.15: Somewhat-Bearish; -0.15 < x < 0.15: Neutral; 0.15 <= x < 0.35: Somewhat_Bullish; x >= 0.35: Bullish', 'relevance_score_definition': '0 < x <= 1, with a higher score indicating higher relevance.', 'feed': []}\n",
      "{'items': '0', 'sentiment_score_definition': 'x <= -0.35: Bearish; -0.35 < x <= -0.15: Somewhat-Bearish; -0.15 < x < 0.15: Neutral; 0.15 <= x < 0.35: Somewhat_Bullish; x >= 0.35: Bullish', 'relevance_score_definition': '0 < x <= 1, with a higher score indicating higher relevance.', 'feed': []}\n",
      "{'Information': 'Invalid inputs. Please refer to the API documentation https://www.alphavantage.co/documentation#newsapi and try again.'}\n",
      "{'items': '0', 'sentiment_score_definition': 'x <= -0.35: Bearish; -0.35 < x <= -0.15: Somewhat-Bearish; -0.15 < x < 0.15: Neutral; 0.15 <= x < 0.35: Somewhat_Bullish; x >= 0.35: Bullish', 'relevance_score_definition': '0 < x <= 1, with a higher score indicating higher relevance.', 'feed': []}\n",
      "{'items': '0', 'sentiment_score_definition': 'x <= -0.35: Bearish; -0.35 < x <= -0.15: Somewhat-Bearish; -0.15 < x < 0.15: Neutral; 0.15 <= x < 0.35: Somewhat_Bullish; x >= 0.35: Bullish', 'relevance_score_definition': '0 < x <= 1, with a higher score indicating higher relevance.', 'feed': []}\n",
      "{'items': '0', 'sentiment_score_definition': 'x <= -0.35: Bearish; -0.35 < x <= -0.15: Somewhat-Bearish; -0.15 < x < 0.15: Neutral; 0.15 <= x < 0.35: Somewhat_Bullish; x >= 0.35: Bullish', 'relevance_score_definition': '0 < x <= 1, with a higher score indicating higher relevance.', 'feed': []}\n",
      "{'items': '0', 'sentiment_score_definition': 'x <= -0.35: Bearish; -0.35 < x <= -0.15: Somewhat-Bearish; -0.15 < x < 0.15: Neutral; 0.15 <= x < 0.35: Somewhat_Bullish; x >= 0.35: Bullish', 'relevance_score_definition': '0 < x <= 1, with a higher score indicating higher relevance.', 'feed': []}\n",
      "{'items': '0', 'sentiment_score_definition': 'x <= -0.35: Bearish; -0.35 < x <= -0.15: Somewhat-Bearish; -0.15 < x < 0.15: Neutral; 0.15 <= x < 0.35: Somewhat_Bullish; x >= 0.35: Bullish', 'relevance_score_definition': '0 < x <= 1, with a higher score indicating higher relevance.', 'feed': []}\n",
      "{'items': '0', 'sentiment_score_definition': 'x <= -0.35: Bearish; -0.35 < x <= -0.15: Somewhat-Bearish; -0.15 < x < 0.15: Neutral; 0.15 <= x < 0.35: Somewhat_Bullish; x >= 0.35: Bullish', 'relevance_score_definition': '0 < x <= 1, with a higher score indicating higher relevance.', 'feed': []}\n",
      "{'items': '0', 'sentiment_score_definition': 'x <= -0.35: Bearish; -0.35 < x <= -0.15: Somewhat-Bearish; -0.15 < x < 0.15: Neutral; 0.15 <= x < 0.35: Somewhat_Bullish; x >= 0.35: Bullish', 'relevance_score_definition': '0 < x <= 1, with a higher score indicating higher relevance.', 'feed': []}\n",
      "{'items': '0', 'sentiment_score_definition': 'x <= -0.35: Bearish; -0.35 < x <= -0.15: Somewhat-Bearish; -0.15 < x < 0.15: Neutral; 0.15 <= x < 0.35: Somewhat_Bullish; x >= 0.35: Bullish', 'relevance_score_definition': '0 < x <= 1, with a higher score indicating higher relevance.', 'feed': []}\n",
      "{'items': '0', 'sentiment_score_definition': 'x <= -0.35: Bearish; -0.35 < x <= -0.15: Somewhat-Bearish; -0.15 < x < 0.15: Neutral; 0.15 <= x < 0.35: Somewhat_Bullish; x >= 0.35: Bullish', 'relevance_score_definition': '0 < x <= 1, with a higher score indicating higher relevance.', 'feed': []}\n",
      "{'items': '0', 'sentiment_score_definition': 'x <= -0.35: Bearish; -0.35 < x <= -0.15: Somewhat-Bearish; -0.15 < x < 0.15: Neutral; 0.15 <= x < 0.35: Somewhat_Bullish; x >= 0.35: Bullish', 'relevance_score_definition': '0 < x <= 1, with a higher score indicating higher relevance.', 'feed': []}\n",
      "{'items': '0', 'sentiment_score_definition': 'x <= -0.35: Bearish; -0.35 < x <= -0.15: Somewhat-Bearish; -0.15 < x < 0.15: Neutral; 0.15 <= x < 0.35: Somewhat_Bullish; x >= 0.35: Bullish', 'relevance_score_definition': '0 < x <= 1, with a higher score indicating higher relevance.', 'feed': []}\n",
      "{'items': '0', 'sentiment_score_definition': 'x <= -0.35: Bearish; -0.35 < x <= -0.15: Somewhat-Bearish; -0.15 < x < 0.15: Neutral; 0.15 <= x < 0.35: Somewhat_Bullish; x >= 0.35: Bullish', 'relevance_score_definition': '0 < x <= 1, with a higher score indicating higher relevance.', 'feed': []}\n",
      "{'Information': 'Invalid inputs. Please refer to the API documentation https://www.alphavantage.co/documentation#newsapi and try again.'}\n",
      "{'items': '0', 'sentiment_score_definition': 'x <= -0.35: Bearish; -0.35 < x <= -0.15: Somewhat-Bearish; -0.15 < x < 0.15: Neutral; 0.15 <= x < 0.35: Somewhat_Bullish; x >= 0.35: Bullish', 'relevance_score_definition': '0 < x <= 1, with a higher score indicating higher relevance.', 'feed': []}\n",
      "{'items': '0', 'sentiment_score_definition': 'x <= -0.35: Bearish; -0.35 < x <= -0.15: Somewhat-Bearish; -0.15 < x < 0.15: Neutral; 0.15 <= x < 0.35: Somewhat_Bullish; x >= 0.35: Bullish', 'relevance_score_definition': '0 < x <= 1, with a higher score indicating higher relevance.', 'feed': []}\n",
      "{'items': '0', 'sentiment_score_definition': 'x <= -0.35: Bearish; -0.35 < x <= -0.15: Somewhat-Bearish; -0.15 < x < 0.15: Neutral; 0.15 <= x < 0.35: Somewhat_Bullish; x >= 0.35: Bullish', 'relevance_score_definition': '0 < x <= 1, with a higher score indicating higher relevance.', 'feed': []}\n",
      "{'items': '0', 'sentiment_score_definition': 'x <= -0.35: Bearish; -0.35 < x <= -0.15: Somewhat-Bearish; -0.15 < x < 0.15: Neutral; 0.15 <= x < 0.35: Somewhat_Bullish; x >= 0.35: Bullish', 'relevance_score_definition': '0 < x <= 1, with a higher score indicating higher relevance.', 'feed': []}\n",
      "{'items': '0', 'sentiment_score_definition': 'x <= -0.35: Bearish; -0.35 < x <= -0.15: Somewhat-Bearish; -0.15 < x < 0.15: Neutral; 0.15 <= x < 0.35: Somewhat_Bullish; x >= 0.35: Bullish', 'relevance_score_definition': '0 < x <= 1, with a higher score indicating higher relevance.', 'feed': []}\n",
      "{'items': '0', 'sentiment_score_definition': 'x <= -0.35: Bearish; -0.35 < x <= -0.15: Somewhat-Bearish; -0.15 < x < 0.15: Neutral; 0.15 <= x < 0.35: Somewhat_Bullish; x >= 0.35: Bullish', 'relevance_score_definition': '0 < x <= 1, with a higher score indicating higher relevance.', 'feed': []}\n",
      "{'items': '0', 'sentiment_score_definition': 'x <= -0.35: Bearish; -0.35 < x <= -0.15: Somewhat-Bearish; -0.15 < x < 0.15: Neutral; 0.15 <= x < 0.35: Somewhat_Bullish; x >= 0.35: Bullish', 'relevance_score_definition': '0 < x <= 1, with a higher score indicating higher relevance.', 'feed': []}\n",
      "{'items': '0', 'sentiment_score_definition': 'x <= -0.35: Bearish; -0.35 < x <= -0.15: Somewhat-Bearish; -0.15 < x < 0.15: Neutral; 0.15 <= x < 0.35: Somewhat_Bullish; x >= 0.35: Bullish', 'relevance_score_definition': '0 < x <= 1, with a higher score indicating higher relevance.', 'feed': []}\n",
      "{'items': '0', 'sentiment_score_definition': 'x <= -0.35: Bearish; -0.35 < x <= -0.15: Somewhat-Bearish; -0.15 < x < 0.15: Neutral; 0.15 <= x < 0.35: Somewhat_Bullish; x >= 0.35: Bullish', 'relevance_score_definition': '0 < x <= 1, with a higher score indicating higher relevance.', 'feed': []}\n",
      "{'items': '0', 'sentiment_score_definition': 'x <= -0.35: Bearish; -0.35 < x <= -0.15: Somewhat-Bearish; -0.15 < x < 0.15: Neutral; 0.15 <= x < 0.35: Somewhat_Bullish; x >= 0.35: Bullish', 'relevance_score_definition': '0 < x <= 1, with a higher score indicating higher relevance.', 'feed': []}\n",
      "{'items': '0', 'sentiment_score_definition': 'x <= -0.35: Bearish; -0.35 < x <= -0.15: Somewhat-Bearish; -0.15 < x < 0.15: Neutral; 0.15 <= x < 0.35: Somewhat_Bullish; x >= 0.35: Bullish', 'relevance_score_definition': '0 < x <= 1, with a higher score indicating higher relevance.', 'feed': []}\n",
      "{'Information': 'Invalid inputs. Please refer to the API documentation https://www.alphavantage.co/documentation#newsapi and try again.'}\n"
     ]
    }
   ],
   "source": [
    "from src.config.paths import *\n",
    "import requests\n",
    "import datetime\n",
    "from datetime import datetime, timedelta\n",
    "import time\n",
    "import csv\n",
    "import json\n",
    "\n",
    "def fetch_market_sentiment(tickers: str = None, \n",
    "                         topics: str = None,\n",
    "                         time_from: str = None,\n",
    "                         time_to: str = None,\n",
    "                         sort: str = \"LATEST\",\n",
    "                         limit: int = 1000,\n",
    "                         api_key: str = ALPHA_VANTAGE_API_KEY,\n",
    "                         output_dir: Path = NEWS_CACHE) -> dict:\n",
    "    \"\"\"\n",
    "    Fetch market news and sentiment data from Alpha Vantage for at least one year.\n",
    "    Rate limited to 75 requests per minute.\n",
    "    \n",
    "    Args:\n",
    "        tickers (str, optional): Comma-separated stock/crypto/forex symbols to filter for\n",
    "        topics (str, optional): Comma-separated news topics to filter for\n",
    "        time_from (str, optional): Start time in YYYYMMDDTHHMM format\n",
    "        time_to (str, optional): End time in YYYYMMDDTHHMM format  \n",
    "        sort (str, optional): Sort order - 'LATEST', 'EARLIEST' or 'RELEVANCE'\n",
    "        limit (int, optional): Number of results to return (max 1000)\n",
    "        api_key (str): Alpha Vantage API key\n",
    "        output_dir (Path): Directory to save output files\n",
    "        \n",
    "    Returns:\n",
    "        dict: Market news and sentiment data\n",
    "    \"\"\"\n",
    "    base_url = \"https://www.alphavantage.co/query\"\n",
    "    \n",
    "    # Calculate date one year ago\n",
    "    if not time_from:\n",
    "        one_year_ago = datetime.now() - timedelta(days=365)\n",
    "        time_from = one_year_ago.strftime(\"%Y%m%dT%H%M\")\n",
    "    \n",
    "    params = {\n",
    "        \"function\": \"NEWS_SENTIMENT\",\n",
    "        \"apikey\": api_key,\n",
    "        \"sort\": sort,\n",
    "        \"limit\": limit,\n",
    "        \"time_from\": time_from\n",
    "    }\n",
    "    \n",
    "    if tickers:\n",
    "        params[\"tickers\"] = tickers\n",
    "    if topics:\n",
    "        params[\"topics\"] = topics\n",
    "    if time_to:\n",
    "        params[\"time_to\"] = time_to\n",
    "        \n",
    "    try:\n",
    "        # Add rate limiting delay to stay under 75 requests/min\n",
    "        time.sleep(0.8)  # 800ms delay between requests\n",
    "        \n",
    "        response = requests.get(base_url, params=params)\n",
    "        response.raise_for_status()\n",
    "        data = response.json()\n",
    "        \n",
    "        # Save to JSON file\n",
    "        if tickers:\n",
    "            output_file = output_dir / f\"{tickers}_sentiment.json\"\n",
    "            with open(output_file, 'w') as f:\n",
    "                json.dump(data, f, indent=4)\n",
    "                \n",
    "        return data\n",
    "            \n",
    "    except requests.exceptions.RequestException as e:\n",
    "        print(f\"Error fetching sentiment data: {e}\")\n",
    "        return None\n",
    "\n",
    "for ticker in DJ_TITANS_50_TICKER:\n",
    "    # Example usage\n",
    "    sentiment_results = fetch_market_sentiment(tickers=ticker, \n",
    "                                        topics=\"technology,earnings,financial_markets,economy_macro,finance,economy_fiscal,economy_monetary,ipo,retail_wholesale\",\n",
    "                                        limit=1000)\n",
    "    print(sentiment_results)\n"
   ]
  },
  {
   "cell_type": "code",
   "execution_count": 10,
   "metadata": {},
   "outputs": [
    {
     "name": "stdout",
     "output_type": "stream",
     "text": [
      "{\n",
      "  \"name\": \"Effective Federal Funds Rate\",\n",
      "  \"interval\": \"daily\",\n",
      "  \"unit\": \"percent\",\n",
      "  \"data\": [\n",
      "    {\n",
      "      \"date\": \"2025-02-13\",\n",
      "      \"value\": \"4.33\"\n",
      "    },\n",
      "    {\n",
      "      \"date\": \"2025-02-12\",\n",
      "      \"value\": \"4.33\"\n",
      "    },\n",
      "    {\n",
      "      \"date\": \"2025-02-11\",\n",
      "      \"value\": \"4.33\"\n",
      "    },\n",
      "    {\n",
      "      \"date\": \"2025-02-10\",\n",
      "      \"value\": \"4.33\"\n",
      "    },\n",
      "    {\n",
      "      \"date\": \"2025-02-09\",\n",
      "      \"value\": \"4.33\"\n",
      "    },\n",
      "    {\n",
      "      \"date\": \"2025-02-08\",\n",
      "      \"value\": \"4.33\"\n",
      "    },\n",
      "    {\n",
      "      \"date\": \"2025-02-07\",\n",
      "      \"value\": \"4.33\"\n",
      "    },\n",
      "    {\n",
      "      \"date\": \"2025-02-06\",\n",
      "      \"value\": \"4.33\"\n",
      "    },\n",
      "    {\n",
      "      \"date\": \"2025-02-05\",\n",
      "      \"value\": \"4.33\"\n",
      "    },\n",
      "    {\n",
      "      \"date\": \"2025-02-04\",\n",
      "      \"value\": \"4.33\"\n",
      "    },\n",
      "    {\n",
      "      \"date\": \"2025-02-03\",\n",
      "      \"value\": \"4.33\"\n",
      "    },\n",
      "    {\n",
      "      \"date\": \"2025-02-02\",\n",
      "      \"value\": \"4.33\"\n",
      "    },\n",
      "    {\n",
      "      \"date\": \"2025-02-01\",\n",
      "      \"value\": \"4.33\"\n",
      "    },\n",
      "    {\n",
      "      \"date\": \"2025-01-31\",\n",
      "      \"value\": \"4.33\"\n",
      "    },\n",
      "    {\n",
      "      \"date\": \"2025-01-30\",\n",
      "      \"value\": \"4.33\"\n",
      "    },\n",
      "    {\n",
      "      \"date\": \"2025-01-29\",\n",
      "      \"value\": \"4.33\"\n",
      "    },\n",
      "    {\n",
      "      \"date\": \"2025-01-28\",\n",
      "      \"value\": \"4.33\"\n",
      "    },\n",
      "    {\n",
      "      \"date\": \"2025-01-27\",\n",
      "      \"value\": \"4.33\"\n",
      "    },\n",
      "    {\n",
      "      \"date\": \"2025-01-26\",\n",
      "      \"value\": \"4.33\"\n",
      "    },\n",
      "    {\n",
      "      \"date\": \"2025-01-25\",\n",
      "      \"value\": \"4.33\"\n",
      "    },\n",
      "    {\n",
      "      \"date\": \"2025-01-24\",\n",
      "      \"value\": \"4.33\"\n",
      "    },\n",
      "    {\n",
      "      \"date\": \"2025-01-23\",\n",
      "      \"value\": \"4.33\"\n",
      "    },\n",
      "    {\n",
      "      \"date\": \"2025-01-22\",\n",
      "      \"value\": \"4.33\"\n",
      "    },\n",
      "    {\n",
      "      \"date\": \"2025-01-21\",\n",
      "      \"value\": \"4.33\"\n",
      "    },\n",
      "    {\n",
      "      \"date\": \"2025-01-20\",\n",
      "      \"value\": \"4.33\"\n",
      "    },\n",
      "    {\n",
      "      \"date\": \"2025-01-19\",\n",
      "      \"value\": \"4.33\"\n",
      "    },\n",
      "    {\n",
      "      \"date\": \"2025-01-18\",\n",
      "      \"value\": \"4.33\"\n",
      "    },\n",
      "    {\n",
      "      \"date\": \"2025-01-17\",\n",
      "      \"value\": \"4.33\"\n",
      "    },\n",
      "    {\n",
      "      \"date\": \"2025-01-16\",\n",
      "      \"value\": \"4.33\"\n",
      "    },\n",
      "    {\n",
      "      \"date\": \"2025-01-15\",\n",
      "      \"value\": \"4.33\"\n",
      "    },\n",
      "    {\n",
      "      \"date\": \"2025-01-14\",\n",
      "      \"value\": \"4.33\"\n",
      "    },\n",
      "    {\n",
      "      \"date\": \"2025-01-13\",\n",
      "      \"value\": \"4.33\"\n",
      "    },\n",
      "    {\n",
      "      \"date\": \"2025-01-12\",\n",
      "      \"value\": \"4.33\"\n",
      "    },\n",
      "    {\n",
      "      \"date\": \"2025-01-11\",\n",
      "      \"value\": \"4.33\"\n",
      "    },\n",
      "    {\n",
      "      \"date\": \"2025-01-10\",\n",
      "      \"value\": \"4.33\"\n",
      "    },\n",
      "    {\n",
      "      \"date\": \"2025-01-09\",\n",
      "      \"value\": \"4.33\"\n",
      "    },\n",
      "    {\n",
      "      \"date\": \"2025-01-08\",\n",
      "      \"value\": \"4.33\"\n",
      "    },\n",
      "    {\n",
      "      \"date\": \"2025-01-07\",\n",
      "      \"value\": \"4.33\"\n",
      "    },\n",
      "    {\n",
      "      \"date\": \"2025-01-06\",\n",
      "      \"value\": \"4.33\"\n",
      "    },\n",
      "    {\n",
      "      \"date\": \"2025-01-05\",\n",
      "      \"value\": \"4.33\"\n",
      "    },\n",
      "    {\n",
      "      \"date\": \"2025-01-04\",\n",
      "      \"value\": \"4.33\"\n",
      "    },\n",
      "    {\n",
      "      \"date\": \"2025-01-03\",\n",
      "      \"value\": \"4.33\"\n",
      "    },\n",
      "    {\n",
      "      \"date\": \"2025-01-02\",\n",
      "      \"value\": \"4.33\"\n",
      "    },\n",
      "    {\n",
      "      \"date\": \"2025-01-01\",\n",
      "      \"value\": \"4.33\"\n",
      "    },\n",
      "    {\n",
      "      \"date\": \"2024-12-31\",\n",
      "      \"value\": \"4.33\"\n",
      "    },\n",
      "    {\n",
      "      \"date\": \"2024-12-30\",\n",
      "      \"value\": \"4.33\"\n",
      "    },\n",
      "    {\n",
      "      \"date\": \"2024-12-29\",\n",
      "      \"value\": \"4.33\"\n",
      "    },\n",
      "    {\n",
      "      \"date\": \"2024-12-28\",\n",
      "      \"value\": \"4.33\"\n",
      "    },\n",
      "    {\n",
      "      \"date\": \"2024-12-27\",\n",
      "      \"value\": \"4.33\"\n",
      "    },\n",
      "    {\n",
      "      \"date\": \"2024-12-26\",\n",
      "      \"value\": \"4.33\"\n",
      "    },\n",
      "    {\n",
      "      \"date\": \"2024-12-25\",\n",
      "      \"value\": \"4.33\"\n",
      "    },\n",
      "    {\n",
      "      \"date\": \"2024-12-24\",\n",
      "      \"value\": \"4.33\"\n",
      "    },\n",
      "    {\n",
      "      \"date\": \"2024-12-23\",\n",
      "      \"value\": \"4.33\"\n",
      "    },\n",
      "    {\n",
      "      \"date\": \"2024-12-22\",\n",
      "      \"value\": \"4.33\"\n",
      "    },\n",
      "    {\n",
      "      \"date\": \"2024-12-21\",\n",
      "      \"value\": \"4.33\"\n",
      "    },\n",
      "    {\n",
      "      \"date\": \"2024-12-20\",\n",
      "      \"value\": \"4.33\"\n",
      "    },\n",
      "    {\n",
      "      \"date\": \"2024-12-19\",\n",
      "      \"value\": \"4.33\"\n",
      "    },\n",
      "    {\n",
      "      \"date\": \"2024-12-18\",\n",
      "      \"value\": \"4.58\"\n",
      "    },\n",
      "    {\n",
      "      \"date\": \"2024-12-17\",\n",
      "      \"value\": \"4.58\"\n",
      "    },\n",
      "    {\n",
      "      \"date\": \"2024-12-16\",\n",
      "      \"value\": \"4.58\"\n",
      "    },\n",
      "    {\n",
      "      \"date\": \"2024-12-15\",\n",
      "      \"value\": \"4.58\"\n",
      "    },\n",
      "    {\n",
      "      \"date\": \"2024-12-14\",\n",
      "      \"value\": \"4.58\"\n",
      "    },\n",
      "    {\n",
      "      \"date\": \"2024-12-13\",\n",
      "      \"value\": \"4.58\"\n",
      "    },\n",
      "    {\n",
      "      \"date\": \"2024-12-12\",\n",
      "      \"value\": \"4.58\"\n",
      "    },\n",
      "    {\n",
      "      \"date\": \"2024-12-11\",\n",
      "      \"value\": \"4.58\"\n",
      "    },\n",
      "    {\n",
      "      \"date\": \"2024-12-10\",\n",
      "      \"value\": \"4.58\"\n",
      "    },\n",
      "    {\n",
      "      \"date\": \"2024-12-09\",\n",
      "      \"value\": \"4.58\"\n",
      "    },\n",
      "    {\n",
      "      \"date\": \"2024-12-08\",\n",
      "      \"value\": \"4.58\"\n",
      "    },\n",
      "    {\n",
      "      \"date\": \"2024-12-07\",\n",
      "      \"value\": \"4.58\"\n",
      "    },\n",
      "    {\n",
      "      \"date\": \"2024-12-06\",\n",
      "      \"value\": \"4.58\"\n",
      "    },\n",
      "    {\n",
      "      \"date\": \"2024-12-05\",\n",
      "      \"value\": \"4.58\"\n",
      "    },\n",
      "    {\n",
      "      \"date\": \"2024-12-04\",\n",
      "      \"value\": \"4.58\"\n",
      "    },\n",
      "    {\n",
      "      \"date\": \"2024-12-03\",\n",
      "      \"value\": \"4.58\"\n",
      "    },\n",
      "    {\n",
      "      \"date\": \"2024-12-02\",\n",
      "      \"value\": \"4.58\"\n",
      "    },\n",
      "    {\n",
      "      \"date\": \"2024-12-01\",\n",
      "      \"value\": \"4.58\"\n",
      "    },\n",
      "    {\n",
      "      \"date\": \"2024-11-30\",\n",
      "      \"value\": \"4.58\"\n",
      "    },\n",
      "    {\n",
      "      \"date\": \"2024-11-29\",\n",
      "      \"value\": \"4.58\"\n",
      "    },\n",
      "    {\n",
      "      \"date\": \"2024-11-28\",\n",
      "      \"value\": \"4.58\"\n",
      "    },\n",
      "    {\n",
      "      \"date\": \"2024-11-27\",\n",
      "      \"value\": \"4.58\"\n",
      "    },\n",
      "    {\n",
      "      \"date\": \"2024-11-26\",\n",
      "      \"value\": \"4.58\"\n",
      "    },\n",
      "    {\n",
      "      \"date\": \"2024-11-25\",\n",
      "      \"value\": \"4.58\"\n",
      "    },\n",
      "    {\n",
      "      \"date\": \"2024-11-24\",\n",
      "      \"value\": \"4.58\"\n",
      "    },\n",
      "    {\n",
      "      \"date\": \"2024-11-23\",\n",
      "      \"value\": \"4.58\"\n",
      "    },\n",
      "    {\n",
      "      \"date\": \"2024-11-22\",\n",
      "      \"value\": \"4.58\"\n",
      "    },\n",
      "    {\n",
      "      \"date\": \"2024-11-21\",\n",
      "      \"value\": \"4.58\"\n",
      "    },\n",
      "    {\n",
      "      \"date\": \"2024-11-20\",\n",
      "      \"value\": \"4.58\"\n",
      "    },\n",
      "    {\n",
      "      \"date\": \"2024-11-19\",\n",
      "      \"value\": \"4.58\"\n",
      "    },\n",
      "    {\n",
      "      \"date\": \"2024-11-18\",\n",
      "      \"value\": \"4.58\"\n",
      "    },\n",
      "    {\n",
      "      \"date\": \"2024-11-17\",\n",
      "      \"value\": \"4.58\"\n",
      "    },\n",
      "    {\n",
      "      \"date\": \"2024-11-16\",\n",
      "      \"value\": \"4.58\"\n",
      "    },\n",
      "    {\n",
      "      \"date\": \"2024-11-15\",\n",
      "      \"value\": \"4.58\"\n",
      "    },\n",
      "    {\n",
      "      \"date\": \"2024-11-14\",\n",
      "      \"value\": \"4.58\"\n",
      "    },\n",
      "    {\n",
      "      \"date\": \"2024-11-13\",\n",
      "      \"value\": \"4.58\"\n",
      "    },\n",
      "    {\n",
      "      \"date\": \"2024-11-12\",\n",
      "      \"value\": \"4.58\"\n",
      "    },\n",
      "    {\n",
      "      \"date\": \"2024-11-11\",\n",
      "      \"value\": \"4.58\"\n",
      "    },\n",
      "    {\n",
      "      \"date\": \"2024-11-10\",\n",
      "      \"value\": \"4.58\"\n",
      "    },\n",
      "    {\n",
      "      \"date\": \"2024-11-09\",\n",
      "      \"value\": \"4.58\"\n",
      "    },\n",
      "    {\n",
      "      \"date\": \"2024-11-08\",\n",
      "      \"value\": \"4.58\"\n",
      "    },\n",
      "    {\n",
      "      \"date\": \"2024-11-07\",\n",
      "      \"value\": \"4.83\"\n",
      "    },\n",
      "    {\n",
      "      \"date\": \"2024-11-06\",\n",
      "      \"value\": \"4.83\"\n",
      "    },\n",
      "    {\n",
      "      \"date\": \"2024-11-05\",\n",
      "      \"value\": \"4.83\"\n",
      "    },\n",
      "    {\n",
      "      \"date\": \"2024-11-04\",\n",
      "      \"value\": \"4.83\"\n",
      "    },\n",
      "    {\n",
      "      \"date\": \"2024-11-03\",\n",
      "      \"value\": \"4.83\"\n",
      "    },\n",
      "    {\n",
      "      \"date\": \"2024-11-02\",\n",
      "      \"value\": \"4.83\"\n",
      "    },\n",
      "    {\n",
      "      \"date\": \"2024-11-01\",\n",
      "      \"value\": \"4.83\"\n",
      "    },\n",
      "    {\n",
      "      \"date\": \"2024-10-31\",\n",
      "      \"value\": \"4.83\"\n",
      "    },\n",
      "    {\n",
      "      \"date\": \"2024-10-30\",\n",
      "      \"value\": \"4.83\"\n",
      "    },\n",
      "    {\n",
      "      \"date\": \"2024-10-29\",\n",
      "      \"value\": \"4.83\"\n",
      "    },\n",
      "    {\n",
      "      \"date\": \"2024-10-28\",\n",
      "      \"value\": \"4.83\"\n",
      "    },\n",
      "    {\n",
      "      \"date\": \"2024-10-27\",\n",
      "      \"value\": \"4.83\"\n",
      "    },\n",
      "    {\n",
      "      \"date\": \"2024-10-26\",\n",
      "      \"value\": \"4.83\"\n",
      "    },\n",
      "    {\n",
      "      \"date\": \"2024-10-25\",\n",
      "      \"value\": \"4.83\"\n",
      "    },\n",
      "    {\n",
      "      \"date\": \"2024-10-24\",\n",
      "      \"value\": \"4.83\"\n",
      "    },\n",
      "    {\n",
      "      \"date\": \"2024-10-23\",\n",
      "      \"value\": \"4.83\"\n",
      "    },\n",
      "    {\n",
      "      \"date\": \"2024-10-22\",\n",
      "      \"value\": \"4.83\"\n",
      "    },\n",
      "    {\n",
      "      \"date\": \"2024-10-21\",\n",
      "      \"value\": \"4.83\"\n",
      "    },\n",
      "    {\n",
      "      \"date\": \"2024-10-20\",\n",
      "      \"value\": \"4.83\"\n",
      "    },\n",
      "    {\n",
      "      \"date\": \"2024-10-19\",\n",
      "      \"value\": \"4.83\"\n",
      "    },\n",
      "    {\n",
      "      \"date\": \"2024-10-18\",\n",
      "      \"value\": \"4.83\"\n",
      "    },\n",
      "    {\n",
      "      \"date\": \"2024-10-17\",\n",
      "      \"value\": \"4.83\"\n",
      "    },\n",
      "    {\n",
      "      \"date\": \"2024-10-16\",\n",
      "      \"value\": \"4.83\"\n",
      "    },\n",
      "    {\n",
      "      \"date\": \"2024-10-15\",\n",
      "      \"value\": \"4.83\"\n",
      "    },\n",
      "    {\n",
      "      \"date\": \"2024-10-14\",\n",
      "      \"value\": \"4.83\"\n",
      "    },\n",
      "    {\n",
      "      \"date\": \"2024-10-13\",\n",
      "      \"value\": \"4.83\"\n",
      "    },\n",
      "    {\n",
      "      \"date\": \"2024-10-12\",\n",
      "      \"value\": \"4.83\"\n",
      "    },\n",
      "    {\n",
      "      \"date\": \"2024-10-11\",\n",
      "      \"value\": \"4.83\"\n",
      "    },\n",
      "    {\n",
      "      \"date\": \"2024-10-10\",\n",
      "      \"value\": \"4.83\"\n",
      "    },\n",
      "    {\n",
      "      \"date\": \"2024-10-09\",\n",
      "      \"value\": \"4.83\"\n",
      "    },\n",
      "    {\n",
      "      \"date\": \"2024-10-08\",\n",
      "      \"value\": \"4.83\"\n",
      "    },\n",
      "    {\n",
      "      \"date\": \"2024-10-07\",\n",
      "      \"value\": \"4.83\"\n",
      "    },\n",
      "    {\n",
      "      \"date\": \"2024-10-06\",\n",
      "      \"value\": \"4.83\"\n",
      "    },\n",
      "    {\n",
      "      \"date\": \"2024-10-05\",\n",
      "      \"value\": \"4.83\"\n",
      "    },\n",
      "    {\n",
      "      \"date\": \"2024-10-04\",\n",
      "      \"value\": \"4.83\"\n",
      "    },\n",
      "    {\n",
      "      \"date\": \"2024-10-03\",\n",
      "      \"value\": \"4.83\"\n",
      "    },\n",
      "    {\n",
      "      \"date\": \"2024-10-02\",\n",
      "      \"value\": \"4.83\"\n",
      "    },\n",
      "    {\n",
      "      \"date\": \"2024-10-01\",\n",
      "      \"value\": \"4.83\"\n",
      "    },\n",
      "    {\n",
      "      \"date\": \"2024-09-30\",\n",
      "      \"value\": \"4.83\"\n",
      "    },\n",
      "    {\n",
      "      \"date\": \"2024-09-29\",\n",
      "      \"value\": \"4.83\"\n",
      "    },\n",
      "    {\n",
      "      \"date\": \"2024-09-28\",\n",
      "      \"value\": \"4.83\"\n",
      "    },\n",
      "    {\n",
      "      \"date\": \"2024-09-27\",\n",
      "      \"value\": \"4.83\"\n",
      "    },\n",
      "    {\n",
      "      \"date\": \"2024-09-26\",\n",
      "      \"value\": \"4.83\"\n",
      "    },\n",
      "    {\n",
      "      \"date\": \"2024-09-25\",\n",
      "      \"value\": \"4.83\"\n",
      "    },\n",
      "    {\n",
      "      \"date\": \"2024-09-24\",\n",
      "      \"value\": \"4.83\"\n",
      "    },\n",
      "    {\n",
      "      \"date\": \"2024-09-23\",\n",
      "      \"value\": \"4.83\"\n",
      "    },\n",
      "    {\n",
      "      \"date\": \"2024-09-22\",\n",
      "      \"value\": \"4.83\"\n",
      "    },\n",
      "    {\n",
      "      \"date\": \"2024-09-21\",\n",
      "      \"value\": \"4.83\"\n",
      "    },\n",
      "    {\n",
      "      \"date\": \"2024-09-20\",\n",
      "      \"value\": \"4.83\"\n",
      "    },\n",
      "    {\n",
      "      \"date\": \"2024-09-19\",\n",
      "      \"value\": \"4.83\"\n",
      "    },\n",
      "    {\n",
      "      \"date\": \"2024-09-18\",\n",
      "      \"value\": \"5.33\"\n",
      "    },\n",
      "    {\n",
      "      \"date\": \"2024-09-17\",\n",
      "      \"value\": \"5.33\"\n",
      "    },\n",
      "    {\n",
      "      \"date\": \"2024-09-16\",\n",
      "      \"value\": \"5.33\"\n",
      "    },\n",
      "    {\n",
      "      \"date\": \"2024-09-15\",\n",
      "      \"value\": \"5.33\"\n",
      "    },\n",
      "    {\n",
      "      \"date\": \"2024-09-14\",\n",
      "      \"value\": \"5.33\"\n",
      "    },\n",
      "    {\n",
      "      \"date\": \"2024-09-13\",\n",
      "      \"value\": \"5.33\"\n",
      "    },\n",
      "    {\n",
      "      \"date\": \"2024-09-12\",\n",
      "      \"value\": \"5.33\"\n",
      "    },\n",
      "    {\n",
      "      \"date\": \"2024-09-11\",\n",
      "      \"value\": \"5.33\"\n",
      "    },\n",
      "    {\n",
      "      \"date\": \"2024-09-10\",\n",
      "      \"value\": \"5.33\"\n",
      "    },\n",
      "    {\n",
      "      \"date\": \"2024-09-09\",\n",
      "      \"value\": \"5.33\"\n",
      "    },\n",
      "    {\n",
      "      \"date\": \"2024-09-08\",\n",
      "      \"value\": \"5.33\"\n",
      "    },\n",
      "    {\n",
      "      \"date\": \"2024-09-07\",\n",
      "      \"value\": \"5.33\"\n",
      "    },\n",
      "    {\n",
      "      \"date\": \"2024-09-06\",\n",
      "      \"value\": \"5.33\"\n",
      "    },\n",
      "    {\n",
      "      \"date\": \"2024-09-05\",\n",
      "      \"value\": \"5.33\"\n",
      "    },\n",
      "    {\n",
      "      \"date\": \"2024-09-04\",\n",
      "      \"value\": \"5.33\"\n",
      "    },\n",
      "    {\n",
      "      \"date\": \"2024-09-03\",\n",
      "      \"value\": \"5.33\"\n",
      "    },\n",
      "    {\n",
      "      \"date\": \"2024-09-02\",\n",
      "      \"value\": \"5.33\"\n",
      "    },\n",
      "    {\n",
      "      \"date\": \"2024-09-01\",\n",
      "      \"value\": \"5.33\"\n",
      "    },\n",
      "    {\n",
      "      \"date\": \"2024-08-31\",\n",
      "      \"value\": \"5.33\"\n",
      "    },\n",
      "    {\n",
      "      \"date\": \"2024-08-30\",\n",
      "      \"value\": \"5.33\"\n",
      "    },\n",
      "    {\n",
      "      \"date\": \"2024-08-29\",\n",
      "      \"value\": \"5.33\"\n",
      "    },\n",
      "    {\n",
      "      \"date\": \"2024-08-28\",\n",
      "      \"value\": \"5.33\"\n",
      "    },\n",
      "    {\n",
      "      \"date\": \"2024-08-27\",\n",
      "      \"value\": \"5.33\"\n",
      "    },\n",
      "    {\n",
      "      \"date\": \"2024-08-26\",\n",
      "      \"value\": \"5.33\"\n",
      "    },\n",
      "    {\n",
      "      \"date\": \"2024-08-25\",\n",
      "      \"value\": \"5.33\"\n",
      "    },\n",
      "    {\n",
      "      \"date\": \"2024-08-24\",\n",
      "      \"value\": \"5.33\"\n",
      "    },\n",
      "    {\n",
      "      \"date\": \"2024-08-23\",\n",
      "      \"value\": \"5.33\"\n",
      "    },\n",
      "    {\n",
      "      \"date\": \"2024-08-22\",\n",
      "      \"value\": \"5.33\"\n",
      "    },\n",
      "    {\n",
      "      \"date\": \"2024-08-21\",\n",
      "      \"value\": \"5.33\"\n",
      "    },\n",
      "    {\n",
      "      \"date\": \"2024-08-20\",\n",
      "      \"value\": \"5.33\"\n",
      "    },\n",
      "    {\n",
      "      \"date\": \"2024-08-19\",\n",
      "      \"value\": \"5.33\"\n",
      "    },\n",
      "    {\n",
      "      \"date\": \"2024-08-18\",\n",
      "      \"value\": \"5.33\"\n",
      "    },\n",
      "    {\n",
      "      \"date\": \"2024-08-17\",\n",
      "      \"value\": \"5.33\"\n",
      "    },\n",
      "    {\n",
      "      \"date\": \"2024-08-16\",\n",
      "      \"value\": \"5.33\"\n",
      "    },\n",
      "    {\n",
      "      \"date\": \"2024-08-15\",\n",
      "      \"value\": \"5.33\"\n",
      "    },\n",
      "    {\n",
      "      \"date\": \"2024-08-14\",\n",
      "      \"value\": \"5.33\"\n",
      "    },\n",
      "    {\n",
      "      \"date\": \"2024-08-13\",\n",
      "      \"value\": \"5.33\"\n",
      "    },\n",
      "    {\n",
      "      \"date\": \"2024-08-12\",\n",
      "      \"value\": \"5.33\"\n",
      "    },\n",
      "    {\n",
      "      \"date\": \"2024-08-11\",\n",
      "      \"value\": \"5.33\"\n",
      "    },\n",
      "    {\n",
      "      \"date\": \"2024-08-10\",\n",
      "      \"value\": \"5.33\"\n",
      "    },\n",
      "    {\n",
      "      \"date\": \"2024-08-09\",\n",
      "      \"value\": \"5.33\"\n",
      "    },\n",
      "    {\n",
      "      \"date\": \"2024-08-08\",\n",
      "      \"value\": \"5.33\"\n",
      "    },\n",
      "    {\n",
      "      \"date\": \"2024-08-07\",\n",
      "      \"value\": \"5.33\"\n",
      "    },\n",
      "    {\n",
      "      \"date\": \"2024-08-06\",\n",
      "      \"value\": \"5.33\"\n",
      "    },\n",
      "    {\n",
      "      \"date\": \"2024-08-05\",\n",
      "      \"value\": \"5.33\"\n",
      "    },\n",
      "    {\n",
      "      \"date\": \"2024-08-04\",\n",
      "      \"value\": \"5.33\"\n",
      "    },\n",
      "    {\n",
      "      \"date\": \"2024-08-03\",\n",
      "      \"value\": \"5.33\"\n",
      "    },\n",
      "    {\n",
      "      \"date\": \"2024-08-02\",\n",
      "      \"value\": \"5.33\"\n",
      "    },\n",
      "    {\n",
      "      \"date\": \"2024-08-01\",\n",
      "      \"value\": \"5.33\"\n",
      "    },\n",
      "    {\n",
      "      \"date\": \"2024-07-31\",\n",
      "      \"value\": \"5.33\"\n",
      "    },\n",
      "    {\n",
      "      \"date\": \"2024-07-30\",\n",
      "      \"value\": \"5.33\"\n",
      "    },\n",
      "    {\n",
      "      \"date\": \"2024-07-29\",\n",
      "      \"value\": \"5.33\"\n",
      "    },\n",
      "    {\n",
      "      \"date\": \"2024-07-28\",\n",
      "      \"value\": \"5.33\"\n",
      "    },\n",
      "    {\n",
      "      \"date\": \"2024-07-27\",\n",
      "      \"value\": \"5.33\"\n",
      "    },\n",
      "    {\n",
      "      \"date\": \"2024-07-26\",\n",
      "      \"value\": \"5.33\"\n",
      "    },\n",
      "    {\n",
      "      \"date\": \"2024-07-25\",\n",
      "      \"value\": \"5.33\"\n",
      "    },\n",
      "    {\n",
      "      \"date\": \"2024-07-24\",\n",
      "      \"value\": \"5.33\"\n",
      "    },\n",
      "    {\n",
      "      \"date\": \"2024-07-23\",\n",
      "      \"value\": \"5.33\"\n",
      "    },\n",
      "    {\n",
      "      \"date\": \"2024-07-22\",\n",
      "      \"value\": \"5.33\"\n",
      "    },\n",
      "    {\n",
      "      \"date\": \"2024-07-21\",\n",
      "      \"value\": \"5.33\"\n",
      "    },\n",
      "    {\n",
      "      \"date\": \"2024-07-20\",\n",
      "      \"value\": \"5.33\"\n",
      "    },\n",
      "    {\n",
      "      \"date\": \"2024-07-19\",\n",
      "      \"value\": \"5.33\"\n",
      "    },\n",
      "    {\n",
      "      \"date\": \"2024-07-18\",\n",
      "      \"value\": \"5.33\"\n",
      "    },\n",
      "    {\n",
      "      \"date\": \"2024-07-17\",\n",
      "      \"value\": \"5.33\"\n",
      "    },\n",
      "    {\n",
      "      \"date\": \"2024-07-16\",\n",
      "      \"value\": \"5.33\"\n",
      "    },\n",
      "    {\n",
      "      \"date\": \"2024-07-15\",\n",
      "      \"value\": \"5.33\"\n",
      "    },\n",
      "    {\n",
      "      \"date\": \"2024-07-14\",\n",
      "      \"value\": \"5.33\"\n",
      "    },\n",
      "    {\n",
      "      \"date\": \"2024-07-13\",\n",
      "      \"value\": \"5.33\"\n",
      "    },\n",
      "    {\n",
      "      \"date\": \"2024-07-12\",\n",
      "      \"value\": \"5.33\"\n",
      "    },\n",
      "    {\n",
      "      \"date\": \"2024-07-11\",\n",
      "      \"value\": \"5.33\"\n",
      "    },\n",
      "    {\n",
      "      \"date\": \"2024-07-10\",\n",
      "      \"value\": \"5.33\"\n",
      "    },\n",
      "    {\n",
      "      \"date\": \"2024-07-09\",\n",
      "      \"value\": \"5.33\"\n",
      "    },\n",
      "    {\n",
      "      \"date\": \"2024-07-08\",\n",
      "      \"value\": \"5.33\"\n",
      "    },\n",
      "    {\n",
      "      \"date\": \"2024-07-07\",\n",
      "      \"value\": \"5.33\"\n",
      "    },\n",
      "    {\n",
      "      \"date\": \"2024-07-06\",\n",
      "      \"value\": \"5.33\"\n",
      "    },\n",
      "    {\n",
      "      \"date\": \"2024-07-05\",\n",
      "      \"value\": \"5.33\"\n",
      "    },\n",
      "    {\n",
      "      \"date\": \"2024-07-04\",\n",
      "      \"value\": \"5.33\"\n",
      "    },\n",
      "    {\n",
      "      \"date\": \"2024-07-03\",\n",
      "      \"value\": \"5.33\"\n",
      "    },\n",
      "    {\n",
      "      \"date\": \"2024-07-02\",\n",
      "      \"value\": \"5.33\"\n",
      "    },\n",
      "    {\n",
      "      \"date\": \"2024-07-01\",\n",
      "      \"value\": \"5.33\"\n",
      "    },\n",
      "    {\n",
      "      \"date\": \"2024-06-30\",\n",
      "      \"value\": \"5.33\"\n",
      "    },\n",
      "    {\n",
      "      \"date\": \"2024-06-29\",\n",
      "      \"value\": \"5.33\"\n",
      "    },\n",
      "    {\n",
      "      \"date\": \"2024-06-28\",\n",
      "      \"value\": \"5.33\"\n",
      "    },\n",
      "    {\n",
      "      \"date\": \"2024-06-27\",\n",
      "      \"value\": \"5.33\"\n",
      "    },\n",
      "    {\n",
      "      \"date\": \"2024-06-26\",\n",
      "      \"value\": \"5.33\"\n",
      "    },\n",
      "    {\n",
      "      \"date\": \"2024-06-25\",\n",
      "      \"value\": \"5.33\"\n",
      "    },\n",
      "    {\n",
      "      \"date\": \"2024-06-24\",\n",
      "      \"value\": \"5.33\"\n",
      "    },\n",
      "    {\n",
      "      \"date\": \"2024-06-23\",\n",
      "      \"value\": \"5.33\"\n",
      "    },\n",
      "    {\n",
      "      \"date\": \"2024-06-22\",\n",
      "      \"value\": \"5.33\"\n",
      "    },\n",
      "    {\n",
      "      \"date\": \"2024-06-21\",\n",
      "      \"value\": \"5.33\"\n",
      "    },\n",
      "    {\n",
      "      \"date\": \"2024-06-20\",\n",
      "      \"value\": \"5.33\"\n",
      "    },\n",
      "    {\n",
      "      \"date\": \"2024-06-19\",\n",
      "      \"value\": \"5.33\"\n",
      "    },\n",
      "    {\n",
      "      \"date\": \"2024-06-18\",\n",
      "      \"value\": \"5.33\"\n",
      "    },\n",
      "    {\n",
      "      \"date\": \"2024-06-17\",\n",
      "      \"value\": \"5.33\"\n",
      "    },\n",
      "    {\n",
      "      \"date\": \"2024-06-16\",\n",
      "      \"value\": \"5.33\"\n",
      "    },\n",
      "    {\n",
      "      \"date\": \"2024-06-15\",\n",
      "      \"value\": \"5.33\"\n",
      "    },\n",
      "    {\n",
      "      \"date\": \"2024-06-14\",\n",
      "      \"value\": \"5.33\"\n",
      "    },\n",
      "    {\n",
      "      \"date\": \"2024-06-13\",\n",
      "      \"value\": \"5.33\"\n",
      "    },\n",
      "    {\n",
      "      \"date\": \"2024-06-12\",\n",
      "      \"value\": \"5.33\"\n",
      "    },\n",
      "    {\n",
      "      \"date\": \"2024-06-11\",\n",
      "      \"value\": \"5.33\"\n",
      "    },\n",
      "    {\n",
      "      \"date\": \"2024-06-10\",\n",
      "      \"value\": \"5.33\"\n",
      "    },\n",
      "    {\n",
      "      \"date\": \"2024-06-09\",\n",
      "      \"value\": \"5.33\"\n",
      "    },\n",
      "    {\n",
      "      \"date\": \"2024-06-08\",\n",
      "      \"value\": \"5.33\"\n",
      "    },\n",
      "    {\n",
      "      \"date\": \"2024-06-07\",\n",
      "      \"value\": \"5.33\"\n",
      "    },\n",
      "    {\n",
      "      \"date\": \"2024-06-06\",\n",
      "      \"value\": \"5.33\"\n",
      "    },\n",
      "    {\n",
      "      \"date\": \"2024-06-05\",\n",
      "      \"value\": \"5.33\"\n",
      "    },\n",
      "    {\n",
      "      \"date\": \"2024-06-04\",\n",
      "      \"value\": \"5.33\"\n",
      "    },\n",
      "    {\n",
      "      \"date\": \"2024-06-03\",\n",
      "      \"value\": \"5.33\"\n",
      "    },\n",
      "    {\n",
      "      \"date\": \"2024-06-02\",\n",
      "      \"value\": \"5.33\"\n",
      "    },\n",
      "    {\n",
      "      \"date\": \"2024-06-01\",\n",
      "      \"value\": \"5.33\"\n",
      "    },\n",
      "    {\n",
      "      \"date\": \"2024-05-31\",\n",
      "      \"value\": \"5.33\"\n",
      "    },\n",
      "    {\n",
      "      \"date\": \"2024-05-30\",\n",
      "      \"value\": \"5.33\"\n",
      "    },\n",
      "    {\n",
      "      \"date\": \"2024-05-29\",\n",
      "      \"value\": \"5.33\"\n",
      "    },\n",
      "    {\n",
      "      \"date\": \"2024-05-28\",\n",
      "      \"value\": \"5.33\"\n",
      "    },\n",
      "    {\n",
      "      \"date\": \"2024-05-27\",\n",
      "      \"value\": \"5.33\"\n",
      "    },\n",
      "    {\n",
      "      \"date\": \"2024-05-26\",\n",
      "      \"value\": \"5.33\"\n",
      "    },\n",
      "    {\n",
      "      \"date\": \"2024-05-25\",\n",
      "      \"value\": \"5.33\"\n",
      "    },\n",
      "    {\n",
      "      \"date\": \"2024-05-24\",\n",
      "      \"value\": \"5.33\"\n",
      "    },\n",
      "    {\n",
      "      \"date\": \"2024-05-23\",\n",
      "      \"value\": \"5.33\"\n",
      "    },\n",
      "    {\n",
      "      \"date\": \"2024-05-22\",\n",
      "      \"value\": \"5.33\"\n",
      "    },\n",
      "    {\n",
      "      \"date\": \"2024-05-21\",\n",
      "      \"value\": \"5.33\"\n",
      "    },\n",
      "    {\n",
      "      \"date\": \"2024-05-20\",\n",
      "      \"value\": \"5.33\"\n",
      "    },\n",
      "    {\n",
      "      \"date\": \"2024-05-19\",\n",
      "      \"value\": \"5.33\"\n",
      "    },\n",
      "    {\n",
      "      \"date\": \"2024-05-18\",\n",
      "      \"value\": \"5.33\"\n",
      "    },\n",
      "    {\n",
      "      \"date\": \"2024-05-17\",\n",
      "      \"value\": \"5.33\"\n",
      "    },\n",
      "    {\n",
      "      \"date\": \"2024-05-16\",\n",
      "      \"value\": \"5.33\"\n",
      "    },\n",
      "    {\n",
      "      \"date\": \"2024-05-15\",\n",
      "      \"value\": \"5.33\"\n",
      "    },\n",
      "    {\n",
      "      \"date\": \"2024-05-14\",\n",
      "      \"value\": \"5.33\"\n",
      "    },\n",
      "    {\n",
      "      \"date\": \"2024-05-13\",\n",
      "      \"value\": \"5.33\"\n",
      "    },\n",
      "    {\n",
      "      \"date\": \"2024-05-12\",\n",
      "      \"value\": \"5.33\"\n",
      "    },\n",
      "    {\n",
      "      \"date\": \"2024-05-11\",\n",
      "      \"value\": \"5.33\"\n",
      "    },\n",
      "    {\n",
      "      \"date\": \"2024-05-10\",\n",
      "      \"value\": \"5.33\"\n",
      "    },\n",
      "    {\n",
      "      \"date\": \"2024-05-09\",\n",
      "      \"value\": \"5.33\"\n",
      "    },\n",
      "    {\n",
      "      \"date\": \"2024-05-08\",\n",
      "      \"value\": \"5.33\"\n",
      "    },\n",
      "    {\n",
      "      \"date\": \"2024-05-07\",\n",
      "      \"value\": \"5.33\"\n",
      "    },\n",
      "    {\n",
      "      \"date\": \"2024-05-06\",\n",
      "      \"value\": \"5.33\"\n",
      "    },\n",
      "    {\n",
      "      \"date\": \"2024-05-05\",\n",
      "      \"value\": \"5.33\"\n",
      "    },\n",
      "    {\n",
      "      \"date\": \"2024-05-04\",\n",
      "      \"value\": \"5.33\"\n",
      "    },\n",
      "    {\n",
      "      \"date\": \"2024-05-03\",\n",
      "      \"value\": \"5.33\"\n",
      "    },\n",
      "    {\n",
      "      \"date\": \"2024-05-02\",\n",
      "      \"value\": \"5.33\"\n",
      "    },\n",
      "    {\n",
      "      \"date\": \"2024-05-01\",\n",
      "      \"value\": \"5.33\"\n",
      "    },\n",
      "    {\n",
      "      \"date\": \"2024-04-30\",\n",
      "      \"value\": \"5.33\"\n",
      "    },\n",
      "    {\n",
      "      \"date\": \"2024-04-29\",\n",
      "      \"value\": \"5.33\"\n",
      "    },\n",
      "    {\n",
      "      \"date\": \"2024-04-28\",\n",
      "      \"value\": \"5.33\"\n",
      "    },\n",
      "    {\n",
      "      \"date\": \"2024-04-27\",\n",
      "      \"value\": \"5.33\"\n",
      "    },\n",
      "    {\n",
      "      \"date\": \"2024-04-26\",\n",
      "      \"value\": \"5.33\"\n",
      "    },\n",
      "    {\n",
      "      \"date\": \"2024-04-25\",\n",
      "      \"value\": \"5.33\"\n",
      "    },\n",
      "    {\n",
      "      \"date\": \"2024-04-24\",\n",
      "      \"value\": \"5.33\"\n",
      "    },\n",
      "    {\n",
      "      \"date\": \"2024-04-23\",\n",
      "      \"value\": \"5.33\"\n",
      "    },\n",
      "    {\n",
      "      \"date\": \"2024-04-22\",\n",
      "      \"value\": \"5.33\"\n",
      "    },\n",
      "    {\n",
      "      \"date\": \"2024-04-21\",\n",
      "      \"value\": \"5.33\"\n",
      "    },\n",
      "    {\n",
      "      \"date\": \"2024-04-20\",\n",
      "      \"value\": \"5.33\"\n",
      "    },\n",
      "    {\n",
      "      \"date\": \"2024-04-19\",\n",
      "      \"value\": \"5.33\"\n",
      "    },\n",
      "    {\n",
      "      \"date\": \"2024-04-18\",\n",
      "      \"value\": \"5.33\"\n",
      "    },\n",
      "    {\n",
      "      \"date\": \"2024-04-17\",\n",
      "      \"value\": \"5.33\"\n",
      "    },\n",
      "    {\n",
      "      \"date\": \"2024-04-16\",\n",
      "      \"value\": \"5.33\"\n",
      "    },\n",
      "    {\n",
      "      \"date\": \"2024-04-15\",\n",
      "      \"value\": \"5.33\"\n",
      "    },\n",
      "    {\n",
      "      \"date\": \"2024-04-14\",\n",
      "      \"value\": \"5.33\"\n",
      "    },\n",
      "    {\n",
      "      \"date\": \"2024-04-13\",\n",
      "      \"value\": \"5.33\"\n",
      "    },\n",
      "    {\n",
      "      \"date\": \"2024-04-12\",\n",
      "      \"value\": \"5.33\"\n",
      "    },\n",
      "    {\n",
      "      \"date\": \"2024-04-11\",\n",
      "      \"value\": \"5.33\"\n",
      "    },\n",
      "    {\n",
      "      \"date\": \"2024-04-10\",\n",
      "      \"value\": \"5.33\"\n",
      "    },\n",
      "    {\n",
      "      \"date\": \"2024-04-09\",\n",
      "      \"value\": \"5.33\"\n",
      "    },\n",
      "    {\n",
      "      \"date\": \"2024-04-08\",\n",
      "      \"value\": \"5.33\"\n",
      "    },\n",
      "    {\n",
      "      \"date\": \"2024-04-07\",\n",
      "      \"value\": \"5.33\"\n",
      "    },\n",
      "    {\n",
      "      \"date\": \"2024-04-06\",\n",
      "      \"value\": \"5.33\"\n",
      "    },\n",
      "    {\n",
      "      \"date\": \"2024-04-05\",\n",
      "      \"value\": \"5.33\"\n",
      "    },\n",
      "    {\n",
      "      \"date\": \"2024-04-04\",\n",
      "      \"value\": \"5.33\"\n",
      "    },\n",
      "    {\n",
      "      \"date\": \"2024-04-03\",\n",
      "      \"value\": \"5.33\"\n",
      "    },\n",
      "    {\n",
      "      \"date\": \"2024-04-02\",\n",
      "      \"value\": \"5.33\"\n",
      "    },\n",
      "    {\n",
      "      \"date\": \"2024-04-01\",\n",
      "      \"value\": \"5.33\"\n",
      "    },\n",
      "    {\n",
      "      \"date\": \"2024-03-31\",\n",
      "      \"value\": \"5.33\"\n",
      "    },\n",
      "    {\n",
      "      \"date\": \"2024-03-30\",\n",
      "      \"value\": \"5.33\"\n",
      "    },\n",
      "    {\n",
      "      \"date\": \"2024-03-29\",\n",
      "      \"value\": \"5.33\"\n",
      "    },\n",
      "    {\n",
      "      \"date\": \"2024-03-28\",\n",
      "      \"value\": \"5.33\"\n",
      "    },\n",
      "    {\n",
      "      \"date\": \"2024-03-27\",\n",
      "      \"value\": \"5.33\"\n",
      "    },\n",
      "    {\n",
      "      \"date\": \"2024-03-26\",\n",
      "      \"value\": \"5.33\"\n",
      "    },\n",
      "    {\n",
      "      \"date\": \"2024-03-25\",\n",
      "      \"value\": \"5.33\"\n",
      "    },\n",
      "    {\n",
      "      \"date\": \"2024-03-24\",\n",
      "      \"value\": \"5.33\"\n",
      "    },\n",
      "    {\n",
      "      \"date\": \"2024-03-23\",\n",
      "      \"value\": \"5.33\"\n",
      "    },\n",
      "    {\n",
      "      \"date\": \"2024-03-22\",\n",
      "      \"value\": \"5.33\"\n",
      "    },\n",
      "    {\n",
      "      \"date\": \"2024-03-21\",\n",
      "      \"value\": \"5.33\"\n",
      "    },\n",
      "    {\n",
      "      \"date\": \"2024-03-20\",\n",
      "      \"value\": \"5.33\"\n",
      "    },\n",
      "    {\n",
      "      \"date\": \"2024-03-19\",\n",
      "      \"value\": \"5.33\"\n",
      "    },\n",
      "    {\n",
      "      \"date\": \"2024-03-18\",\n",
      "      \"value\": \"5.33\"\n",
      "    },\n",
      "    {\n",
      "      \"date\": \"2024-03-17\",\n",
      "      \"value\": \"5.33\"\n",
      "    },\n",
      "    {\n",
      "      \"date\": \"2024-03-16\",\n",
      "      \"value\": \"5.33\"\n",
      "    },\n",
      "    {\n",
      "      \"date\": \"2024-03-15\",\n",
      "      \"value\": \"5.33\"\n",
      "    },\n",
      "    {\n",
      "      \"date\": \"2024-03-14\",\n",
      "      \"value\": \"5.33\"\n",
      "    },\n",
      "    {\n",
      "      \"date\": \"2024-03-13\",\n",
      "      \"value\": \"5.33\"\n",
      "    },\n",
      "    {\n",
      "      \"date\": \"2024-03-12\",\n",
      "      \"value\": \"5.33\"\n",
      "    },\n",
      "    {\n",
      "      \"date\": \"2024-03-11\",\n",
      "      \"value\": \"5.33\"\n",
      "    },\n",
      "    {\n",
      "      \"date\": \"2024-03-10\",\n",
      "      \"value\": \"5.33\"\n",
      "    },\n",
      "    {\n",
      "      \"date\": \"2024-03-09\",\n",
      "      \"value\": \"5.33\"\n",
      "    },\n",
      "    {\n",
      "      \"date\": \"2024-03-08\",\n",
      "      \"value\": \"5.33\"\n",
      "    },\n",
      "    {\n",
      "      \"date\": \"2024-03-07\",\n",
      "      \"value\": \"5.33\"\n",
      "    },\n",
      "    {\n",
      "      \"date\": \"2024-03-06\",\n",
      "      \"value\": \"5.33\"\n",
      "    },\n",
      "    {\n",
      "      \"date\": \"2024-03-05\",\n",
      "      \"value\": \"5.33\"\n",
      "    },\n",
      "    {\n",
      "      \"date\": \"2024-03-04\",\n",
      "      \"value\": \"5.33\"\n",
      "    },\n",
      "    {\n",
      "      \"date\": \"2024-03-03\",\n",
      "      \"value\": \"5.33\"\n",
      "    },\n",
      "    {\n",
      "      \"date\": \"2024-03-02\",\n",
      "      \"value\": \"5.33\"\n",
      "    },\n",
      "    {\n",
      "      \"date\": \"2024-03-01\",\n",
      "      \"value\": \"5.33\"\n",
      "    },\n",
      "    {\n",
      "      \"date\": \"2024-02-29\",\n",
      "      \"value\": \"5.33\"\n",
      "    },\n",
      "    {\n",
      "      \"date\": \"2024-02-28\",\n",
      "      \"value\": \"5.33\"\n",
      "    },\n",
      "    {\n",
      "      \"date\": \"2024-02-27\",\n",
      "      \"value\": \"5.33\"\n",
      "    },\n",
      "    {\n",
      "      \"date\": \"2024-02-26\",\n",
      "      \"value\": \"5.33\"\n",
      "    },\n",
      "    {\n",
      "      \"date\": \"2024-02-25\",\n",
      "      \"value\": \"5.33\"\n",
      "    },\n",
      "    {\n",
      "      \"date\": \"2024-02-24\",\n",
      "      \"value\": \"5.33\"\n",
      "    },\n",
      "    {\n",
      "      \"date\": \"2024-02-23\",\n",
      "      \"value\": \"5.33\"\n",
      "    },\n",
      "    {\n",
      "      \"date\": \"2024-02-22\",\n",
      "      \"value\": \"5.33\"\n",
      "    },\n",
      "    {\n",
      "      \"date\": \"2024-02-21\",\n",
      "      \"value\": \"5.33\"\n",
      "    },\n",
      "    {\n",
      "      \"date\": \"2024-02-20\",\n",
      "      \"value\": \"5.33\"\n",
      "    },\n",
      "    {\n",
      "      \"date\": \"2024-02-19\",\n",
      "      \"value\": \"5.33\"\n",
      "    },\n",
      "    {\n",
      "      \"date\": \"2024-02-18\",\n",
      "      \"value\": \"5.33\"\n",
      "    },\n",
      "    {\n",
      "      \"date\": \"2024-02-17\",\n",
      "      \"value\": \"5.33\"\n",
      "    },\n",
      "    {\n",
      "      \"date\": \"2024-02-16\",\n",
      "      \"value\": \"5.33\"\n",
      "    },\n",
      "    {\n",
      "      \"date\": \"2024-02-15\",\n",
      "      \"value\": \"5.33\"\n",
      "    },\n",
      "    {\n",
      "      \"date\": \"2024-02-14\",\n",
      "      \"value\": \"5.33\"\n",
      "    },\n",
      "    {\n",
      "      \"date\": \"2024-02-13\",\n",
      "      \"value\": \"5.33\"\n",
      "    },\n",
      "    {\n",
      "      \"date\": \"2024-02-12\",\n",
      "      \"value\": \"5.33\"\n",
      "    },\n",
      "    {\n",
      "      \"date\": \"2024-02-11\",\n",
      "      \"value\": \"5.33\"\n",
      "    },\n",
      "    {\n",
      "      \"date\": \"2024-02-10\",\n",
      "      \"value\": \"5.33\"\n",
      "    },\n",
      "    {\n",
      "      \"date\": \"2024-02-09\",\n",
      "      \"value\": \"5.33\"\n",
      "    },\n",
      "    {\n",
      "      \"date\": \"2024-02-08\",\n",
      "      \"value\": \"5.33\"\n",
      "    },\n",
      "    {\n",
      "      \"date\": \"2024-02-07\",\n",
      "      \"value\": \"5.33\"\n",
      "    },\n",
      "    {\n",
      "      \"date\": \"2024-02-06\",\n",
      "      \"value\": \"5.33\"\n",
      "    },\n",
      "    {\n",
      "      \"date\": \"2024-02-05\",\n",
      "      \"value\": \"5.33\"\n",
      "    },\n",
      "    {\n",
      "      \"date\": \"2024-02-04\",\n",
      "      \"value\": \"5.33\"\n",
      "    },\n",
      "    {\n",
      "      \"date\": \"2024-02-03\",\n",
      "      \"value\": \"5.33\"\n",
      "    },\n",
      "    {\n",
      "      \"date\": \"2024-02-02\",\n",
      "      \"value\": \"5.33\"\n",
      "    },\n",
      "    {\n",
      "      \"date\": \"2024-02-01\",\n",
      "      \"value\": \"5.33\"\n",
      "    },\n",
      "    {\n",
      "      \"date\": \"2024-01-31\",\n",
      "      \"value\": \"5.33\"\n",
      "    },\n",
      "    {\n",
      "      \"date\": \"2024-01-30\",\n",
      "      \"value\": \"5.33\"\n",
      "    },\n",
      "    {\n",
      "      \"date\": \"2024-01-29\",\n",
      "      \"value\": \"5.33\"\n",
      "    },\n",
      "    {\n",
      "      \"date\": \"2024-01-28\",\n",
      "      \"value\": \"5.33\"\n",
      "    },\n",
      "    {\n",
      "      \"date\": \"2024-01-27\",\n",
      "      \"value\": \"5.33\"\n",
      "    },\n",
      "    {\n",
      "      \"date\": \"2024-01-26\",\n",
      "      \"value\": \"5.33\"\n",
      "    },\n",
      "    {\n",
      "      \"date\": \"2024-01-25\",\n",
      "      \"value\": \"5.33\"\n",
      "    },\n",
      "    {\n",
      "      \"date\": \"2024-01-24\",\n",
      "      \"value\": \"5.33\"\n",
      "    },\n",
      "    {\n",
      "      \"date\": \"2024-01-23\",\n",
      "      \"value\": \"5.33\"\n",
      "    },\n",
      "    {\n",
      "      \"date\": \"2024-01-22\",\n",
      "      \"value\": \"5.33\"\n",
      "    },\n",
      "    {\n",
      "      \"date\": \"2024-01-21\",\n",
      "      \"value\": \"5.33\"\n",
      "    },\n",
      "    {\n",
      "      \"date\": \"2024-01-20\",\n",
      "      \"value\": \"5.33\"\n",
      "    },\n",
      "    {\n",
      "      \"date\": \"2024-01-19\",\n",
      "      \"value\": \"5.33\"\n",
      "    },\n",
      "    {\n",
      "      \"date\": \"2024-01-18\",\n",
      "      \"value\": \"5.33\"\n",
      "    },\n",
      "    {\n",
      "      \"date\": \"2024-01-17\",\n",
      "      \"value\": \"5.33\"\n",
      "    },\n",
      "    {\n",
      "      \"date\": \"2024-01-16\",\n",
      "      \"value\": \"5.33\"\n",
      "    },\n",
      "    {\n",
      "      \"date\": \"2024-01-15\",\n",
      "      \"value\": \"5.33\"\n",
      "    },\n",
      "    {\n",
      "      \"date\": \"2024-01-14\",\n",
      "      \"value\": \"5.33\"\n",
      "    },\n",
      "    {\n",
      "      \"date\": \"2024-01-13\",\n",
      "      \"value\": \"5.33\"\n",
      "    },\n",
      "    {\n",
      "      \"date\": \"2024-01-12\",\n",
      "      \"value\": \"5.33\"\n",
      "    },\n",
      "    {\n",
      "      \"date\": \"2024-01-11\",\n",
      "      \"value\": \"5.33\"\n",
      "    },\n",
      "    {\n",
      "      \"date\": \"2024-01-10\",\n",
      "      \"value\": \"5.33\"\n",
      "    },\n",
      "    {\n",
      "      \"date\": \"2024-01-09\",\n",
      "      \"value\": \"5.33\"\n",
      "    },\n",
      "    {\n",
      "      \"date\": \"2024-01-08\",\n",
      "      \"value\": \"5.33\"\n",
      "    },\n",
      "    {\n",
      "      \"date\": \"2024-01-07\",\n",
      "      \"value\": \"5.33\"\n",
      "    },\n",
      "    {\n",
      "      \"date\": \"2024-01-06\",\n",
      "      \"value\": \"5.33\"\n",
      "    },\n",
      "    {\n",
      "      \"date\": \"2024-01-05\",\n",
      "      \"value\": \"5.33\"\n",
      "    },\n",
      "    {\n",
      "      \"date\": \"2024-01-04\",\n",
      "      \"value\": \"5.33\"\n",
      "    },\n",
      "    {\n",
      "      \"date\": \"2024-01-03\",\n",
      "      \"value\": \"5.33\"\n",
      "    },\n",
      "    {\n",
      "      \"date\": \"2024-01-02\",\n",
      "      \"value\": \"5.33\"\n",
      "    },\n",
      "    {\n",
      "      \"date\": \"2024-01-01\",\n",
      "      \"value\": \"5.33\"\n",
      "    },\n",
      "    {\n",
      "      \"date\": \"2023-12-31\",\n",
      "      \"value\": \"5.33\"\n",
      "    },\n",
      "    {\n",
      "      \"date\": \"2023-12-30\",\n",
      "      \"value\": \"5.33\"\n",
      "    },\n",
      "    {\n",
      "      \"date\": \"2023-12-29\",\n",
      "      \"value\": \"5.33\"\n",
      "    },\n",
      "    {\n",
      "      \"date\": \"2023-12-28\",\n",
      "      \"value\": \"5.33\"\n",
      "    },\n",
      "    {\n",
      "      \"date\": \"2023-12-27\",\n",
      "      \"value\": \"5.33\"\n",
      "    },\n",
      "    {\n",
      "      \"date\": \"2023-12-26\",\n",
      "      \"value\": \"5.33\"\n",
      "    },\n",
      "    {\n",
      "      \"date\": \"2023-12-25\",\n",
      "      \"value\": \"5.33\"\n",
      "    },\n",
      "    {\n",
      "      \"date\": \"2023-12-24\",\n",
      "      \"value\": \"5.33\"\n",
      "    },\n",
      "    {\n",
      "      \"date\": \"2023-12-23\",\n",
      "      \"value\": \"5.33\"\n",
      "    },\n",
      "    {\n",
      "      \"date\": \"2023-12-22\",\n",
      "      \"value\": \"5.33\"\n",
      "    },\n",
      "    {\n",
      "      \"date\": \"2023-12-21\",\n",
      "      \"value\": \"5.33\"\n",
      "    },\n",
      "    {\n",
      "      \"date\": \"2023-12-20\",\n",
      "      \"value\": \"5.33\"\n",
      "    },\n",
      "    {\n",
      "      \"date\": \"2023-12-19\",\n",
      "      \"value\": \"5.33\"\n",
      "    },\n",
      "    {\n",
      "      \"date\": \"2023-12-18\",\n",
      "      \"value\": \"5.33\"\n",
      "    },\n",
      "    {\n",
      "      \"date\": \"2023-12-17\",\n",
      "      \"value\": \"5.33\"\n",
      "    },\n",
      "    {\n",
      "      \"date\": \"2023-12-16\",\n",
      "      \"value\": \"5.33\"\n",
      "    },\n",
      "    {\n",
      "      \"date\": \"2023-12-15\",\n",
      "      \"value\": \"5.33\"\n",
      "    },\n",
      "    {\n",
      "      \"date\": \"2023-12-14\",\n",
      "      \"value\": \"5.33\"\n",
      "    },\n",
      "    {\n",
      "      \"date\": \"2023-12-13\",\n",
      "      \"value\": \"5.33\"\n",
      "    },\n",
      "    {\n",
      "      \"date\": \"2023-12-12\",\n",
      "      \"value\": \"5.33\"\n",
      "    },\n",
      "    {\n",
      "      \"date\": \"2023-12-11\",\n",
      "      \"value\": \"5.33\"\n",
      "    },\n",
      "    {\n",
      "      \"date\": \"2023-12-10\",\n",
      "      \"value\": \"5.33\"\n",
      "    },\n",
      "    {\n",
      "      \"date\": \"2023-12-09\",\n",
      "      \"value\": \"5.33\"\n",
      "    },\n",
      "    {\n",
      "      \"date\": \"2023-12-08\",\n",
      "      \"value\": \"5.33\"\n",
      "    },\n",
      "    {\n",
      "      \"date\": \"2023-12-07\",\n",
      "      \"value\": \"5.33\"\n",
      "    },\n",
      "    {\n",
      "      \"date\": \"2023-12-06\",\n",
      "      \"value\": \"5.33\"\n",
      "    },\n",
      "    {\n",
      "      \"date\": \"2023-12-05\",\n",
      "      \"value\": \"5.33\"\n",
      "    },\n",
      "    {\n",
      "      \"date\": \"2023-12-04\",\n",
      "      \"value\": \"5.33\"\n",
      "    },\n",
      "    {\n",
      "      \"date\": \"2023-12-03\",\n",
      "      \"value\": \"5.33\"\n",
      "    },\n",
      "    {\n",
      "      \"date\": \"2023-12-02\",\n",
      "      \"value\": \"5.33\"\n",
      "    },\n",
      "    {\n",
      "      \"date\": \"2023-12-01\",\n",
      "      \"value\": \"5.33\"\n",
      "    },\n",
      "    {\n",
      "      \"date\": \"2023-11-30\",\n",
      "      \"value\": \"5.33\"\n",
      "    },\n",
      "    {\n",
      "      \"date\": \"2023-11-29\",\n",
      "      \"value\": \"5.33\"\n",
      "    },\n",
      "    {\n",
      "      \"date\": \"2023-11-28\",\n",
      "      \"value\": \"5.33\"\n",
      "    },\n",
      "    {\n",
      "      \"date\": \"2023-11-27\",\n",
      "      \"value\": \"5.33\"\n",
      "    },\n",
      "    {\n",
      "      \"date\": \"2023-11-26\",\n",
      "      \"value\": \"5.33\"\n",
      "    },\n",
      "    {\n",
      "      \"date\": \"2023-11-25\",\n",
      "      \"value\": \"5.33\"\n",
      "    },\n",
      "    {\n",
      "      \"date\": \"2023-11-24\",\n",
      "      \"value\": \"5.33\"\n",
      "    },\n",
      "    {\n",
      "      \"date\": \"2023-11-23\",\n",
      "      \"value\": \"5.33\"\n",
      "    },\n",
      "    {\n",
      "      \"date\": \"2023-11-22\",\n",
      "      \"value\": \"5.33\"\n",
      "    },\n",
      "    {\n",
      "      \"date\": \"2023-11-21\",\n",
      "      \"value\": \"5.33\"\n",
      "    },\n",
      "    {\n",
      "      \"date\": \"2023-11-20\",\n",
      "      \"value\": \"5.33\"\n",
      "    },\n",
      "    {\n",
      "      \"date\": \"2023-11-19\",\n",
      "      \"value\": \"5.33\"\n",
      "    },\n",
      "    {\n",
      "      \"date\": \"2023-11-18\",\n",
      "      \"value\": \"5.33\"\n",
      "    },\n",
      "    {\n",
      "      \"date\": \"2023-11-17\",\n",
      "      \"value\": \"5.33\"\n",
      "    },\n",
      "    {\n",
      "      \"date\": \"2023-11-16\",\n",
      "      \"value\": \"5.33\"\n",
      "    },\n",
      "    {\n",
      "      \"date\": \"2023-11-15\",\n",
      "      \"value\": \"5.33\"\n",
      "    },\n",
      "    {\n",
      "      \"date\": \"2023-11-14\",\n",
      "      \"value\": \"5.33\"\n",
      "    },\n",
      "    {\n",
      "      \"date\": \"2023-11-13\",\n",
      "      \"value\": \"5.33\"\n",
      "    },\n",
      "    {\n",
      "      \"date\": \"2023-11-12\",\n",
      "      \"value\": \"5.33\"\n",
      "    },\n",
      "    {\n",
      "      \"date\": \"2023-11-11\",\n",
      "      \"value\": \"5.33\"\n",
      "    },\n",
      "    {\n",
      "      \"date\": \"2023-11-10\",\n",
      "      \"value\": \"5.33\"\n",
      "    },\n",
      "    {\n",
      "      \"date\": \"2023-11-09\",\n",
      "      \"value\": \"5.33\"\n",
      "    },\n",
      "    {\n",
      "      \"date\": \"2023-11-08\",\n",
      "      \"value\": \"5.33\"\n",
      "    },\n",
      "    {\n",
      "      \"date\": \"2023-11-07\",\n",
      "      \"value\": \"5.33\"\n",
      "    },\n",
      "    {\n",
      "      \"date\": \"2023-11-06\",\n",
      "      \"value\": \"5.33\"\n",
      "    },\n",
      "    {\n",
      "      \"date\": \"2023-11-05\",\n",
      "      \"value\": \"5.33\"\n",
      "    },\n",
      "    {\n",
      "      \"date\": \"2023-11-04\",\n",
      "      \"value\": \"5.33\"\n",
      "    },\n",
      "    {\n",
      "      \"date\": \"2023-11-03\",\n",
      "      \"value\": \"5.33\"\n",
      "    },\n",
      "    {\n",
      "      \"date\": \"2023-11-02\",\n",
      "      \"value\": \"5.33\"\n",
      "    },\n",
      "    {\n",
      "      \"date\": \"2023-11-01\",\n",
      "      \"value\": \"5.33\"\n",
      "    },\n",
      "    {\n",
      "      \"date\": \"2023-10-31\",\n",
      "      \"value\": \"5.33\"\n",
      "    },\n",
      "    {\n",
      "      \"date\": \"2023-10-30\",\n",
      "      \"value\": \"5.33\"\n",
      "    },\n",
      "    {\n",
      "      \"date\": \"2023-10-29\",\n",
      "      \"value\": \"5.33\"\n",
      "    },\n",
      "    {\n",
      "      \"date\": \"2023-10-28\",\n",
      "      \"value\": \"5.33\"\n",
      "    },\n",
      "    {\n",
      "      \"date\": \"2023-10-27\",\n",
      "      \"value\": \"5.33\"\n",
      "    },\n",
      "    {\n",
      "      \"date\": \"2023-10-26\",\n",
      "      \"value\": \"5.33\"\n",
      "    },\n",
      "    {\n",
      "      \"date\": \"2023-10-25\",\n",
      "      \"value\": \"5.33\"\n",
      "    },\n",
      "    {\n",
      "      \"date\": \"2023-10-24\",\n",
      "      \"value\": \"5.33\"\n",
      "    },\n",
      "    {\n",
      "      \"date\": \"2023-10-23\",\n",
      "      \"value\": \"5.33\"\n",
      "    },\n",
      "    {\n",
      "      \"date\": \"2023-10-22\",\n",
      "      \"value\": \"5.33\"\n",
      "    },\n",
      "    {\n",
      "      \"date\": \"2023-10-21\",\n",
      "      \"value\": \"5.33\"\n",
      "    },\n",
      "    {\n",
      "      \"date\": \"2023-10-20\",\n",
      "      \"value\": \"5.33\"\n",
      "    },\n",
      "    {\n",
      "      \"date\": \"2023-10-19\",\n",
      "      \"value\": \"5.33\"\n",
      "    },\n",
      "    {\n",
      "      \"date\": \"2023-10-18\",\n",
      "      \"value\": \"5.33\"\n",
      "    },\n",
      "    {\n",
      "      \"date\": \"2023-10-17\",\n",
      "      \"value\": \"5.33\"\n",
      "    },\n",
      "    {\n",
      "      \"date\": \"2023-10-16\",\n",
      "      \"value\": \"5.33\"\n",
      "    },\n",
      "    {\n",
      "      \"date\": \"2023-10-15\",\n",
      "      \"value\": \"5.33\"\n",
      "    },\n",
      "    {\n",
      "      \"date\": \"2023-10-14\",\n",
      "      \"value\": \"5.33\"\n",
      "    },\n",
      "    {\n",
      "      \"date\": \"2023-10-13\",\n",
      "      \"value\": \"5.33\"\n",
      "    },\n",
      "    {\n",
      "      \"date\": \"2023-10-12\",\n",
      "      \"value\": \"5.33\"\n",
      "    },\n",
      "    {\n",
      "      \"date\": \"2023-10-11\",\n",
      "      \"value\": \"5.33\"\n",
      "    },\n",
      "    {\n",
      "      \"date\": \"2023-10-10\",\n",
      "      \"value\": \"5.33\"\n",
      "    },\n",
      "    {\n",
      "      \"date\": \"2023-10-09\",\n",
      "      \"value\": \"5.33\"\n",
      "    },\n",
      "    {\n",
      "      \"date\": \"2023-10-08\",\n",
      "      \"value\": \"5.33\"\n",
      "    },\n",
      "    {\n",
      "      \"date\": \"2023-10-07\",\n",
      "      \"value\": \"5.33\"\n",
      "    },\n",
      "    {\n",
      "      \"date\": \"2023-10-06\",\n",
      "      \"value\": \"5.33\"\n",
      "    },\n",
      "    {\n",
      "      \"date\": \"2023-10-05\",\n",
      "      \"value\": \"5.33\"\n",
      "    },\n",
      "    {\n",
      "      \"date\": \"2023-10-04\",\n",
      "      \"value\": \"5.33\"\n",
      "    },\n",
      "    {\n",
      "      \"date\": \"2023-10-03\",\n",
      "      \"value\": \"5.33\"\n",
      "    },\n",
      "    {\n",
      "      \"date\": \"2023-10-02\",\n",
      "      \"value\": \"5.33\"\n",
      "    },\n",
      "    {\n",
      "      \"date\": \"2023-10-01\",\n",
      "      \"value\": \"5.33\"\n",
      "    },\n",
      "    {\n",
      "      \"date\": \"2023-09-30\",\n",
      "      \"value\": \"5.33\"\n",
      "    },\n",
      "    {\n",
      "      \"date\": \"2023-09-29\",\n",
      "      \"value\": \"5.33\"\n",
      "    },\n",
      "    {\n",
      "      \"date\": \"2023-09-28\",\n",
      "      \"value\": \"5.33\"\n",
      "    },\n",
      "    {\n",
      "      \"date\": \"2023-09-27\",\n",
      "      \"value\": \"5.33\"\n",
      "    },\n",
      "    {\n",
      "      \"date\": \"2023-09-26\",\n",
      "      \"value\": \"5.33\"\n",
      "    },\n",
      "    {\n",
      "      \"date\": \"2023-09-25\",\n",
      "      \"value\": \"5.33\"\n",
      "    },\n",
      "    {\n",
      "      \"date\": \"2023-09-24\",\n",
      "      \"value\": \"5.33\"\n",
      "    },\n",
      "    {\n",
      "      \"date\": \"2023-09-23\",\n",
      "      \"value\": \"5.33\"\n",
      "    },\n",
      "    {\n",
      "      \"date\": \"2023-09-22\",\n",
      "      \"value\": \"5.33\"\n",
      "    },\n",
      "    {\n",
      "      \"date\": \"2023-09-21\",\n",
      "      \"value\": \"5.33\"\n",
      "    },\n",
      "    {\n",
      "      \"date\": \"2023-09-20\",\n",
      "      \"value\": \"5.33\"\n",
      "    },\n",
      "    {\n",
      "      \"date\": \"2023-09-19\",\n",
      "      \"value\": \"5.33\"\n",
      "    },\n",
      "    {\n",
      "      \"date\": \"2023-09-18\",\n",
      "      \"value\": \"5.33\"\n",
      "    },\n",
      "    {\n",
      "      \"date\": \"2023-09-17\",\n",
      "      \"value\": \"5.33\"\n",
      "    },\n",
      "    {\n",
      "      \"date\": \"2023-09-16\",\n",
      "      \"value\": \"5.33\"\n",
      "    },\n",
      "    {\n",
      "      \"date\": \"2023-09-15\",\n",
      "      \"value\": \"5.33\"\n",
      "    },\n",
      "    {\n",
      "      \"date\": \"2023-09-14\",\n",
      "      \"value\": \"5.33\"\n",
      "    },\n",
      "    {\n",
      "      \"date\": \"2023-09-13\",\n",
      "      \"value\": \"5.33\"\n",
      "    },\n",
      "    {\n",
      "      \"date\": \"2023-09-12\",\n",
      "      \"value\": \"5.33\"\n",
      "    },\n",
      "    {\n",
      "      \"date\": \"2023-09-11\",\n",
      "      \"value\": \"5.33\"\n",
      "    },\n",
      "    {\n",
      "      \"date\": \"2023-09-10\",\n",
      "      \"value\": \"5.33\"\n",
      "    },\n",
      "    {\n",
      "      \"date\": \"2023-09-09\",\n",
      "      \"value\": \"5.33\"\n",
      "    },\n",
      "    {\n",
      "      \"date\": \"2023-09-08\",\n",
      "      \"value\": \"5.33\"\n",
      "    },\n",
      "    {\n",
      "      \"date\": \"2023-09-07\",\n",
      "      \"value\": \"5.33\"\n",
      "    },\n",
      "    {\n",
      "      \"date\": \"2023-09-06\",\n",
      "      \"value\": \"5.33\"\n",
      "    },\n",
      "    {\n",
      "      \"date\": \"2023-09-05\",\n",
      "      \"value\": \"5.33\"\n",
      "    },\n",
      "    {\n",
      "      \"date\": \"2023-09-04\",\n",
      "      \"value\": \"5.33\"\n",
      "    },\n",
      "    {\n",
      "      \"date\": \"2023-09-03\",\n",
      "      \"value\": \"5.33\"\n",
      "    },\n",
      "    {\n",
      "      \"date\": \"2023-09-02\",\n",
      "      \"value\": \"5.33\"\n",
      "    },\n",
      "    {\n",
      "      \"date\": \"2023-09-01\",\n",
      "      \"value\": \"5.33\"\n",
      "    },\n",
      "    {\n",
      "      \"date\": \"2023-08-31\",\n",
      "      \"value\": \"5.33\"\n",
      "    },\n",
      "    {\n",
      "      \"date\": \"2023-08-30\",\n",
      "      \"value\": \"5.33\"\n",
      "    },\n",
      "    {\n",
      "      \"date\": \"2023-08-29\",\n",
      "      \"value\": \"5.33\"\n",
      "    },\n",
      "    {\n",
      "      \"date\": \"2023-08-28\",\n",
      "      \"value\": \"5.33\"\n",
      "    },\n",
      "    {\n",
      "      \"date\": \"2023-08-27\",\n",
      "      \"value\": \"5.33\"\n",
      "    },\n",
      "    {\n",
      "      \"date\": \"2023-08-26\",\n",
      "      \"value\": \"5.33\"\n",
      "    },\n",
      "    {\n",
      "      \"date\": \"2023-08-25\",\n",
      "      \"value\": \"5.33\"\n",
      "    },\n",
      "    {\n",
      "      \"date\": \"2023-08-24\",\n",
      "      \"value\": \"5.33\"\n",
      "    },\n",
      "    {\n",
      "      \"date\": \"2023-08-23\",\n",
      "      \"value\": \"5.33\"\n",
      "    },\n",
      "    {\n",
      "      \"date\": \"2023-08-22\",\n",
      "      \"value\": \"5.33\"\n",
      "    },\n",
      "    {\n",
      "      \"date\": \"2023-08-21\",\n",
      "      \"value\": \"5.33\"\n",
      "    },\n",
      "    {\n",
      "      \"date\": \"2023-08-20\",\n",
      "      \"value\": \"5.33\"\n",
      "    },\n",
      "    {\n",
      "      \"date\": \"2023-08-19\",\n",
      "      \"value\": \"5.33\"\n",
      "    },\n",
      "    {\n",
      "      \"date\": \"2023-08-18\",\n",
      "      \"value\": \"5.33\"\n",
      "    },\n",
      "    {\n",
      "      \"date\": \"2023-08-17\",\n",
      "      \"value\": \"5.33\"\n",
      "    },\n",
      "    {\n",
      "      \"date\": \"2023-08-16\",\n",
      "      \"value\": \"5.33\"\n",
      "    },\n",
      "    {\n",
      "      \"date\": \"2023-08-15\",\n",
      "      \"value\": \"5.33\"\n",
      "    },\n",
      "    {\n",
      "      \"date\": \"2023-08-14\",\n",
      "      \"value\": \"5.33\"\n",
      "    },\n",
      "    {\n",
      "      \"date\": \"2023-08-13\",\n",
      "      \"value\": \"5.33\"\n",
      "    },\n",
      "    {\n",
      "      \"date\": \"2023-08-12\",\n",
      "      \"value\": \"5.33\"\n",
      "    },\n",
      "    {\n",
      "      \"date\": \"2023-08-11\",\n",
      "      \"value\": \"5.33\"\n",
      "    },\n",
      "    {\n",
      "      \"date\": \"2023-08-10\",\n",
      "      \"value\": \"5.33\"\n",
      "    },\n",
      "    {\n",
      "      \"date\": \"2023-08-09\",\n",
      "      \"value\": \"5.33\"\n",
      "    },\n",
      "    {\n",
      "      \"date\": \"2023-08-08\",\n",
      "      \"value\": \"5.33\"\n",
      "    },\n",
      "    {\n",
      "      \"date\": \"2023-08-07\",\n",
      "      \"value\": \"5.33\"\n",
      "    },\n",
      "    {\n",
      "      \"date\": \"2023-08-06\",\n",
      "      \"value\": \"5.33\"\n",
      "    },\n",
      "    {\n",
      "      \"date\": \"2023-08-05\",\n",
      "      \"value\": \"5.33\"\n",
      "    },\n",
      "    {\n",
      "      \"date\": \"2023-08-04\",\n",
      "      \"value\": \"5.33\"\n",
      "    },\n",
      "    {\n",
      "      \"date\": \"2023-08-03\",\n",
      "      \"value\": \"5.33\"\n",
      "    },\n",
      "    {\n",
      "      \"date\": \"2023-08-02\",\n",
      "      \"value\": \"5.33\"\n",
      "    },\n",
      "    {\n",
      "      \"date\": \"2023-08-01\",\n",
      "      \"value\": \"5.33\"\n",
      "    },\n",
      "    {\n",
      "      \"date\": \"2023-07-31\",\n",
      "      \"value\": \"5.33\"\n",
      "    },\n",
      "    {\n",
      "      \"date\": \"2023-07-30\",\n",
      "      \"value\": \"5.33\"\n",
      "    },\n",
      "    {\n",
      "      \"date\": \"2023-07-29\",\n",
      "      \"value\": \"5.33\"\n",
      "    },\n",
      "    {\n",
      "      \"date\": \"2023-07-28\",\n",
      "      \"value\": \"5.33\"\n",
      "    },\n",
      "    {\n",
      "      \"date\": \"2023-07-27\",\n",
      "      \"value\": \"5.33\"\n",
      "    },\n",
      "    {\n",
      "      \"date\": \"2023-07-26\",\n",
      "      \"value\": \"5.08\"\n",
      "    },\n",
      "    {\n",
      "      \"date\": \"2023-07-25\",\n",
      "      \"value\": \"5.08\"\n",
      "    },\n",
      "    {\n",
      "      \"date\": \"2023-07-24\",\n",
      "      \"value\": \"5.08\"\n",
      "    },\n",
      "    {\n",
      "      \"date\": \"2023-07-23\",\n",
      "      \"value\": \"5.08\"\n",
      "    },\n",
      "    {\n",
      "      \"date\": \"2023-07-22\",\n",
      "      \"value\": \"5.08\"\n",
      "    },\n",
      "    {\n",
      "      \"date\": \"2023-07-21\",\n",
      "      \"value\": \"5.08\"\n",
      "    },\n",
      "    {\n",
      "      \"date\": \"2023-07-20\",\n",
      "      \"value\": \"5.08\"\n",
      "    },\n",
      "    {\n",
      "      \"date\": \"2023-07-19\",\n",
      "      \"value\": \"5.08\"\n",
      "    },\n",
      "    {\n",
      "      \"date\": \"2023-07-18\",\n",
      "      \"value\": \"5.08\"\n",
      "    },\n",
      "    {\n",
      "      \"date\": \"2023-07-17\",\n",
      "      \"value\": \"5.08\"\n",
      "    },\n",
      "    {\n",
      "      \"date\": \"2023-07-16\",\n",
      "      \"value\": \"5.08\"\n",
      "    },\n",
      "    {\n",
      "      \"date\": \"2023-07-15\",\n",
      "      \"value\": \"5.08\"\n",
      "    },\n",
      "    {\n",
      "      \"date\": \"2023-07-14\",\n",
      "      \"value\": \"5.08\"\n",
      "    },\n",
      "    {\n",
      "      \"date\": \"2023-07-13\",\n",
      "      \"value\": \"5.08\"\n",
      "    },\n",
      "    {\n",
      "      \"date\": \"2023-07-12\",\n",
      "      \"value\": \"5.08\"\n",
      "    },\n",
      "    {\n",
      "      \"date\": \"2023-07-11\",\n",
      "      \"value\": \"5.08\"\n",
      "    },\n",
      "    {\n",
      "      \"date\": \"2023-07-10\",\n",
      "      \"value\": \"5.07\"\n",
      "    },\n",
      "    {\n",
      "      \"date\": \"2023-07-09\",\n",
      "      \"value\": \"5.08\"\n",
      "    },\n",
      "    {\n",
      "      \"date\": \"2023-07-08\",\n",
      "      \"value\": \"5.08\"\n",
      "    },\n",
      "    {\n",
      "      \"date\": \"2023-07-07\",\n",
      "      \"value\": \"5.08\"\n",
      "    },\n",
      "    {\n",
      "      \"date\": \"2023-07-06\",\n",
      "      \"value\": \"5.08\"\n",
      "    },\n",
      "    {\n",
      "      \"date\": \"2023-07-05\",\n",
      "      \"value\": \"5.08\"\n",
      "    },\n",
      "    {\n",
      "      \"date\": \"2023-07-04\",\n",
      "      \"value\": \"5.08\"\n",
      "    },\n",
      "    {\n",
      "      \"date\": \"2023-07-03\",\n",
      "      \"value\": \"5.08\"\n",
      "    },\n",
      "    {\n",
      "      \"date\": \"2023-07-02\",\n",
      "      \"value\": \"5.08\"\n",
      "    },\n",
      "    {\n",
      "      \"date\": \"2023-07-01\",\n",
      "      \"value\": \"5.08\"\n",
      "    },\n",
      "    {\n",
      "      \"date\": \"2023-06-30\",\n",
      "      \"value\": \"5.08\"\n",
      "    },\n",
      "    {\n",
      "      \"date\": \"2023-06-29\",\n",
      "      \"value\": \"5.07\"\n",
      "    },\n",
      "    {\n",
      "      \"date\": \"2023-06-28\",\n",
      "      \"value\": \"5.07\"\n",
      "    },\n",
      "    {\n",
      "      \"date\": \"2023-06-27\",\n",
      "      \"value\": \"5.07\"\n",
      "    },\n",
      "    {\n",
      "      \"date\": \"2023-06-26\",\n",
      "      \"value\": \"5.07\"\n",
      "    },\n",
      "    {\n",
      "      \"date\": \"2023-06-25\",\n",
      "      \"value\": \"5.07\"\n",
      "    },\n",
      "    {\n",
      "      \"date\": \"2023-06-24\",\n",
      "      \"value\": \"5.07\"\n",
      "    },\n",
      "    {\n",
      "      \"date\": \"2023-06-23\",\n",
      "      \"value\": \"5.07\"\n",
      "    },\n",
      "    {\n",
      "      \"date\": \"2023-06-22\",\n",
      "      \"value\": \"5.07\"\n",
      "    },\n",
      "    {\n",
      "      \"date\": \"2023-06-21\",\n",
      "      \"value\": \"5.07\"\n",
      "    },\n",
      "    {\n",
      "      \"date\": \"2023-06-20\",\n",
      "      \"value\": \"5.07\"\n",
      "    },\n",
      "    {\n",
      "      \"date\": \"2023-06-19\",\n",
      "      \"value\": \"5.08\"\n",
      "    },\n",
      "    {\n",
      "      \"date\": \"2023-06-18\",\n",
      "      \"value\": \"5.08\"\n",
      "    },\n",
      "    {\n",
      "      \"date\": \"2023-06-17\",\n",
      "      \"value\": \"5.08\"\n",
      "    },\n",
      "    {\n",
      "      \"date\": \"2023-06-16\",\n",
      "      \"value\": \"5.08\"\n",
      "    },\n",
      "    {\n",
      "      \"date\": \"2023-06-15\",\n",
      "      \"value\": \"5.07\"\n",
      "    },\n",
      "    {\n",
      "      \"date\": \"2023-06-14\",\n",
      "      \"value\": \"5.08\"\n",
      "    },\n",
      "    {\n",
      "      \"date\": \"2023-06-13\",\n",
      "      \"value\": \"5.08\"\n",
      "    },\n",
      "    {\n",
      "      \"date\": \"2023-06-12\",\n",
      "      \"value\": \"5.08\"\n",
      "    },\n",
      "    {\n",
      "      \"date\": \"2023-06-11\",\n",
      "      \"value\": \"5.08\"\n",
      "    },\n",
      "    {\n",
      "      \"date\": \"2023-06-10\",\n",
      "      \"value\": \"5.08\"\n",
      "    },\n",
      "    {\n",
      "      \"date\": \"2023-06-09\",\n",
      "      \"value\": \"5.08\"\n",
      "    },\n",
      "    {\n",
      "      \"date\": \"2023-06-08\",\n",
      "      \"value\": \"5.08\"\n",
      "    },\n",
      "    {\n",
      "      \"date\": \"2023-06-07\",\n",
      "      \"value\": \"5.08\"\n",
      "    },\n",
      "    {\n",
      "      \"date\": \"2023-06-06\",\n",
      "      \"value\": \"5.08\"\n",
      "    },\n",
      "    {\n",
      "      \"date\": \"2023-06-05\",\n",
      "      \"value\": \"5.08\"\n",
      "    },\n",
      "    {\n",
      "      \"date\": \"2023-06-04\",\n",
      "      \"value\": \"5.08\"\n",
      "    },\n",
      "    {\n",
      "      \"date\": \"2023-06-03\",\n",
      "      \"value\": \"5.08\"\n",
      "    },\n",
      "    {\n",
      "      \"date\": \"2023-06-02\",\n",
      "      \"value\": \"5.08\"\n",
      "    },\n",
      "    {\n",
      "      \"date\": \"2023-06-01\",\n",
      "      \"value\": \"5.08\"\n",
      "    },\n",
      "    {\n",
      "      \"date\": \"2023-05-31\",\n",
      "      \"value\": \"5.08\"\n",
      "    },\n",
      "    {\n",
      "      \"date\": \"2023-05-30\",\n",
      "      \"value\": \"5.08\"\n",
      "    },\n",
      "    {\n",
      "      \"date\": \"2023-05-29\",\n",
      "      \"value\": \"5.08\"\n",
      "    },\n",
      "    {\n",
      "      \"date\": \"2023-05-28\",\n",
      "      \"value\": \"5.08\"\n",
      "    },\n",
      "    {\n",
      "      \"date\": \"2023-05-27\",\n",
      "      \"value\": \"5.08\"\n",
      "    },\n",
      "    {\n",
      "      \"date\": \"2023-05-26\",\n",
      "      \"value\": \"5.08\"\n",
      "    },\n",
      "    {\n",
      "      \"date\": \"2023-05-25\",\n",
      "      \"value\": \"5.08\"\n",
      "    },\n",
      "    {\n",
      "      \"date\": \"2023-05-24\",\n",
      "      \"value\": \"5.08\"\n",
      "    },\n",
      "    {\n",
      "      \"date\": \"2023-05-23\",\n",
      "      \"value\": \"5.08\"\n",
      "    },\n",
      "    {\n",
      "      \"date\": \"2023-05-22\",\n",
      "      \"value\": \"5.08\"\n",
      "    },\n",
      "    {\n",
      "      \"date\": \"2023-05-21\",\n",
      "      \"value\": \"5.08\"\n",
      "    },\n",
      "    {\n",
      "      \"date\": \"2023-05-20\",\n",
      "      \"value\": \"5.08\"\n",
      "    },\n",
      "    {\n",
      "      \"date\": \"2023-05-19\",\n",
      "      \"value\": \"5.08\"\n",
      "    },\n",
      "    {\n",
      "      \"date\": \"2023-05-18\",\n",
      "      \"value\": \"5.08\"\n",
      "    },\n",
      "    {\n",
      "      \"date\": \"2023-05-17\",\n",
      "      \"value\": \"5.08\"\n",
      "    },\n",
      "    {\n",
      "      \"date\": \"2023-05-16\",\n",
      "      \"value\": \"5.08\"\n",
      "    },\n",
      "    {\n",
      "      \"date\": \"2023-05-15\",\n",
      "      \"value\": \"5.08\"\n",
      "    },\n",
      "    {\n",
      "      \"date\": \"2023-05-14\",\n",
      "      \"value\": \"5.08\"\n",
      "    },\n",
      "    {\n",
      "      \"date\": \"2023-05-13\",\n",
      "      \"value\": \"5.08\"\n",
      "    },\n",
      "    {\n",
      "      \"date\": \"2023-05-12\",\n",
      "      \"value\": \"5.08\"\n",
      "    },\n",
      "    {\n",
      "      \"date\": \"2023-05-11\",\n",
      "      \"value\": \"5.08\"\n",
      "    },\n",
      "    {\n",
      "      \"date\": \"2023-05-10\",\n",
      "      \"value\": \"5.08\"\n",
      "    },\n",
      "    {\n",
      "      \"date\": \"2023-05-09\",\n",
      "      \"value\": \"5.08\"\n",
      "    },\n",
      "    {\n",
      "      \"date\": \"2023-05-08\",\n",
      "      \"value\": \"5.08\"\n",
      "    },\n",
      "    {\n",
      "      \"date\": \"2023-05-07\",\n",
      "      \"value\": \"5.08\"\n",
      "    },\n",
      "    {\n",
      "      \"date\": \"2023-05-06\",\n",
      "      \"value\": \"5.08\"\n",
      "    },\n",
      "    {\n",
      "      \"date\": \"2023-05-05\",\n",
      "      \"value\": \"5.08\"\n",
      "    },\n",
      "    {\n",
      "      \"date\": \"2023-05-04\",\n",
      "      \"value\": \"5.08\"\n",
      "    },\n",
      "    {\n",
      "      \"date\": \"2023-05-03\",\n",
      "      \"value\": \"4.83\"\n",
      "    },\n",
      "    {\n",
      "      \"date\": \"2023-05-02\",\n",
      "      \"value\": \"4.83\"\n",
      "    },\n",
      "    {\n",
      "      \"date\": \"2023-05-01\",\n",
      "      \"value\": \"4.83\"\n",
      "    },\n",
      "    {\n",
      "      \"date\": \"2023-04-30\",\n",
      "      \"value\": \"4.83\"\n",
      "    },\n",
      "    {\n",
      "      \"date\": \"2023-04-29\",\n",
      "      \"value\": \"4.83\"\n",
      "    },\n",
      "    {\n",
      "      \"date\": \"2023-04-28\",\n",
      "      \"value\": \"4.83\"\n",
      "    },\n",
      "    {\n",
      "      \"date\": \"2023-04-27\",\n",
      "      \"value\": \"4.83\"\n",
      "    },\n",
      "    {\n",
      "      \"date\": \"2023-04-26\",\n",
      "      \"value\": \"4.83\"\n",
      "    },\n",
      "    {\n",
      "      \"date\": \"2023-04-25\",\n",
      "      \"value\": \"4.83\"\n",
      "    },\n",
      "    {\n",
      "      \"date\": \"2023-04-24\",\n",
      "      \"value\": \"4.83\"\n",
      "    },\n",
      "    {\n",
      "      \"date\": \"2023-04-23\",\n",
      "      \"value\": \"4.83\"\n",
      "    },\n",
      "    {\n",
      "      \"date\": \"2023-04-22\",\n",
      "      \"value\": \"4.83\"\n",
      "    },\n",
      "    {\n",
      "      \"date\": \"2023-04-21\",\n",
      "      \"value\": \"4.83\"\n",
      "    },\n",
      "    {\n",
      "      \"date\": \"2023-04-20\",\n",
      "      \"value\": \"4.83\"\n",
      "    },\n",
      "    {\n",
      "      \"date\": \"2023-04-19\",\n",
      "      \"value\": \"4.83\"\n",
      "    },\n",
      "    {\n",
      "      \"date\": \"2023-04-18\",\n",
      "      \"value\": \"4.83\"\n",
      "    },\n",
      "    {\n",
      "      \"date\": \"2023-04-17\",\n",
      "      \"value\": \"4.83\"\n",
      "    },\n",
      "    {\n",
      "      \"date\": \"2023-04-16\",\n",
      "      \"value\": \"4.83\"\n",
      "    },\n",
      "    {\n",
      "      \"date\": \"2023-04-15\",\n",
      "      \"value\": \"4.83\"\n",
      "    },\n",
      "    {\n",
      "      \"date\": \"2023-04-14\",\n",
      "      \"value\": \"4.83\"\n",
      "    },\n",
      "    {\n",
      "      \"date\": \"2023-04-13\",\n",
      "      \"value\": \"4.83\"\n",
      "    },\n",
      "    {\n",
      "      \"date\": \"2023-04-12\",\n",
      "      \"value\": \"4.83\"\n",
      "    },\n",
      "    {\n",
      "      \"date\": \"2023-04-11\",\n",
      "      \"value\": \"4.83\"\n",
      "    },\n",
      "    {\n",
      "      \"date\": \"2023-04-10\",\n",
      "      \"value\": \"4.83\"\n",
      "    },\n",
      "    {\n",
      "      \"date\": \"2023-04-09\",\n",
      "      \"value\": \"4.83\"\n",
      "    },\n",
      "    {\n",
      "      \"date\": \"2023-04-08\",\n",
      "      \"value\": \"4.83\"\n",
      "    },\n",
      "    {\n",
      "      \"date\": \"2023-04-07\",\n",
      "      \"value\": \"4.83\"\n",
      "    },\n",
      "    {\n",
      "      \"date\": \"2023-04-06\",\n",
      "      \"value\": \"4.83\"\n",
      "    },\n",
      "    {\n",
      "      \"date\": \"2023-04-05\",\n",
      "      \"value\": \"4.83\"\n",
      "    },\n",
      "    {\n",
      "      \"date\": \"2023-04-04\",\n",
      "      \"value\": \"4.83\"\n",
      "    },\n",
      "    {\n",
      "      \"date\": \"2023-04-03\",\n",
      "      \"value\": \"4.83\"\n",
      "    },\n",
      "    {\n",
      "      \"date\": \"2023-04-02\",\n",
      "      \"value\": \"4.83\"\n",
      "    },\n",
      "    {\n",
      "      \"date\": \"2023-04-01\",\n",
      "      \"value\": \"4.83\"\n",
      "    },\n",
      "    {\n",
      "      \"date\": \"2023-03-31\",\n",
      "      \"value\": \"4.83\"\n",
      "    },\n",
      "    {\n",
      "      \"date\": \"2023-03-30\",\n",
      "      \"value\": \"4.83\"\n",
      "    },\n",
      "    {\n",
      "      \"date\": \"2023-03-29\",\n",
      "      \"value\": \"4.83\"\n",
      "    },\n",
      "    {\n",
      "      \"date\": \"2023-03-28\",\n",
      "      \"value\": \"4.83\"\n",
      "    },\n",
      "    {\n",
      "      \"date\": \"2023-03-27\",\n",
      "      \"value\": \"4.83\"\n",
      "    },\n",
      "    {\n",
      "      \"date\": \"2023-03-26\",\n",
      "      \"value\": \"4.83\"\n",
      "    },\n",
      "    {\n",
      "      \"date\": \"2023-03-25\",\n",
      "      \"value\": \"4.83\"\n",
      "    },\n",
      "    {\n",
      "      \"date\": \"2023-03-24\",\n",
      "      \"value\": \"4.83\"\n",
      "    },\n",
      "    {\n",
      "      \"date\": \"2023-03-23\",\n",
      "      \"value\": \"4.83\"\n",
      "    },\n",
      "    {\n",
      "      \"date\": \"2023-03-22\",\n",
      "      \"value\": \"4.58\"\n",
      "    },\n",
      "    {\n",
      "      \"date\": \"2023-03-21\",\n",
      "      \"value\": \"4.58\"\n",
      "    },\n",
      "    {\n",
      "      \"date\": \"2023-03-20\",\n",
      "      \"value\": \"4.58\"\n",
      "    },\n",
      "    {\n",
      "      \"date\": \"2023-03-19\",\n",
      "      \"value\": \"4.58\"\n",
      "    },\n",
      "    {\n",
      "      \"date\": \"2023-03-18\",\n",
      "      \"value\": \"4.58\"\n",
      "    },\n",
      "    {\n",
      "      \"date\": \"2023-03-17\",\n",
      "      \"value\": \"4.58\"\n",
      "    },\n",
      "    {\n",
      "      \"date\": \"2023-03-16\",\n",
      "      \"value\": \"4.58\"\n",
      "    },\n",
      "    {\n",
      "      \"date\": \"2023-03-15\",\n",
      "      \"value\": \"4.58\"\n",
      "    },\n",
      "    {\n",
      "      \"date\": \"2023-03-14\",\n",
      "      \"value\": \"4.58\"\n",
      "    },\n",
      "    {\n",
      "      \"date\": \"2023-03-13\",\n",
      "      \"value\": \"4.58\"\n",
      "    },\n",
      "    {\n",
      "      \"date\": \"2023-03-12\",\n",
      "      \"value\": \"4.57\"\n",
      "    },\n",
      "    {\n",
      "      \"date\": \"2023-03-11\",\n",
      "      \"value\": \"4.57\"\n",
      "    },\n",
      "    {\n",
      "      \"date\": \"2023-03-10\",\n",
      "      \"value\": \"4.57\"\n",
      "    },\n",
      "    {\n",
      "      \"date\": \"2023-03-09\",\n",
      "      \"value\": \"4.57\"\n",
      "    },\n",
      "    {\n",
      "      \"date\": \"2023-03-08\",\n",
      "      \"value\": \"4.57\"\n",
      "    },\n",
      "    {\n",
      "      \"date\": \"2023-03-07\",\n",
      "      \"value\": \"4.57\"\n",
      "    },\n",
      "    {\n",
      "      \"date\": \"2023-03-06\",\n",
      "      \"value\": \"4.57\"\n",
      "    },\n",
      "    {\n",
      "      \"date\": \"2023-03-05\",\n",
      "      \"value\": \"4.57\"\n",
      "    },\n",
      "    {\n",
      "      \"date\": \"2023-03-04\",\n",
      "      \"value\": \"4.57\"\n",
      "    },\n",
      "    {\n",
      "      \"date\": \"2023-03-03\",\n",
      "      \"value\": \"4.57\"\n",
      "    },\n",
      "    {\n",
      "      \"date\": \"2023-03-02\",\n",
      "      \"value\": \"4.57\"\n",
      "    },\n",
      "    {\n",
      "      \"date\": \"2023-03-01\",\n",
      "      \"value\": \"4.58\"\n",
      "    },\n",
      "    {\n",
      "      \"date\": \"2023-02-28\",\n",
      "      \"value\": \"4.57\"\n",
      "    },\n",
      "    {\n",
      "      \"date\": \"2023-02-27\",\n",
      "      \"value\": \"4.57\"\n",
      "    },\n",
      "    {\n",
      "      \"date\": \"2023-02-26\",\n",
      "      \"value\": \"4.58\"\n",
      "    },\n",
      "    {\n",
      "      \"date\": \"2023-02-25\",\n",
      "      \"value\": \"4.58\"\n",
      "    },\n",
      "    {\n",
      "      \"date\": \"2023-02-24\",\n",
      "      \"value\": \"4.58\"\n",
      "    },\n",
      "    {\n",
      "      \"date\": \"2023-02-23\",\n",
      "      \"value\": \"4.58\"\n",
      "    },\n",
      "    {\n",
      "      \"date\": \"2023-02-22\",\n",
      "      \"value\": \"4.58\"\n",
      "    },\n",
      "    {\n",
      "      \"date\": \"2023-02-21\",\n",
      "      \"value\": \"4.58\"\n",
      "    },\n",
      "    {\n",
      "      \"date\": \"2023-02-20\",\n",
      "      \"value\": \"4.58\"\n",
      "    },\n",
      "    {\n",
      "      \"date\": \"2023-02-19\",\n",
      "      \"value\": \"4.58\"\n",
      "    },\n",
      "    {\n",
      "      \"date\": \"2023-02-18\",\n",
      "      \"value\": \"4.58\"\n",
      "    },\n",
      "    {\n",
      "      \"date\": \"2023-02-17\",\n",
      "      \"value\": \"4.58\"\n",
      "    },\n",
      "    {\n",
      "      \"date\": \"2023-02-16\",\n",
      "      \"value\": \"4.58\"\n",
      "    },\n",
      "    {\n",
      "      \"date\": \"2023-02-15\",\n",
      "      \"value\": \"4.58\"\n",
      "    },\n",
      "    {\n",
      "      \"date\": \"2023-02-14\",\n",
      "      \"value\": \"4.58\"\n",
      "    },\n",
      "    {\n",
      "      \"date\": \"2023-02-13\",\n",
      "      \"value\": \"4.58\"\n",
      "    },\n",
      "    {\n",
      "      \"date\": \"2023-02-12\",\n",
      "      \"value\": \"4.58\"\n",
      "    },\n",
      "    {\n",
      "      \"date\": \"2023-02-11\",\n",
      "      \"value\": \"4.58\"\n",
      "    },\n",
      "    {\n",
      "      \"date\": \"2023-02-10\",\n",
      "      \"value\": \"4.58\"\n",
      "    },\n",
      "    {\n",
      "      \"date\": \"2023-02-09\",\n",
      "      \"value\": \"4.57\"\n",
      "    },\n",
      "    {\n",
      "      \"date\": \"2023-02-08\",\n",
      "      \"value\": \"4.58\"\n",
      "    },\n",
      "    {\n",
      "      \"date\": \"2023-02-07\",\n",
      "      \"value\": \"4.58\"\n",
      "    },\n",
      "    {\n",
      "      \"date\": \"2023-02-06\",\n",
      "      \"value\": \"4.58\"\n",
      "    },\n",
      "    {\n",
      "      \"date\": \"2023-02-05\",\n",
      "      \"value\": \"4.58\"\n",
      "    },\n",
      "    {\n",
      "      \"date\": \"2023-02-04\",\n",
      "      \"value\": \"4.58\"\n",
      "    },\n",
      "    {\n",
      "      \"date\": \"2023-02-03\",\n",
      "      \"value\": \"4.58\"\n",
      "    },\n",
      "    {\n",
      "      \"date\": \"2023-02-02\",\n",
      "      \"value\": \"4.58\"\n",
      "    },\n",
      "    {\n",
      "      \"date\": \"2023-02-01\",\n",
      "      \"value\": \"4.33\"\n",
      "    },\n",
      "    {\n",
      "      \"date\": \"2023-01-31\",\n",
      "      \"value\": \"4.33\"\n",
      "    },\n",
      "    {\n",
      "      \"date\": \"2023-01-30\",\n",
      "      \"value\": \"4.33\"\n",
      "    },\n",
      "    {\n",
      "      \"date\": \"2023-01-29\",\n",
      "      \"value\": \"4.33\"\n",
      "    },\n",
      "    {\n",
      "      \"date\": \"2023-01-28\",\n",
      "      \"value\": \"4.33\"\n",
      "    },\n",
      "    {\n",
      "      \"date\": \"2023-01-27\",\n",
      "      \"value\": \"4.33\"\n",
      "    },\n",
      "    {\n",
      "      \"date\": \"2023-01-26\",\n",
      "      \"value\": \"4.33\"\n",
      "    },\n",
      "    {\n",
      "      \"date\": \"2023-01-25\",\n",
      "      \"value\": \"4.33\"\n",
      "    },\n",
      "    {\n",
      "      \"date\": \"2023-01-24\",\n",
      "      \"value\": \"4.33\"\n",
      "    },\n",
      "    {\n",
      "      \"date\": \"2023-01-23\",\n",
      "      \"value\": \"4.33\"\n",
      "    },\n",
      "    {\n",
      "      \"date\": \"2023-01-22\",\n",
      "      \"value\": \"4.33\"\n",
      "    },\n",
      "    {\n",
      "      \"date\": \"2023-01-21\",\n",
      "      \"value\": \"4.33\"\n",
      "    },\n",
      "    {\n",
      "      \"date\": \"2023-01-20\",\n",
      "      \"value\": \"4.33\"\n",
      "    },\n",
      "    {\n",
      "      \"date\": \"2023-01-19\",\n",
      "      \"value\": \"4.33\"\n",
      "    },\n",
      "    {\n",
      "      \"date\": \"2023-01-18\",\n",
      "      \"value\": \"4.33\"\n",
      "    },\n",
      "    {\n",
      "      \"date\": \"2023-01-17\",\n",
      "      \"value\": \"4.33\"\n",
      "    },\n",
      "    {\n",
      "      \"date\": \"2023-01-16\",\n",
      "      \"value\": \"4.33\"\n",
      "    },\n",
      "    {\n",
      "      \"date\": \"2023-01-15\",\n",
      "      \"value\": \"4.33\"\n",
      "    },\n",
      "    {\n",
      "      \"date\": \"2023-01-14\",\n",
      "      \"value\": \"4.33\"\n",
      "    },\n",
      "    {\n",
      "      \"date\": \"2023-01-13\",\n",
      "      \"value\": \"4.33\"\n",
      "    },\n",
      "    {\n",
      "      \"date\": \"2023-01-12\",\n",
      "      \"value\": \"4.33\"\n",
      "    },\n",
      "    {\n",
      "      \"date\": \"2023-01-11\",\n",
      "      \"value\": \"4.33\"\n",
      "    },\n",
      "    {\n",
      "      \"date\": \"2023-01-10\",\n",
      "      \"value\": \"4.33\"\n",
      "    },\n",
      "    {\n",
      "      \"date\": \"2023-01-09\",\n",
      "      \"value\": \"4.33\"\n",
      "    },\n",
      "    {\n",
      "      \"date\": \"2023-01-08\",\n",
      "      \"value\": \"4.33\"\n",
      "    },\n",
      "    {\n",
      "      \"date\": \"2023-01-07\",\n",
      "      \"value\": \"4.33\"\n",
      "    },\n",
      "    {\n",
      "      \"date\": \"2023-01-06\",\n",
      "      \"value\": \"4.33\"\n",
      "    },\n",
      "    {\n",
      "      \"date\": \"2023-01-05\",\n",
      "      \"value\": \"4.33\"\n",
      "    },\n",
      "    {\n",
      "      \"date\": \"2023-01-04\",\n",
      "      \"value\": \"4.33\"\n",
      "    },\n",
      "    {\n",
      "      \"date\": \"2023-01-03\",\n",
      "      \"value\": \"4.33\"\n",
      "    },\n",
      "    {\n",
      "      \"date\": \"2023-01-02\",\n",
      "      \"value\": \"4.33\"\n",
      "    },\n",
      "    {\n",
      "      \"date\": \"2023-01-01\",\n",
      "      \"value\": \"4.33\"\n",
      "    },\n",
      "    {\n",
      "      \"date\": \"2022-12-31\",\n",
      "      \"value\": \"4.33\"\n",
      "    },\n",
      "    {\n",
      "      \"date\": \"2022-12-30\",\n",
      "      \"value\": \"4.33\"\n",
      "    },\n",
      "    {\n",
      "      \"date\": \"2022-12-29\",\n",
      "      \"value\": \"4.33\"\n",
      "    },\n",
      "    {\n",
      "      \"date\": \"2022-12-28\",\n",
      "      \"value\": \"4.33\"\n",
      "    },\n",
      "    {\n",
      "      \"date\": \"2022-12-27\",\n",
      "      \"value\": \"4.33\"\n",
      "    },\n",
      "    {\n",
      "      \"date\": \"2022-12-26\",\n",
      "      \"value\": \"4.33\"\n",
      "    },\n",
      "    {\n",
      "      \"date\": \"2022-12-25\",\n",
      "      \"value\": \"4.33\"\n",
      "    },\n",
      "    {\n",
      "      \"date\": \"2022-12-24\",\n",
      "      \"value\": \"4.33\"\n",
      "    },\n",
      "    {\n",
      "      \"date\": \"2022-12-23\",\n",
      "      \"value\": \"4.33\"\n",
      "    },\n",
      "    {\n",
      "      \"date\": \"2022-12-22\",\n",
      "      \"value\": \"4.33\"\n",
      "    },\n",
      "    {\n",
      "      \"date\": \"2022-12-21\",\n",
      "      \"value\": \"4.33\"\n",
      "    },\n",
      "    {\n",
      "      \"date\": \"2022-12-20\",\n",
      "      \"value\": \"4.33\"\n",
      "    },\n",
      "    {\n",
      "      \"date\": \"2022-12-19\",\n",
      "      \"value\": \"4.33\"\n",
      "    },\n",
      "    {\n",
      "      \"date\": \"2022-12-18\",\n",
      "      \"value\": \"4.33\"\n",
      "    },\n",
      "    {\n",
      "      \"date\": \"2022-12-17\",\n",
      "      \"value\": \"4.33\"\n",
      "    },\n",
      "    {\n",
      "      \"date\": \"2022-12-16\",\n",
      "      \"value\": \"4.33\"\n",
      "    },\n",
      "    {\n",
      "      \"date\": \"2022-12-15\",\n",
      "      \"value\": \"4.33\"\n",
      "    },\n",
      "    {\n",
      "      \"date\": \"2022-12-14\",\n",
      "      \"value\": \"3.83\"\n",
      "    },\n",
      "    {\n",
      "      \"date\": \"2022-12-13\",\n",
      "      \"value\": \"3.83\"\n",
      "    },\n",
      "    {\n",
      "      \"date\": \"2022-12-12\",\n",
      "      \"value\": \"3.83\"\n",
      "    },\n",
      "    {\n",
      "      \"date\": \"2022-12-11\",\n",
      "      \"value\": \"3.83\"\n",
      "    },\n",
      "    {\n",
      "      \"date\": \"2022-12-10\",\n",
      "      \"value\": \"3.83\"\n",
      "    },\n",
      "    {\n",
      "      \"date\": \"2022-12-09\",\n",
      "      \"value\": \"3.83\"\n",
      "    },\n",
      "    {\n",
      "      \"date\": \"2022-12-08\",\n",
      "      \"value\": \"3.83\"\n",
      "    },\n",
      "    {\n",
      "      \"date\": \"2022-12-07\",\n",
      "      \"value\": \"3.83\"\n",
      "    },\n",
      "    {\n",
      "      \"date\": \"2022-12-06\",\n",
      "      \"value\": \"3.83\"\n",
      "    },\n",
      "    {\n",
      "      \"date\": \"2022-12-05\",\n",
      "      \"value\": \"3.83\"\n",
      "    },\n",
      "    {\n",
      "      \"date\": \"2022-12-04\",\n",
      "      \"value\": \"3.83\"\n",
      "    },\n",
      "    {\n",
      "      \"date\": \"2022-12-03\",\n",
      "      \"value\": \"3.83\"\n",
      "    },\n",
      "    {\n",
      "      \"date\": \"2022-12-02\",\n",
      "      \"value\": \"3.83\"\n",
      "    },\n",
      "    {\n",
      "      \"date\": \"2022-12-01\",\n",
      "      \"value\": \"3.83\"\n",
      "    },\n",
      "    {\n",
      "      \"date\": \"2022-11-30\",\n",
      "      \"value\": \"3.83\"\n",
      "    },\n",
      "    {\n",
      "      \"date\": \"2022-11-29\",\n",
      "      \"value\": \"3.83\"\n",
      "    },\n",
      "    {\n",
      "      \"date\": \"2022-11-28\",\n",
      "      \"value\": \"3.83\"\n",
      "    },\n",
      "    {\n",
      "      \"date\": \"2022-11-27\",\n",
      "      \"value\": \"3.83\"\n",
      "    },\n",
      "    {\n",
      "      \"date\": \"2022-11-26\",\n",
      "      \"value\": \"3.83\"\n",
      "    },\n",
      "    {\n",
      "      \"date\": \"2022-11-25\",\n",
      "      \"value\": \"3.83\"\n",
      "    },\n",
      "    {\n",
      "      \"date\": \"2022-11-24\",\n",
      "      \"value\": \"3.83\"\n",
      "    },\n",
      "    {\n",
      "      \"date\": \"2022-11-23\",\n",
      "      \"value\": \"3.83\"\n",
      "    },\n",
      "    {\n",
      "      \"date\": \"2022-11-22\",\n",
      "      \"value\": \"3.83\"\n",
      "    },\n",
      "    {\n",
      "      \"date\": \"2022-11-21\",\n",
      "      \"value\": \"3.83\"\n",
      "    },\n",
      "    {\n",
      "      \"date\": \"2022-11-20\",\n",
      "      \"value\": \"3.83\"\n",
      "    },\n",
      "    {\n",
      "      \"date\": \"2022-11-19\",\n",
      "      \"value\": \"3.83\"\n",
      "    },\n",
      "    {\n",
      "      \"date\": \"2022-11-18\",\n",
      "      \"value\": \"3.83\"\n",
      "    },\n",
      "    {\n",
      "      \"date\": \"2022-11-17\",\n",
      "      \"value\": \"3.83\"\n",
      "    },\n",
      "    {\n",
      "      \"date\": \"2022-11-16\",\n",
      "      \"value\": \"3.83\"\n",
      "    },\n",
      "    {\n",
      "      \"date\": \"2022-11-15\",\n",
      "      \"value\": \"3.83\"\n",
      "    },\n",
      "    {\n",
      "      \"date\": \"2022-11-14\",\n",
      "      \"value\": \"3.83\"\n",
      "    },\n",
      "    {\n",
      "      \"date\": \"2022-11-13\",\n",
      "      \"value\": \"3.83\"\n",
      "    },\n",
      "    {\n",
      "      \"date\": \"2022-11-12\",\n",
      "      \"value\": \"3.83\"\n",
      "    },\n",
      "    {\n",
      "      \"date\": \"2022-11-11\",\n",
      "      \"value\": \"3.83\"\n",
      "    },\n",
      "    {\n",
      "      \"date\": \"2022-11-10\",\n",
      "      \"value\": \"3.83\"\n",
      "    },\n",
      "    {\n",
      "      \"date\": \"2022-11-09\",\n",
      "      \"value\": \"3.83\"\n",
      "    },\n",
      "    {\n",
      "      \"date\": \"2022-11-08\",\n",
      "      \"value\": \"3.83\"\n",
      "    },\n",
      "    {\n",
      "      \"date\": \"2022-11-07\",\n",
      "      \"value\": \"3.83\"\n",
      "    },\n",
      "    {\n",
      "      \"date\": \"2022-11-06\",\n",
      "      \"value\": \"3.83\"\n",
      "    },\n",
      "    {\n",
      "      \"date\": \"2022-11-05\",\n",
      "      \"value\": \"3.83\"\n",
      "    },\n",
      "    {\n",
      "      \"date\": \"2022-11-04\",\n",
      "      \"value\": \"3.83\"\n",
      "    },\n",
      "    {\n",
      "      \"date\": \"2022-11-03\",\n",
      "      \"value\": \"3.83\"\n",
      "    },\n",
      "    {\n",
      "      \"date\": \"2022-11-02\",\n",
      "      \"value\": \"3.08\"\n",
      "    },\n",
      "    {\n",
      "      \"date\": \"2022-11-01\",\n",
      "      \"value\": \"3.08\"\n",
      "    },\n",
      "    {\n",
      "      \"date\": \"2022-10-31\",\n",
      "      \"value\": \"3.08\"\n",
      "    },\n",
      "    {\n",
      "      \"date\": \"2022-10-30\",\n",
      "      \"value\": \"3.08\"\n",
      "    },\n",
      "    {\n",
      "      \"date\": \"2022-10-29\",\n",
      "      \"value\": \"3.08\"\n",
      "    },\n",
      "    {\n",
      "      \"date\": \"2022-10-28\",\n",
      "      \"value\": \"3.08\"\n",
      "    },\n",
      "    {\n",
      "      \"date\": \"2022-10-27\",\n",
      "      \"value\": \"3.08\"\n",
      "    },\n",
      "    {\n",
      "      \"date\": \"2022-10-26\",\n",
      "      \"value\": \"3.08\"\n",
      "    },\n",
      "    {\n",
      "      \"date\": \"2022-10-25\",\n",
      "      \"value\": \"3.08\"\n",
      "    },\n",
      "    {\n",
      "      \"date\": \"2022-10-24\",\n",
      "      \"value\": \"3.08\"\n",
      "    },\n",
      "    {\n",
      "      \"date\": \"2022-10-23\",\n",
      "      \"value\": \"3.08\"\n",
      "    },\n",
      "    {\n",
      "      \"date\": \"2022-10-22\",\n",
      "      \"value\": \"3.08\"\n",
      "    },\n",
      "    {\n",
      "      \"date\": \"2022-10-21\",\n",
      "      \"value\": \"3.08\"\n",
      "    },\n",
      "    {\n",
      "      \"date\": \"2022-10-20\",\n",
      "      \"value\": \"3.08\"\n",
      "    },\n",
      "    {\n",
      "      \"date\": \"2022-10-19\",\n",
      "      \"value\": \"3.08\"\n",
      "    },\n",
      "    {\n",
      "      \"date\": \"2022-10-18\",\n",
      "      \"value\": \"3.08\"\n",
      "    },\n",
      "    {\n",
      "      \"date\": \"2022-10-17\",\n",
      "      \"value\": \"3.08\"\n",
      "    },\n",
      "    {\n",
      "      \"date\": \"2022-10-16\",\n",
      "      \"value\": \"3.08\"\n",
      "    },\n",
      "    {\n",
      "      \"date\": \"2022-10-15\",\n",
      "      \"value\": \"3.08\"\n",
      "    },\n",
      "    {\n",
      "      \"date\": \"2022-10-14\",\n",
      "      \"value\": \"3.08\"\n",
      "    },\n",
      "    {\n",
      "      \"date\": \"2022-10-13\",\n",
      "      \"value\": \"3.08\"\n",
      "    },\n",
      "    {\n",
      "      \"date\": \"2022-10-12\",\n",
      "      \"value\": \"3.08\"\n",
      "    },\n",
      "    {\n",
      "      \"date\": \"2022-10-11\",\n",
      "      \"value\": \"3.08\"\n",
      "    },\n",
      "    {\n",
      "      \"date\": \"2022-10-10\",\n",
      "      \"value\": \"3.08\"\n",
      "    },\n",
      "    {\n",
      "      \"date\": \"2022-10-09\",\n",
      "      \"value\": \"3.08\"\n",
      "    },\n",
      "    {\n",
      "      \"date\": \"2022-10-08\",\n",
      "      \"value\": \"3.08\"\n",
      "    },\n",
      "    {\n",
      "      \"date\": \"2022-10-07\",\n",
      "      \"value\": \"3.08\"\n",
      "    },\n",
      "    {\n",
      "      \"date\": \"2022-10-06\",\n",
      "      \"value\": \"3.08\"\n",
      "    },\n",
      "    {\n",
      "      \"date\": \"2022-10-05\",\n",
      "      \"value\": \"3.08\"\n",
      "    },\n",
      "    {\n",
      "      \"date\": \"2022-10-04\",\n",
      "      \"value\": \"3.08\"\n",
      "    },\n",
      "    {\n",
      "      \"date\": \"2022-10-03\",\n",
      "      \"value\": \"3.08\"\n",
      "    },\n",
      "    {\n",
      "      \"date\": \"2022-10-02\",\n",
      "      \"value\": \"3.08\"\n",
      "    },\n",
      "    {\n",
      "      \"date\": \"2022-10-01\",\n",
      "      \"value\": \"3.08\"\n",
      "    },\n",
      "    {\n",
      "      \"date\": \"2022-09-30\",\n",
      "      \"value\": \"3.08\"\n",
      "    },\n",
      "    {\n",
      "      \"date\": \"2022-09-29\",\n",
      "      \"value\": \"3.08\"\n",
      "    },\n",
      "    {\n",
      "      \"date\": \"2022-09-28\",\n",
      "      \"value\": \"3.08\"\n",
      "    },\n",
      "    {\n",
      "      \"date\": \"2022-09-27\",\n",
      "      \"value\": \"3.08\"\n",
      "    },\n",
      "    {\n",
      "      \"date\": \"2022-09-26\",\n",
      "      \"value\": \"3.08\"\n",
      "    },\n",
      "    {\n",
      "      \"date\": \"2022-09-25\",\n",
      "      \"value\": \"3.08\"\n",
      "    },\n",
      "    {\n",
      "      \"date\": \"2022-09-24\",\n",
      "      \"value\": \"3.08\"\n",
      "    },\n",
      "    {\n",
      "      \"date\": \"2022-09-23\",\n",
      "      \"value\": \"3.08\"\n",
      "    },\n",
      "    {\n",
      "      \"date\": \"2022-09-22\",\n",
      "      \"value\": \"3.08\"\n",
      "    },\n",
      "    {\n",
      "      \"date\": \"2022-09-21\",\n",
      "      \"value\": \"2.33\"\n",
      "    },\n",
      "    {\n",
      "      \"date\": \"2022-09-20\",\n",
      "      \"value\": \"2.33\"\n",
      "    },\n",
      "    {\n",
      "      \"date\": \"2022-09-19\",\n",
      "      \"value\": \"2.33\"\n",
      "    },\n",
      "    {\n",
      "      \"date\": \"2022-09-18\",\n",
      "      \"value\": \"2.33\"\n",
      "    },\n",
      "    {\n",
      "      \"date\": \"2022-09-17\",\n",
      "      \"value\": \"2.33\"\n",
      "    },\n",
      "    {\n",
      "      \"date\": \"2022-09-16\",\n",
      "      \"value\": \"2.33\"\n",
      "    },\n",
      "    {\n",
      "      \"date\": \"2022-09-15\",\n",
      "      \"value\": \"2.33\"\n",
      "    },\n",
      "    {\n",
      "      \"date\": \"2022-09-14\",\n",
      "      \"value\": \"2.33\"\n",
      "    },\n",
      "    {\n",
      "      \"date\": \"2022-09-13\",\n",
      "      \"value\": \"2.33\"\n",
      "    },\n",
      "    {\n",
      "      \"date\": \"2022-09-12\",\n",
      "      \"value\": \"2.33\"\n",
      "    },\n",
      "    {\n",
      "      \"date\": \"2022-09-11\",\n",
      "      \"value\": \"2.33\"\n",
      "    },\n",
      "    {\n",
      "      \"date\": \"2022-09-10\",\n",
      "      \"value\": \"2.33\"\n",
      "    },\n",
      "    {\n",
      "      \"date\": \"2022-09-09\",\n",
      "      \"value\": \"2.33\"\n",
      "    },\n",
      "    {\n",
      "      \"date\": \"2022-09-08\",\n",
      "      \"value\": \"2.33\"\n",
      "    },\n",
      "    {\n",
      "      \"date\": \"2022-09-07\",\n",
      "      \"value\": \"2.33\"\n",
      "    },\n",
      "    {\n",
      "      \"date\": \"2022-09-06\",\n",
      "      \"value\": \"2.33\"\n",
      "    },\n",
      "    {\n",
      "      \"date\": \"2022-09-05\",\n",
      "      \"value\": \"2.33\"\n",
      "    },\n",
      "    {\n",
      "      \"date\": \"2022-09-04\",\n",
      "      \"value\": \"2.33\"\n",
      "    },\n",
      "    {\n",
      "      \"date\": \"2022-09-03\",\n",
      "      \"value\": \"2.33\"\n",
      "    },\n",
      "    {\n",
      "      \"date\": \"2022-09-02\",\n",
      "      \"value\": \"2.33\"\n",
      "    },\n",
      "    {\n",
      "      \"date\": \"2022-09-01\",\n",
      "      \"value\": \"2.33\"\n",
      "    },\n",
      "    {\n",
      "      \"date\": \"2022-08-31\",\n",
      "      \"value\": \"2.33\"\n",
      "    },\n",
      "    {\n",
      "      \"date\": \"2022-08-30\",\n",
      "      \"value\": \"2.33\"\n",
      "    },\n",
      "    {\n",
      "      \"date\": \"2022-08-29\",\n",
      "      \"value\": \"2.33\"\n",
      "    },\n",
      "    {\n",
      "      \"date\": \"2022-08-28\",\n",
      "      \"value\": \"2.33\"\n",
      "    },\n",
      "    {\n",
      "      \"date\": \"2022-08-27\",\n",
      "      \"value\": \"2.33\"\n",
      "    },\n",
      "    {\n",
      "      \"date\": \"2022-08-26\",\n",
      "      \"value\": \"2.33\"\n",
      "    },\n",
      "    {\n",
      "      \"date\": \"2022-08-25\",\n",
      "      \"value\": \"2.33\"\n",
      "    },\n",
      "    {\n",
      "      \"date\": \"2022-08-24\",\n",
      "      \"value\": \"2.33\"\n",
      "    },\n",
      "    {\n",
      "      \"date\": \"2022-08-23\",\n",
      "      \"value\": \"2.33\"\n",
      "    },\n",
      "    {\n",
      "      \"date\": \"2022-08-22\",\n",
      "      \"value\": \"2.33\"\n",
      "    },\n",
      "    {\n",
      "      \"date\": \"2022-08-21\",\n",
      "      \"value\": \"2.33\"\n",
      "    },\n",
      "    {\n",
      "      \"date\": \"2022-08-20\",\n",
      "      \"value\": \"2.33\"\n",
      "    },\n",
      "    {\n",
      "      \"date\": \"2022-08-19\",\n",
      "      \"value\": \"2.33\"\n",
      "    },\n",
      "    {\n",
      "      \"date\": \"2022-08-18\",\n",
      "      \"value\": \"2.33\"\n",
      "    },\n",
      "    {\n",
      "      \"date\": \"2022-08-17\",\n",
      "      \"value\": \"2.33\"\n",
      "    },\n",
      "    {\n",
      "      \"date\": \"2022-08-16\",\n",
      "      \"value\": \"2.33\"\n",
      "    },\n",
      "    {\n",
      "      \"date\": \"2022-08-15\",\n",
      "      \"value\": \"2.33\"\n",
      "    },\n",
      "    {\n",
      "      \"date\": \"2022-08-14\",\n",
      "      \"value\": \"2.33\"\n",
      "    },\n",
      "    {\n",
      "      \"date\": \"2022-08-13\",\n",
      "      \"value\": \"2.33\"\n",
      "    },\n",
      "    {\n",
      "      \"date\": \"2022-08-12\",\n",
      "      \"value\": \"2.33\"\n",
      "    },\n",
      "    {\n",
      "      \"date\": \"2022-08-11\",\n",
      "      \"value\": \"2.33\"\n",
      "    },\n",
      "    {\n",
      "      \"date\": \"2022-08-10\",\n",
      "      \"value\": \"2.33\"\n",
      "    },\n",
      "    {\n",
      "      \"date\": \"2022-08-09\",\n",
      "      \"value\": \"2.33\"\n",
      "    },\n",
      "    {\n",
      "      \"date\": \"2022-08-08\",\n",
      "      \"value\": \"2.33\"\n",
      "    },\n",
      "    {\n",
      "      \"date\": \"2022-08-07\",\n",
      "      \"value\": \"2.33\"\n",
      "    },\n",
      "    {\n",
      "      \"date\": \"2022-08-06\",\n",
      "      \"value\": \"2.33\"\n",
      "    },\n",
      "    {\n",
      "      \"date\": \"2022-08-05\",\n",
      "      \"value\": \"2.33\"\n",
      "    },\n",
      "    {\n",
      "      \"date\": \"2022-08-04\",\n",
      "      \"value\": \"2.33\"\n",
      "    },\n",
      "    {\n",
      "      \"date\": \"2022-08-03\",\n",
      "      \"value\": \"2.33\"\n",
      "    },\n",
      "    {\n",
      "      \"date\": \"2022-08-02\",\n",
      "      \"value\": \"2.33\"\n",
      "    },\n",
      "    {\n",
      "      \"date\": \"2022-08-01\",\n",
      "      \"value\": \"2.33\"\n",
      "    },\n",
      "    {\n",
      "      \"date\": \"2022-07-31\",\n",
      "      \"value\": \"2.32\"\n",
      "    },\n",
      "    {\n",
      "      \"date\": \"2022-07-30\",\n",
      "      \"value\": \"2.32\"\n",
      "    },\n",
      "    {\n",
      "      \"date\": \"2022-07-29\",\n",
      "      \"value\": \"2.32\"\n",
      "    },\n",
      "    {\n",
      "      \"date\": \"2022-07-28\",\n",
      "      \"value\": \"2.33\"\n",
      "    },\n",
      "    {\n",
      "      \"date\": \"2022-07-27\",\n",
      "      \"value\": \"1.58\"\n",
      "    },\n",
      "    {\n",
      "      \"date\": \"2022-07-26\",\n",
      "      \"value\": \"1.58\"\n",
      "    },\n",
      "    {\n",
      "      \"date\": \"2022-07-25\",\n",
      "      \"value\": \"1.58\"\n",
      "    },\n",
      "    {\n",
      "      \"date\": \"2022-07-24\",\n",
      "      \"value\": \"1.58\"\n",
      "    },\n",
      "    {\n",
      "      \"date\": \"2022-07-23\",\n",
      "      \"value\": \"1.58\"\n",
      "    },\n",
      "    {\n",
      "      \"date\": \"2022-07-22\",\n",
      "      \"value\": \"1.58\"\n",
      "    },\n",
      "    {\n",
      "      \"date\": \"2022-07-21\",\n",
      "      \"value\": \"1.58\"\n",
      "    },\n",
      "    {\n",
      "      \"date\": \"2022-07-20\",\n",
      "      \"value\": \"1.58\"\n",
      "    },\n",
      "    {\n",
      "      \"date\": \"2022-07-19\",\n",
      "      \"value\": \"1.58\"\n",
      "    },\n",
      "    {\n",
      "      \"date\": \"2022-07-18\",\n",
      "      \"value\": \"1.58\"\n",
      "    },\n",
      "    {\n",
      "      \"date\": \"2022-07-17\",\n",
      "      \"value\": \"1.58\"\n",
      "    },\n",
      "    {\n",
      "      \"date\": \"2022-07-16\",\n",
      "      \"value\": \"1.58\"\n",
      "    },\n",
      "    {\n",
      "      \"date\": \"2022-07-15\",\n",
      "      \"value\": \"1.58\"\n",
      "    },\n",
      "    {\n",
      "      \"date\": \"2022-07-14\",\n",
      "      \"value\": \"1.58\"\n",
      "    },\n",
      "    {\n",
      "      \"date\": \"2022-07-13\",\n",
      "      \"value\": \"1.58\"\n",
      "    },\n",
      "    {\n",
      "      \"date\": \"2022-07-12\",\n",
      "      \"value\": \"1.58\"\n",
      "    },\n",
      "    {\n",
      "      \"date\": \"2022-07-11\",\n",
      "      \"value\": \"1.58\"\n",
      "    },\n",
      "    {\n",
      "      \"date\": \"2022-07-10\",\n",
      "      \"value\": \"1.58\"\n",
      "    },\n",
      "    {\n",
      "      \"date\": \"2022-07-09\",\n",
      "      \"value\": \"1.58\"\n",
      "    },\n",
      "    {\n",
      "      \"date\": \"2022-07-08\",\n",
      "      \"value\": \"1.58\"\n",
      "    },\n",
      "    {\n",
      "      \"date\": \"2022-07-07\",\n",
      "      \"value\": \"1.58\"\n",
      "    },\n",
      "    {\n",
      "      \"date\": \"2022-07-06\",\n",
      "      \"value\": \"1.58\"\n",
      "    },\n",
      "    {\n",
      "      \"date\": \"2022-07-05\",\n",
      "      \"value\": \"1.58\"\n",
      "    },\n",
      "    {\n",
      "      \"date\": \"2022-07-04\",\n",
      "      \"value\": \"1.58\"\n",
      "    },\n",
      "    {\n",
      "      \"date\": \"2022-07-03\",\n",
      "      \"value\": \"1.58\"\n",
      "    },\n",
      "    {\n",
      "      \"date\": \"2022-07-02\",\n",
      "      \"value\": \"1.58\"\n",
      "    },\n",
      "    {\n",
      "      \"date\": \"2022-07-01\",\n",
      "      \"value\": \"1.58\"\n",
      "    },\n",
      "    {\n",
      "      \"date\": \"2022-06-30\",\n",
      "      \"value\": \"1.58\"\n",
      "    },\n",
      "    {\n",
      "      \"date\": \"2022-06-29\",\n",
      "      \"value\": \"1.58\"\n",
      "    },\n",
      "    {\n",
      "      \"date\": \"2022-06-28\",\n",
      "      \"value\": \"1.58\"\n",
      "    },\n",
      "    {\n",
      "      \"date\": \"2022-06-27\",\n",
      "      \"value\": \"1.58\"\n",
      "    },\n",
      "    {\n",
      "      \"date\": \"2022-06-26\",\n",
      "      \"value\": \"1.58\"\n",
      "    },\n",
      "    {\n",
      "      \"date\": \"2022-06-25\",\n",
      "      \"value\": \"1.58\"\n",
      "    },\n",
      "    {\n",
      "      \"date\": \"2022-06-24\",\n",
      "      \"value\": \"1.58\"\n",
      "    },\n",
      "    {\n",
      "      \"date\": \"2022-06-23\",\n",
      "      \"value\": \"1.58\"\n",
      "    },\n",
      "    {\n",
      "      \"date\": \"2022-06-22\",\n",
      "      \"value\": \"1.58\"\n",
      "    },\n",
      "    {\n",
      "      \"date\": \"2022-06-21\",\n",
      "      \"value\": \"1.58\"\n",
      "    },\n",
      "    {\n",
      "      \"date\": \"2022-06-20\",\n",
      "      \"value\": \"1.58\"\n",
      "    },\n",
      "    {\n",
      "      \"date\": \"2022-06-19\",\n",
      "      \"value\": \"1.58\"\n",
      "    },\n",
      "    {\n",
      "      \"date\": \"2022-06-18\",\n",
      "      \"value\": \"1.58\"\n",
      "    },\n",
      "    {\n",
      "      \"date\": \"2022-06-17\",\n",
      "      \"value\": \"1.58\"\n",
      "    },\n",
      "    {\n",
      "      \"date\": \"2022-06-16\",\n",
      "      \"value\": \"1.58\"\n",
      "    },\n",
      "    {\n",
      "      \"date\": \"2022-06-15\",\n",
      "      \"value\": \"0.83\"\n",
      "    },\n",
      "    {\n",
      "      \"date\": \"2022-06-14\",\n",
      "      \"value\": \"0.83\"\n",
      "    },\n",
      "    {\n",
      "      \"date\": \"2022-06-13\",\n",
      "      \"value\": \"0.83\"\n",
      "    },\n",
      "    {\n",
      "      \"date\": \"2022-06-12\",\n",
      "      \"value\": \"0.83\"\n",
      "    },\n",
      "    {\n",
      "      \"date\": \"2022-06-11\",\n",
      "      \"value\": \"0.83\"\n",
      "    },\n",
      "    {\n",
      "      \"date\": \"2022-06-10\",\n",
      "      \"value\": \"0.83\"\n",
      "    },\n",
      "    {\n",
      "      \"date\": \"2022-06-09\",\n",
      "      \"value\": \"0.83\"\n",
      "    },\n",
      "    {\n",
      "      \"date\": \"2022-06-08\",\n",
      "      \"value\": \"0.83\"\n",
      "    },\n",
      "    {\n",
      "      \"date\": \"2022-06-07\",\n",
      "      \"value\": \"0.83\"\n",
      "    },\n",
      "    {\n",
      "      \"date\": \"2022-06-06\",\n",
      "      \"value\": \"0.83\"\n",
      "    },\n",
      "    {\n",
      "      \"date\": \"2022-06-05\",\n",
      "      \"value\": \"0.83\"\n",
      "    },\n",
      "    {\n",
      "      \"date\": \"2022-06-04\",\n",
      "      \"value\": \"0.83\"\n",
      "    },\n",
      "    {\n",
      "      \"date\": \"2022-06-03\",\n",
      "      \"value\": \"0.83\"\n",
      "    },\n",
      "    {\n",
      "      \"date\": \"2022-06-02\",\n",
      "      \"value\": \"0.83\"\n",
      "    },\n",
      "    {\n",
      "      \"date\": \"2022-06-01\",\n",
      "      \"value\": \"0.83\"\n",
      "    },\n",
      "    {\n",
      "      \"date\": \"2022-05-31\",\n",
      "      \"value\": \"0.83\"\n",
      "    },\n",
      "    {\n",
      "      \"date\": \"2022-05-30\",\n",
      "      \"value\": \"0.83\"\n",
      "    },\n",
      "    {\n",
      "      \"date\": \"2022-05-29\",\n",
      "      \"value\": \"0.83\"\n",
      "    },\n",
      "    {\n",
      "      \"date\": \"2022-05-28\",\n",
      "      \"value\": \"0.83\"\n",
      "    },\n",
      "    {\n",
      "      \"date\": \"2022-05-27\",\n",
      "      \"value\": \"0.83\"\n",
      "    },\n",
      "    {\n",
      "      \"date\": \"2022-05-26\",\n",
      "      \"value\": \"0.83\"\n",
      "    },\n",
      "    {\n",
      "      \"date\": \"2022-05-25\",\n",
      "      \"value\": \"0.83\"\n",
      "    },\n",
      "    {\n",
      "      \"date\": \"2022-05-24\",\n",
      "      \"value\": \"0.83\"\n",
      "    },\n",
      "    {\n",
      "      \"date\": \"2022-05-23\",\n",
      "      \"value\": \"0.83\"\n",
      "    },\n",
      "    {\n",
      "      \"date\": \"2022-05-22\",\n",
      "      \"value\": \"0.83\"\n",
      "    },\n",
      "    {\n",
      "      \"date\": \"2022-05-21\",\n",
      "      \"value\": \"0.83\"\n",
      "    },\n",
      "    {\n",
      "      \"date\": \"2022-05-20\",\n",
      "      \"value\": \"0.83\"\n",
      "    },\n",
      "    {\n",
      "      \"date\": \"2022-05-19\",\n",
      "      \"value\": \"0.83\"\n",
      "    },\n",
      "    {\n",
      "      \"date\": \"2022-05-18\",\n",
      "      \"value\": \"0.83\"\n",
      "    },\n",
      "    {\n",
      "      \"date\": \"2022-05-17\",\n",
      "      \"value\": \"0.83\"\n",
      "    },\n",
      "    {\n",
      "      \"date\": \"2022-05-16\",\n",
      "      \"value\": \"0.83\"\n",
      "    },\n",
      "    {\n",
      "      \"date\": \"2022-05-15\",\n",
      "      \"value\": \"0.83\"\n",
      "    },\n",
      "    {\n",
      "      \"date\": \"2022-05-14\",\n",
      "      \"value\": \"0.83\"\n",
      "    },\n",
      "    {\n",
      "      \"date\": \"2022-05-13\",\n",
      "      \"value\": \"0.83\"\n",
      "    },\n",
      "    {\n",
      "      \"date\": \"2022-05-12\",\n",
      "      \"value\": \"0.83\"\n",
      "    },\n",
      "    {\n",
      "      \"date\": \"2022-05-11\",\n",
      "      \"value\": \"0.83\"\n",
      "    },\n",
      "    {\n",
      "      \"date\": \"2022-05-10\",\n",
      "      \"value\": \"0.83\"\n",
      "    },\n",
      "    {\n",
      "      \"date\": \"2022-05-09\",\n",
      "      \"value\": \"0.83\"\n",
      "    },\n",
      "    {\n",
      "      \"date\": \"2022-05-08\",\n",
      "      \"value\": \"0.83\"\n",
      "    },\n",
      "    {\n",
      "      \"date\": \"2022-05-07\",\n",
      "      \"value\": \"0.83\"\n",
      "    },\n",
      "    {\n",
      "      \"date\": \"2022-05-06\",\n",
      "      \"value\": \"0.83\"\n",
      "    },\n",
      "    {\n",
      "      \"date\": \"2022-05-05\",\n",
      "      \"value\": \"0.83\"\n",
      "    },\n",
      "    {\n",
      "      \"date\": \"2022-05-04\",\n",
      "      \"value\": \"0.33\"\n",
      "    },\n",
      "    {\n",
      "      \"date\": \"2022-05-03\",\n",
      "      \"value\": \"0.33\"\n",
      "    },\n",
      "    {\n",
      "      \"date\": \"2022-05-02\",\n",
      "      \"value\": \"0.33\"\n",
      "    },\n",
      "    {\n",
      "      \"date\": \"2022-05-01\",\n",
      "      \"value\": \"0.33\"\n",
      "    },\n",
      "    {\n",
      "      \"date\": \"2022-04-30\",\n",
      "      \"value\": \"0.33\"\n",
      "    },\n",
      "    {\n",
      "      \"date\": \"2022-04-29\",\n",
      "      \"value\": \"0.33\"\n",
      "    },\n",
      "    {\n",
      "      \"date\": \"2022-04-28\",\n",
      "      \"value\": \"0.33\"\n",
      "    },\n",
      "    {\n",
      "      \"date\": \"2022-04-27\",\n",
      "      \"value\": \"0.33\"\n",
      "    },\n",
      "    {\n",
      "      \"date\": \"2022-04-26\",\n",
      "      \"value\": \"0.33\"\n",
      "    },\n",
      "    {\n",
      "      \"date\": \"2022-04-25\",\n",
      "      \"value\": \"0.33\"\n",
      "    },\n",
      "    {\n",
      "      \"date\": \"2022-04-24\",\n",
      "      \"value\": \"0.33\"\n",
      "    },\n",
      "    {\n",
      "      \"date\": \"2022-04-23\",\n",
      "      \"value\": \"0.33\"\n",
      "    },\n",
      "    {\n",
      "      \"date\": \"2022-04-22\",\n",
      "      \"value\": \"0.33\"\n",
      "    },\n",
      "    {\n",
      "      \"date\": \"2022-04-21\",\n",
      "      \"value\": \"0.33\"\n",
      "    },\n",
      "    {\n",
      "      \"date\": \"2022-04-20\",\n",
      "      \"value\": \"0.33\"\n",
      "    },\n",
      "    {\n",
      "      \"date\": \"2022-04-19\",\n",
      "      \"value\": \"0.33\"\n",
      "    },\n",
      "    {\n",
      "      \"date\": \"2022-04-18\",\n",
      "      \"value\": \"0.33\"\n",
      "    },\n",
      "    {\n",
      "      \"date\": \"2022-04-17\",\n",
      "      \"value\": \"0.33\"\n",
      "    },\n",
      "    {\n",
      "      \"date\": \"2022-04-16\",\n",
      "      \"value\": \"0.33\"\n",
      "    },\n",
      "    {\n",
      "      \"date\": \"2022-04-15\",\n",
      "      \"value\": \"0.33\"\n",
      "    },\n",
      "    {\n",
      "      \"date\": \"2022-04-14\",\n",
      "      \"value\": \"0.33\"\n",
      "    },\n",
      "    {\n",
      "      \"date\": \"2022-04-13\",\n",
      "      \"value\": \"0.33\"\n",
      "    },\n",
      "    {\n",
      "      \"date\": \"2022-04-12\",\n",
      "      \"value\": \"0.33\"\n",
      "    },\n",
      "    {\n",
      "      \"date\": \"2022-04-11\",\n",
      "      \"value\": \"0.33\"\n",
      "    },\n",
      "    {\n",
      "      \"date\": \"2022-04-10\",\n",
      "      \"value\": \"0.33\"\n",
      "    },\n",
      "    {\n",
      "      \"date\": \"2022-04-09\",\n",
      "      \"value\": \"0.33\"\n",
      "    },\n",
      "    {\n",
      "      \"date\": \"2022-04-08\",\n",
      "      \"value\": \"0.33\"\n",
      "    },\n",
      "    {\n",
      "      \"date\": \"2022-04-07\",\n",
      "      \"value\": \"0.33\"\n",
      "    },\n",
      "    {\n",
      "      \"date\": \"2022-04-06\",\n",
      "      \"value\": \"0.33\"\n",
      "    },\n",
      "    {\n",
      "      \"date\": \"2022-04-05\",\n",
      "      \"value\": \"0.33\"\n",
      "    },\n",
      "    {\n",
      "      \"date\": \"2022-04-04\",\n",
      "      \"value\": \"0.33\"\n",
      "    },\n",
      "    {\n",
      "      \"date\": \"2022-04-03\",\n",
      "      \"value\": \"0.33\"\n",
      "    },\n",
      "    {\n",
      "      \"date\": \"2022-04-02\",\n",
      "      \"value\": \"0.33\"\n",
      "    },\n",
      "    {\n",
      "      \"date\": \"2022-04-01\",\n",
      "      \"value\": \"0.33\"\n",
      "    },\n",
      "    {\n",
      "      \"date\": \"2022-03-31\",\n",
      "      \"value\": \"0.33\"\n",
      "    },\n",
      "    {\n",
      "      \"date\": \"2022-03-30\",\n",
      "      \"value\": \"0.33\"\n",
      "    },\n",
      "    {\n",
      "      \"date\": \"2022-03-29\",\n",
      "      \"value\": \"0.33\"\n",
      "    },\n",
      "    {\n",
      "      \"date\": \"2022-03-28\",\n",
      "      \"value\": \"0.33\"\n",
      "    },\n",
      "    {\n",
      "      \"date\": \"2022-03-27\",\n",
      "      \"value\": \"0.33\"\n",
      "    },\n",
      "    {\n",
      "      \"date\": \"2022-03-26\",\n",
      "      \"value\": \"0.33\"\n",
      "    },\n",
      "    {\n",
      "      \"date\": \"2022-03-25\",\n",
      "      \"value\": \"0.33\"\n",
      "    },\n",
      "    {\n",
      "      \"date\": \"2022-03-24\",\n",
      "      \"value\": \"0.33\"\n",
      "    },\n",
      "    {\n",
      "      \"date\": \"2022-03-23\",\n",
      "      \"value\": \"0.33\"\n",
      "    },\n",
      "    {\n",
      "      \"date\": \"2022-03-22\",\n",
      "      \"value\": \"0.33\"\n",
      "    },\n",
      "    {\n",
      "      \"date\": \"2022-03-21\",\n",
      "      \"value\": \"0.33\"\n",
      "    },\n",
      "    {\n",
      "      \"date\": \"2022-03-20\",\n",
      "      \"value\": \"0.33\"\n",
      "    },\n",
      "    {\n",
      "      \"date\": \"2022-03-19\",\n",
      "      \"value\": \"0.33\"\n",
      "    },\n",
      "    {\n",
      "      \"date\": \"2022-03-18\",\n",
      "      \"value\": \"0.33\"\n",
      "    },\n",
      "    {\n",
      "      \"date\": \"2022-03-17\",\n",
      "      \"value\": \"0.33\"\n",
      "    },\n",
      "    {\n",
      "      \"date\": \"2022-03-16\",\n",
      "      \"value\": \"0.08\"\n",
      "    },\n",
      "    {\n",
      "      \"date\": \"2022-03-15\",\n",
      "      \"value\": \"0.08\"\n",
      "    },\n",
      "    {\n",
      "      \"date\": \"2022-03-14\",\n",
      "      \"value\": \"0.08\"\n",
      "    },\n",
      "    {\n",
      "      \"date\": \"2022-03-13\",\n",
      "      \"value\": \"0.08\"\n",
      "    },\n",
      "    {\n",
      "      \"date\": \"2022-03-12\",\n",
      "      \"value\": \"0.08\"\n",
      "    },\n",
      "    {\n",
      "      \"date\": \"2022-03-11\",\n",
      "      \"value\": \"0.08\"\n",
      "    },\n",
      "    {\n",
      "      \"date\": \"2022-03-10\",\n",
      "      \"value\": \"0.08\"\n",
      "    },\n",
      "    {\n",
      "      \"date\": \"2022-03-09\",\n",
      "      \"value\": \"0.08\"\n",
      "    },\n",
      "    {\n",
      "      \"date\": \"2022-03-08\",\n",
      "      \"value\": \"0.08\"\n",
      "    },\n",
      "    {\n",
      "      \"date\": \"2022-03-07\",\n",
      "      \"value\": \"0.08\"\n",
      "    },\n",
      "    {\n",
      "      \"date\": \"2022-03-06\",\n",
      "      \"value\": \"0.08\"\n",
      "    },\n",
      "    {\n",
      "      \"date\": \"2022-03-05\",\n",
      "      \"value\": \"0.08\"\n",
      "    },\n",
      "    {\n",
      "      \"date\": \"2022-03-04\",\n",
      "      \"value\": \"0.08\"\n",
      "    },\n",
      "    {\n",
      "      \"date\": \"2022-03-03\",\n",
      "      \"value\": \"0.08\"\n",
      "    },\n",
      "    {\n",
      "      \"date\": \"2022-03-02\",\n",
      "      \"value\": \"0.08\"\n",
      "    },\n",
      "    {\n",
      "      \"date\": \"2022-03-01\",\n",
      "      \"value\": \"0.08\"\n",
      "    },\n",
      "    {\n",
      "      \"date\": \"2022-02-28\",\n",
      "      \"value\": \"0.08\"\n",
      "    },\n",
      "    {\n",
      "      \"date\": \"2022-02-27\",\n",
      "      \"value\": \"0.08\"\n",
      "    },\n",
      "    {\n",
      "      \"date\": \"2022-02-26\",\n",
      "      \"value\": \"0.08\"\n",
      "    },\n",
      "    {\n",
      "      \"date\": \"2022-02-25\",\n",
      "      \"value\": \"0.08\"\n",
      "    },\n",
      "    {\n",
      "      \"date\": \"2022-02-24\",\n",
      "      \"value\": \"0.08\"\n",
      "    },\n",
      "    {\n",
      "      \"date\": \"2022-02-23\",\n",
      "      \"value\": \"0.08\"\n",
      "    },\n",
      "    {\n",
      "      \"date\": \"2022-02-22\",\n",
      "      \"value\": \"0.08\"\n",
      "    },\n",
      "    {\n",
      "      \"date\": \"2022-02-21\",\n",
      "      \"value\": \"0.08\"\n",
      "    },\n",
      "    {\n",
      "      \"date\": \"2022-02-20\",\n",
      "      \"value\": \"0.08\"\n",
      "    },\n",
      "    {\n",
      "      \"date\": \"2022-02-19\",\n",
      "      \"value\": \"0.08\"\n",
      "    },\n",
      "    {\n",
      "      \"date\": \"2022-02-18\",\n",
      "      \"value\": \"0.08\"\n",
      "    },\n",
      "    {\n",
      "      \"date\": \"2022-02-17\",\n",
      "      \"value\": \"0.08\"\n",
      "    },\n",
      "    {\n",
      "      \"date\": \"2022-02-16\",\n",
      "      \"value\": \"0.08\"\n",
      "    },\n",
      "    {\n",
      "      \"date\": \"2022-02-15\",\n",
      "      \"value\": \"0.08\"\n",
      "    },\n",
      "    {\n",
      "      \"date\": \"2022-02-14\",\n",
      "      \"value\": \"0.08\"\n",
      "    },\n",
      "    {\n",
      "      \"date\": \"2022-02-13\",\n",
      "      \"value\": \"0.08\"\n",
      "    },\n",
      "    {\n",
      "      \"date\": \"2022-02-12\",\n",
      "      \"value\": \"0.08\"\n",
      "    },\n",
      "    {\n",
      "      \"date\": \"2022-02-11\",\n",
      "      \"value\": \"0.08\"\n",
      "    },\n",
      "    {\n",
      "      \"date\": \"2022-02-10\",\n",
      "      \"value\": \"0.08\"\n",
      "    },\n",
      "    {\n",
      "      \"date\": \"2022-02-09\",\n",
      "      \"value\": \"0.08\"\n",
      "    },\n",
      "    {\n",
      "      \"date\": \"2022-02-08\",\n",
      "      \"value\": \"0.08\"\n",
      "    },\n",
      "    {\n",
      "      \"date\": \"2022-02-07\",\n",
      "      \"value\": \"0.08\"\n",
      "    },\n",
      "    {\n",
      "      \"date\": \"2022-02-06\",\n",
      "      \"value\": \"0.08\"\n",
      "    },\n",
      "    {\n",
      "      \"date\": \"2022-02-05\",\n",
      "      \"value\": \"0.08\"\n",
      "    },\n",
      "    {\n",
      "      \"date\": \"2022-02-04\",\n",
      "      \"value\": \"0.08\"\n",
      "    },\n",
      "    {\n",
      "      \"date\": \"2022-02-03\",\n",
      "      \"value\": \"0.08\"\n",
      "    },\n",
      "    {\n",
      "      \"date\": \"2022-02-02\",\n",
      "      \"value\": \"0.08\"\n",
      "    },\n",
      "    {\n",
      "      \"date\": \"2022-02-01\",\n",
      "      \"value\": \"0.08\"\n",
      "    },\n",
      "    {\n",
      "      \"date\": \"2022-01-31\",\n",
      "      \"value\": \"0.08\"\n",
      "    },\n",
      "    {\n",
      "      \"date\": \"2022-01-30\",\n",
      "      \"value\": \"0.08\"\n",
      "    },\n",
      "    {\n",
      "      \"date\": \"2022-01-29\",\n",
      "      \"value\": \"0.08\"\n",
      "    },\n",
      "    {\n",
      "      \"date\": \"2022-01-28\",\n",
      "      \"value\": \"0.08\"\n",
      "    },\n",
      "    {\n",
      "      \"date\": \"2022-01-27\",\n",
      "      \"value\": \"0.08\"\n",
      "    },\n",
      "    {\n",
      "      \"date\": \"2022-01-26\",\n",
      "      \"value\": \"0.08\"\n",
      "    },\n",
      "    {\n",
      "      \"date\": \"2022-01-25\",\n",
      "      \"value\": \"0.08\"\n",
      "    },\n",
      "    {\n",
      "      \"date\": \"2022-01-24\",\n",
      "      \"value\": \"0.08\"\n",
      "    },\n",
      "    {\n",
      "      \"date\": \"2022-01-23\",\n",
      "      \"value\": \"0.08\"\n",
      "    },\n",
      "    {\n",
      "      \"date\": \"2022-01-22\",\n",
      "      \"value\": \"0.08\"\n",
      "    },\n",
      "    {\n",
      "      \"date\": \"2022-01-21\",\n",
      "      \"value\": \"0.08\"\n",
      "    },\n",
      "    {\n",
      "      \"date\": \"2022-01-20\",\n",
      "      \"value\": \"0.08\"\n",
      "    },\n",
      "    {\n",
      "      \"date\": \"2022-01-19\",\n",
      "      \"value\": \"0.08\"\n",
      "    },\n",
      "    {\n",
      "      \"date\": \"2022-01-18\",\n",
      "      \"value\": \"0.08\"\n",
      "    },\n",
      "    {\n",
      "      \"date\": \"2022-01-17\",\n",
      "      \"value\": \"0.08\"\n",
      "    },\n",
      "    {\n",
      "      \"date\": \"2022-01-16\",\n",
      "      \"value\": \"0.08\"\n",
      "    },\n",
      "    {\n",
      "      \"date\": \"2022-01-15\",\n",
      "      \"value\": \"0.08\"\n",
      "    },\n",
      "    {\n",
      "      \"date\": \"2022-01-14\",\n",
      "      \"value\": \"0.08\"\n",
      "    },\n",
      "    {\n",
      "      \"date\": \"2022-01-13\",\n",
      "      \"value\": \"0.08\"\n",
      "    },\n",
      "    {\n",
      "      \"date\": \"2022-01-12\",\n",
      "      \"value\": \"0.08\"\n",
      "    },\n",
      "    {\n",
      "      \"date\": \"2022-01-11\",\n",
      "      \"value\": \"0.08\"\n",
      "    },\n",
      "    {\n",
      "      \"date\": \"2022-01-10\",\n",
      "      \"value\": \"0.08\"\n",
      "    },\n",
      "    {\n",
      "      \"date\": \"2022-01-09\",\n",
      "      \"value\": \"0.08\"\n",
      "    },\n",
      "    {\n",
      "      \"date\": \"2022-01-08\",\n",
      "      \"value\": \"0.08\"\n",
      "    },\n",
      "    {\n",
      "      \"date\": \"2022-01-07\",\n",
      "      \"value\": \"0.08\"\n",
      "    },\n",
      "    {\n",
      "      \"date\": \"2022-01-06\",\n",
      "      \"value\": \"0.08\"\n",
      "    },\n",
      "    {\n",
      "      \"date\": \"2022-01-05\",\n",
      "      \"value\": \"0.08\"\n",
      "    },\n",
      "    {\n",
      "      \"date\": \"2022-01-04\",\n",
      "      \"value\": \"0.08\"\n",
      "    },\n",
      "    {\n",
      "      \"date\": \"2022-01-03\",\n",
      "      \"value\": \"0.08\"\n",
      "    },\n",
      "    {\n",
      "      \"date\": \"2022-01-02\",\n",
      "      \"value\": \"0.07\"\n",
      "    },\n",
      "    {\n",
      "      \"date\": \"2022-01-01\",\n",
      "      \"value\": \"0.07\"\n",
      "    },\n",
      "    {\n",
      "      \"date\": \"2021-12-31\",\n",
      "      \"value\": \"0.07\"\n",
      "    },\n",
      "    {\n",
      "      \"date\": \"2021-12-30\",\n",
      "      \"value\": \"0.08\"\n",
      "    },\n",
      "    {\n",
      "      \"date\": \"2021-12-29\",\n",
      "      \"value\": \"0.08\"\n",
      "    },\n",
      "    {\n",
      "      \"date\": \"2021-12-28\",\n",
      "      \"value\": \"0.08\"\n",
      "    },\n",
      "    {\n",
      "      \"date\": \"2021-12-27\",\n",
      "      \"value\": \"0.08\"\n",
      "    },\n",
      "    {\n",
      "      \"date\": \"2021-12-26\",\n",
      "      \"value\": \"0.08\"\n",
      "    },\n",
      "    {\n",
      "      \"date\": \"2021-12-25\",\n",
      "      \"value\": \"0.08\"\n",
      "    },\n",
      "    {\n",
      "      \"date\": \"2021-12-24\",\n",
      "      \"value\": \"0.08\"\n",
      "    },\n",
      "    {\n",
      "      \"date\": \"2021-12-23\",\n",
      "      \"value\": \"0.08\"\n",
      "    },\n",
      "    {\n",
      "      \"date\": \"2021-12-22\",\n",
      "      \"value\": \"0.08\"\n",
      "    },\n",
      "    {\n",
      "      \"date\": \"2021-12-21\",\n",
      "      \"value\": \"0.08\"\n",
      "    },\n",
      "    {\n",
      "      \"date\": \"2021-12-20\",\n",
      "      \"value\": \"0.08\"\n",
      "    },\n",
      "    {\n",
      "      \"date\": \"2021-12-19\",\n",
      "      \"value\": \"0.08\"\n",
      "    },\n",
      "    {\n",
      "      \"date\": \"2021-12-18\",\n",
      "      \"value\": \"0.08\"\n",
      "    },\n",
      "    {\n",
      "      \"date\": \"2021-12-17\",\n",
      "      \"value\": \"0.08\"\n",
      "    },\n",
      "    {\n",
      "      \"date\": \"2021-12-16\",\n",
      "      \"value\": \"0.08\"\n",
      "    },\n",
      "    {\n",
      "      \"date\": \"2021-12-15\",\n",
      "      \"value\": \"0.08\"\n",
      "    },\n",
      "    {\n",
      "      \"date\": \"2021-12-14\",\n",
      "      \"value\": \"0.08\"\n",
      "    },\n",
      "    {\n",
      "      \"date\": \"2021-12-13\",\n",
      "      \"value\": \"0.08\"\n",
      "    },\n",
      "    {\n",
      "      \"date\": \"2021-12-12\",\n",
      "      \"value\": \"0.08\"\n",
      "    },\n",
      "    {\n",
      "      \"date\": \"2021-12-11\",\n",
      "      \"value\": \"0.08\"\n",
      "    },\n",
      "    {\n",
      "      \"date\": \"2021-12-10\",\n",
      "      \"value\": \"0.08\"\n",
      "    },\n",
      "    {\n",
      "      \"date\": \"2021-12-09\",\n",
      "      \"value\": \"0.08\"\n",
      "    },\n",
      "    {\n",
      "      \"date\": \"2021-12-08\",\n",
      "      \"value\": \"0.08\"\n",
      "    },\n",
      "    {\n",
      "      \"date\": \"2021-12-07\",\n",
      "      \"value\": \"0.08\"\n",
      "    },\n",
      "    {\n",
      "      \"date\": \"2021-12-06\",\n",
      "      \"value\": \"0.08\"\n",
      "    },\n",
      "    {\n",
      "      \"date\": \"2021-12-05\",\n",
      "      \"value\": \"0.08\"\n",
      "    },\n",
      "    {\n",
      "      \"date\": \"2021-12-04\",\n",
      "      \"value\": \"0.08\"\n",
      "    },\n",
      "    {\n",
      "      \"date\": \"2021-12-03\",\n",
      "      \"value\": \"0.08\"\n",
      "    },\n",
      "    {\n",
      "      \"date\": \"2021-12-02\",\n",
      "      \"value\": \"0.08\"\n",
      "    },\n",
      "    {\n",
      "      \"date\": \"2021-12-01\",\n",
      "      \"value\": \"0.08\"\n",
      "    },\n",
      "    {\n",
      "      \"date\": \"2021-11-30\",\n",
      "      \"value\": \"0.07\"\n",
      "    },\n",
      "    {\n",
      "      \"date\": \"2021-11-29\",\n",
      "      \"value\": \"0.08\"\n",
      "    },\n",
      "    {\n",
      "      \"date\": \"2021-11-28\",\n",
      "      \"value\": \"0.08\"\n",
      "    },\n",
      "    {\n",
      "      \"date\": \"2021-11-27\",\n",
      "      \"value\": \"0.08\"\n",
      "    },\n",
      "    {\n",
      "      \"date\": \"2021-11-26\",\n",
      "      \"value\": \"0.08\"\n",
      "    },\n",
      "    {\n",
      "      \"date\": \"2021-11-25\",\n",
      "      \"value\": \"0.08\"\n",
      "    },\n",
      "    {\n",
      "      \"date\": \"2021-11-24\",\n",
      "      \"value\": \"0.08\"\n",
      "    },\n",
      "    {\n",
      "      \"date\": \"2021-11-23\",\n",
      "      \"value\": \"0.08\"\n",
      "    },\n",
      "    {\n",
      "      \"date\": \"2021-11-22\",\n",
      "      \"value\": \"0.08\"\n",
      "    },\n",
      "    {\n",
      "      \"date\": \"2021-11-21\",\n",
      "      \"value\": \"0.08\"\n",
      "    },\n",
      "    {\n",
      "      \"date\": \"2021-11-20\",\n",
      "      \"value\": \"0.08\"\n",
      "    },\n",
      "    {\n",
      "      \"date\": \"2021-11-19\",\n",
      "      \"value\": \"0.08\"\n",
      "    },\n",
      "    {\n",
      "      \"date\": \"2021-11-18\",\n",
      "      \"value\": \"0.08\"\n",
      "    },\n",
      "    {\n",
      "      \"date\": \"2021-11-17\",\n",
      "      \"value\": \"0.08\"\n",
      "    },\n",
      "    {\n",
      "      \"date\": \"2021-11-16\",\n",
      "      \"value\": \"0.08\"\n",
      "    },\n",
      "    {\n",
      "      \"date\": \"2021-11-15\",\n",
      "      \"value\": \"0.08\"\n",
      "    },\n",
      "    {\n",
      "      \"date\": \"2021-11-14\",\n",
      "      \"value\": \"0.08\"\n",
      "    },\n",
      "    {\n",
      "      \"date\": \"2021-11-13\",\n",
      "      \"value\": \"0.08\"\n",
      "    },\n",
      "    {\n",
      "      \"date\": \"2021-11-12\",\n",
      "      \"value\": \"0.08\"\n",
      "    },\n",
      "    {\n",
      "      \"date\": \"2021-11-11\",\n",
      "      \"value\": \"0.08\"\n",
      "    },\n",
      "    {\n",
      "      \"date\": \"2021-11-10\",\n",
      "      \"value\": \"0.08\"\n",
      "    },\n",
      "    {\n",
      "      \"date\": \"2021-11-09\",\n",
      "      \"value\": \"0.08\"\n",
      "    },\n",
      "    {\n",
      "      \"date\": \"2021-11-08\",\n",
      "      \"value\": \"0.08\"\n",
      "    },\n",
      "    {\n",
      "      \"date\": \"2021-11-07\",\n",
      "      \"value\": \"0.08\"\n",
      "    },\n",
      "    {\n",
      "      \"date\": \"2021-11-06\",\n",
      "      \"value\": \"0.08\"\n",
      "    },\n",
      "    {\n",
      "      \"date\": \"2021-11-05\",\n",
      "      \"value\": \"0.08\"\n",
      "    },\n",
      "    {\n",
      "      \"date\": \"2021-11-04\",\n",
      "      \"value\": \"0.08\"\n",
      "    },\n",
      "    {\n",
      "      \"date\": \"2021-11-03\",\n",
      "      \"value\": \"0.08\"\n",
      "    },\n",
      "    {\n",
      "      \"date\": \"2021-11-02\",\n",
      "      \"value\": \"0.08\"\n",
      "    },\n",
      "    {\n",
      "      \"date\": \"2021-11-01\",\n",
      "      \"value\": \"0.08\"\n",
      "    },\n",
      "    {\n",
      "      \"date\": \"2021-10-31\",\n",
      "      \"value\": \"0.07\"\n",
      "    },\n",
      "    {\n",
      "      \"date\": \"2021-10-30\",\n",
      "      \"value\": \"0.07\"\n",
      "    },\n",
      "    {\n",
      "      \"date\": \"2021-10-29\",\n",
      "      \"value\": \"0.07\"\n",
      "    },\n",
      "    {\n",
      "      \"date\": \"2021-10-28\",\n",
      "      \"value\": \"0.08\"\n",
      "    },\n",
      "    {\n",
      "      \"date\": \"2021-10-27\",\n",
      "      \"value\": \"0.08\"\n",
      "    },\n",
      "    {\n",
      "      \"date\": \"2021-10-26\",\n",
      "      \"value\": \"0.08\"\n",
      "    },\n",
      "    {\n",
      "      \"date\": \"2021-10-25\",\n",
      "      \"value\": \"0.08\"\n",
      "    },\n",
      "    {\n",
      "      \"date\": \"2021-10-24\",\n",
      "      \"value\": \"0.08\"\n",
      "    },\n",
      "    {\n",
      "      \"date\": \"2021-10-23\",\n",
      "      \"value\": \"0.08\"\n",
      "    },\n",
      "    {\n",
      "      \"date\": \"2021-10-22\",\n",
      "      \"value\": \"0.08\"\n",
      "    },\n",
      "    {\n",
      "      \"date\": \"2021-10-21\",\n",
      "      \"value\": \"0.08\"\n",
      "    },\n",
      "    {\n",
      "      \"date\": \"2021-10-20\",\n",
      "      \"value\": \"0.08\"\n",
      "    },\n",
      "    {\n",
      "      \"date\": \"2021-10-19\",\n",
      "      \"value\": \"0.08\"\n",
      "    },\n",
      "    {\n",
      "      \"date\": \"2021-10-18\",\n",
      "      \"value\": \"0.08\"\n",
      "    },\n",
      "    {\n",
      "      \"date\": \"2021-10-17\",\n",
      "      \"value\": \"0.08\"\n",
      "    },\n",
      "    {\n",
      "      \"date\": \"2021-10-16\",\n",
      "      \"value\": \"0.08\"\n",
      "    },\n",
      "    {\n",
      "      \"date\": \"2021-10-15\",\n",
      "      \"value\": \"0.08\"\n",
      "    },\n",
      "    {\n",
      "      \"date\": \"2021-10-14\",\n",
      "      \"value\": \"0.08\"\n",
      "    },\n",
      "    {\n",
      "      \"date\": \"2021-10-13\",\n",
      "      \"value\": \"0.08\"\n",
      "    },\n",
      "    {\n",
      "      \"date\": \"2021-10-12\",\n",
      "      \"value\": \"0.08\"\n",
      "    },\n",
      "    {\n",
      "      \"date\": \"2021-10-11\",\n",
      "      \"value\": \"0.08\"\n",
      "    },\n",
      "    {\n",
      "      \"date\": \"2021-10-10\",\n",
      "      \"value\": \"0.08\"\n",
      "    },\n",
      "    {\n",
      "      \"date\": \"2021-10-09\",\n",
      "      \"value\": \"0.08\"\n",
      "    },\n",
      "    {\n",
      "      \"date\": \"2021-10-08\",\n",
      "      \"value\": \"0.08\"\n",
      "    },\n",
      "    {\n",
      "      \"date\": \"2021-10-07\",\n",
      "      \"value\": \"0.08\"\n",
      "    },\n",
      "    {\n",
      "      \"date\": \"2021-10-06\",\n",
      "      \"value\": \"0.08\"\n",
      "    },\n",
      "    {\n",
      "      \"date\": \"2021-10-05\",\n",
      "      \"value\": \"0.08\"\n",
      "    },\n",
      "    {\n",
      "      \"date\": \"2021-10-04\",\n",
      "      \"value\": \"0.08\"\n",
      "    },\n",
      "    {\n",
      "      \"date\": \"2021-10-03\",\n",
      "      \"value\": \"0.08\"\n",
      "    },\n",
      "    {\n",
      "      \"date\": \"2021-10-02\",\n",
      "      \"value\": \"0.08\"\n",
      "    },\n",
      "    {\n",
      "      \"date\": \"2021-10-01\",\n",
      "      \"value\": \"0.08\"\n",
      "    },\n",
      "    {\n",
      "      \"date\": \"2021-09-30\",\n",
      "      \"value\": \"0.06\"\n",
      "    },\n",
      "    {\n",
      "      \"date\": \"2021-09-29\",\n",
      "      \"value\": \"0.08\"\n",
      "    },\n",
      "    {\n",
      "      \"date\": \"2021-09-28\",\n",
      "      \"value\": \"0.08\"\n",
      "    },\n",
      "    {\n",
      "      \"date\": \"2021-09-27\",\n",
      "      \"value\": \"0.08\"\n",
      "    },\n",
      "    {\n",
      "      \"date\": \"2021-09-26\",\n",
      "      \"value\": \"0.08\"\n",
      "    },\n",
      "    {\n",
      "      \"date\": \"2021-09-25\",\n",
      "      \"value\": \"0.08\"\n",
      "    },\n",
      "    {\n",
      "      \"date\": \"2021-09-24\",\n",
      "      \"value\": \"0.08\"\n",
      "    },\n",
      "    {\n",
      "      \"date\": \"2021-09-23\",\n",
      "      \"value\": \"0.08\"\n",
      "    },\n",
      "    {\n",
      "      \"date\": \"2021-09-22\",\n",
      "      \"value\": \"0.08\"\n",
      "    },\n",
      "    {\n",
      "      \"date\": \"2021-09-21\",\n",
      "      \"value\": \"0.08\"\n",
      "    },\n",
      "    {\n",
      "      \"date\": \"2021-09-20\",\n",
      "      \"value\": \"0.08\"\n",
      "    },\n",
      "    {\n",
      "      \"date\": \"2021-09-19\",\n",
      "      \"value\": \"0.08\"\n",
      "    },\n",
      "    {\n",
      "      \"date\": \"2021-09-18\",\n",
      "      \"value\": \"0.08\"\n",
      "    },\n",
      "    {\n",
      "      \"date\": \"2021-09-17\",\n",
      "      \"value\": \"0.08\"\n",
      "    },\n",
      "    {\n",
      "      \"date\": \"2021-09-16\",\n",
      "      \"value\": \"0.08\"\n",
      "    },\n",
      "    {\n",
      "      \"date\": \"2021-09-15\",\n",
      "      \"value\": \"0.08\"\n",
      "    },\n",
      "    {\n",
      "      \"date\": \"2021-09-14\",\n",
      "      \"value\": \"0.08\"\n",
      "    },\n",
      "    {\n",
      "      \"date\": \"2021-09-13\",\n",
      "      \"value\": \"0.08\"\n",
      "    },\n",
      "    {\n",
      "      \"date\": \"2021-09-12\",\n",
      "      \"value\": \"0.08\"\n",
      "    },\n",
      "    {\n",
      "      \"date\": \"2021-09-11\",\n",
      "      \"value\": \"0.08\"\n",
      "    },\n",
      "    {\n",
      "      \"date\": \"2021-09-10\",\n",
      "      \"value\": \"0.08\"\n",
      "    },\n",
      "    {\n",
      "      \"date\": \"2021-09-09\",\n",
      "      \"value\": \"0.08\"\n",
      "    },\n",
      "    {\n",
      "      \"date\": \"2021-09-08\",\n",
      "      \"value\": \"0.08\"\n",
      "    },\n",
      "    {\n",
      "      \"date\": \"2021-09-07\",\n",
      "      \"value\": \"0.08\"\n",
      "    },\n",
      "    {\n",
      "      \"date\": \"2021-09-06\",\n",
      "      \"value\": \"0.08\"\n",
      "    },\n",
      "    {\n",
      "      \"date\": \"2021-09-05\",\n",
      "      \"value\": \"0.08\"\n",
      "    },\n",
      "    {\n",
      "      \"date\": \"2021-09-04\",\n",
      "      \"value\": \"0.08\"\n",
      "    },\n",
      "    {\n",
      "      \"date\": \"2021-09-03\",\n",
      "      \"value\": \"0.08\"\n",
      "    },\n",
      "    {\n",
      "      \"date\": \"2021-09-02\",\n",
      "      \"value\": \"0.08\"\n",
      "    },\n",
      "    {\n",
      "      \"date\": \"2021-09-01\",\n",
      "      \"value\": \"0.08\"\n",
      "    },\n",
      "    {\n",
      "      \"date\": \"2021-08-31\",\n",
      "      \"value\": \"0.06\"\n",
      "    },\n",
      "    {\n",
      "      \"date\": \"2021-08-30\",\n",
      "      \"value\": \"0.08\"\n",
      "    },\n",
      "    {\n",
      "      \"date\": \"2021-08-29\",\n",
      "      \"value\": \"0.08\"\n",
      "    },\n",
      "    {\n",
      "      \"date\": \"2021-08-28\",\n",
      "      \"value\": \"0.08\"\n",
      "    },\n",
      "    {\n",
      "      \"date\": \"2021-08-27\",\n",
      "      \"value\": \"0.08\"\n",
      "    },\n",
      "    {\n",
      "      \"date\": \"2021-08-26\",\n",
      "      \"value\": \"0.09\"\n",
      "    },\n",
      "    {\n",
      "      \"date\": \"2021-08-25\",\n",
      "      \"value\": \"0.09\"\n",
      "    },\n",
      "    {\n",
      "      \"date\": \"2021-08-24\",\n",
      "      \"value\": \"0.09\"\n",
      "    },\n",
      "    {\n",
      "      \"date\": \"2021-08-23\",\n",
      "      \"value\": \"0.09\"\n",
      "    },\n",
      "    {\n",
      "      \"date\": \"2021-08-22\",\n",
      "      \"value\": \"0.09\"\n",
      "    },\n",
      "    {\n",
      "      \"date\": \"2021-08-21\",\n",
      "      \"value\": \"0.09\"\n",
      "    },\n",
      "    {\n",
      "      \"date\": \"2021-08-20\",\n",
      "      \"value\": \"0.09\"\n",
      "    },\n",
      "    {\n",
      "      \"date\": \"2021-08-19\",\n",
      "      \"value\": \"0.09\"\n",
      "    },\n",
      "    {\n",
      "      \"date\": \"2021-08-18\",\n",
      "      \"value\": \"0.09\"\n",
      "    },\n",
      "    {\n",
      "      \"date\": \"2021-08-17\",\n",
      "      \"value\": \"0.10\"\n",
      "    },\n",
      "    {\n",
      "      \"date\": \"2021-08-16\",\n",
      "      \"value\": \"0.10\"\n",
      "    },\n",
      "    {\n",
      "      \"date\": \"2021-08-15\",\n",
      "      \"value\": \"0.10\"\n",
      "    },\n",
      "    {\n",
      "      \"date\": \"2021-08-14\",\n",
      "      \"value\": \"0.10\"\n",
      "    },\n",
      "    {\n",
      "      \"date\": \"2021-08-13\",\n",
      "      \"value\": \"0.10\"\n",
      "    },\n",
      "    {\n",
      "      \"date\": \"2021-08-12\",\n",
      "      \"value\": \"0.10\"\n",
      "    },\n",
      "    {\n",
      "      \"date\": \"2021-08-11\",\n",
      "      \"value\": \"0.10\"\n",
      "    },\n",
      "    {\n",
      "      \"date\": \"2021-08-10\",\n",
      "      \"value\": \"0.10\"\n",
      "    },\n",
      "    {\n",
      "      \"date\": \"2021-08-09\",\n",
      "      \"value\": \"0.10\"\n",
      "    },\n",
      "    {\n",
      "      \"date\": \"2021-08-08\",\n",
      "      \"value\": \"0.10\"\n",
      "    },\n",
      "    {\n",
      "      \"date\": \"2021-08-07\",\n",
      "      \"value\": \"0.10\"\n",
      "    },\n",
      "    {\n",
      "      \"date\": \"2021-08-06\",\n",
      "      \"value\": \"0.10\"\n",
      "    },\n",
      "    {\n",
      "      \"date\": \"2021-08-05\",\n",
      "      \"value\": \"0.10\"\n",
      "    },\n",
      "    {\n",
      "      \"date\": \"2021-08-04\",\n",
      "      \"value\": \"0.10\"\n",
      "    },\n",
      "    {\n",
      "      \"date\": \"2021-08-03\",\n",
      "      \"value\": \"0.10\"\n",
      "    },\n",
      "    {\n",
      "      \"date\": \"2021-08-02\",\n",
      "      \"value\": \"0.10\"\n",
      "    },\n",
      "    {\n",
      "      \"date\": \"2021-08-01\",\n",
      "      \"value\": \"0.07\"\n",
      "    },\n",
      "    {\n",
      "      \"date\": \"2021-07-31\",\n",
      "      \"value\": \"0.07\"\n",
      "    },\n",
      "    {\n",
      "      \"date\": \"2021-07-30\",\n",
      "      \"value\": \"0.07\"\n",
      "    },\n",
      "    {\n",
      "      \"date\": \"2021-07-29\",\n",
      "      \"value\": \"0.10\"\n",
      "    },\n",
      "    {\n",
      "      \"date\": \"2021-07-28\",\n",
      "      \"value\": \"0.10\"\n",
      "    },\n",
      "    {\n",
      "      \"date\": \"2021-07-27\",\n",
      "      \"value\": \"0.10\"\n",
      "    },\n",
      "    {\n",
      "      \"date\": \"2021-07-26\",\n",
      "      \"value\": \"0.10\"\n",
      "    },\n",
      "    {\n",
      "      \"date\": \"2021-07-25\",\n",
      "      \"value\": \"0.10\"\n",
      "    },\n",
      "    {\n",
      "      \"date\": \"2021-07-24\",\n",
      "      \"value\": \"0.10\"\n",
      "    },\n",
      "    {\n",
      "      \"date\": \"2021-07-23\",\n",
      "      \"value\": \"0.10\"\n",
      "    },\n",
      "    {\n",
      "      \"date\": \"2021-07-22\",\n",
      "      \"value\": \"0.10\"\n",
      "    },\n",
      "    {\n",
      "      \"date\": \"2021-07-21\",\n",
      "      \"value\": \"0.10\"\n",
      "    },\n",
      "    {\n",
      "      \"date\": \"2021-07-20\",\n",
      "      \"value\": \"0.10\"\n",
      "    },\n",
      "    {\n",
      "      \"date\": \"2021-07-19\",\n",
      "      \"value\": \"0.10\"\n",
      "    },\n",
      "    {\n",
      "      \"date\": \"2021-07-18\",\n",
      "      \"value\": \"0.10\"\n",
      "    },\n",
      "    {\n",
      "      \"date\": \"2021-07-17\",\n",
      "      \"value\": \"0.10\"\n",
      "    },\n",
      "    {\n",
      "      \"date\": \"2021-07-16\",\n",
      "      \"value\": \"0.10\"\n",
      "    },\n",
      "    {\n",
      "      \"date\": \"2021-07-15\",\n",
      "      \"value\": \"0.10\"\n",
      "    },\n",
      "    {\n",
      "      \"date\": \"2021-07-14\",\n",
      "      \"value\": \"0.10\"\n",
      "    },\n",
      "    {\n",
      "      \"date\": \"2021-07-13\",\n",
      "      \"value\": \"0.10\"\n",
      "    },\n",
      "    {\n",
      "      \"date\": \"2021-07-12\",\n",
      "      \"value\": \"0.10\"\n",
      "    },\n",
      "    {\n",
      "      \"date\": \"2021-07-11\",\n",
      "      \"value\": \"0.10\"\n",
      "    },\n",
      "    {\n",
      "      \"date\": \"2021-07-10\",\n",
      "      \"value\": \"0.10\"\n",
      "    },\n",
      "    {\n",
      "      \"date\": \"2021-07-09\",\n",
      "      \"value\": \"0.10\"\n",
      "    },\n",
      "    {\n",
      "      \"date\": \"2021-07-08\",\n",
      "      \"value\": \"0.10\"\n",
      "    },\n",
      "    {\n",
      "      \"date\": \"2021-07-07\",\n",
      "      \"value\": \"0.10\"\n",
      "    },\n",
      "    {\n",
      "      \"date\": \"2021-07-06\",\n",
      "      \"value\": \"0.10\"\n",
      "    },\n",
      "    {\n",
      "      \"date\": \"2021-07-05\",\n",
      "      \"value\": \"0.10\"\n",
      "    },\n",
      "    {\n",
      "      \"date\": \"2021-07-04\",\n",
      "      \"value\": \"0.10\"\n",
      "    },\n",
      "    {\n",
      "      \"date\": \"2021-07-03\",\n",
      "      \"value\": \"0.10\"\n",
      "    },\n",
      "    {\n",
      "      \"date\": \"2021-07-02\",\n",
      "      \"value\": \"0.10\"\n",
      "    },\n",
      "    {\n",
      "      \"date\": \"2021-07-01\",\n",
      "      \"value\": \"0.10\"\n",
      "    },\n",
      "    {\n",
      "      \"date\": \"2021-06-30\",\n",
      "      \"value\": \"0.08\"\n",
      "    },\n",
      "    {\n",
      "      \"date\": \"2021-06-29\",\n",
      "      \"value\": \"0.10\"\n",
      "    },\n",
      "    {\n",
      "      \"date\": \"2021-06-28\",\n",
      "      \"value\": \"0.10\"\n",
      "    },\n",
      "    {\n",
      "      \"date\": \"2021-06-27\",\n",
      "      \"value\": \"0.10\"\n",
      "    },\n",
      "    {\n",
      "      \"date\": \"2021-06-26\",\n",
      "      \"value\": \"0.10\"\n",
      "    },\n",
      "    {\n",
      "      \"date\": \"2021-06-25\",\n",
      "      \"value\": \"0.10\"\n",
      "    },\n",
      "    {\n",
      "      \"date\": \"2021-06-24\",\n",
      "      \"value\": \"0.10\"\n",
      "    },\n",
      "    {\n",
      "      \"date\": \"2021-06-23\",\n",
      "      \"value\": \"0.10\"\n",
      "    },\n",
      "    {\n",
      "      \"date\": \"2021-06-22\",\n",
      "      \"value\": \"0.10\"\n",
      "    },\n",
      "    {\n",
      "      \"date\": \"2021-06-21\",\n",
      "      \"value\": \"0.10\"\n",
      "    },\n",
      "    {\n",
      "      \"date\": \"2021-06-20\",\n",
      "      \"value\": \"0.10\"\n",
      "    },\n",
      "    {\n",
      "      \"date\": \"2021-06-19\",\n",
      "      \"value\": \"0.10\"\n",
      "    },\n",
      "    {\n",
      "      \"date\": \"2021-06-18\",\n",
      "      \"value\": \"0.10\"\n",
      "    },\n",
      "    {\n",
      "      \"date\": \"2021-06-17\",\n",
      "      \"value\": \"0.10\"\n",
      "    },\n",
      "    {\n",
      "      \"date\": \"2021-06-16\",\n",
      "      \"value\": \"0.06\"\n",
      "    },\n",
      "    {\n",
      "      \"date\": \"2021-06-15\",\n",
      "      \"value\": \"0.06\"\n",
      "    },\n",
      "    {\n",
      "      \"date\": \"2021-06-14\",\n",
      "      \"value\": \"0.06\"\n",
      "    },\n",
      "    {\n",
      "      \"date\": \"2021-06-13\",\n",
      "      \"value\": \"0.06\"\n",
      "    },\n",
      "    {\n",
      "      \"date\": \"2021-06-12\",\n",
      "      \"value\": \"0.06\"\n",
      "    },\n",
      "    {\n",
      "      \"date\": \"2021-06-11\",\n",
      "      \"value\": \"0.06\"\n",
      "    },\n",
      "    {\n",
      "      \"date\": \"2021-06-10\",\n",
      "      \"value\": \"0.06\"\n",
      "    },\n",
      "    {\n",
      "      \"date\": \"2021-06-09\",\n",
      "      \"value\": \"0.06\"\n",
      "    },\n",
      "    {\n",
      "      \"date\": \"2021-06-08\",\n",
      "      \"value\": \"0.06\"\n",
      "    },\n",
      "    {\n",
      "      \"date\": \"2021-06-07\",\n",
      "      \"value\": \"0.06\"\n",
      "    },\n",
      "    {\n",
      "      \"date\": \"2021-06-06\",\n",
      "      \"value\": \"0.06\"\n",
      "    },\n",
      "    {\n",
      "      \"date\": \"2021-06-05\",\n",
      "      \"value\": \"0.06\"\n",
      "    },\n",
      "    {\n",
      "      \"date\": \"2021-06-04\",\n",
      "      \"value\": \"0.06\"\n",
      "    },\n",
      "    {\n",
      "      \"date\": \"2021-06-03\",\n",
      "      \"value\": \"0.06\"\n",
      "    },\n",
      "    {\n",
      "      \"date\": \"2021-06-02\",\n",
      "      \"value\": \"0.06\"\n",
      "    },\n",
      "    {\n",
      "      \"date\": \"2021-06-01\",\n",
      "      \"value\": \"0.06\"\n",
      "    },\n",
      "    {\n",
      "      \"date\": \"2021-05-31\",\n",
      "      \"value\": \"0.05\"\n",
      "    },\n",
      "    {\n",
      "      \"date\": \"2021-05-30\",\n",
      "      \"value\": \"0.05\"\n",
      "    },\n",
      "    {\n",
      "      \"date\": \"2021-05-29\",\n",
      "      \"value\": \"0.05\"\n",
      "    },\n",
      "    {\n",
      "      \"date\": \"2021-05-28\",\n",
      "      \"value\": \"0.05\"\n",
      "    },\n",
      "    {\n",
      "      \"date\": \"2021-05-27\",\n",
      "      \"value\": \"0.06\"\n",
      "    },\n",
      "    {\n",
      "      \"date\": \"2021-05-26\",\n",
      "      \"value\": \"0.06\"\n",
      "    },\n",
      "    {\n",
      "      \"date\": \"2021-05-25\",\n",
      "      \"value\": \"0.06\"\n",
      "    },\n",
      "    {\n",
      "      \"date\": \"2021-05-24\",\n",
      "      \"value\": \"0.06\"\n",
      "    },\n",
      "    {\n",
      "      \"date\": \"2021-05-23\",\n",
      "      \"value\": \"0.06\"\n",
      "    },\n",
      "    {\n",
      "      \"date\": \"2021-05-22\",\n",
      "      \"value\": \"0.06\"\n",
      "    },\n",
      "    {\n",
      "      \"date\": \"2021-05-21\",\n",
      "      \"value\": \"0.06\"\n",
      "    },\n",
      "    {\n",
      "      \"date\": \"2021-05-20\",\n",
      "      \"value\": \"0.06\"\n",
      "    },\n",
      "    {\n",
      "      \"date\": \"2021-05-19\",\n",
      "      \"value\": \"0.06\"\n",
      "    },\n",
      "    {\n",
      "      \"date\": \"2021-05-18\",\n",
      "      \"value\": \"0.06\"\n",
      "    },\n",
      "    {\n",
      "      \"date\": \"2021-05-17\",\n",
      "      \"value\": \"0.06\"\n",
      "    },\n",
      "    {\n",
      "      \"date\": \"2021-05-16\",\n",
      "      \"value\": \"0.06\"\n",
      "    },\n",
      "    {\n",
      "      \"date\": \"2021-05-15\",\n",
      "      \"value\": \"0.06\"\n",
      "    },\n",
      "    {\n",
      "      \"date\": \"2021-05-14\",\n",
      "      \"value\": \"0.06\"\n",
      "    },\n",
      "    {\n",
      "      \"date\": \"2021-05-13\",\n",
      "      \"value\": \"0.06\"\n",
      "    },\n",
      "    {\n",
      "      \"date\": \"2021-05-12\",\n",
      "      \"value\": \"0.06\"\n",
      "    },\n",
      "    {\n",
      "      \"date\": \"2021-05-11\",\n",
      "      \"value\": \"0.06\"\n",
      "    },\n",
      "    {\n",
      "      \"date\": \"2021-05-10\",\n",
      "      \"value\": \"0.06\"\n",
      "    },\n",
      "    {\n",
      "      \"date\": \"2021-05-09\",\n",
      "      \"value\": \"0.06\"\n",
      "    },\n",
      "    {\n",
      "      \"date\": \"2021-05-08\",\n",
      "      \"value\": \"0.06\"\n",
      "    },\n",
      "    {\n",
      "      \"date\": \"2021-05-07\",\n",
      "      \"value\": \"0.06\"\n",
      "    },\n",
      "    {\n",
      "      \"date\": \"2021-05-06\",\n",
      "      \"value\": \"0.06\"\n",
      "    },\n",
      "    {\n",
      "      \"date\": \"2021-05-05\",\n",
      "      \"value\": \"0.06\"\n",
      "    },\n",
      "    {\n",
      "      \"date\": \"2021-05-04\",\n",
      "      \"value\": \"0.06\"\n",
      "    },\n",
      "    {\n",
      "      \"date\": \"2021-05-03\",\n",
      "      \"value\": \"0.06\"\n",
      "    },\n",
      "    {\n",
      "      \"date\": \"2021-05-02\",\n",
      "      \"value\": \"0.05\"\n",
      "    },\n",
      "    {\n",
      "      \"date\": \"2021-05-01\",\n",
      "      \"value\": \"0.05\"\n",
      "    },\n",
      "    {\n",
      "      \"date\": \"2021-04-30\",\n",
      "      \"value\": \"0.05\"\n",
      "    },\n",
      "    {\n",
      "      \"date\": \"2021-04-29\",\n",
      "      \"value\": \"0.06\"\n",
      "    },\n",
      "    {\n",
      "      \"date\": \"2021-04-28\",\n",
      "      \"value\": \"0.07\"\n",
      "    },\n",
      "    {\n",
      "      \"date\": \"2021-04-27\",\n",
      "      \"value\": \"0.07\"\n",
      "    },\n",
      "    {\n",
      "      \"date\": \"2021-04-26\",\n",
      "      \"value\": \"0.07\"\n",
      "    },\n",
      "    {\n",
      "      \"date\": \"2021-04-25\",\n",
      "      \"value\": \"0.07\"\n",
      "    },\n",
      "    {\n",
      "      \"date\": \"2021-04-24\",\n",
      "      \"value\": \"0.07\"\n",
      "    },\n",
      "    {\n",
      "      \"date\": \"2021-04-23\",\n",
      "      \"value\": \"0.07\"\n",
      "    },\n",
      "    {\n",
      "      \"date\": \"2021-04-22\",\n",
      "      \"value\": \"0.07\"\n",
      "    },\n",
      "    {\n",
      "      \"date\": \"2021-04-21\",\n",
      "      \"value\": \"0.07\"\n",
      "    },\n",
      "    {\n",
      "      \"date\": \"2021-04-20\",\n",
      "      \"value\": \"0.07\"\n",
      "    },\n",
      "    {\n",
      "      \"date\": \"2021-04-19\",\n",
      "      \"value\": \"0.07\"\n",
      "    },\n",
      "    {\n",
      "      \"date\": \"2021-04-18\",\n",
      "      \"value\": \"0.07\"\n",
      "    },\n",
      "    {\n",
      "      \"date\": \"2021-04-17\",\n",
      "      \"value\": \"0.07\"\n",
      "    },\n",
      "    {\n",
      "      \"date\": \"2021-04-16\",\n",
      "      \"value\": \"0.07\"\n",
      "    },\n",
      "    {\n",
      "      \"date\": \"2021-04-15\",\n",
      "      \"value\": \"0.07\"\n",
      "    },\n",
      "    {\n",
      "      \"date\": \"2021-04-14\",\n",
      "      \"value\": \"0.07\"\n",
      "    },\n",
      "    {\n",
      "      \"date\": \"2021-04-13\",\n",
      "      \"value\": \"0.07\"\n",
      "    },\n",
      "    {\n",
      "      \"date\": \"2021-04-12\",\n",
      "      \"value\": \"0.07\"\n",
      "    },\n",
      "    {\n",
      "      \"date\": \"2021-04-11\",\n",
      "      \"value\": \"0.07\"\n",
      "    },\n",
      "    {\n",
      "      \"date\": \"2021-04-10\",\n",
      "      \"value\": \"0.07\"\n",
      "    },\n",
      "    {\n",
      "      \"date\": \"2021-04-09\",\n",
      "      \"value\": \"0.07\"\n",
      "    },\n",
      "    {\n",
      "      \"date\": \"2021-04-08\",\n",
      "      \"value\": \"0.07\"\n",
      "    },\n",
      "    {\n",
      "      \"date\": \"2021-04-07\",\n",
      "      \"value\": \"0.07\"\n",
      "    },\n",
      "    {\n",
      "      \"date\": \"2021-04-06\",\n",
      "      \"value\": \"0.07\"\n",
      "    },\n",
      "    {\n",
      "      \"date\": \"2021-04-05\",\n",
      "      \"value\": \"0.07\"\n",
      "    },\n",
      "    {\n",
      "      \"date\": \"2021-04-04\",\n",
      "      \"value\": \"0.07\"\n",
      "    },\n",
      "    {\n",
      "      \"date\": \"2021-04-03\",\n",
      "      \"value\": \"0.07\"\n",
      "    },\n",
      "    {\n",
      "      \"date\": \"2021-04-02\",\n",
      "      \"value\": \"0.07\"\n",
      "    },\n",
      "    {\n",
      "      \"date\": \"2021-04-01\",\n",
      "      \"value\": \"0.07\"\n",
      "    },\n",
      "    {\n",
      "      \"date\": \"2021-03-31\",\n",
      "      \"value\": \"0.06\"\n",
      "    },\n",
      "    {\n",
      "      \"date\": \"2021-03-30\",\n",
      "      \"value\": \"0.07\"\n",
      "    },\n",
      "    {\n",
      "      \"date\": \"2021-03-29\",\n",
      "      \"value\": \"0.07\"\n",
      "    },\n",
      "    {\n",
      "      \"date\": \"2021-03-28\",\n",
      "      \"value\": \"0.07\"\n",
      "    },\n",
      "    {\n",
      "      \"date\": \"2021-03-27\",\n",
      "      \"value\": \"0.07\"\n",
      "    },\n",
      "    {\n",
      "      \"date\": \"2021-03-26\",\n",
      "      \"value\": \"0.07\"\n",
      "    },\n",
      "    {\n",
      "      \"date\": \"2021-03-25\",\n",
      "      \"value\": \"0.07\"\n",
      "    },\n",
      "    {\n",
      "      \"date\": \"2021-03-24\",\n",
      "      \"value\": \"0.07\"\n",
      "    },\n",
      "    {\n",
      "      \"date\": \"2021-03-23\",\n",
      "      \"value\": \"0.07\"\n",
      "    },\n",
      "    {\n",
      "      \"date\": \"2021-03-22\",\n",
      "      \"value\": \"0.07\"\n",
      "    },\n",
      "    {\n",
      "      \"date\": \"2021-03-21\",\n",
      "      \"value\": \"0.07\"\n",
      "    },\n",
      "    {\n",
      "      \"date\": \"2021-03-20\",\n",
      "      \"value\": \"0.07\"\n",
      "    },\n",
      "    {\n",
      "      \"date\": \"2021-03-19\",\n",
      "      \"value\": \"0.07\"\n",
      "    },\n",
      "    {\n",
      "      \"date\": \"2021-03-18\",\n",
      "      \"value\": \"0.07\"\n",
      "    },\n",
      "    {\n",
      "      \"date\": \"2021-03-17\",\n",
      "      \"value\": \"0.07\"\n",
      "    },\n",
      "    {\n",
      "      \"date\": \"2021-03-16\",\n",
      "      \"value\": \"0.07\"\n",
      "    },\n",
      "    {\n",
      "      \"date\": \"2021-03-15\",\n",
      "      \"value\": \"0.07\"\n",
      "    },\n",
      "    {\n",
      "      \"date\": \"2021-03-14\",\n",
      "      \"value\": \"0.07\"\n",
      "    },\n",
      "    {\n",
      "      \"date\": \"2021-03-13\",\n",
      "      \"value\": \"0.07\"\n",
      "    },\n",
      "    {\n",
      "      \"date\": \"2021-03-12\",\n",
      "      \"value\": \"0.07\"\n",
      "    },\n",
      "    {\n",
      "      \"date\": \"2021-03-11\",\n",
      "      \"value\": \"0.07\"\n",
      "    },\n",
      "    {\n",
      "      \"date\": \"2021-03-10\",\n",
      "      \"value\": \"0.07\"\n",
      "    },\n",
      "    {\n",
      "      \"date\": \"2021-03-09\",\n",
      "      \"value\": \"0.07\"\n",
      "    },\n",
      "    {\n",
      "      \"date\": \"2021-03-08\",\n",
      "      \"value\": \"0.07\"\n",
      "    },\n",
      "    {\n",
      "      \"date\": \"2021-03-07\",\n",
      "      \"value\": \"0.07\"\n",
      "    },\n",
      "    {\n",
      "      \"date\": \"2021-03-06\",\n",
      "      \"value\": \"0.07\"\n",
      "    },\n",
      "    {\n",
      "      \"date\": \"2021-03-05\",\n",
      "      \"value\": \"0.07\"\n",
      "    },\n",
      "    {\n",
      "      \"date\": \"2021-03-04\",\n",
      "      \"value\": \"0.07\"\n",
      "    },\n",
      "    {\n",
      "      \"date\": \"2021-03-03\",\n",
      "      \"value\": \"0.07\"\n",
      "    },\n",
      "    {\n",
      "      \"date\": \"2021-03-02\",\n",
      "      \"value\": \"0.07\"\n",
      "    },\n",
      "    {\n",
      "      \"date\": \"2021-03-01\",\n",
      "      \"value\": \"0.07\"\n",
      "    },\n",
      "    {\n",
      "      \"date\": \"2021-02-28\",\n",
      "      \"value\": \"0.07\"\n",
      "    },\n",
      "    {\n",
      "      \"date\": \"2021-02-27\",\n",
      "      \"value\": \"0.07\"\n",
      "    },\n",
      "    {\n",
      "      \"date\": \"2021-02-26\",\n",
      "      \"value\": \"0.07\"\n",
      "    },\n",
      "    {\n",
      "      \"date\": \"2021-02-25\",\n",
      "      \"value\": \"0.07\"\n",
      "    },\n",
      "    {\n",
      "      \"date\": \"2021-02-24\",\n",
      "      \"value\": \"0.07\"\n",
      "    },\n",
      "    {\n",
      "      \"date\": \"2021-02-23\",\n",
      "      \"value\": \"0.07\"\n",
      "    },\n",
      "    {\n",
      "      \"date\": \"2021-02-22\",\n",
      "      \"value\": \"0.07\"\n",
      "    },\n",
      "    {\n",
      "      \"date\": \"2021-02-21\",\n",
      "      \"value\": \"0.07\"\n",
      "    },\n",
      "    {\n",
      "      \"date\": \"2021-02-20\",\n",
      "      \"value\": \"0.07\"\n",
      "    },\n",
      "    {\n",
      "      \"date\": \"2021-02-19\",\n",
      "      \"value\": \"0.07\"\n",
      "    },\n",
      "    {\n",
      "      \"date\": \"2021-02-18\",\n",
      "      \"value\": \"0.07\"\n",
      "    },\n",
      "    {\n",
      "      \"date\": \"2021-02-17\",\n",
      "      \"value\": \"0.08\"\n",
      "    },\n",
      "    {\n",
      "      \"date\": \"2021-02-16\",\n",
      "      \"value\": \"0.08\"\n",
      "    },\n",
      "    {\n",
      "      \"date\": \"2021-02-15\",\n",
      "      \"value\": \"0.08\"\n",
      "    },\n",
      "    {\n",
      "      \"date\": \"2021-02-14\",\n",
      "      \"value\": \"0.08\"\n",
      "    },\n",
      "    {\n",
      "      \"date\": \"2021-02-13\",\n",
      "      \"value\": \"0.08\"\n",
      "    },\n",
      "    {\n",
      "      \"date\": \"2021-02-12\",\n",
      "      \"value\": \"0.08\"\n",
      "    },\n",
      "    {\n",
      "      \"date\": \"2021-02-11\",\n",
      "      \"value\": \"0.08\"\n",
      "    },\n",
      "    {\n",
      "      \"date\": \"2021-02-10\",\n",
      "      \"value\": \"0.08\"\n",
      "    },\n",
      "    {\n",
      "      \"date\": \"2021-02-09\",\n",
      "      \"value\": \"0.08\"\n",
      "    },\n",
      "    {\n",
      "      \"date\": \"2021-02-08\",\n",
      "      \"value\": \"0.07\"\n",
      "    },\n",
      "    {\n",
      "      \"date\": \"2021-02-07\",\n",
      "      \"value\": \"0.08\"\n",
      "    },\n",
      "    {\n",
      "      \"date\": \"2021-02-06\",\n",
      "      \"value\": \"0.08\"\n",
      "    },\n",
      "    {\n",
      "      \"date\": \"2021-02-05\",\n",
      "      \"value\": \"0.08\"\n",
      "    },\n",
      "    {\n",
      "      \"date\": \"2021-02-04\",\n",
      "      \"value\": \"0.08\"\n",
      "    },\n",
      "    {\n",
      "      \"date\": \"2021-02-03\",\n",
      "      \"value\": \"0.08\"\n",
      "    },\n",
      "    {\n",
      "      \"date\": \"2021-02-02\",\n",
      "      \"value\": \"0.08\"\n",
      "    },\n",
      "    {\n",
      "      \"date\": \"2021-02-01\",\n",
      "      \"value\": \"0.08\"\n",
      "    },\n",
      "    {\n",
      "      \"date\": \"2021-01-31\",\n",
      "      \"value\": \"0.07\"\n",
      "    },\n",
      "    {\n",
      "      \"date\": \"2021-01-30\",\n",
      "      \"value\": \"0.07\"\n",
      "    },\n",
      "    {\n",
      "      \"date\": \"2021-01-29\",\n",
      "      \"value\": \"0.07\"\n",
      "    },\n",
      "    {\n",
      "      \"date\": \"2021-01-28\",\n",
      "      \"value\": \"0.07\"\n",
      "    },\n",
      "    {\n",
      "      \"date\": \"2021-01-27\",\n",
      "      \"value\": \"0.08\"\n",
      "    },\n",
      "    {\n",
      "      \"date\": \"2021-01-26\",\n",
      "      \"value\": \"0.08\"\n",
      "    },\n",
      "    {\n",
      "      \"date\": \"2021-01-25\",\n",
      "      \"value\": \"0.08\"\n",
      "    },\n",
      "    {\n",
      "      \"date\": \"2021-01-24\",\n",
      "      \"value\": \"0.08\"\n",
      "    },\n",
      "    {\n",
      "      \"date\": \"2021-01-23\",\n",
      "      \"value\": \"0.08\"\n",
      "    },\n",
      "    {\n",
      "      \"date\": \"2021-01-22\",\n",
      "      \"value\": \"0.08\"\n",
      "    },\n",
      "    {\n",
      "      \"date\": \"2021-01-21\",\n",
      "      \"value\": \"0.08\"\n",
      "    },\n",
      "    {\n",
      "      \"date\": \"2021-01-20\",\n",
      "      \"value\": \"0.09\"\n",
      "    },\n",
      "    {\n",
      "      \"date\": \"2021-01-19\",\n",
      "      \"value\": \"0.09\"\n",
      "    },\n",
      "    {\n",
      "      \"date\": \"2021-01-18\",\n",
      "      \"value\": \"0.09\"\n",
      "    },\n",
      "    {\n",
      "      \"date\": \"2021-01-17\",\n",
      "      \"value\": \"0.09\"\n",
      "    },\n",
      "    {\n",
      "      \"date\": \"2021-01-16\",\n",
      "      \"value\": \"0.09\"\n",
      "    },\n",
      "    {\n",
      "      \"date\": \"2021-01-15\",\n",
      "      \"value\": \"0.09\"\n",
      "    },\n",
      "    {\n",
      "      \"date\": \"2021-01-14\",\n",
      "      \"value\": \"0.09\"\n",
      "    },\n",
      "    {\n",
      "      \"date\": \"2021-01-13\",\n",
      "      \"value\": \"0.09\"\n",
      "    },\n",
      "    {\n",
      "      \"date\": \"2021-01-12\",\n",
      "      \"value\": \"0.09\"\n",
      "    },\n",
      "    {\n",
      "      \"date\": \"2021-01-11\",\n",
      "      \"value\": \"0.09\"\n",
      "    },\n",
      "    {\n",
      "      \"date\": \"2021-01-10\",\n",
      "      \"value\": \"0.09\"\n",
      "    },\n",
      "    {\n",
      "      \"date\": \"2021-01-09\",\n",
      "      \"value\": \"0.09\"\n",
      "    },\n",
      "    {\n",
      "      \"date\": \"2021-01-08\",\n",
      "      \"value\": \"0.09\"\n",
      "    },\n",
      "    {\n",
      "      \"date\": \"2021-01-07\",\n",
      "      \"value\": \"0.09\"\n",
      "    },\n",
      "    {\n",
      "      \"date\": \"2021-01-06\",\n",
      "      \"value\": \"0.09\"\n",
      "    },\n",
      "    {\n",
      "      \"date\": \"2021-01-05\",\n",
      "      \"value\": \"0.09\"\n",
      "    },\n",
      "    {\n",
      "      \"date\": \"2021-01-04\",\n",
      "      \"value\": \"0.09\"\n",
      "    },\n",
      "    {\n",
      "      \"date\": \"2021-01-03\",\n",
      "      \"value\": \"0.09\"\n",
      "    },\n",
      "    {\n",
      "      \"date\": \"2021-01-02\",\n",
      "      \"value\": \"0.09\"\n",
      "    },\n",
      "    {\n",
      "      \"date\": \"2021-01-01\",\n",
      "      \"value\": \"0.09\"\n",
      "    },\n",
      "    {\n",
      "      \"date\": \"2020-12-31\",\n",
      "      \"value\": \"0.09\"\n",
      "    },\n",
      "    {\n",
      "      \"date\": \"2020-12-30\",\n",
      "      \"value\": \"0.09\"\n",
      "    },\n",
      "    {\n",
      "      \"date\": \"2020-12-29\",\n",
      "      \"value\": \"0.09\"\n",
      "    },\n",
      "    {\n",
      "      \"date\": \"2020-12-28\",\n",
      "      \"value\": \"0.09\"\n",
      "    },\n",
      "    {\n",
      "      \"date\": \"2020-12-27\",\n",
      "      \"value\": \"0.09\"\n",
      "    },\n",
      "    {\n",
      "      \"date\": \"2020-12-26\",\n",
      "      \"value\": \"0.09\"\n",
      "    },\n",
      "    {\n",
      "      \"date\": \"2020-12-25\",\n",
      "      \"value\": \"0.09\"\n",
      "    },\n",
      "    {\n",
      "      \"date\": \"2020-12-24\",\n",
      "      \"value\": \"0.09\"\n",
      "    },\n",
      "    {\n",
      "      \"date\": \"2020-12-23\",\n",
      "      \"value\": \"0.09\"\n",
      "    },\n",
      "    {\n",
      "      \"date\": \"2020-12-22\",\n",
      "      \"value\": \"0.09\"\n",
      "    },\n",
      "    {\n",
      "      \"date\": \"2020-12-21\",\n",
      "      \"value\": \"0.09\"\n",
      "    },\n",
      "    {\n",
      "      \"date\": \"2020-12-20\",\n",
      "      \"value\": \"0.09\"\n",
      "    },\n",
      "    {\n",
      "      \"date\": \"2020-12-19\",\n",
      "      \"value\": \"0.09\"\n",
      "    },\n",
      "    {\n",
      "      \"date\": \"2020-12-18\",\n",
      "      \"value\": \"0.09\"\n",
      "    },\n",
      "    {\n",
      "      \"date\": \"2020-12-17\",\n",
      "      \"value\": \"0.09\"\n",
      "    },\n",
      "    {\n",
      "      \"date\": \"2020-12-16\",\n",
      "      \"value\": \"0.09\"\n",
      "    },\n",
      "    {\n",
      "      \"date\": \"2020-12-15\",\n",
      "      \"value\": \"0.09\"\n",
      "    },\n",
      "    {\n",
      "      \"date\": \"2020-12-14\",\n",
      "      \"value\": \"0.09\"\n",
      "    },\n",
      "    {\n",
      "      \"date\": \"2020-12-13\",\n",
      "      \"value\": \"0.09\"\n",
      "    },\n",
      "    {\n",
      "      \"date\": \"2020-12-12\",\n",
      "      \"value\": \"0.09\"\n",
      "    },\n",
      "    {\n",
      "      \"date\": \"2020-12-11\",\n",
      "      \"value\": \"0.09\"\n",
      "    },\n",
      "    {\n",
      "      \"date\": \"2020-12-10\",\n",
      "      \"value\": \"0.09\"\n",
      "    },\n",
      "    {\n",
      "      \"date\": \"2020-12-09\",\n",
      "      \"value\": \"0.09\"\n",
      "    },\n",
      "    {\n",
      "      \"date\": \"2020-12-08\",\n",
      "      \"value\": \"0.09\"\n",
      "    },\n",
      "    {\n",
      "      \"date\": \"2020-12-07\",\n",
      "      \"value\": \"0.09\"\n",
      "    },\n",
      "    {\n",
      "      \"date\": \"2020-12-06\",\n",
      "      \"value\": \"0.09\"\n",
      "    },\n",
      "    {\n",
      "      \"date\": \"2020-12-05\",\n",
      "      \"value\": \"0.09\"\n",
      "    },\n",
      "    {\n",
      "      \"date\": \"2020-12-04\",\n",
      "      \"value\": \"0.09\"\n",
      "    },\n",
      "    {\n",
      "      \"date\": \"2020-12-03\",\n",
      "      \"value\": \"0.09\"\n",
      "    },\n",
      "    {\n",
      "      \"date\": \"2020-12-02\",\n",
      "      \"value\": \"0.09\"\n",
      "    },\n",
      "    {\n",
      "      \"date\": \"2020-12-01\",\n",
      "      \"value\": \"0.09\"\n",
      "    },\n",
      "    {\n",
      "      \"date\": \"2020-11-30\",\n",
      "      \"value\": \"0.09\"\n",
      "    },\n",
      "    {\n",
      "      \"date\": \"2020-11-29\",\n",
      "      \"value\": \"0.08\"\n",
      "    },\n",
      "    {\n",
      "      \"date\": \"2020-11-28\",\n",
      "      \"value\": \"0.08\"\n",
      "    },\n",
      "    {\n",
      "      \"date\": \"2020-11-27\",\n",
      "      \"value\": \"0.08\"\n",
      "    },\n",
      "    {\n",
      "      \"date\": \"2020-11-26\",\n",
      "      \"value\": \"0.08\"\n",
      "    },\n",
      "    {\n",
      "      \"date\": \"2020-11-25\",\n",
      "      \"value\": \"0.08\"\n",
      "    },\n",
      "    {\n",
      "      \"date\": \"2020-11-24\",\n",
      "      \"value\": \"0.08\"\n",
      "    },\n",
      "    {\n",
      "      \"date\": \"2020-11-23\",\n",
      "      \"value\": \"0.08\"\n",
      "    },\n",
      "    {\n",
      "      \"date\": \"2020-11-22\",\n",
      "      \"value\": \"0.08\"\n",
      "    },\n",
      "    {\n",
      "      \"date\": \"2020-11-21\",\n",
      "      \"value\": \"0.08\"\n",
      "    },\n",
      "    {\n",
      "      \"date\": \"2020-11-20\",\n",
      "      \"value\": \"0.08\"\n",
      "    },\n",
      "    {\n",
      "      \"date\": \"2020-11-19\",\n",
      "      \"value\": \"0.08\"\n",
      "    },\n",
      "    {\n",
      "      \"date\": \"2020-11-18\",\n",
      "      \"value\": \"0.09\"\n",
      "    },\n",
      "    {\n",
      "      \"date\": \"2020-11-17\",\n",
      "      \"value\": \"0.09\"\n",
      "    },\n",
      "    {\n",
      "      \"date\": \"2020-11-16\",\n",
      "      \"value\": \"0.09\"\n",
      "    },\n",
      "    {\n",
      "      \"date\": \"2020-11-15\",\n",
      "      \"value\": \"0.09\"\n",
      "    },\n",
      "    {\n",
      "      \"date\": \"2020-11-14\",\n",
      "      \"value\": \"0.09\"\n",
      "    },\n",
      "    {\n",
      "      \"date\": \"2020-11-13\",\n",
      "      \"value\": \"0.09\"\n",
      "    },\n",
      "    {\n",
      "      \"date\": \"2020-11-12\",\n",
      "      \"value\": \"0.09\"\n",
      "    },\n",
      "    {\n",
      "      \"date\": \"2020-11-11\",\n",
      "      \"value\": \"0.09\"\n",
      "    },\n",
      "    {\n",
      "      \"date\": \"2020-11-10\",\n",
      "      \"value\": \"0.09\"\n",
      "    },\n",
      "    {\n",
      "      \"date\": \"2020-11-09\",\n",
      "      \"value\": \"0.09\"\n",
      "    },\n",
      "    {\n",
      "      \"date\": \"2020-11-08\",\n",
      "      \"value\": \"0.09\"\n",
      "    },\n",
      "    {\n",
      "      \"date\": \"2020-11-07\",\n",
      "      \"value\": \"0.09\"\n",
      "    },\n",
      "    {\n",
      "      \"date\": \"2020-11-06\",\n",
      "      \"value\": \"0.09\"\n",
      "    },\n",
      "    {\n",
      "      \"date\": \"2020-11-05\",\n",
      "      \"value\": \"0.09\"\n",
      "    },\n",
      "    {\n",
      "      \"date\": \"2020-11-04\",\n",
      "      \"value\": \"0.09\"\n",
      "    },\n",
      "    {\n",
      "      \"date\": \"2020-11-03\",\n",
      "      \"value\": \"0.09\"\n",
      "    },\n",
      "    {\n",
      "      \"date\": \"2020-11-02\",\n",
      "      \"value\": \"0.09\"\n",
      "    },\n",
      "    {\n",
      "      \"date\": \"2020-11-01\",\n",
      "      \"value\": \"0.09\"\n",
      "    },\n",
      "    {\n",
      "      \"date\": \"2020-10-31\",\n",
      "      \"value\": \"0.09\"\n",
      "    },\n",
      "    {\n",
      "      \"date\": \"2020-10-30\",\n",
      "      \"value\": \"0.09\"\n",
      "    },\n",
      "    {\n",
      "      \"date\": \"2020-10-29\",\n",
      "      \"value\": \"0.09\"\n",
      "    },\n",
      "    {\n",
      "      \"date\": \"2020-10-28\",\n",
      "      \"value\": \"0.09\"\n",
      "    },\n",
      "    {\n",
      "      \"date\": \"2020-10-27\",\n",
      "      \"value\": \"0.09\"\n",
      "    },\n",
      "    {\n",
      "      \"date\": \"2020-10-26\",\n",
      "      \"value\": \"0.09\"\n",
      "    },\n",
      "    {\n",
      "      \"date\": \"2020-10-25\",\n",
      "      \"value\": \"0.09\"\n",
      "    },\n",
      "    {\n",
      "      \"date\": \"2020-10-24\",\n",
      "      \"value\": \"0.09\"\n",
      "    },\n",
      "    {\n",
      "      \"date\": \"2020-10-23\",\n",
      "      \"value\": \"0.09\"\n",
      "    },\n",
      "    {\n",
      "      \"date\": \"2020-10-22\",\n",
      "      \"value\": \"0.09\"\n",
      "    },\n",
      "    {\n",
      "      \"date\": \"2020-10-21\",\n",
      "      \"value\": \"0.09\"\n",
      "    },\n",
      "    {\n",
      "      \"date\": \"2020-10-20\",\n",
      "      \"value\": \"0.09\"\n",
      "    },\n",
      "    {\n",
      "      \"date\": \"2020-10-19\",\n",
      "      \"value\": \"0.09\"\n",
      "    },\n",
      "    {\n",
      "      \"date\": \"2020-10-18\",\n",
      "      \"value\": \"0.09\"\n",
      "    },\n",
      "    {\n",
      "      \"date\": \"2020-10-17\",\n",
      "      \"value\": \"0.09\"\n",
      "    },\n",
      "    {\n",
      "      \"date\": \"2020-10-16\",\n",
      "      \"value\": \"0.09\"\n",
      "    },\n",
      "    {\n",
      "      \"date\": \"2020-10-15\",\n",
      "      \"value\": \"0.09\"\n",
      "    },\n",
      "    {\n",
      "      \"date\": \"2020-10-14\",\n",
      "      \"value\": \"0.09\"\n",
      "    },\n",
      "    {\n",
      "      \"date\": \"2020-10-13\",\n",
      "      \"value\": \"0.09\"\n",
      "    },\n",
      "    {\n",
      "      \"date\": \"2020-10-12\",\n",
      "      \"value\": \"0.09\"\n",
      "    },\n",
      "    {\n",
      "      \"date\": \"2020-10-11\",\n",
      "      \"value\": \"0.09\"\n",
      "    },\n",
      "    {\n",
      "      \"date\": \"2020-10-10\",\n",
      "      \"value\": \"0.09\"\n",
      "    },\n",
      "    {\n",
      "      \"date\": \"2020-10-09\",\n",
      "      \"value\": \"0.09\"\n",
      "    },\n",
      "    {\n",
      "      \"date\": \"2020-10-08\",\n",
      "      \"value\": \"0.09\"\n",
      "    },\n",
      "    {\n",
      "      \"date\": \"2020-10-07\",\n",
      "      \"value\": \"0.09\"\n",
      "    },\n",
      "    {\n",
      "      \"date\": \"2020-10-06\",\n",
      "      \"value\": \"0.09\"\n",
      "    },\n",
      "    {\n",
      "      \"date\": \"2020-10-05\",\n",
      "      \"value\": \"0.09\"\n",
      "    },\n",
      "    {\n",
      "      \"date\": \"2020-10-04\",\n",
      "      \"value\": \"0.09\"\n",
      "    },\n",
      "    {\n",
      "      \"date\": \"2020-10-03\",\n",
      "      \"value\": \"0.09\"\n",
      "    },\n",
      "    {\n",
      "      \"date\": \"2020-10-02\",\n",
      "      \"value\": \"0.09\"\n",
      "    },\n",
      "    {\n",
      "      \"date\": \"2020-10-01\",\n",
      "      \"value\": \"0.09\"\n",
      "    },\n",
      "    {\n",
      "      \"date\": \"2020-09-30\",\n",
      "      \"value\": \"0.09\"\n",
      "    },\n",
      "    {\n",
      "      \"date\": \"2020-09-29\",\n",
      "      \"value\": \"0.09\"\n",
      "    },\n",
      "    {\n",
      "      \"date\": \"2020-09-28\",\n",
      "      \"value\": \"0.09\"\n",
      "    },\n",
      "    {\n",
      "      \"date\": \"2020-09-27\",\n",
      "      \"value\": \"0.09\"\n",
      "    },\n",
      "    {\n",
      "      \"date\": \"2020-09-26\",\n",
      "      \"value\": \"0.09\"\n",
      "    },\n",
      "    {\n",
      "      \"date\": \"2020-09-25\",\n",
      "      \"value\": \"0.09\"\n",
      "    },\n",
      "    {\n",
      "      \"date\": \"2020-09-24\",\n",
      "      \"value\": \"0.09\"\n",
      "    },\n",
      "    {\n",
      "      \"date\": \"2020-09-23\",\n",
      "      \"value\": \"0.09\"\n",
      "    },\n",
      "    {\n",
      "      \"date\": \"2020-09-22\",\n",
      "      \"value\": \"0.09\"\n",
      "    },\n",
      "    {\n",
      "      \"date\": \"2020-09-21\",\n",
      "      \"value\": \"0.09\"\n",
      "    },\n",
      "    {\n",
      "      \"date\": \"2020-09-20\",\n",
      "      \"value\": \"0.09\"\n",
      "    },\n",
      "    {\n",
      "      \"date\": \"2020-09-19\",\n",
      "      \"value\": \"0.09\"\n",
      "    },\n",
      "    {\n",
      "      \"date\": \"2020-09-18\",\n",
      "      \"value\": \"0.09\"\n",
      "    },\n",
      "    {\n",
      "      \"date\": \"2020-09-17\",\n",
      "      \"value\": \"0.09\"\n",
      "    },\n",
      "    {\n",
      "      \"date\": \"2020-09-16\",\n",
      "      \"value\": \"0.09\"\n",
      "    },\n",
      "    {\n",
      "      \"date\": \"2020-09-15\",\n",
      "      \"value\": \"0.09\"\n",
      "    },\n",
      "    {\n",
      "      \"date\": \"2020-09-14\",\n",
      "      \"value\": \"0.09\"\n",
      "    },\n",
      "    {\n",
      "      \"date\": \"2020-09-13\",\n",
      "      \"value\": \"0.09\"\n",
      "    },\n",
      "    {\n",
      "      \"date\": \"2020-09-12\",\n",
      "      \"value\": \"0.09\"\n",
      "    },\n",
      "    {\n",
      "      \"date\": \"2020-09-11\",\n",
      "      \"value\": \"0.09\"\n",
      "    },\n",
      "    {\n",
      "      \"date\": \"2020-09-10\",\n",
      "      \"value\": \"0.09\"\n",
      "    },\n",
      "    {\n",
      "      \"date\": \"2020-09-09\",\n",
      "      \"value\": \"0.09\"\n",
      "    },\n",
      "    {\n",
      "      \"date\": \"2020-09-08\",\n",
      "      \"value\": \"0.09\"\n",
      "    },\n",
      "    {\n",
      "      \"date\": \"2020-09-07\",\n",
      "      \"value\": \"0.09\"\n",
      "    },\n",
      "    {\n",
      "      \"date\": \"2020-09-06\",\n",
      "      \"value\": \"0.09\"\n",
      "    },\n",
      "    {\n",
      "      \"date\": \"2020-09-05\",\n",
      "      \"value\": \"0.09\"\n",
      "    },\n",
      "    {\n",
      "      \"date\": \"2020-09-04\",\n",
      "      \"value\": \"0.09\"\n",
      "    },\n",
      "    {\n",
      "      \"date\": \"2020-09-03\",\n",
      "      \"value\": \"0.09\"\n",
      "    },\n",
      "    {\n",
      "      \"date\": \"2020-09-02\",\n",
      "      \"value\": \"0.09\"\n",
      "    },\n",
      "    {\n",
      "      \"date\": \"2020-09-01\",\n",
      "      \"value\": \"0.09\"\n",
      "    },\n",
      "    {\n",
      "      \"date\": \"2020-08-31\",\n",
      "      \"value\": \"0.09\"\n",
      "    },\n",
      "    {\n",
      "      \"date\": \"2020-08-30\",\n",
      "      \"value\": \"0.09\"\n",
      "    },\n",
      "    {\n",
      "      \"date\": \"2020-08-29\",\n",
      "      \"value\": \"0.09\"\n",
      "    },\n",
      "    {\n",
      "      \"date\": \"2020-08-28\",\n",
      "      \"value\": \"0.09\"\n",
      "    },\n",
      "    {\n",
      "      \"date\": \"2020-08-27\",\n",
      "      \"value\": \"0.08\"\n",
      "    },\n",
      "    {\n",
      "      \"date\": \"2020-08-26\",\n",
      "      \"value\": \"0.09\"\n",
      "    },\n",
      "    {\n",
      "      \"date\": \"2020-08-25\",\n",
      "      \"value\": \"0.09\"\n",
      "    },\n",
      "    {\n",
      "      \"date\": \"2020-08-24\",\n",
      "      \"value\": \"0.09\"\n",
      "    },\n",
      "    {\n",
      "      \"date\": \"2020-08-23\",\n",
      "      \"value\": \"0.09\"\n",
      "    },\n",
      "    {\n",
      "      \"date\": \"2020-08-22\",\n",
      "      \"value\": \"0.09\"\n",
      "    },\n",
      "    {\n",
      "      \"date\": \"2020-08-21\",\n",
      "      \"value\": \"0.09\"\n",
      "    },\n",
      "    {\n",
      "      \"date\": \"2020-08-20\",\n",
      "      \"value\": \"0.09\"\n",
      "    },\n",
      "    {\n",
      "      \"date\": \"2020-08-19\",\n",
      "      \"value\": \"0.09\"\n",
      "    },\n",
      "    {\n",
      "      \"date\": \"2020-08-18\",\n",
      "      \"value\": \"0.09\"\n",
      "    },\n",
      "    {\n",
      "      \"date\": \"2020-08-17\",\n",
      "      \"value\": \"0.10\"\n",
      "    },\n",
      "    {\n",
      "      \"date\": \"2020-08-16\",\n",
      "      \"value\": \"0.10\"\n",
      "    },\n",
      "    {\n",
      "      \"date\": \"2020-08-15\",\n",
      "      \"value\": \"0.10\"\n",
      "    },\n",
      "    {\n",
      "      \"date\": \"2020-08-14\",\n",
      "      \"value\": \"0.10\"\n",
      "    },\n",
      "    {\n",
      "      \"date\": \"2020-08-13\",\n",
      "      \"value\": \"0.10\"\n",
      "    },\n",
      "    {\n",
      "      \"date\": \"2020-08-12\",\n",
      "      \"value\": \"0.10\"\n",
      "    },\n",
      "    {\n",
      "      \"date\": \"2020-08-11\",\n",
      "      \"value\": \"0.10\"\n",
      "    },\n",
      "    {\n",
      "      \"date\": \"2020-08-10\",\n",
      "      \"value\": \"0.10\"\n",
      "    },\n",
      "    {\n",
      "      \"date\": \"2020-08-09\",\n",
      "      \"value\": \"0.10\"\n",
      "    },\n",
      "    {\n",
      "      \"date\": \"2020-08-08\",\n",
      "      \"value\": \"0.10\"\n",
      "    },\n",
      "    {\n",
      "      \"date\": \"2020-08-07\",\n",
      "      \"value\": \"0.10\"\n",
      "    },\n",
      "    {\n",
      "      \"date\": \"2020-08-06\",\n",
      "      \"value\": \"0.10\"\n",
      "    },\n",
      "    {\n",
      "      \"date\": \"2020-08-05\",\n",
      "      \"value\": \"0.10\"\n",
      "    },\n",
      "    {\n",
      "      \"date\": \"2020-08-04\",\n",
      "      \"value\": \"0.10\"\n",
      "    },\n",
      "    {\n",
      "      \"date\": \"2020-08-03\",\n",
      "      \"value\": \"0.10\"\n",
      "    },\n",
      "    {\n",
      "      \"date\": \"2020-08-02\",\n",
      "      \"value\": \"0.10\"\n",
      "    },\n",
      "    {\n",
      "      \"date\": \"2020-08-01\",\n",
      "      \"value\": \"0.10\"\n",
      "    },\n",
      "    {\n",
      "      \"date\": \"2020-07-31\",\n",
      "      \"value\": \"0.10\"\n",
      "    },\n",
      "    {\n",
      "      \"date\": \"2020-07-30\",\n",
      "      \"value\": \"0.10\"\n",
      "    },\n",
      "    {\n",
      "      \"date\": \"2020-07-29\",\n",
      "      \"value\": \"0.10\"\n",
      "    },\n",
      "    {\n",
      "      \"date\": \"2020-07-28\",\n",
      "      \"value\": \"0.10\"\n",
      "    },\n",
      "    {\n",
      "      \"date\": \"2020-07-27\",\n",
      "      \"value\": \"0.10\"\n",
      "    },\n",
      "    {\n",
      "      \"date\": \"2020-07-26\",\n",
      "      \"value\": \"0.09\"\n",
      "    },\n",
      "    {\n",
      "      \"date\": \"2020-07-25\",\n",
      "      \"value\": \"0.09\"\n",
      "    },\n",
      "    {\n",
      "      \"date\": \"2020-07-24\",\n",
      "      \"value\": \"0.09\"\n",
      "    },\n",
      "    {\n",
      "      \"date\": \"2020-07-23\",\n",
      "      \"value\": \"0.09\"\n",
      "    },\n",
      "    {\n",
      "      \"date\": \"2020-07-22\",\n",
      "      \"value\": \"0.09\"\n",
      "    },\n",
      "    {\n",
      "      \"date\": \"2020-07-21\",\n",
      "      \"value\": \"0.10\"\n",
      "    },\n",
      "    {\n",
      "      \"date\": \"2020-07-20\",\n",
      "      \"value\": \"0.10\"\n",
      "    },\n",
      "    {\n",
      "      \"date\": \"2020-07-19\",\n",
      "      \"value\": \"0.09\"\n",
      "    },\n",
      "    {\n",
      "      \"date\": \"2020-07-18\",\n",
      "      \"value\": \"0.09\"\n",
      "    },\n",
      "    {\n",
      "      \"date\": \"2020-07-17\",\n",
      "      \"value\": \"0.09\"\n",
      "    },\n",
      "    {\n",
      "      \"date\": \"2020-07-16\",\n",
      "      \"value\": \"0.10\"\n",
      "    },\n",
      "    {\n",
      "      \"date\": \"2020-07-15\",\n",
      "      \"value\": \"0.10\"\n",
      "    },\n",
      "    {\n",
      "      \"date\": \"2020-07-14\",\n",
      "      \"value\": \"0.09\"\n",
      "    },\n",
      "    {\n",
      "      \"date\": \"2020-07-13\",\n",
      "      \"value\": \"0.09\"\n",
      "    },\n",
      "    {\n",
      "      \"date\": \"2020-07-12\",\n",
      "      \"value\": \"0.09\"\n",
      "    },\n",
      "    {\n",
      "      \"date\": \"2020-07-11\",\n",
      "      \"value\": \"0.09\"\n",
      "    },\n",
      "    {\n",
      "      \"date\": \"2020-07-10\",\n",
      "      \"value\": \"0.09\"\n",
      "    },\n",
      "    {\n",
      "      \"date\": \"2020-07-09\",\n",
      "      \"value\": \"0.09\"\n",
      "    },\n",
      "    {\n",
      "      \"date\": \"2020-07-08\",\n",
      "      \"value\": \"0.09\"\n",
      "    },\n",
      "    {\n",
      "      \"date\": \"2020-07-07\",\n",
      "      \"value\": \"0.09\"\n",
      "    },\n",
      "    {\n",
      "      \"date\": \"2020-07-06\",\n",
      "      \"value\": \"0.09\"\n",
      "    },\n",
      "    {\n",
      "      \"date\": \"2020-07-05\",\n",
      "      \"value\": \"0.09\"\n",
      "    },\n",
      "    {\n",
      "      \"date\": \"2020-07-04\",\n",
      "      \"value\": \"0.09\"\n",
      "    },\n",
      "    {\n",
      "      \"date\": \"2020-07-03\",\n",
      "      \"value\": \"0.09\"\n",
      "    },\n",
      "    {\n",
      "      \"date\": \"2020-07-02\",\n",
      "      \"value\": \"0.09\"\n",
      "    },\n",
      "    {\n",
      "      \"date\": \"2020-07-01\",\n",
      "      \"value\": \"0.08\"\n",
      "    },\n",
      "    {\n",
      "      \"date\": \"2020-06-30\",\n",
      "      \"value\": \"0.08\"\n",
      "    },\n",
      "    {\n",
      "      \"date\": \"2020-06-29\",\n",
      "      \"value\": \"0.08\"\n",
      "    },\n",
      "    {\n",
      "      \"date\": \"2020-06-28\",\n",
      "      \"value\": \"0.08\"\n",
      "    },\n",
      "    {\n",
      "      \"date\": \"2020-06-27\",\n",
      "      \"value\": \"0.08\"\n",
      "    },\n",
      "    {\n",
      "      \"date\": \"2020-06-26\",\n",
      "      \"value\": \"0.08\"\n",
      "    },\n",
      "    {\n",
      "      \"date\": \"2020-06-25\",\n",
      "      \"value\": \"0.08\"\n",
      "    },\n",
      "    {\n",
      "      \"date\": \"2020-06-24\",\n",
      "      \"value\": \"0.08\"\n",
      "    },\n",
      "    {\n",
      "      \"date\": \"2020-06-23\",\n",
      "      \"value\": \"0.08\"\n",
      "    },\n",
      "    {\n",
      "      \"date\": \"2020-06-22\",\n",
      "      \"value\": \"0.08\"\n",
      "    },\n",
      "    {\n",
      "      \"date\": \"2020-06-21\",\n",
      "      \"value\": \"0.09\"\n",
      "    },\n",
      "    {\n",
      "      \"date\": \"2020-06-20\",\n",
      "      \"value\": \"0.09\"\n",
      "    },\n",
      "    {\n",
      "      \"date\": \"2020-06-19\",\n",
      "      \"value\": \"0.09\"\n",
      "    },\n",
      "    {\n",
      "      \"date\": \"2020-06-18\",\n",
      "      \"value\": \"0.09\"\n",
      "    },\n",
      "    {\n",
      "      \"date\": \"2020-06-17\",\n",
      "      \"value\": \"0.09\"\n",
      "    },\n",
      "    {\n",
      "      \"date\": \"2020-06-16\",\n",
      "      \"value\": \"0.09\"\n",
      "    },\n",
      "    {\n",
      "      \"date\": \"2020-06-15\",\n",
      "      \"value\": \"0.09\"\n",
      "    },\n",
      "    {\n",
      "      \"date\": \"2020-06-14\",\n",
      "      \"value\": \"0.08\"\n",
      "    },\n",
      "    {\n",
      "      \"date\": \"2020-06-13\",\n",
      "      \"value\": \"0.08\"\n",
      "    },\n",
      "    {\n",
      "      \"date\": \"2020-06-12\",\n",
      "      \"value\": \"0.08\"\n",
      "    },\n",
      "    {\n",
      "      \"date\": \"2020-06-11\",\n",
      "      \"value\": \"0.08\"\n",
      "    },\n",
      "    {\n",
      "      \"date\": \"2020-06-10\",\n",
      "      \"value\": \"0.08\"\n",
      "    },\n",
      "    {\n",
      "      \"date\": \"2020-06-09\",\n",
      "      \"value\": \"0.07\"\n",
      "    },\n",
      "    {\n",
      "      \"date\": \"2020-06-08\",\n",
      "      \"value\": \"0.07\"\n",
      "    },\n",
      "    {\n",
      "      \"date\": \"2020-06-07\",\n",
      "      \"value\": \"0.07\"\n",
      "    },\n",
      "    {\n",
      "      \"date\": \"2020-06-06\",\n",
      "      \"value\": \"0.07\"\n",
      "    },\n",
      "    {\n",
      "      \"date\": \"2020-06-05\",\n",
      "      \"value\": \"0.07\"\n",
      "    },\n",
      "    {\n",
      "      \"date\": \"2020-06-04\",\n",
      "      \"value\": \"0.06\"\n",
      "    },\n",
      "    {\n",
      "      \"date\": \"2020-06-03\",\n",
      "      \"value\": \"0.06\"\n",
      "    },\n",
      "    {\n",
      "      \"date\": \"2020-06-02\",\n",
      "      \"value\": \"0.06\"\n",
      "    },\n",
      "    {\n",
      "      \"date\": \"2020-06-01\",\n",
      "      \"value\": \"0.05\"\n",
      "    },\n",
      "    {\n",
      "      \"date\": \"2020-05-31\",\n",
      "      \"value\": \"0.05\"\n",
      "    },\n",
      "    {\n",
      "      \"date\": \"2020-05-30\",\n",
      "      \"value\": \"0.05\"\n",
      "    },\n",
      "    {\n",
      "      \"date\": \"2020-05-29\",\n",
      "      \"value\": \"0.05\"\n",
      "    },\n",
      "    {\n",
      "      \"date\": \"2020-05-28\",\n",
      "      \"value\": \"0.05\"\n",
      "    },\n",
      "    {\n",
      "      \"date\": \"2020-05-27\",\n",
      "      \"value\": \"0.05\"\n",
      "    },\n",
      "    {\n",
      "      \"date\": \"2020-05-26\",\n",
      "      \"value\": \"0.05\"\n",
      "    },\n",
      "    {\n",
      "      \"date\": \"2020-05-25\",\n",
      "      \"value\": \"0.05\"\n",
      "    },\n",
      "    {\n",
      "      \"date\": \"2020-05-24\",\n",
      "      \"value\": \"0.05\"\n",
      "    },\n",
      "    {\n",
      "      \"date\": \"2020-05-23\",\n",
      "      \"value\": \"0.05\"\n",
      "    },\n",
      "    {\n",
      "      \"date\": \"2020-05-22\",\n",
      "      \"value\": \"0.05\"\n",
      "    },\n",
      "    {\n",
      "      \"date\": \"2020-05-21\",\n",
      "      \"value\": \"0.05\"\n",
      "    },\n",
      "    {\n",
      "      \"date\": \"2020-05-20\",\n",
      "      \"value\": \"0.05\"\n",
      "    },\n",
      "    {\n",
      "      \"date\": \"2020-05-19\",\n",
      "      \"value\": \"0.05\"\n",
      "    },\n",
      "    {\n",
      "      \"date\": \"2020-05-18\",\n",
      "      \"value\": \"0.05\"\n",
      "    },\n",
      "    {\n",
      "      \"date\": \"2020-05-17\",\n",
      "      \"value\": \"0.05\"\n",
      "    },\n",
      "    {\n",
      "      \"date\": \"2020-05-16\",\n",
      "      \"value\": \"0.05\"\n",
      "    },\n",
      "    {\n",
      "      \"date\": \"2020-05-15\",\n",
      "      \"value\": \"0.05\"\n",
      "    },\n",
      "    {\n",
      "      \"date\": \"2020-05-14\",\n",
      "      \"value\": \"0.05\"\n",
      "    },\n",
      "    {\n",
      "      \"date\": \"2020-05-13\",\n",
      "      \"value\": \"0.05\"\n",
      "    },\n",
      "    {\n",
      "      \"date\": \"2020-05-12\",\n",
      "      \"value\": \"0.05\"\n",
      "    },\n",
      "    {\n",
      "      \"date\": \"2020-05-11\",\n",
      "      \"value\": \"0.05\"\n",
      "    },\n",
      "    {\n",
      "      \"date\": \"2020-05-10\",\n",
      "      \"value\": \"0.05\"\n",
      "    },\n",
      "    {\n",
      "      \"date\": \"2020-05-09\",\n",
      "      \"value\": \"0.05\"\n",
      "    },\n",
      "    {\n",
      "      \"date\": \"2020-05-08\",\n",
      "      \"value\": \"0.05\"\n",
      "    },\n",
      "    {\n",
      "      \"date\": \"2020-05-07\",\n",
      "      \"value\": \"0.05\"\n",
      "    },\n",
      "    {\n",
      "      \"date\": \"2020-05-06\",\n",
      "      \"value\": \"0.05\"\n",
      "    },\n",
      "    {\n",
      "      \"date\": \"2020-05-05\",\n",
      "      \"value\": \"0.05\"\n",
      "    },\n",
      "    {\n",
      "      \"date\": \"2020-05-04\",\n",
      "      \"value\": \"0.05\"\n",
      "    },\n",
      "    {\n",
      "      \"date\": \"2020-05-03\",\n",
      "      \"value\": \"0.05\"\n",
      "    },\n",
      "    {\n",
      "      \"date\": \"2020-05-02\",\n",
      "      \"value\": \"0.05\"\n",
      "    },\n",
      "    {\n",
      "      \"date\": \"2020-05-01\",\n",
      "      \"value\": \"0.05\"\n",
      "    },\n",
      "    {\n",
      "      \"date\": \"2020-04-30\",\n",
      "      \"value\": \"0.05\"\n",
      "    },\n",
      "    {\n",
      "      \"date\": \"2020-04-29\",\n",
      "      \"value\": \"0.04\"\n",
      "    },\n",
      "    {\n",
      "      \"date\": \"2020-04-28\",\n",
      "      \"value\": \"0.04\"\n",
      "    },\n",
      "    {\n",
      "      \"date\": \"2020-04-27\",\n",
      "      \"value\": \"0.04\"\n",
      "    },\n",
      "    {\n",
      "      \"date\": \"2020-04-26\",\n",
      "      \"value\": \"0.05\"\n",
      "    },\n",
      "    {\n",
      "      \"date\": \"2020-04-25\",\n",
      "      \"value\": \"0.05\"\n",
      "    },\n",
      "    {\n",
      "      \"date\": \"2020-04-24\",\n",
      "      \"value\": \"0.05\"\n",
      "    },\n",
      "    {\n",
      "      \"date\": \"2020-04-23\",\n",
      "      \"value\": \"0.04\"\n",
      "    },\n",
      "    {\n",
      "      \"date\": \"2020-04-22\",\n",
      "      \"value\": \"0.05\"\n",
      "    },\n",
      "    {\n",
      "      \"date\": \"2020-04-21\",\n",
      "      \"value\": \"0.05\"\n",
      "    },\n",
      "    {\n",
      "      \"date\": \"2020-04-20\",\n",
      "      \"value\": \"0.05\"\n",
      "    },\n",
      "    {\n",
      "      \"date\": \"2020-04-19\",\n",
      "      \"value\": \"0.05\"\n",
      "    },\n",
      "    {\n",
      "      \"date\": \"2020-04-18\",\n",
      "      \"value\": \"0.05\"\n",
      "    },\n",
      "    {\n",
      "      \"date\": \"2020-04-17\",\n",
      "      \"value\": \"0.05\"\n",
      "    },\n",
      "    {\n",
      "      \"date\": \"2020-04-16\",\n",
      "      \"value\": \"0.05\"\n",
      "    },\n",
      "    {\n",
      "      \"date\": \"2020-04-15\",\n",
      "      \"value\": \"0.05\"\n",
      "    },\n",
      "    {\n",
      "      \"date\": \"2020-04-14\",\n",
      "      \"value\": \"0.05\"\n",
      "    },\n",
      "    {\n",
      "      \"date\": \"2020-04-13\",\n",
      "      \"value\": \"0.05\"\n",
      "    },\n",
      "    {\n",
      "      \"date\": \"2020-04-12\",\n",
      "      \"value\": \"0.05\"\n",
      "    },\n",
      "    {\n",
      "      \"date\": \"2020-04-11\",\n",
      "      \"value\": \"0.05\"\n",
      "    },\n",
      "    {\n",
      "      \"date\": \"2020-04-10\",\n",
      "      \"value\": \"0.05\"\n",
      "    },\n",
      "    {\n",
      "      \"date\": \"2020-04-09\",\n",
      "      \"value\": \"0.05\"\n",
      "    },\n",
      "    {\n",
      "      \"date\": \"2020-04-08\",\n",
      "      \"value\": \"0.05\"\n",
      "    },\n",
      "    {\n",
      "      \"date\": \"2020-04-07\",\n",
      "      \"value\": \"0.05\"\n",
      "    },\n",
      "    {\n",
      "      \"date\": \"2020-04-06\",\n",
      "      \"value\": \"0.05\"\n",
      "    },\n",
      "    {\n",
      "      \"date\": \"2020-04-05\",\n",
      "      \"value\": \"0.05\"\n",
      "    },\n",
      "    {\n",
      "      \"date\": \"2020-04-04\",\n",
      "      \"value\": \"0.05\"\n",
      "    },\n",
      "    {\n",
      "      \"date\": \"2020-04-03\",\n",
      "      \"value\": \"0.05\"\n",
      "    },\n",
      "    {\n",
      "      \"date\": \"2020-04-02\",\n",
      "      \"value\": \"0.05\"\n",
      "    },\n",
      "    {\n",
      "      \"date\": \"2020-04-01\",\n",
      "      \"value\": \"0.06\"\n",
      "    },\n",
      "    {\n",
      "      \"date\": \"2020-03-31\",\n",
      "      \"value\": \"0.08\"\n",
      "    },\n",
      "    {\n",
      "      \"date\": \"2020-03-30\",\n",
      "      \"value\": \"0.09\"\n",
      "    },\n",
      "    {\n",
      "      \"date\": \"2020-03-29\",\n",
      "      \"value\": \"0.10\"\n",
      "    },\n",
      "    {\n",
      "      \"date\": \"2020-03-28\",\n",
      "      \"value\": \"0.10\"\n",
      "    },\n",
      "    {\n",
      "      \"date\": \"2020-03-27\",\n",
      "      \"value\": \"0.10\"\n",
      "    },\n",
      "    {\n",
      "      \"date\": \"2020-03-26\",\n",
      "      \"value\": \"0.10\"\n",
      "    },\n",
      "    {\n",
      "      \"date\": \"2020-03-25\",\n",
      "      \"value\": \"0.10\"\n",
      "    },\n",
      "    {\n",
      "      \"date\": \"2020-03-24\",\n",
      "      \"value\": \"0.12\"\n",
      "    },\n",
      "    {\n",
      "      \"date\": \"2020-03-23\",\n",
      "      \"value\": \"0.15\"\n",
      "    },\n",
      "    {\n",
      "      \"date\": \"2020-03-22\",\n",
      "      \"value\": \"0.15\"\n",
      "    },\n",
      "    {\n",
      "      \"date\": \"2020-03-21\",\n",
      "      \"value\": \"0.15\"\n",
      "    },\n",
      "    {\n",
      "      \"date\": \"2020-03-20\",\n",
      "      \"value\": \"0.15\"\n",
      "    },\n",
      "    {\n",
      "      \"date\": \"2020-03-19\",\n",
      "      \"value\": \"0.20\"\n",
      "    },\n",
      "    {\n",
      "      \"date\": \"2020-03-18\",\n",
      "      \"value\": \"0.25\"\n",
      "    },\n",
      "    {\n",
      "      \"date\": \"2020-03-17\",\n",
      "      \"value\": \"0.25\"\n",
      "    },\n",
      "    {\n",
      "      \"date\": \"2020-03-16\",\n",
      "      \"value\": \"0.25\"\n",
      "    },\n",
      "    {\n",
      "      \"date\": \"2020-03-15\",\n",
      "      \"value\": \"1.10\"\n",
      "    },\n",
      "    {\n",
      "      \"date\": \"2020-03-14\",\n",
      "      \"value\": \"1.10\"\n",
      "    },\n",
      "    {\n",
      "      \"date\": \"2020-03-13\",\n",
      "      \"value\": \"1.10\"\n",
      "    },\n",
      "    {\n",
      "      \"date\": \"2020-03-12\",\n",
      "      \"value\": \"1.10\"\n",
      "    },\n",
      "    {\n",
      "      \"date\": \"2020-03-11\",\n",
      "      \"value\": \"1.09\"\n",
      "    },\n",
      "    {\n",
      "      \"date\": \"2020-03-10\",\n",
      "      \"value\": \"1.09\"\n",
      "    },\n",
      "    {\n",
      "      \"date\": \"2020-03-09\",\n",
      "      \"value\": \"1.09\"\n",
      "    },\n",
      "    {\n",
      "      \"date\": \"2020-03-08\",\n",
      "      \"value\": \"1.09\"\n",
      "    },\n",
      "    {\n",
      "      \"date\": \"2020-03-07\",\n",
      "      \"value\": \"1.09\"\n",
      "    },\n",
      "    {\n",
      "      \"date\": \"2020-03-06\",\n",
      "      \"value\": \"1.09\"\n",
      "    },\n",
      "    {\n",
      "      \"date\": \"2020-03-05\",\n",
      "      \"value\": \"1.09\"\n",
      "    },\n",
      "    {\n",
      "      \"date\": \"2020-03-04\",\n",
      "      \"value\": \"1.09\"\n",
      "    },\n",
      "    {\n",
      "      \"date\": \"2020-03-03\",\n",
      "      \"value\": \"1.59\"\n",
      "    },\n",
      "    {\n",
      "      \"date\": \"2020-03-02\",\n",
      "      \"value\": \"1.59\"\n",
      "    },\n",
      "    {\n",
      "      \"date\": \"2020-03-01\",\n",
      "      \"value\": \"1.58\"\n",
      "    },\n",
      "    {\n",
      "      \"date\": \"2020-02-29\",\n",
      "      \"value\": \"1.58\"\n",
      "    },\n",
      "    {\n",
      "      \"date\": \"2020-02-28\",\n",
      "      \"value\": \"1.58\"\n",
      "    },\n",
      "    {\n",
      "      \"date\": \"2020-02-27\",\n",
      "      \"value\": \"1.58\"\n",
      "    },\n",
      "    {\n",
      "      \"date\": \"2020-02-26\",\n",
      "      \"value\": \"1.58\"\n",
      "    },\n",
      "    {\n",
      "      \"date\": \"2020-02-25\",\n",
      "      \"value\": \"1.58\"\n",
      "    },\n",
      "    {\n",
      "      \"date\": \"2020-02-24\",\n",
      "      \"value\": \"1.58\"\n",
      "    },\n",
      "    {\n",
      "      \"date\": \"2020-02-23\",\n",
      "      \"value\": \"1.58\"\n",
      "    },\n",
      "    {\n",
      "      \"date\": \"2020-02-22\",\n",
      "      \"value\": \"1.58\"\n",
      "    },\n",
      "    {\n",
      "      \"date\": \"2020-02-21\",\n",
      "      \"value\": \"1.58\"\n",
      "    },\n",
      "    {\n",
      "      \"date\": \"2020-02-20\",\n",
      "      \"value\": \"1.59\"\n",
      "    },\n",
      "    {\n",
      "      \"date\": \"2020-02-19\",\n",
      "      \"value\": \"1.59\"\n",
      "    }\n",
      "  ]\n",
      "}\n"
     ]
    }
   ],
   "source": [
    "import requests\n",
    "import datetime\n",
    "from datetime import datetime, timedelta\n",
    "import time\n",
    "import csv\n",
    "import json\n",
    "\n",
    "def fetch_federal_funds_rate(api_key, interval='daily', years=5, output_dir=FEDERAL_FUNDS_CACHE):\n",
    "    \"\"\"Fetch Federal Funds Rate data from Alpha Vantage.\n",
    "    \n",
    "    Args:\n",
    "        api_key (str): Alpha Vantage API key\n",
    "        interval (str, optional): Data interval - 'daily', 'weekly' or 'monthly'. Defaults to 'monthly'.\n",
    "        years (int, optional): Number of years of historical data to fetch. Defaults to 5.\n",
    "        \n",
    "    Returns:\n",
    "        dict: Federal Funds Rate data\n",
    "    \"\"\"\n",
    "    base_url = \"https://www.alphavantage.co/query\"\n",
    "    \n",
    "    # Calculate date N years ago\n",
    "    n_years_ago = datetime.now() - timedelta(days=365*years)\n",
    "    time_from = n_years_ago.strftime(\"%Y-%m-%d\")\n",
    "    \n",
    "    params = {\n",
    "        \"function\": \"FEDERAL_FUNDS_RATE\",\n",
    "        \"apikey\": api_key,\n",
    "        \"interval\": interval,\n",
    "        \"outputsize\": \"full\"\n",
    "    }\n",
    "    \n",
    "    try:\n",
    "        # Add rate limiting delay to stay under 75 requests/min\n",
    "        time.sleep(0.8)  # 800ms delay between requests\n",
    "        \n",
    "        response = requests.get(base_url, params=params)\n",
    "        response.raise_for_status()\n",
    "        data = response.json()\n",
    "        \n",
    "        # Filter data for last N years\n",
    "        if data and 'data' in data:\n",
    "            filtered_data = [d for d in data['data'] if d['date'] >= time_from]\n",
    "            data['data'] = filtered_data\n",
    "            \n",
    "        # Save to CSV\n",
    "        data_file = output_dir / f\"federal_funds_{interval}.csv\"\n",
    "        with open(data_file, \"w\", newline='') as f:\n",
    "            if data and 'data' in data:\n",
    "                writer = csv.DictWriter(f, fieldnames=['date', 'value'])\n",
    "                writer.writeheader()\n",
    "                for row in data['data']:\n",
    "                    writer.writerow(row)\n",
    "            \n",
    "        return data \n",
    "    except requests.exceptions.RequestException as e:\n",
    "        print(f\"Error fetching federal funds rate data: {e}\")\n",
    "        return None\n",
    "\n",
    "# Example usage\n",
    "fed_funds_rate = fetch_federal_funds_rate(ALPHA_VANTAGE_API_KEY, interval='daily', years=5)\n",
    "if fed_funds_rate:\n",
    "    print(json.dumps(fed_funds_rate, indent=2))\n"
   ]
  },
  {
   "cell_type": "code",
   "execution_count": null,
   "metadata": {},
   "outputs": [],
   "source": []
  }
 ],
 "metadata": {
  "kernelspec": {
   "display_name": "venv",
   "language": "python",
   "name": "python3"
  },
  "language_info": {
   "codemirror_mode": {
    "name": "ipython",
    "version": 3
   },
   "file_extension": ".py",
   "mimetype": "text/x-python",
   "name": "python",
   "nbconvert_exporter": "python",
   "pygments_lexer": "ipython3",
   "version": "3.12.8"
  }
 },
 "nbformat": 4,
 "nbformat_minor": 2
}
